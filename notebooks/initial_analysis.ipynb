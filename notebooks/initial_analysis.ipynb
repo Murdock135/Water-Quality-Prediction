{
 "cells": [
  {
   "cell_type": "code",
   "execution_count": 206,
   "metadata": {
    "collapsed": true,
    "pycharm": {
     "name": "#%%\n"
    }
   },
   "outputs": [],
   "source": [
    "import pandas as pd\n",
    "import os\n",
    "import sys\n",
    "import missingno as msno"
   ]
  },
  {
   "cell_type": "markdown",
   "source": [
    "# Importing the data"
   ],
   "metadata": {
    "collapsed": false,
    "pycharm": {
     "name": "#%% md\n"
    }
   }
  },
  {
   "cell_type": "code",
   "execution_count": 207,
   "outputs": [
    {
     "data": {
      "text/plain": "'C:\\\\Users\\\\kople\\\\Documents\\\\Personal Git repos\\\\Water-Quality-Prediction\\\\notebooks'"
     },
     "execution_count": 207,
     "metadata": {},
     "output_type": "execute_result"
    }
   ],
   "source": [
    "os.getcwd()"
   ],
   "metadata": {
    "collapsed": false,
    "pycharm": {
     "name": "#%%\n"
    }
   }
  },
  {
   "cell_type": "code",
   "execution_count": 208,
   "outputs": [],
   "source": [
    "df = pd.read_csv('C:/Users/kople/Documents/Personal Git repos/Water-Quality-Prediction/data/raw/water_dataX.csv',encoding='ISO-8859-1')"
   ],
   "metadata": {
    "collapsed": false,
    "pycharm": {
     "name": "#%%\n"
    }
   }
  },
  {
   "cell_type": "code",
   "execution_count": 209,
   "outputs": [
    {
     "data": {
      "text/plain": "     STATION CODE                                          LOCATIONS  \\\n0            1393               DAMANGANGA AT D/S OF MADHUBAN, DAMAN   \n1            1399  ZUARI AT D/S OF PT. WHERE KUMBARJRIA CANAL JOI...   \n2            1475                                ZUARI AT PANCHAWADI   \n3            3181                        RIVER ZUARI AT BORIM BRIDGE   \n4            3182                       RIVER ZUARI AT MARCAIM JETTY   \n...           ...                                                ...   \n1986         1330            TAMBIRAPARANI AT ARUMUGANERI, TAMILNADU   \n1987         1450  PALAR AT VANIYAMBADI WATER SUPPLY HEAD WORK, T...   \n1988         1403                 GUMTI AT U/S SOUTH TRIPURA,TRIPURA   \n1989         1404                GUMTI AT D/S SOUTH TRIPURA, TRIPURA   \n1990         1726   CHANDRAPUR, AGARTALA D/S OF HAORA RIVER, TRIPURA   \n\n            STATE  Temp D.O. (mg/l)   PH CONDUCTIVITY (µmhos/cm)  \\\n0     DAMAN & DIU  30.6         6.7  7.5                     203   \n1             GOA  29.8         5.7  7.2                     189   \n2             GOA  29.5         6.3  6.9                     179   \n3             GOA  29.7         5.8  6.9                      64   \n4             GOA  29.5         5.8  7.3                      83   \n...           ...   ...         ...  ...                     ...   \n1986          NAN   NAN         7.9  738                     7.2   \n1987          NAN    29         7.5  585                     6.3   \n1988          NAN    28         7.6   98                     6.2   \n1989          NAN    28         7.7   91                     6.5   \n1990          NAN    29         7.6  110                     5.7   \n\n     B.O.D. (mg/l) NITRATENAN N+ NITRITENANN (mg/l)  \\\n0              NAN                              0.1   \n1                2                              0.2   \n2              1.7                              0.1   \n3              3.8                              0.5   \n4              1.9                              0.4   \n...            ...                              ...   \n1986           2.7                            0.518   \n1987           2.6                            0.155   \n1988           1.2                              NAN   \n1989           1.3                              NAN   \n1990           1.1                              NAN   \n\n     FECAL COLIFORM (MPN/100ml) TOTAL COLIFORM (MPN/100ml)Mean  year  \n0                            11                             27  2014  \n1                          4953                           8391  2014  \n2                          3243                           5330  2014  \n3                          5382                           8443  2014  \n4                          3428                           5500  2014  \n...                         ...                            ...   ...  \n1986                      0.518                            202  2003  \n1987                      0.155                            315  2003  \n1988                        NAN                            570  2003  \n1989                        NAN                            562  2003  \n1990                        NAN                            546  2003  \n\n[1991 rows x 12 columns]",
      "text/html": "<div>\n<style scoped>\n    .dataframe tbody tr th:only-of-type {\n        vertical-align: middle;\n    }\n\n    .dataframe tbody tr th {\n        vertical-align: top;\n    }\n\n    .dataframe thead th {\n        text-align: right;\n    }\n</style>\n<table border=\"1\" class=\"dataframe\">\n  <thead>\n    <tr style=\"text-align: right;\">\n      <th></th>\n      <th>STATION CODE</th>\n      <th>LOCATIONS</th>\n      <th>STATE</th>\n      <th>Temp</th>\n      <th>D.O. (mg/l)</th>\n      <th>PH</th>\n      <th>CONDUCTIVITY (µmhos/cm)</th>\n      <th>B.O.D. (mg/l)</th>\n      <th>NITRATENAN N+ NITRITENANN (mg/l)</th>\n      <th>FECAL COLIFORM (MPN/100ml)</th>\n      <th>TOTAL COLIFORM (MPN/100ml)Mean</th>\n      <th>year</th>\n    </tr>\n  </thead>\n  <tbody>\n    <tr>\n      <th>0</th>\n      <td>1393</td>\n      <td>DAMANGANGA AT D/S OF MADHUBAN, DAMAN</td>\n      <td>DAMAN &amp; DIU</td>\n      <td>30.6</td>\n      <td>6.7</td>\n      <td>7.5</td>\n      <td>203</td>\n      <td>NAN</td>\n      <td>0.1</td>\n      <td>11</td>\n      <td>27</td>\n      <td>2014</td>\n    </tr>\n    <tr>\n      <th>1</th>\n      <td>1399</td>\n      <td>ZUARI AT D/S OF PT. WHERE KUMBARJRIA CANAL JOI...</td>\n      <td>GOA</td>\n      <td>29.8</td>\n      <td>5.7</td>\n      <td>7.2</td>\n      <td>189</td>\n      <td>2</td>\n      <td>0.2</td>\n      <td>4953</td>\n      <td>8391</td>\n      <td>2014</td>\n    </tr>\n    <tr>\n      <th>2</th>\n      <td>1475</td>\n      <td>ZUARI AT PANCHAWADI</td>\n      <td>GOA</td>\n      <td>29.5</td>\n      <td>6.3</td>\n      <td>6.9</td>\n      <td>179</td>\n      <td>1.7</td>\n      <td>0.1</td>\n      <td>3243</td>\n      <td>5330</td>\n      <td>2014</td>\n    </tr>\n    <tr>\n      <th>3</th>\n      <td>3181</td>\n      <td>RIVER ZUARI AT BORIM BRIDGE</td>\n      <td>GOA</td>\n      <td>29.7</td>\n      <td>5.8</td>\n      <td>6.9</td>\n      <td>64</td>\n      <td>3.8</td>\n      <td>0.5</td>\n      <td>5382</td>\n      <td>8443</td>\n      <td>2014</td>\n    </tr>\n    <tr>\n      <th>4</th>\n      <td>3182</td>\n      <td>RIVER ZUARI AT MARCAIM JETTY</td>\n      <td>GOA</td>\n      <td>29.5</td>\n      <td>5.8</td>\n      <td>7.3</td>\n      <td>83</td>\n      <td>1.9</td>\n      <td>0.4</td>\n      <td>3428</td>\n      <td>5500</td>\n      <td>2014</td>\n    </tr>\n    <tr>\n      <th>...</th>\n      <td>...</td>\n      <td>...</td>\n      <td>...</td>\n      <td>...</td>\n      <td>...</td>\n      <td>...</td>\n      <td>...</td>\n      <td>...</td>\n      <td>...</td>\n      <td>...</td>\n      <td>...</td>\n      <td>...</td>\n    </tr>\n    <tr>\n      <th>1986</th>\n      <td>1330</td>\n      <td>TAMBIRAPARANI AT ARUMUGANERI, TAMILNADU</td>\n      <td>NAN</td>\n      <td>NAN</td>\n      <td>7.9</td>\n      <td>738</td>\n      <td>7.2</td>\n      <td>2.7</td>\n      <td>0.518</td>\n      <td>0.518</td>\n      <td>202</td>\n      <td>2003</td>\n    </tr>\n    <tr>\n      <th>1987</th>\n      <td>1450</td>\n      <td>PALAR AT VANIYAMBADI WATER SUPPLY HEAD WORK, T...</td>\n      <td>NAN</td>\n      <td>29</td>\n      <td>7.5</td>\n      <td>585</td>\n      <td>6.3</td>\n      <td>2.6</td>\n      <td>0.155</td>\n      <td>0.155</td>\n      <td>315</td>\n      <td>2003</td>\n    </tr>\n    <tr>\n      <th>1988</th>\n      <td>1403</td>\n      <td>GUMTI AT U/S SOUTH TRIPURA,TRIPURA</td>\n      <td>NAN</td>\n      <td>28</td>\n      <td>7.6</td>\n      <td>98</td>\n      <td>6.2</td>\n      <td>1.2</td>\n      <td>NAN</td>\n      <td>NAN</td>\n      <td>570</td>\n      <td>2003</td>\n    </tr>\n    <tr>\n      <th>1989</th>\n      <td>1404</td>\n      <td>GUMTI AT D/S SOUTH TRIPURA, TRIPURA</td>\n      <td>NAN</td>\n      <td>28</td>\n      <td>7.7</td>\n      <td>91</td>\n      <td>6.5</td>\n      <td>1.3</td>\n      <td>NAN</td>\n      <td>NAN</td>\n      <td>562</td>\n      <td>2003</td>\n    </tr>\n    <tr>\n      <th>1990</th>\n      <td>1726</td>\n      <td>CHANDRAPUR, AGARTALA D/S OF HAORA RIVER, TRIPURA</td>\n      <td>NAN</td>\n      <td>29</td>\n      <td>7.6</td>\n      <td>110</td>\n      <td>5.7</td>\n      <td>1.1</td>\n      <td>NAN</td>\n      <td>NAN</td>\n      <td>546</td>\n      <td>2003</td>\n    </tr>\n  </tbody>\n</table>\n<p>1991 rows × 12 columns</p>\n</div>"
     },
     "execution_count": 209,
     "metadata": {},
     "output_type": "execute_result"
    }
   ],
   "source": [
    "df"
   ],
   "metadata": {
    "collapsed": false,
    "pycharm": {
     "name": "#%%\n"
    }
   }
  },
  {
   "cell_type": "code",
   "execution_count": 210,
   "outputs": [
    {
     "name": "stdout",
     "output_type": "stream",
     "text": [
      "<class 'pandas.core.frame.DataFrame'>\n",
      "RangeIndex: 1991 entries, 0 to 1990\n",
      "Data columns (total 12 columns):\n",
      " #   Column                            Non-Null Count  Dtype \n",
      "---  ------                            --------------  ----- \n",
      " 0   STATION CODE                      1991 non-null   object\n",
      " 1   LOCATIONS                         1991 non-null   object\n",
      " 2   STATE                             1991 non-null   object\n",
      " 3   Temp                              1991 non-null   object\n",
      " 4   D.O. (mg/l)                       1991 non-null   object\n",
      " 5   PH                                1991 non-null   object\n",
      " 6   CONDUCTIVITY (µmhos/cm)           1991 non-null   object\n",
      " 7   B.O.D. (mg/l)                     1991 non-null   object\n",
      " 8   NITRATENAN N+ NITRITENANN (mg/l)  1991 non-null   object\n",
      " 9   FECAL COLIFORM (MPN/100ml)        1991 non-null   object\n",
      " 10  TOTAL COLIFORM (MPN/100ml)Mean    1991 non-null   object\n",
      " 11  year                              1991 non-null   int64 \n",
      "dtypes: int64(1), object(11)\n",
      "memory usage: 186.8+ KB\n"
     ]
    }
   ],
   "source": [
    "df.info()"
   ],
   "metadata": {
    "collapsed": false,
    "pycharm": {
     "name": "#%%\n"
    }
   }
  },
  {
   "cell_type": "markdown",
   "source": [
    "# EDA on Indian dataset"
   ],
   "metadata": {
    "collapsed": false,
    "pycharm": {
     "name": "#%% md\n"
    }
   }
  },
  {
   "cell_type": "code",
   "execution_count": 211,
   "outputs": [
    {
     "data": {
      "text/plain": "STATION CODE                        object\nLOCATIONS                           object\nSTATE                               object\nTemp                                object\nD.O. (mg/l)                         object\nPH                                  object\nCONDUCTIVITY (µmhos/cm)             object\nB.O.D. (mg/l)                       object\nNITRATENAN N+ NITRITENANN (mg/l)    object\nFECAL COLIFORM (MPN/100ml)          object\nTOTAL COLIFORM (MPN/100ml)Mean      object\nyear                                 int64\ndtype: object"
     },
     "execution_count": 211,
     "metadata": {},
     "output_type": "execute_result"
    }
   ],
   "source": [
    "df.dtypes"
   ],
   "metadata": {
    "collapsed": false,
    "pycharm": {
     "name": "#%%\n"
    }
   }
  },
  {
   "cell_type": "markdown",
   "source": [
    "Converting the columns to numeric type"
   ],
   "metadata": {
    "collapsed": false,
    "pycharm": {
     "name": "#%% md\n"
    }
   }
  },
  {
   "cell_type": "code",
   "execution_count": 212,
   "outputs": [],
   "source": [
    "df['STATION CODE']= pd.to_numeric(df['STATION CODE'],errors='coerce')"
   ],
   "metadata": {
    "collapsed": false,
    "pycharm": {
     "name": "#%%\n"
    }
   }
  },
  {
   "cell_type": "code",
   "execution_count": 213,
   "outputs": [
    {
     "data": {
      "text/plain": "      STATION CODE                                          LOCATIONS STATE  \\\n260            NaN                                                NAN   NAN   \n431            NaN                                                NAN   NAN   \n1782           NaN            NAGAVALLI AT THOTAPALLI REGULATOR, A.P.   NAN   \n1783           NaN               DAMANGANGA AT D/S OF MADHUBAN, DAMAN   NAN   \n1784           NaN   DAMANGANGA  AFTER CONFL. OF PIPARIA DRAIN, DAMAN   NAN   \n...            ...                                                ...   ...   \n1897           NaN  PALAR AT VANIYAMBADI WATER SUPPLY HEAD WORK, T...   NAN   \n1898           NaN                 GUMTI AT U/S SOUTH TRIPURA,TRIPURA   NAN   \n1899           NaN                GUMTI AT D/S SOUTH TRIPURA, TRIPURA   NAN   \n1900           NaN   CHANDRAPUR, AGARTALA D/S OF HAORA RIVER, TRIPURA   NAN   \n1912           NaN                                                NAN   NAN   \n\n     Temp D.O. (mg/l)    PH CONDUCTIVITY (µmhos/cm) B.O.D. (mg/l)  \\\n260   NAN         NAN   NAN                     NAN           NAN   \n431   NAN         NAN   NAN                     NAN           NAN   \n1782   28         5.6  7.65                   375.2         1.758   \n1783  NAN         NAN  7.76                   233.3        10.825   \n1784  NAN         NAN   NAN                     NAN             1   \n...   ...         ...   ...                     ...           ...   \n1897   28         6.6  7.49                   571.5         2.091   \n1898   28         5.4  7.16                    75.8         2.092   \n1899   30         5.4  7.37                   104.8         1.802   \n1900   29         5.3  7.37                   102.2         2.552   \n1912  NAN         NAN   NAN                     NAN           NAN   \n\n     NITRATENAN N+ NITRITENANN (mg/l) FECAL COLIFORM (MPN/100ml)  \\\n260                               NAN                        NAN   \n431                               NAN                        NAN   \n1782                            1.995                       2636   \n1783                            5.657                        NAN   \n1784                             1.01                       1200   \n...                               ...                        ...   \n1897                            0.256                        151   \n1898                              NAN                        404   \n1899                            0.215                        456   \n1900                            0.202                        526   \n1912                              NAN                        NAN   \n\n     TOTAL COLIFORM (MPN/100ml)Mean  year  \n260                             NAN  2013  \n431                             NAN  2013  \n1782                          18417  2005  \n1783                            NAN  2005  \n1784                          37000  2005  \n...                             ...   ...  \n1897                            273  2005  \n1898                            513  2005  \n1899                            557  2005  \n1900                            583  2005  \n1912                            NAN  2003  \n\n[122 rows x 12 columns]",
      "text/html": "<div>\n<style scoped>\n    .dataframe tbody tr th:only-of-type {\n        vertical-align: middle;\n    }\n\n    .dataframe tbody tr th {\n        vertical-align: top;\n    }\n\n    .dataframe thead th {\n        text-align: right;\n    }\n</style>\n<table border=\"1\" class=\"dataframe\">\n  <thead>\n    <tr style=\"text-align: right;\">\n      <th></th>\n      <th>STATION CODE</th>\n      <th>LOCATIONS</th>\n      <th>STATE</th>\n      <th>Temp</th>\n      <th>D.O. (mg/l)</th>\n      <th>PH</th>\n      <th>CONDUCTIVITY (µmhos/cm)</th>\n      <th>B.O.D. (mg/l)</th>\n      <th>NITRATENAN N+ NITRITENANN (mg/l)</th>\n      <th>FECAL COLIFORM (MPN/100ml)</th>\n      <th>TOTAL COLIFORM (MPN/100ml)Mean</th>\n      <th>year</th>\n    </tr>\n  </thead>\n  <tbody>\n    <tr>\n      <th>260</th>\n      <td>NaN</td>\n      <td>NAN</td>\n      <td>NAN</td>\n      <td>NAN</td>\n      <td>NAN</td>\n      <td>NAN</td>\n      <td>NAN</td>\n      <td>NAN</td>\n      <td>NAN</td>\n      <td>NAN</td>\n      <td>NAN</td>\n      <td>2013</td>\n    </tr>\n    <tr>\n      <th>431</th>\n      <td>NaN</td>\n      <td>NAN</td>\n      <td>NAN</td>\n      <td>NAN</td>\n      <td>NAN</td>\n      <td>NAN</td>\n      <td>NAN</td>\n      <td>NAN</td>\n      <td>NAN</td>\n      <td>NAN</td>\n      <td>NAN</td>\n      <td>2013</td>\n    </tr>\n    <tr>\n      <th>1782</th>\n      <td>NaN</td>\n      <td>NAGAVALLI AT THOTAPALLI REGULATOR, A.P.</td>\n      <td>NAN</td>\n      <td>28</td>\n      <td>5.6</td>\n      <td>7.65</td>\n      <td>375.2</td>\n      <td>1.758</td>\n      <td>1.995</td>\n      <td>2636</td>\n      <td>18417</td>\n      <td>2005</td>\n    </tr>\n    <tr>\n      <th>1783</th>\n      <td>NaN</td>\n      <td>DAMANGANGA AT D/S OF MADHUBAN, DAMAN</td>\n      <td>NAN</td>\n      <td>NAN</td>\n      <td>NAN</td>\n      <td>7.76</td>\n      <td>233.3</td>\n      <td>10.825</td>\n      <td>5.657</td>\n      <td>NAN</td>\n      <td>NAN</td>\n      <td>2005</td>\n    </tr>\n    <tr>\n      <th>1784</th>\n      <td>NaN</td>\n      <td>DAMANGANGA  AFTER CONFL. OF PIPARIA DRAIN, DAMAN</td>\n      <td>NAN</td>\n      <td>NAN</td>\n      <td>NAN</td>\n      <td>NAN</td>\n      <td>NAN</td>\n      <td>1</td>\n      <td>1.01</td>\n      <td>1200</td>\n      <td>37000</td>\n      <td>2005</td>\n    </tr>\n    <tr>\n      <th>...</th>\n      <td>...</td>\n      <td>...</td>\n      <td>...</td>\n      <td>...</td>\n      <td>...</td>\n      <td>...</td>\n      <td>...</td>\n      <td>...</td>\n      <td>...</td>\n      <td>...</td>\n      <td>...</td>\n      <td>...</td>\n    </tr>\n    <tr>\n      <th>1897</th>\n      <td>NaN</td>\n      <td>PALAR AT VANIYAMBADI WATER SUPPLY HEAD WORK, T...</td>\n      <td>NAN</td>\n      <td>28</td>\n      <td>6.6</td>\n      <td>7.49</td>\n      <td>571.5</td>\n      <td>2.091</td>\n      <td>0.256</td>\n      <td>151</td>\n      <td>273</td>\n      <td>2005</td>\n    </tr>\n    <tr>\n      <th>1898</th>\n      <td>NaN</td>\n      <td>GUMTI AT U/S SOUTH TRIPURA,TRIPURA</td>\n      <td>NAN</td>\n      <td>28</td>\n      <td>5.4</td>\n      <td>7.16</td>\n      <td>75.8</td>\n      <td>2.092</td>\n      <td>NAN</td>\n      <td>404</td>\n      <td>513</td>\n      <td>2005</td>\n    </tr>\n    <tr>\n      <th>1899</th>\n      <td>NaN</td>\n      <td>GUMTI AT D/S SOUTH TRIPURA, TRIPURA</td>\n      <td>NAN</td>\n      <td>30</td>\n      <td>5.4</td>\n      <td>7.37</td>\n      <td>104.8</td>\n      <td>1.802</td>\n      <td>0.215</td>\n      <td>456</td>\n      <td>557</td>\n      <td>2005</td>\n    </tr>\n    <tr>\n      <th>1900</th>\n      <td>NaN</td>\n      <td>CHANDRAPUR, AGARTALA D/S OF HAORA RIVER, TRIPURA</td>\n      <td>NAN</td>\n      <td>29</td>\n      <td>5.3</td>\n      <td>7.37</td>\n      <td>102.2</td>\n      <td>2.552</td>\n      <td>0.202</td>\n      <td>526</td>\n      <td>583</td>\n      <td>2005</td>\n    </tr>\n    <tr>\n      <th>1912</th>\n      <td>NaN</td>\n      <td>NAN</td>\n      <td>NAN</td>\n      <td>NAN</td>\n      <td>NAN</td>\n      <td>NAN</td>\n      <td>NAN</td>\n      <td>NAN</td>\n      <td>NAN</td>\n      <td>NAN</td>\n      <td>NAN</td>\n      <td>2003</td>\n    </tr>\n  </tbody>\n</table>\n<p>122 rows × 12 columns</p>\n</div>"
     },
     "execution_count": 213,
     "metadata": {},
     "output_type": "execute_result"
    }
   ],
   "source": [
    "df[df['STATION CODE'].isnull()]"
   ],
   "metadata": {
    "collapsed": false,
    "pycharm": {
     "name": "#%%\n"
    }
   }
  },
  {
   "cell_type": "code",
   "execution_count": 214,
   "outputs": [],
   "source": [
    "df['Temp']= pd.to_numeric(df['Temp'],errors='coerce')"
   ],
   "metadata": {
    "collapsed": false,
    "pycharm": {
     "name": "#%%\n"
    }
   }
  },
  {
   "cell_type": "code",
   "execution_count": 215,
   "outputs": [],
   "source": [
    "df['D.O. (mg/l)']= pd.to_numeric(df['D.O. (mg/l)'],errors='coerce')"
   ],
   "metadata": {
    "collapsed": false,
    "pycharm": {
     "name": "#%%\n"
    }
   }
  },
  {
   "cell_type": "code",
   "execution_count": 216,
   "outputs": [],
   "source": [
    "df['PH']= pd.to_numeric(df['PH'],errors='coerce')"
   ],
   "metadata": {
    "collapsed": false,
    "pycharm": {
     "name": "#%%\n"
    }
   }
  },
  {
   "cell_type": "code",
   "execution_count": 217,
   "outputs": [],
   "source": [
    "df['CONDUCTIVITY (µmhos/cm)']= pd.to_numeric(df['CONDUCTIVITY (µmhos/cm)'],errors='coerce')"
   ],
   "metadata": {
    "collapsed": false,
    "pycharm": {
     "name": "#%%\n"
    }
   }
  },
  {
   "cell_type": "code",
   "execution_count": 218,
   "outputs": [],
   "source": [
    "df['B.O.D. (mg/l)']= pd.to_numeric(df['B.O.D. (mg/l)'],errors='coerce')"
   ],
   "metadata": {
    "collapsed": false,
    "pycharm": {
     "name": "#%%\n"
    }
   }
  },
  {
   "cell_type": "code",
   "execution_count": 219,
   "outputs": [],
   "source": [
    "df['NITRATENAN N+ NITRITENANN (mg/l)']= pd.to_numeric(df['NITRATENAN N+ NITRITENANN (mg/l)'],errors='coerce')"
   ],
   "metadata": {
    "collapsed": false,
    "pycharm": {
     "name": "#%%\n"
    }
   }
  },
  {
   "cell_type": "code",
   "execution_count": 220,
   "outputs": [],
   "source": [
    "df['FECAL COLIFORM (MPN/100ml)']= pd.to_numeric(df['FECAL COLIFORM (MPN/100ml)'],errors='coerce')"
   ],
   "metadata": {
    "collapsed": false,
    "pycharm": {
     "name": "#%%\n"
    }
   }
  },
  {
   "cell_type": "code",
   "execution_count": 221,
   "outputs": [],
   "source": [
    "df['TOTAL COLIFORM (MPN/100ml)Mean']= pd.to_numeric(df['TOTAL COLIFORM (MPN/100ml)Mean'],errors='coerce')"
   ],
   "metadata": {
    "collapsed": false,
    "pycharm": {
     "name": "#%%\n"
    }
   }
  },
  {
   "cell_type": "code",
   "execution_count": 222,
   "outputs": [
    {
     "data": {
      "text/plain": "STATION CODE                        float64\nLOCATIONS                            object\nSTATE                                object\nTemp                                float64\nD.O. (mg/l)                         float64\nPH                                  float64\nCONDUCTIVITY (µmhos/cm)             float64\nB.O.D. (mg/l)                       float64\nNITRATENAN N+ NITRITENANN (mg/l)    float64\nFECAL COLIFORM (MPN/100ml)          float64\nTOTAL COLIFORM (MPN/100ml)Mean      float64\nyear                                  int64\ndtype: object"
     },
     "execution_count": 222,
     "metadata": {},
     "output_type": "execute_result"
    }
   ],
   "source": [
    "df.dtypes"
   ],
   "metadata": {
    "collapsed": false,
    "pycharm": {
     "name": "#%%\n"
    }
   }
  },
  {
   "cell_type": "code",
   "execution_count": 223,
   "outputs": [
    {
     "data": {
      "text/plain": "      STATION CODE                                          LOCATIONS  \\\n0           1393.0               DAMANGANGA AT D/S OF MADHUBAN, DAMAN   \n1           1399.0  ZUARI AT D/S OF PT. WHERE KUMBARJRIA CANAL JOI...   \n2           1475.0                                ZUARI AT PANCHAWADI   \n3           3181.0                        RIVER ZUARI AT BORIM BRIDGE   \n4           3182.0                       RIVER ZUARI AT MARCAIM JETTY   \n...            ...                                                ...   \n1986        1330.0            TAMBIRAPARANI AT ARUMUGANERI, TAMILNADU   \n1987        1450.0  PALAR AT VANIYAMBADI WATER SUPPLY HEAD WORK, T...   \n1988        1403.0                 GUMTI AT U/S SOUTH TRIPURA,TRIPURA   \n1989        1404.0                GUMTI AT D/S SOUTH TRIPURA, TRIPURA   \n1990        1726.0   CHANDRAPUR, AGARTALA D/S OF HAORA RIVER, TRIPURA   \n\n            STATE  Temp  D.O. (mg/l)     PH  CONDUCTIVITY (µmhos/cm)  \\\n0     DAMAN & DIU  30.6          6.7    7.5                    203.0   \n1             GOA  29.8          5.7    7.2                    189.0   \n2             GOA  29.5          6.3    6.9                    179.0   \n3             GOA  29.7          5.8    6.9                     64.0   \n4             GOA  29.5          5.8    7.3                     83.0   \n...           ...   ...          ...    ...                      ...   \n1986          NAN   NaN          7.9  738.0                      7.2   \n1987          NAN  29.0          7.5  585.0                      6.3   \n1988          NAN  28.0          7.6   98.0                      6.2   \n1989          NAN  28.0          7.7   91.0                      6.5   \n1990          NAN  29.0          7.6  110.0                      5.7   \n\n      B.O.D. (mg/l)  NITRATENAN N+ NITRITENANN (mg/l)  \\\n0               NaN                             0.100   \n1               2.0                             0.200   \n2               1.7                             0.100   \n3               3.8                             0.500   \n4               1.9                             0.400   \n...             ...                               ...   \n1986            2.7                             0.518   \n1987            2.6                             0.155   \n1988            1.2                               NaN   \n1989            1.3                               NaN   \n1990            1.1                               NaN   \n\n      FECAL COLIFORM (MPN/100ml)  TOTAL COLIFORM (MPN/100ml)Mean  year  \n0                         11.000                            27.0  2014  \n1                       4953.000                          8391.0  2014  \n2                       3243.000                          5330.0  2014  \n3                       5382.000                          8443.0  2014  \n4                       3428.000                          5500.0  2014  \n...                          ...                             ...   ...  \n1986                       0.518                           202.0  2003  \n1987                       0.155                           315.0  2003  \n1988                         NaN                           570.0  2003  \n1989                         NaN                           562.0  2003  \n1990                         NaN                           546.0  2003  \n\n[1991 rows x 12 columns]",
      "text/html": "<div>\n<style scoped>\n    .dataframe tbody tr th:only-of-type {\n        vertical-align: middle;\n    }\n\n    .dataframe tbody tr th {\n        vertical-align: top;\n    }\n\n    .dataframe thead th {\n        text-align: right;\n    }\n</style>\n<table border=\"1\" class=\"dataframe\">\n  <thead>\n    <tr style=\"text-align: right;\">\n      <th></th>\n      <th>STATION CODE</th>\n      <th>LOCATIONS</th>\n      <th>STATE</th>\n      <th>Temp</th>\n      <th>D.O. (mg/l)</th>\n      <th>PH</th>\n      <th>CONDUCTIVITY (µmhos/cm)</th>\n      <th>B.O.D. (mg/l)</th>\n      <th>NITRATENAN N+ NITRITENANN (mg/l)</th>\n      <th>FECAL COLIFORM (MPN/100ml)</th>\n      <th>TOTAL COLIFORM (MPN/100ml)Mean</th>\n      <th>year</th>\n    </tr>\n  </thead>\n  <tbody>\n    <tr>\n      <th>0</th>\n      <td>1393.0</td>\n      <td>DAMANGANGA AT D/S OF MADHUBAN, DAMAN</td>\n      <td>DAMAN &amp; DIU</td>\n      <td>30.6</td>\n      <td>6.7</td>\n      <td>7.5</td>\n      <td>203.0</td>\n      <td>NaN</td>\n      <td>0.100</td>\n      <td>11.000</td>\n      <td>27.0</td>\n      <td>2014</td>\n    </tr>\n    <tr>\n      <th>1</th>\n      <td>1399.0</td>\n      <td>ZUARI AT D/S OF PT. WHERE KUMBARJRIA CANAL JOI...</td>\n      <td>GOA</td>\n      <td>29.8</td>\n      <td>5.7</td>\n      <td>7.2</td>\n      <td>189.0</td>\n      <td>2.0</td>\n      <td>0.200</td>\n      <td>4953.000</td>\n      <td>8391.0</td>\n      <td>2014</td>\n    </tr>\n    <tr>\n      <th>2</th>\n      <td>1475.0</td>\n      <td>ZUARI AT PANCHAWADI</td>\n      <td>GOA</td>\n      <td>29.5</td>\n      <td>6.3</td>\n      <td>6.9</td>\n      <td>179.0</td>\n      <td>1.7</td>\n      <td>0.100</td>\n      <td>3243.000</td>\n      <td>5330.0</td>\n      <td>2014</td>\n    </tr>\n    <tr>\n      <th>3</th>\n      <td>3181.0</td>\n      <td>RIVER ZUARI AT BORIM BRIDGE</td>\n      <td>GOA</td>\n      <td>29.7</td>\n      <td>5.8</td>\n      <td>6.9</td>\n      <td>64.0</td>\n      <td>3.8</td>\n      <td>0.500</td>\n      <td>5382.000</td>\n      <td>8443.0</td>\n      <td>2014</td>\n    </tr>\n    <tr>\n      <th>4</th>\n      <td>3182.0</td>\n      <td>RIVER ZUARI AT MARCAIM JETTY</td>\n      <td>GOA</td>\n      <td>29.5</td>\n      <td>5.8</td>\n      <td>7.3</td>\n      <td>83.0</td>\n      <td>1.9</td>\n      <td>0.400</td>\n      <td>3428.000</td>\n      <td>5500.0</td>\n      <td>2014</td>\n    </tr>\n    <tr>\n      <th>...</th>\n      <td>...</td>\n      <td>...</td>\n      <td>...</td>\n      <td>...</td>\n      <td>...</td>\n      <td>...</td>\n      <td>...</td>\n      <td>...</td>\n      <td>...</td>\n      <td>...</td>\n      <td>...</td>\n      <td>...</td>\n    </tr>\n    <tr>\n      <th>1986</th>\n      <td>1330.0</td>\n      <td>TAMBIRAPARANI AT ARUMUGANERI, TAMILNADU</td>\n      <td>NAN</td>\n      <td>NaN</td>\n      <td>7.9</td>\n      <td>738.0</td>\n      <td>7.2</td>\n      <td>2.7</td>\n      <td>0.518</td>\n      <td>0.518</td>\n      <td>202.0</td>\n      <td>2003</td>\n    </tr>\n    <tr>\n      <th>1987</th>\n      <td>1450.0</td>\n      <td>PALAR AT VANIYAMBADI WATER SUPPLY HEAD WORK, T...</td>\n      <td>NAN</td>\n      <td>29.0</td>\n      <td>7.5</td>\n      <td>585.0</td>\n      <td>6.3</td>\n      <td>2.6</td>\n      <td>0.155</td>\n      <td>0.155</td>\n      <td>315.0</td>\n      <td>2003</td>\n    </tr>\n    <tr>\n      <th>1988</th>\n      <td>1403.0</td>\n      <td>GUMTI AT U/S SOUTH TRIPURA,TRIPURA</td>\n      <td>NAN</td>\n      <td>28.0</td>\n      <td>7.6</td>\n      <td>98.0</td>\n      <td>6.2</td>\n      <td>1.2</td>\n      <td>NaN</td>\n      <td>NaN</td>\n      <td>570.0</td>\n      <td>2003</td>\n    </tr>\n    <tr>\n      <th>1989</th>\n      <td>1404.0</td>\n      <td>GUMTI AT D/S SOUTH TRIPURA, TRIPURA</td>\n      <td>NAN</td>\n      <td>28.0</td>\n      <td>7.7</td>\n      <td>91.0</td>\n      <td>6.5</td>\n      <td>1.3</td>\n      <td>NaN</td>\n      <td>NaN</td>\n      <td>562.0</td>\n      <td>2003</td>\n    </tr>\n    <tr>\n      <th>1990</th>\n      <td>1726.0</td>\n      <td>CHANDRAPUR, AGARTALA D/S OF HAORA RIVER, TRIPURA</td>\n      <td>NAN</td>\n      <td>29.0</td>\n      <td>7.6</td>\n      <td>110.0</td>\n      <td>5.7</td>\n      <td>1.1</td>\n      <td>NaN</td>\n      <td>NaN</td>\n      <td>546.0</td>\n      <td>2003</td>\n    </tr>\n  </tbody>\n</table>\n<p>1991 rows × 12 columns</p>\n</div>"
     },
     "execution_count": 223,
     "metadata": {},
     "output_type": "execute_result"
    }
   ],
   "source": [
    "df"
   ],
   "metadata": {
    "collapsed": false,
    "pycharm": {
     "name": "#%%\n"
    }
   }
  },
  {
   "cell_type": "markdown",
   "source": [
    "# Renaming columns"
   ],
   "metadata": {
    "collapsed": false,
    "pycharm": {
     "name": "#%% md\n"
    }
   }
  },
  {
   "cell_type": "code",
   "execution_count": 224,
   "outputs": [],
   "source": [
    "df.rename(columns={\"STATION CODE\":\"station\",\"LOCATIONS\":\"location\",\"STATE\":\"state\",\"D.O. (mg/l)\":\"do\",\"PH\":\"ph\",\"CONDUCTIVITY (µmhos/cm)\":\"conductivity\",\"B.O.D. (mg/l)\":\"BOD\",\"NITRATENAN N+ NITRITENANN (mg/l)\":\"nn\",\"FECAL COLIFORM (MPN/100ml)\":\"fecal_coliform\",\"TOTAL COLIFORM (MPN/100ml)Mean\":\"total_coliform_mean\"}, inplace=True)"
   ],
   "metadata": {
    "collapsed": false,
    "pycharm": {
     "name": "#%%\n"
    }
   }
  },
  {
   "cell_type": "code",
   "execution_count": 225,
   "outputs": [
    {
     "data": {
      "text/plain": "      station                                           location        state  \\\n0      1393.0               DAMANGANGA AT D/S OF MADHUBAN, DAMAN  DAMAN & DIU   \n1      1399.0  ZUARI AT D/S OF PT. WHERE KUMBARJRIA CANAL JOI...          GOA   \n2      1475.0                                ZUARI AT PANCHAWADI          GOA   \n3      3181.0                        RIVER ZUARI AT BORIM BRIDGE          GOA   \n4      3182.0                       RIVER ZUARI AT MARCAIM JETTY          GOA   \n...       ...                                                ...          ...   \n1986   1330.0            TAMBIRAPARANI AT ARUMUGANERI, TAMILNADU          NAN   \n1987   1450.0  PALAR AT VANIYAMBADI WATER SUPPLY HEAD WORK, T...          NAN   \n1988   1403.0                 GUMTI AT U/S SOUTH TRIPURA,TRIPURA          NAN   \n1989   1404.0                GUMTI AT D/S SOUTH TRIPURA, TRIPURA          NAN   \n1990   1726.0   CHANDRAPUR, AGARTALA D/S OF HAORA RIVER, TRIPURA          NAN   \n\n      Temp   do     ph  conductivity  BOD     nn  fecal_coliform  \\\n0     30.6  6.7    7.5         203.0  NaN  0.100          11.000   \n1     29.8  5.7    7.2         189.0  2.0  0.200        4953.000   \n2     29.5  6.3    6.9         179.0  1.7  0.100        3243.000   \n3     29.7  5.8    6.9          64.0  3.8  0.500        5382.000   \n4     29.5  5.8    7.3          83.0  1.9  0.400        3428.000   \n...    ...  ...    ...           ...  ...    ...             ...   \n1986   NaN  7.9  738.0           7.2  2.7  0.518           0.518   \n1987  29.0  7.5  585.0           6.3  2.6  0.155           0.155   \n1988  28.0  7.6   98.0           6.2  1.2    NaN             NaN   \n1989  28.0  7.7   91.0           6.5  1.3    NaN             NaN   \n1990  29.0  7.6  110.0           5.7  1.1    NaN             NaN   \n\n      total_coliform_mean  year  \n0                    27.0  2014  \n1                  8391.0  2014  \n2                  5330.0  2014  \n3                  8443.0  2014  \n4                  5500.0  2014  \n...                   ...   ...  \n1986                202.0  2003  \n1987                315.0  2003  \n1988                570.0  2003  \n1989                562.0  2003  \n1990                546.0  2003  \n\n[1991 rows x 12 columns]",
      "text/html": "<div>\n<style scoped>\n    .dataframe tbody tr th:only-of-type {\n        vertical-align: middle;\n    }\n\n    .dataframe tbody tr th {\n        vertical-align: top;\n    }\n\n    .dataframe thead th {\n        text-align: right;\n    }\n</style>\n<table border=\"1\" class=\"dataframe\">\n  <thead>\n    <tr style=\"text-align: right;\">\n      <th></th>\n      <th>station</th>\n      <th>location</th>\n      <th>state</th>\n      <th>Temp</th>\n      <th>do</th>\n      <th>ph</th>\n      <th>conductivity</th>\n      <th>BOD</th>\n      <th>nn</th>\n      <th>fecal_coliform</th>\n      <th>total_coliform_mean</th>\n      <th>year</th>\n    </tr>\n  </thead>\n  <tbody>\n    <tr>\n      <th>0</th>\n      <td>1393.0</td>\n      <td>DAMANGANGA AT D/S OF MADHUBAN, DAMAN</td>\n      <td>DAMAN &amp; DIU</td>\n      <td>30.6</td>\n      <td>6.7</td>\n      <td>7.5</td>\n      <td>203.0</td>\n      <td>NaN</td>\n      <td>0.100</td>\n      <td>11.000</td>\n      <td>27.0</td>\n      <td>2014</td>\n    </tr>\n    <tr>\n      <th>1</th>\n      <td>1399.0</td>\n      <td>ZUARI AT D/S OF PT. WHERE KUMBARJRIA CANAL JOI...</td>\n      <td>GOA</td>\n      <td>29.8</td>\n      <td>5.7</td>\n      <td>7.2</td>\n      <td>189.0</td>\n      <td>2.0</td>\n      <td>0.200</td>\n      <td>4953.000</td>\n      <td>8391.0</td>\n      <td>2014</td>\n    </tr>\n    <tr>\n      <th>2</th>\n      <td>1475.0</td>\n      <td>ZUARI AT PANCHAWADI</td>\n      <td>GOA</td>\n      <td>29.5</td>\n      <td>6.3</td>\n      <td>6.9</td>\n      <td>179.0</td>\n      <td>1.7</td>\n      <td>0.100</td>\n      <td>3243.000</td>\n      <td>5330.0</td>\n      <td>2014</td>\n    </tr>\n    <tr>\n      <th>3</th>\n      <td>3181.0</td>\n      <td>RIVER ZUARI AT BORIM BRIDGE</td>\n      <td>GOA</td>\n      <td>29.7</td>\n      <td>5.8</td>\n      <td>6.9</td>\n      <td>64.0</td>\n      <td>3.8</td>\n      <td>0.500</td>\n      <td>5382.000</td>\n      <td>8443.0</td>\n      <td>2014</td>\n    </tr>\n    <tr>\n      <th>4</th>\n      <td>3182.0</td>\n      <td>RIVER ZUARI AT MARCAIM JETTY</td>\n      <td>GOA</td>\n      <td>29.5</td>\n      <td>5.8</td>\n      <td>7.3</td>\n      <td>83.0</td>\n      <td>1.9</td>\n      <td>0.400</td>\n      <td>3428.000</td>\n      <td>5500.0</td>\n      <td>2014</td>\n    </tr>\n    <tr>\n      <th>...</th>\n      <td>...</td>\n      <td>...</td>\n      <td>...</td>\n      <td>...</td>\n      <td>...</td>\n      <td>...</td>\n      <td>...</td>\n      <td>...</td>\n      <td>...</td>\n      <td>...</td>\n      <td>...</td>\n      <td>...</td>\n    </tr>\n    <tr>\n      <th>1986</th>\n      <td>1330.0</td>\n      <td>TAMBIRAPARANI AT ARUMUGANERI, TAMILNADU</td>\n      <td>NAN</td>\n      <td>NaN</td>\n      <td>7.9</td>\n      <td>738.0</td>\n      <td>7.2</td>\n      <td>2.7</td>\n      <td>0.518</td>\n      <td>0.518</td>\n      <td>202.0</td>\n      <td>2003</td>\n    </tr>\n    <tr>\n      <th>1987</th>\n      <td>1450.0</td>\n      <td>PALAR AT VANIYAMBADI WATER SUPPLY HEAD WORK, T...</td>\n      <td>NAN</td>\n      <td>29.0</td>\n      <td>7.5</td>\n      <td>585.0</td>\n      <td>6.3</td>\n      <td>2.6</td>\n      <td>0.155</td>\n      <td>0.155</td>\n      <td>315.0</td>\n      <td>2003</td>\n    </tr>\n    <tr>\n      <th>1988</th>\n      <td>1403.0</td>\n      <td>GUMTI AT U/S SOUTH TRIPURA,TRIPURA</td>\n      <td>NAN</td>\n      <td>28.0</td>\n      <td>7.6</td>\n      <td>98.0</td>\n      <td>6.2</td>\n      <td>1.2</td>\n      <td>NaN</td>\n      <td>NaN</td>\n      <td>570.0</td>\n      <td>2003</td>\n    </tr>\n    <tr>\n      <th>1989</th>\n      <td>1404.0</td>\n      <td>GUMTI AT D/S SOUTH TRIPURA, TRIPURA</td>\n      <td>NAN</td>\n      <td>28.0</td>\n      <td>7.7</td>\n      <td>91.0</td>\n      <td>6.5</td>\n      <td>1.3</td>\n      <td>NaN</td>\n      <td>NaN</td>\n      <td>562.0</td>\n      <td>2003</td>\n    </tr>\n    <tr>\n      <th>1990</th>\n      <td>1726.0</td>\n      <td>CHANDRAPUR, AGARTALA D/S OF HAORA RIVER, TRIPURA</td>\n      <td>NAN</td>\n      <td>29.0</td>\n      <td>7.6</td>\n      <td>110.0</td>\n      <td>5.7</td>\n      <td>1.1</td>\n      <td>NaN</td>\n      <td>NaN</td>\n      <td>546.0</td>\n      <td>2003</td>\n    </tr>\n  </tbody>\n</table>\n<p>1991 rows × 12 columns</p>\n</div>"
     },
     "execution_count": 225,
     "metadata": {},
     "output_type": "execute_result"
    }
   ],
   "source": [
    "df"
   ],
   "metadata": {
    "collapsed": false,
    "pycharm": {
     "name": "#%%\n"
    }
   }
  },
  {
   "cell_type": "markdown",
   "source": [
    "Checking missing values"
   ],
   "metadata": {
    "collapsed": false,
    "pycharm": {
     "name": "#%% md\n"
    }
   }
  },
  {
   "cell_type": "code",
   "execution_count": 226,
   "outputs": [
    {
     "data": {
      "text/plain": "<AxesSubplot:>"
     },
     "execution_count": 226,
     "metadata": {},
     "output_type": "execute_result"
    },
    {
     "data": {
      "text/plain": "<Figure size 1800x720 with 2 Axes>",
      "image/png": "[encoded data removed]"
     },
     "metadata": {
      "needs_background": "light"
     },
     "output_type": "display_data"
    }
   ],
   "source": [
    "msno.matrix(df)"
   ],
   "metadata": {
    "collapsed": false,
    "pycharm": {
     "name": "#%%\n"
    }
   }
  },
  {
   "cell_type": "code",
   "execution_count": 227,
   "outputs": [
    {
     "data": {
      "text/plain": "      station                                           location        state  \\\n0      1393.0               DAMANGANGA AT D/S OF MADHUBAN, DAMAN  DAMAN & DIU   \n1      1399.0  ZUARI AT D/S OF PT. WHERE KUMBARJRIA CANAL JOI...          GOA   \n2      1475.0                                ZUARI AT PANCHAWADI          GOA   \n3      3181.0                        RIVER ZUARI AT BORIM BRIDGE          GOA   \n4      3182.0                       RIVER ZUARI AT MARCAIM JETTY          GOA   \n...       ...                                                ...          ...   \n1986   1330.0            TAMBIRAPARANI AT ARUMUGANERI, TAMILNADU          NAN   \n1987   1450.0  PALAR AT VANIYAMBADI WATER SUPPLY HEAD WORK, T...          NAN   \n1988   1403.0                 GUMTI AT U/S SOUTH TRIPURA,TRIPURA          NAN   \n1989   1404.0                GUMTI AT D/S SOUTH TRIPURA, TRIPURA          NAN   \n1990   1726.0   CHANDRAPUR, AGARTALA D/S OF HAORA RIVER, TRIPURA          NAN   \n\n      Temp   do     ph  conductivity  BOD     nn  fecal_coliform  \\\n0     30.6  6.7    7.5         203.0  NaN  0.100          11.000   \n1     29.8  5.7    7.2         189.0  2.0  0.200        4953.000   \n2     29.5  6.3    6.9         179.0  1.7  0.100        3243.000   \n3     29.7  5.8    6.9          64.0  3.8  0.500        5382.000   \n4     29.5  5.8    7.3          83.0  1.9  0.400        3428.000   \n...    ...  ...    ...           ...  ...    ...             ...   \n1986   NaN  7.9  738.0           7.2  2.7  0.518           0.518   \n1987  29.0  7.5  585.0           6.3  2.6  0.155           0.155   \n1988  28.0  7.6   98.0           6.2  1.2    NaN             NaN   \n1989  28.0  7.7   91.0           6.5  1.3    NaN             NaN   \n1990  29.0  7.6  110.0           5.7  1.1    NaN             NaN   \n\n      total_coliform_mean  year  \n0                    27.0  2014  \n1                  8391.0  2014  \n2                  5330.0  2014  \n3                  8443.0  2014  \n4                  5500.0  2014  \n...                   ...   ...  \n1986                202.0  2003  \n1987                315.0  2003  \n1988                570.0  2003  \n1989                562.0  2003  \n1990                546.0  2003  \n\n[1991 rows x 12 columns]",
      "text/html": "<div>\n<style scoped>\n    .dataframe tbody tr th:only-of-type {\n        vertical-align: middle;\n    }\n\n    .dataframe tbody tr th {\n        vertical-align: top;\n    }\n\n    .dataframe thead th {\n        text-align: right;\n    }\n</style>\n<table border=\"1\" class=\"dataframe\">\n  <thead>\n    <tr style=\"text-align: right;\">\n      <th></th>\n      <th>station</th>\n      <th>location</th>\n      <th>state</th>\n      <th>Temp</th>\n      <th>do</th>\n      <th>ph</th>\n      <th>conductivity</th>\n      <th>BOD</th>\n      <th>nn</th>\n      <th>fecal_coliform</th>\n      <th>total_coliform_mean</th>\n      <th>year</th>\n    </tr>\n  </thead>\n  <tbody>\n    <tr>\n      <th>0</th>\n      <td>1393.0</td>\n      <td>DAMANGANGA AT D/S OF MADHUBAN, DAMAN</td>\n      <td>DAMAN &amp; DIU</td>\n      <td>30.6</td>\n      <td>6.7</td>\n      <td>7.5</td>\n      <td>203.0</td>\n      <td>NaN</td>\n      <td>0.100</td>\n      <td>11.000</td>\n      <td>27.0</td>\n      <td>2014</td>\n    </tr>\n    <tr>\n      <th>1</th>\n      <td>1399.0</td>\n      <td>ZUARI AT D/S OF PT. WHERE KUMBARJRIA CANAL JOI...</td>\n      <td>GOA</td>\n      <td>29.8</td>\n      <td>5.7</td>\n      <td>7.2</td>\n      <td>189.0</td>\n      <td>2.0</td>\n      <td>0.200</td>\n      <td>4953.000</td>\n      <td>8391.0</td>\n      <td>2014</td>\n    </tr>\n    <tr>\n      <th>2</th>\n      <td>1475.0</td>\n      <td>ZUARI AT PANCHAWADI</td>\n      <td>GOA</td>\n      <td>29.5</td>\n      <td>6.3</td>\n      <td>6.9</td>\n      <td>179.0</td>\n      <td>1.7</td>\n      <td>0.100</td>\n      <td>3243.000</td>\n      <td>5330.0</td>\n      <td>2014</td>\n    </tr>\n    <tr>\n      <th>3</th>\n      <td>3181.0</td>\n      <td>RIVER ZUARI AT BORIM BRIDGE</td>\n      <td>GOA</td>\n      <td>29.7</td>\n      <td>5.8</td>\n      <td>6.9</td>\n      <td>64.0</td>\n      <td>3.8</td>\n      <td>0.500</td>\n      <td>5382.000</td>\n      <td>8443.0</td>\n      <td>2014</td>\n    </tr>\n    <tr>\n      <th>4</th>\n      <td>3182.0</td>\n      <td>RIVER ZUARI AT MARCAIM JETTY</td>\n      <td>GOA</td>\n      <td>29.5</td>\n      <td>5.8</td>\n      <td>7.3</td>\n      <td>83.0</td>\n      <td>1.9</td>\n      <td>0.400</td>\n      <td>3428.000</td>\n      <td>5500.0</td>\n      <td>2014</td>\n    </tr>\n    <tr>\n      <th>...</th>\n      <td>...</td>\n      <td>...</td>\n      <td>...</td>\n      <td>...</td>\n      <td>...</td>\n      <td>...</td>\n      <td>...</td>\n      <td>...</td>\n      <td>...</td>\n      <td>...</td>\n      <td>...</td>\n      <td>...</td>\n    </tr>\n    <tr>\n      <th>1986</th>\n      <td>1330.0</td>\n      <td>TAMBIRAPARANI AT ARUMUGANERI, TAMILNADU</td>\n      <td>NAN</td>\n      <td>NaN</td>\n      <td>7.9</td>\n      <td>738.0</td>\n      <td>7.2</td>\n      <td>2.7</td>\n      <td>0.518</td>\n      <td>0.518</td>\n      <td>202.0</td>\n      <td>2003</td>\n    </tr>\n    <tr>\n      <th>1987</th>\n      <td>1450.0</td>\n      <td>PALAR AT VANIYAMBADI WATER SUPPLY HEAD WORK, T...</td>\n      <td>NAN</td>\n      <td>29.0</td>\n      <td>7.5</td>\n      <td>585.0</td>\n      <td>6.3</td>\n      <td>2.6</td>\n      <td>0.155</td>\n      <td>0.155</td>\n      <td>315.0</td>\n      <td>2003</td>\n    </tr>\n    <tr>\n      <th>1988</th>\n      <td>1403.0</td>\n      <td>GUMTI AT U/S SOUTH TRIPURA,TRIPURA</td>\n      <td>NAN</td>\n      <td>28.0</td>\n      <td>7.6</td>\n      <td>98.0</td>\n      <td>6.2</td>\n      <td>1.2</td>\n      <td>NaN</td>\n      <td>NaN</td>\n      <td>570.0</td>\n      <td>2003</td>\n    </tr>\n    <tr>\n      <th>1989</th>\n      <td>1404.0</td>\n      <td>GUMTI AT D/S SOUTH TRIPURA, TRIPURA</td>\n      <td>NAN</td>\n      <td>28.0</td>\n      <td>7.7</td>\n      <td>91.0</td>\n      <td>6.5</td>\n      <td>1.3</td>\n      <td>NaN</td>\n      <td>NaN</td>\n      <td>562.0</td>\n      <td>2003</td>\n    </tr>\n    <tr>\n      <th>1990</th>\n      <td>1726.0</td>\n      <td>CHANDRAPUR, AGARTALA D/S OF HAORA RIVER, TRIPURA</td>\n      <td>NAN</td>\n      <td>29.0</td>\n      <td>7.6</td>\n      <td>110.0</td>\n      <td>5.7</td>\n      <td>1.1</td>\n      <td>NaN</td>\n      <td>NaN</td>\n      <td>546.0</td>\n      <td>2003</td>\n    </tr>\n  </tbody>\n</table>\n<p>1991 rows × 12 columns</p>\n</div>"
     },
     "execution_count": 227,
     "metadata": {},
     "output_type": "execute_result"
    }
   ],
   "source": [
    "df"
   ],
   "metadata": {
    "collapsed": false,
    "pycharm": {
     "name": "#%%\n"
    }
   }
  },
  {
   "cell_type": "code",
   "execution_count": 228,
   "outputs": [
    {
     "name": "stdout",
     "output_type": "stream",
     "text": [
      "320\n",
      "203\n"
     ]
    }
   ],
   "source": [
    "print(df.station.nunique())\n",
    "print(df.state.nunique())"
   ],
   "metadata": {
    "collapsed": false,
    "pycharm": {
     "name": "#%%\n"
    }
   }
  },
  {
   "cell_type": "markdown",
   "source": [
    "# WQI calculation"
   ],
   "metadata": {
    "collapsed": false,
    "pycharm": {
     "name": "#%% md\n"
    }
   }
  },
  {
   "cell_type": "markdown",
   "source": [
    "## Rating calculation"
   ],
   "metadata": {
    "collapsed": false,
    "pycharm": {
     "name": "#%% md\n"
    }
   }
  },
  {
   "cell_type": "markdown",
   "source": [
    "The recommended values (Si) of all the parameters"
   ],
   "metadata": {
    "collapsed": false,
    "pycharm": {
     "name": "#%% md\n"
    }
   }
  },
  {
   "cell_type": "code",
   "execution_count": 229,
   "outputs": [],
   "source": [
    "do_s = 10\n",
    "ph_s = 8.5\n",
    "conductivity_s = 1000\n",
    "bod_s = 5\n",
    "nitrate_s = 45\n",
    "fecal_coliform_s = 100\n",
    "total_coliform_s = 1000"
   ],
   "metadata": {
    "collapsed": false,
    "pycharm": {
     "name": "#%%\n"
    }
   }
  },
  {
   "cell_type": "code",
   "execution_count": 230,
   "outputs": [],
   "source": [
    "features = ['conductivity','BOD','nn','fecal_coliform','total_coliform_mean']"
   ],
   "metadata": {
    "collapsed": false,
    "pycharm": {
     "name": "#%%\n"
    }
   }
  },
  {
   "cell_type": "code",
   "execution_count": 231,
   "outputs": [],
   "source": [
    "df_qi = pd.DataFrame()"
   ],
   "metadata": {
    "collapsed": false,
    "pycharm": {
     "name": "#%%\n"
    }
   }
  },
  {
   "cell_type": "code",
   "execution_count": 232,
   "outputs": [],
   "source": [
    "df_qi['qi_conductivity']=100*df['conductivity']/(conductivity_s)\n",
    "df_qi['qi_do']=100*(df['do']-14.6)/(do_s-14.6)\n",
    "df_qi['qi_ph']=100*(df['ph']-7)/(ph_s-7)\n",
    "df_qi['qi_bod']=100*(df['BOD'])/(bod_s)\n",
    "df_qi['qi_nn']=100*(df['nn'])/(nitrate_s)\n",
    "df_qi['qi_fecal_coliform']=100*(df['fecal_coliform'])/(fecal_coliform_s)\n",
    "df_qi['qi_total_coliform_mean']=100*(df['total_coliform_mean'])/(total_coliform_s)"
   ],
   "metadata": {
    "collapsed": false,
    "pycharm": {
     "name": "#%%\n"
    }
   }
  },
  {
   "cell_type": "code",
   "execution_count": 233,
   "outputs": [
    {
     "data": {
      "text/plain": "      qi_conductivity       qi_do         qi_ph  qi_bod     qi_nn  \\\n0               20.30  171.739130     33.333333     NaN  0.222222   \n1               18.90  193.478261     13.333333    40.0  0.444444   \n2               17.90  180.434783     -6.666667    34.0  0.222222   \n3                6.40  191.304348     -6.666667    76.0  1.111111   \n4                8.30  191.304348     20.000000    38.0  0.888889   \n...               ...         ...           ...     ...       ...   \n1986             0.72  145.652174  48733.333333    54.0  1.151111   \n1987             0.63  154.347826  38533.333333    52.0  0.344444   \n1988             0.62  152.173913   6066.666667    24.0       NaN   \n1989             0.65  150.000000   5600.000000    26.0       NaN   \n1990             0.57  152.173913   6866.666667    22.0       NaN   \n\n      qi_fecal_coliform  qi_total_coliform_mean  \n0                11.000                     2.7  \n1              4953.000                   839.1  \n2              3243.000                   533.0  \n3              5382.000                   844.3  \n4              3428.000                   550.0  \n...                 ...                     ...  \n1986              0.518                    20.2  \n1987              0.155                    31.5  \n1988                NaN                    57.0  \n1989                NaN                    56.2  \n1990                NaN                    54.6  \n\n[1991 rows x 7 columns]",
      "text/html": "<div>\n<style scoped>\n    .dataframe tbody tr th:only-of-type {\n        vertical-align: middle;\n    }\n\n    .dataframe tbody tr th {\n        vertical-align: top;\n    }\n\n    .dataframe thead th {\n        text-align: right;\n    }\n</style>\n<table border=\"1\" class=\"dataframe\">\n  <thead>\n    <tr style=\"text-align: right;\">\n      <th></th>\n      <th>qi_conductivity</th>\n      <th>qi_do</th>\n      <th>qi_ph</th>\n      <th>qi_bod</th>\n      <th>qi_nn</th>\n      <th>qi_fecal_coliform</th>\n      <th>qi_total_coliform_mean</th>\n    </tr>\n  </thead>\n  <tbody>\n    <tr>\n      <th>0</th>\n      <td>20.30</td>\n      <td>171.739130</td>\n      <td>33.333333</td>\n      <td>NaN</td>\n      <td>0.222222</td>\n      <td>11.000</td>\n      <td>2.7</td>\n    </tr>\n    <tr>\n      <th>1</th>\n      <td>18.90</td>\n      <td>193.478261</td>\n      <td>13.333333</td>\n      <td>40.0</td>\n      <td>0.444444</td>\n      <td>4953.000</td>\n      <td>839.1</td>\n    </tr>\n    <tr>\n      <th>2</th>\n      <td>17.90</td>\n      <td>180.434783</td>\n      <td>-6.666667</td>\n      <td>34.0</td>\n      <td>0.222222</td>\n      <td>3243.000</td>\n      <td>533.0</td>\n    </tr>\n    <tr>\n      <th>3</th>\n      <td>6.40</td>\n      <td>191.304348</td>\n      <td>-6.666667</td>\n      <td>76.0</td>\n      <td>1.111111</td>\n      <td>5382.000</td>\n      <td>844.3</td>\n    </tr>\n    <tr>\n      <th>4</th>\n      <td>8.30</td>\n      <td>191.304348</td>\n      <td>20.000000</td>\n      <td>38.0</td>\n      <td>0.888889</td>\n      <td>3428.000</td>\n      <td>550.0</td>\n    </tr>\n    <tr>\n      <th>...</th>\n      <td>...</td>\n      <td>...</td>\n      <td>...</td>\n      <td>...</td>\n      <td>...</td>\n      <td>...</td>\n      <td>...</td>\n    </tr>\n    <tr>\n      <th>1986</th>\n      <td>0.72</td>\n      <td>145.652174</td>\n      <td>48733.333333</td>\n      <td>54.0</td>\n      <td>1.151111</td>\n      <td>0.518</td>\n      <td>20.2</td>\n    </tr>\n    <tr>\n      <th>1987</th>\n      <td>0.63</td>\n      <td>154.347826</td>\n      <td>38533.333333</td>\n      <td>52.0</td>\n      <td>0.344444</td>\n      <td>0.155</td>\n      <td>31.5</td>\n    </tr>\n    <tr>\n      <th>1988</th>\n      <td>0.62</td>\n      <td>152.173913</td>\n      <td>6066.666667</td>\n      <td>24.0</td>\n      <td>NaN</td>\n      <td>NaN</td>\n      <td>57.0</td>\n    </tr>\n    <tr>\n      <th>1989</th>\n      <td>0.65</td>\n      <td>150.000000</td>\n      <td>5600.000000</td>\n      <td>26.0</td>\n      <td>NaN</td>\n      <td>NaN</td>\n      <td>56.2</td>\n    </tr>\n    <tr>\n      <th>1990</th>\n      <td>0.57</td>\n      <td>152.173913</td>\n      <td>6866.666667</td>\n      <td>22.0</td>\n      <td>NaN</td>\n      <td>NaN</td>\n      <td>54.6</td>\n    </tr>\n  </tbody>\n</table>\n<p>1991 rows × 7 columns</p>\n</div>"
     },
     "execution_count": 233,
     "metadata": {},
     "output_type": "execute_result"
    }
   ],
   "source": [
    "df_qi"
   ],
   "metadata": {
    "collapsed": false,
    "pycharm": {
     "name": "#%%\n"
    }
   }
  },
  {
   "cell_type": "code",
   "execution_count": 234,
   "outputs": [
    {
     "data": {
      "text/plain": "      station                                           location        state  \\\n0      1393.0               DAMANGANGA AT D/S OF MADHUBAN, DAMAN  DAMAN & DIU   \n1      1399.0  ZUARI AT D/S OF PT. WHERE KUMBARJRIA CANAL JOI...          GOA   \n2      1475.0                                ZUARI AT PANCHAWADI          GOA   \n3      3181.0                        RIVER ZUARI AT BORIM BRIDGE          GOA   \n4      3182.0                       RIVER ZUARI AT MARCAIM JETTY          GOA   \n...       ...                                                ...          ...   \n1986   1330.0            TAMBIRAPARANI AT ARUMUGANERI, TAMILNADU          NAN   \n1987   1450.0  PALAR AT VANIYAMBADI WATER SUPPLY HEAD WORK, T...          NAN   \n1988   1403.0                 GUMTI AT U/S SOUTH TRIPURA,TRIPURA          NAN   \n1989   1404.0                GUMTI AT D/S SOUTH TRIPURA, TRIPURA          NAN   \n1990   1726.0   CHANDRAPUR, AGARTALA D/S OF HAORA RIVER, TRIPURA          NAN   \n\n      Temp   do     ph  conductivity  BOD     nn  fecal_coliform  \\\n0     30.6  6.7    7.5         203.0  NaN  0.100          11.000   \n1     29.8  5.7    7.2         189.0  2.0  0.200        4953.000   \n2     29.5  6.3    6.9         179.0  1.7  0.100        3243.000   \n3     29.7  5.8    6.9          64.0  3.8  0.500        5382.000   \n4     29.5  5.8    7.3          83.0  1.9  0.400        3428.000   \n...    ...  ...    ...           ...  ...    ...             ...   \n1986   NaN  7.9  738.0           7.2  2.7  0.518           0.518   \n1987  29.0  7.5  585.0           6.3  2.6  0.155           0.155   \n1988  28.0  7.6   98.0           6.2  1.2    NaN             NaN   \n1989  28.0  7.7   91.0           6.5  1.3    NaN             NaN   \n1990  29.0  7.6  110.0           5.7  1.1    NaN             NaN   \n\n      total_coliform_mean  year  \n0                    27.0  2014  \n1                  8391.0  2014  \n2                  5330.0  2014  \n3                  8443.0  2014  \n4                  5500.0  2014  \n...                   ...   ...  \n1986                202.0  2003  \n1987                315.0  2003  \n1988                570.0  2003  \n1989                562.0  2003  \n1990                546.0  2003  \n\n[1991 rows x 12 columns]",
      "text/html": "<div>\n<style scoped>\n    .dataframe tbody tr th:only-of-type {\n        vertical-align: middle;\n    }\n\n    .dataframe tbody tr th {\n        vertical-align: top;\n    }\n\n    .dataframe thead th {\n        text-align: right;\n    }\n</style>\n<table border=\"1\" class=\"dataframe\">\n  <thead>\n    <tr style=\"text-align: right;\">\n      <th></th>\n      <th>station</th>\n      <th>location</th>\n      <th>state</th>\n      <th>Temp</th>\n      <th>do</th>\n      <th>ph</th>\n      <th>conductivity</th>\n      <th>BOD</th>\n      <th>nn</th>\n      <th>fecal_coliform</th>\n      <th>total_coliform_mean</th>\n      <th>year</th>\n    </tr>\n  </thead>\n  <tbody>\n    <tr>\n      <th>0</th>\n      <td>1393.0</td>\n      <td>DAMANGANGA AT D/S OF MADHUBAN, DAMAN</td>\n      <td>DAMAN &amp; DIU</td>\n      <td>30.6</td>\n      <td>6.7</td>\n      <td>7.5</td>\n      <td>203.0</td>\n      <td>NaN</td>\n      <td>0.100</td>\n      <td>11.000</td>\n      <td>27.0</td>\n      <td>2014</td>\n    </tr>\n    <tr>\n      <th>1</th>\n      <td>1399.0</td>\n      <td>ZUARI AT D/S OF PT. WHERE KUMBARJRIA CANAL JOI...</td>\n      <td>GOA</td>\n      <td>29.8</td>\n      <td>5.7</td>\n      <td>7.2</td>\n      <td>189.0</td>\n      <td>2.0</td>\n      <td>0.200</td>\n      <td>4953.000</td>\n      <td>8391.0</td>\n      <td>2014</td>\n    </tr>\n    <tr>\n      <th>2</th>\n      <td>1475.0</td>\n      <td>ZUARI AT PANCHAWADI</td>\n      <td>GOA</td>\n      <td>29.5</td>\n      <td>6.3</td>\n      <td>6.9</td>\n      <td>179.0</td>\n      <td>1.7</td>\n      <td>0.100</td>\n      <td>3243.000</td>\n      <td>5330.0</td>\n      <td>2014</td>\n    </tr>\n    <tr>\n      <th>3</th>\n      <td>3181.0</td>\n      <td>RIVER ZUARI AT BORIM BRIDGE</td>\n      <td>GOA</td>\n      <td>29.7</td>\n      <td>5.8</td>\n      <td>6.9</td>\n      <td>64.0</td>\n      <td>3.8</td>\n      <td>0.500</td>\n      <td>5382.000</td>\n      <td>8443.0</td>\n      <td>2014</td>\n    </tr>\n    <tr>\n      <th>4</th>\n      <td>3182.0</td>\n      <td>RIVER ZUARI AT MARCAIM JETTY</td>\n      <td>GOA</td>\n      <td>29.5</td>\n      <td>5.8</td>\n      <td>7.3</td>\n      <td>83.0</td>\n      <td>1.9</td>\n      <td>0.400</td>\n      <td>3428.000</td>\n      <td>5500.0</td>\n      <td>2014</td>\n    </tr>\n    <tr>\n      <th>...</th>\n      <td>...</td>\n      <td>...</td>\n      <td>...</td>\n      <td>...</td>\n      <td>...</td>\n      <td>...</td>\n      <td>...</td>\n      <td>...</td>\n      <td>...</td>\n      <td>...</td>\n      <td>...</td>\n      <td>...</td>\n    </tr>\n    <tr>\n      <th>1986</th>\n      <td>1330.0</td>\n      <td>TAMBIRAPARANI AT ARUMUGANERI, TAMILNADU</td>\n      <td>NAN</td>\n      <td>NaN</td>\n      <td>7.9</td>\n      <td>738.0</td>\n      <td>7.2</td>\n      <td>2.7</td>\n      <td>0.518</td>\n      <td>0.518</td>\n      <td>202.0</td>\n      <td>2003</td>\n    </tr>\n    <tr>\n      <th>1987</th>\n      <td>1450.0</td>\n      <td>PALAR AT VANIYAMBADI WATER SUPPLY HEAD WORK, T...</td>\n      <td>NAN</td>\n      <td>29.0</td>\n      <td>7.5</td>\n      <td>585.0</td>\n      <td>6.3</td>\n      <td>2.6</td>\n      <td>0.155</td>\n      <td>0.155</td>\n      <td>315.0</td>\n      <td>2003</td>\n    </tr>\n    <tr>\n      <th>1988</th>\n      <td>1403.0</td>\n      <td>GUMTI AT U/S SOUTH TRIPURA,TRIPURA</td>\n      <td>NAN</td>\n      <td>28.0</td>\n      <td>7.6</td>\n      <td>98.0</td>\n      <td>6.2</td>\n      <td>1.2</td>\n      <td>NaN</td>\n      <td>NaN</td>\n      <td>570.0</td>\n      <td>2003</td>\n    </tr>\n    <tr>\n      <th>1989</th>\n      <td>1404.0</td>\n      <td>GUMTI AT D/S SOUTH TRIPURA, TRIPURA</td>\n      <td>NAN</td>\n      <td>28.0</td>\n      <td>7.7</td>\n      <td>91.0</td>\n      <td>6.5</td>\n      <td>1.3</td>\n      <td>NaN</td>\n      <td>NaN</td>\n      <td>562.0</td>\n      <td>2003</td>\n    </tr>\n    <tr>\n      <th>1990</th>\n      <td>1726.0</td>\n      <td>CHANDRAPUR, AGARTALA D/S OF HAORA RIVER, TRIPURA</td>\n      <td>NAN</td>\n      <td>29.0</td>\n      <td>7.6</td>\n      <td>110.0</td>\n      <td>5.7</td>\n      <td>1.1</td>\n      <td>NaN</td>\n      <td>NaN</td>\n      <td>546.0</td>\n      <td>2003</td>\n    </tr>\n  </tbody>\n</table>\n<p>1991 rows × 12 columns</p>\n</div>"
     },
     "execution_count": 234,
     "metadata": {},
     "output_type": "execute_result"
    }
   ],
   "source": [
    "df"
   ],
   "metadata": {
    "collapsed": false,
    "pycharm": {
     "name": "#%%\n"
    }
   }
  },
  {
   "cell_type": "markdown",
   "source": [
    "Parameter weights"
   ],
   "metadata": {
    "collapsed": false,
    "pycharm": {
     "name": "#%% md\n"
    }
   }
  },
  {
   "cell_type": "code",
   "execution_count": 235,
   "outputs": [],
   "source": [
    "do_w = 0.2213\n",
    "ph_w = 0.2604\n",
    "conductivity_w = 0.0022\n",
    "bod_w = 0.4426\n",
    "n_w = 0.0492\n",
    "fecal_coliform_w = 0.0221\n",
    "total_coliform_w = 0.0022\n",
    "w_total =  1"
   ],
   "metadata": {
    "collapsed": false,
    "pycharm": {
     "name": "#%%\n"
    }
   }
  },
  {
   "cell_type": "code",
   "execution_count": 236,
   "outputs": [],
   "source": [
    "df2 = pd.concat([df,df_qi],axis=1)"
   ],
   "metadata": {
    "collapsed": false,
    "pycharm": {
     "name": "#%%\n"
    }
   }
  },
  {
   "cell_type": "code",
   "execution_count": 237,
   "outputs": [
    {
     "data": {
      "text/plain": "      station                                           location        state  \\\n0      1393.0               DAMANGANGA AT D/S OF MADHUBAN, DAMAN  DAMAN & DIU   \n1      1399.0  ZUARI AT D/S OF PT. WHERE KUMBARJRIA CANAL JOI...          GOA   \n2      1475.0                                ZUARI AT PANCHAWADI          GOA   \n3      3181.0                        RIVER ZUARI AT BORIM BRIDGE          GOA   \n4      3182.0                       RIVER ZUARI AT MARCAIM JETTY          GOA   \n...       ...                                                ...          ...   \n1986   1330.0            TAMBIRAPARANI AT ARUMUGANERI, TAMILNADU          NAN   \n1987   1450.0  PALAR AT VANIYAMBADI WATER SUPPLY HEAD WORK, T...          NAN   \n1988   1403.0                 GUMTI AT U/S SOUTH TRIPURA,TRIPURA          NAN   \n1989   1404.0                GUMTI AT D/S SOUTH TRIPURA, TRIPURA          NAN   \n1990   1726.0   CHANDRAPUR, AGARTALA D/S OF HAORA RIVER, TRIPURA          NAN   \n\n      Temp   do     ph  conductivity  BOD     nn  fecal_coliform  \\\n0     30.6  6.7    7.5         203.0  NaN  0.100          11.000   \n1     29.8  5.7    7.2         189.0  2.0  0.200        4953.000   \n2     29.5  6.3    6.9         179.0  1.7  0.100        3243.000   \n3     29.7  5.8    6.9          64.0  3.8  0.500        5382.000   \n4     29.5  5.8    7.3          83.0  1.9  0.400        3428.000   \n...    ...  ...    ...           ...  ...    ...             ...   \n1986   NaN  7.9  738.0           7.2  2.7  0.518           0.518   \n1987  29.0  7.5  585.0           6.3  2.6  0.155           0.155   \n1988  28.0  7.6   98.0           6.2  1.2    NaN             NaN   \n1989  28.0  7.7   91.0           6.5  1.3    NaN             NaN   \n1990  29.0  7.6  110.0           5.7  1.1    NaN             NaN   \n\n      total_coliform_mean  year  qi_conductivity       qi_do         qi_ph  \\\n0                    27.0  2014            20.30  171.739130     33.333333   \n1                  8391.0  2014            18.90  193.478261     13.333333   \n2                  5330.0  2014            17.90  180.434783     -6.666667   \n3                  8443.0  2014             6.40  191.304348     -6.666667   \n4                  5500.0  2014             8.30  191.304348     20.000000   \n...                   ...   ...              ...         ...           ...   \n1986                202.0  2003             0.72  145.652174  48733.333333   \n1987                315.0  2003             0.63  154.347826  38533.333333   \n1988                570.0  2003             0.62  152.173913   6066.666667   \n1989                562.0  2003             0.65  150.000000   5600.000000   \n1990                546.0  2003             0.57  152.173913   6866.666667   \n\n      qi_bod     qi_nn  qi_fecal_coliform  qi_total_coliform_mean  \n0        NaN  0.222222             11.000                     2.7  \n1       40.0  0.444444           4953.000                   839.1  \n2       34.0  0.222222           3243.000                   533.0  \n3       76.0  1.111111           5382.000                   844.3  \n4       38.0  0.888889           3428.000                   550.0  \n...      ...       ...                ...                     ...  \n1986    54.0  1.151111              0.518                    20.2  \n1987    52.0  0.344444              0.155                    31.5  \n1988    24.0       NaN                NaN                    57.0  \n1989    26.0       NaN                NaN                    56.2  \n1990    22.0       NaN                NaN                    54.6  \n\n[1991 rows x 19 columns]",
      "text/html": "<div>\n<style scoped>\n    .dataframe tbody tr th:only-of-type {\n        vertical-align: middle;\n    }\n\n    .dataframe tbody tr th {\n        vertical-align: top;\n    }\n\n    .dataframe thead th {\n        text-align: right;\n    }\n</style>\n<table border=\"1\" class=\"dataframe\">\n  <thead>\n    <tr style=\"text-align: right;\">\n      <th></th>\n      <th>station</th>\n      <th>location</th>\n      <th>state</th>\n      <th>Temp</th>\n      <th>do</th>\n      <th>ph</th>\n      <th>conductivity</th>\n      <th>BOD</th>\n      <th>nn</th>\n      <th>fecal_coliform</th>\n      <th>total_coliform_mean</th>\n      <th>year</th>\n      <th>qi_conductivity</th>\n      <th>qi_do</th>\n      <th>qi_ph</th>\n      <th>qi_bod</th>\n      <th>qi_nn</th>\n      <th>qi_fecal_coliform</th>\n      <th>qi_total_coliform_mean</th>\n    </tr>\n  </thead>\n  <tbody>\n    <tr>\n      <th>0</th>\n      <td>1393.0</td>\n      <td>DAMANGANGA AT D/S OF MADHUBAN, DAMAN</td>\n      <td>DAMAN &amp; DIU</td>\n      <td>30.6</td>\n      <td>6.7</td>\n      <td>7.5</td>\n      <td>203.0</td>\n      <td>NaN</td>\n      <td>0.100</td>\n      <td>11.000</td>\n      <td>27.0</td>\n      <td>2014</td>\n      <td>20.30</td>\n      <td>171.739130</td>\n      <td>33.333333</td>\n      <td>NaN</td>\n      <td>0.222222</td>\n      <td>11.000</td>\n      <td>2.7</td>\n    </tr>\n    <tr>\n      <th>1</th>\n      <td>1399.0</td>\n      <td>ZUARI AT D/S OF PT. WHERE KUMBARJRIA CANAL JOI...</td>\n      <td>GOA</td>\n      <td>29.8</td>\n      <td>5.7</td>\n      <td>7.2</td>\n      <td>189.0</td>\n      <td>2.0</td>\n      <td>0.200</td>\n      <td>4953.000</td>\n      <td>8391.0</td>\n      <td>2014</td>\n      <td>18.90</td>\n      <td>193.478261</td>\n      <td>13.333333</td>\n      <td>40.0</td>\n      <td>0.444444</td>\n      <td>4953.000</td>\n      <td>839.1</td>\n    </tr>\n    <tr>\n      <th>2</th>\n      <td>1475.0</td>\n      <td>ZUARI AT PANCHAWADI</td>\n      <td>GOA</td>\n      <td>29.5</td>\n      <td>6.3</td>\n      <td>6.9</td>\n      <td>179.0</td>\n      <td>1.7</td>\n      <td>0.100</td>\n      <td>3243.000</td>\n      <td>5330.0</td>\n      <td>2014</td>\n      <td>17.90</td>\n      <td>180.434783</td>\n      <td>-6.666667</td>\n      <td>34.0</td>\n      <td>0.222222</td>\n      <td>3243.000</td>\n      <td>533.0</td>\n    </tr>\n    <tr>\n      <th>3</th>\n      <td>3181.0</td>\n      <td>RIVER ZUARI AT BORIM BRIDGE</td>\n      <td>GOA</td>\n      <td>29.7</td>\n      <td>5.8</td>\n      <td>6.9</td>\n      <td>64.0</td>\n      <td>3.8</td>\n      <td>0.500</td>\n      <td>5382.000</td>\n      <td>8443.0</td>\n      <td>2014</td>\n      <td>6.40</td>\n      <td>191.304348</td>\n      <td>-6.666667</td>\n      <td>76.0</td>\n      <td>1.111111</td>\n      <td>5382.000</td>\n      <td>844.3</td>\n    </tr>\n    <tr>\n      <th>4</th>\n      <td>3182.0</td>\n      <td>RIVER ZUARI AT MARCAIM JETTY</td>\n      <td>GOA</td>\n      <td>29.5</td>\n      <td>5.8</td>\n      <td>7.3</td>\n      <td>83.0</td>\n      <td>1.9</td>\n      <td>0.400</td>\n      <td>3428.000</td>\n      <td>5500.0</td>\n      <td>2014</td>\n      <td>8.30</td>\n      <td>191.304348</td>\n      <td>20.000000</td>\n      <td>38.0</td>\n      <td>0.888889</td>\n      <td>3428.000</td>\n      <td>550.0</td>\n    </tr>\n    <tr>\n      <th>...</th>\n      <td>...</td>\n      <td>...</td>\n      <td>...</td>\n      <td>...</td>\n      <td>...</td>\n      <td>...</td>\n      <td>...</td>\n      <td>...</td>\n      <td>...</td>\n      <td>...</td>\n      <td>...</td>\n      <td>...</td>\n      <td>...</td>\n      <td>...</td>\n      <td>...</td>\n      <td>...</td>\n      <td>...</td>\n      <td>...</td>\n      <td>...</td>\n    </tr>\n    <tr>\n      <th>1986</th>\n      <td>1330.0</td>\n      <td>TAMBIRAPARANI AT ARUMUGANERI, TAMILNADU</td>\n      <td>NAN</td>\n      <td>NaN</td>\n      <td>7.9</td>\n      <td>738.0</td>\n      <td>7.2</td>\n      <td>2.7</td>\n      <td>0.518</td>\n      <td>0.518</td>\n      <td>202.0</td>\n      <td>2003</td>\n      <td>0.72</td>\n      <td>145.652174</td>\n      <td>48733.333333</td>\n      <td>54.0</td>\n      <td>1.151111</td>\n      <td>0.518</td>\n      <td>20.2</td>\n    </tr>\n    <tr>\n      <th>1987</th>\n      <td>1450.0</td>\n      <td>PALAR AT VANIYAMBADI WATER SUPPLY HEAD WORK, T...</td>\n      <td>NAN</td>\n      <td>29.0</td>\n      <td>7.5</td>\n      <td>585.0</td>\n      <td>6.3</td>\n      <td>2.6</td>\n      <td>0.155</td>\n      <td>0.155</td>\n      <td>315.0</td>\n      <td>2003</td>\n      <td>0.63</td>\n      <td>154.347826</td>\n      <td>38533.333333</td>\n      <td>52.0</td>\n      <td>0.344444</td>\n      <td>0.155</td>\n      <td>31.5</td>\n    </tr>\n    <tr>\n      <th>1988</th>\n      <td>1403.0</td>\n      <td>GUMTI AT U/S SOUTH TRIPURA,TRIPURA</td>\n      <td>NAN</td>\n      <td>28.0</td>\n      <td>7.6</td>\n      <td>98.0</td>\n      <td>6.2</td>\n      <td>1.2</td>\n      <td>NaN</td>\n      <td>NaN</td>\n      <td>570.0</td>\n      <td>2003</td>\n      <td>0.62</td>\n      <td>152.173913</td>\n      <td>6066.666667</td>\n      <td>24.0</td>\n      <td>NaN</td>\n      <td>NaN</td>\n      <td>57.0</td>\n    </tr>\n    <tr>\n      <th>1989</th>\n      <td>1404.0</td>\n      <td>GUMTI AT D/S SOUTH TRIPURA, TRIPURA</td>\n      <td>NAN</td>\n      <td>28.0</td>\n      <td>7.7</td>\n      <td>91.0</td>\n      <td>6.5</td>\n      <td>1.3</td>\n      <td>NaN</td>\n      <td>NaN</td>\n      <td>562.0</td>\n      <td>2003</td>\n      <td>0.65</td>\n      <td>150.000000</td>\n      <td>5600.000000</td>\n      <td>26.0</td>\n      <td>NaN</td>\n      <td>NaN</td>\n      <td>56.2</td>\n    </tr>\n    <tr>\n      <th>1990</th>\n      <td>1726.0</td>\n      <td>CHANDRAPUR, AGARTALA D/S OF HAORA RIVER, TRIPURA</td>\n      <td>NAN</td>\n      <td>29.0</td>\n      <td>7.6</td>\n      <td>110.0</td>\n      <td>5.7</td>\n      <td>1.1</td>\n      <td>NaN</td>\n      <td>NaN</td>\n      <td>546.0</td>\n      <td>2003</td>\n      <td>0.57</td>\n      <td>152.173913</td>\n      <td>6866.666667</td>\n      <td>22.0</td>\n      <td>NaN</td>\n      <td>NaN</td>\n      <td>54.6</td>\n    </tr>\n  </tbody>\n</table>\n<p>1991 rows × 19 columns</p>\n</div>"
     },
     "execution_count": 237,
     "metadata": {},
     "output_type": "execute_result"
    }
   ],
   "source": [
    "df2"
   ],
   "metadata": {
    "collapsed": false,
    "pycharm": {
     "name": "#%%\n"
    }
   }
  },
  {
   "cell_type": "code",
   "execution_count": 238,
   "outputs": [],
   "source": [
    "df2['wqi']=df2['qi_conductivity']*conductivity_w+\\\n",
    "           df2['qi_do']*do_w+\\\n",
    "           df2['qi_ph']*ph_w+\\\n",
    "           df2['qi_bod']*bod_w+\\\n",
    "           df2['qi_nn']*n_w+\\\n",
    "           df2['qi_fecal_coliform']*fecal_coliform_w+\\\n",
    "           df2['qi_total_coliform_mean']*total_coliform_w"
   ],
   "metadata": {
    "collapsed": false,
    "pycharm": {
     "name": "#%%\n"
    }
   }
  },
  {
   "cell_type": "code",
   "execution_count": 239,
   "outputs": [
    {
     "data": {
      "text/plain": "      station                                           location        state  \\\n0      1393.0               DAMANGANGA AT D/S OF MADHUBAN, DAMAN  DAMAN & DIU   \n1      1399.0  ZUARI AT D/S OF PT. WHERE KUMBARJRIA CANAL JOI...          GOA   \n2      1475.0                                ZUARI AT PANCHAWADI          GOA   \n3      3181.0                        RIVER ZUARI AT BORIM BRIDGE          GOA   \n4      3182.0                       RIVER ZUARI AT MARCAIM JETTY          GOA   \n...       ...                                                ...          ...   \n1986   1330.0            TAMBIRAPARANI AT ARUMUGANERI, TAMILNADU          NAN   \n1987   1450.0  PALAR AT VANIYAMBADI WATER SUPPLY HEAD WORK, T...          NAN   \n1988   1403.0                 GUMTI AT U/S SOUTH TRIPURA,TRIPURA          NAN   \n1989   1404.0                GUMTI AT D/S SOUTH TRIPURA, TRIPURA          NAN   \n1990   1726.0   CHANDRAPUR, AGARTALA D/S OF HAORA RIVER, TRIPURA          NAN   \n\n      Temp   do     ph  conductivity  BOD     nn  fecal_coliform  \\\n0     30.6  6.7    7.5         203.0  NaN  0.100          11.000   \n1     29.8  5.7    7.2         189.0  2.0  0.200        4953.000   \n2     29.5  6.3    6.9         179.0  1.7  0.100        3243.000   \n3     29.7  5.8    6.9          64.0  3.8  0.500        5382.000   \n4     29.5  5.8    7.3          83.0  1.9  0.400        3428.000   \n...    ...  ...    ...           ...  ...    ...             ...   \n1986   NaN  7.9  738.0           7.2  2.7  0.518           0.518   \n1987  29.0  7.5  585.0           6.3  2.6  0.155           0.155   \n1988  28.0  7.6   98.0           6.2  1.2    NaN             NaN   \n1989  28.0  7.7   91.0           6.5  1.3    NaN             NaN   \n1990  29.0  7.6  110.0           5.7  1.1    NaN             NaN   \n\n      total_coliform_mean  year  qi_conductivity       qi_do         qi_ph  \\\n0                    27.0  2014            20.30  171.739130     33.333333   \n1                  8391.0  2014            18.90  193.478261     13.333333   \n2                  5330.0  2014            17.90  180.434783     -6.666667   \n3                  8443.0  2014             6.40  191.304348     -6.666667   \n4                  5500.0  2014             8.30  191.304348     20.000000   \n...                   ...   ...              ...         ...           ...   \n1986                202.0  2003             0.72  145.652174  48733.333333   \n1987                315.0  2003             0.63  154.347826  38533.333333   \n1988                570.0  2003             0.62  152.173913   6066.666667   \n1989                562.0  2003             0.65  150.000000   5600.000000   \n1990                546.0  2003             0.57  152.173913   6866.666667   \n\n      qi_bod     qi_nn  qi_fecal_coliform  qi_total_coliform_mean  \\\n0        NaN  0.222222             11.000                     2.7   \n1       40.0  0.444444           4953.000                   839.1   \n2       34.0  0.222222           3243.000                   533.0   \n3       76.0  1.111111           5382.000                   844.3   \n4       38.0  0.888889           3428.000                   550.0   \n...      ...       ...                ...                     ...   \n1986    54.0  1.151111              0.518                    20.2   \n1987    52.0  0.344444              0.155                    31.5   \n1988    24.0       NaN                NaN                    57.0   \n1989    26.0       NaN                NaN                    56.2   \n1990    22.0       NaN                NaN                    54.6   \n\n               wqi  \n0              NaN  \n1       175.363506  \n2       126.135831  \n3       195.105659  \n4       141.393246  \n...            ...  \n1986  12746.407333  \n1987  10091.343432  \n1988           NaN  \n1989           NaN  \n1990           NaN  \n\n[1991 rows x 20 columns]",
      "text/html": "<div>\n<style scoped>\n    .dataframe tbody tr th:only-of-type {\n        vertical-align: middle;\n    }\n\n    .dataframe tbody tr th {\n        vertical-align: top;\n    }\n\n    .dataframe thead th {\n        text-align: right;\n    }\n</style>\n<table border=\"1\" class=\"dataframe\">\n  <thead>\n    <tr style=\"text-align: right;\">\n      <th></th>\n      <th>station</th>\n      <th>location</th>\n      <th>state</th>\n      <th>Temp</th>\n      <th>do</th>\n      <th>ph</th>\n      <th>conductivity</th>\n      <th>BOD</th>\n      <th>nn</th>\n      <th>fecal_coliform</th>\n      <th>total_coliform_mean</th>\n      <th>year</th>\n      <th>qi_conductivity</th>\n      <th>qi_do</th>\n      <th>qi_ph</th>\n      <th>qi_bod</th>\n      <th>qi_nn</th>\n      <th>qi_fecal_coliform</th>\n      <th>qi_total_coliform_mean</th>\n      <th>wqi</th>\n    </tr>\n  </thead>\n  <tbody>\n    <tr>\n      <th>0</th>\n      <td>1393.0</td>\n      <td>DAMANGANGA AT D/S OF MADHUBAN, DAMAN</td>\n      <td>DAMAN &amp; DIU</td>\n      <td>30.6</td>\n      <td>6.7</td>\n      <td>7.5</td>\n      <td>203.0</td>\n      <td>NaN</td>\n      <td>0.100</td>\n      <td>11.000</td>\n      <td>27.0</td>\n      <td>2014</td>\n      <td>20.30</td>\n      <td>171.739130</td>\n      <td>33.333333</td>\n      <td>NaN</td>\n      <td>0.222222</td>\n      <td>11.000</td>\n      <td>2.7</td>\n      <td>NaN</td>\n    </tr>\n    <tr>\n      <th>1</th>\n      <td>1399.0</td>\n      <td>ZUARI AT D/S OF PT. WHERE KUMBARJRIA CANAL JOI...</td>\n      <td>GOA</td>\n      <td>29.8</td>\n      <td>5.7</td>\n      <td>7.2</td>\n      <td>189.0</td>\n      <td>2.0</td>\n      <td>0.200</td>\n      <td>4953.000</td>\n      <td>8391.0</td>\n      <td>2014</td>\n      <td>18.90</td>\n      <td>193.478261</td>\n      <td>13.333333</td>\n      <td>40.0</td>\n      <td>0.444444</td>\n      <td>4953.000</td>\n      <td>839.1</td>\n      <td>175.363506</td>\n    </tr>\n    <tr>\n      <th>2</th>\n      <td>1475.0</td>\n      <td>ZUARI AT PANCHAWADI</td>\n      <td>GOA</td>\n      <td>29.5</td>\n      <td>6.3</td>\n      <td>6.9</td>\n      <td>179.0</td>\n      <td>1.7</td>\n      <td>0.100</td>\n      <td>3243.000</td>\n      <td>5330.0</td>\n      <td>2014</td>\n      <td>17.90</td>\n      <td>180.434783</td>\n      <td>-6.666667</td>\n      <td>34.0</td>\n      <td>0.222222</td>\n      <td>3243.000</td>\n      <td>533.0</td>\n      <td>126.135831</td>\n    </tr>\n    <tr>\n      <th>3</th>\n      <td>3181.0</td>\n      <td>RIVER ZUARI AT BORIM BRIDGE</td>\n      <td>GOA</td>\n      <td>29.7</td>\n      <td>5.8</td>\n      <td>6.9</td>\n      <td>64.0</td>\n      <td>3.8</td>\n      <td>0.500</td>\n      <td>5382.000</td>\n      <td>8443.0</td>\n      <td>2014</td>\n      <td>6.40</td>\n      <td>191.304348</td>\n      <td>-6.666667</td>\n      <td>76.0</td>\n      <td>1.111111</td>\n      <td>5382.000</td>\n      <td>844.3</td>\n      <td>195.105659</td>\n    </tr>\n    <tr>\n      <th>4</th>\n      <td>3182.0</td>\n      <td>RIVER ZUARI AT MARCAIM JETTY</td>\n      <td>GOA</td>\n      <td>29.5</td>\n      <td>5.8</td>\n      <td>7.3</td>\n      <td>83.0</td>\n      <td>1.9</td>\n      <td>0.400</td>\n      <td>3428.000</td>\n      <td>5500.0</td>\n      <td>2014</td>\n      <td>8.30</td>\n      <td>191.304348</td>\n      <td>20.000000</td>\n      <td>38.0</td>\n      <td>0.888889</td>\n      <td>3428.000</td>\n      <td>550.0</td>\n      <td>141.393246</td>\n    </tr>\n    <tr>\n      <th>...</th>\n      <td>...</td>\n      <td>...</td>\n      <td>...</td>\n      <td>...</td>\n      <td>...</td>\n      <td>...</td>\n      <td>...</td>\n      <td>...</td>\n      <td>...</td>\n      <td>...</td>\n      <td>...</td>\n      <td>...</td>\n      <td>...</td>\n      <td>...</td>\n      <td>...</td>\n      <td>...</td>\n      <td>...</td>\n      <td>...</td>\n      <td>...</td>\n      <td>...</td>\n    </tr>\n    <tr>\n      <th>1986</th>\n      <td>1330.0</td>\n      <td>TAMBIRAPARANI AT ARUMUGANERI, TAMILNADU</td>\n      <td>NAN</td>\n      <td>NaN</td>\n      <td>7.9</td>\n      <td>738.0</td>\n      <td>7.2</td>\n      <td>2.7</td>\n      <td>0.518</td>\n      <td>0.518</td>\n      <td>202.0</td>\n      <td>2003</td>\n      <td>0.72</td>\n      <td>145.652174</td>\n      <td>48733.333333</td>\n      <td>54.0</td>\n      <td>1.151111</td>\n      <td>0.518</td>\n      <td>20.2</td>\n      <td>12746.407333</td>\n    </tr>\n    <tr>\n      <th>1987</th>\n      <td>1450.0</td>\n      <td>PALAR AT VANIYAMBADI WATER SUPPLY HEAD WORK, T...</td>\n      <td>NAN</td>\n      <td>29.0</td>\n      <td>7.5</td>\n      <td>585.0</td>\n      <td>6.3</td>\n      <td>2.6</td>\n      <td>0.155</td>\n      <td>0.155</td>\n      <td>315.0</td>\n      <td>2003</td>\n      <td>0.63</td>\n      <td>154.347826</td>\n      <td>38533.333333</td>\n      <td>52.0</td>\n      <td>0.344444</td>\n      <td>0.155</td>\n      <td>31.5</td>\n      <td>10091.343432</td>\n    </tr>\n    <tr>\n      <th>1988</th>\n      <td>1403.0</td>\n      <td>GUMTI AT U/S SOUTH TRIPURA,TRIPURA</td>\n      <td>NAN</td>\n      <td>28.0</td>\n      <td>7.6</td>\n      <td>98.0</td>\n      <td>6.2</td>\n      <td>1.2</td>\n      <td>NaN</td>\n      <td>NaN</td>\n      <td>570.0</td>\n      <td>2003</td>\n      <td>0.62</td>\n      <td>152.173913</td>\n      <td>6066.666667</td>\n      <td>24.0</td>\n      <td>NaN</td>\n      <td>NaN</td>\n      <td>57.0</td>\n      <td>NaN</td>\n    </tr>\n    <tr>\n      <th>1989</th>\n      <td>1404.0</td>\n      <td>GUMTI AT D/S SOUTH TRIPURA, TRIPURA</td>\n      <td>NAN</td>\n      <td>28.0</td>\n      <td>7.7</td>\n      <td>91.0</td>\n      <td>6.5</td>\n      <td>1.3</td>\n      <td>NaN</td>\n      <td>NaN</td>\n      <td>562.0</td>\n      <td>2003</td>\n      <td>0.65</td>\n      <td>150.000000</td>\n      <td>5600.000000</td>\n      <td>26.0</td>\n      <td>NaN</td>\n      <td>NaN</td>\n      <td>56.2</td>\n      <td>NaN</td>\n    </tr>\n    <tr>\n      <th>1990</th>\n      <td>1726.0</td>\n      <td>CHANDRAPUR, AGARTALA D/S OF HAORA RIVER, TRIPURA</td>\n      <td>NAN</td>\n      <td>29.0</td>\n      <td>7.6</td>\n      <td>110.0</td>\n      <td>5.7</td>\n      <td>1.1</td>\n      <td>NaN</td>\n      <td>NaN</td>\n      <td>546.0</td>\n      <td>2003</td>\n      <td>0.57</td>\n      <td>152.173913</td>\n      <td>6866.666667</td>\n      <td>22.0</td>\n      <td>NaN</td>\n      <td>NaN</td>\n      <td>54.6</td>\n      <td>NaN</td>\n    </tr>\n  </tbody>\n</table>\n<p>1991 rows × 20 columns</p>\n</div>"
     },
     "execution_count": 239,
     "metadata": {},
     "output_type": "execute_result"
    }
   ],
   "source": [
    "df2"
   ],
   "metadata": {
    "collapsed": false,
    "pycharm": {
     "name": "#%%\n"
    }
   }
  },
  {
   "cell_type": "markdown",
   "source": [
    "# adding the WQI to the original dataframe"
   ],
   "metadata": {
    "collapsed": false,
    "pycharm": {
     "name": "#%% md\n"
    }
   }
  },
  {
   "cell_type": "code",
   "execution_count": 240,
   "outputs": [],
   "source": [
    "df3 = pd.concat([df,df2.wqi],axis=1)"
   ],
   "metadata": {
    "collapsed": false,
    "pycharm": {
     "name": "#%%\n"
    }
   }
  },
  {
   "cell_type": "code",
   "execution_count": 241,
   "outputs": [
    {
     "data": {
      "text/plain": "      station                                           location        state  \\\n0      1393.0               DAMANGANGA AT D/S OF MADHUBAN, DAMAN  DAMAN & DIU   \n1      1399.0  ZUARI AT D/S OF PT. WHERE KUMBARJRIA CANAL JOI...          GOA   \n2      1475.0                                ZUARI AT PANCHAWADI          GOA   \n3      3181.0                        RIVER ZUARI AT BORIM BRIDGE          GOA   \n4      3182.0                       RIVER ZUARI AT MARCAIM JETTY          GOA   \n...       ...                                                ...          ...   \n1986   1330.0            TAMBIRAPARANI AT ARUMUGANERI, TAMILNADU          NAN   \n1987   1450.0  PALAR AT VANIYAMBADI WATER SUPPLY HEAD WORK, T...          NAN   \n1988   1403.0                 GUMTI AT U/S SOUTH TRIPURA,TRIPURA          NAN   \n1989   1404.0                GUMTI AT D/S SOUTH TRIPURA, TRIPURA          NAN   \n1990   1726.0   CHANDRAPUR, AGARTALA D/S OF HAORA RIVER, TRIPURA          NAN   \n\n      Temp   do     ph  conductivity  BOD     nn  fecal_coliform  \\\n0     30.6  6.7    7.5         203.0  NaN  0.100          11.000   \n1     29.8  5.7    7.2         189.0  2.0  0.200        4953.000   \n2     29.5  6.3    6.9         179.0  1.7  0.100        3243.000   \n3     29.7  5.8    6.9          64.0  3.8  0.500        5382.000   \n4     29.5  5.8    7.3          83.0  1.9  0.400        3428.000   \n...    ...  ...    ...           ...  ...    ...             ...   \n1986   NaN  7.9  738.0           7.2  2.7  0.518           0.518   \n1987  29.0  7.5  585.0           6.3  2.6  0.155           0.155   \n1988  28.0  7.6   98.0           6.2  1.2    NaN             NaN   \n1989  28.0  7.7   91.0           6.5  1.3    NaN             NaN   \n1990  29.0  7.6  110.0           5.7  1.1    NaN             NaN   \n\n      total_coliform_mean  year           wqi  \n0                    27.0  2014           NaN  \n1                  8391.0  2014    175.363506  \n2                  5330.0  2014    126.135831  \n3                  8443.0  2014    195.105659  \n4                  5500.0  2014    141.393246  \n...                   ...   ...           ...  \n1986                202.0  2003  12746.407333  \n1987                315.0  2003  10091.343432  \n1988                570.0  2003           NaN  \n1989                562.0  2003           NaN  \n1990                546.0  2003           NaN  \n\n[1991 rows x 13 columns]",
      "text/html": "<div>\n<style scoped>\n    .dataframe tbody tr th:only-of-type {\n        vertical-align: middle;\n    }\n\n    .dataframe tbody tr th {\n        vertical-align: top;\n    }\n\n    .dataframe thead th {\n        text-align: right;\n    }\n</style>\n<table border=\"1\" class=\"dataframe\">\n  <thead>\n    <tr style=\"text-align: right;\">\n      <th></th>\n      <th>station</th>\n      <th>location</th>\n      <th>state</th>\n      <th>Temp</th>\n      <th>do</th>\n      <th>ph</th>\n      <th>conductivity</th>\n      <th>BOD</th>\n      <th>nn</th>\n      <th>fecal_coliform</th>\n      <th>total_coliform_mean</th>\n      <th>year</th>\n      <th>wqi</th>\n    </tr>\n  </thead>\n  <tbody>\n    <tr>\n      <th>0</th>\n      <td>1393.0</td>\n      <td>DAMANGANGA AT D/S OF MADHUBAN, DAMAN</td>\n      <td>DAMAN &amp; DIU</td>\n      <td>30.6</td>\n      <td>6.7</td>\n      <td>7.5</td>\n      <td>203.0</td>\n      <td>NaN</td>\n      <td>0.100</td>\n      <td>11.000</td>\n      <td>27.0</td>\n      <td>2014</td>\n      <td>NaN</td>\n    </tr>\n    <tr>\n      <th>1</th>\n      <td>1399.0</td>\n      <td>ZUARI AT D/S OF PT. WHERE KUMBARJRIA CANAL JOI...</td>\n      <td>GOA</td>\n      <td>29.8</td>\n      <td>5.7</td>\n      <td>7.2</td>\n      <td>189.0</td>\n      <td>2.0</td>\n      <td>0.200</td>\n      <td>4953.000</td>\n      <td>8391.0</td>\n      <td>2014</td>\n      <td>175.363506</td>\n    </tr>\n    <tr>\n      <th>2</th>\n      <td>1475.0</td>\n      <td>ZUARI AT PANCHAWADI</td>\n      <td>GOA</td>\n      <td>29.5</td>\n      <td>6.3</td>\n      <td>6.9</td>\n      <td>179.0</td>\n      <td>1.7</td>\n      <td>0.100</td>\n      <td>3243.000</td>\n      <td>5330.0</td>\n      <td>2014</td>\n      <td>126.135831</td>\n    </tr>\n    <tr>\n      <th>3</th>\n      <td>3181.0</td>\n      <td>RIVER ZUARI AT BORIM BRIDGE</td>\n      <td>GOA</td>\n      <td>29.7</td>\n      <td>5.8</td>\n      <td>6.9</td>\n      <td>64.0</td>\n      <td>3.8</td>\n      <td>0.500</td>\n      <td>5382.000</td>\n      <td>8443.0</td>\n      <td>2014</td>\n      <td>195.105659</td>\n    </tr>\n    <tr>\n      <th>4</th>\n      <td>3182.0</td>\n      <td>RIVER ZUARI AT MARCAIM JETTY</td>\n      <td>GOA</td>\n      <td>29.5</td>\n      <td>5.8</td>\n      <td>7.3</td>\n      <td>83.0</td>\n      <td>1.9</td>\n      <td>0.400</td>\n      <td>3428.000</td>\n      <td>5500.0</td>\n      <td>2014</td>\n      <td>141.393246</td>\n    </tr>\n    <tr>\n      <th>...</th>\n      <td>...</td>\n      <td>...</td>\n      <td>...</td>\n      <td>...</td>\n      <td>...</td>\n      <td>...</td>\n      <td>...</td>\n      <td>...</td>\n      <td>...</td>\n      <td>...</td>\n      <td>...</td>\n      <td>...</td>\n      <td>...</td>\n    </tr>\n    <tr>\n      <th>1986</th>\n      <td>1330.0</td>\n      <td>TAMBIRAPARANI AT ARUMUGANERI, TAMILNADU</td>\n      <td>NAN</td>\n      <td>NaN</td>\n      <td>7.9</td>\n      <td>738.0</td>\n      <td>7.2</td>\n      <td>2.7</td>\n      <td>0.518</td>\n      <td>0.518</td>\n      <td>202.0</td>\n      <td>2003</td>\n      <td>12746.407333</td>\n    </tr>\n    <tr>\n      <th>1987</th>\n      <td>1450.0</td>\n      <td>PALAR AT VANIYAMBADI WATER SUPPLY HEAD WORK, T...</td>\n      <td>NAN</td>\n      <td>29.0</td>\n      <td>7.5</td>\n      <td>585.0</td>\n      <td>6.3</td>\n      <td>2.6</td>\n      <td>0.155</td>\n      <td>0.155</td>\n      <td>315.0</td>\n      <td>2003</td>\n      <td>10091.343432</td>\n    </tr>\n    <tr>\n      <th>1988</th>\n      <td>1403.0</td>\n      <td>GUMTI AT U/S SOUTH TRIPURA,TRIPURA</td>\n      <td>NAN</td>\n      <td>28.0</td>\n      <td>7.6</td>\n      <td>98.0</td>\n      <td>6.2</td>\n      <td>1.2</td>\n      <td>NaN</td>\n      <td>NaN</td>\n      <td>570.0</td>\n      <td>2003</td>\n      <td>NaN</td>\n    </tr>\n    <tr>\n      <th>1989</th>\n      <td>1404.0</td>\n      <td>GUMTI AT D/S SOUTH TRIPURA, TRIPURA</td>\n      <td>NAN</td>\n      <td>28.0</td>\n      <td>7.7</td>\n      <td>91.0</td>\n      <td>6.5</td>\n      <td>1.3</td>\n      <td>NaN</td>\n      <td>NaN</td>\n      <td>562.0</td>\n      <td>2003</td>\n      <td>NaN</td>\n    </tr>\n    <tr>\n      <th>1990</th>\n      <td>1726.0</td>\n      <td>CHANDRAPUR, AGARTALA D/S OF HAORA RIVER, TRIPURA</td>\n      <td>NAN</td>\n      <td>29.0</td>\n      <td>7.6</td>\n      <td>110.0</td>\n      <td>5.7</td>\n      <td>1.1</td>\n      <td>NaN</td>\n      <td>NaN</td>\n      <td>546.0</td>\n      <td>2003</td>\n      <td>NaN</td>\n    </tr>\n  </tbody>\n</table>\n<p>1991 rows × 13 columns</p>\n</div>"
     },
     "execution_count": 241,
     "metadata": {},
     "output_type": "execute_result"
    }
   ],
   "source": [
    "df3"
   ],
   "metadata": {
    "collapsed": false,
    "pycharm": {
     "name": "#%%\n"
    }
   }
  },
  {
   "cell_type": "markdown",
   "source": [
    "# Handling missing values"
   ],
   "metadata": {
    "collapsed": false,
    "pycharm": {
     "name": "#%% md\n"
    }
   }
  },
  {
   "cell_type": "markdown",
   "source": [
    "We'll just remove them"
   ],
   "metadata": {
    "collapsed": false,
    "pycharm": {
     "name": "#%% md\n"
    }
   }
  },
  {
   "cell_type": "code",
   "execution_count": 242,
   "outputs": [
    {
     "data": {
      "text/plain": "<AxesSubplot:>"
     },
     "execution_count": 242,
     "metadata": {},
     "output_type": "execute_result"
    },
    {
     "data": {
      "text/plain": "<Figure size 1800x720 with 2 Axes>",
      "image/png": "[encoded data removed]"
     },
     "metadata": {
      "needs_background": "light"
     },
     "output_type": "display_data"
    }
   ],
   "source": [
    "msno.matrix(df3)"
   ],
   "metadata": {
    "collapsed": false,
    "pycharm": {
     "name": "#%%\n"
    }
   }
  },
  {
   "cell_type": "code",
   "execution_count": 243,
   "outputs": [
    {
     "data": {
      "text/plain": "station                122\nlocation                 0\nstate                    0\nTemp                    92\ndo                      31\nph                       8\nconductivity            25\nBOD                     43\nnn                     225\nfecal_coliform         316\ntotal_coliform_mean    132\nyear                     0\nwqi                    366\ndtype: int64"
     },
     "execution_count": 243,
     "metadata": {},
     "output_type": "execute_result"
    }
   ],
   "source": [
    "df3.isnull().sum()"
   ],
   "metadata": {
    "collapsed": false,
    "pycharm": {
     "name": "#%%\n"
    }
   }
  },
  {
   "cell_type": "code",
   "execution_count": 244,
   "outputs": [],
   "source": [
    "df4= df3.dropna()"
   ],
   "metadata": {
    "collapsed": false,
    "pycharm": {
     "name": "#%%\n"
    }
   }
  },
  {
   "cell_type": "code",
   "execution_count": 245,
   "outputs": [
    {
     "data": {
      "text/plain": "      station                                           location state  Temp  \\\n1      1399.0  ZUARI AT D/S OF PT. WHERE KUMBARJRIA CANAL JOI...   GOA  29.8   \n2      1475.0                                ZUARI AT PANCHAWADI   GOA  29.5   \n3      3181.0                        RIVER ZUARI AT BORIM BRIDGE   GOA  29.7   \n4      3182.0                       RIVER ZUARI AT MARCAIM JETTY   GOA  29.5   \n5      1400.0             MANDOVI AT NEGHBOURHOOD OF PANAJI, GOA   GOA  30.0   \n...       ...                                                ...   ...   ...   \n1981   1160.0  TAMBIRAPARANI AT CHERANMADEVI,CAUSE WAY,TAMILNADU   NAN  31.0   \n1982   1161.0  TAMBIRAPARANI AT TIRUNELVELI,COLLECTORATE,    ...   NAN  29.0   \n1984   1328.0             TAMBIRAPARANI AT PAPPANKULAM,TAMILNADU   NAN  28.0   \n1985   1329.0  TAMBIRAPARANI AT RAIL BDG. NR. AMBASAMUDAM, TA...   NAN  28.0   \n1987   1450.0  PALAR AT VANIYAMBADI WATER SUPPLY HEAD WORK, T...   NAN  29.0   \n\n       do     ph  conductivity  BOD     nn  fecal_coliform  \\\n1     5.7    7.2         189.0  2.0  0.200        4953.000   \n2     6.3    6.9         179.0  1.7  0.100        3243.000   \n3     5.8    6.9          64.0  3.8  0.500        5382.000   \n4     5.8    7.3          83.0  1.9  0.400        3428.000   \n5     5.5    7.4          81.0  1.5  0.100        2853.000   \n...   ...    ...           ...  ...    ...             ...   \n1981  7.3  178.0           6.7  1.5  0.138           0.138   \n1982  7.1  214.0           6.8  2.3  0.585           0.585   \n1984  6.9  146.0           7.1  2.0  0.506           0.506   \n1985  7.0  136.0           7.5  1.4  0.609           0.609   \n1987  7.5  585.0           6.3  2.6  0.155           0.155   \n\n      total_coliform_mean  year           wqi  \n1                  8391.0  2014    175.363506  \n2                  5330.0  2014    126.135831  \n3                  8443.0  2014    195.105659  \n4                  5500.0  2014    141.393246  \n5                  4049.0  2014    127.971746  \n...                   ...   ...           ...  \n1981                190.0  2003   3017.018760  \n1982                350.0  2003   3650.116506  \n1984                 38.0  2003   2467.864123  \n1985                205.0  2003   2288.522202  \n1987                315.0  2003  10091.343432  \n\n[1528 rows x 13 columns]",
      "text/html": "<div>\n<style scoped>\n    .dataframe tbody tr th:only-of-type {\n        vertical-align: middle;\n    }\n\n    .dataframe tbody tr th {\n        vertical-align: top;\n    }\n\n    .dataframe thead th {\n        text-align: right;\n    }\n</style>\n<table border=\"1\" class=\"dataframe\">\n  <thead>\n    <tr style=\"text-align: right;\">\n      <th></th>\n      <th>station</th>\n      <th>location</th>\n      <th>state</th>\n      <th>Temp</th>\n      <th>do</th>\n      <th>ph</th>\n      <th>conductivity</th>\n      <th>BOD</th>\n      <th>nn</th>\n      <th>fecal_coliform</th>\n      <th>total_coliform_mean</th>\n      <th>year</th>\n      <th>wqi</th>\n    </tr>\n  </thead>\n  <tbody>\n    <tr>\n      <th>1</th>\n      <td>1399.0</td>\n      <td>ZUARI AT D/S OF PT. WHERE KUMBARJRIA CANAL JOI...</td>\n      <td>GOA</td>\n      <td>29.8</td>\n      <td>5.7</td>\n      <td>7.2</td>\n      <td>189.0</td>\n      <td>2.0</td>\n      <td>0.200</td>\n      <td>4953.000</td>\n      <td>8391.0</td>\n      <td>2014</td>\n      <td>175.363506</td>\n    </tr>\n    <tr>\n      <th>2</th>\n      <td>1475.0</td>\n      <td>ZUARI AT PANCHAWADI</td>\n      <td>GOA</td>\n      <td>29.5</td>\n      <td>6.3</td>\n      <td>6.9</td>\n      <td>179.0</td>\n      <td>1.7</td>\n      <td>0.100</td>\n      <td>3243.000</td>\n      <td>5330.0</td>\n      <td>2014</td>\n      <td>126.135831</td>\n    </tr>\n    <tr>\n      <th>3</th>\n      <td>3181.0</td>\n      <td>RIVER ZUARI AT BORIM BRIDGE</td>\n      <td>GOA</td>\n      <td>29.7</td>\n      <td>5.8</td>\n      <td>6.9</td>\n      <td>64.0</td>\n      <td>3.8</td>\n      <td>0.500</td>\n      <td>5382.000</td>\n      <td>8443.0</td>\n      <td>2014</td>\n      <td>195.105659</td>\n    </tr>\n    <tr>\n      <th>4</th>\n      <td>3182.0</td>\n      <td>RIVER ZUARI AT MARCAIM JETTY</td>\n      <td>GOA</td>\n      <td>29.5</td>\n      <td>5.8</td>\n      <td>7.3</td>\n      <td>83.0</td>\n      <td>1.9</td>\n      <td>0.400</td>\n      <td>3428.000</td>\n      <td>5500.0</td>\n      <td>2014</td>\n      <td>141.393246</td>\n    </tr>\n    <tr>\n      <th>5</th>\n      <td>1400.0</td>\n      <td>MANDOVI AT NEGHBOURHOOD OF PANAJI, GOA</td>\n      <td>GOA</td>\n      <td>30.0</td>\n      <td>5.5</td>\n      <td>7.4</td>\n      <td>81.0</td>\n      <td>1.5</td>\n      <td>0.100</td>\n      <td>2853.000</td>\n      <td>4049.0</td>\n      <td>2014</td>\n      <td>127.971746</td>\n    </tr>\n    <tr>\n      <th>...</th>\n      <td>...</td>\n      <td>...</td>\n      <td>...</td>\n      <td>...</td>\n      <td>...</td>\n      <td>...</td>\n      <td>...</td>\n      <td>...</td>\n      <td>...</td>\n      <td>...</td>\n      <td>...</td>\n      <td>...</td>\n      <td>...</td>\n    </tr>\n    <tr>\n      <th>1981</th>\n      <td>1160.0</td>\n      <td>TAMBIRAPARANI AT CHERANMADEVI,CAUSE WAY,TAMILNADU</td>\n      <td>NAN</td>\n      <td>31.0</td>\n      <td>7.3</td>\n      <td>178.0</td>\n      <td>6.7</td>\n      <td>1.5</td>\n      <td>0.138</td>\n      <td>0.138</td>\n      <td>190.0</td>\n      <td>2003</td>\n      <td>3017.018760</td>\n    </tr>\n    <tr>\n      <th>1982</th>\n      <td>1161.0</td>\n      <td>TAMBIRAPARANI AT TIRUNELVELI,COLLECTORATE,    ...</td>\n      <td>NAN</td>\n      <td>29.0</td>\n      <td>7.1</td>\n      <td>214.0</td>\n      <td>6.8</td>\n      <td>2.3</td>\n      <td>0.585</td>\n      <td>0.585</td>\n      <td>350.0</td>\n      <td>2003</td>\n      <td>3650.116506</td>\n    </tr>\n    <tr>\n      <th>1984</th>\n      <td>1328.0</td>\n      <td>TAMBIRAPARANI AT PAPPANKULAM,TAMILNADU</td>\n      <td>NAN</td>\n      <td>28.0</td>\n      <td>6.9</td>\n      <td>146.0</td>\n      <td>7.1</td>\n      <td>2.0</td>\n      <td>0.506</td>\n      <td>0.506</td>\n      <td>38.0</td>\n      <td>2003</td>\n      <td>2467.864123</td>\n    </tr>\n    <tr>\n      <th>1985</th>\n      <td>1329.0</td>\n      <td>TAMBIRAPARANI AT RAIL BDG. NR. AMBASAMUDAM, TA...</td>\n      <td>NAN</td>\n      <td>28.0</td>\n      <td>7.0</td>\n      <td>136.0</td>\n      <td>7.5</td>\n      <td>1.4</td>\n      <td>0.609</td>\n      <td>0.609</td>\n      <td>205.0</td>\n      <td>2003</td>\n      <td>2288.522202</td>\n    </tr>\n    <tr>\n      <th>1987</th>\n      <td>1450.0</td>\n      <td>PALAR AT VANIYAMBADI WATER SUPPLY HEAD WORK, T...</td>\n      <td>NAN</td>\n      <td>29.0</td>\n      <td>7.5</td>\n      <td>585.0</td>\n      <td>6.3</td>\n      <td>2.6</td>\n      <td>0.155</td>\n      <td>0.155</td>\n      <td>315.0</td>\n      <td>2003</td>\n      <td>10091.343432</td>\n    </tr>\n  </tbody>\n</table>\n<p>1528 rows × 13 columns</p>\n</div>"
     },
     "execution_count": 245,
     "metadata": {},
     "output_type": "execute_result"
    }
   ],
   "source": [
    "df4"
   ],
   "metadata": {
    "collapsed": false,
    "pycharm": {
     "name": "#%%\n"
    }
   }
  },
  {
   "cell_type": "markdown",
   "source": [
    "# Feature selection"
   ],
   "metadata": {
    "collapsed": false,
    "pycharm": {
     "name": "#%% md\n"
    }
   }
  },
  {
   "cell_type": "code",
   "execution_count": 246,
   "outputs": [],
   "source": [
    "x = df4[['Temp','do','ph','conductivity','BOD','nn','fecal_coliform','total_coliform_mean']]"
   ],
   "metadata": {
    "collapsed": false,
    "pycharm": {
     "name": "#%%\n"
    }
   }
  },
  {
   "cell_type": "code",
   "execution_count": 247,
   "outputs": [],
   "source": [
    "y = df4.wqi"
   ],
   "metadata": {
    "collapsed": false,
    "pycharm": {
     "name": "#%%\n"
    }
   }
  },
  {
   "cell_type": "code",
   "execution_count": 248,
   "outputs": [
    {
     "data": {
      "text/plain": "1         175.363506\n2         126.135831\n3         195.105659\n4         141.393246\n5         127.971746\n            ...     \n1981     3017.018760\n1982     3650.116506\n1984     2467.864123\n1985     2288.522202\n1987    10091.343432\nName: wqi, Length: 1528, dtype: float64"
     },
     "execution_count": 248,
     "metadata": {},
     "output_type": "execute_result"
    }
   ],
   "source": [
    "y"
   ],
   "metadata": {
    "collapsed": false,
    "pycharm": {
     "name": "#%%\n"
    }
   }
  },
  {
   "cell_type": "markdown",
   "source": [
    "# Splitting into training and testing data"
   ],
   "metadata": {
    "collapsed": false,
    "pycharm": {
     "name": "#%% md\n"
    }
   }
  },
  {
   "cell_type": "code",
   "execution_count": 249,
   "outputs": [],
   "source": [
    "from sklearn.model_selection import train_test_split"
   ],
   "metadata": {
    "collapsed": false,
    "pycharm": {
     "name": "#%%\n"
    }
   }
  },
  {
   "cell_type": "code",
   "execution_count": 250,
   "outputs": [],
   "source": [
    "x_train, x_test, y_train, y_test =train_test_split(x,y,test_size=0.3)"
   ],
   "metadata": {
    "collapsed": false,
    "pycharm": {
     "name": "#%%\n"
    }
   }
  },
  {
   "cell_type": "code",
   "execution_count": 251,
   "outputs": [
    {
     "data": {
      "text/plain": "        Temp     do     ph  conductivity     BOD     nn  fecal_coliform  \\\n1472  30.000  2.400  6.700         221.0   2.100  3.970           220.0   \n316   28.000  6.900  7.900         131.0   3.500  0.750            41.0   \n1336  27.000  7.200  7.700         835.0   2.000  0.700          1550.0   \n1721  26.500  6.733  6.867         324.0   0.933  0.455          1973.0   \n321   24.500  6.700  7.700         141.0   3.300  3.000             4.0   \n...      ...    ...    ...           ...     ...    ...             ...   \n1761  18.333  4.033  7.667         855.0  21.333  1.767         17433.0   \n1698  27.250  7.125  7.550         418.3   1.725  0.450            18.0   \n518   28.000  6.400  6.700         175.0   1.300  0.100           772.0   \n486   20.600  7.400  7.000          69.0   1.600  3.300            17.0   \n1467  27.000  6.800  6.700          46.0   0.400  1.470            30.0   \n\n      total_coliform_mean  \n1472                660.0  \n316                  96.0  \n1336               2750.0  \n1721               2233.0  \n321                  90.0  \n...                   ...  \n1761             148667.0  \n1698                106.0  \n518                3636.0  \n486                  87.0  \n1467                150.0  \n\n[1069 rows x 8 columns]",
      "text/html": "<div>\n<style scoped>\n    .dataframe tbody tr th:only-of-type {\n        vertical-align: middle;\n    }\n\n    .dataframe tbody tr th {\n        vertical-align: top;\n    }\n\n    .dataframe thead th {\n        text-align: right;\n    }\n</style>\n<table border=\"1\" class=\"dataframe\">\n  <thead>\n    <tr style=\"text-align: right;\">\n      <th></th>\n      <th>Temp</th>\n      <th>do</th>\n      <th>ph</th>\n      <th>conductivity</th>\n      <th>BOD</th>\n      <th>nn</th>\n      <th>fecal_coliform</th>\n      <th>total_coliform_mean</th>\n    </tr>\n  </thead>\n  <tbody>\n    <tr>\n      <th>1472</th>\n      <td>30.000</td>\n      <td>2.400</td>\n      <td>6.700</td>\n      <td>221.0</td>\n      <td>2.100</td>\n      <td>3.970</td>\n      <td>220.0</td>\n      <td>660.0</td>\n    </tr>\n    <tr>\n      <th>316</th>\n      <td>28.000</td>\n      <td>6.900</td>\n      <td>7.900</td>\n      <td>131.0</td>\n      <td>3.500</td>\n      <td>0.750</td>\n      <td>41.0</td>\n      <td>96.0</td>\n    </tr>\n    <tr>\n      <th>1336</th>\n      <td>27.000</td>\n      <td>7.200</td>\n      <td>7.700</td>\n      <td>835.0</td>\n      <td>2.000</td>\n      <td>0.700</td>\n      <td>1550.0</td>\n      <td>2750.0</td>\n    </tr>\n    <tr>\n      <th>1721</th>\n      <td>26.500</td>\n      <td>6.733</td>\n      <td>6.867</td>\n      <td>324.0</td>\n      <td>0.933</td>\n      <td>0.455</td>\n      <td>1973.0</td>\n      <td>2233.0</td>\n    </tr>\n    <tr>\n      <th>321</th>\n      <td>24.500</td>\n      <td>6.700</td>\n      <td>7.700</td>\n      <td>141.0</td>\n      <td>3.300</td>\n      <td>3.000</td>\n      <td>4.0</td>\n      <td>90.0</td>\n    </tr>\n    <tr>\n      <th>...</th>\n      <td>...</td>\n      <td>...</td>\n      <td>...</td>\n      <td>...</td>\n      <td>...</td>\n      <td>...</td>\n      <td>...</td>\n      <td>...</td>\n    </tr>\n    <tr>\n      <th>1761</th>\n      <td>18.333</td>\n      <td>4.033</td>\n      <td>7.667</td>\n      <td>855.0</td>\n      <td>21.333</td>\n      <td>1.767</td>\n      <td>17433.0</td>\n      <td>148667.0</td>\n    </tr>\n    <tr>\n      <th>1698</th>\n      <td>27.250</td>\n      <td>7.125</td>\n      <td>7.550</td>\n      <td>418.3</td>\n      <td>1.725</td>\n      <td>0.450</td>\n      <td>18.0</td>\n      <td>106.0</td>\n    </tr>\n    <tr>\n      <th>518</th>\n      <td>28.000</td>\n      <td>6.400</td>\n      <td>6.700</td>\n      <td>175.0</td>\n      <td>1.300</td>\n      <td>0.100</td>\n      <td>772.0</td>\n      <td>3636.0</td>\n    </tr>\n    <tr>\n      <th>486</th>\n      <td>20.600</td>\n      <td>7.400</td>\n      <td>7.000</td>\n      <td>69.0</td>\n      <td>1.600</td>\n      <td>3.300</td>\n      <td>17.0</td>\n      <td>87.0</td>\n    </tr>\n    <tr>\n      <th>1467</th>\n      <td>27.000</td>\n      <td>6.800</td>\n      <td>6.700</td>\n      <td>46.0</td>\n      <td>0.400</td>\n      <td>1.470</td>\n      <td>30.0</td>\n      <td>150.0</td>\n    </tr>\n  </tbody>\n</table>\n<p>1069 rows × 8 columns</p>\n</div>"
     },
     "execution_count": 251,
     "metadata": {},
     "output_type": "execute_result"
    }
   ],
   "source": [
    "x_train"
   ],
   "metadata": {
    "collapsed": false,
    "pycharm": {
     "name": "#%%\n"
    }
   }
  },
  {
   "cell_type": "code",
   "execution_count": 252,
   "outputs": [
    {
     "data": {
      "text/plain": "1472     77.563682\n316      84.687736\n1336    100.576668\n1721     88.012734\n321      79.836690\n           ...    \n1761    669.612627\n1698     61.341296\n518      63.659284\n486      49.572281\n1467     36.724423\nName: wqi, Length: 1069, dtype: float64"
     },
     "execution_count": 252,
     "metadata": {},
     "output_type": "execute_result"
    }
   ],
   "source": [
    "y_train"
   ],
   "metadata": {
    "collapsed": false,
    "pycharm": {
     "name": "#%%\n"
    }
   }
  },
  {
   "cell_type": "markdown",
   "source": [
    "# SVR Pipeline: Predicting WQI"
   ],
   "metadata": {
    "collapsed": false,
    "pycharm": {
     "name": "#%% md\n"
    }
   }
  },
  {
   "cell_type": "code",
   "execution_count": 253,
   "outputs": [],
   "source": [
    "from sklearn.pipeline import Pipeline\n",
    "from sklearn.svm import SVR\n",
    "from sklearn.preprocessing import StandardScaler"
   ],
   "metadata": {
    "collapsed": false,
    "pycharm": {
     "name": "#%%\n"
    }
   }
  },
  {
   "cell_type": "code",
   "execution_count": 254,
   "outputs": [],
   "source": [
    "pipeline = Pipeline([\n",
    "    (\"Std scaling\", StandardScaler()),\n",
    "    (\"SVR\",SVR(kernel=\"poly\",C=5,gamma=\"auto\",degree=3,epsilon=0.1,coef0=1))\n",
    "     ])"
   ],
   "metadata": {
    "collapsed": false,
    "pycharm": {
     "name": "#%%\n"
    }
   }
  },
  {
   "cell_type": "code",
   "execution_count": 255,
   "outputs": [
    {
     "data": {
      "text/plain": "Pipeline(steps=[('Std scaling', StandardScaler()),\n                ('SVR', SVR(C=5, coef0=1, gamma='auto', kernel='poly'))])"
     },
     "execution_count": 255,
     "metadata": {},
     "output_type": "execute_result"
    }
   ],
   "source": [
    "pipeline.fit(x_train,y_train)"
   ],
   "metadata": {
    "collapsed": false,
    "pycharm": {
     "name": "#%%\n"
    }
   }
  },
  {
   "cell_type": "code",
   "execution_count": 256,
   "outputs": [],
   "source": [
    "y_pred = pipeline.predict(x_test)"
   ],
   "metadata": {
    "collapsed": false,
    "pycharm": {
     "name": "#%%\n"
    }
   }
  },
  {
   "cell_type": "markdown",
   "source": [
    "# SVR performance"
   ],
   "metadata": {
    "collapsed": false,
    "pycharm": {
     "name": "#%% md\n"
    }
   }
  },
  {
   "cell_type": "code",
   "execution_count": 257,
   "outputs": [],
   "source": [
    "from sklearn.metrics import mean_absolute_error,r2_score,explained_variance_score"
   ],
   "metadata": {
    "collapsed": false,
    "pycharm": {
     "name": "#%%\n"
    }
   }
  },
  {
   "cell_type": "code",
   "execution_count": 258,
   "outputs": [
    {
     "data": {
      "text/plain": "0.46985041352372636"
     },
     "execution_count": 258,
     "metadata": {},
     "output_type": "execute_result"
    }
   ],
   "source": [
    "r2_score(y_test,y_pred)"
   ],
   "metadata": {
    "collapsed": false,
    "pycharm": {
     "name": "#%%\n"
    }
   }
  },
  {
   "cell_type": "code",
   "execution_count": 259,
   "outputs": [
    {
     "data": {
      "text/plain": "6333.353312776647"
     },
     "execution_count": 259,
     "metadata": {},
     "output_type": "execute_result"
    }
   ],
   "source": [
    "mean_absolute_error(y_test,y_pred)"
   ],
   "metadata": {
    "collapsed": false,
    "pycharm": {
     "name": "#%%\n"
    }
   }
  },
  {
   "cell_type": "code",
   "execution_count": 260,
   "outputs": [
    {
     "data": {
      "text/plain": "0.4714826274879622"
     },
     "execution_count": 260,
     "metadata": {},
     "output_type": "execute_result"
    }
   ],
   "source": [
    "explained_variance_score(y_test,y_pred)"
   ],
   "metadata": {
    "collapsed": false,
    "pycharm": {
     "name": "#%%\n"
    }
   }
  },
  {
   "cell_type": "markdown",
   "source": [
    "## Visualize performance"
   ],
   "metadata": {
    "collapsed": false,
    "pycharm": {
     "name": "#%% md\n"
    }
   }
  },
  {
   "cell_type": "code",
   "execution_count": 261,
   "outputs": [
    {
     "data": {
      "text/plain": "array([ 5.83701230e+02,  1.33338866e+02,  1.69234623e+02,  6.17666604e+01,\n        1.08560384e+02,  1.24297791e+02,  7.24994191e+01,  5.97971318e+01,\n        5.66861983e+01,  1.56260862e+02,  6.69222951e+01,  6.83832172e+01,\n        7.35167682e+01,  5.45140166e+01,  5.81961072e+01,  5.88876126e+01,\n        7.30995718e+01,  1.38377180e+02,  6.54685410e+01,  7.26983103e+01,\n        7.18629845e+01,  9.01301994e+05,  7.70464664e+01,  6.45406236e+01,\n        6.31547472e+01,  9.98934018e+01,  7.19213528e+01,  5.81292992e+01,\n        6.40279066e+01,  5.32684836e+01,  6.88343736e+01,  6.31089047e+01,\n        2.03475799e+02,  6.36990713e+01,  7.20804166e+01,  5.61066993e+01,\n        7.27014240e+01,  6.80601505e+01,  8.23764664e+01,  5.45016079e+01,\n        6.27757468e+02,  8.65392550e+01,  5.88355895e+01,  7.21773634e+01,\n        6.33753988e+01,  6.62606757e+01,  2.14565799e+02,  1.42187703e+02,\n        5.91687431e+01,  7.87318562e+01,  5.51627471e+01,  1.72894822e+02,\n        5.68067152e+01,  8.46764959e+01,  6.41629047e+01,  6.05926385e+01,\n        6.12587754e+01,  8.31590124e+01,  2.93142998e+02,  6.95990656e+01,\n        5.60657900e+01,  6.75865067e+01,  6.63673830e+01,  6.40648386e+01,\n        5.73993632e+01,  1.75215910e+02,  9.77268908e+01,  8.45158306e+01,\n        5.25820264e+02,  6.16214194e+01,  6.26622847e+01,  6.19303974e+01,\n        5.96391612e+01,  7.30905289e+01,  6.80901322e+01,  6.82565180e+01,\n        2.71786516e+02,  6.45705305e+01,  7.21856240e+01,  6.21119690e+01,\n        3.84954890e+02,  9.89237967e+01,  5.65523294e+01,  2.69038242e+02,\n        6.22020026e+01,  6.15800630e+01,  8.92487404e+01,  4.94016115e+01,\n        6.45584837e+02,  6.97973918e+01,  6.82360677e+01,  6.23573714e+01,\n        9.11234968e+01,  8.53751078e+01,  5.90043575e+01,  7.54663958e+01,\n        1.24696054e+02,  5.73487192e+01,  6.57047146e+01,  1.73690400e+02,\n        4.34521567e+02,  9.78051990e+01,  8.42331590e+01,  6.46290963e+01,\n        7.42959294e+01,  6.33311233e+01,  1.86074799e+02,  6.35881555e+01,\n        2.44000057e+02,  7.30128025e+01,  6.05372846e+01,  7.38349855e+01,\n        2.32177744e+03,  5.79510197e+01,  8.22248526e+01,  6.08151794e+01,\n        8.41670824e+01,  6.47124779e+01,  6.59405455e+01,  9.19538938e+01,\n        6.44440823e+01,  6.86705490e+01,  7.25272818e+01,  1.39574869e+02,\n        6.69072447e+01,  5.98060861e+01,  5.56099006e+01,  7.30549562e+01,\n        5.98129934e+01,  6.79940505e+01,  6.25247312e+01,  6.60917611e+01,\n        5.64194396e+01,  4.58164652e+02,  6.02266952e+01,  6.33107082e+01,\n        6.24178257e+01,  6.55048081e+01,  6.64151216e+01,  6.35136373e+01,\n        6.12426986e+01,  5.80781200e+01,  6.35804370e+01,  2.75382906e+02,\n        2.72417747e+02,  7.30265792e+01,  5.99747646e+01,  7.33800591e+01,\n        6.67224261e+01,  6.65263720e+01,  5.59322388e+01,  6.90004943e+02,\n        7.46621163e+01,  6.59172120e+01,  7.16356459e+01,  6.19979070e+01,\n        5.61838844e+01,  6.09528959e+01,  6.01826962e+01,  6.42935895e+01,\n        6.88373832e+01,  7.70575396e+01,  6.45481078e+01,  1.54713774e+02,\n        4.16711291e+02,  7.42536983e+01,  5.55769760e+01,  2.76154443e+03,\n        4.78785101e+02,  6.57029050e+01,  7.02556380e+01,  6.11071636e+01,\n        6.36167595e+01,  7.59839318e+01,  5.97247545e+02,  6.07300679e+01,\n        6.33575635e+01,  7.07043341e+01,  1.35160102e+02,  6.34760360e+01,\n        6.22141087e+01,  4.84121800e+01,  6.94754175e+01,  5.61787785e+01,\n        5.38854024e+01,  6.09327180e+01,  1.23846069e+03,  4.23256013e+02,\n        7.17473355e+01,  5.56350897e+01,  6.40377695e+01,  5.66053392e+01,\n        8.58459450e+01,  6.87444131e+01,  6.08787258e+01,  7.02690911e+01,\n        6.12234147e+01,  7.36105297e+01,  7.94889078e+01,  8.57144368e+01,\n        1.18313931e+02,  7.31420356e+01,  5.92183043e+01,  6.97591121e+01,\n        3.36181443e+02,  5.48226536e+01,  6.08419031e+01,  8.30713607e+01,\n        6.70641123e+01,  6.81628121e+01,  9.26085890e+01,  5.65458103e+01,\n        6.53459430e+01,  5.88480396e+01,  6.36164552e+01,  6.68135478e+01,\n        6.07720325e+01,  6.81982954e+01,  5.45680727e+01,  6.18990481e+01,\n        7.47306180e+01,  6.02923672e+01,  7.54178432e+01,  6.25619079e+01,\n        9.48667899e+01,  5.38429558e+01,  6.98495958e+01,  6.61497058e+01,\n        1.27817742e+02,  7.23834557e+01,  6.46437249e+01,  6.99869386e+01,\n        7.78463049e+01,  5.54158876e+01,  7.18746396e+01,  5.95839139e+01,\n        1.12305023e+02,  5.98878970e+01,  6.15070701e+01,  5.95800669e+01,\n        6.01785364e+01,  5.63075859e+01,  7.57668748e+01,  5.68864542e+01,\n        6.44239049e+01,  6.39410412e+01,  6.83849503e+01,  7.01852447e+01,\n        5.72034407e+01,  4.27319188e+02,  2.37482380e+02,  5.72692365e+01,\n        6.65286682e+01,  7.48362115e+01,  4.96462734e+01,  8.87947391e+01,\n        5.77699399e+01,  1.82364506e+02,  1.22026197e+02,  3.91525041e+02,\n        7.98718756e+01,  6.73857847e+01,  6.29774524e+01,  6.80727925e+01,\n        6.18798743e+01,  6.58781573e+01,  6.45660315e+01,  6.18214927e+01,\n        8.38163578e+01,  5.58732688e+01,  5.71154387e+01,  9.60256158e+01,\n        6.41277915e+01,  6.34926910e+01,  9.13732656e+01,  7.67318247e+01,\n        5.45112751e+01,  1.33511785e+03,  5.89559889e+02,  5.96204384e+01,\n        5.88494614e+01,  7.74706868e+01,  1.38774348e+03,  6.26020089e+01,\n        6.25700598e+01,  6.79201582e+01,  1.11772902e+02,  6.83596453e+01,\n        3.18205976e+02,  6.03741925e+01,  7.88212341e+01,  7.45700270e+01,\n        1.23916961e+02,  7.97657170e+01,  9.42403987e+01,  6.69821267e+01,\n        6.77131490e+01,  5.90039862e+01,  5.99987248e+01,  6.41935333e+01,\n        6.28035108e+01,  8.66969477e+01,  8.22683413e+01,  6.30930829e+01,\n        6.51439934e+01,  8.60513190e+01,  6.05231216e+01,  2.36643110e+02,\n        7.70203848e+01,  4.60258909e+01,  5.70274821e+01,  6.80405390e+01,\n        5.98977597e+01,  6.17015281e+01,  5.78308714e+01,  1.62205277e+03,\n        7.52991539e+01,  5.39777047e+01,  6.37726561e+01,  2.87303802e+02,\n        2.54038539e+02,  5.93821156e+01,  6.13916966e+01,  6.77760050e+01,\n        5.60761227e+01,  6.40772421e+01,  5.68860224e+01,  1.17846496e+03,\n        5.73180493e+01,  9.30903293e+01,  5.76054408e+01,  6.18447317e+01,\n        4.04534094e+02,  5.33689056e+01,  7.78506635e+01,  6.78853952e+01,\n        6.61897451e+01,  5.67312337e+01,  2.52965998e+02,  7.68261499e+01,\n        5.92339833e+01,  1.86207817e+02,  6.00253419e+01,  1.40713409e+02,\n        5.28697019e+01,  6.52131658e+01,  3.43412312e+02,  7.21097319e+01,\n        7.65440594e+01,  5.39490211e+01,  1.46637944e+02,  6.63401387e+01,\n        5.69104730e+01,  6.63077290e+01,  5.87708828e+01,  5.52612713e+01,\n        6.76565950e+01,  6.23669409e+01,  6.14118210e+01,  1.22835776e+02,\n        7.32211881e+01,  1.96922458e+04,  6.43662807e+01,  6.11452448e+01,\n        6.25277806e+01,  6.17223059e+01,  5.33667007e+01,  6.53222974e+01,\n        5.53234842e+01,  5.71440528e+01,  6.29642981e+01,  7.00718875e+01,\n        1.00351566e+02,  7.29194594e+01,  1.10167628e+02,  5.58540043e+01,\n        6.92386512e+01,  6.26793812e+01,  6.50636551e+01,  5.99112379e+01,\n       -9.79620306e+00,  5.24499615e+01,  6.12310811e+01,  5.91450757e+01,\n        6.27935105e+01,  6.42425539e+01,  5.82034874e+01,  5.54135469e+01,\n        6.68813152e+01,  6.10741549e+01,  6.34122628e+01,  5.83433214e+01,\n        6.83659383e+01,  6.19338703e+01,  6.13372392e+01,  7.30094112e+01,\n        6.14854789e+01,  7.62732425e+01,  1.29574115e+02,  7.94030560e+01,\n        7.06446826e+01,  4.04791158e+02,  7.57452446e+01,  7.17894092e+01,\n        6.81017747e+01,  6.90598038e+01,  5.70832374e+01,  7.01377316e+01,\n        7.39881873e+01,  6.15382093e+01,  2.90818534e+02,  5.95312372e+01,\n        3.53978886e+02,  5.97867473e+01,  6.63926245e+01,  7.77179508e+01,\n        6.59933698e+01,  5.73864875e+01,  1.01393149e+02,  8.56406993e+01,\n        6.78094950e+01,  7.70530567e+01,  7.07078166e+01,  9.23275242e+01,\n        6.39416754e+01,  5.60084499e+01,  6.14819050e+01,  7.04279384e+01,\n        5.64218899e+01,  5.92127690e+01,  7.64510868e+01,  7.87416498e+01,\n        1.41279814e+02,  6.40809985e+01,  6.65910509e+01,  6.26945075e+01,\n        5.95670887e+01,  6.91169138e+01,  6.55280004e+01,  6.81047996e+01,\n        7.17171629e+01,  8.81584859e+01,  7.96020206e+01,  9.55024113e+01,\n        5.64264152e+01,  6.06450980e+01,  5.54894223e+02,  1.06727405e+02,\n        7.80650808e+01,  6.63981153e+01,  7.06287843e+01,  1.97102801e+05,\n        5.85925479e+01,  9.13898600e+01,  5.61012781e+01,  6.21007972e+01,\n        4.19676276e+02,  5.96734447e+01,  5.01882713e+01])"
     },
     "execution_count": 261,
     "metadata": {},
     "output_type": "execute_result"
    }
   ],
   "source": [
    "y_pred"
   ],
   "metadata": {
    "collapsed": false,
    "pycharm": {
     "name": "#%%\n"
    }
   }
  },
  {
   "cell_type": "code",
   "execution_count": 262,
   "outputs": [
    {
     "data": {
      "text/plain": "510     617.204823\n1559    138.747788\n1645    525.695478\n905      68.315965\n1231    120.685182\n           ...    \n911      57.609654\n529      49.062301\n966     828.147194\n1350     45.728574\n1462     41.998507\nName: wqi, Length: 459, dtype: float64"
     },
     "execution_count": 262,
     "metadata": {},
     "output_type": "execute_result"
    }
   ],
   "source": [
    "y_test"
   ],
   "metadata": {
    "collapsed": false,
    "pycharm": {
     "name": "#%%\n"
    }
   }
  },
  {
   "cell_type": "code",
   "execution_count": 263,
   "outputs": [
    {
     "name": "stdout",
     "output_type": "stream",
     "text": [
      "max\n",
      "901301.9935497248\n",
      "3325867.186019131\n",
      "mean\n",
      "2557.7877733597597\n",
      "8865.411093707786\n",
      "std\n",
      "42997.962800207024\n",
      "156297.0601839467\n"
     ]
    }
   ],
   "source": [
    "print('max')\n",
    "print(y_pred.max())\n",
    "print(y_test.max())\n",
    "print('mean')\n",
    "print(y_pred.mean())\n",
    "print(y_test.mean())\n",
    "print('std')\n",
    "print(y_pred.std())\n",
    "print(y_test.std())"
   ],
   "metadata": {
    "collapsed": false,
    "pycharm": {
     "name": "#%%\n"
    }
   }
  },
  {
   "cell_type": "code",
   "execution_count": 264,
   "outputs": [],
   "source": [
    "import plotly.express as px\n",
    "import seaborn as sns\n",
    "import matplotlib.pyplot as plt"
   ],
   "metadata": {
    "collapsed": false,
    "pycharm": {
     "name": "#%%\n"
    }
   }
  },
  {
   "cell_type": "code",
   "execution_count": 265,
   "outputs": [
    {
     "data": {
      "application/vnd.plotly.v1+json": {
       "data": [
        {
         "hovertemplate": "x=%{x}<br>y=%{y}<extra></extra>",
         "legendgroup": "",
         "marker": {
          "color": "#636efa",
          "symbol": "circle"
         },
         "mode": "markers",
         "name": "",
         "orientation": "v",
         "showlegend": false,
         "x": [
          617.2048231884058,
          138.74778840579708,
          525.6954782608695,
          68.31596492753624,
          120.68518173913044,
          108.21367797101449,
          162.93249681159423,
          41.37264985507247,
          267.4256139130435,
          43.76601391304346,
          71.9344168115942,
          61.26972724637681,
          83.13457391304347,
          57.23532,
          44.44467304347826,
          49.45763565217392,
          63.93305217391304,
          131.82453652173916,
          79.6655539130435,
          77.00257478260869,
          58.508266086956525,
          3325867.186019131,
          68.57932811594203,
          138.28760376811596,
          69.29200869565217,
          106.38671855072465,
          89.09232608695653,
          43.91295565217391,
          63.53059681159421,
          35.48032231884058,
          58.4938472463768,
          38.31381927536233,
          415.4177063768117,
          72.68655507246378,
          61.89300376811594,
          46.09181565217391,
          77.98234811594206,
          63.404128985507235,
          82.0121286956522,
          54.995368405797095,
          565.8697414492754,
          206.19653942028987,
          56.30134724637681,
          66.10327594202897,
          847.2231157724638,
          307.3618142028986,
          34.60870898550723,
          153.46720695652175,
          56.81084405797102,
          78.54873742028984,
          49.596342318840584,
          183.3367635362319,
          48.86079507246378,
          1531.2419208695655,
          58.862577391304356,
          50.73782898550724,
          130.2830031884058,
          52.126372173913055,
          385.3496205797102,
          65.81454144927537,
          51.435567536231886,
          64.62633942028987,
          69.33099304347826,
          1697.0452938188405,
          53.920360289855076,
          566.4111104347826,
          979.6386182608697,
          67.52377188405796,
          419.05193217391303,
          66.01077623188408,
          49.3976147826087,
          60.234263188405805,
          63.65866231884058,
          95.04236927536232,
          65.68827710144927,
          71.68987217391306,
          232.0729003768116,
          57.55316811594203,
          67.03351188405797,
          71.03287130434784,
          1121.2359724057972,
          98.3127515942029,
          49.089795072463765,
          231.49714753623186,
          49.4096484057971,
          88.24050811594205,
          90.62671739130435,
          51.08061333333333,
          795.2605368115943,
          70.73794898550724,
          73.27551449275363,
          59.40399014492755,
          59.681428405797114,
          92.81064289855074,
          44.461310434782604,
          93.78352550724638,
          131.4708315942029,
          84.9073796521739,
          43.67352985507246,
          88.48628927536234,
          474.6959686956522,
          10091.34343207971,
          78.24297333333334,
          72.34218608695653,
          74.48222173913045,
          69.416135942029,
          413.4014411594203,
          51.62477043478261,
          172.51328260869565,
          191.8577113043478,
          58.28969043478261,
          74.55789565217393,
          2055.810626376812,
          44.161133333333325,
          102.72540318840582,
          54.50045072463769,
          96.00684260869566,
          63.44778115942028,
          55.810588985507245,
          272.0691153623189,
          45.63684869565219,
          86.01370463768116,
          67.68212115942029,
          153.54773507246378,
          57.392790724637685,
          57.96639536231885,
          59.759434492753634,
          80.28080898550726,
          48.86400307246376,
          49.99791623188406,
          38.99034869565218,
          50.19398,
          29.269514492753625,
          580.0802620289854,
          46.67360202898552,
          57.46289739130435,
          50.261360347826084,
          57.46633478260869,
          56.357478550724636,
          48.17336376811594,
          51.98791362318841,
          55.514556811594204,
          52.69570724637682,
          238.3980347826087,
          267.6216284057971,
          81.48442927536233,
          34.86658376811594,
          85.89366202898552,
          66.70092463768115,
          66.69745739130435,
          44.090495942028994,
          672.6858353623188,
          79.6886623188406,
          39.62026405797102,
          76.7014684057971,
          51.597283913043476,
          35.56536927536233,
          67.87294753623188,
          97.70231892753623,
          41.049501449275354,
          216.72269130434785,
          72.4693075362319,
          52.95281362318842,
          461.20021333333335,
          1065.8549026086957,
          109.11721652173914,
          54.136975072463784,
          1477.8888489855074,
          1049.830363768116,
          74.88846144927537,
          65.47448579710145,
          47.969590144927544,
          179.49243710144927,
          81.25590985507246,
          914.1084173913044,
          58.64968405797103,
          29.554341159420296,
          175.36350579710148,
          23.052331304347817,
          151.35822376811592,
          52.191615942028996,
          58.29963246376811,
          76.85146115942031,
          36.81685391304348,
          42.89808057971015,
          151.2726150724638,
          58680.748612511605,
          624.1226544927537,
          74.75038289855074,
          61.90771507246377,
          33.19791507246378,
          52.576107246376814,
          310.43019536231884,
          111.8115527536232,
          41.472380869565214,
          91.29057942028986,
          48.82422260869566,
          59.644658985507256,
          78.06941072463769,
          90.7688724637681,
          124.69513101449276,
          71.23309623188406,
          42.53346466666667,
          131.89762144927536,
          31782.355567985513,
          45.09951507246377,
          57.03219391304348,
          195.10565884057974,
          47.00652985507247,
          83.12563188405798,
          185.55812086956524,
          458.1675507188406,
          45.033883188405795,
          52.30910376811593,
          50.23191014492754,
          59.59755681159421,
          65.13140289855072,
          94.29697362318842,
          55.25816666666668,
          68.12582811594204,
          55.60491565217391,
          52.54821536231885,
          70.0452528405797,
          63.34340289855073,
          108.1782811594203,
          48.96819999999999,
          63.17217014492755,
          49.20144724637682,
          155.60316550724636,
          82.17264898550725,
          75.57404898550726,
          84.88703681159419,
          55.7592084057971,
          49.53389362318841,
          112.45260666666667,
          33.61662782608696,
          125.99873188405799,
          61.258293333333334,
          45.58160753623188,
          65.73508028985508,
          58.52361101449275,
          1014.8527551623189,
          90.654715942029,
          60.11196289855073,
          68.65579768115941,
          63.24192985507247,
          43.30972144927536,
          73.01738492753624,
          72.82198724637682,
          976.2752272463769,
          243.13047214492755,
          136.3442939130435,
          65.3300156521739,
          79.3816556521739,
          47.853413333333336,
          359.17992753623196,
          75.88968805797101,
          941.4441816811595,
          120.46908,
          497.90129614492747,
          86.34248927536234,
          92.16553130434782,
          104.02370869565219,
          75.55725333333334,
          52.18574434782608,
          2288.5222015956524,
          66.3538095652174,
          58.624834782608694,
          90.84906405797102,
          51.438746666666674,
          49.86106724637681,
          94.89874521739131,
          41.49629652173912,
          55.2712715942029,
          4823.112556733335,
          72.07380811594203,
          49.71564,
          1712.1466237681163,
          858.3794060869566,
          57.211694782608696,
          24.583323478260873,
          84.38392231884058,
          1616.225016231884,
          63.79564985507246,
          133.11592869565217,
          45.86009652173913,
          350.6203968115942,
          324.45980202898556,
          957.1251141449276,
          99.77196811594203,
          3744.128458602899,
          73.80395014492754,
          137.91541971014487,
          92.89908318840578,
          109.08499014492753,
          84.30315855072466,
          228.52909971014498,
          61.04238869565218,
          39.34732927536232,
          63.64859710144927,
          53.233830434782604,
          102.01553623188404,
          89.16405623188408,
          125.66422898550725,
          79.43603072463767,
          51.92601826086957,
          103.56897246376813,
          199.1400747826087,
          94.99189594202899,
          48.01315246376812,
          926.5058238594202,
          55.174148115942025,
          67.11936173913044,
          67.70085710144929,
          99.68434724637682,
          1261.6306307246377,
          84.98434376811595,
          57.51598173913044,
          48.468316521739126,
          389.39839507246376,
          27344.697211734783,
          56.60621362318841,
          688.3985180855072,
          76.59827159420291,
          648.586622062319,
          83.4849968115942,
          602.538803152174,
          548.649095652174,
          78.88591672463768,
          59.95316985507246,
          48.35078260869567,
          119.2454736231884,
          561.604015942029,
          51.51566,
          81.84123652173913,
          132.98319304347825,
          64.36129710144928,
          57.48581507246377,
          221.77788144927536,
          67.32890927536232,
          75.05082840579709,
          164.1358663768116,
          58.2889431884058,
          3524.421534202899,
          49.2480063768116,
          80.27458753623186,
          390.61851710144924,
          83.96286202898551,
          81.29100173913042,
          54.49242115942029,
          132.4716455072464,
          45.503340289855075,
          74.67312724637682,
          96.12413739130434,
          45.7858631884058,
          61.02015971014493,
          162.0941794202899,
          38.85332260869566,
          53.07118347826087,
          113.5955231884058,
          85.07397072463768,
          163381.44479812903,
          131.84103507246377,
          54.132542898550724,
          62.86160289855073,
          68.15744173913043,
          1254.2094248391306,
          93.27009623188405,
          67.66596144927537,
          46.511295072463774,
          61.24183768115942,
          57.74445768115943,
          92.59439942028988,
          -10.579224347826104,
          117.91989594202899,
          25.345860579710155,
          74.21733623188405,
          71.4064852173913,
          55.58656927536232,
          67.81589449275363,
          53.828029565217385,
          51.73911826086955,
          60.961310144927545,
          55.9534768115942,
          57.19930927536233,
          42.99568376811594,
          44.26678086956522,
          55.236062608695654,
          138.67865333333333,
          93.18911449275362,
          1005.8297193753625,
          49.04326144927536,
          104.27727913043479,
          46.95664347826087,
          38.10150260869567,
          74.07394927536231,
          46.75176811594203,
          77.12187826086956,
          93.66303736231885,
          88.05058898550725,
          227.8359927536232,
          757.0261089855073,
          88.31734289855073,
          55.20390550724639,
          58.48962144927537,
          74.21209623188406,
          73.41996260869567,
          56.47239855072464,
          92.15105536231887,
          73.01684434782608,
          453.3268211594203,
          72.8731556521739,
          449.4129550724638,
          61.19888898550724,
          72.83933304347826,
          81.90575594202899,
          111.06245072463769,
          51.026509275362315,
          199.0881710144928,
          88.11006405797104,
          68.64271652173912,
          79.03411669565217,
          64.11350028985508,
          122.07547855072464,
          53.381004347826085,
          110.3863936231884,
          59.605837681159414,
          60.63514289855073,
          50.79900927536234,
          37.91992985507247,
          62.74470695652174,
          97.17264260869564,
          81.08651449275364,
          49.947249275362324,
          87.44163188405798,
          55.097143478260875,
          49.823929855072464,
          54.861776231884065,
          53.18778260869566,
          38.563651594202895,
          79.79866898550725,
          2688.8197421260866,
          102.84941710144926,
          96.32939217391306,
          82.55191101449276,
          64.79940173913045,
          419.4409443478261,
          135.19452028985506,
          90.91850289855073,
          43.88769623188406,
          59.48190579710144,
          361878.4358584826,
          137.4286275362319,
          112.37565884057972,
          57.609654492753634,
          49.06230086956522,
          828.1471936231885,
          45.72857420289855,
          41.99850695652174
         ],
         "xaxis": "x",
         "y": [
          583.7012298790613,
          133.33886621040688,
          169.2346232515278,
          61.76666040423619,
          108.56038430832233,
          124.29779119023063,
          72.49941910866268,
          59.79713177314182,
          56.68619834511829,
          156.26086159571753,
          66.92229506960646,
          68.38321723488309,
          73.51676816330308,
          54.51401658203194,
          58.196107161488925,
          58.887612573775364,
          73.09957175842652,
          138.37717983828892,
          65.46854099625978,
          72.69831031188886,
          71.86298453995306,
          901301.9935497248,
          77.0464664441102,
          64.540623623525,
          63.154747218678914,
          99.89340180417675,
          71.92135276232901,
          58.12929921006054,
          64.02790658472564,
          53.26848362443264,
          68.83437362632368,
          63.10890474913022,
          203.47579946018703,
          63.69907129169455,
          72.08041656088555,
          56.10669925643099,
          72.70142395809202,
          68.06015050080038,
          82.37646637296015,
          54.501607917162886,
          627.757468046087,
          86.53925495603126,
          58.83558948151576,
          72.17736344576686,
          63.37539883607658,
          66.2606757414236,
          214.56579891175093,
          142.1877029209536,
          59.16874311278124,
          78.73185624660097,
          55.16274709146746,
          172.89482156379447,
          56.806715163755534,
          84.67649589073622,
          64.16290466763073,
          60.592638534301315,
          61.25877538020132,
          83.15901244074536,
          293.14299774380504,
          69.59906562285644,
          56.065789998374264,
          67.58650674608792,
          66.3673830013775,
          64.06483856336071,
          57.39936320409749,
          175.2159100565898,
          97.72689076518022,
          84.51583057716317,
          525.8202637557506,
          61.62141939888012,
          62.6622847125268,
          61.930397420185194,
          59.63916116395707,
          73.09052888161293,
          68.09013223184968,
          68.256517980441,
          271.78651630426685,
          64.57053051279668,
          72.18562402922744,
          62.1119690165246,
          384.95488950296703,
          98.92379672066993,
          56.552329358978234,
          269.0382415465213,
          62.20200260996603,
          61.58006301250148,
          89.24874036398144,
          49.40161153090516,
          645.5848374998661,
          69.79739175627017,
          68.23606765495495,
          62.35737143474463,
          91.12349675164857,
          85.37510777806142,
          59.00435752368584,
          75.46639582911403,
          124.69605363163481,
          57.34871915212922,
          65.70471460640378,
          173.6903999524253,
          434.5215672636625,
          97.80519903590437,
          84.2331590283963,
          64.62909627399412,
          74.29592936389656,
          63.331123326678394,
          186.07479909846117,
          63.58815545279053,
          244.0000569189731,
          73.01280251447314,
          60.537284567644235,
          73.83498546675006,
          2321.777436500417,
          57.95101973521708,
          82.22485264938469,
          60.815179354104366,
          84.16708235254593,
          64.7124779217477,
          65.94054547410701,
          91.95389382881312,
          64.44408227785112,
          68.67054902819633,
          72.52728178372578,
          139.57486878782376,
          66.90724466008035,
          59.80608612600523,
          55.60990064807787,
          73.05495617226866,
          59.81299343507612,
          67.99405045467762,
          62.52473123243672,
          66.09176106791679,
          56.419439568507066,
          458.16465212788444,
          60.226695152940984,
          63.31070816852379,
          62.41782566213138,
          65.50480806559123,
          66.41512160839247,
          63.513637257255695,
          61.2426986198085,
          58.07812002581152,
          63.58043704901212,
          275.3829057994691,
          272.4177471526177,
          73.0265792146131,
          59.97476460159974,
          73.38005914692948,
          66.72242605334185,
          66.52637202099653,
          55.93223875271174,
          690.0049427416565,
          74.66211626403971,
          65.91721196624361,
          71.63564591819565,
          61.99790704449617,
          56.18388440144918,
          60.952895938724275,
          60.18269623386458,
          64.29358953956239,
          68.83738319164794,
          77.05753956995545,
          64.54810776237632,
          154.71377372802962,
          416.7112910483096,
          74.25369832659047,
          55.57697603457469,
          2761.544431338221,
          478.78510147945735,
          65.70290502368435,
          70.25563798449373,
          61.10716357934395,
          63.61675950380415,
          75.98393180990688,
          597.2475452698357,
          60.73006794084904,
          63.357563478579124,
          70.70433410766826,
          135.16010184620154,
          63.476035967988736,
          62.21410866071771,
          48.41217999549026,
          69.47541748999193,
          56.178778513241674,
          53.88540239961972,
          60.932717971894675,
          1238.460691862009,
          423.2560129314969,
          71.74733554821168,
          55.63508965908929,
          64.03776954013452,
          56.60533924084121,
          85.84594503096963,
          68.7444130761877,
          60.87872575190835,
          70.26909105771072,
          61.22341470147388,
          73.61052969602989,
          79.48890784079397,
          85.71443679597878,
          118.31393054023171,
          73.14203562351398,
          59.218304339963126,
          69.75911208489393,
          336.18144343304806,
          54.82265357473877,
          60.84190311794815,
          83.07136065742904,
          67.06411225701987,
          68.16281206459959,
          92.6085889738952,
          56.5458103233689,
          65.34594299330763,
          58.84803959633551,
          63.61645524307602,
          66.81354781996448,
          60.77203249787934,
          68.19829543313672,
          54.56807270450173,
          61.89904809469979,
          74.7306179769431,
          60.29236720513122,
          75.41784323744496,
          62.56190790121652,
          94.86678986611975,
          53.84295579443028,
          69.84959578002633,
          66.14970580960573,
          127.81774155581996,
          72.3834557034102,
          64.6437248967182,
          69.98693855669254,
          77.84630493071455,
          55.41588761032888,
          71.87463961332475,
          59.58391385354081,
          112.30502307180942,
          59.887897038009086,
          61.50707008489509,
          59.58006694253625,
          60.17853642543788,
          56.30758590452739,
          75.76687476499373,
          56.88645420165019,
          64.42390493774163,
          63.94104116959728,
          68.38495033358596,
          70.18524474288915,
          57.203440745322325,
          427.319187693034,
          237.4823796833476,
          57.26923648696872,
          66.52866821658395,
          74.83621145665475,
          49.646273361268506,
          88.79473907121748,
          57.76993992567628,
          182.364506243662,
          122.0261972462921,
          391.5250405697898,
          79.87187555481032,
          67.38578473728592,
          62.9774524153934,
          68.0727924540108,
          61.87987426272738,
          65.87815731102786,
          64.56603152695126,
          61.82149273636864,
          83.81635781997825,
          55.873268809404415,
          57.11543868881042,
          96.02561578598545,
          64.12779150057315,
          63.49269098622969,
          91.37326562516655,
          76.73182473607721,
          54.51127510123719,
          1335.1178493312757,
          589.559888547495,
          59.62043841756836,
          58.84946139342071,
          77.47068677027494,
          1387.7434771199826,
          62.60200887957659,
          62.570059823866764,
          67.92015822507804,
          111.7729017467996,
          68.359645255406,
          318.20597601263853,
          60.37419249175587,
          78.82123410080523,
          74.57002700062708,
          123.91696149602774,
          79.76571703652145,
          94.24039872818062,
          66.98212665174628,
          67.71314900871857,
          59.00398624228487,
          59.99872484493254,
          64.19353329811572,
          62.80351083588748,
          86.69694771939933,
          82.2683412630547,
          63.09308287585813,
          65.14399336021528,
          86.0513190210065,
          60.523121554351334,
          236.64310975948163,
          77.02038480848844,
          46.02589090101559,
          57.02748210460818,
          68.04053898997972,
          59.897759738631066,
          61.701528060204616,
          57.83087142704624,
          1622.0527659905051,
          75.29915394563405,
          53.977704739359275,
          63.77265609832743,
          287.3038023803539,
          254.03853937897154,
          59.38211564522841,
          61.391696554739454,
          67.7760049965182,
          56.07612268935581,
          64.07724206370622,
          56.88602235222737,
          1178.4649560504502,
          57.318049307789295,
          93.0903293018962,
          57.605440836591306,
          61.844731745040555,
          404.5340940912465,
          53.36890564580837,
          77.85066352278946,
          67.88539519651655,
          66.18974505564918,
          56.73123373039127,
          252.96599811183432,
          76.82614992515596,
          59.23398334004217,
          186.2078167282802,
          60.02534190497717,
          140.71340941988643,
          52.8697019240754,
          65.21316577294083,
          343.41231153190023,
          72.10973192938664,
          76.54405939717847,
          53.94902105813843,
          146.63794368058254,
          66.34013873386058,
          56.91047296871843,
          66.30772897626844,
          58.7708828077144,
          55.26127128501323,
          67.65659501063672,
          62.366940875371704,
          61.411820959743956,
          122.83577572161778,
          73.221188085225,
          19692.245811020042,
          64.36628074334519,
          61.14524476855239,
          62.527780622954126,
          61.72230593819033,
          53.366700657164714,
          65.3222973579198,
          55.32348421116151,
          57.14405281380808,
          62.964298062864984,
          70.07188748084975,
          100.35156561646566,
          72.91945941065475,
          110.16762816137249,
          55.85400434766296,
          69.23865118645294,
          62.679381184737736,
          65.0636550669818,
          59.911237936334025,
          -9.796203063292182,
          52.44996146207878,
          61.23108113183298,
          59.14507569949224,
          62.79351045023272,
          64.24255385908855,
          58.203487442237744,
          55.41354686158953,
          66.88131520319405,
          61.074154894235456,
          63.41226277158508,
          58.34332144072266,
          68.36593834904653,
          61.93387032832666,
          61.33723920816545,
          73.00941116143565,
          61.4854789145471,
          76.27324245326994,
          129.5741151705368,
          79.403056029205,
          70.64468257039397,
          404.79115754885163,
          75.7452446144002,
          71.7894091675118,
          68.10177471112777,
          69.05980383004035,
          57.083237443153735,
          70.1377316172916,
          73.9881872841272,
          61.53820929211662,
          290.8185343972875,
          59.531237197057536,
          353.97888646049626,
          59.786747319408704,
          66.39262449944502,
          77.71795084869213,
          65.99336980192774,
          57.386487477107856,
          101.39314911251117,
          85.64069930368761,
          67.8094950308077,
          77.05305669280906,
          70.70781659653413,
          92.32752417653374,
          63.941675444162115,
          56.00844988862179,
          61.48190497950931,
          70.42793839905964,
          56.42188990029964,
          59.21276902800028,
          76.45108682794208,
          78.74164981971398,
          141.27981402022448,
          64.08099846711097,
          66.59105091511108,
          62.694507540690054,
          59.56708870089271,
          69.11691377084634,
          65.52800040481935,
          68.10479956673484,
          71.71716285756557,
          88.15848588379139,
          79.60202064894118,
          95.50241131496739,
          56.4264151843979,
          60.64509796093691,
          554.8942225263739,
          106.72740538044386,
          78.0650808164314,
          66.39811530694024,
          70.62878430342647,
          197102.80101339938,
          58.59254787715628,
          91.38986001895347,
          56.10127814922987,
          62.10079724906565,
          419.6762759393331,
          59.67344470860505,
          50.18827126056793
         ],
         "yaxis": "y",
         "type": "scatter"
        }
       ],
       "layout": {
        "template": {
         "data": {
          "histogram2dcontour": [
           {
            "type": "histogram2dcontour",
            "colorbar": {
             "outlinewidth": 0,
             "ticks": ""
            },
            "colorscale": [
             [
              0.0,
              "#0d0887"
             ],
             [
              0.1111111111111111,
              "#46039f"
             ],
             [
              0.2222222222222222,
              "#7201a8"
             ],
             [
              0.3333333333333333,
              "#9c179e"
             ],
             [
              0.4444444444444444,
              "#bd3786"
             ],
             [
              0.5555555555555556,
              "#d8576b"
             ],
             [
              0.6666666666666666,
              "#ed7953"
             ],
             [
              0.7777777777777778,
              "#fb9f3a"
             ],
             [
              0.8888888888888888,
              "#fdca26"
             ],
             [
              1.0,
              "#f0f921"
             ]
            ]
           }
          ],
          "choropleth": [
           {
            "type": "choropleth",
            "colorbar": {
             "outlinewidth": 0,
             "ticks": ""
            }
           }
          ],
          "histogram2d": [
           {
            "type": "histogram2d",
            "colorbar": {
             "outlinewidth": 0,
             "ticks": ""
            },
            "colorscale": [
             [
              0.0,
              "#0d0887"
             ],
             [
              0.1111111111111111,
              "#46039f"
             ],
             [
              0.2222222222222222,
              "#7201a8"
             ],
             [
              0.3333333333333333,
              "#9c179e"
             ],
             [
              0.4444444444444444,
              "#bd3786"
             ],
             [
              0.5555555555555556,
              "#d8576b"
             ],
             [
              0.6666666666666666,
              "#ed7953"
             ],
             [
              0.7777777777777778,
              "#fb9f3a"
             ],
             [
              0.8888888888888888,
              "#fdca26"
             ],
             [
              1.0,
              "#f0f921"
             ]
            ]
           }
          ],
          "heatmap": [
           {
            "type": "heatmap",
            "colorbar": {
             "outlinewidth": 0,
             "ticks": ""
            },
            "colorscale": [
             [
              0.0,
              "#0d0887"
             ],
             [
              0.1111111111111111,
              "#46039f"
             ],
             [
              0.2222222222222222,
              "#7201a8"
             ],
             [
              0.3333333333333333,
              "#9c179e"
             ],
             [
              0.4444444444444444,
              "#bd3786"
             ],
             [
              0.5555555555555556,
              "#d8576b"
             ],
             [
              0.6666666666666666,
              "#ed7953"
             ],
             [
              0.7777777777777778,
              "#fb9f3a"
             ],
             [
              0.8888888888888888,
              "#fdca26"
             ],
             [
              1.0,
              "#f0f921"
             ]
            ]
           }
          ],
          "heatmapgl": [
           {
            "type": "heatmapgl",
            "colorbar": {
             "outlinewidth": 0,
             "ticks": ""
            },
            "colorscale": [
             [
              0.0,
              "#0d0887"
             ],
             [
              0.1111111111111111,
              "#46039f"
             ],
             [
              0.2222222222222222,
              "#7201a8"
             ],
             [
              0.3333333333333333,
              "#9c179e"
             ],
             [
              0.4444444444444444,
              "#bd3786"
             ],
             [
              0.5555555555555556,
              "#d8576b"
             ],
             [
              0.6666666666666666,
              "#ed7953"
             ],
             [
              0.7777777777777778,
              "#fb9f3a"
             ],
             [
              0.8888888888888888,
              "#fdca26"
             ],
             [
              1.0,
              "#f0f921"
             ]
            ]
           }
          ],
          "contourcarpet": [
           {
            "type": "contourcarpet",
            "colorbar": {
             "outlinewidth": 0,
             "ticks": ""
            }
           }
          ],
          "contour": [
           {
            "type": "contour",
            "colorbar": {
             "outlinewidth": 0,
             "ticks": ""
            },
            "colorscale": [
             [
              0.0,
              "#0d0887"
             ],
             [
              0.1111111111111111,
              "#46039f"
             ],
             [
              0.2222222222222222,
              "#7201a8"
             ],
             [
              0.3333333333333333,
              "#9c179e"
             ],
             [
              0.4444444444444444,
              "#bd3786"
             ],
             [
              0.5555555555555556,
              "#d8576b"
             ],
             [
              0.6666666666666666,
              "#ed7953"
             ],
             [
              0.7777777777777778,
              "#fb9f3a"
             ],
             [
              0.8888888888888888,
              "#fdca26"
             ],
             [
              1.0,
              "#f0f921"
             ]
            ]
           }
          ],
          "surface": [
           {
            "type": "surface",
            "colorbar": {
             "outlinewidth": 0,
             "ticks": ""
            },
            "colorscale": [
             [
              0.0,
              "#0d0887"
             ],
             [
              0.1111111111111111,
              "#46039f"
             ],
             [
              0.2222222222222222,
              "#7201a8"
             ],
             [
              0.3333333333333333,
              "#9c179e"
             ],
             [
              0.4444444444444444,
              "#bd3786"
             ],
             [
              0.5555555555555556,
              "#d8576b"
             ],
             [
              0.6666666666666666,
              "#ed7953"
             ],
             [
              0.7777777777777778,
              "#fb9f3a"
             ],
             [
              0.8888888888888888,
              "#fdca26"
             ],
             [
              1.0,
              "#f0f921"
             ]
            ]
           }
          ],
          "mesh3d": [
           {
            "type": "mesh3d",
            "colorbar": {
             "outlinewidth": 0,
             "ticks": ""
            }
           }
          ],
          "scatter": [
           {
            "fillpattern": {
             "fillmode": "overlay",
             "size": 10,
             "solidity": 0.2
            },
            "type": "scatter"
           }
          ],
          "parcoords": [
           {
            "type": "parcoords",
            "line": {
             "colorbar": {
              "outlinewidth": 0,
              "ticks": ""
             }
            }
           }
          ],
          "scatterpolargl": [
           {
            "type": "scatterpolargl",
            "marker": {
             "colorbar": {
              "outlinewidth": 0,
              "ticks": ""
             }
            }
           }
          ],
          "bar": [
           {
            "error_x": {
             "color": "#2a3f5f"
            },
            "error_y": {
             "color": "#2a3f5f"
            },
            "marker": {
             "line": {
              "color": "#E5ECF6",
              "width": 0.5
             },
             "pattern": {
              "fillmode": "overlay",
              "size": 10,
              "solidity": 0.2
             }
            },
            "type": "bar"
           }
          ],
          "scattergeo": [
           {
            "type": "scattergeo",
            "marker": {
             "colorbar": {
              "outlinewidth": 0,
              "ticks": ""
             }
            }
           }
          ],
          "scatterpolar": [
           {
            "type": "scatterpolar",
            "marker": {
             "colorbar": {
              "outlinewidth": 0,
              "ticks": ""
             }
            }
           }
          ],
          "histogram": [
           {
            "marker": {
             "pattern": {
              "fillmode": "overlay",
              "size": 10,
              "solidity": 0.2
             }
            },
            "type": "histogram"
           }
          ],
          "scattergl": [
           {
            "type": "scattergl",
            "marker": {
             "colorbar": {
              "outlinewidth": 0,
              "ticks": ""
             }
            }
           }
          ],
          "scatter3d": [
           {
            "type": "scatter3d",
            "line": {
             "colorbar": {
              "outlinewidth": 0,
              "ticks": ""
             }
            },
            "marker": {
             "colorbar": {
              "outlinewidth": 0,
              "ticks": ""
             }
            }
           }
          ],
          "scattermapbox": [
           {
            "type": "scattermapbox",
            "marker": {
             "colorbar": {
              "outlinewidth": 0,
              "ticks": ""
             }
            }
           }
          ],
          "scatterternary": [
           {
            "type": "scatterternary",
            "marker": {
             "colorbar": {
              "outlinewidth": 0,
              "ticks": ""
             }
            }
           }
          ],
          "scattercarpet": [
           {
            "type": "scattercarpet",
            "marker": {
             "colorbar": {
              "outlinewidth": 0,
              "ticks": ""
             }
            }
           }
          ],
          "carpet": [
           {
            "aaxis": {
             "endlinecolor": "#2a3f5f",
             "gridcolor": "white",
             "linecolor": "white",
             "minorgridcolor": "white",
             "startlinecolor": "#2a3f5f"
            },
            "baxis": {
             "endlinecolor": "#2a3f5f",
             "gridcolor": "white",
             "linecolor": "white",
             "minorgridcolor": "white",
             "startlinecolor": "#2a3f5f"
            },
            "type": "carpet"
           }
          ],
          "table": [
           {
            "cells": {
             "fill": {
              "color": "#EBF0F8"
             },
             "line": {
              "color": "white"
             }
            },
            "header": {
             "fill": {
              "color": "#C8D4E3"
             },
             "line": {
              "color": "white"
             }
            },
            "type": "table"
           }
          ],
          "barpolar": [
           {
            "marker": {
             "line": {
              "color": "#E5ECF6",
              "width": 0.5
             },
             "pattern": {
              "fillmode": "overlay",
              "size": 10,
              "solidity": 0.2
             }
            },
            "type": "barpolar"
           }
          ],
          "pie": [
           {
            "automargin": true,
            "type": "pie"
           }
          ]
         },
         "layout": {
          "autotypenumbers": "strict",
          "colorway": [
           "#636efa",
           "#EF553B",
           "#00cc96",
           "#ab63fa",
           "#FFA15A",
           "#19d3f3",
           "#FF6692",
           "#B6E880",
           "#FF97FF",
           "#FECB52"
          ],
          "font": {
           "color": "#2a3f5f"
          },
          "hovermode": "closest",
          "hoverlabel": {
           "align": "left"
          },
          "paper_bgcolor": "white",
          "plot_bgcolor": "#E5ECF6",
          "polar": {
           "bgcolor": "#E5ECF6",
           "angularaxis": {
            "gridcolor": "white",
            "linecolor": "white",
            "ticks": ""
           },
           "radialaxis": {
            "gridcolor": "white",
            "linecolor": "white",
            "ticks": ""
           }
          },
          "ternary": {
           "bgcolor": "#E5ECF6",
           "aaxis": {
            "gridcolor": "white",
            "linecolor": "white",
            "ticks": ""
           },
           "baxis": {
            "gridcolor": "white",
            "linecolor": "white",
            "ticks": ""
           },
           "caxis": {
            "gridcolor": "white",
            "linecolor": "white",
            "ticks": ""
           }
          },
          "coloraxis": {
           "colorbar": {
            "outlinewidth": 0,
            "ticks": ""
           }
          },
          "colorscale": {
           "sequential": [
            [
             0.0,
             "#0d0887"
            ],
            [
             0.1111111111111111,
             "#46039f"
            ],
            [
             0.2222222222222222,
             "#7201a8"
            ],
            [
             0.3333333333333333,
             "#9c179e"
            ],
            [
             0.4444444444444444,
             "#bd3786"
            ],
            [
             0.5555555555555556,
             "#d8576b"
            ],
            [
             0.6666666666666666,
             "#ed7953"
            ],
            [
             0.7777777777777778,
             "#fb9f3a"
            ],
            [
             0.8888888888888888,
             "#fdca26"
            ],
            [
             1.0,
             "#f0f921"
            ]
           ],
           "sequentialminus": [
            [
             0.0,
             "#0d0887"
            ],
            [
             0.1111111111111111,
             "#46039f"
            ],
            [
             0.2222222222222222,
             "#7201a8"
            ],
            [
             0.3333333333333333,
             "#9c179e"
            ],
            [
             0.4444444444444444,
             "#bd3786"
            ],
            [
             0.5555555555555556,
             "#d8576b"
            ],
            [
             0.6666666666666666,
             "#ed7953"
            ],
            [
             0.7777777777777778,
             "#fb9f3a"
            ],
            [
             0.8888888888888888,
             "#fdca26"
            ],
            [
             1.0,
             "#f0f921"
            ]
           ],
           "diverging": [
            [
             0,
             "#8e0152"
            ],
            [
             0.1,
             "#c51b7d"
            ],
            [
             0.2,
             "#de77ae"
            ],
            [
             0.3,
             "#f1b6da"
            ],
            [
             0.4,
             "#fde0ef"
            ],
            [
             0.5,
             "#f7f7f7"
            ],
            [
             0.6,
             "#e6f5d0"
            ],
            [
             0.7,
             "#b8e186"
            ],
            [
             0.8,
             "#7fbc41"
            ],
            [
             0.9,
             "#4d9221"
            ],
            [
             1,
             "#276419"
            ]
           ]
          },
          "xaxis": {
           "gridcolor": "white",
           "linecolor": "white",
           "ticks": "",
           "title": {
            "standoff": 15
           },
           "zerolinecolor": "white",
           "automargin": true,
           "zerolinewidth": 2
          },
          "yaxis": {
           "gridcolor": "white",
           "linecolor": "white",
           "ticks": "",
           "title": {
            "standoff": 15
           },
           "zerolinecolor": "white",
           "automargin": true,
           "zerolinewidth": 2
          },
          "scene": {
           "xaxis": {
            "backgroundcolor": "#E5ECF6",
            "gridcolor": "white",
            "linecolor": "white",
            "showbackground": true,
            "ticks": "",
            "zerolinecolor": "white",
            "gridwidth": 2
           },
           "yaxis": {
            "backgroundcolor": "#E5ECF6",
            "gridcolor": "white",
            "linecolor": "white",
            "showbackground": true,
            "ticks": "",
            "zerolinecolor": "white",
            "gridwidth": 2
           },
           "zaxis": {
            "backgroundcolor": "#E5ECF6",
            "gridcolor": "white",
            "linecolor": "white",
            "showbackground": true,
            "ticks": "",
            "zerolinecolor": "white",
            "gridwidth": 2
           }
          },
          "shapedefaults": {
           "line": {
            "color": "#2a3f5f"
           }
          },
          "annotationdefaults": {
           "arrowcolor": "#2a3f5f",
           "arrowhead": 0,
           "arrowwidth": 1
          },
          "geo": {
           "bgcolor": "white",
           "landcolor": "#E5ECF6",
           "subunitcolor": "white",
           "showland": true,
           "showlakes": true,
           "lakecolor": "white"
          },
          "title": {
           "x": 0.05
          },
          "mapbox": {
           "style": "light"
          }
         }
        },
        "xaxis": {
         "anchor": "y",
         "domain": [
          0.0,
          1.0
         ],
         "title": {
          "text": "x"
         }
        },
        "yaxis": {
         "anchor": "x",
         "domain": [
          0.0,
          1.0
         ],
         "title": {
          "text": "y"
         }
        },
        "legend": {
         "tracegroupgap": 0
        },
        "margin": {
         "t": 60
        }
       },
       "config": {
        "plotlyServerURL": "https://plot.ly"
       }
      },
      "text/html": "<div>                            <div id=\"7ea21eef-0052-46d2-b1d3-26824e720d91\" class=\"plotly-graph-div\" style=\"height:525px; width:100%;\"></div>            <script type=\"text/javascript\">                require([\"plotly\"], function(Plotly) {                    window.PLOTLYENV=window.PLOTLYENV || {};                                    if (document.getElementById(\"7ea21eef-0052-46d2-b1d3-26824e720d91\")) {                    Plotly.newPlot(                        \"7ea21eef-0052-46d2-b1d3-26824e720d91\",                        [{\"hovertemplate\":\"x=%{x}<br>y=%{y}<extra></extra>\",\"legendgroup\":\"\",\"marker\":{\"color\":\"#636efa\",\"symbol\":\"circle\"},\"mode\":\"markers\",\"name\":\"\",\"orientation\":\"v\",\"showlegend\":false,\"x\":[617.2048231884058,138.74778840579708,525.6954782608695,68.31596492753624,120.68518173913044,108.21367797101449,162.93249681159423,41.37264985507247,267.4256139130435,43.76601391304346,71.9344168115942,61.26972724637681,83.13457391304347,57.23532,44.44467304347826,49.45763565217392,63.93305217391304,131.82453652173916,79.6655539130435,77.00257478260869,58.508266086956525,3325867.186019131,68.57932811594203,138.28760376811596,69.29200869565217,106.38671855072465,89.09232608695653,43.91295565217391,63.53059681159421,35.48032231884058,58.4938472463768,38.31381927536233,415.4177063768117,72.68655507246378,61.89300376811594,46.09181565217391,77.98234811594206,63.404128985507235,82.0121286956522,54.995368405797095,565.8697414492754,206.19653942028987,56.30134724637681,66.10327594202897,847.2231157724638,307.3618142028986,34.60870898550723,153.46720695652175,56.81084405797102,78.54873742028984,49.596342318840584,183.3367635362319,48.86079507246378,1531.2419208695655,58.862577391304356,50.73782898550724,130.2830031884058,52.126372173913055,385.3496205797102,65.81454144927537,51.435567536231886,64.62633942028987,69.33099304347826,1697.0452938188405,53.920360289855076,566.4111104347826,979.6386182608697,67.52377188405796,419.05193217391303,66.01077623188408,49.3976147826087,60.234263188405805,63.65866231884058,95.04236927536232,65.68827710144927,71.68987217391306,232.0729003768116,57.55316811594203,67.03351188405797,71.03287130434784,1121.2359724057972,98.3127515942029,49.089795072463765,231.49714753623186,49.4096484057971,88.24050811594205,90.62671739130435,51.08061333333333,795.2605368115943,70.73794898550724,73.27551449275363,59.40399014492755,59.681428405797114,92.81064289855074,44.461310434782604,93.78352550724638,131.4708315942029,84.9073796521739,43.67352985507246,88.48628927536234,474.6959686956522,10091.34343207971,78.24297333333334,72.34218608695653,74.48222173913045,69.416135942029,413.4014411594203,51.62477043478261,172.51328260869565,191.8577113043478,58.28969043478261,74.55789565217393,2055.810626376812,44.161133333333325,102.72540318840582,54.50045072463769,96.00684260869566,63.44778115942028,55.810588985507245,272.0691153623189,45.63684869565219,86.01370463768116,67.68212115942029,153.54773507246378,57.392790724637685,57.96639536231885,59.759434492753634,80.28080898550726,48.86400307246376,49.99791623188406,38.99034869565218,50.19398,29.269514492753625,580.0802620289854,46.67360202898552,57.46289739130435,50.261360347826084,57.46633478260869,56.357478550724636,48.17336376811594,51.98791362318841,55.514556811594204,52.69570724637682,238.3980347826087,267.6216284057971,81.48442927536233,34.86658376811594,85.89366202898552,66.70092463768115,66.69745739130435,44.090495942028994,672.6858353623188,79.6886623188406,39.62026405797102,76.7014684057971,51.597283913043476,35.56536927536233,67.87294753623188,97.70231892753623,41.049501449275354,216.72269130434785,72.4693075362319,52.95281362318842,461.20021333333335,1065.8549026086957,109.11721652173914,54.136975072463784,1477.8888489855074,1049.830363768116,74.88846144927537,65.47448579710145,47.969590144927544,179.49243710144927,81.25590985507246,914.1084173913044,58.64968405797103,29.554341159420296,175.36350579710148,23.052331304347817,151.35822376811592,52.191615942028996,58.29963246376811,76.85146115942031,36.81685391304348,42.89808057971015,151.2726150724638,58680.748612511605,624.1226544927537,74.75038289855074,61.90771507246377,33.19791507246378,52.576107246376814,310.43019536231884,111.8115527536232,41.472380869565214,91.29057942028986,48.82422260869566,59.644658985507256,78.06941072463769,90.7688724637681,124.69513101449276,71.23309623188406,42.53346466666667,131.89762144927536,31782.355567985513,45.09951507246377,57.03219391304348,195.10565884057974,47.00652985507247,83.12563188405798,185.55812086956524,458.1675507188406,45.033883188405795,52.30910376811593,50.23191014492754,59.59755681159421,65.13140289855072,94.29697362318842,55.25816666666668,68.12582811594204,55.60491565217391,52.54821536231885,70.0452528405797,63.34340289855073,108.1782811594203,48.96819999999999,63.17217014492755,49.20144724637682,155.60316550724636,82.17264898550725,75.57404898550726,84.88703681159419,55.7592084057971,49.53389362318841,112.45260666666667,33.61662782608696,125.99873188405799,61.258293333333334,45.58160753623188,65.73508028985508,58.52361101449275,1014.8527551623189,90.654715942029,60.11196289855073,68.65579768115941,63.24192985507247,43.30972144927536,73.01738492753624,72.82198724637682,976.2752272463769,243.13047214492755,136.3442939130435,65.3300156521739,79.3816556521739,47.853413333333336,359.17992753623196,75.88968805797101,941.4441816811595,120.46908,497.90129614492747,86.34248927536234,92.16553130434782,104.02370869565219,75.55725333333334,52.18574434782608,2288.5222015956524,66.3538095652174,58.624834782608694,90.84906405797102,51.438746666666674,49.86106724637681,94.89874521739131,41.49629652173912,55.2712715942029,4823.112556733335,72.07380811594203,49.71564,1712.1466237681163,858.3794060869566,57.211694782608696,24.583323478260873,84.38392231884058,1616.225016231884,63.79564985507246,133.11592869565217,45.86009652173913,350.6203968115942,324.45980202898556,957.1251141449276,99.77196811594203,3744.128458602899,73.80395014492754,137.91541971014487,92.89908318840578,109.08499014492753,84.30315855072466,228.52909971014498,61.04238869565218,39.34732927536232,63.64859710144927,53.233830434782604,102.01553623188404,89.16405623188408,125.66422898550725,79.43603072463767,51.92601826086957,103.56897246376813,199.1400747826087,94.99189594202899,48.01315246376812,926.5058238594202,55.174148115942025,67.11936173913044,67.70085710144929,99.68434724637682,1261.6306307246377,84.98434376811595,57.51598173913044,48.468316521739126,389.39839507246376,27344.697211734783,56.60621362318841,688.3985180855072,76.59827159420291,648.586622062319,83.4849968115942,602.538803152174,548.649095652174,78.88591672463768,59.95316985507246,48.35078260869567,119.2454736231884,561.604015942029,51.51566,81.84123652173913,132.98319304347825,64.36129710144928,57.48581507246377,221.77788144927536,67.32890927536232,75.05082840579709,164.1358663768116,58.2889431884058,3524.421534202899,49.2480063768116,80.27458753623186,390.61851710144924,83.96286202898551,81.29100173913042,54.49242115942029,132.4716455072464,45.503340289855075,74.67312724637682,96.12413739130434,45.7858631884058,61.02015971014493,162.0941794202899,38.85332260869566,53.07118347826087,113.5955231884058,85.07397072463768,163381.44479812903,131.84103507246377,54.132542898550724,62.86160289855073,68.15744173913043,1254.2094248391306,93.27009623188405,67.66596144927537,46.511295072463774,61.24183768115942,57.74445768115943,92.59439942028988,-10.579224347826104,117.91989594202899,25.345860579710155,74.21733623188405,71.4064852173913,55.58656927536232,67.81589449275363,53.828029565217385,51.73911826086955,60.961310144927545,55.9534768115942,57.19930927536233,42.99568376811594,44.26678086956522,55.236062608695654,138.67865333333333,93.18911449275362,1005.8297193753625,49.04326144927536,104.27727913043479,46.95664347826087,38.10150260869567,74.07394927536231,46.75176811594203,77.12187826086956,93.66303736231885,88.05058898550725,227.8359927536232,757.0261089855073,88.31734289855073,55.20390550724639,58.48962144927537,74.21209623188406,73.41996260869567,56.47239855072464,92.15105536231887,73.01684434782608,453.3268211594203,72.8731556521739,449.4129550724638,61.19888898550724,72.83933304347826,81.90575594202899,111.06245072463769,51.026509275362315,199.0881710144928,88.11006405797104,68.64271652173912,79.03411669565217,64.11350028985508,122.07547855072464,53.381004347826085,110.3863936231884,59.605837681159414,60.63514289855073,50.79900927536234,37.91992985507247,62.74470695652174,97.17264260869564,81.08651449275364,49.947249275362324,87.44163188405798,55.097143478260875,49.823929855072464,54.861776231884065,53.18778260869566,38.563651594202895,79.79866898550725,2688.8197421260866,102.84941710144926,96.32939217391306,82.55191101449276,64.79940173913045,419.4409443478261,135.19452028985506,90.91850289855073,43.88769623188406,59.48190579710144,361878.4358584826,137.4286275362319,112.37565884057972,57.609654492753634,49.06230086956522,828.1471936231885,45.72857420289855,41.99850695652174],\"xaxis\":\"x\",\"y\":[583.7012298790613,133.33886621040688,169.2346232515278,61.76666040423619,108.56038430832233,124.29779119023063,72.49941910866268,59.79713177314182,56.68619834511829,156.26086159571753,66.92229506960646,68.38321723488309,73.51676816330308,54.51401658203194,58.196107161488925,58.887612573775364,73.09957175842652,138.37717983828892,65.46854099625978,72.69831031188886,71.86298453995306,901301.9935497248,77.0464664441102,64.540623623525,63.154747218678914,99.89340180417675,71.92135276232901,58.12929921006054,64.02790658472564,53.26848362443264,68.83437362632368,63.10890474913022,203.47579946018703,63.69907129169455,72.08041656088555,56.10669925643099,72.70142395809202,68.06015050080038,82.37646637296015,54.501607917162886,627.757468046087,86.53925495603126,58.83558948151576,72.17736344576686,63.37539883607658,66.2606757414236,214.56579891175093,142.1877029209536,59.16874311278124,78.73185624660097,55.16274709146746,172.89482156379447,56.806715163755534,84.67649589073622,64.16290466763073,60.592638534301315,61.25877538020132,83.15901244074536,293.14299774380504,69.59906562285644,56.065789998374264,67.58650674608792,66.3673830013775,64.06483856336071,57.39936320409749,175.2159100565898,97.72689076518022,84.51583057716317,525.8202637557506,61.62141939888012,62.6622847125268,61.930397420185194,59.63916116395707,73.09052888161293,68.09013223184968,68.256517980441,271.78651630426685,64.57053051279668,72.18562402922744,62.1119690165246,384.95488950296703,98.92379672066993,56.552329358978234,269.0382415465213,62.20200260996603,61.58006301250148,89.24874036398144,49.40161153090516,645.5848374998661,69.79739175627017,68.23606765495495,62.35737143474463,91.12349675164857,85.37510777806142,59.00435752368584,75.46639582911403,124.69605363163481,57.34871915212922,65.70471460640378,173.6903999524253,434.5215672636625,97.80519903590437,84.2331590283963,64.62909627399412,74.29592936389656,63.331123326678394,186.07479909846117,63.58815545279053,244.0000569189731,73.01280251447314,60.537284567644235,73.83498546675006,2321.777436500417,57.95101973521708,82.22485264938469,60.815179354104366,84.16708235254593,64.7124779217477,65.94054547410701,91.95389382881312,64.44408227785112,68.67054902819633,72.52728178372578,139.57486878782376,66.90724466008035,59.80608612600523,55.60990064807787,73.05495617226866,59.81299343507612,67.99405045467762,62.52473123243672,66.09176106791679,56.419439568507066,458.16465212788444,60.226695152940984,63.31070816852379,62.41782566213138,65.50480806559123,66.41512160839247,63.513637257255695,61.2426986198085,58.07812002581152,63.58043704901212,275.3829057994691,272.4177471526177,73.0265792146131,59.97476460159974,73.38005914692948,66.72242605334185,66.52637202099653,55.93223875271174,690.0049427416565,74.66211626403971,65.91721196624361,71.63564591819565,61.99790704449617,56.18388440144918,60.952895938724275,60.18269623386458,64.29358953956239,68.83738319164794,77.05753956995545,64.54810776237632,154.71377372802962,416.7112910483096,74.25369832659047,55.57697603457469,2761.544431338221,478.78510147945735,65.70290502368435,70.25563798449373,61.10716357934395,63.61675950380415,75.98393180990688,597.2475452698357,60.73006794084904,63.357563478579124,70.70433410766826,135.16010184620154,63.476035967988736,62.21410866071771,48.41217999549026,69.47541748999193,56.178778513241674,53.88540239961972,60.932717971894675,1238.460691862009,423.2560129314969,71.74733554821168,55.63508965908929,64.03776954013452,56.60533924084121,85.84594503096963,68.7444130761877,60.87872575190835,70.26909105771072,61.22341470147388,73.61052969602989,79.48890784079397,85.71443679597878,118.31393054023171,73.14203562351398,59.218304339963126,69.75911208489393,336.18144343304806,54.82265357473877,60.84190311794815,83.07136065742904,67.06411225701987,68.16281206459959,92.6085889738952,56.5458103233689,65.34594299330763,58.84803959633551,63.61645524307602,66.81354781996448,60.77203249787934,68.19829543313672,54.56807270450173,61.89904809469979,74.7306179769431,60.29236720513122,75.41784323744496,62.56190790121652,94.86678986611975,53.84295579443028,69.84959578002633,66.14970580960573,127.81774155581996,72.3834557034102,64.6437248967182,69.98693855669254,77.84630493071455,55.41588761032888,71.87463961332475,59.58391385354081,112.30502307180942,59.887897038009086,61.50707008489509,59.58006694253625,60.17853642543788,56.30758590452739,75.76687476499373,56.88645420165019,64.42390493774163,63.94104116959728,68.38495033358596,70.18524474288915,57.203440745322325,427.319187693034,237.4823796833476,57.26923648696872,66.52866821658395,74.83621145665475,49.646273361268506,88.79473907121748,57.76993992567628,182.364506243662,122.0261972462921,391.5250405697898,79.87187555481032,67.38578473728592,62.9774524153934,68.0727924540108,61.87987426272738,65.87815731102786,64.56603152695126,61.82149273636864,83.81635781997825,55.873268809404415,57.11543868881042,96.02561578598545,64.12779150057315,63.49269098622969,91.37326562516655,76.73182473607721,54.51127510123719,1335.1178493312757,589.559888547495,59.62043841756836,58.84946139342071,77.47068677027494,1387.7434771199826,62.60200887957659,62.570059823866764,67.92015822507804,111.7729017467996,68.359645255406,318.20597601263853,60.37419249175587,78.82123410080523,74.57002700062708,123.91696149602774,79.76571703652145,94.24039872818062,66.98212665174628,67.71314900871857,59.00398624228487,59.99872484493254,64.19353329811572,62.80351083588748,86.69694771939933,82.2683412630547,63.09308287585813,65.14399336021528,86.0513190210065,60.523121554351334,236.64310975948163,77.02038480848844,46.02589090101559,57.02748210460818,68.04053898997972,59.897759738631066,61.701528060204616,57.83087142704624,1622.0527659905051,75.29915394563405,53.977704739359275,63.77265609832743,287.3038023803539,254.03853937897154,59.38211564522841,61.391696554739454,67.7760049965182,56.07612268935581,64.07724206370622,56.88602235222737,1178.4649560504502,57.318049307789295,93.0903293018962,57.605440836591306,61.844731745040555,404.5340940912465,53.36890564580837,77.85066352278946,67.88539519651655,66.18974505564918,56.73123373039127,252.96599811183432,76.82614992515596,59.23398334004217,186.2078167282802,60.02534190497717,140.71340941988643,52.8697019240754,65.21316577294083,343.41231153190023,72.10973192938664,76.54405939717847,53.94902105813843,146.63794368058254,66.34013873386058,56.91047296871843,66.30772897626844,58.7708828077144,55.26127128501323,67.65659501063672,62.366940875371704,61.411820959743956,122.83577572161778,73.221188085225,19692.245811020042,64.36628074334519,61.14524476855239,62.527780622954126,61.72230593819033,53.366700657164714,65.3222973579198,55.32348421116151,57.14405281380808,62.964298062864984,70.07188748084975,100.35156561646566,72.91945941065475,110.16762816137249,55.85400434766296,69.23865118645294,62.679381184737736,65.0636550669818,59.911237936334025,-9.796203063292182,52.44996146207878,61.23108113183298,59.14507569949224,62.79351045023272,64.24255385908855,58.203487442237744,55.41354686158953,66.88131520319405,61.074154894235456,63.41226277158508,58.34332144072266,68.36593834904653,61.93387032832666,61.33723920816545,73.00941116143565,61.4854789145471,76.27324245326994,129.5741151705368,79.403056029205,70.64468257039397,404.79115754885163,75.7452446144002,71.7894091675118,68.10177471112777,69.05980383004035,57.083237443153735,70.1377316172916,73.9881872841272,61.53820929211662,290.8185343972875,59.531237197057536,353.97888646049626,59.786747319408704,66.39262449944502,77.71795084869213,65.99336980192774,57.386487477107856,101.39314911251117,85.64069930368761,67.8094950308077,77.05305669280906,70.70781659653413,92.32752417653374,63.941675444162115,56.00844988862179,61.48190497950931,70.42793839905964,56.42188990029964,59.21276902800028,76.45108682794208,78.74164981971398,141.27981402022448,64.08099846711097,66.59105091511108,62.694507540690054,59.56708870089271,69.11691377084634,65.52800040481935,68.10479956673484,71.71716285756557,88.15848588379139,79.60202064894118,95.50241131496739,56.4264151843979,60.64509796093691,554.8942225263739,106.72740538044386,78.0650808164314,66.39811530694024,70.62878430342647,197102.80101339938,58.59254787715628,91.38986001895347,56.10127814922987,62.10079724906565,419.6762759393331,59.67344470860505,50.18827126056793],\"yaxis\":\"y\",\"type\":\"scatter\"}],                        {\"template\":{\"data\":{\"histogram2dcontour\":[{\"type\":\"histogram2dcontour\",\"colorbar\":{\"outlinewidth\":0,\"ticks\":\"\"},\"colorscale\":[[0.0,\"#0d0887\"],[0.1111111111111111,\"#46039f\"],[0.2222222222222222,\"#7201a8\"],[0.3333333333333333,\"#9c179e\"],[0.4444444444444444,\"#bd3786\"],[0.5555555555555556,\"#d8576b\"],[0.6666666666666666,\"#ed7953\"],[0.7777777777777778,\"#fb9f3a\"],[0.8888888888888888,\"#fdca26\"],[1.0,\"#f0f921\"]]}],\"choropleth\":[{\"type\":\"choropleth\",\"colorbar\":{\"outlinewidth\":0,\"ticks\":\"\"}}],\"histogram2d\":[{\"type\":\"histogram2d\",\"colorbar\":{\"outlinewidth\":0,\"ticks\":\"\"},\"colorscale\":[[0.0,\"#0d0887\"],[0.1111111111111111,\"#46039f\"],[0.2222222222222222,\"#7201a8\"],[0.3333333333333333,\"#9c179e\"],[0.4444444444444444,\"#bd3786\"],[0.5555555555555556,\"#d8576b\"],[0.6666666666666666,\"#ed7953\"],[0.7777777777777778,\"#fb9f3a\"],[0.8888888888888888,\"#fdca26\"],[1.0,\"#f0f921\"]]}],\"heatmap\":[{\"type\":\"heatmap\",\"colorbar\":{\"outlinewidth\":0,\"ticks\":\"\"},\"colorscale\":[[0.0,\"#0d0887\"],[0.1111111111111111,\"#46039f\"],[0.2222222222222222,\"#7201a8\"],[0.3333333333333333,\"#9c179e\"],[0.4444444444444444,\"#bd3786\"],[0.5555555555555556,\"#d8576b\"],[0.6666666666666666,\"#ed7953\"],[0.7777777777777778,\"#fb9f3a\"],[0.8888888888888888,\"#fdca26\"],[1.0,\"#f0f921\"]]}],\"heatmapgl\":[{\"type\":\"heatmapgl\",\"colorbar\":{\"outlinewidth\":0,\"ticks\":\"\"},\"colorscale\":[[0.0,\"#0d0887\"],[0.1111111111111111,\"#46039f\"],[0.2222222222222222,\"#7201a8\"],[0.3333333333333333,\"#9c179e\"],[0.4444444444444444,\"#bd3786\"],[0.5555555555555556,\"#d8576b\"],[0.6666666666666666,\"#ed7953\"],[0.7777777777777778,\"#fb9f3a\"],[0.8888888888888888,\"#fdca26\"],[1.0,\"#f0f921\"]]}],\"contourcarpet\":[{\"type\":\"contourcarpet\",\"colorbar\":{\"outlinewidth\":0,\"ticks\":\"\"}}],\"contour\":[{\"type\":\"contour\",\"colorbar\":{\"outlinewidth\":0,\"ticks\":\"\"},\"colorscale\":[[0.0,\"#0d0887\"],[0.1111111111111111,\"#46039f\"],[0.2222222222222222,\"#7201a8\"],[0.3333333333333333,\"#9c179e\"],[0.4444444444444444,\"#bd3786\"],[0.5555555555555556,\"#d8576b\"],[0.6666666666666666,\"#ed7953\"],[0.7777777777777778,\"#fb9f3a\"],[0.8888888888888888,\"#fdca26\"],[1.0,\"#f0f921\"]]}],\"surface\":[{\"type\":\"surface\",\"colorbar\":{\"outlinewidth\":0,\"ticks\":\"\"},\"colorscale\":[[0.0,\"#0d0887\"],[0.1111111111111111,\"#46039f\"],[0.2222222222222222,\"#7201a8\"],[0.3333333333333333,\"#9c179e\"],[0.4444444444444444,\"#bd3786\"],[0.5555555555555556,\"#d8576b\"],[0.6666666666666666,\"#ed7953\"],[0.7777777777777778,\"#fb9f3a\"],[0.8888888888888888,\"#fdca26\"],[1.0,\"#f0f921\"]]}],\"mesh3d\":[{\"type\":\"mesh3d\",\"colorbar\":{\"outlinewidth\":0,\"ticks\":\"\"}}],\"scatter\":[{\"fillpattern\":{\"fillmode\":\"overlay\",\"size\":10,\"solidity\":0.2},\"type\":\"scatter\"}],\"parcoords\":[{\"type\":\"parcoords\",\"line\":{\"colorbar\":{\"outlinewidth\":0,\"ticks\":\"\"}}}],\"scatterpolargl\":[{\"type\":\"scatterpolargl\",\"marker\":{\"colorbar\":{\"outlinewidth\":0,\"ticks\":\"\"}}}],\"bar\":[{\"error_x\":{\"color\":\"#2a3f5f\"},\"error_y\":{\"color\":\"#2a3f5f\"},\"marker\":{\"line\":{\"color\":\"#E5ECF6\",\"width\":0.5},\"pattern\":{\"fillmode\":\"overlay\",\"size\":10,\"solidity\":0.2}},\"type\":\"bar\"}],\"scattergeo\":[{\"type\":\"scattergeo\",\"marker\":{\"colorbar\":{\"outlinewidth\":0,\"ticks\":\"\"}}}],\"scatterpolar\":[{\"type\":\"scatterpolar\",\"marker\":{\"colorbar\":{\"outlinewidth\":0,\"ticks\":\"\"}}}],\"histogram\":[{\"marker\":{\"pattern\":{\"fillmode\":\"overlay\",\"size\":10,\"solidity\":0.2}},\"type\":\"histogram\"}],\"scattergl\":[{\"type\":\"scattergl\",\"marker\":{\"colorbar\":{\"outlinewidth\":0,\"ticks\":\"\"}}}],\"scatter3d\":[{\"type\":\"scatter3d\",\"line\":{\"colorbar\":{\"outlinewidth\":0,\"ticks\":\"\"}},\"marker\":{\"colorbar\":{\"outlinewidth\":0,\"ticks\":\"\"}}}],\"scattermapbox\":[{\"type\":\"scattermapbox\",\"marker\":{\"colorbar\":{\"outlinewidth\":0,\"ticks\":\"\"}}}],\"scatterternary\":[{\"type\":\"scatterternary\",\"marker\":{\"colorbar\":{\"outlinewidth\":0,\"ticks\":\"\"}}}],\"scattercarpet\":[{\"type\":\"scattercarpet\",\"marker\":{\"colorbar\":{\"outlinewidth\":0,\"ticks\":\"\"}}}],\"carpet\":[{\"aaxis\":{\"endlinecolor\":\"#2a3f5f\",\"gridcolor\":\"white\",\"linecolor\":\"white\",\"minorgridcolor\":\"white\",\"startlinecolor\":\"#2a3f5f\"},\"baxis\":{\"endlinecolor\":\"#2a3f5f\",\"gridcolor\":\"white\",\"linecolor\":\"white\",\"minorgridcolor\":\"white\",\"startlinecolor\":\"#2a3f5f\"},\"type\":\"carpet\"}],\"table\":[{\"cells\":{\"fill\":{\"color\":\"#EBF0F8\"},\"line\":{\"color\":\"white\"}},\"header\":{\"fill\":{\"color\":\"#C8D4E3\"},\"line\":{\"color\":\"white\"}},\"type\":\"table\"}],\"barpolar\":[{\"marker\":{\"line\":{\"color\":\"#E5ECF6\",\"width\":0.5},\"pattern\":{\"fillmode\":\"overlay\",\"size\":10,\"solidity\":0.2}},\"type\":\"barpolar\"}],\"pie\":[{\"automargin\":true,\"type\":\"pie\"}]},\"layout\":{\"autotypenumbers\":\"strict\",\"colorway\":[\"#636efa\",\"#EF553B\",\"#00cc96\",\"#ab63fa\",\"#FFA15A\",\"#19d3f3\",\"#FF6692\",\"#B6E880\",\"#FF97FF\",\"#FECB52\"],\"font\":{\"color\":\"#2a3f5f\"},\"hovermode\":\"closest\",\"hoverlabel\":{\"align\":\"left\"},\"paper_bgcolor\":\"white\",\"plot_bgcolor\":\"#E5ECF6\",\"polar\":{\"bgcolor\":\"#E5ECF6\",\"angularaxis\":{\"gridcolor\":\"white\",\"linecolor\":\"white\",\"ticks\":\"\"},\"radialaxis\":{\"gridcolor\":\"white\",\"linecolor\":\"white\",\"ticks\":\"\"}},\"ternary\":{\"bgcolor\":\"#E5ECF6\",\"aaxis\":{\"gridcolor\":\"white\",\"linecolor\":\"white\",\"ticks\":\"\"},\"baxis\":{\"gridcolor\":\"white\",\"linecolor\":\"white\",\"ticks\":\"\"},\"caxis\":{\"gridcolor\":\"white\",\"linecolor\":\"white\",\"ticks\":\"\"}},\"coloraxis\":{\"colorbar\":{\"outlinewidth\":0,\"ticks\":\"\"}},\"colorscale\":{\"sequential\":[[0.0,\"#0d0887\"],[0.1111111111111111,\"#46039f\"],[0.2222222222222222,\"#7201a8\"],[0.3333333333333333,\"#9c179e\"],[0.4444444444444444,\"#bd3786\"],[0.5555555555555556,\"#d8576b\"],[0.6666666666666666,\"#ed7953\"],[0.7777777777777778,\"#fb9f3a\"],[0.8888888888888888,\"#fdca26\"],[1.0,\"#f0f921\"]],\"sequentialminus\":[[0.0,\"#0d0887\"],[0.1111111111111111,\"#46039f\"],[0.2222222222222222,\"#7201a8\"],[0.3333333333333333,\"#9c179e\"],[0.4444444444444444,\"#bd3786\"],[0.5555555555555556,\"#d8576b\"],[0.6666666666666666,\"#ed7953\"],[0.7777777777777778,\"#fb9f3a\"],[0.8888888888888888,\"#fdca26\"],[1.0,\"#f0f921\"]],\"diverging\":[[0,\"#8e0152\"],[0.1,\"#c51b7d\"],[0.2,\"#de77ae\"],[0.3,\"#f1b6da\"],[0.4,\"#fde0ef\"],[0.5,\"#f7f7f7\"],[0.6,\"#e6f5d0\"],[0.7,\"#b8e186\"],[0.8,\"#7fbc41\"],[0.9,\"#4d9221\"],[1,\"#276419\"]]},\"xaxis\":{\"gridcolor\":\"white\",\"linecolor\":\"white\",\"ticks\":\"\",\"title\":{\"standoff\":15},\"zerolinecolor\":\"white\",\"automargin\":true,\"zerolinewidth\":2},\"yaxis\":{\"gridcolor\":\"white\",\"linecolor\":\"white\",\"ticks\":\"\",\"title\":{\"standoff\":15},\"zerolinecolor\":\"white\",\"automargin\":true,\"zerolinewidth\":2},\"scene\":{\"xaxis\":{\"backgroundcolor\":\"#E5ECF6\",\"gridcolor\":\"white\",\"linecolor\":\"white\",\"showbackground\":true,\"ticks\":\"\",\"zerolinecolor\":\"white\",\"gridwidth\":2},\"yaxis\":{\"backgroundcolor\":\"#E5ECF6\",\"gridcolor\":\"white\",\"linecolor\":\"white\",\"showbackground\":true,\"ticks\":\"\",\"zerolinecolor\":\"white\",\"gridwidth\":2},\"zaxis\":{\"backgroundcolor\":\"#E5ECF6\",\"gridcolor\":\"white\",\"linecolor\":\"white\",\"showbackground\":true,\"ticks\":\"\",\"zerolinecolor\":\"white\",\"gridwidth\":2}},\"shapedefaults\":{\"line\":{\"color\":\"#2a3f5f\"}},\"annotationdefaults\":{\"arrowcolor\":\"#2a3f5f\",\"arrowhead\":0,\"arrowwidth\":1},\"geo\":{\"bgcolor\":\"white\",\"landcolor\":\"#E5ECF6\",\"subunitcolor\":\"white\",\"showland\":true,\"showlakes\":true,\"lakecolor\":\"white\"},\"title\":{\"x\":0.05},\"mapbox\":{\"style\":\"light\"}}},\"xaxis\":{\"anchor\":\"y\",\"domain\":[0.0,1.0],\"title\":{\"text\":\"x\"}},\"yaxis\":{\"anchor\":\"x\",\"domain\":[0.0,1.0],\"title\":{\"text\":\"y\"}},\"legend\":{\"tracegroupgap\":0},\"margin\":{\"t\":60}},                        {\"responsive\": true}                    ).then(function(){\n                            \nvar gd = document.getElementById('7ea21eef-0052-46d2-b1d3-26824e720d91');\nvar x = new MutationObserver(function (mutations, observer) {{\n        var display = window.getComputedStyle(gd).display;\n        if (!display || display === 'none') {{\n            console.log([gd, 'removed!']);\n            Plotly.purge(gd);\n            observer.disconnect();\n        }}\n}});\n\n// Listen for the removal of the full notebook cells\nvar notebookContainer = gd.closest('#notebook-container');\nif (notebookContainer) {{\n    x.observe(notebookContainer, {childList: true});\n}}\n\n// Listen for the clearing of the current output cell\nvar outputEl = gd.closest('.output');\nif (outputEl) {{\n    x.observe(outputEl, {childList: true});\n}}\n\n                        })                };                });            </script>        </div>"
     },
     "metadata": {},
     "output_type": "display_data"
    }
   ],
   "source": [
    "fig = px.scatter(x=y_test,y=y_pred\n",
    ")\n",
    "fig.show()"
   ],
   "metadata": {
    "collapsed": false,
    "pycharm": {
     "name": "#%%\n"
    }
   }
  },
  {
   "cell_type": "markdown",
   "source": [
    "# WQC determination"
   ],
   "metadata": {
    "collapsed": false,
    "pycharm": {
     "name": "#%% md\n"
    }
   }
  },
  {
   "cell_type": "markdown",
   "source": [
    "Excellent = 5\n",
    "Good = 4\n",
    "Poor = 3\n",
    "Very Poor = 2\n",
    "Unsuitable for drinking = 1"
   ],
   "metadata": {
    "collapsed": false,
    "pycharm": {
     "name": "#%% md\n"
    }
   }
  },
  {
   "cell_type": "code",
   "execution_count": 266,
   "outputs": [],
   "source": [
    "def calc_wqc(wqi):\n",
    "    WQI = wqi\n",
    "    if WQI<=25:\n",
    "        WQC=5\n",
    "    elif WQI>25 and WQI<=50:\n",
    "        WQC=4\n",
    "    elif WQI>50 and WQI<=75:\n",
    "        WQC=3\n",
    "    elif WQI>75 and WQI<=100:\n",
    "        WQC=2\n",
    "    elif WQI>100:\n",
    "        WQC=1\n",
    "    return WQC"
   ],
   "metadata": {
    "collapsed": false,
    "pycharm": {
     "name": "#%%\n"
    }
   }
  },
  {
   "cell_type": "code",
   "execution_count": 267,
   "outputs": [],
   "source": [
    "wqc = []\n",
    "for i in df4.wqi:\n",
    "    wqc.append(calc_wqc(i))"
   ],
   "metadata": {
    "collapsed": false,
    "pycharm": {
     "name": "#%%\n"
    }
   }
  },
  {
   "cell_type": "code",
   "execution_count": 268,
   "outputs": [
    {
     "name": "stderr",
     "output_type": "stream",
     "text": [
      "C:\\Users\\kople\\AppData\\Local\\Temp\\ipykernel_4492\\1716196689.py:1: SettingWithCopyWarning:\n",
      "\n",
      "\n",
      "A value is trying to be set on a copy of a slice from a DataFrame.\n",
      "Try using .loc[row_indexer,col_indexer] = value instead\n",
      "\n",
      "See the caveats in the documentation: https://pandas.pydata.org/pandas-docs/stable/user_guide/indexing.html#returning-a-view-versus-a-copy\n",
      "\n"
     ]
    }
   ],
   "source": [
    "df4['wqc']=wqc"
   ],
   "metadata": {
    "collapsed": false,
    "pycharm": {
     "name": "#%%\n"
    }
   }
  },
  {
   "cell_type": "code",
   "execution_count": 269,
   "outputs": [
    {
     "data": {
      "text/plain": "      station                                           location state  Temp  \\\n1      1399.0  ZUARI AT D/S OF PT. WHERE KUMBARJRIA CANAL JOI...   GOA  29.8   \n2      1475.0                                ZUARI AT PANCHAWADI   GOA  29.5   \n3      3181.0                        RIVER ZUARI AT BORIM BRIDGE   GOA  29.7   \n4      3182.0                       RIVER ZUARI AT MARCAIM JETTY   GOA  29.5   \n5      1400.0             MANDOVI AT NEGHBOURHOOD OF PANAJI, GOA   GOA  30.0   \n...       ...                                                ...   ...   ...   \n1981   1160.0  TAMBIRAPARANI AT CHERANMADEVI,CAUSE WAY,TAMILNADU   NAN  31.0   \n1982   1161.0  TAMBIRAPARANI AT TIRUNELVELI,COLLECTORATE,    ...   NAN  29.0   \n1984   1328.0             TAMBIRAPARANI AT PAPPANKULAM,TAMILNADU   NAN  28.0   \n1985   1329.0  TAMBIRAPARANI AT RAIL BDG. NR. AMBASAMUDAM, TA...   NAN  28.0   \n1987   1450.0  PALAR AT VANIYAMBADI WATER SUPPLY HEAD WORK, T...   NAN  29.0   \n\n       do     ph  conductivity  BOD     nn  fecal_coliform  \\\n1     5.7    7.2         189.0  2.0  0.200        4953.000   \n2     6.3    6.9         179.0  1.7  0.100        3243.000   \n3     5.8    6.9          64.0  3.8  0.500        5382.000   \n4     5.8    7.3          83.0  1.9  0.400        3428.000   \n5     5.5    7.4          81.0  1.5  0.100        2853.000   \n...   ...    ...           ...  ...    ...             ...   \n1981  7.3  178.0           6.7  1.5  0.138           0.138   \n1982  7.1  214.0           6.8  2.3  0.585           0.585   \n1984  6.9  146.0           7.1  2.0  0.506           0.506   \n1985  7.0  136.0           7.5  1.4  0.609           0.609   \n1987  7.5  585.0           6.3  2.6  0.155           0.155   \n\n      total_coliform_mean  year           wqi  wqc  \n1                  8391.0  2014    175.363506    1  \n2                  5330.0  2014    126.135831    1  \n3                  8443.0  2014    195.105659    1  \n4                  5500.0  2014    141.393246    1  \n5                  4049.0  2014    127.971746    1  \n...                   ...   ...           ...  ...  \n1981                190.0  2003   3017.018760    1  \n1982                350.0  2003   3650.116506    1  \n1984                 38.0  2003   2467.864123    1  \n1985                205.0  2003   2288.522202    1  \n1987                315.0  2003  10091.343432    1  \n\n[1528 rows x 14 columns]",
      "text/html": "<div>\n<style scoped>\n    .dataframe tbody tr th:only-of-type {\n        vertical-align: middle;\n    }\n\n    .dataframe tbody tr th {\n        vertical-align: top;\n    }\n\n    .dataframe thead th {\n        text-align: right;\n    }\n</style>\n<table border=\"1\" class=\"dataframe\">\n  <thead>\n    <tr style=\"text-align: right;\">\n      <th></th>\n      <th>station</th>\n      <th>location</th>\n      <th>state</th>\n      <th>Temp</th>\n      <th>do</th>\n      <th>ph</th>\n      <th>conductivity</th>\n      <th>BOD</th>\n      <th>nn</th>\n      <th>fecal_coliform</th>\n      <th>total_coliform_mean</th>\n      <th>year</th>\n      <th>wqi</th>\n      <th>wqc</th>\n    </tr>\n  </thead>\n  <tbody>\n    <tr>\n      <th>1</th>\n      <td>1399.0</td>\n      <td>ZUARI AT D/S OF PT. WHERE KUMBARJRIA CANAL JOI...</td>\n      <td>GOA</td>\n      <td>29.8</td>\n      <td>5.7</td>\n      <td>7.2</td>\n      <td>189.0</td>\n      <td>2.0</td>\n      <td>0.200</td>\n      <td>4953.000</td>\n      <td>8391.0</td>\n      <td>2014</td>\n      <td>175.363506</td>\n      <td>1</td>\n    </tr>\n    <tr>\n      <th>2</th>\n      <td>1475.0</td>\n      <td>ZUARI AT PANCHAWADI</td>\n      <td>GOA</td>\n      <td>29.5</td>\n      <td>6.3</td>\n      <td>6.9</td>\n      <td>179.0</td>\n      <td>1.7</td>\n      <td>0.100</td>\n      <td>3243.000</td>\n      <td>5330.0</td>\n      <td>2014</td>\n      <td>126.135831</td>\n      <td>1</td>\n    </tr>\n    <tr>\n      <th>3</th>\n      <td>3181.0</td>\n      <td>RIVER ZUARI AT BORIM BRIDGE</td>\n      <td>GOA</td>\n      <td>29.7</td>\n      <td>5.8</td>\n      <td>6.9</td>\n      <td>64.0</td>\n      <td>3.8</td>\n      <td>0.500</td>\n      <td>5382.000</td>\n      <td>8443.0</td>\n      <td>2014</td>\n      <td>195.105659</td>\n      <td>1</td>\n    </tr>\n    <tr>\n      <th>4</th>\n      <td>3182.0</td>\n      <td>RIVER ZUARI AT MARCAIM JETTY</td>\n      <td>GOA</td>\n      <td>29.5</td>\n      <td>5.8</td>\n      <td>7.3</td>\n      <td>83.0</td>\n      <td>1.9</td>\n      <td>0.400</td>\n      <td>3428.000</td>\n      <td>5500.0</td>\n      <td>2014</td>\n      <td>141.393246</td>\n      <td>1</td>\n    </tr>\n    <tr>\n      <th>5</th>\n      <td>1400.0</td>\n      <td>MANDOVI AT NEGHBOURHOOD OF PANAJI, GOA</td>\n      <td>GOA</td>\n      <td>30.0</td>\n      <td>5.5</td>\n      <td>7.4</td>\n      <td>81.0</td>\n      <td>1.5</td>\n      <td>0.100</td>\n      <td>2853.000</td>\n      <td>4049.0</td>\n      <td>2014</td>\n      <td>127.971746</td>\n      <td>1</td>\n    </tr>\n    <tr>\n      <th>...</th>\n      <td>...</td>\n      <td>...</td>\n      <td>...</td>\n      <td>...</td>\n      <td>...</td>\n      <td>...</td>\n      <td>...</td>\n      <td>...</td>\n      <td>...</td>\n      <td>...</td>\n      <td>...</td>\n      <td>...</td>\n      <td>...</td>\n      <td>...</td>\n    </tr>\n    <tr>\n      <th>1981</th>\n      <td>1160.0</td>\n      <td>TAMBIRAPARANI AT CHERANMADEVI,CAUSE WAY,TAMILNADU</td>\n      <td>NAN</td>\n      <td>31.0</td>\n      <td>7.3</td>\n      <td>178.0</td>\n      <td>6.7</td>\n      <td>1.5</td>\n      <td>0.138</td>\n      <td>0.138</td>\n      <td>190.0</td>\n      <td>2003</td>\n      <td>3017.018760</td>\n      <td>1</td>\n    </tr>\n    <tr>\n      <th>1982</th>\n      <td>1161.0</td>\n      <td>TAMBIRAPARANI AT TIRUNELVELI,COLLECTORATE,    ...</td>\n      <td>NAN</td>\n      <td>29.0</td>\n      <td>7.1</td>\n      <td>214.0</td>\n      <td>6.8</td>\n      <td>2.3</td>\n      <td>0.585</td>\n      <td>0.585</td>\n      <td>350.0</td>\n      <td>2003</td>\n      <td>3650.116506</td>\n      <td>1</td>\n    </tr>\n    <tr>\n      <th>1984</th>\n      <td>1328.0</td>\n      <td>TAMBIRAPARANI AT PAPPANKULAM,TAMILNADU</td>\n      <td>NAN</td>\n      <td>28.0</td>\n      <td>6.9</td>\n      <td>146.0</td>\n      <td>7.1</td>\n      <td>2.0</td>\n      <td>0.506</td>\n      <td>0.506</td>\n      <td>38.0</td>\n      <td>2003</td>\n      <td>2467.864123</td>\n      <td>1</td>\n    </tr>\n    <tr>\n      <th>1985</th>\n      <td>1329.0</td>\n      <td>TAMBIRAPARANI AT RAIL BDG. NR. AMBASAMUDAM, TA...</td>\n      <td>NAN</td>\n      <td>28.0</td>\n      <td>7.0</td>\n      <td>136.0</td>\n      <td>7.5</td>\n      <td>1.4</td>\n      <td>0.609</td>\n      <td>0.609</td>\n      <td>205.0</td>\n      <td>2003</td>\n      <td>2288.522202</td>\n      <td>1</td>\n    </tr>\n    <tr>\n      <th>1987</th>\n      <td>1450.0</td>\n      <td>PALAR AT VANIYAMBADI WATER SUPPLY HEAD WORK, T...</td>\n      <td>NAN</td>\n      <td>29.0</td>\n      <td>7.5</td>\n      <td>585.0</td>\n      <td>6.3</td>\n      <td>2.6</td>\n      <td>0.155</td>\n      <td>0.155</td>\n      <td>315.0</td>\n      <td>2003</td>\n      <td>10091.343432</td>\n      <td>1</td>\n    </tr>\n  </tbody>\n</table>\n<p>1528 rows × 14 columns</p>\n</div>"
     },
     "execution_count": 269,
     "metadata": {},
     "output_type": "execute_result"
    }
   ],
   "source": [
    "df4"
   ],
   "metadata": {
    "collapsed": false,
    "pycharm": {
     "name": "#%%\n"
    }
   }
  },
  {
   "cell_type": "code",
   "execution_count": 270,
   "outputs": [
    {
     "data": {
      "text/plain": "           station         Temp           do            ph  conductivity  \\\ncount  1528.000000  1528.000000  1528.000000   1528.000000   1528.000000   \nmean   1946.056937    26.284840     6.332807     70.785863   1798.718606   \nstd     777.965463     3.272678     1.290948   1128.956395   5279.702522   \nmin      17.000000    10.000000     0.000000      2.600000      3.700000   \n25%    1442.000000    25.000000     5.900000      6.900000     73.000000   \n50%    1705.000000    27.000000     6.700000      7.200000    165.000000   \n75%    2338.000000    28.325000     7.100000      7.600000    612.750000   \nmax    3473.000000    35.000000    10.000000  28598.000000  47156.000000   \n\n               BOD           nn  fecal_coliform  total_coliform_mean  \\\ncount  1528.000000  1528.000000    1.528000e+03         1.528000e+03   \nmean      4.906314     1.410666    3.964382e+05         6.445488e+05   \nstd      17.519698     2.838844    9.176190e+06         1.569837e+07   \nmin       0.100000     0.000000    0.000000e+00         4.000000e+00   \n25%       1.100000     0.250000    3.000000e+01         1.407500e+02   \n50%       1.700000     0.508000    2.280000e+02         5.910000e+02   \n75%       3.400000     1.437500    9.642500e+02         2.259500e+03   \nmax     534.500000    58.100000    2.725216e+08         5.110909e+08   \n\n              year           wqi          wqc  \ncount  1528.000000  1.528000e+03  1528.000000  \nmean   2010.580497  1.009416e+04     2.437173  \nstd       2.754065  2.071335e+05     1.069910  \nmin    2003.000000 -1.057922e+01     1.000000  \n25%    2009.000000  5.423292e+01     1.000000  \n50%    2011.000000  7.202600e+01     3.000000  \n75%    2013.000000  1.068747e+02     3.000000  \nmax    2014.000000  6.136170e+06     5.000000  ",
      "text/html": "<div>\n<style scoped>\n    .dataframe tbody tr th:only-of-type {\n        vertical-align: middle;\n    }\n\n    .dataframe tbody tr th {\n        vertical-align: top;\n    }\n\n    .dataframe thead th {\n        text-align: right;\n    }\n</style>\n<table border=\"1\" class=\"dataframe\">\n  <thead>\n    <tr style=\"text-align: right;\">\n      <th></th>\n      <th>station</th>\n      <th>Temp</th>\n      <th>do</th>\n      <th>ph</th>\n      <th>conductivity</th>\n      <th>BOD</th>\n      <th>nn</th>\n      <th>fecal_coliform</th>\n      <th>total_coliform_mean</th>\n      <th>year</th>\n      <th>wqi</th>\n      <th>wqc</th>\n    </tr>\n  </thead>\n  <tbody>\n    <tr>\n      <th>count</th>\n      <td>1528.000000</td>\n      <td>1528.000000</td>\n      <td>1528.000000</td>\n      <td>1528.000000</td>\n      <td>1528.000000</td>\n      <td>1528.000000</td>\n      <td>1528.000000</td>\n      <td>1.528000e+03</td>\n      <td>1.528000e+03</td>\n      <td>1528.000000</td>\n      <td>1.528000e+03</td>\n      <td>1528.000000</td>\n    </tr>\n    <tr>\n      <th>mean</th>\n      <td>1946.056937</td>\n      <td>26.284840</td>\n      <td>6.332807</td>\n      <td>70.785863</td>\n      <td>1798.718606</td>\n      <td>4.906314</td>\n      <td>1.410666</td>\n      <td>3.964382e+05</td>\n      <td>6.445488e+05</td>\n      <td>2010.580497</td>\n      <td>1.009416e+04</td>\n      <td>2.437173</td>\n    </tr>\n    <tr>\n      <th>std</th>\n      <td>777.965463</td>\n      <td>3.272678</td>\n      <td>1.290948</td>\n      <td>1128.956395</td>\n      <td>5279.702522</td>\n      <td>17.519698</td>\n      <td>2.838844</td>\n      <td>9.176190e+06</td>\n      <td>1.569837e+07</td>\n      <td>2.754065</td>\n      <td>2.071335e+05</td>\n      <td>1.069910</td>\n    </tr>\n    <tr>\n      <th>min</th>\n      <td>17.000000</td>\n      <td>10.000000</td>\n      <td>0.000000</td>\n      <td>2.600000</td>\n      <td>3.700000</td>\n      <td>0.100000</td>\n      <td>0.000000</td>\n      <td>0.000000e+00</td>\n      <td>4.000000e+00</td>\n      <td>2003.000000</td>\n      <td>-1.057922e+01</td>\n      <td>1.000000</td>\n    </tr>\n    <tr>\n      <th>25%</th>\n      <td>1442.000000</td>\n      <td>25.000000</td>\n      <td>5.900000</td>\n      <td>6.900000</td>\n      <td>73.000000</td>\n      <td>1.100000</td>\n      <td>0.250000</td>\n      <td>3.000000e+01</td>\n      <td>1.407500e+02</td>\n      <td>2009.000000</td>\n      <td>5.423292e+01</td>\n      <td>1.000000</td>\n    </tr>\n    <tr>\n      <th>50%</th>\n      <td>1705.000000</td>\n      <td>27.000000</td>\n      <td>6.700000</td>\n      <td>7.200000</td>\n      <td>165.000000</td>\n      <td>1.700000</td>\n      <td>0.508000</td>\n      <td>2.280000e+02</td>\n      <td>5.910000e+02</td>\n      <td>2011.000000</td>\n      <td>7.202600e+01</td>\n      <td>3.000000</td>\n    </tr>\n    <tr>\n      <th>75%</th>\n      <td>2338.000000</td>\n      <td>28.325000</td>\n      <td>7.100000</td>\n      <td>7.600000</td>\n      <td>612.750000</td>\n      <td>3.400000</td>\n      <td>1.437500</td>\n      <td>9.642500e+02</td>\n      <td>2.259500e+03</td>\n      <td>2013.000000</td>\n      <td>1.068747e+02</td>\n      <td>3.000000</td>\n    </tr>\n    <tr>\n      <th>max</th>\n      <td>3473.000000</td>\n      <td>35.000000</td>\n      <td>10.000000</td>\n      <td>28598.000000</td>\n      <td>47156.000000</td>\n      <td>534.500000</td>\n      <td>58.100000</td>\n      <td>2.725216e+08</td>\n      <td>5.110909e+08</td>\n      <td>2014.000000</td>\n      <td>6.136170e+06</td>\n      <td>5.000000</td>\n    </tr>\n  </tbody>\n</table>\n</div>"
     },
     "execution_count": 270,
     "metadata": {},
     "output_type": "execute_result"
    }
   ],
   "source": [
    "df4.describe()"
   ],
   "metadata": {
    "collapsed": false,
    "pycharm": {
     "name": "#%%\n"
    }
   }
  }
 ],
 "metadata": {
  "kernelspec": {
   "name": "base",
   "language": "python",
   "display_name": "Python (base)"
  },
  "language_info": {
   "codemirror_mode": {
    "name": "ipython",
    "version": 2
   },
   "file_extension": ".py",
   "mimetype": "text/x-python",
   "name": "python",
   "nbconvert_exporter": "python",
   "pygments_lexer": "ipython2",
   "version": "2.7.6"
  }
 },
 "nbformat": 4,
 "nbformat_minor": 0
}