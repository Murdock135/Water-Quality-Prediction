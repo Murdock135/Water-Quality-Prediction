{
 "cells": [
  {
   "cell_type": "code",
   "execution_count": 2,
   "metadata": {
    "collapsed": true,
    "pycharm": {
     "name": "#%%\n"
    }
   },
   "outputs": [],
   "source": [
    "import pandas as pd\n",
    "import os\n",
    "import sys\n",
    "import missingno as msno"
   ]
  },
  {
   "cell_type": "markdown",
   "source": [
    "# Importing the data"
   ],
   "metadata": {
    "collapsed": false,
    "pycharm": {
     "name": "#%% md\n"
    }
   }
  },
  {
   "cell_type": "code",
   "execution_count": 3,
   "outputs": [
    {
     "data": {
      "text/plain": "'C:\\\\Users\\\\kople\\\\Documents\\\\Personal Git repos\\\\Water-Quality-Prediction\\\\notebooks'"
     },
     "execution_count": 3,
     "metadata": {},
     "output_type": "execute_result"
    }
   ],
   "source": [
    "os.getcwd()"
   ],
   "metadata": {
    "collapsed": false,
    "pycharm": {
     "name": "#%%\n"
    }
   }
  },
  {
   "cell_type": "code",
   "execution_count": 4,
   "outputs": [],
   "source": [
    "df = pd.read_csv('C:/Users/kople/Documents/Personal Git repos/Water-Quality-Prediction/data/raw/water_dataX.csv',encoding='ISO-8859-1')"
   ],
   "metadata": {
    "collapsed": false,
    "pycharm": {
     "name": "#%%\n"
    }
   }
  },
  {
   "cell_type": "code",
   "execution_count": 5,
   "outputs": [
    {
     "data": {
      "text/plain": "     STATION CODE                                          LOCATIONS  \\\n0            1393               DAMANGANGA AT D/S OF MADHUBAN, DAMAN   \n1            1399  ZUARI AT D/S OF PT. WHERE KUMBARJRIA CANAL JOI...   \n2            1475                                ZUARI AT PANCHAWADI   \n3            3181                        RIVER ZUARI AT BORIM BRIDGE   \n4            3182                       RIVER ZUARI AT MARCAIM JETTY   \n...           ...                                                ...   \n1986         1330            TAMBIRAPARANI AT ARUMUGANERI, TAMILNADU   \n1987         1450  PALAR AT VANIYAMBADI WATER SUPPLY HEAD WORK, T...   \n1988         1403                 GUMTI AT U/S SOUTH TRIPURA,TRIPURA   \n1989         1404                GUMTI AT D/S SOUTH TRIPURA, TRIPURA   \n1990         1726   CHANDRAPUR, AGARTALA D/S OF HAORA RIVER, TRIPURA   \n\n            STATE  Temp D.O. (mg/l)   PH CONDUCTIVITY (µmhos/cm)  \\\n0     DAMAN & DIU  30.6         6.7  7.5                     203   \n1             GOA  29.8         5.7  7.2                     189   \n2             GOA  29.5         6.3  6.9                     179   \n3             GOA  29.7         5.8  6.9                      64   \n4             GOA  29.5         5.8  7.3                      83   \n...           ...   ...         ...  ...                     ...   \n1986          NAN   NAN         7.9  738                     7.2   \n1987          NAN    29         7.5  585                     6.3   \n1988          NAN    28         7.6   98                     6.2   \n1989          NAN    28         7.7   91                     6.5   \n1990          NAN    29         7.6  110                     5.7   \n\n     B.O.D. (mg/l) NITRATENAN N+ NITRITENANN (mg/l)  \\\n0              NAN                              0.1   \n1                2                              0.2   \n2              1.7                              0.1   \n3              3.8                              0.5   \n4              1.9                              0.4   \n...            ...                              ...   \n1986           2.7                            0.518   \n1987           2.6                            0.155   \n1988           1.2                              NAN   \n1989           1.3                              NAN   \n1990           1.1                              NAN   \n\n     FECAL COLIFORM (MPN/100ml) TOTAL COLIFORM (MPN/100ml)Mean  year  \n0                            11                             27  2014  \n1                          4953                           8391  2014  \n2                          3243                           5330  2014  \n3                          5382                           8443  2014  \n4                          3428                           5500  2014  \n...                         ...                            ...   ...  \n1986                      0.518                            202  2003  \n1987                      0.155                            315  2003  \n1988                        NAN                            570  2003  \n1989                        NAN                            562  2003  \n1990                        NAN                            546  2003  \n\n[1991 rows x 12 columns]",
      "text/html": "<div>\n<style scoped>\n    .dataframe tbody tr th:only-of-type {\n        vertical-align: middle;\n    }\n\n    .dataframe tbody tr th {\n        vertical-align: top;\n    }\n\n    .dataframe thead th {\n        text-align: right;\n    }\n</style>\n<table border=\"1\" class=\"dataframe\">\n  <thead>\n    <tr style=\"text-align: right;\">\n      <th></th>\n      <th>STATION CODE</th>\n      <th>LOCATIONS</th>\n      <th>STATE</th>\n      <th>Temp</th>\n      <th>D.O. (mg/l)</th>\n      <th>PH</th>\n      <th>CONDUCTIVITY (µmhos/cm)</th>\n      <th>B.O.D. (mg/l)</th>\n      <th>NITRATENAN N+ NITRITENANN (mg/l)</th>\n      <th>FECAL COLIFORM (MPN/100ml)</th>\n      <th>TOTAL COLIFORM (MPN/100ml)Mean</th>\n      <th>year</th>\n    </tr>\n  </thead>\n  <tbody>\n    <tr>\n      <th>0</th>\n      <td>1393</td>\n      <td>DAMANGANGA AT D/S OF MADHUBAN, DAMAN</td>\n      <td>DAMAN &amp; DIU</td>\n      <td>30.6</td>\n      <td>6.7</td>\n      <td>7.5</td>\n      <td>203</td>\n      <td>NAN</td>\n      <td>0.1</td>\n      <td>11</td>\n      <td>27</td>\n      <td>2014</td>\n    </tr>\n    <tr>\n      <th>1</th>\n      <td>1399</td>\n      <td>ZUARI AT D/S OF PT. WHERE KUMBARJRIA CANAL JOI...</td>\n      <td>GOA</td>\n      <td>29.8</td>\n      <td>5.7</td>\n      <td>7.2</td>\n      <td>189</td>\n      <td>2</td>\n      <td>0.2</td>\n      <td>4953</td>\n      <td>8391</td>\n      <td>2014</td>\n    </tr>\n    <tr>\n      <th>2</th>\n      <td>1475</td>\n      <td>ZUARI AT PANCHAWADI</td>\n      <td>GOA</td>\n      <td>29.5</td>\n      <td>6.3</td>\n      <td>6.9</td>\n      <td>179</td>\n      <td>1.7</td>\n      <td>0.1</td>\n      <td>3243</td>\n      <td>5330</td>\n      <td>2014</td>\n    </tr>\n    <tr>\n      <th>3</th>\n      <td>3181</td>\n      <td>RIVER ZUARI AT BORIM BRIDGE</td>\n      <td>GOA</td>\n      <td>29.7</td>\n      <td>5.8</td>\n      <td>6.9</td>\n      <td>64</td>\n      <td>3.8</td>\n      <td>0.5</td>\n      <td>5382</td>\n      <td>8443</td>\n      <td>2014</td>\n    </tr>\n    <tr>\n      <th>4</th>\n      <td>3182</td>\n      <td>RIVER ZUARI AT MARCAIM JETTY</td>\n      <td>GOA</td>\n      <td>29.5</td>\n      <td>5.8</td>\n      <td>7.3</td>\n      <td>83</td>\n      <td>1.9</td>\n      <td>0.4</td>\n      <td>3428</td>\n      <td>5500</td>\n      <td>2014</td>\n    </tr>\n    <tr>\n      <th>...</th>\n      <td>...</td>\n      <td>...</td>\n      <td>...</td>\n      <td>...</td>\n      <td>...</td>\n      <td>...</td>\n      <td>...</td>\n      <td>...</td>\n      <td>...</td>\n      <td>...</td>\n      <td>...</td>\n      <td>...</td>\n    </tr>\n    <tr>\n      <th>1986</th>\n      <td>1330</td>\n      <td>TAMBIRAPARANI AT ARUMUGANERI, TAMILNADU</td>\n      <td>NAN</td>\n      <td>NAN</td>\n      <td>7.9</td>\n      <td>738</td>\n      <td>7.2</td>\n      <td>2.7</td>\n      <td>0.518</td>\n      <td>0.518</td>\n      <td>202</td>\n      <td>2003</td>\n    </tr>\n    <tr>\n      <th>1987</th>\n      <td>1450</td>\n      <td>PALAR AT VANIYAMBADI WATER SUPPLY HEAD WORK, T...</td>\n      <td>NAN</td>\n      <td>29</td>\n      <td>7.5</td>\n      <td>585</td>\n      <td>6.3</td>\n      <td>2.6</td>\n      <td>0.155</td>\n      <td>0.155</td>\n      <td>315</td>\n      <td>2003</td>\n    </tr>\n    <tr>\n      <th>1988</th>\n      <td>1403</td>\n      <td>GUMTI AT U/S SOUTH TRIPURA,TRIPURA</td>\n      <td>NAN</td>\n      <td>28</td>\n      <td>7.6</td>\n      <td>98</td>\n      <td>6.2</td>\n      <td>1.2</td>\n      <td>NAN</td>\n      <td>NAN</td>\n      <td>570</td>\n      <td>2003</td>\n    </tr>\n    <tr>\n      <th>1989</th>\n      <td>1404</td>\n      <td>GUMTI AT D/S SOUTH TRIPURA, TRIPURA</td>\n      <td>NAN</td>\n      <td>28</td>\n      <td>7.7</td>\n      <td>91</td>\n      <td>6.5</td>\n      <td>1.3</td>\n      <td>NAN</td>\n      <td>NAN</td>\n      <td>562</td>\n      <td>2003</td>\n    </tr>\n    <tr>\n      <th>1990</th>\n      <td>1726</td>\n      <td>CHANDRAPUR, AGARTALA D/S OF HAORA RIVER, TRIPURA</td>\n      <td>NAN</td>\n      <td>29</td>\n      <td>7.6</td>\n      <td>110</td>\n      <td>5.7</td>\n      <td>1.1</td>\n      <td>NAN</td>\n      <td>NAN</td>\n      <td>546</td>\n      <td>2003</td>\n    </tr>\n  </tbody>\n</table>\n<p>1991 rows × 12 columns</p>\n</div>"
     },
     "execution_count": 5,
     "metadata": {},
     "output_type": "execute_result"
    }
   ],
   "source": [
    "df"
   ],
   "metadata": {
    "collapsed": false,
    "pycharm": {
     "name": "#%%\n"
    }
   }
  },
  {
   "cell_type": "code",
   "execution_count": 6,
   "outputs": [
    {
     "name": "stdout",
     "output_type": "stream",
     "text": [
      "<class 'pandas.core.frame.DataFrame'>\n",
      "RangeIndex: 1991 entries, 0 to 1990\n",
      "Data columns (total 12 columns):\n",
      " #   Column                            Non-Null Count  Dtype \n",
      "---  ------                            --------------  ----- \n",
      " 0   STATION CODE                      1991 non-null   object\n",
      " 1   LOCATIONS                         1991 non-null   object\n",
      " 2   STATE                             1991 non-null   object\n",
      " 3   Temp                              1991 non-null   object\n",
      " 4   D.O. (mg/l)                       1991 non-null   object\n",
      " 5   PH                                1991 non-null   object\n",
      " 6   CONDUCTIVITY (µmhos/cm)           1991 non-null   object\n",
      " 7   B.O.D. (mg/l)                     1991 non-null   object\n",
      " 8   NITRATENAN N+ NITRITENANN (mg/l)  1991 non-null   object\n",
      " 9   FECAL COLIFORM (MPN/100ml)        1991 non-null   object\n",
      " 10  TOTAL COLIFORM (MPN/100ml)Mean    1991 non-null   object\n",
      " 11  year                              1991 non-null   int64 \n",
      "dtypes: int64(1), object(11)\n",
      "memory usage: 186.8+ KB\n"
     ]
    }
   ],
   "source": [
    "df.info()"
   ],
   "metadata": {
    "collapsed": false,
    "pycharm": {
     "name": "#%%\n"
    }
   }
  },
  {
   "cell_type": "markdown",
   "source": [
    "# EDA on Indian dataset"
   ],
   "metadata": {
    "collapsed": false,
    "pycharm": {
     "name": "#%% md\n"
    }
   }
  },
  {
   "cell_type": "code",
   "execution_count": 7,
   "outputs": [
    {
     "data": {
      "text/plain": "STATION CODE                        object\nLOCATIONS                           object\nSTATE                               object\nTemp                                object\nD.O. (mg/l)                         object\nPH                                  object\nCONDUCTIVITY (µmhos/cm)             object\nB.O.D. (mg/l)                       object\nNITRATENAN N+ NITRITENANN (mg/l)    object\nFECAL COLIFORM (MPN/100ml)          object\nTOTAL COLIFORM (MPN/100ml)Mean      object\nyear                                 int64\ndtype: object"
     },
     "execution_count": 7,
     "metadata": {},
     "output_type": "execute_result"
    }
   ],
   "source": [
    "df.dtypes"
   ],
   "metadata": {
    "collapsed": false,
    "pycharm": {
     "name": "#%%\n"
    }
   }
  },
  {
   "cell_type": "markdown",
   "source": [
    "Converting the columns to numeric type"
   ],
   "metadata": {
    "collapsed": false,
    "pycharm": {
     "name": "#%% md\n"
    }
   }
  },
  {
   "cell_type": "code",
   "execution_count": 8,
   "outputs": [],
   "source": [
    "df['STATION CODE']= pd.to_numeric(df['STATION CODE'],errors='coerce')"
   ],
   "metadata": {
    "collapsed": false,
    "pycharm": {
     "name": "#%%\n"
    }
   }
  },
  {
   "cell_type": "code",
   "execution_count": 9,
   "outputs": [
    {
     "data": {
      "text/plain": "      STATION CODE                                          LOCATIONS STATE  \\\n260            NaN                                                NAN   NAN   \n431            NaN                                                NAN   NAN   \n1782           NaN            NAGAVALLI AT THOTAPALLI REGULATOR, A.P.   NAN   \n1783           NaN               DAMANGANGA AT D/S OF MADHUBAN, DAMAN   NAN   \n1784           NaN   DAMANGANGA  AFTER CONFL. OF PIPARIA DRAIN, DAMAN   NAN   \n...            ...                                                ...   ...   \n1897           NaN  PALAR AT VANIYAMBADI WATER SUPPLY HEAD WORK, T...   NAN   \n1898           NaN                 GUMTI AT U/S SOUTH TRIPURA,TRIPURA   NAN   \n1899           NaN                GUMTI AT D/S SOUTH TRIPURA, TRIPURA   NAN   \n1900           NaN   CHANDRAPUR, AGARTALA D/S OF HAORA RIVER, TRIPURA   NAN   \n1912           NaN                                                NAN   NAN   \n\n     Temp D.O. (mg/l)    PH CONDUCTIVITY (µmhos/cm) B.O.D. (mg/l)  \\\n260   NAN         NAN   NAN                     NAN           NAN   \n431   NAN         NAN   NAN                     NAN           NAN   \n1782   28         5.6  7.65                   375.2         1.758   \n1783  NAN         NAN  7.76                   233.3        10.825   \n1784  NAN         NAN   NAN                     NAN             1   \n...   ...         ...   ...                     ...           ...   \n1897   28         6.6  7.49                   571.5         2.091   \n1898   28         5.4  7.16                    75.8         2.092   \n1899   30         5.4  7.37                   104.8         1.802   \n1900   29         5.3  7.37                   102.2         2.552   \n1912  NAN         NAN   NAN                     NAN           NAN   \n\n     NITRATENAN N+ NITRITENANN (mg/l) FECAL COLIFORM (MPN/100ml)  \\\n260                               NAN                        NAN   \n431                               NAN                        NAN   \n1782                            1.995                       2636   \n1783                            5.657                        NAN   \n1784                             1.01                       1200   \n...                               ...                        ...   \n1897                            0.256                        151   \n1898                              NAN                        404   \n1899                            0.215                        456   \n1900                            0.202                        526   \n1912                              NAN                        NAN   \n\n     TOTAL COLIFORM (MPN/100ml)Mean  year  \n260                             NAN  2013  \n431                             NAN  2013  \n1782                          18417  2005  \n1783                            NAN  2005  \n1784                          37000  2005  \n...                             ...   ...  \n1897                            273  2005  \n1898                            513  2005  \n1899                            557  2005  \n1900                            583  2005  \n1912                            NAN  2003  \n\n[122 rows x 12 columns]",
      "text/html": "<div>\n<style scoped>\n    .dataframe tbody tr th:only-of-type {\n        vertical-align: middle;\n    }\n\n    .dataframe tbody tr th {\n        vertical-align: top;\n    }\n\n    .dataframe thead th {\n        text-align: right;\n    }\n</style>\n<table border=\"1\" class=\"dataframe\">\n  <thead>\n    <tr style=\"text-align: right;\">\n      <th></th>\n      <th>STATION CODE</th>\n      <th>LOCATIONS</th>\n      <th>STATE</th>\n      <th>Temp</th>\n      <th>D.O. (mg/l)</th>\n      <th>PH</th>\n      <th>CONDUCTIVITY (µmhos/cm)</th>\n      <th>B.O.D. (mg/l)</th>\n      <th>NITRATENAN N+ NITRITENANN (mg/l)</th>\n      <th>FECAL COLIFORM (MPN/100ml)</th>\n      <th>TOTAL COLIFORM (MPN/100ml)Mean</th>\n      <th>year</th>\n    </tr>\n  </thead>\n  <tbody>\n    <tr>\n      <th>260</th>\n      <td>NaN</td>\n      <td>NAN</td>\n      <td>NAN</td>\n      <td>NAN</td>\n      <td>NAN</td>\n      <td>NAN</td>\n      <td>NAN</td>\n      <td>NAN</td>\n      <td>NAN</td>\n      <td>NAN</td>\n      <td>NAN</td>\n      <td>2013</td>\n    </tr>\n    <tr>\n      <th>431</th>\n      <td>NaN</td>\n      <td>NAN</td>\n      <td>NAN</td>\n      <td>NAN</td>\n      <td>NAN</td>\n      <td>NAN</td>\n      <td>NAN</td>\n      <td>NAN</td>\n      <td>NAN</td>\n      <td>NAN</td>\n      <td>NAN</td>\n      <td>2013</td>\n    </tr>\n    <tr>\n      <th>1782</th>\n      <td>NaN</td>\n      <td>NAGAVALLI AT THOTAPALLI REGULATOR, A.P.</td>\n      <td>NAN</td>\n      <td>28</td>\n      <td>5.6</td>\n      <td>7.65</td>\n      <td>375.2</td>\n      <td>1.758</td>\n      <td>1.995</td>\n      <td>2636</td>\n      <td>18417</td>\n      <td>2005</td>\n    </tr>\n    <tr>\n      <th>1783</th>\n      <td>NaN</td>\n      <td>DAMANGANGA AT D/S OF MADHUBAN, DAMAN</td>\n      <td>NAN</td>\n      <td>NAN</td>\n      <td>NAN</td>\n      <td>7.76</td>\n      <td>233.3</td>\n      <td>10.825</td>\n      <td>5.657</td>\n      <td>NAN</td>\n      <td>NAN</td>\n      <td>2005</td>\n    </tr>\n    <tr>\n      <th>1784</th>\n      <td>NaN</td>\n      <td>DAMANGANGA  AFTER CONFL. OF PIPARIA DRAIN, DAMAN</td>\n      <td>NAN</td>\n      <td>NAN</td>\n      <td>NAN</td>\n      <td>NAN</td>\n      <td>NAN</td>\n      <td>1</td>\n      <td>1.01</td>\n      <td>1200</td>\n      <td>37000</td>\n      <td>2005</td>\n    </tr>\n    <tr>\n      <th>...</th>\n      <td>...</td>\n      <td>...</td>\n      <td>...</td>\n      <td>...</td>\n      <td>...</td>\n      <td>...</td>\n      <td>...</td>\n      <td>...</td>\n      <td>...</td>\n      <td>...</td>\n      <td>...</td>\n      <td>...</td>\n    </tr>\n    <tr>\n      <th>1897</th>\n      <td>NaN</td>\n      <td>PALAR AT VANIYAMBADI WATER SUPPLY HEAD WORK, T...</td>\n      <td>NAN</td>\n      <td>28</td>\n      <td>6.6</td>\n      <td>7.49</td>\n      <td>571.5</td>\n      <td>2.091</td>\n      <td>0.256</td>\n      <td>151</td>\n      <td>273</td>\n      <td>2005</td>\n    </tr>\n    <tr>\n      <th>1898</th>\n      <td>NaN</td>\n      <td>GUMTI AT U/S SOUTH TRIPURA,TRIPURA</td>\n      <td>NAN</td>\n      <td>28</td>\n      <td>5.4</td>\n      <td>7.16</td>\n      <td>75.8</td>\n      <td>2.092</td>\n      <td>NAN</td>\n      <td>404</td>\n      <td>513</td>\n      <td>2005</td>\n    </tr>\n    <tr>\n      <th>1899</th>\n      <td>NaN</td>\n      <td>GUMTI AT D/S SOUTH TRIPURA, TRIPURA</td>\n      <td>NAN</td>\n      <td>30</td>\n      <td>5.4</td>\n      <td>7.37</td>\n      <td>104.8</td>\n      <td>1.802</td>\n      <td>0.215</td>\n      <td>456</td>\n      <td>557</td>\n      <td>2005</td>\n    </tr>\n    <tr>\n      <th>1900</th>\n      <td>NaN</td>\n      <td>CHANDRAPUR, AGARTALA D/S OF HAORA RIVER, TRIPURA</td>\n      <td>NAN</td>\n      <td>29</td>\n      <td>5.3</td>\n      <td>7.37</td>\n      <td>102.2</td>\n      <td>2.552</td>\n      <td>0.202</td>\n      <td>526</td>\n      <td>583</td>\n      <td>2005</td>\n    </tr>\n    <tr>\n      <th>1912</th>\n      <td>NaN</td>\n      <td>NAN</td>\n      <td>NAN</td>\n      <td>NAN</td>\n      <td>NAN</td>\n      <td>NAN</td>\n      <td>NAN</td>\n      <td>NAN</td>\n      <td>NAN</td>\n      <td>NAN</td>\n      <td>NAN</td>\n      <td>2003</td>\n    </tr>\n  </tbody>\n</table>\n<p>122 rows × 12 columns</p>\n</div>"
     },
     "execution_count": 9,
     "metadata": {},
     "output_type": "execute_result"
    }
   ],
   "source": [
    "df[df['STATION CODE'].isnull()]"
   ],
   "metadata": {
    "collapsed": false,
    "pycharm": {
     "name": "#%%\n"
    }
   }
  },
  {
   "cell_type": "code",
   "execution_count": 10,
   "outputs": [],
   "source": [
    "df['Temp']= pd.to_numeric(df['Temp'],errors='coerce')"
   ],
   "metadata": {
    "collapsed": false,
    "pycharm": {
     "name": "#%%\n"
    }
   }
  },
  {
   "cell_type": "code",
   "execution_count": 11,
   "outputs": [],
   "source": [
    "df['D.O. (mg/l)']= pd.to_numeric(df['D.O. (mg/l)'],errors='coerce')"
   ],
   "metadata": {
    "collapsed": false,
    "pycharm": {
     "name": "#%%\n"
    }
   }
  },
  {
   "cell_type": "code",
   "execution_count": 12,
   "outputs": [],
   "source": [
    "df['PH']= pd.to_numeric(df['PH'],errors='coerce')"
   ],
   "metadata": {
    "collapsed": false,
    "pycharm": {
     "name": "#%%\n"
    }
   }
  },
  {
   "cell_type": "code",
   "execution_count": 13,
   "outputs": [],
   "source": [
    "df['CONDUCTIVITY (µmhos/cm)']= pd.to_numeric(df['CONDUCTIVITY (µmhos/cm)'],errors='coerce')"
   ],
   "metadata": {
    "collapsed": false,
    "pycharm": {
     "name": "#%%\n"
    }
   }
  },
  {
   "cell_type": "code",
   "execution_count": 14,
   "outputs": [],
   "source": [
    "df['B.O.D. (mg/l)']= pd.to_numeric(df['B.O.D. (mg/l)'],errors='coerce')"
   ],
   "metadata": {
    "collapsed": false,
    "pycharm": {
     "name": "#%%\n"
    }
   }
  },
  {
   "cell_type": "code",
   "execution_count": 15,
   "outputs": [],
   "source": [
    "df['NITRATENAN N+ NITRITENANN (mg/l)']= pd.to_numeric(df['NITRATENAN N+ NITRITENANN (mg/l)'],errors='coerce')"
   ],
   "metadata": {
    "collapsed": false,
    "pycharm": {
     "name": "#%%\n"
    }
   }
  },
  {
   "cell_type": "code",
   "execution_count": 16,
   "outputs": [],
   "source": [
    "df['FECAL COLIFORM (MPN/100ml)']= pd.to_numeric(df['FECAL COLIFORM (MPN/100ml)'],errors='coerce')"
   ],
   "metadata": {
    "collapsed": false,
    "pycharm": {
     "name": "#%%\n"
    }
   }
  },
  {
   "cell_type": "code",
   "execution_count": 17,
   "outputs": [],
   "source": [
    "df['TOTAL COLIFORM (MPN/100ml)Mean']= pd.to_numeric(df['TOTAL COLIFORM (MPN/100ml)Mean'],errors='coerce')"
   ],
   "metadata": {
    "collapsed": false,
    "pycharm": {
     "name": "#%%\n"
    }
   }
  },
  {
   "cell_type": "code",
   "execution_count": 18,
   "outputs": [
    {
     "data": {
      "text/plain": "STATION CODE                        float64\nLOCATIONS                            object\nSTATE                                object\nTemp                                float64\nD.O. (mg/l)                         float64\nPH                                  float64\nCONDUCTIVITY (µmhos/cm)             float64\nB.O.D. (mg/l)                       float64\nNITRATENAN N+ NITRITENANN (mg/l)    float64\nFECAL COLIFORM (MPN/100ml)          float64\nTOTAL COLIFORM (MPN/100ml)Mean      float64\nyear                                  int64\ndtype: object"
     },
     "execution_count": 18,
     "metadata": {},
     "output_type": "execute_result"
    }
   ],
   "source": [
    "df.dtypes"
   ],
   "metadata": {
    "collapsed": false,
    "pycharm": {
     "name": "#%%\n"
    }
   }
  },
  {
   "cell_type": "code",
   "execution_count": 19,
   "outputs": [
    {
     "data": {
      "text/plain": "      STATION CODE                                          LOCATIONS  \\\n0           1393.0               DAMANGANGA AT D/S OF MADHUBAN, DAMAN   \n1           1399.0  ZUARI AT D/S OF PT. WHERE KUMBARJRIA CANAL JOI...   \n2           1475.0                                ZUARI AT PANCHAWADI   \n3           3181.0                        RIVER ZUARI AT BORIM BRIDGE   \n4           3182.0                       RIVER ZUARI AT MARCAIM JETTY   \n...            ...                                                ...   \n1986        1330.0            TAMBIRAPARANI AT ARUMUGANERI, TAMILNADU   \n1987        1450.0  PALAR AT VANIYAMBADI WATER SUPPLY HEAD WORK, T...   \n1988        1403.0                 GUMTI AT U/S SOUTH TRIPURA,TRIPURA   \n1989        1404.0                GUMTI AT D/S SOUTH TRIPURA, TRIPURA   \n1990        1726.0   CHANDRAPUR, AGARTALA D/S OF HAORA RIVER, TRIPURA   \n\n            STATE  Temp  D.O. (mg/l)     PH  CONDUCTIVITY (µmhos/cm)  \\\n0     DAMAN & DIU  30.6          6.7    7.5                    203.0   \n1             GOA  29.8          5.7    7.2                    189.0   \n2             GOA  29.5          6.3    6.9                    179.0   \n3             GOA  29.7          5.8    6.9                     64.0   \n4             GOA  29.5          5.8    7.3                     83.0   \n...           ...   ...          ...    ...                      ...   \n1986          NAN   NaN          7.9  738.0                      7.2   \n1987          NAN  29.0          7.5  585.0                      6.3   \n1988          NAN  28.0          7.6   98.0                      6.2   \n1989          NAN  28.0          7.7   91.0                      6.5   \n1990          NAN  29.0          7.6  110.0                      5.7   \n\n      B.O.D. (mg/l)  NITRATENAN N+ NITRITENANN (mg/l)  \\\n0               NaN                             0.100   \n1               2.0                             0.200   \n2               1.7                             0.100   \n3               3.8                             0.500   \n4               1.9                             0.400   \n...             ...                               ...   \n1986            2.7                             0.518   \n1987            2.6                             0.155   \n1988            1.2                               NaN   \n1989            1.3                               NaN   \n1990            1.1                               NaN   \n\n      FECAL COLIFORM (MPN/100ml)  TOTAL COLIFORM (MPN/100ml)Mean  year  \n0                         11.000                            27.0  2014  \n1                       4953.000                          8391.0  2014  \n2                       3243.000                          5330.0  2014  \n3                       5382.000                          8443.0  2014  \n4                       3428.000                          5500.0  2014  \n...                          ...                             ...   ...  \n1986                       0.518                           202.0  2003  \n1987                       0.155                           315.0  2003  \n1988                         NaN                           570.0  2003  \n1989                         NaN                           562.0  2003  \n1990                         NaN                           546.0  2003  \n\n[1991 rows x 12 columns]",
      "text/html": "<div>\n<style scoped>\n    .dataframe tbody tr th:only-of-type {\n        vertical-align: middle;\n    }\n\n    .dataframe tbody tr th {\n        vertical-align: top;\n    }\n\n    .dataframe thead th {\n        text-align: right;\n    }\n</style>\n<table border=\"1\" class=\"dataframe\">\n  <thead>\n    <tr style=\"text-align: right;\">\n      <th></th>\n      <th>STATION CODE</th>\n      <th>LOCATIONS</th>\n      <th>STATE</th>\n      <th>Temp</th>\n      <th>D.O. (mg/l)</th>\n      <th>PH</th>\n      <th>CONDUCTIVITY (µmhos/cm)</th>\n      <th>B.O.D. (mg/l)</th>\n      <th>NITRATENAN N+ NITRITENANN (mg/l)</th>\n      <th>FECAL COLIFORM (MPN/100ml)</th>\n      <th>TOTAL COLIFORM (MPN/100ml)Mean</th>\n      <th>year</th>\n    </tr>\n  </thead>\n  <tbody>\n    <tr>\n      <th>0</th>\n      <td>1393.0</td>\n      <td>DAMANGANGA AT D/S OF MADHUBAN, DAMAN</td>\n      <td>DAMAN &amp; DIU</td>\n      <td>30.6</td>\n      <td>6.7</td>\n      <td>7.5</td>\n      <td>203.0</td>\n      <td>NaN</td>\n      <td>0.100</td>\n      <td>11.000</td>\n      <td>27.0</td>\n      <td>2014</td>\n    </tr>\n    <tr>\n      <th>1</th>\n      <td>1399.0</td>\n      <td>ZUARI AT D/S OF PT. WHERE KUMBARJRIA CANAL JOI...</td>\n      <td>GOA</td>\n      <td>29.8</td>\n      <td>5.7</td>\n      <td>7.2</td>\n      <td>189.0</td>\n      <td>2.0</td>\n      <td>0.200</td>\n      <td>4953.000</td>\n      <td>8391.0</td>\n      <td>2014</td>\n    </tr>\n    <tr>\n      <th>2</th>\n      <td>1475.0</td>\n      <td>ZUARI AT PANCHAWADI</td>\n      <td>GOA</td>\n      <td>29.5</td>\n      <td>6.3</td>\n      <td>6.9</td>\n      <td>179.0</td>\n      <td>1.7</td>\n      <td>0.100</td>\n      <td>3243.000</td>\n      <td>5330.0</td>\n      <td>2014</td>\n    </tr>\n    <tr>\n      <th>3</th>\n      <td>3181.0</td>\n      <td>RIVER ZUARI AT BORIM BRIDGE</td>\n      <td>GOA</td>\n      <td>29.7</td>\n      <td>5.8</td>\n      <td>6.9</td>\n      <td>64.0</td>\n      <td>3.8</td>\n      <td>0.500</td>\n      <td>5382.000</td>\n      <td>8443.0</td>\n      <td>2014</td>\n    </tr>\n    <tr>\n      <th>4</th>\n      <td>3182.0</td>\n      <td>RIVER ZUARI AT MARCAIM JETTY</td>\n      <td>GOA</td>\n      <td>29.5</td>\n      <td>5.8</td>\n      <td>7.3</td>\n      <td>83.0</td>\n      <td>1.9</td>\n      <td>0.400</td>\n      <td>3428.000</td>\n      <td>5500.0</td>\n      <td>2014</td>\n    </tr>\n    <tr>\n      <th>...</th>\n      <td>...</td>\n      <td>...</td>\n      <td>...</td>\n      <td>...</td>\n      <td>...</td>\n      <td>...</td>\n      <td>...</td>\n      <td>...</td>\n      <td>...</td>\n      <td>...</td>\n      <td>...</td>\n      <td>...</td>\n    </tr>\n    <tr>\n      <th>1986</th>\n      <td>1330.0</td>\n      <td>TAMBIRAPARANI AT ARUMUGANERI, TAMILNADU</td>\n      <td>NAN</td>\n      <td>NaN</td>\n      <td>7.9</td>\n      <td>738.0</td>\n      <td>7.2</td>\n      <td>2.7</td>\n      <td>0.518</td>\n      <td>0.518</td>\n      <td>202.0</td>\n      <td>2003</td>\n    </tr>\n    <tr>\n      <th>1987</th>\n      <td>1450.0</td>\n      <td>PALAR AT VANIYAMBADI WATER SUPPLY HEAD WORK, T...</td>\n      <td>NAN</td>\n      <td>29.0</td>\n      <td>7.5</td>\n      <td>585.0</td>\n      <td>6.3</td>\n      <td>2.6</td>\n      <td>0.155</td>\n      <td>0.155</td>\n      <td>315.0</td>\n      <td>2003</td>\n    </tr>\n    <tr>\n      <th>1988</th>\n      <td>1403.0</td>\n      <td>GUMTI AT U/S SOUTH TRIPURA,TRIPURA</td>\n      <td>NAN</td>\n      <td>28.0</td>\n      <td>7.6</td>\n      <td>98.0</td>\n      <td>6.2</td>\n      <td>1.2</td>\n      <td>NaN</td>\n      <td>NaN</td>\n      <td>570.0</td>\n      <td>2003</td>\n    </tr>\n    <tr>\n      <th>1989</th>\n      <td>1404.0</td>\n      <td>GUMTI AT D/S SOUTH TRIPURA, TRIPURA</td>\n      <td>NAN</td>\n      <td>28.0</td>\n      <td>7.7</td>\n      <td>91.0</td>\n      <td>6.5</td>\n      <td>1.3</td>\n      <td>NaN</td>\n      <td>NaN</td>\n      <td>562.0</td>\n      <td>2003</td>\n    </tr>\n    <tr>\n      <th>1990</th>\n      <td>1726.0</td>\n      <td>CHANDRAPUR, AGARTALA D/S OF HAORA RIVER, TRIPURA</td>\n      <td>NAN</td>\n      <td>29.0</td>\n      <td>7.6</td>\n      <td>110.0</td>\n      <td>5.7</td>\n      <td>1.1</td>\n      <td>NaN</td>\n      <td>NaN</td>\n      <td>546.0</td>\n      <td>2003</td>\n    </tr>\n  </tbody>\n</table>\n<p>1991 rows × 12 columns</p>\n</div>"
     },
     "execution_count": 19,
     "metadata": {},
     "output_type": "execute_result"
    }
   ],
   "source": [
    "df"
   ],
   "metadata": {
    "collapsed": false,
    "pycharm": {
     "name": "#%%\n"
    }
   }
  },
  {
   "cell_type": "markdown",
   "source": [
    "# Renaming columns"
   ],
   "metadata": {
    "collapsed": false,
    "pycharm": {
     "name": "#%% md\n"
    }
   }
  },
  {
   "cell_type": "code",
   "execution_count": 20,
   "outputs": [],
   "source": [
    "df.rename(columns={\"STATION CODE\":\"station\",\"LOCATIONS\":\"location\",\"STATE\":\"state\",\"D.O. (mg/l)\":\"do\",\"PH\":\"ph\",\"CONDUCTIVITY (µmhos/cm)\":\"conductivity\",\"B.O.D. (mg/l)\":\"BOD\",\"NITRATENAN N+ NITRITENANN (mg/l)\":\"nn\",\"FECAL COLIFORM (MPN/100ml)\":\"fecal_coliform\",\"TOTAL COLIFORM (MPN/100ml)Mean\":\"total_coliform_mean\"}, inplace=True)"
   ],
   "metadata": {
    "collapsed": false,
    "pycharm": {
     "name": "#%%\n"
    }
   }
  },
  {
   "cell_type": "code",
   "execution_count": 21,
   "outputs": [
    {
     "data": {
      "text/plain": "      station                                           location        state  \\\n0      1393.0               DAMANGANGA AT D/S OF MADHUBAN, DAMAN  DAMAN & DIU   \n1      1399.0  ZUARI AT D/S OF PT. WHERE KUMBARJRIA CANAL JOI...          GOA   \n2      1475.0                                ZUARI AT PANCHAWADI          GOA   \n3      3181.0                        RIVER ZUARI AT BORIM BRIDGE          GOA   \n4      3182.0                       RIVER ZUARI AT MARCAIM JETTY          GOA   \n...       ...                                                ...          ...   \n1986   1330.0            TAMBIRAPARANI AT ARUMUGANERI, TAMILNADU          NAN   \n1987   1450.0  PALAR AT VANIYAMBADI WATER SUPPLY HEAD WORK, T...          NAN   \n1988   1403.0                 GUMTI AT U/S SOUTH TRIPURA,TRIPURA          NAN   \n1989   1404.0                GUMTI AT D/S SOUTH TRIPURA, TRIPURA          NAN   \n1990   1726.0   CHANDRAPUR, AGARTALA D/S OF HAORA RIVER, TRIPURA          NAN   \n\n      Temp   do     ph  conductivity  BOD     nn  fecal_coliform  \\\n0     30.6  6.7    7.5         203.0  NaN  0.100          11.000   \n1     29.8  5.7    7.2         189.0  2.0  0.200        4953.000   \n2     29.5  6.3    6.9         179.0  1.7  0.100        3243.000   \n3     29.7  5.8    6.9          64.0  3.8  0.500        5382.000   \n4     29.5  5.8    7.3          83.0  1.9  0.400        3428.000   \n...    ...  ...    ...           ...  ...    ...             ...   \n1986   NaN  7.9  738.0           7.2  2.7  0.518           0.518   \n1987  29.0  7.5  585.0           6.3  2.6  0.155           0.155   \n1988  28.0  7.6   98.0           6.2  1.2    NaN             NaN   \n1989  28.0  7.7   91.0           6.5  1.3    NaN             NaN   \n1990  29.0  7.6  110.0           5.7  1.1    NaN             NaN   \n\n      total_coliform_mean  year  \n0                    27.0  2014  \n1                  8391.0  2014  \n2                  5330.0  2014  \n3                  8443.0  2014  \n4                  5500.0  2014  \n...                   ...   ...  \n1986                202.0  2003  \n1987                315.0  2003  \n1988                570.0  2003  \n1989                562.0  2003  \n1990                546.0  2003  \n\n[1991 rows x 12 columns]",
      "text/html": "<div>\n<style scoped>\n    .dataframe tbody tr th:only-of-type {\n        vertical-align: middle;\n    }\n\n    .dataframe tbody tr th {\n        vertical-align: top;\n    }\n\n    .dataframe thead th {\n        text-align: right;\n    }\n</style>\n<table border=\"1\" class=\"dataframe\">\n  <thead>\n    <tr style=\"text-align: right;\">\n      <th></th>\n      <th>station</th>\n      <th>location</th>\n      <th>state</th>\n      <th>Temp</th>\n      <th>do</th>\n      <th>ph</th>\n      <th>conductivity</th>\n      <th>BOD</th>\n      <th>nn</th>\n      <th>fecal_coliform</th>\n      <th>total_coliform_mean</th>\n      <th>year</th>\n    </tr>\n  </thead>\n  <tbody>\n    <tr>\n      <th>0</th>\n      <td>1393.0</td>\n      <td>DAMANGANGA AT D/S OF MADHUBAN, DAMAN</td>\n      <td>DAMAN &amp; DIU</td>\n      <td>30.6</td>\n      <td>6.7</td>\n      <td>7.5</td>\n      <td>203.0</td>\n      <td>NaN</td>\n      <td>0.100</td>\n      <td>11.000</td>\n      <td>27.0</td>\n      <td>2014</td>\n    </tr>\n    <tr>\n      <th>1</th>\n      <td>1399.0</td>\n      <td>ZUARI AT D/S OF PT. WHERE KUMBARJRIA CANAL JOI...</td>\n      <td>GOA</td>\n      <td>29.8</td>\n      <td>5.7</td>\n      <td>7.2</td>\n      <td>189.0</td>\n      <td>2.0</td>\n      <td>0.200</td>\n      <td>4953.000</td>\n      <td>8391.0</td>\n      <td>2014</td>\n    </tr>\n    <tr>\n      <th>2</th>\n      <td>1475.0</td>\n      <td>ZUARI AT PANCHAWADI</td>\n      <td>GOA</td>\n      <td>29.5</td>\n      <td>6.3</td>\n      <td>6.9</td>\n      <td>179.0</td>\n      <td>1.7</td>\n      <td>0.100</td>\n      <td>3243.000</td>\n      <td>5330.0</td>\n      <td>2014</td>\n    </tr>\n    <tr>\n      <th>3</th>\n      <td>3181.0</td>\n      <td>RIVER ZUARI AT BORIM BRIDGE</td>\n      <td>GOA</td>\n      <td>29.7</td>\n      <td>5.8</td>\n      <td>6.9</td>\n      <td>64.0</td>\n      <td>3.8</td>\n      <td>0.500</td>\n      <td>5382.000</td>\n      <td>8443.0</td>\n      <td>2014</td>\n    </tr>\n    <tr>\n      <th>4</th>\n      <td>3182.0</td>\n      <td>RIVER ZUARI AT MARCAIM JETTY</td>\n      <td>GOA</td>\n      <td>29.5</td>\n      <td>5.8</td>\n      <td>7.3</td>\n      <td>83.0</td>\n      <td>1.9</td>\n      <td>0.400</td>\n      <td>3428.000</td>\n      <td>5500.0</td>\n      <td>2014</td>\n    </tr>\n    <tr>\n      <th>...</th>\n      <td>...</td>\n      <td>...</td>\n      <td>...</td>\n      <td>...</td>\n      <td>...</td>\n      <td>...</td>\n      <td>...</td>\n      <td>...</td>\n      <td>...</td>\n      <td>...</td>\n      <td>...</td>\n      <td>...</td>\n    </tr>\n    <tr>\n      <th>1986</th>\n      <td>1330.0</td>\n      <td>TAMBIRAPARANI AT ARUMUGANERI, TAMILNADU</td>\n      <td>NAN</td>\n      <td>NaN</td>\n      <td>7.9</td>\n      <td>738.0</td>\n      <td>7.2</td>\n      <td>2.7</td>\n      <td>0.518</td>\n      <td>0.518</td>\n      <td>202.0</td>\n      <td>2003</td>\n    </tr>\n    <tr>\n      <th>1987</th>\n      <td>1450.0</td>\n      <td>PALAR AT VANIYAMBADI WATER SUPPLY HEAD WORK, T...</td>\n      <td>NAN</td>\n      <td>29.0</td>\n      <td>7.5</td>\n      <td>585.0</td>\n      <td>6.3</td>\n      <td>2.6</td>\n      <td>0.155</td>\n      <td>0.155</td>\n      <td>315.0</td>\n      <td>2003</td>\n    </tr>\n    <tr>\n      <th>1988</th>\n      <td>1403.0</td>\n      <td>GUMTI AT U/S SOUTH TRIPURA,TRIPURA</td>\n      <td>NAN</td>\n      <td>28.0</td>\n      <td>7.6</td>\n      <td>98.0</td>\n      <td>6.2</td>\n      <td>1.2</td>\n      <td>NaN</td>\n      <td>NaN</td>\n      <td>570.0</td>\n      <td>2003</td>\n    </tr>\n    <tr>\n      <th>1989</th>\n      <td>1404.0</td>\n      <td>GUMTI AT D/S SOUTH TRIPURA, TRIPURA</td>\n      <td>NAN</td>\n      <td>28.0</td>\n      <td>7.7</td>\n      <td>91.0</td>\n      <td>6.5</td>\n      <td>1.3</td>\n      <td>NaN</td>\n      <td>NaN</td>\n      <td>562.0</td>\n      <td>2003</td>\n    </tr>\n    <tr>\n      <th>1990</th>\n      <td>1726.0</td>\n      <td>CHANDRAPUR, AGARTALA D/S OF HAORA RIVER, TRIPURA</td>\n      <td>NAN</td>\n      <td>29.0</td>\n      <td>7.6</td>\n      <td>110.0</td>\n      <td>5.7</td>\n      <td>1.1</td>\n      <td>NaN</td>\n      <td>NaN</td>\n      <td>546.0</td>\n      <td>2003</td>\n    </tr>\n  </tbody>\n</table>\n<p>1991 rows × 12 columns</p>\n</div>"
     },
     "execution_count": 21,
     "metadata": {},
     "output_type": "execute_result"
    }
   ],
   "source": [
    "df"
   ],
   "metadata": {
    "collapsed": false,
    "pycharm": {
     "name": "#%%\n"
    }
   }
  },
  {
   "cell_type": "markdown",
   "source": [
    "Checking missing values"
   ],
   "metadata": {
    "collapsed": false,
    "pycharm": {
     "name": "#%% md\n"
    }
   }
  },
  {
   "cell_type": "code",
   "execution_count": 22,
   "outputs": [
    {
     "data": {
      "text/plain": "<AxesSubplot:>"
     },
     "execution_count": 22,
     "metadata": {},
     "output_type": "execute_result"
    },
    {
     "data": {
      "text/plain": "<Figure size 1800x720 with 2 Axes>",
      "image/png": "[encoded data removed]"
     },
     "metadata": {},
     "output_type": "display_data"
    }
   ],
   "source": [
    "msno.matrix(df)"
   ],
   "metadata": {
    "collapsed": false,
    "pycharm": {
     "name": "#%%\n"
    }
   }
  },
  {
   "cell_type": "code",
   "execution_count": 23,
   "outputs": [
    {
     "data": {
      "text/plain": "      station                                           location        state  \\\n0      1393.0               DAMANGANGA AT D/S OF MADHUBAN, DAMAN  DAMAN & DIU   \n1      1399.0  ZUARI AT D/S OF PT. WHERE KUMBARJRIA CANAL JOI...          GOA   \n2      1475.0                                ZUARI AT PANCHAWADI          GOA   \n3      3181.0                        RIVER ZUARI AT BORIM BRIDGE          GOA   \n4      3182.0                       RIVER ZUARI AT MARCAIM JETTY          GOA   \n...       ...                                                ...          ...   \n1986   1330.0            TAMBIRAPARANI AT ARUMUGANERI, TAMILNADU          NAN   \n1987   1450.0  PALAR AT VANIYAMBADI WATER SUPPLY HEAD WORK, T...          NAN   \n1988   1403.0                 GUMTI AT U/S SOUTH TRIPURA,TRIPURA          NAN   \n1989   1404.0                GUMTI AT D/S SOUTH TRIPURA, TRIPURA          NAN   \n1990   1726.0   CHANDRAPUR, AGARTALA D/S OF HAORA RIVER, TRIPURA          NAN   \n\n      Temp   do     ph  conductivity  BOD     nn  fecal_coliform  \\\n0     30.6  6.7    7.5         203.0  NaN  0.100          11.000   \n1     29.8  5.7    7.2         189.0  2.0  0.200        4953.000   \n2     29.5  6.3    6.9         179.0  1.7  0.100        3243.000   \n3     29.7  5.8    6.9          64.0  3.8  0.500        5382.000   \n4     29.5  5.8    7.3          83.0  1.9  0.400        3428.000   \n...    ...  ...    ...           ...  ...    ...             ...   \n1986   NaN  7.9  738.0           7.2  2.7  0.518           0.518   \n1987  29.0  7.5  585.0           6.3  2.6  0.155           0.155   \n1988  28.0  7.6   98.0           6.2  1.2    NaN             NaN   \n1989  28.0  7.7   91.0           6.5  1.3    NaN             NaN   \n1990  29.0  7.6  110.0           5.7  1.1    NaN             NaN   \n\n      total_coliform_mean  year  \n0                    27.0  2014  \n1                  8391.0  2014  \n2                  5330.0  2014  \n3                  8443.0  2014  \n4                  5500.0  2014  \n...                   ...   ...  \n1986                202.0  2003  \n1987                315.0  2003  \n1988                570.0  2003  \n1989                562.0  2003  \n1990                546.0  2003  \n\n[1991 rows x 12 columns]",
      "text/html": "<div>\n<style scoped>\n    .dataframe tbody tr th:only-of-type {\n        vertical-align: middle;\n    }\n\n    .dataframe tbody tr th {\n        vertical-align: top;\n    }\n\n    .dataframe thead th {\n        text-align: right;\n    }\n</style>\n<table border=\"1\" class=\"dataframe\">\n  <thead>\n    <tr style=\"text-align: right;\">\n      <th></th>\n      <th>station</th>\n      <th>location</th>\n      <th>state</th>\n      <th>Temp</th>\n      <th>do</th>\n      <th>ph</th>\n      <th>conductivity</th>\n      <th>BOD</th>\n      <th>nn</th>\n      <th>fecal_coliform</th>\n      <th>total_coliform_mean</th>\n      <th>year</th>\n    </tr>\n  </thead>\n  <tbody>\n    <tr>\n      <th>0</th>\n      <td>1393.0</td>\n      <td>DAMANGANGA AT D/S OF MADHUBAN, DAMAN</td>\n      <td>DAMAN &amp; DIU</td>\n      <td>30.6</td>\n      <td>6.7</td>\n      <td>7.5</td>\n      <td>203.0</td>\n      <td>NaN</td>\n      <td>0.100</td>\n      <td>11.000</td>\n      <td>27.0</td>\n      <td>2014</td>\n    </tr>\n    <tr>\n      <th>1</th>\n      <td>1399.0</td>\n      <td>ZUARI AT D/S OF PT. WHERE KUMBARJRIA CANAL JOI...</td>\n      <td>GOA</td>\n      <td>29.8</td>\n      <td>5.7</td>\n      <td>7.2</td>\n      <td>189.0</td>\n      <td>2.0</td>\n      <td>0.200</td>\n      <td>4953.000</td>\n      <td>8391.0</td>\n      <td>2014</td>\n    </tr>\n    <tr>\n      <th>2</th>\n      <td>1475.0</td>\n      <td>ZUARI AT PANCHAWADI</td>\n      <td>GOA</td>\n      <td>29.5</td>\n      <td>6.3</td>\n      <td>6.9</td>\n      <td>179.0</td>\n      <td>1.7</td>\n      <td>0.100</td>\n      <td>3243.000</td>\n      <td>5330.0</td>\n      <td>2014</td>\n    </tr>\n    <tr>\n      <th>3</th>\n      <td>3181.0</td>\n      <td>RIVER ZUARI AT BORIM BRIDGE</td>\n      <td>GOA</td>\n      <td>29.7</td>\n      <td>5.8</td>\n      <td>6.9</td>\n      <td>64.0</td>\n      <td>3.8</td>\n      <td>0.500</td>\n      <td>5382.000</td>\n      <td>8443.0</td>\n      <td>2014</td>\n    </tr>\n    <tr>\n      <th>4</th>\n      <td>3182.0</td>\n      <td>RIVER ZUARI AT MARCAIM JETTY</td>\n      <td>GOA</td>\n      <td>29.5</td>\n      <td>5.8</td>\n      <td>7.3</td>\n      <td>83.0</td>\n      <td>1.9</td>\n      <td>0.400</td>\n      <td>3428.000</td>\n      <td>5500.0</td>\n      <td>2014</td>\n    </tr>\n    <tr>\n      <th>...</th>\n      <td>...</td>\n      <td>...</td>\n      <td>...</td>\n      <td>...</td>\n      <td>...</td>\n      <td>...</td>\n      <td>...</td>\n      <td>...</td>\n      <td>...</td>\n      <td>...</td>\n      <td>...</td>\n      <td>...</td>\n    </tr>\n    <tr>\n      <th>1986</th>\n      <td>1330.0</td>\n      <td>TAMBIRAPARANI AT ARUMUGANERI, TAMILNADU</td>\n      <td>NAN</td>\n      <td>NaN</td>\n      <td>7.9</td>\n      <td>738.0</td>\n      <td>7.2</td>\n      <td>2.7</td>\n      <td>0.518</td>\n      <td>0.518</td>\n      <td>202.0</td>\n      <td>2003</td>\n    </tr>\n    <tr>\n      <th>1987</th>\n      <td>1450.0</td>\n      <td>PALAR AT VANIYAMBADI WATER SUPPLY HEAD WORK, T...</td>\n      <td>NAN</td>\n      <td>29.0</td>\n      <td>7.5</td>\n      <td>585.0</td>\n      <td>6.3</td>\n      <td>2.6</td>\n      <td>0.155</td>\n      <td>0.155</td>\n      <td>315.0</td>\n      <td>2003</td>\n    </tr>\n    <tr>\n      <th>1988</th>\n      <td>1403.0</td>\n      <td>GUMTI AT U/S SOUTH TRIPURA,TRIPURA</td>\n      <td>NAN</td>\n      <td>28.0</td>\n      <td>7.6</td>\n      <td>98.0</td>\n      <td>6.2</td>\n      <td>1.2</td>\n      <td>NaN</td>\n      <td>NaN</td>\n      <td>570.0</td>\n      <td>2003</td>\n    </tr>\n    <tr>\n      <th>1989</th>\n      <td>1404.0</td>\n      <td>GUMTI AT D/S SOUTH TRIPURA, TRIPURA</td>\n      <td>NAN</td>\n      <td>28.0</td>\n      <td>7.7</td>\n      <td>91.0</td>\n      <td>6.5</td>\n      <td>1.3</td>\n      <td>NaN</td>\n      <td>NaN</td>\n      <td>562.0</td>\n      <td>2003</td>\n    </tr>\n    <tr>\n      <th>1990</th>\n      <td>1726.0</td>\n      <td>CHANDRAPUR, AGARTALA D/S OF HAORA RIVER, TRIPURA</td>\n      <td>NAN</td>\n      <td>29.0</td>\n      <td>7.6</td>\n      <td>110.0</td>\n      <td>5.7</td>\n      <td>1.1</td>\n      <td>NaN</td>\n      <td>NaN</td>\n      <td>546.0</td>\n      <td>2003</td>\n    </tr>\n  </tbody>\n</table>\n<p>1991 rows × 12 columns</p>\n</div>"
     },
     "execution_count": 23,
     "metadata": {},
     "output_type": "execute_result"
    }
   ],
   "source": [
    "df"
   ],
   "metadata": {
    "collapsed": false,
    "pycharm": {
     "name": "#%%\n"
    }
   }
  },
  {
   "cell_type": "code",
   "execution_count": 24,
   "outputs": [
    {
     "name": "stdout",
     "output_type": "stream",
     "text": [
      "320\n",
      "203\n"
     ]
    }
   ],
   "source": [
    "print(df.station.nunique())\n",
    "print(df.state.nunique())"
   ],
   "metadata": {
    "collapsed": false,
    "pycharm": {
     "name": "#%%\n"
    }
   }
  },
  {
   "cell_type": "markdown",
   "source": [
    "# WQI calculation"
   ],
   "metadata": {
    "collapsed": false,
    "pycharm": {
     "name": "#%% md\n"
    }
   }
  },
  {
   "cell_type": "markdown",
   "source": [
    "## Rating calculation"
   ],
   "metadata": {
    "collapsed": false,
    "pycharm": {
     "name": "#%% md\n"
    }
   }
  },
  {
   "cell_type": "markdown",
   "source": [
    "The recommended values (Si) of all the parameters"
   ],
   "metadata": {
    "collapsed": false,
    "pycharm": {
     "name": "#%% md\n"
    }
   }
  },
  {
   "cell_type": "code",
   "execution_count": 25,
   "outputs": [],
   "source": [
    "do_s = 10\n",
    "ph_s = 8.5\n",
    "conductivity_s = 1000\n",
    "bod_s = 5\n",
    "nitrate_s = 45\n",
    "fecal_coliform_s = 100\n",
    "total_coliform_s = 1000"
   ],
   "metadata": {
    "collapsed": false,
    "pycharm": {
     "name": "#%%\n"
    }
   }
  },
  {
   "cell_type": "code",
   "execution_count": 26,
   "outputs": [],
   "source": [
    "df_qi = pd.DataFrame()"
   ],
   "metadata": {
    "collapsed": false,
    "pycharm": {
     "name": "#%%\n"
    }
   }
  },
  {
   "cell_type": "code",
   "execution_count": 27,
   "outputs": [],
   "source": [
    "df_qi['qi_conductivity']=100*df['conductivity']/(conductivity_s)\n",
    "df_qi['qi_do']=100*(df['do']-14.6)/(do_s-14.6)\n",
    "df_qi['qi_ph']=100*(df['ph']-7)/(ph_s-7)\n",
    "df_qi['qi_bod']=100*(df['BOD'])/(bod_s)\n",
    "df_qi['qi_nn']=100*(df['nn'])/(nitrate_s)\n",
    "df_qi['qi_fecal_coliform']=100*(df['fecal_coliform'])/(fecal_coliform_s)\n",
    "df_qi['qi_total_coliform_mean']=100*(df['total_coliform_mean'])/(total_coliform_s)"
   ],
   "metadata": {
    "collapsed": false,
    "pycharm": {
     "name": "#%%\n"
    }
   }
  },
  {
   "cell_type": "code",
   "execution_count": 28,
   "outputs": [
    {
     "data": {
      "text/plain": "      qi_conductivity       qi_do         qi_ph  qi_bod     qi_nn  \\\n0               20.30  171.739130     33.333333     NaN  0.222222   \n1               18.90  193.478261     13.333333    40.0  0.444444   \n2               17.90  180.434783     -6.666667    34.0  0.222222   \n3                6.40  191.304348     -6.666667    76.0  1.111111   \n4                8.30  191.304348     20.000000    38.0  0.888889   \n...               ...         ...           ...     ...       ...   \n1986             0.72  145.652174  48733.333333    54.0  1.151111   \n1987             0.63  154.347826  38533.333333    52.0  0.344444   \n1988             0.62  152.173913   6066.666667    24.0       NaN   \n1989             0.65  150.000000   5600.000000    26.0       NaN   \n1990             0.57  152.173913   6866.666667    22.0       NaN   \n\n      qi_fecal_coliform  qi_total_coliform_mean  \n0                11.000                     2.7  \n1              4953.000                   839.1  \n2              3243.000                   533.0  \n3              5382.000                   844.3  \n4              3428.000                   550.0  \n...                 ...                     ...  \n1986              0.518                    20.2  \n1987              0.155                    31.5  \n1988                NaN                    57.0  \n1989                NaN                    56.2  \n1990                NaN                    54.6  \n\n[1991 rows x 7 columns]",
      "text/html": "<div>\n<style scoped>\n    .dataframe tbody tr th:only-of-type {\n        vertical-align: middle;\n    }\n\n    .dataframe tbody tr th {\n        vertical-align: top;\n    }\n\n    .dataframe thead th {\n        text-align: right;\n    }\n</style>\n<table border=\"1\" class=\"dataframe\">\n  <thead>\n    <tr style=\"text-align: right;\">\n      <th></th>\n      <th>qi_conductivity</th>\n      <th>qi_do</th>\n      <th>qi_ph</th>\n      <th>qi_bod</th>\n      <th>qi_nn</th>\n      <th>qi_fecal_coliform</th>\n      <th>qi_total_coliform_mean</th>\n    </tr>\n  </thead>\n  <tbody>\n    <tr>\n      <th>0</th>\n      <td>20.30</td>\n      <td>171.739130</td>\n      <td>33.333333</td>\n      <td>NaN</td>\n      <td>0.222222</td>\n      <td>11.000</td>\n      <td>2.7</td>\n    </tr>\n    <tr>\n      <th>1</th>\n      <td>18.90</td>\n      <td>193.478261</td>\n      <td>13.333333</td>\n      <td>40.0</td>\n      <td>0.444444</td>\n      <td>4953.000</td>\n      <td>839.1</td>\n    </tr>\n    <tr>\n      <th>2</th>\n      <td>17.90</td>\n      <td>180.434783</td>\n      <td>-6.666667</td>\n      <td>34.0</td>\n      <td>0.222222</td>\n      <td>3243.000</td>\n      <td>533.0</td>\n    </tr>\n    <tr>\n      <th>3</th>\n      <td>6.40</td>\n      <td>191.304348</td>\n      <td>-6.666667</td>\n      <td>76.0</td>\n      <td>1.111111</td>\n      <td>5382.000</td>\n      <td>844.3</td>\n    </tr>\n    <tr>\n      <th>4</th>\n      <td>8.30</td>\n      <td>191.304348</td>\n      <td>20.000000</td>\n      <td>38.0</td>\n      <td>0.888889</td>\n      <td>3428.000</td>\n      <td>550.0</td>\n    </tr>\n    <tr>\n      <th>...</th>\n      <td>...</td>\n      <td>...</td>\n      <td>...</td>\n      <td>...</td>\n      <td>...</td>\n      <td>...</td>\n      <td>...</td>\n    </tr>\n    <tr>\n      <th>1986</th>\n      <td>0.72</td>\n      <td>145.652174</td>\n      <td>48733.333333</td>\n      <td>54.0</td>\n      <td>1.151111</td>\n      <td>0.518</td>\n      <td>20.2</td>\n    </tr>\n    <tr>\n      <th>1987</th>\n      <td>0.63</td>\n      <td>154.347826</td>\n      <td>38533.333333</td>\n      <td>52.0</td>\n      <td>0.344444</td>\n      <td>0.155</td>\n      <td>31.5</td>\n    </tr>\n    <tr>\n      <th>1988</th>\n      <td>0.62</td>\n      <td>152.173913</td>\n      <td>6066.666667</td>\n      <td>24.0</td>\n      <td>NaN</td>\n      <td>NaN</td>\n      <td>57.0</td>\n    </tr>\n    <tr>\n      <th>1989</th>\n      <td>0.65</td>\n      <td>150.000000</td>\n      <td>5600.000000</td>\n      <td>26.0</td>\n      <td>NaN</td>\n      <td>NaN</td>\n      <td>56.2</td>\n    </tr>\n    <tr>\n      <th>1990</th>\n      <td>0.57</td>\n      <td>152.173913</td>\n      <td>6866.666667</td>\n      <td>22.0</td>\n      <td>NaN</td>\n      <td>NaN</td>\n      <td>54.6</td>\n    </tr>\n  </tbody>\n</table>\n<p>1991 rows × 7 columns</p>\n</div>"
     },
     "execution_count": 28,
     "metadata": {},
     "output_type": "execute_result"
    }
   ],
   "source": [
    "df_qi"
   ],
   "metadata": {
    "collapsed": false,
    "pycharm": {
     "name": "#%%\n"
    }
   }
  },
  {
   "cell_type": "code",
   "execution_count": 29,
   "outputs": [
    {
     "data": {
      "text/plain": "      station                                           location        state  \\\n0      1393.0               DAMANGANGA AT D/S OF MADHUBAN, DAMAN  DAMAN & DIU   \n1      1399.0  ZUARI AT D/S OF PT. WHERE KUMBARJRIA CANAL JOI...          GOA   \n2      1475.0                                ZUARI AT PANCHAWADI          GOA   \n3      3181.0                        RIVER ZUARI AT BORIM BRIDGE          GOA   \n4      3182.0                       RIVER ZUARI AT MARCAIM JETTY          GOA   \n...       ...                                                ...          ...   \n1986   1330.0            TAMBIRAPARANI AT ARUMUGANERI, TAMILNADU          NAN   \n1987   1450.0  PALAR AT VANIYAMBADI WATER SUPPLY HEAD WORK, T...          NAN   \n1988   1403.0                 GUMTI AT U/S SOUTH TRIPURA,TRIPURA          NAN   \n1989   1404.0                GUMTI AT D/S SOUTH TRIPURA, TRIPURA          NAN   \n1990   1726.0   CHANDRAPUR, AGARTALA D/S OF HAORA RIVER, TRIPURA          NAN   \n\n      Temp   do     ph  conductivity  BOD     nn  fecal_coliform  \\\n0     30.6  6.7    7.5         203.0  NaN  0.100          11.000   \n1     29.8  5.7    7.2         189.0  2.0  0.200        4953.000   \n2     29.5  6.3    6.9         179.0  1.7  0.100        3243.000   \n3     29.7  5.8    6.9          64.0  3.8  0.500        5382.000   \n4     29.5  5.8    7.3          83.0  1.9  0.400        3428.000   \n...    ...  ...    ...           ...  ...    ...             ...   \n1986   NaN  7.9  738.0           7.2  2.7  0.518           0.518   \n1987  29.0  7.5  585.0           6.3  2.6  0.155           0.155   \n1988  28.0  7.6   98.0           6.2  1.2    NaN             NaN   \n1989  28.0  7.7   91.0           6.5  1.3    NaN             NaN   \n1990  29.0  7.6  110.0           5.7  1.1    NaN             NaN   \n\n      total_coliform_mean  year  \n0                    27.0  2014  \n1                  8391.0  2014  \n2                  5330.0  2014  \n3                  8443.0  2014  \n4                  5500.0  2014  \n...                   ...   ...  \n1986                202.0  2003  \n1987                315.0  2003  \n1988                570.0  2003  \n1989                562.0  2003  \n1990                546.0  2003  \n\n[1991 rows x 12 columns]",
      "text/html": "<div>\n<style scoped>\n    .dataframe tbody tr th:only-of-type {\n        vertical-align: middle;\n    }\n\n    .dataframe tbody tr th {\n        vertical-align: top;\n    }\n\n    .dataframe thead th {\n        text-align: right;\n    }\n</style>\n<table border=\"1\" class=\"dataframe\">\n  <thead>\n    <tr style=\"text-align: right;\">\n      <th></th>\n      <th>station</th>\n      <th>location</th>\n      <th>state</th>\n      <th>Temp</th>\n      <th>do</th>\n      <th>ph</th>\n      <th>conductivity</th>\n      <th>BOD</th>\n      <th>nn</th>\n      <th>fecal_coliform</th>\n      <th>total_coliform_mean</th>\n      <th>year</th>\n    </tr>\n  </thead>\n  <tbody>\n    <tr>\n      <th>0</th>\n      <td>1393.0</td>\n      <td>DAMANGANGA AT D/S OF MADHUBAN, DAMAN</td>\n      <td>DAMAN &amp; DIU</td>\n      <td>30.6</td>\n      <td>6.7</td>\n      <td>7.5</td>\n      <td>203.0</td>\n      <td>NaN</td>\n      <td>0.100</td>\n      <td>11.000</td>\n      <td>27.0</td>\n      <td>2014</td>\n    </tr>\n    <tr>\n      <th>1</th>\n      <td>1399.0</td>\n      <td>ZUARI AT D/S OF PT. WHERE KUMBARJRIA CANAL JOI...</td>\n      <td>GOA</td>\n      <td>29.8</td>\n      <td>5.7</td>\n      <td>7.2</td>\n      <td>189.0</td>\n      <td>2.0</td>\n      <td>0.200</td>\n      <td>4953.000</td>\n      <td>8391.0</td>\n      <td>2014</td>\n    </tr>\n    <tr>\n      <th>2</th>\n      <td>1475.0</td>\n      <td>ZUARI AT PANCHAWADI</td>\n      <td>GOA</td>\n      <td>29.5</td>\n      <td>6.3</td>\n      <td>6.9</td>\n      <td>179.0</td>\n      <td>1.7</td>\n      <td>0.100</td>\n      <td>3243.000</td>\n      <td>5330.0</td>\n      <td>2014</td>\n    </tr>\n    <tr>\n      <th>3</th>\n      <td>3181.0</td>\n      <td>RIVER ZUARI AT BORIM BRIDGE</td>\n      <td>GOA</td>\n      <td>29.7</td>\n      <td>5.8</td>\n      <td>6.9</td>\n      <td>64.0</td>\n      <td>3.8</td>\n      <td>0.500</td>\n      <td>5382.000</td>\n      <td>8443.0</td>\n      <td>2014</td>\n    </tr>\n    <tr>\n      <th>4</th>\n      <td>3182.0</td>\n      <td>RIVER ZUARI AT MARCAIM JETTY</td>\n      <td>GOA</td>\n      <td>29.5</td>\n      <td>5.8</td>\n      <td>7.3</td>\n      <td>83.0</td>\n      <td>1.9</td>\n      <td>0.400</td>\n      <td>3428.000</td>\n      <td>5500.0</td>\n      <td>2014</td>\n    </tr>\n    <tr>\n      <th>...</th>\n      <td>...</td>\n      <td>...</td>\n      <td>...</td>\n      <td>...</td>\n      <td>...</td>\n      <td>...</td>\n      <td>...</td>\n      <td>...</td>\n      <td>...</td>\n      <td>...</td>\n      <td>...</td>\n      <td>...</td>\n    </tr>\n    <tr>\n      <th>1986</th>\n      <td>1330.0</td>\n      <td>TAMBIRAPARANI AT ARUMUGANERI, TAMILNADU</td>\n      <td>NAN</td>\n      <td>NaN</td>\n      <td>7.9</td>\n      <td>738.0</td>\n      <td>7.2</td>\n      <td>2.7</td>\n      <td>0.518</td>\n      <td>0.518</td>\n      <td>202.0</td>\n      <td>2003</td>\n    </tr>\n    <tr>\n      <th>1987</th>\n      <td>1450.0</td>\n      <td>PALAR AT VANIYAMBADI WATER SUPPLY HEAD WORK, T...</td>\n      <td>NAN</td>\n      <td>29.0</td>\n      <td>7.5</td>\n      <td>585.0</td>\n      <td>6.3</td>\n      <td>2.6</td>\n      <td>0.155</td>\n      <td>0.155</td>\n      <td>315.0</td>\n      <td>2003</td>\n    </tr>\n    <tr>\n      <th>1988</th>\n      <td>1403.0</td>\n      <td>GUMTI AT U/S SOUTH TRIPURA,TRIPURA</td>\n      <td>NAN</td>\n      <td>28.0</td>\n      <td>7.6</td>\n      <td>98.0</td>\n      <td>6.2</td>\n      <td>1.2</td>\n      <td>NaN</td>\n      <td>NaN</td>\n      <td>570.0</td>\n      <td>2003</td>\n    </tr>\n    <tr>\n      <th>1989</th>\n      <td>1404.0</td>\n      <td>GUMTI AT D/S SOUTH TRIPURA, TRIPURA</td>\n      <td>NAN</td>\n      <td>28.0</td>\n      <td>7.7</td>\n      <td>91.0</td>\n      <td>6.5</td>\n      <td>1.3</td>\n      <td>NaN</td>\n      <td>NaN</td>\n      <td>562.0</td>\n      <td>2003</td>\n    </tr>\n    <tr>\n      <th>1990</th>\n      <td>1726.0</td>\n      <td>CHANDRAPUR, AGARTALA D/S OF HAORA RIVER, TRIPURA</td>\n      <td>NAN</td>\n      <td>29.0</td>\n      <td>7.6</td>\n      <td>110.0</td>\n      <td>5.7</td>\n      <td>1.1</td>\n      <td>NaN</td>\n      <td>NaN</td>\n      <td>546.0</td>\n      <td>2003</td>\n    </tr>\n  </tbody>\n</table>\n<p>1991 rows × 12 columns</p>\n</div>"
     },
     "execution_count": 29,
     "metadata": {},
     "output_type": "execute_result"
    }
   ],
   "source": [
    "df"
   ],
   "metadata": {
    "collapsed": false,
    "pycharm": {
     "name": "#%%\n"
    }
   }
  },
  {
   "cell_type": "markdown",
   "source": [
    "Parameter weights"
   ],
   "metadata": {
    "collapsed": false,
    "pycharm": {
     "name": "#%% md\n"
    }
   }
  },
  {
   "cell_type": "code",
   "execution_count": 30,
   "outputs": [],
   "source": [
    "do_w = 0.2213\n",
    "ph_w = 0.2604\n",
    "conductivity_w = 0.0022\n",
    "bod_w = 0.4426\n",
    "n_w = 0.0492\n",
    "fecal_coliform_w = 0.0221\n",
    "total_coliform_w = 0.0022\n",
    "w_total =  1"
   ],
   "metadata": {
    "collapsed": false,
    "pycharm": {
     "name": "#%%\n"
    }
   }
  },
  {
   "cell_type": "code",
   "execution_count": 31,
   "outputs": [],
   "source": [
    "df2 = pd.concat([df,df_qi],axis=1)"
   ],
   "metadata": {
    "collapsed": false,
    "pycharm": {
     "name": "#%%\n"
    }
   }
  },
  {
   "cell_type": "code",
   "execution_count": 32,
   "outputs": [
    {
     "data": {
      "text/plain": "      station                                           location        state  \\\n0      1393.0               DAMANGANGA AT D/S OF MADHUBAN, DAMAN  DAMAN & DIU   \n1      1399.0  ZUARI AT D/S OF PT. WHERE KUMBARJRIA CANAL JOI...          GOA   \n2      1475.0                                ZUARI AT PANCHAWADI          GOA   \n3      3181.0                        RIVER ZUARI AT BORIM BRIDGE          GOA   \n4      3182.0                       RIVER ZUARI AT MARCAIM JETTY          GOA   \n...       ...                                                ...          ...   \n1986   1330.0            TAMBIRAPARANI AT ARUMUGANERI, TAMILNADU          NAN   \n1987   1450.0  PALAR AT VANIYAMBADI WATER SUPPLY HEAD WORK, T...          NAN   \n1988   1403.0                 GUMTI AT U/S SOUTH TRIPURA,TRIPURA          NAN   \n1989   1404.0                GUMTI AT D/S SOUTH TRIPURA, TRIPURA          NAN   \n1990   1726.0   CHANDRAPUR, AGARTALA D/S OF HAORA RIVER, TRIPURA          NAN   \n\n      Temp   do     ph  conductivity  BOD     nn  fecal_coliform  \\\n0     30.6  6.7    7.5         203.0  NaN  0.100          11.000   \n1     29.8  5.7    7.2         189.0  2.0  0.200        4953.000   \n2     29.5  6.3    6.9         179.0  1.7  0.100        3243.000   \n3     29.7  5.8    6.9          64.0  3.8  0.500        5382.000   \n4     29.5  5.8    7.3          83.0  1.9  0.400        3428.000   \n...    ...  ...    ...           ...  ...    ...             ...   \n1986   NaN  7.9  738.0           7.2  2.7  0.518           0.518   \n1987  29.0  7.5  585.0           6.3  2.6  0.155           0.155   \n1988  28.0  7.6   98.0           6.2  1.2    NaN             NaN   \n1989  28.0  7.7   91.0           6.5  1.3    NaN             NaN   \n1990  29.0  7.6  110.0           5.7  1.1    NaN             NaN   \n\n      total_coliform_mean  year  qi_conductivity       qi_do         qi_ph  \\\n0                    27.0  2014            20.30  171.739130     33.333333   \n1                  8391.0  2014            18.90  193.478261     13.333333   \n2                  5330.0  2014            17.90  180.434783     -6.666667   \n3                  8443.0  2014             6.40  191.304348     -6.666667   \n4                  5500.0  2014             8.30  191.304348     20.000000   \n...                   ...   ...              ...         ...           ...   \n1986                202.0  2003             0.72  145.652174  48733.333333   \n1987                315.0  2003             0.63  154.347826  38533.333333   \n1988                570.0  2003             0.62  152.173913   6066.666667   \n1989                562.0  2003             0.65  150.000000   5600.000000   \n1990                546.0  2003             0.57  152.173913   6866.666667   \n\n      qi_bod     qi_nn  qi_fecal_coliform  qi_total_coliform_mean  \n0        NaN  0.222222             11.000                     2.7  \n1       40.0  0.444444           4953.000                   839.1  \n2       34.0  0.222222           3243.000                   533.0  \n3       76.0  1.111111           5382.000                   844.3  \n4       38.0  0.888889           3428.000                   550.0  \n...      ...       ...                ...                     ...  \n1986    54.0  1.151111              0.518                    20.2  \n1987    52.0  0.344444              0.155                    31.5  \n1988    24.0       NaN                NaN                    57.0  \n1989    26.0       NaN                NaN                    56.2  \n1990    22.0       NaN                NaN                    54.6  \n\n[1991 rows x 19 columns]",
      "text/html": "<div>\n<style scoped>\n    .dataframe tbody tr th:only-of-type {\n        vertical-align: middle;\n    }\n\n    .dataframe tbody tr th {\n        vertical-align: top;\n    }\n\n    .dataframe thead th {\n        text-align: right;\n    }\n</style>\n<table border=\"1\" class=\"dataframe\">\n  <thead>\n    <tr style=\"text-align: right;\">\n      <th></th>\n      <th>station</th>\n      <th>location</th>\n      <th>state</th>\n      <th>Temp</th>\n      <th>do</th>\n      <th>ph</th>\n      <th>conductivity</th>\n      <th>BOD</th>\n      <th>nn</th>\n      <th>fecal_coliform</th>\n      <th>total_coliform_mean</th>\n      <th>year</th>\n      <th>qi_conductivity</th>\n      <th>qi_do</th>\n      <th>qi_ph</th>\n      <th>qi_bod</th>\n      <th>qi_nn</th>\n      <th>qi_fecal_coliform</th>\n      <th>qi_total_coliform_mean</th>\n    </tr>\n  </thead>\n  <tbody>\n    <tr>\n      <th>0</th>\n      <td>1393.0</td>\n      <td>DAMANGANGA AT D/S OF MADHUBAN, DAMAN</td>\n      <td>DAMAN &amp; DIU</td>\n      <td>30.6</td>\n      <td>6.7</td>\n      <td>7.5</td>\n      <td>203.0</td>\n      <td>NaN</td>\n      <td>0.100</td>\n      <td>11.000</td>\n      <td>27.0</td>\n      <td>2014</td>\n      <td>20.30</td>\n      <td>171.739130</td>\n      <td>33.333333</td>\n      <td>NaN</td>\n      <td>0.222222</td>\n      <td>11.000</td>\n      <td>2.7</td>\n    </tr>\n    <tr>\n      <th>1</th>\n      <td>1399.0</td>\n      <td>ZUARI AT D/S OF PT. WHERE KUMBARJRIA CANAL JOI...</td>\n      <td>GOA</td>\n      <td>29.8</td>\n      <td>5.7</td>\n      <td>7.2</td>\n      <td>189.0</td>\n      <td>2.0</td>\n      <td>0.200</td>\n      <td>4953.000</td>\n      <td>8391.0</td>\n      <td>2014</td>\n      <td>18.90</td>\n      <td>193.478261</td>\n      <td>13.333333</td>\n      <td>40.0</td>\n      <td>0.444444</td>\n      <td>4953.000</td>\n      <td>839.1</td>\n    </tr>\n    <tr>\n      <th>2</th>\n      <td>1475.0</td>\n      <td>ZUARI AT PANCHAWADI</td>\n      <td>GOA</td>\n      <td>29.5</td>\n      <td>6.3</td>\n      <td>6.9</td>\n      <td>179.0</td>\n      <td>1.7</td>\n      <td>0.100</td>\n      <td>3243.000</td>\n      <td>5330.0</td>\n      <td>2014</td>\n      <td>17.90</td>\n      <td>180.434783</td>\n      <td>-6.666667</td>\n      <td>34.0</td>\n      <td>0.222222</td>\n      <td>3243.000</td>\n      <td>533.0</td>\n    </tr>\n    <tr>\n      <th>3</th>\n      <td>3181.0</td>\n      <td>RIVER ZUARI AT BORIM BRIDGE</td>\n      <td>GOA</td>\n      <td>29.7</td>\n      <td>5.8</td>\n      <td>6.9</td>\n      <td>64.0</td>\n      <td>3.8</td>\n      <td>0.500</td>\n      <td>5382.000</td>\n      <td>8443.0</td>\n      <td>2014</td>\n      <td>6.40</td>\n      <td>191.304348</td>\n      <td>-6.666667</td>\n      <td>76.0</td>\n      <td>1.111111</td>\n      <td>5382.000</td>\n      <td>844.3</td>\n    </tr>\n    <tr>\n      <th>4</th>\n      <td>3182.0</td>\n      <td>RIVER ZUARI AT MARCAIM JETTY</td>\n      <td>GOA</td>\n      <td>29.5</td>\n      <td>5.8</td>\n      <td>7.3</td>\n      <td>83.0</td>\n      <td>1.9</td>\n      <td>0.400</td>\n      <td>3428.000</td>\n      <td>5500.0</td>\n      <td>2014</td>\n      <td>8.30</td>\n      <td>191.304348</td>\n      <td>20.000000</td>\n      <td>38.0</td>\n      <td>0.888889</td>\n      <td>3428.000</td>\n      <td>550.0</td>\n    </tr>\n    <tr>\n      <th>...</th>\n      <td>...</td>\n      <td>...</td>\n      <td>...</td>\n      <td>...</td>\n      <td>...</td>\n      <td>...</td>\n      <td>...</td>\n      <td>...</td>\n      <td>...</td>\n      <td>...</td>\n      <td>...</td>\n      <td>...</td>\n      <td>...</td>\n      <td>...</td>\n      <td>...</td>\n      <td>...</td>\n      <td>...</td>\n      <td>...</td>\n      <td>...</td>\n    </tr>\n    <tr>\n      <th>1986</th>\n      <td>1330.0</td>\n      <td>TAMBIRAPARANI AT ARUMUGANERI, TAMILNADU</td>\n      <td>NAN</td>\n      <td>NaN</td>\n      <td>7.9</td>\n      <td>738.0</td>\n      <td>7.2</td>\n      <td>2.7</td>\n      <td>0.518</td>\n      <td>0.518</td>\n      <td>202.0</td>\n      <td>2003</td>\n      <td>0.72</td>\n      <td>145.652174</td>\n      <td>48733.333333</td>\n      <td>54.0</td>\n      <td>1.151111</td>\n      <td>0.518</td>\n      <td>20.2</td>\n    </tr>\n    <tr>\n      <th>1987</th>\n      <td>1450.0</td>\n      <td>PALAR AT VANIYAMBADI WATER SUPPLY HEAD WORK, T...</td>\n      <td>NAN</td>\n      <td>29.0</td>\n      <td>7.5</td>\n      <td>585.0</td>\n      <td>6.3</td>\n      <td>2.6</td>\n      <td>0.155</td>\n      <td>0.155</td>\n      <td>315.0</td>\n      <td>2003</td>\n      <td>0.63</td>\n      <td>154.347826</td>\n      <td>38533.333333</td>\n      <td>52.0</td>\n      <td>0.344444</td>\n      <td>0.155</td>\n      <td>31.5</td>\n    </tr>\n    <tr>\n      <th>1988</th>\n      <td>1403.0</td>\n      <td>GUMTI AT U/S SOUTH TRIPURA,TRIPURA</td>\n      <td>NAN</td>\n      <td>28.0</td>\n      <td>7.6</td>\n      <td>98.0</td>\n      <td>6.2</td>\n      <td>1.2</td>\n      <td>NaN</td>\n      <td>NaN</td>\n      <td>570.0</td>\n      <td>2003</td>\n      <td>0.62</td>\n      <td>152.173913</td>\n      <td>6066.666667</td>\n      <td>24.0</td>\n      <td>NaN</td>\n      <td>NaN</td>\n      <td>57.0</td>\n    </tr>\n    <tr>\n      <th>1989</th>\n      <td>1404.0</td>\n      <td>GUMTI AT D/S SOUTH TRIPURA, TRIPURA</td>\n      <td>NAN</td>\n      <td>28.0</td>\n      <td>7.7</td>\n      <td>91.0</td>\n      <td>6.5</td>\n      <td>1.3</td>\n      <td>NaN</td>\n      <td>NaN</td>\n      <td>562.0</td>\n      <td>2003</td>\n      <td>0.65</td>\n      <td>150.000000</td>\n      <td>5600.000000</td>\n      <td>26.0</td>\n      <td>NaN</td>\n      <td>NaN</td>\n      <td>56.2</td>\n    </tr>\n    <tr>\n      <th>1990</th>\n      <td>1726.0</td>\n      <td>CHANDRAPUR, AGARTALA D/S OF HAORA RIVER, TRIPURA</td>\n      <td>NAN</td>\n      <td>29.0</td>\n      <td>7.6</td>\n      <td>110.0</td>\n      <td>5.7</td>\n      <td>1.1</td>\n      <td>NaN</td>\n      <td>NaN</td>\n      <td>546.0</td>\n      <td>2003</td>\n      <td>0.57</td>\n      <td>152.173913</td>\n      <td>6866.666667</td>\n      <td>22.0</td>\n      <td>NaN</td>\n      <td>NaN</td>\n      <td>54.6</td>\n    </tr>\n  </tbody>\n</table>\n<p>1991 rows × 19 columns</p>\n</div>"
     },
     "execution_count": 32,
     "metadata": {},
     "output_type": "execute_result"
    }
   ],
   "source": [
    "df2"
   ],
   "metadata": {
    "collapsed": false,
    "pycharm": {
     "name": "#%%\n"
    }
   }
  },
  {
   "cell_type": "code",
   "execution_count": 33,
   "outputs": [],
   "source": [
    "df2['wqi']=df2['qi_conductivity']*conductivity_w+\\\n",
    "           df2['qi_do']*do_w+\\\n",
    "           df2['qi_ph']*ph_w+\\\n",
    "           df2['qi_bod']*bod_w+\\\n",
    "           df2['qi_nn']*n_w+\\\n",
    "           df2['qi_fecal_coliform']*fecal_coliform_w+\\\n",
    "           df2['qi_total_coliform_mean']*total_coliform_w"
   ],
   "metadata": {
    "collapsed": false,
    "pycharm": {
     "name": "#%%\n"
    }
   }
  },
  {
   "cell_type": "code",
   "execution_count": 34,
   "outputs": [
    {
     "data": {
      "text/plain": "      station                                           location        state  \\\n0      1393.0               DAMANGANGA AT D/S OF MADHUBAN, DAMAN  DAMAN & DIU   \n1      1399.0  ZUARI AT D/S OF PT. WHERE KUMBARJRIA CANAL JOI...          GOA   \n2      1475.0                                ZUARI AT PANCHAWADI          GOA   \n3      3181.0                        RIVER ZUARI AT BORIM BRIDGE          GOA   \n4      3182.0                       RIVER ZUARI AT MARCAIM JETTY          GOA   \n...       ...                                                ...          ...   \n1986   1330.0            TAMBIRAPARANI AT ARUMUGANERI, TAMILNADU          NAN   \n1987   1450.0  PALAR AT VANIYAMBADI WATER SUPPLY HEAD WORK, T...          NAN   \n1988   1403.0                 GUMTI AT U/S SOUTH TRIPURA,TRIPURA          NAN   \n1989   1404.0                GUMTI AT D/S SOUTH TRIPURA, TRIPURA          NAN   \n1990   1726.0   CHANDRAPUR, AGARTALA D/S OF HAORA RIVER, TRIPURA          NAN   \n\n      Temp   do     ph  conductivity  BOD     nn  fecal_coliform  \\\n0     30.6  6.7    7.5         203.0  NaN  0.100          11.000   \n1     29.8  5.7    7.2         189.0  2.0  0.200        4953.000   \n2     29.5  6.3    6.9         179.0  1.7  0.100        3243.000   \n3     29.7  5.8    6.9          64.0  3.8  0.500        5382.000   \n4     29.5  5.8    7.3          83.0  1.9  0.400        3428.000   \n...    ...  ...    ...           ...  ...    ...             ...   \n1986   NaN  7.9  738.0           7.2  2.7  0.518           0.518   \n1987  29.0  7.5  585.0           6.3  2.6  0.155           0.155   \n1988  28.0  7.6   98.0           6.2  1.2    NaN             NaN   \n1989  28.0  7.7   91.0           6.5  1.3    NaN             NaN   \n1990  29.0  7.6  110.0           5.7  1.1    NaN             NaN   \n\n      total_coliform_mean  year  qi_conductivity       qi_do         qi_ph  \\\n0                    27.0  2014            20.30  171.739130     33.333333   \n1                  8391.0  2014            18.90  193.478261     13.333333   \n2                  5330.0  2014            17.90  180.434783     -6.666667   \n3                  8443.0  2014             6.40  191.304348     -6.666667   \n4                  5500.0  2014             8.30  191.304348     20.000000   \n...                   ...   ...              ...         ...           ...   \n1986                202.0  2003             0.72  145.652174  48733.333333   \n1987                315.0  2003             0.63  154.347826  38533.333333   \n1988                570.0  2003             0.62  152.173913   6066.666667   \n1989                562.0  2003             0.65  150.000000   5600.000000   \n1990                546.0  2003             0.57  152.173913   6866.666667   \n\n      qi_bod     qi_nn  qi_fecal_coliform  qi_total_coliform_mean  \\\n0        NaN  0.222222             11.000                     2.7   \n1       40.0  0.444444           4953.000                   839.1   \n2       34.0  0.222222           3243.000                   533.0   \n3       76.0  1.111111           5382.000                   844.3   \n4       38.0  0.888889           3428.000                   550.0   \n...      ...       ...                ...                     ...   \n1986    54.0  1.151111              0.518                    20.2   \n1987    52.0  0.344444              0.155                    31.5   \n1988    24.0       NaN                NaN                    57.0   \n1989    26.0       NaN                NaN                    56.2   \n1990    22.0       NaN                NaN                    54.6   \n\n               wqi  \n0              NaN  \n1       175.363506  \n2       126.135831  \n3       195.105659  \n4       141.393246  \n...            ...  \n1986  12746.407333  \n1987  10091.343432  \n1988           NaN  \n1989           NaN  \n1990           NaN  \n\n[1991 rows x 20 columns]",
      "text/html": "<div>\n<style scoped>\n    .dataframe tbody tr th:only-of-type {\n        vertical-align: middle;\n    }\n\n    .dataframe tbody tr th {\n        vertical-align: top;\n    }\n\n    .dataframe thead th {\n        text-align: right;\n    }\n</style>\n<table border=\"1\" class=\"dataframe\">\n  <thead>\n    <tr style=\"text-align: right;\">\n      <th></th>\n      <th>station</th>\n      <th>location</th>\n      <th>state</th>\n      <th>Temp</th>\n      <th>do</th>\n      <th>ph</th>\n      <th>conductivity</th>\n      <th>BOD</th>\n      <th>nn</th>\n      <th>fecal_coliform</th>\n      <th>total_coliform_mean</th>\n      <th>year</th>\n      <th>qi_conductivity</th>\n      <th>qi_do</th>\n      <th>qi_ph</th>\n      <th>qi_bod</th>\n      <th>qi_nn</th>\n      <th>qi_fecal_coliform</th>\n      <th>qi_total_coliform_mean</th>\n      <th>wqi</th>\n    </tr>\n  </thead>\n  <tbody>\n    <tr>\n      <th>0</th>\n      <td>1393.0</td>\n      <td>DAMANGANGA AT D/S OF MADHUBAN, DAMAN</td>\n      <td>DAMAN &amp; DIU</td>\n      <td>30.6</td>\n      <td>6.7</td>\n      <td>7.5</td>\n      <td>203.0</td>\n      <td>NaN</td>\n      <td>0.100</td>\n      <td>11.000</td>\n      <td>27.0</td>\n      <td>2014</td>\n      <td>20.30</td>\n      <td>171.739130</td>\n      <td>33.333333</td>\n      <td>NaN</td>\n      <td>0.222222</td>\n      <td>11.000</td>\n      <td>2.7</td>\n      <td>NaN</td>\n    </tr>\n    <tr>\n      <th>1</th>\n      <td>1399.0</td>\n      <td>ZUARI AT D/S OF PT. WHERE KUMBARJRIA CANAL JOI...</td>\n      <td>GOA</td>\n      <td>29.8</td>\n      <td>5.7</td>\n      <td>7.2</td>\n      <td>189.0</td>\n      <td>2.0</td>\n      <td>0.200</td>\n      <td>4953.000</td>\n      <td>8391.0</td>\n      <td>2014</td>\n      <td>18.90</td>\n      <td>193.478261</td>\n      <td>13.333333</td>\n      <td>40.0</td>\n      <td>0.444444</td>\n      <td>4953.000</td>\n      <td>839.1</td>\n      <td>175.363506</td>\n    </tr>\n    <tr>\n      <th>2</th>\n      <td>1475.0</td>\n      <td>ZUARI AT PANCHAWADI</td>\n      <td>GOA</td>\n      <td>29.5</td>\n      <td>6.3</td>\n      <td>6.9</td>\n      <td>179.0</td>\n      <td>1.7</td>\n      <td>0.100</td>\n      <td>3243.000</td>\n      <td>5330.0</td>\n      <td>2014</td>\n      <td>17.90</td>\n      <td>180.434783</td>\n      <td>-6.666667</td>\n      <td>34.0</td>\n      <td>0.222222</td>\n      <td>3243.000</td>\n      <td>533.0</td>\n      <td>126.135831</td>\n    </tr>\n    <tr>\n      <th>3</th>\n      <td>3181.0</td>\n      <td>RIVER ZUARI AT BORIM BRIDGE</td>\n      <td>GOA</td>\n      <td>29.7</td>\n      <td>5.8</td>\n      <td>6.9</td>\n      <td>64.0</td>\n      <td>3.8</td>\n      <td>0.500</td>\n      <td>5382.000</td>\n      <td>8443.0</td>\n      <td>2014</td>\n      <td>6.40</td>\n      <td>191.304348</td>\n      <td>-6.666667</td>\n      <td>76.0</td>\n      <td>1.111111</td>\n      <td>5382.000</td>\n      <td>844.3</td>\n      <td>195.105659</td>\n    </tr>\n    <tr>\n      <th>4</th>\n      <td>3182.0</td>\n      <td>RIVER ZUARI AT MARCAIM JETTY</td>\n      <td>GOA</td>\n      <td>29.5</td>\n      <td>5.8</td>\n      <td>7.3</td>\n      <td>83.0</td>\n      <td>1.9</td>\n      <td>0.400</td>\n      <td>3428.000</td>\n      <td>5500.0</td>\n      <td>2014</td>\n      <td>8.30</td>\n      <td>191.304348</td>\n      <td>20.000000</td>\n      <td>38.0</td>\n      <td>0.888889</td>\n      <td>3428.000</td>\n      <td>550.0</td>\n      <td>141.393246</td>\n    </tr>\n    <tr>\n      <th>...</th>\n      <td>...</td>\n      <td>...</td>\n      <td>...</td>\n      <td>...</td>\n      <td>...</td>\n      <td>...</td>\n      <td>...</td>\n      <td>...</td>\n      <td>...</td>\n      <td>...</td>\n      <td>...</td>\n      <td>...</td>\n      <td>...</td>\n      <td>...</td>\n      <td>...</td>\n      <td>...</td>\n      <td>...</td>\n      <td>...</td>\n      <td>...</td>\n      <td>...</td>\n    </tr>\n    <tr>\n      <th>1986</th>\n      <td>1330.0</td>\n      <td>TAMBIRAPARANI AT ARUMUGANERI, TAMILNADU</td>\n      <td>NAN</td>\n      <td>NaN</td>\n      <td>7.9</td>\n      <td>738.0</td>\n      <td>7.2</td>\n      <td>2.7</td>\n      <td>0.518</td>\n      <td>0.518</td>\n      <td>202.0</td>\n      <td>2003</td>\n      <td>0.72</td>\n      <td>145.652174</td>\n      <td>48733.333333</td>\n      <td>54.0</td>\n      <td>1.151111</td>\n      <td>0.518</td>\n      <td>20.2</td>\n      <td>12746.407333</td>\n    </tr>\n    <tr>\n      <th>1987</th>\n      <td>1450.0</td>\n      <td>PALAR AT VANIYAMBADI WATER SUPPLY HEAD WORK, T...</td>\n      <td>NAN</td>\n      <td>29.0</td>\n      <td>7.5</td>\n      <td>585.0</td>\n      <td>6.3</td>\n      <td>2.6</td>\n      <td>0.155</td>\n      <td>0.155</td>\n      <td>315.0</td>\n      <td>2003</td>\n      <td>0.63</td>\n      <td>154.347826</td>\n      <td>38533.333333</td>\n      <td>52.0</td>\n      <td>0.344444</td>\n      <td>0.155</td>\n      <td>31.5</td>\n      <td>10091.343432</td>\n    </tr>\n    <tr>\n      <th>1988</th>\n      <td>1403.0</td>\n      <td>GUMTI AT U/S SOUTH TRIPURA,TRIPURA</td>\n      <td>NAN</td>\n      <td>28.0</td>\n      <td>7.6</td>\n      <td>98.0</td>\n      <td>6.2</td>\n      <td>1.2</td>\n      <td>NaN</td>\n      <td>NaN</td>\n      <td>570.0</td>\n      <td>2003</td>\n      <td>0.62</td>\n      <td>152.173913</td>\n      <td>6066.666667</td>\n      <td>24.0</td>\n      <td>NaN</td>\n      <td>NaN</td>\n      <td>57.0</td>\n      <td>NaN</td>\n    </tr>\n    <tr>\n      <th>1989</th>\n      <td>1404.0</td>\n      <td>GUMTI AT D/S SOUTH TRIPURA, TRIPURA</td>\n      <td>NAN</td>\n      <td>28.0</td>\n      <td>7.7</td>\n      <td>91.0</td>\n      <td>6.5</td>\n      <td>1.3</td>\n      <td>NaN</td>\n      <td>NaN</td>\n      <td>562.0</td>\n      <td>2003</td>\n      <td>0.65</td>\n      <td>150.000000</td>\n      <td>5600.000000</td>\n      <td>26.0</td>\n      <td>NaN</td>\n      <td>NaN</td>\n      <td>56.2</td>\n      <td>NaN</td>\n    </tr>\n    <tr>\n      <th>1990</th>\n      <td>1726.0</td>\n      <td>CHANDRAPUR, AGARTALA D/S OF HAORA RIVER, TRIPURA</td>\n      <td>NAN</td>\n      <td>29.0</td>\n      <td>7.6</td>\n      <td>110.0</td>\n      <td>5.7</td>\n      <td>1.1</td>\n      <td>NaN</td>\n      <td>NaN</td>\n      <td>546.0</td>\n      <td>2003</td>\n      <td>0.57</td>\n      <td>152.173913</td>\n      <td>6866.666667</td>\n      <td>22.0</td>\n      <td>NaN</td>\n      <td>NaN</td>\n      <td>54.6</td>\n      <td>NaN</td>\n    </tr>\n  </tbody>\n</table>\n<p>1991 rows × 20 columns</p>\n</div>"
     },
     "execution_count": 34,
     "metadata": {},
     "output_type": "execute_result"
    }
   ],
   "source": [
    "df2"
   ],
   "metadata": {
    "collapsed": false,
    "pycharm": {
     "name": "#%%\n"
    }
   }
  },
  {
   "cell_type": "code",
   "execution_count": 35,
   "outputs": [
    {
     "data": {
      "text/plain": "          station         Temp           do            ph  conductivity  \\\ncount  1869.00000  1899.000000  1960.000000   1983.000000   1966.000000   \nmean   1953.64473    26.209814     6.392637    112.090674   1786.466394   \nstd     744.95769     3.366388     1.332938   1878.930716   5552.276223   \nmin       2.00000    10.000000     0.000000      0.000000      0.400000   \n25%    1448.00000    24.750000     5.900000      6.900000     78.000000   \n50%    1861.00000    27.000000     6.700000      7.300000    183.000000   \n75%    2423.00000    28.400000     7.200000      7.700000    592.750000   \nmax    3473.00000    35.000000    11.400000  67115.000000  65700.000000   \n\n               BOD           nn  fecal_coliform  total_coliform_mean  \\\ncount  1948.000000  1766.000000    1.675000e+03         1.859000e+03   \nmean      6.940049     1.623079    3.625294e+05         5.336872e+05   \nstd      29.400026     4.090481    8.764767e+06         1.423428e+07   \nmin       0.100000     0.000000    0.000000e+00         0.000000e+00   \n25%       1.200000     0.240000    2.600000e+01         1.060000e+02   \n50%       1.896500     0.516000    2.210000e+02         4.680000e+02   \n75%       3.600000     1.500000    9.965000e+02         1.919000e+03   \nmax     534.500000   108.700000    2.725216e+08         5.110909e+08   \n\n              year  qi_conductivity        qi_do         qi_ph        qi_bod  \\\ncount  1991.000000      1966.000000  1960.000000  1.983000e+03   1948.000000   \nmean   2010.038172       178.646639   178.420941  7.006045e+03    138.800975   \nstd       3.057333       555.227622    28.976906  1.252620e+05    588.000524   \nmin    2003.000000         0.040000    69.565217 -4.666667e+02      2.000000   \n25%    2008.000000         7.800000   160.869565 -6.666667e+00     24.000000   \n50%    2011.000000        18.300000   171.739130  2.000000e+01     37.930000   \n75%    2013.000000        59.275000   189.130435  4.666667e+01     72.000000   \nmax    2014.000000      6570.000000   317.391304  4.473867e+06  10690.000000   \n\n             qi_nn  qi_fecal_coliform  qi_total_coliform_mean           wqi  \ncount  1766.000000       1.675000e+03            1.859000e+03  1.625000e+03  \nmean      3.606842       3.625294e+05            5.336872e+04  9.512031e+03  \nstd       9.089957       8.764767e+06            1.423428e+06  2.008659e+05  \nmin       0.000000       0.000000e+00            0.000000e+00 -1.057922e+01  \n25%       0.533333       2.600000e+01            1.060000e+01  5.424306e+01  \n50%       1.146667       2.210000e+02            4.680000e+01  7.234219e+01  \n75%       3.333333       9.965000e+02            1.919000e+02  1.077640e+02  \nmax     241.555556       2.725216e+08            5.110909e+07  6.136170e+06  ",
      "text/html": "<div>\n<style scoped>\n    .dataframe tbody tr th:only-of-type {\n        vertical-align: middle;\n    }\n\n    .dataframe tbody tr th {\n        vertical-align: top;\n    }\n\n    .dataframe thead th {\n        text-align: right;\n    }\n</style>\n<table border=\"1\" class=\"dataframe\">\n  <thead>\n    <tr style=\"text-align: right;\">\n      <th></th>\n      <th>station</th>\n      <th>Temp</th>\n      <th>do</th>\n      <th>ph</th>\n      <th>conductivity</th>\n      <th>BOD</th>\n      <th>nn</th>\n      <th>fecal_coliform</th>\n      <th>total_coliform_mean</th>\n      <th>year</th>\n      <th>qi_conductivity</th>\n      <th>qi_do</th>\n      <th>qi_ph</th>\n      <th>qi_bod</th>\n      <th>qi_nn</th>\n      <th>qi_fecal_coliform</th>\n      <th>qi_total_coliform_mean</th>\n      <th>wqi</th>\n    </tr>\n  </thead>\n  <tbody>\n    <tr>\n      <th>count</th>\n      <td>1869.00000</td>\n      <td>1899.000000</td>\n      <td>1960.000000</td>\n      <td>1983.000000</td>\n      <td>1966.000000</td>\n      <td>1948.000000</td>\n      <td>1766.000000</td>\n      <td>1.675000e+03</td>\n      <td>1.859000e+03</td>\n      <td>1991.000000</td>\n      <td>1966.000000</td>\n      <td>1960.000000</td>\n      <td>1.983000e+03</td>\n      <td>1948.000000</td>\n      <td>1766.000000</td>\n      <td>1.675000e+03</td>\n      <td>1.859000e+03</td>\n      <td>1.625000e+03</td>\n    </tr>\n    <tr>\n      <th>mean</th>\n      <td>1953.64473</td>\n      <td>26.209814</td>\n      <td>6.392637</td>\n      <td>112.090674</td>\n      <td>1786.466394</td>\n      <td>6.940049</td>\n      <td>1.623079</td>\n      <td>3.625294e+05</td>\n      <td>5.336872e+05</td>\n      <td>2010.038172</td>\n      <td>178.646639</td>\n      <td>178.420941</td>\n      <td>7.006045e+03</td>\n      <td>138.800975</td>\n      <td>3.606842</td>\n      <td>3.625294e+05</td>\n      <td>5.336872e+04</td>\n      <td>9.512031e+03</td>\n    </tr>\n    <tr>\n      <th>std</th>\n      <td>744.95769</td>\n      <td>3.366388</td>\n      <td>1.332938</td>\n      <td>1878.930716</td>\n      <td>5552.276223</td>\n      <td>29.400026</td>\n      <td>4.090481</td>\n      <td>8.764767e+06</td>\n      <td>1.423428e+07</td>\n      <td>3.057333</td>\n      <td>555.227622</td>\n      <td>28.976906</td>\n      <td>1.252620e+05</td>\n      <td>588.000524</td>\n      <td>9.089957</td>\n      <td>8.764767e+06</td>\n      <td>1.423428e+06</td>\n      <td>2.008659e+05</td>\n    </tr>\n    <tr>\n      <th>min</th>\n      <td>2.00000</td>\n      <td>10.000000</td>\n      <td>0.000000</td>\n      <td>0.000000</td>\n      <td>0.400000</td>\n      <td>0.100000</td>\n      <td>0.000000</td>\n      <td>0.000000e+00</td>\n      <td>0.000000e+00</td>\n      <td>2003.000000</td>\n      <td>0.040000</td>\n      <td>69.565217</td>\n      <td>-4.666667e+02</td>\n      <td>2.000000</td>\n      <td>0.000000</td>\n      <td>0.000000e+00</td>\n      <td>0.000000e+00</td>\n      <td>-1.057922e+01</td>\n    </tr>\n    <tr>\n      <th>25%</th>\n      <td>1448.00000</td>\n      <td>24.750000</td>\n      <td>5.900000</td>\n      <td>6.900000</td>\n      <td>78.000000</td>\n      <td>1.200000</td>\n      <td>0.240000</td>\n      <td>2.600000e+01</td>\n      <td>1.060000e+02</td>\n      <td>2008.000000</td>\n      <td>7.800000</td>\n      <td>160.869565</td>\n      <td>-6.666667e+00</td>\n      <td>24.000000</td>\n      <td>0.533333</td>\n      <td>2.600000e+01</td>\n      <td>1.060000e+01</td>\n      <td>5.424306e+01</td>\n    </tr>\n    <tr>\n      <th>50%</th>\n      <td>1861.00000</td>\n      <td>27.000000</td>\n      <td>6.700000</td>\n      <td>7.300000</td>\n      <td>183.000000</td>\n      <td>1.896500</td>\n      <td>0.516000</td>\n      <td>2.210000e+02</td>\n      <td>4.680000e+02</td>\n      <td>2011.000000</td>\n      <td>18.300000</td>\n      <td>171.739130</td>\n      <td>2.000000e+01</td>\n      <td>37.930000</td>\n      <td>1.146667</td>\n      <td>2.210000e+02</td>\n      <td>4.680000e+01</td>\n      <td>7.234219e+01</td>\n    </tr>\n    <tr>\n      <th>75%</th>\n      <td>2423.00000</td>\n      <td>28.400000</td>\n      <td>7.200000</td>\n      <td>7.700000</td>\n      <td>592.750000</td>\n      <td>3.600000</td>\n      <td>1.500000</td>\n      <td>9.965000e+02</td>\n      <td>1.919000e+03</td>\n      <td>2013.000000</td>\n      <td>59.275000</td>\n      <td>189.130435</td>\n      <td>4.666667e+01</td>\n      <td>72.000000</td>\n      <td>3.333333</td>\n      <td>9.965000e+02</td>\n      <td>1.919000e+02</td>\n      <td>1.077640e+02</td>\n    </tr>\n    <tr>\n      <th>max</th>\n      <td>3473.00000</td>\n      <td>35.000000</td>\n      <td>11.400000</td>\n      <td>67115.000000</td>\n      <td>65700.000000</td>\n      <td>534.500000</td>\n      <td>108.700000</td>\n      <td>2.725216e+08</td>\n      <td>5.110909e+08</td>\n      <td>2014.000000</td>\n      <td>6570.000000</td>\n      <td>317.391304</td>\n      <td>4.473867e+06</td>\n      <td>10690.000000</td>\n      <td>241.555556</td>\n      <td>2.725216e+08</td>\n      <td>5.110909e+07</td>\n      <td>6.136170e+06</td>\n    </tr>\n  </tbody>\n</table>\n</div>"
     },
     "execution_count": 35,
     "metadata": {},
     "output_type": "execute_result"
    }
   ],
   "source": [
    "df2.describe()"
   ],
   "metadata": {
    "collapsed": false,
    "pycharm": {
     "name": "#%%\n"
    }
   }
  },
  {
   "cell_type": "markdown",
   "source": [
    "# adding the WQI to the original dataframe"
   ],
   "metadata": {
    "collapsed": false,
    "pycharm": {
     "name": "#%% md\n"
    }
   }
  },
  {
   "cell_type": "code",
   "execution_count": 36,
   "outputs": [],
   "source": [
    "df3 = pd.concat([df,df2.wqi],axis=1)"
   ],
   "metadata": {
    "collapsed": false,
    "pycharm": {
     "name": "#%%\n"
    }
   }
  },
  {
   "cell_type": "code",
   "execution_count": 37,
   "outputs": [
    {
     "data": {
      "text/plain": "      station                                           location        state  \\\n0      1393.0               DAMANGANGA AT D/S OF MADHUBAN, DAMAN  DAMAN & DIU   \n1      1399.0  ZUARI AT D/S OF PT. WHERE KUMBARJRIA CANAL JOI...          GOA   \n2      1475.0                                ZUARI AT PANCHAWADI          GOA   \n3      3181.0                        RIVER ZUARI AT BORIM BRIDGE          GOA   \n4      3182.0                       RIVER ZUARI AT MARCAIM JETTY          GOA   \n...       ...                                                ...          ...   \n1986   1330.0            TAMBIRAPARANI AT ARUMUGANERI, TAMILNADU          NAN   \n1987   1450.0  PALAR AT VANIYAMBADI WATER SUPPLY HEAD WORK, T...          NAN   \n1988   1403.0                 GUMTI AT U/S SOUTH TRIPURA,TRIPURA          NAN   \n1989   1404.0                GUMTI AT D/S SOUTH TRIPURA, TRIPURA          NAN   \n1990   1726.0   CHANDRAPUR, AGARTALA D/S OF HAORA RIVER, TRIPURA          NAN   \n\n      Temp   do     ph  conductivity  BOD     nn  fecal_coliform  \\\n0     30.6  6.7    7.5         203.0  NaN  0.100          11.000   \n1     29.8  5.7    7.2         189.0  2.0  0.200        4953.000   \n2     29.5  6.3    6.9         179.0  1.7  0.100        3243.000   \n3     29.7  5.8    6.9          64.0  3.8  0.500        5382.000   \n4     29.5  5.8    7.3          83.0  1.9  0.400        3428.000   \n...    ...  ...    ...           ...  ...    ...             ...   \n1986   NaN  7.9  738.0           7.2  2.7  0.518           0.518   \n1987  29.0  7.5  585.0           6.3  2.6  0.155           0.155   \n1988  28.0  7.6   98.0           6.2  1.2    NaN             NaN   \n1989  28.0  7.7   91.0           6.5  1.3    NaN             NaN   \n1990  29.0  7.6  110.0           5.7  1.1    NaN             NaN   \n\n      total_coliform_mean  year           wqi  \n0                    27.0  2014           NaN  \n1                  8391.0  2014    175.363506  \n2                  5330.0  2014    126.135831  \n3                  8443.0  2014    195.105659  \n4                  5500.0  2014    141.393246  \n...                   ...   ...           ...  \n1986                202.0  2003  12746.407333  \n1987                315.0  2003  10091.343432  \n1988                570.0  2003           NaN  \n1989                562.0  2003           NaN  \n1990                546.0  2003           NaN  \n\n[1991 rows x 13 columns]",
      "text/html": "<div>\n<style scoped>\n    .dataframe tbody tr th:only-of-type {\n        vertical-align: middle;\n    }\n\n    .dataframe tbody tr th {\n        vertical-align: top;\n    }\n\n    .dataframe thead th {\n        text-align: right;\n    }\n</style>\n<table border=\"1\" class=\"dataframe\">\n  <thead>\n    <tr style=\"text-align: right;\">\n      <th></th>\n      <th>station</th>\n      <th>location</th>\n      <th>state</th>\n      <th>Temp</th>\n      <th>do</th>\n      <th>ph</th>\n      <th>conductivity</th>\n      <th>BOD</th>\n      <th>nn</th>\n      <th>fecal_coliform</th>\n      <th>total_coliform_mean</th>\n      <th>year</th>\n      <th>wqi</th>\n    </tr>\n  </thead>\n  <tbody>\n    <tr>\n      <th>0</th>\n      <td>1393.0</td>\n      <td>DAMANGANGA AT D/S OF MADHUBAN, DAMAN</td>\n      <td>DAMAN &amp; DIU</td>\n      <td>30.6</td>\n      <td>6.7</td>\n      <td>7.5</td>\n      <td>203.0</td>\n      <td>NaN</td>\n      <td>0.100</td>\n      <td>11.000</td>\n      <td>27.0</td>\n      <td>2014</td>\n      <td>NaN</td>\n    </tr>\n    <tr>\n      <th>1</th>\n      <td>1399.0</td>\n      <td>ZUARI AT D/S OF PT. WHERE KUMBARJRIA CANAL JOI...</td>\n      <td>GOA</td>\n      <td>29.8</td>\n      <td>5.7</td>\n      <td>7.2</td>\n      <td>189.0</td>\n      <td>2.0</td>\n      <td>0.200</td>\n      <td>4953.000</td>\n      <td>8391.0</td>\n      <td>2014</td>\n      <td>175.363506</td>\n    </tr>\n    <tr>\n      <th>2</th>\n      <td>1475.0</td>\n      <td>ZUARI AT PANCHAWADI</td>\n      <td>GOA</td>\n      <td>29.5</td>\n      <td>6.3</td>\n      <td>6.9</td>\n      <td>179.0</td>\n      <td>1.7</td>\n      <td>0.100</td>\n      <td>3243.000</td>\n      <td>5330.0</td>\n      <td>2014</td>\n      <td>126.135831</td>\n    </tr>\n    <tr>\n      <th>3</th>\n      <td>3181.0</td>\n      <td>RIVER ZUARI AT BORIM BRIDGE</td>\n      <td>GOA</td>\n      <td>29.7</td>\n      <td>5.8</td>\n      <td>6.9</td>\n      <td>64.0</td>\n      <td>3.8</td>\n      <td>0.500</td>\n      <td>5382.000</td>\n      <td>8443.0</td>\n      <td>2014</td>\n      <td>195.105659</td>\n    </tr>\n    <tr>\n      <th>4</th>\n      <td>3182.0</td>\n      <td>RIVER ZUARI AT MARCAIM JETTY</td>\n      <td>GOA</td>\n      <td>29.5</td>\n      <td>5.8</td>\n      <td>7.3</td>\n      <td>83.0</td>\n      <td>1.9</td>\n      <td>0.400</td>\n      <td>3428.000</td>\n      <td>5500.0</td>\n      <td>2014</td>\n      <td>141.393246</td>\n    </tr>\n    <tr>\n      <th>...</th>\n      <td>...</td>\n      <td>...</td>\n      <td>...</td>\n      <td>...</td>\n      <td>...</td>\n      <td>...</td>\n      <td>...</td>\n      <td>...</td>\n      <td>...</td>\n      <td>...</td>\n      <td>...</td>\n      <td>...</td>\n      <td>...</td>\n    </tr>\n    <tr>\n      <th>1986</th>\n      <td>1330.0</td>\n      <td>TAMBIRAPARANI AT ARUMUGANERI, TAMILNADU</td>\n      <td>NAN</td>\n      <td>NaN</td>\n      <td>7.9</td>\n      <td>738.0</td>\n      <td>7.2</td>\n      <td>2.7</td>\n      <td>0.518</td>\n      <td>0.518</td>\n      <td>202.0</td>\n      <td>2003</td>\n      <td>12746.407333</td>\n    </tr>\n    <tr>\n      <th>1987</th>\n      <td>1450.0</td>\n      <td>PALAR AT VANIYAMBADI WATER SUPPLY HEAD WORK, T...</td>\n      <td>NAN</td>\n      <td>29.0</td>\n      <td>7.5</td>\n      <td>585.0</td>\n      <td>6.3</td>\n      <td>2.6</td>\n      <td>0.155</td>\n      <td>0.155</td>\n      <td>315.0</td>\n      <td>2003</td>\n      <td>10091.343432</td>\n    </tr>\n    <tr>\n      <th>1988</th>\n      <td>1403.0</td>\n      <td>GUMTI AT U/S SOUTH TRIPURA,TRIPURA</td>\n      <td>NAN</td>\n      <td>28.0</td>\n      <td>7.6</td>\n      <td>98.0</td>\n      <td>6.2</td>\n      <td>1.2</td>\n      <td>NaN</td>\n      <td>NaN</td>\n      <td>570.0</td>\n      <td>2003</td>\n      <td>NaN</td>\n    </tr>\n    <tr>\n      <th>1989</th>\n      <td>1404.0</td>\n      <td>GUMTI AT D/S SOUTH TRIPURA, TRIPURA</td>\n      <td>NAN</td>\n      <td>28.0</td>\n      <td>7.7</td>\n      <td>91.0</td>\n      <td>6.5</td>\n      <td>1.3</td>\n      <td>NaN</td>\n      <td>NaN</td>\n      <td>562.0</td>\n      <td>2003</td>\n      <td>NaN</td>\n    </tr>\n    <tr>\n      <th>1990</th>\n      <td>1726.0</td>\n      <td>CHANDRAPUR, AGARTALA D/S OF HAORA RIVER, TRIPURA</td>\n      <td>NAN</td>\n      <td>29.0</td>\n      <td>7.6</td>\n      <td>110.0</td>\n      <td>5.7</td>\n      <td>1.1</td>\n      <td>NaN</td>\n      <td>NaN</td>\n      <td>546.0</td>\n      <td>2003</td>\n      <td>NaN</td>\n    </tr>\n  </tbody>\n</table>\n<p>1991 rows × 13 columns</p>\n</div>"
     },
     "execution_count": 37,
     "metadata": {},
     "output_type": "execute_result"
    }
   ],
   "source": [
    "df3"
   ],
   "metadata": {
    "collapsed": false,
    "pycharm": {
     "name": "#%%\n"
    }
   }
  },
  {
   "cell_type": "code",
   "execution_count": 38,
   "outputs": [
    {
     "data": {
      "text/plain": "          station         Temp           do            ph  conductivity  \\\ncount  1869.00000  1899.000000  1960.000000   1983.000000   1966.000000   \nmean   1953.64473    26.209814     6.392637    112.090674   1786.466394   \nstd     744.95769     3.366388     1.332938   1878.930716   5552.276223   \nmin       2.00000    10.000000     0.000000      0.000000      0.400000   \n25%    1448.00000    24.750000     5.900000      6.900000     78.000000   \n50%    1861.00000    27.000000     6.700000      7.300000    183.000000   \n75%    2423.00000    28.400000     7.200000      7.700000    592.750000   \nmax    3473.00000    35.000000    11.400000  67115.000000  65700.000000   \n\n               BOD           nn  fecal_coliform  total_coliform_mean  \\\ncount  1948.000000  1766.000000    1.675000e+03         1.859000e+03   \nmean      6.940049     1.623079    3.625294e+05         5.336872e+05   \nstd      29.400026     4.090481    8.764767e+06         1.423428e+07   \nmin       0.100000     0.000000    0.000000e+00         0.000000e+00   \n25%       1.200000     0.240000    2.600000e+01         1.060000e+02   \n50%       1.896500     0.516000    2.210000e+02         4.680000e+02   \n75%       3.600000     1.500000    9.965000e+02         1.919000e+03   \nmax     534.500000   108.700000    2.725216e+08         5.110909e+08   \n\n              year           wqi  \ncount  1991.000000  1.625000e+03  \nmean   2010.038172  9.512031e+03  \nstd       3.057333  2.008659e+05  \nmin    2003.000000 -1.057922e+01  \n25%    2008.000000  5.424306e+01  \n50%    2011.000000  7.234219e+01  \n75%    2013.000000  1.077640e+02  \nmax    2014.000000  6.136170e+06  ",
      "text/html": "<div>\n<style scoped>\n    .dataframe tbody tr th:only-of-type {\n        vertical-align: middle;\n    }\n\n    .dataframe tbody tr th {\n        vertical-align: top;\n    }\n\n    .dataframe thead th {\n        text-align: right;\n    }\n</style>\n<table border=\"1\" class=\"dataframe\">\n  <thead>\n    <tr style=\"text-align: right;\">\n      <th></th>\n      <th>station</th>\n      <th>Temp</th>\n      <th>do</th>\n      <th>ph</th>\n      <th>conductivity</th>\n      <th>BOD</th>\n      <th>nn</th>\n      <th>fecal_coliform</th>\n      <th>total_coliform_mean</th>\n      <th>year</th>\n      <th>wqi</th>\n    </tr>\n  </thead>\n  <tbody>\n    <tr>\n      <th>count</th>\n      <td>1869.00000</td>\n      <td>1899.000000</td>\n      <td>1960.000000</td>\n      <td>1983.000000</td>\n      <td>1966.000000</td>\n      <td>1948.000000</td>\n      <td>1766.000000</td>\n      <td>1.675000e+03</td>\n      <td>1.859000e+03</td>\n      <td>1991.000000</td>\n      <td>1.625000e+03</td>\n    </tr>\n    <tr>\n      <th>mean</th>\n      <td>1953.64473</td>\n      <td>26.209814</td>\n      <td>6.392637</td>\n      <td>112.090674</td>\n      <td>1786.466394</td>\n      <td>6.940049</td>\n      <td>1.623079</td>\n      <td>3.625294e+05</td>\n      <td>5.336872e+05</td>\n      <td>2010.038172</td>\n      <td>9.512031e+03</td>\n    </tr>\n    <tr>\n      <th>std</th>\n      <td>744.95769</td>\n      <td>3.366388</td>\n      <td>1.332938</td>\n      <td>1878.930716</td>\n      <td>5552.276223</td>\n      <td>29.400026</td>\n      <td>4.090481</td>\n      <td>8.764767e+06</td>\n      <td>1.423428e+07</td>\n      <td>3.057333</td>\n      <td>2.008659e+05</td>\n    </tr>\n    <tr>\n      <th>min</th>\n      <td>2.00000</td>\n      <td>10.000000</td>\n      <td>0.000000</td>\n      <td>0.000000</td>\n      <td>0.400000</td>\n      <td>0.100000</td>\n      <td>0.000000</td>\n      <td>0.000000e+00</td>\n      <td>0.000000e+00</td>\n      <td>2003.000000</td>\n      <td>-1.057922e+01</td>\n    </tr>\n    <tr>\n      <th>25%</th>\n      <td>1448.00000</td>\n      <td>24.750000</td>\n      <td>5.900000</td>\n      <td>6.900000</td>\n      <td>78.000000</td>\n      <td>1.200000</td>\n      <td>0.240000</td>\n      <td>2.600000e+01</td>\n      <td>1.060000e+02</td>\n      <td>2008.000000</td>\n      <td>5.424306e+01</td>\n    </tr>\n    <tr>\n      <th>50%</th>\n      <td>1861.00000</td>\n      <td>27.000000</td>\n      <td>6.700000</td>\n      <td>7.300000</td>\n      <td>183.000000</td>\n      <td>1.896500</td>\n      <td>0.516000</td>\n      <td>2.210000e+02</td>\n      <td>4.680000e+02</td>\n      <td>2011.000000</td>\n      <td>7.234219e+01</td>\n    </tr>\n    <tr>\n      <th>75%</th>\n      <td>2423.00000</td>\n      <td>28.400000</td>\n      <td>7.200000</td>\n      <td>7.700000</td>\n      <td>592.750000</td>\n      <td>3.600000</td>\n      <td>1.500000</td>\n      <td>9.965000e+02</td>\n      <td>1.919000e+03</td>\n      <td>2013.000000</td>\n      <td>1.077640e+02</td>\n    </tr>\n    <tr>\n      <th>max</th>\n      <td>3473.00000</td>\n      <td>35.000000</td>\n      <td>11.400000</td>\n      <td>67115.000000</td>\n      <td>65700.000000</td>\n      <td>534.500000</td>\n      <td>108.700000</td>\n      <td>2.725216e+08</td>\n      <td>5.110909e+08</td>\n      <td>2014.000000</td>\n      <td>6.136170e+06</td>\n    </tr>\n  </tbody>\n</table>\n</div>"
     },
     "execution_count": 38,
     "metadata": {},
     "output_type": "execute_result"
    }
   ],
   "source": [
    "df3.describe()"
   ],
   "metadata": {
    "collapsed": false,
    "pycharm": {
     "name": "#%%\n"
    }
   }
  },
  {
   "cell_type": "markdown",
   "source": [
    "# Handling missing values"
   ],
   "metadata": {
    "collapsed": false,
    "pycharm": {
     "name": "#%% md\n"
    }
   }
  },
  {
   "cell_type": "markdown",
   "source": [
    "We'll just remove them"
   ],
   "metadata": {
    "collapsed": false,
    "pycharm": {
     "name": "#%% md\n"
    }
   }
  },
  {
   "cell_type": "code",
   "execution_count": 39,
   "outputs": [
    {
     "data": {
      "text/plain": "<AxesSubplot:>"
     },
     "execution_count": 39,
     "metadata": {},
     "output_type": "execute_result"
    },
    {
     "data": {
      "text/plain": "<Figure size 1800x720 with 2 Axes>",
      "image/png": "[encoded data removed]"
     },
     "metadata": {},
     "output_type": "display_data"
    }
   ],
   "source": [
    "msno.matrix(df3)"
   ],
   "metadata": {
    "collapsed": false,
    "pycharm": {
     "name": "#%%\n"
    }
   }
  },
  {
   "cell_type": "code",
   "execution_count": 40,
   "outputs": [
    {
     "data": {
      "text/plain": "station                122\nlocation                 0\nstate                    0\nTemp                    92\ndo                      31\nph                       8\nconductivity            25\nBOD                     43\nnn                     225\nfecal_coliform         316\ntotal_coliform_mean    132\nyear                     0\nwqi                    366\ndtype: int64"
     },
     "execution_count": 40,
     "metadata": {},
     "output_type": "execute_result"
    }
   ],
   "source": [
    "df3.isnull().sum()"
   ],
   "metadata": {
    "collapsed": false,
    "pycharm": {
     "name": "#%%\n"
    }
   }
  },
  {
   "cell_type": "code",
   "execution_count": 41,
   "outputs": [],
   "source": [
    "df4= df3.dropna()"
   ],
   "metadata": {
    "collapsed": false,
    "pycharm": {
     "name": "#%%\n"
    }
   }
  },
  {
   "cell_type": "code",
   "execution_count": 42,
   "outputs": [
    {
     "data": {
      "text/plain": "      station                                           location state  Temp  \\\n1      1399.0  ZUARI AT D/S OF PT. WHERE KUMBARJRIA CANAL JOI...   GOA  29.8   \n2      1475.0                                ZUARI AT PANCHAWADI   GOA  29.5   \n3      3181.0                        RIVER ZUARI AT BORIM BRIDGE   GOA  29.7   \n4      3182.0                       RIVER ZUARI AT MARCAIM JETTY   GOA  29.5   \n5      1400.0             MANDOVI AT NEGHBOURHOOD OF PANAJI, GOA   GOA  30.0   \n...       ...                                                ...   ...   ...   \n1981   1160.0  TAMBIRAPARANI AT CHERANMADEVI,CAUSE WAY,TAMILNADU   NAN  31.0   \n1982   1161.0  TAMBIRAPARANI AT TIRUNELVELI,COLLECTORATE,    ...   NAN  29.0   \n1984   1328.0             TAMBIRAPARANI AT PAPPANKULAM,TAMILNADU   NAN  28.0   \n1985   1329.0  TAMBIRAPARANI AT RAIL BDG. NR. AMBASAMUDAM, TA...   NAN  28.0   \n1987   1450.0  PALAR AT VANIYAMBADI WATER SUPPLY HEAD WORK, T...   NAN  29.0   \n\n       do     ph  conductivity  BOD     nn  fecal_coliform  \\\n1     5.7    7.2         189.0  2.0  0.200        4953.000   \n2     6.3    6.9         179.0  1.7  0.100        3243.000   \n3     5.8    6.9          64.0  3.8  0.500        5382.000   \n4     5.8    7.3          83.0  1.9  0.400        3428.000   \n5     5.5    7.4          81.0  1.5  0.100        2853.000   \n...   ...    ...           ...  ...    ...             ...   \n1981  7.3  178.0           6.7  1.5  0.138           0.138   \n1982  7.1  214.0           6.8  2.3  0.585           0.585   \n1984  6.9  146.0           7.1  2.0  0.506           0.506   \n1985  7.0  136.0           7.5  1.4  0.609           0.609   \n1987  7.5  585.0           6.3  2.6  0.155           0.155   \n\n      total_coliform_mean  year           wqi  \n1                  8391.0  2014    175.363506  \n2                  5330.0  2014    126.135831  \n3                  8443.0  2014    195.105659  \n4                  5500.0  2014    141.393246  \n5                  4049.0  2014    127.971746  \n...                   ...   ...           ...  \n1981                190.0  2003   3017.018760  \n1982                350.0  2003   3650.116506  \n1984                 38.0  2003   2467.864123  \n1985                205.0  2003   2288.522202  \n1987                315.0  2003  10091.343432  \n\n[1528 rows x 13 columns]",
      "text/html": "<div>\n<style scoped>\n    .dataframe tbody tr th:only-of-type {\n        vertical-align: middle;\n    }\n\n    .dataframe tbody tr th {\n        vertical-align: top;\n    }\n\n    .dataframe thead th {\n        text-align: right;\n    }\n</style>\n<table border=\"1\" class=\"dataframe\">\n  <thead>\n    <tr style=\"text-align: right;\">\n      <th></th>\n      <th>station</th>\n      <th>location</th>\n      <th>state</th>\n      <th>Temp</th>\n      <th>do</th>\n      <th>ph</th>\n      <th>conductivity</th>\n      <th>BOD</th>\n      <th>nn</th>\n      <th>fecal_coliform</th>\n      <th>total_coliform_mean</th>\n      <th>year</th>\n      <th>wqi</th>\n    </tr>\n  </thead>\n  <tbody>\n    <tr>\n      <th>1</th>\n      <td>1399.0</td>\n      <td>ZUARI AT D/S OF PT. WHERE KUMBARJRIA CANAL JOI...</td>\n      <td>GOA</td>\n      <td>29.8</td>\n      <td>5.7</td>\n      <td>7.2</td>\n      <td>189.0</td>\n      <td>2.0</td>\n      <td>0.200</td>\n      <td>4953.000</td>\n      <td>8391.0</td>\n      <td>2014</td>\n      <td>175.363506</td>\n    </tr>\n    <tr>\n      <th>2</th>\n      <td>1475.0</td>\n      <td>ZUARI AT PANCHAWADI</td>\n      <td>GOA</td>\n      <td>29.5</td>\n      <td>6.3</td>\n      <td>6.9</td>\n      <td>179.0</td>\n      <td>1.7</td>\n      <td>0.100</td>\n      <td>3243.000</td>\n      <td>5330.0</td>\n      <td>2014</td>\n      <td>126.135831</td>\n    </tr>\n    <tr>\n      <th>3</th>\n      <td>3181.0</td>\n      <td>RIVER ZUARI AT BORIM BRIDGE</td>\n      <td>GOA</td>\n      <td>29.7</td>\n      <td>5.8</td>\n      <td>6.9</td>\n      <td>64.0</td>\n      <td>3.8</td>\n      <td>0.500</td>\n      <td>5382.000</td>\n      <td>8443.0</td>\n      <td>2014</td>\n      <td>195.105659</td>\n    </tr>\n    <tr>\n      <th>4</th>\n      <td>3182.0</td>\n      <td>RIVER ZUARI AT MARCAIM JETTY</td>\n      <td>GOA</td>\n      <td>29.5</td>\n      <td>5.8</td>\n      <td>7.3</td>\n      <td>83.0</td>\n      <td>1.9</td>\n      <td>0.400</td>\n      <td>3428.000</td>\n      <td>5500.0</td>\n      <td>2014</td>\n      <td>141.393246</td>\n    </tr>\n    <tr>\n      <th>5</th>\n      <td>1400.0</td>\n      <td>MANDOVI AT NEGHBOURHOOD OF PANAJI, GOA</td>\n      <td>GOA</td>\n      <td>30.0</td>\n      <td>5.5</td>\n      <td>7.4</td>\n      <td>81.0</td>\n      <td>1.5</td>\n      <td>0.100</td>\n      <td>2853.000</td>\n      <td>4049.0</td>\n      <td>2014</td>\n      <td>127.971746</td>\n    </tr>\n    <tr>\n      <th>...</th>\n      <td>...</td>\n      <td>...</td>\n      <td>...</td>\n      <td>...</td>\n      <td>...</td>\n      <td>...</td>\n      <td>...</td>\n      <td>...</td>\n      <td>...</td>\n      <td>...</td>\n      <td>...</td>\n      <td>...</td>\n      <td>...</td>\n    </tr>\n    <tr>\n      <th>1981</th>\n      <td>1160.0</td>\n      <td>TAMBIRAPARANI AT CHERANMADEVI,CAUSE WAY,TAMILNADU</td>\n      <td>NAN</td>\n      <td>31.0</td>\n      <td>7.3</td>\n      <td>178.0</td>\n      <td>6.7</td>\n      <td>1.5</td>\n      <td>0.138</td>\n      <td>0.138</td>\n      <td>190.0</td>\n      <td>2003</td>\n      <td>3017.018760</td>\n    </tr>\n    <tr>\n      <th>1982</th>\n      <td>1161.0</td>\n      <td>TAMBIRAPARANI AT TIRUNELVELI,COLLECTORATE,    ...</td>\n      <td>NAN</td>\n      <td>29.0</td>\n      <td>7.1</td>\n      <td>214.0</td>\n      <td>6.8</td>\n      <td>2.3</td>\n      <td>0.585</td>\n      <td>0.585</td>\n      <td>350.0</td>\n      <td>2003</td>\n      <td>3650.116506</td>\n    </tr>\n    <tr>\n      <th>1984</th>\n      <td>1328.0</td>\n      <td>TAMBIRAPARANI AT PAPPANKULAM,TAMILNADU</td>\n      <td>NAN</td>\n      <td>28.0</td>\n      <td>6.9</td>\n      <td>146.0</td>\n      <td>7.1</td>\n      <td>2.0</td>\n      <td>0.506</td>\n      <td>0.506</td>\n      <td>38.0</td>\n      <td>2003</td>\n      <td>2467.864123</td>\n    </tr>\n    <tr>\n      <th>1985</th>\n      <td>1329.0</td>\n      <td>TAMBIRAPARANI AT RAIL BDG. NR. AMBASAMUDAM, TA...</td>\n      <td>NAN</td>\n      <td>28.0</td>\n      <td>7.0</td>\n      <td>136.0</td>\n      <td>7.5</td>\n      <td>1.4</td>\n      <td>0.609</td>\n      <td>0.609</td>\n      <td>205.0</td>\n      <td>2003</td>\n      <td>2288.522202</td>\n    </tr>\n    <tr>\n      <th>1987</th>\n      <td>1450.0</td>\n      <td>PALAR AT VANIYAMBADI WATER SUPPLY HEAD WORK, T...</td>\n      <td>NAN</td>\n      <td>29.0</td>\n      <td>7.5</td>\n      <td>585.0</td>\n      <td>6.3</td>\n      <td>2.6</td>\n      <td>0.155</td>\n      <td>0.155</td>\n      <td>315.0</td>\n      <td>2003</td>\n      <td>10091.343432</td>\n    </tr>\n  </tbody>\n</table>\n<p>1528 rows × 13 columns</p>\n</div>"
     },
     "execution_count": 42,
     "metadata": {},
     "output_type": "execute_result"
    }
   ],
   "source": [
    "df4"
   ],
   "metadata": {
    "collapsed": false,
    "pycharm": {
     "name": "#%%\n"
    }
   }
  },
  {
   "cell_type": "markdown",
   "source": [
    "# Feature selection"
   ],
   "metadata": {
    "collapsed": false,
    "pycharm": {
     "name": "#%% md\n"
    }
   }
  },
  {
   "cell_type": "code",
   "execution_count": 43,
   "outputs": [],
   "source": [
    "x = df4[['do','ph','conductivity','BOD','nn','fecal_coliform','total_coliform_mean']]"
   ],
   "metadata": {
    "collapsed": false,
    "pycharm": {
     "name": "#%%\n"
    }
   }
  },
  {
   "cell_type": "code",
   "execution_count": 44,
   "outputs": [],
   "source": [
    "y = df4.wqi"
   ],
   "metadata": {
    "collapsed": false,
    "pycharm": {
     "name": "#%%\n"
    }
   }
  },
  {
   "cell_type": "code",
   "execution_count": 45,
   "outputs": [
    {
     "data": {
      "text/plain": "1         175.363506\n2         126.135831\n3         195.105659\n4         141.393246\n5         127.971746\n            ...     \n1981     3017.018760\n1982     3650.116506\n1984     2467.864123\n1985     2288.522202\n1987    10091.343432\nName: wqi, Length: 1528, dtype: float64"
     },
     "execution_count": 45,
     "metadata": {},
     "output_type": "execute_result"
    }
   ],
   "source": [
    "y"
   ],
   "metadata": {
    "collapsed": false,
    "pycharm": {
     "name": "#%%\n"
    }
   }
  },
  {
   "cell_type": "markdown",
   "source": [
    "# Splitting into training and testing data"
   ],
   "metadata": {
    "collapsed": false,
    "pycharm": {
     "name": "#%% md\n"
    }
   }
  },
  {
   "cell_type": "code",
   "execution_count": 46,
   "outputs": [],
   "source": [
    "from sklearn.model_selection import train_test_split"
   ],
   "metadata": {
    "collapsed": false,
    "pycharm": {
     "name": "#%%\n"
    }
   }
  },
  {
   "cell_type": "code",
   "execution_count": 47,
   "outputs": [],
   "source": [
    "x_train, x_test, y_train, y_test =train_test_split(x,y,test_size=0.25)"
   ],
   "metadata": {
    "collapsed": false,
    "pycharm": {
     "name": "#%%\n"
    }
   }
  },
  {
   "cell_type": "code",
   "execution_count": 48,
   "outputs": [
    {
     "data": {
      "text/plain": "       do      ph  conductivity  BOD    nn  fecal_coliform  \\\n571   6.7     7.6         137.0  2.9  0.76            24.0   \n1019  7.3     7.0         162.0  2.2  0.69          2085.0   \n921   6.2     6.8         309.0  1.6  0.39          1129.0   \n1468  5.9     7.1        6666.0  0.7  4.13           118.0   \n282   2.8     6.4         424.0  3.2  0.35         12658.0   \n...   ...     ...           ...  ...   ...             ...   \n1923  7.7  1148.0           4.8  6.9  2.00             2.0   \n526   7.1     6.8          70.0  0.8  0.17           716.0   \n196   5.6     7.9         326.0  1.1  0.80             4.0   \n1165  6.9     7.0         236.0  1.9  0.25            83.0   \n330   6.9     7.7         107.0  0.7  0.46           255.0   \n\n      total_coliform_mean  \n571                  64.0  \n1019               2633.0  \n921                2725.0  \n1468                393.0  \n282               21036.0  \n...                   ...  \n1923              10050.0  \n526                3567.0  \n196                   4.0  \n1165                157.0  \n330                 443.0  \n\n[1146 rows x 7 columns]",
      "text/html": "<div>\n<style scoped>\n    .dataframe tbody tr th:only-of-type {\n        vertical-align: middle;\n    }\n\n    .dataframe tbody tr th {\n        vertical-align: top;\n    }\n\n    .dataframe thead th {\n        text-align: right;\n    }\n</style>\n<table border=\"1\" class=\"dataframe\">\n  <thead>\n    <tr style=\"text-align: right;\">\n      <th></th>\n      <th>do</th>\n      <th>ph</th>\n      <th>conductivity</th>\n      <th>BOD</th>\n      <th>nn</th>\n      <th>fecal_coliform</th>\n      <th>total_coliform_mean</th>\n    </tr>\n  </thead>\n  <tbody>\n    <tr>\n      <th>571</th>\n      <td>6.7</td>\n      <td>7.6</td>\n      <td>137.0</td>\n      <td>2.9</td>\n      <td>0.76</td>\n      <td>24.0</td>\n      <td>64.0</td>\n    </tr>\n    <tr>\n      <th>1019</th>\n      <td>7.3</td>\n      <td>7.0</td>\n      <td>162.0</td>\n      <td>2.2</td>\n      <td>0.69</td>\n      <td>2085.0</td>\n      <td>2633.0</td>\n    </tr>\n    <tr>\n      <th>921</th>\n      <td>6.2</td>\n      <td>6.8</td>\n      <td>309.0</td>\n      <td>1.6</td>\n      <td>0.39</td>\n      <td>1129.0</td>\n      <td>2725.0</td>\n    </tr>\n    <tr>\n      <th>1468</th>\n      <td>5.9</td>\n      <td>7.1</td>\n      <td>6666.0</td>\n      <td>0.7</td>\n      <td>4.13</td>\n      <td>118.0</td>\n      <td>393.0</td>\n    </tr>\n    <tr>\n      <th>282</th>\n      <td>2.8</td>\n      <td>6.4</td>\n      <td>424.0</td>\n      <td>3.2</td>\n      <td>0.35</td>\n      <td>12658.0</td>\n      <td>21036.0</td>\n    </tr>\n    <tr>\n      <th>...</th>\n      <td>...</td>\n      <td>...</td>\n      <td>...</td>\n      <td>...</td>\n      <td>...</td>\n      <td>...</td>\n      <td>...</td>\n    </tr>\n    <tr>\n      <th>1923</th>\n      <td>7.7</td>\n      <td>1148.0</td>\n      <td>4.8</td>\n      <td>6.9</td>\n      <td>2.00</td>\n      <td>2.0</td>\n      <td>10050.0</td>\n    </tr>\n    <tr>\n      <th>526</th>\n      <td>7.1</td>\n      <td>6.8</td>\n      <td>70.0</td>\n      <td>0.8</td>\n      <td>0.17</td>\n      <td>716.0</td>\n      <td>3567.0</td>\n    </tr>\n    <tr>\n      <th>196</th>\n      <td>5.6</td>\n      <td>7.9</td>\n      <td>326.0</td>\n      <td>1.1</td>\n      <td>0.80</td>\n      <td>4.0</td>\n      <td>4.0</td>\n    </tr>\n    <tr>\n      <th>1165</th>\n      <td>6.9</td>\n      <td>7.0</td>\n      <td>236.0</td>\n      <td>1.9</td>\n      <td>0.25</td>\n      <td>83.0</td>\n      <td>157.0</td>\n    </tr>\n    <tr>\n      <th>330</th>\n      <td>6.9</td>\n      <td>7.7</td>\n      <td>107.0</td>\n      <td>0.7</td>\n      <td>0.46</td>\n      <td>255.0</td>\n      <td>443.0</td>\n    </tr>\n  </tbody>\n</table>\n<p>1146 rows × 7 columns</p>\n</div>"
     },
     "execution_count": 48,
     "metadata": {},
     "output_type": "execute_result"
    }
   ],
   "source": [
    "x_train"
   ],
   "metadata": {
    "collapsed": false,
    "pycharm": {
     "name": "#%%\n"
    }
   }
  },
  {
   "cell_type": "code",
   "execution_count": 49,
   "outputs": [
    {
     "data": {
      "text/plain": "571        74.750383\n1019      101.362588\n921        76.763524\n1468       54.399292\n282       359.179928\n            ...     \n1923    19904.508723\n526        56.333448\n196        68.907493\n1165       55.810589\n330        61.198889\nName: wqi, Length: 1146, dtype: float64"
     },
     "execution_count": 49,
     "metadata": {},
     "output_type": "execute_result"
    }
   ],
   "source": [
    "y_train"
   ],
   "metadata": {
    "collapsed": false,
    "pycharm": {
     "name": "#%%\n"
    }
   }
  },
  {
   "cell_type": "markdown",
   "source": [
    "# SVR Cross Validation"
   ],
   "metadata": {
    "collapsed": false,
    "pycharm": {
     "name": "#%% md\n"
    }
   }
  },
  {
   "cell_type": "code",
   "execution_count": 50,
   "outputs": [],
   "source": [
    "# from sklearn.model_selection import cross_val_score\n",
    "# from sklearn.svm import SVR"
   ],
   "metadata": {
    "collapsed": false,
    "pycharm": {
     "name": "#%%\n"
    }
   }
  },
  {
   "cell_type": "code",
   "execution_count": 51,
   "outputs": [],
   "source": [
    "# clf = SVR(kernel='linear', C=1, gamma='scale')\n",
    "# scores = cross_val_score(clf, x, y, cv=5)"
   ],
   "metadata": {
    "collapsed": false,
    "pycharm": {
     "name": "#%%\n"
    }
   }
  },
  {
   "cell_type": "markdown",
   "source": [
    "# SVR Pipeline: Predicting WQI"
   ],
   "metadata": {
    "collapsed": false,
    "pycharm": {
     "name": "#%% md\n"
    }
   }
  },
  {
   "cell_type": "code",
   "execution_count": 52,
   "outputs": [],
   "source": [
    "from sklearn.pipeline import Pipeline\n",
    "from sklearn.svm import SVR\n",
    "from sklearn.preprocessing import StandardScaler"
   ],
   "metadata": {
    "collapsed": false,
    "pycharm": {
     "name": "#%%\n"
    }
   }
  },
  {
   "cell_type": "code",
   "execution_count": 71,
   "outputs": [],
   "source": [
    "pipeline = Pipeline([\n",
    "    (\"Std scaling\", StandardScaler()),\n",
    "    (\"SVR\",SVR(kernel=\"linear\",C=1000,gamma=\"scale\",degree=3,epsilon=0.1,coef0=1))\n",
    "     ])"
   ],
   "metadata": {
    "collapsed": false,
    "pycharm": {
     "name": "#%%\n"
    }
   }
  },
  {
   "cell_type": "code",
   "execution_count": 72,
   "outputs": [
    {
     "data": {
      "text/plain": "Pipeline(steps=[('Std scaling', StandardScaler()),\n                ('SVR', SVR(C=1000, coef0=1, kernel='linear'))])"
     },
     "execution_count": 72,
     "metadata": {},
     "output_type": "execute_result"
    }
   ],
   "source": [
    "pipeline.fit(x_train,y_train)"
   ],
   "metadata": {
    "collapsed": false,
    "pycharm": {
     "name": "#%%\n"
    }
   }
  },
  {
   "cell_type": "code",
   "execution_count": 73,
   "outputs": [],
   "source": [
    "y_pred = pipeline.predict(x_test)"
   ],
   "metadata": {
    "collapsed": false,
    "pycharm": {
     "name": "#%%\n"
    }
   }
  },
  {
   "cell_type": "markdown",
   "source": [
    "# SVR performance"
   ],
   "metadata": {
    "collapsed": false,
    "pycharm": {
     "name": "#%% md\n"
    }
   }
  },
  {
   "cell_type": "code",
   "execution_count": 74,
   "outputs": [],
   "source": [
    "from sklearn.metrics import mean_absolute_error,r2_score,explained_variance_score"
   ],
   "metadata": {
    "collapsed": false,
    "pycharm": {
     "name": "#%%\n"
    }
   }
  },
  {
   "cell_type": "code",
   "execution_count": 75,
   "outputs": [
    {
     "data": {
      "text/plain": "0.9999450413232046"
     },
     "execution_count": 75,
     "metadata": {},
     "output_type": "execute_result"
    }
   ],
   "source": [
    "r2_score(y_test,y_pred)"
   ],
   "metadata": {
    "collapsed": false,
    "pycharm": {
     "name": "#%%\n"
    }
   }
  },
  {
   "cell_type": "code",
   "execution_count": 76,
   "outputs": [
    {
     "data": {
      "text/plain": "36.37294955667773"
     },
     "execution_count": 76,
     "metadata": {},
     "output_type": "execute_result"
    }
   ],
   "source": [
    "mean_absolute_error(y_test,y_pred)"
   ],
   "metadata": {
    "collapsed": false,
    "pycharm": {
     "name": "#%%\n"
    }
   }
  },
  {
   "cell_type": "code",
   "execution_count": 77,
   "outputs": [
    {
     "data": {
      "text/plain": "0.9999463610512901"
     },
     "execution_count": 77,
     "metadata": {},
     "output_type": "execute_result"
    }
   ],
   "source": [
    "explained_variance_score(y_test,y_pred)"
   ],
   "metadata": {
    "collapsed": false,
    "pycharm": {
     "name": "#%%\n"
    }
   }
  },
  {
   "cell_type": "markdown",
   "source": [
    "## Visualize performance"
   ],
   "metadata": {
    "collapsed": false,
    "pycharm": {
     "name": "#%% md\n"
    }
   }
  },
  {
   "cell_type": "code",
   "execution_count": 78,
   "outputs": [
    {
     "data": {
      "text/plain": "array([ 4.99718889e+01,  7.87197552e+01,  5.36610928e+01,  6.16959670e+01,\n        4.17069621e+01,  6.33765978e+01,  7.14100761e+01,  7.06721018e+01,\n        7.63928409e+01,  6.86362148e+01,  5.86677205e+01,  8.77822356e+01,\n        8.44399725e+01,  8.28067913e+02,  6.14723691e+01,  7.48244274e+01,\n        4.70510073e+01,  7.57191881e+01,  6.17754788e+01,  4.13726670e+01,\n        6.37790981e+01,  4.53485658e+01,  6.34479387e+01,  7.38987462e+01,\n        8.83502821e+01,  6.06588566e+01,  8.11211026e+01,  4.09319003e+01,\n        4.61125963e+02,  1.04799302e+02,  6.68450580e+01,  5.39773715e+01,\n        7.96907528e+01,  9.14598494e+02,  6.26772590e+01,  7.45128808e+01,\n        9.81400374e+01,  5.14090523e+01,  9.34261133e+01,  5.99347143e+02,\n        6.50054142e+01,  4.97486275e+01,  8.46883235e+01,  5.68585439e+01,\n        1.06614894e+03,  4.29519420e+01,  9.06316508e+01,  9.90801378e+01,\n        7.73613227e+01,  6.27053790e+01,  4.92270685e+01,  9.69983572e+01,\n        4.01064329e+02,  7.82463818e+01,  4.47202947e+01,  9.70788979e+01,\n        8.97540412e+01,  4.70652814e+01,  9.34141405e+01,  9.82817833e+01,\n        5.52315828e+01,  4.56382096e+01,  7.92326778e+01,  4.65605558e+01,\n        5.15944144e+01,  3.38639607e+03,  3.14811535e+02,  1.35102093e+02,\n        7.57457456e+03,  5.25138051e+01,  5.49792608e+01,  5.99253269e+01,\n        9.95234268e+01,  5.85677682e+01,  1.58250894e+02,  1.26619312e+02,\n        8.98412065e+01,  4.52597437e+01,  4.72435997e+01,  5.20617480e+01,\n        3.17895144e+04,  9.04918508e+01,  4.84668913e+01,  5.77936355e+01,\n        5.83911066e+01,  5.46554573e+01,  4.54930677e+01,  7.15558468e+01,\n        8.26446144e+01,  5.12755345e+01,  5.67049435e+01,  4.98867198e+01,\n        4.11811549e+01,  4.82609818e+03,  8.25063498e+01,  9.37191736e+01,\n        4.18846087e+01,  4.32972346e+01,  5.43527280e+01,  8.94526138e+01,\n        1.96253361e+02,  4.76161354e+01,  7.52920953e+01,  9.38728335e+01,\n        5.72244186e+01,  4.63966502e+01,  8.03931013e+01,  3.61875963e+05,\n        2.53103639e+03,  3.79990152e+01,  1.21738677e+02,  2.22017934e+02,\n        4.17830257e+01,  2.45267665e+02,  3.99948394e+02,  5.45865116e+01,\n        1.10927264e+02,  1.48069655e+02,  2.57349124e+03,  3.16504079e+02,\n        8.90729512e+01,  5.30039927e+01,  9.06950194e+01,  7.07631515e+01,\n        6.29720971e+01,  2.51803819e+02,  2.04324236e+02,  2.88553880e+01,\n        1.17672945e+02,  5.71827755e+01,  3.88050479e+01,  5.03751928e+01,\n        6.23805034e+02,  3.79024894e+02,  3.66727576e+01,  7.82046534e+01,\n        4.76107239e+01,  7.23724558e+01,  8.39090026e+01,  4.54843586e+01,\n        7.95120555e+01,  7.90133267e+01,  6.90737658e+01,  5.88242724e+01,\n        6.27812735e+01,  4.73642856e+02,  6.27257669e+02,  5.37977225e+01,\n        4.61488030e+02,  1.09549973e+02,  9.35215412e+01,  5.91863745e+01,\n        8.23002399e+01,  7.85946113e+01,  8.79162022e+01,  1.98460601e+02,\n        4.32359418e+01,  6.75196782e+01,  5.40476338e+01,  4.80630068e+02,\n        5.94862483e+01,  1.00681498e+02,  5.08037931e+01,  6.89462197e+01,\n        7.64707822e+01,  4.56018942e+01,  6.64461218e+01,  6.55495701e+01,\n        2.69879243e+02,  6.56658555e+01,  3.56859939e+02,  5.64934432e+01,\n        4.99912384e+01,  4.88207911e+01,  3.42297050e+02,  5.78175533e+01,\n        8.17402671e+01,  8.20150649e+01,  6.61187999e+01,  6.64664887e+01,\n        4.50715512e+02,  6.79859134e+01,  3.84419019e+02,  5.72542495e+01,\n        2.09994053e+02,  8.78984703e+01,  1.16307528e+03,  3.57808164e+01,\n        1.09625828e+02,  4.62035859e+01,  7.82578420e+01,  5.31071428e+01,\n        4.50111466e+01,  8.17557709e+01,  7.93197507e+01,  3.56427065e+01,\n        5.55548386e+01,  5.51038290e+01,  6.41068322e+01,  7.95270339e+01,\n        8.38681801e+01,  5.60468981e+01,  3.85493027e+01,  8.01786133e+01,\n        6.57279376e+01,  4.65967546e+01,  6.01237413e+01,  7.60645533e+01,\n        8.04125901e+01,  2.53119407e+03,  6.42954597e+01,  1.26500354e+02,\n        4.05677232e+01,  1.01810209e+02,  5.65376984e+01,  8.99246328e+01,\n        1.01585373e+02,  1.33016393e+02,  1.05073174e+02,  5.67638683e+01,\n        6.08612084e+01,  7.22415219e+01,  5.89088158e+01,  1.27013501e+02,\n        5.52043901e+01,  4.52170558e+01,  3.45367068e+03,  2.47455558e+02,\n        6.50812175e+01,  4.42619234e+02,  5.99898477e+01,  5.70250085e+02,\n        7.16426672e+01,  5.32223174e+01,  2.31021394e+02,  5.34495598e+01,\n        6.69745688e+01,  1.83478600e+02,  9.82041583e+03,  7.23935523e+01,\n        5.62918152e+01,  5.59906330e+01,  7.88711153e+01,  5.49117832e+01,\n        4.64143527e+01,  7.63705909e+01,  8.76387269e+01,  4.69521686e+01,\n        6.10234331e+01,  6.57583526e+01,  8.93410867e+01,  7.88565506e+02,\n        9.02792512e+01,  5.35328985e+01,  6.26235898e+01,  2.18237209e+03,\n        7.27438884e+01,  8.33373977e+01,  3.73470507e+01,  5.80464182e+01,\n        6.81942122e+01,  7.85400017e+01,  1.01067281e+02,  5.13978798e+01,\n        4.85474028e+01,  5.85703416e+01,  1.63380964e+05,  8.07074598e+01,\n        1.02213144e+02,  8.72987022e+01,  4.62978173e+01,  8.27802712e+01,\n        4.94201712e+01,  5.65187230e+01,  8.70692116e+01,  1.89307584e+02,\n        4.02954808e+01,  6.01970538e+01,  6.32765494e+01,  5.39446252e+01,\n        1.25296248e+02,  7.06977743e+01,  8.21568012e+01,  9.69502426e+01,\n        4.84758860e+01,  8.17960101e+01,  7.39044001e+01,  4.74014581e+01,\n        5.74959789e+01,  6.59588548e+02,  4.55679654e+01,  4.02705010e+01,\n        2.84472588e+02,  5.83614383e+01,  4.56880301e+01,  6.64893862e+01,\n        6.39419874e+02,  7.40107845e+01, -8.10870155e+00,  2.00295286e+03,\n        9.65535816e+01,  1.30021060e+02,  8.30380130e+01,  5.00881798e+01,\n        1.47642165e+02,  5.73288409e+01,  1.73170173e+02,  1.11134618e+02,\n        4.31673703e+01,  4.52236592e+01,  6.14602500e+01,  5.52653623e+01,\n        5.15351283e+01,  5.43377713e+01,  7.91991078e+01,  6.69413909e+02,\n        2.19941763e+02,  5.27389891e+01,  8.83585495e+01,  5.92137819e+01,\n        5.69412926e+01,  5.96044101e+01,  4.60110063e+02,  6.01394690e+01,\n        9.23621166e+01,  9.36482325e+02,  6.09807620e+01,  5.02849710e+01,\n        4.05789867e+01,  6.07911073e+01,  5.12647686e+01,  3.80479176e+01,\n        8.77075746e+01,  4.34572021e+01,  1.31621242e+02,  4.81898539e+01,\n        4.44627725e+01,  6.71205822e+01,  1.21015448e+02,  5.28859545e+01,\n        8.42791774e+01,  2.17178221e+02,  7.11200538e+01,  6.08931874e+01,\n        4.67861131e+01,  4.52257422e+01,  1.30978787e+02,  2.05132809e+02,\n        5.41367773e+01,  4.75633512e+01,  7.95022588e+01,  1.02730089e+02,\n        9.78160520e+01,  3.74190871e+01,  3.61797139e+01,  6.07052891e+01,\n        5.91345070e+02,  5.58420419e+01,  8.28544558e+01,  1.31876472e+02,\n        6.32196923e+01,  7.05038026e+01,  7.12045887e+01,  5.38367487e+01,\n        4.82083890e+01,  1.50557146e+02,  5.79022209e+01,  5.87071097e+01,\n        8.28806085e+01,  6.34720439e+01,  1.12583909e+02,  5.44018190e+02,\n        8.21074576e+01,  4.07133389e+01,  9.82232441e+01,  6.97532572e+01,\n        9.77872751e+01,  3.98351347e+01,  4.87750075e+01,  5.41484514e+02,\n        5.78889406e+02,  9.53164407e+01])"
     },
     "execution_count": 78,
     "metadata": {},
     "output_type": "execute_result"
    }
   ],
   "source": [
    "y_pred"
   ],
   "metadata": {
    "collapsed": false,
    "pycharm": {
     "name": "#%%\n"
    }
   }
  },
  {
   "cell_type": "code",
   "execution_count": 79,
   "outputs": [
    {
     "data": {
      "text/plain": "1494      69.427620\n188       74.338464\n195       52.085832\n276       91.106002\n1056      39.620264\n           ...     \n1512      40.588541\n1592      49.397615\n695      729.464115\n1274    1087.151640\n945      120.321832\nName: wqi, Length: 382, dtype: float64"
     },
     "execution_count": 79,
     "metadata": {},
     "output_type": "execute_result"
    }
   ],
   "source": [
    "y_test"
   ],
   "metadata": {
    "collapsed": false,
    "pycharm": {
     "name": "#%%\n"
    }
   }
  },
  {
   "cell_type": "code",
   "execution_count": 80,
   "outputs": [
    {
     "name": "stdout",
     "output_type": "stream",
     "text": [
      "max\n",
      "361875.96253956784\n",
      "361878.4358584826\n",
      "mean\n",
      "1681.2145194400655\n",
      "1704.5642472478346\n",
      "std\n",
      "20325.992459702928\n",
      "20352.079308623648\n"
     ]
    }
   ],
   "source": [
    "print('max')\n",
    "print(y_pred.max())\n",
    "print(y_test.max())\n",
    "print('mean')\n",
    "print(y_pred.mean())\n",
    "print(y_test.mean())\n",
    "print('std')\n",
    "print(y_pred.std())\n",
    "print(y_test.std())"
   ],
   "metadata": {
    "collapsed": false,
    "pycharm": {
     "name": "#%%\n"
    }
   }
  },
  {
   "cell_type": "code",
   "execution_count": 81,
   "outputs": [],
   "source": [
    "import plotly.express as px\n",
    "import seaborn as sns\n",
    "import matplotlib.pyplot as plt"
   ],
   "metadata": {
    "collapsed": false,
    "pycharm": {
     "name": "#%%\n"
    }
   }
  },
  {
   "cell_type": "code",
   "execution_count": 82,
   "outputs": [
    {
     "data": {
      "application/vnd.plotly.v1+json": {
       "data": [
        {
         "hovertemplate": "x=%{x}<br>y=%{y}<extra></extra>",
         "legendgroup": "",
         "marker": {
          "color": "#636efa",
          "symbol": "circle"
         },
         "mode": "markers",
         "name": "",
         "orientation": "v",
         "showlegend": false,
         "x": [
          69.42762028985507,
          74.33846405797102,
          52.08583159420291,
          91.10600173913043,
          39.62026405797102,
          63.12268782608696,
          69.7044811594203,
          67.93054347826086,
          75.55725333333334,
          68.24400492753622,
          65.02811072463768,
          86.14519101449275,
          77.56368202898553,
          1280.384456231884,
          61.04238869565218,
          93.34534463768115,
          51.561228695652176,
          80.27458753623186,
          60.63514289855073,
          41.63238579710145,
          70.20793739130437,
          46.86914289855073,
          62.61407681159421,
          69.71280492753621,
          86.66058811594203,
          58.611207826086954,
          79.3816556521739,
          41.30154840579711,
          704.4017547826087,
          101.25560086956523,
          65.3300156521739,
          53.263715072463775,
          74.55789565217393,
          1451.6513701449276,
          59.12959594202899,
          73.80395014492754,
          102.84941710144926,
          52.47759301449273,
          118.13797570144929,
          574.9848449275362,
          64.36129710144928,
          49.632982318840575,
          123.57109130434782,
          70.22579420289856,
          1633.209812173913,
          44.090495942028994,
          84.247015942029,
          129.27251072463767,
          105.61001768115943,
          64.67378144927537,
          48.9433947826087,
          146.294144057971,
          390.61851710144924,
          82.11893072463768,
          60.11196289855073,
          132.98319304347825,
          112.45260666666667,
          46.95664347826087,
          91.130355942029,
          96.15404318840581,
          53.297023478260876,
          44.72168260869566,
          78.2631556521739,
          46.01563976811593,
          53.50741536231886,
          3371.175595115942,
          273.6195791304348,
          139.9212597101449,
          7571.590880000001,
          54.695799478260874,
          54.37011594202899,
          68.8194295652174,
          151.35822376811592,
          63.574935362318854,
          155.60316550724636,
          184.12521391304347,
          88.31734289855073,
          46.066362318840575,
          51.70804434782608,
          51.58104086956522,
          31782.355567985513,
          89.43923362318841,
          44.95528579710145,
          58.29963246376811,
          55.365555362318844,
          61.98602927536233,
          45.91524202898552,
          68.62050028985507,
          81.3172431884058,
          51.08061333333333,
          70.35719710144927,
          49.87190028985507,
          40.822689507246366,
          4823.112556733335,
          81.77944173913046,
          97.35946579710145,
          42.89808057971015,
          43.91295565217391,
          54.861776231884065,
          85.22888376811594,
          172.51328260869565,
          47.969590144927544,
          77.57324898550725,
          89.16405623188408,
          54.11594057971015,
          46.38650260869566,
          94.76717623188408,
          361878.4358584826,
          2529.680288315942,
          38.540846956521726,
          117.91989594202899,
          214.50240376811595,
          42.75602724637682,
          238.3980347826087,
          315.0919084057971,
          63.28350434782608,
          131.17581678260868,
          138.49574115942028,
          2570.371526936233,
          729.6492747826088,
          87.207035942029,
          55.33654840579711,
          88.11006405797104,
          88.24050811594205,
          59.681428405797114,
          350.6203968115942,
          343.80462260869564,
          26.143216811594197,
          175.36350579710148,
          65.13140289855072,
          41.22134086956522,
          51.438746666666674,
          884.2552446376812,
          473.1322692753623,
          37.48879200000001,
          77.99746898550725,
          55.359455652173914,
          69.82928695652174,
          84.98434376811595,
          45.58160753623188,
          79.2714356521739,
          85.85275130434782,
          65.36891826086958,
          56.693297681159414,
          62.14983333333333,
          623.3850495652175,
          957.1251141449276,
          53.93346521739131,
          635.4293324637681,
          106.38671855072465,
          91.31592318840579,
          56.30134724637681,
          80.41544260869566,
          79.55330666666667,
          126.1358307246377,
          329.4021739130435,
          44.46998202898551,
          75.07809652173913,
          51.512632753623194,
          979.6386182608697,
          57.74445768115943,
          130.13650144927533,
          50.24874347826088,
          69.85128550724637,
          74.11090956521738,
          43.88769623188406,
          62.37996115942028,
          65.73508028985508,
          398.95801855072466,
          68.47754811594203,
          344.3488585507247,
          58.57519420289856,
          55.190581449275356,
          45.77106028985508,
          306.96540028985515,
          57.48581507246377,
          80.40133536231885,
          95.97918753623189,
          64.1601072463768,
          72.22996405797102,
          383.63586666666663,
          66.6445231884058,
          443.34420579710144,
          55.514556811594204,
          295.6777692753623,
          86.85992956521739,
          1474.637223768116,
          35.48032231884058,
          177.14228492753622,
          46.75176811594203,
          73.0471055072464,
          54.5217431884058,
          48.18584289855074,
          79.73137043478259,
          79.42059420289856,
          33.806982318840575,
          51.88566782608696,
          57.219415942028995,
          63.44778115942028,
          78.45736231884057,
          85.72032,
          55.50684231884058,
          36.724422608695654,
          89.09232608695653,
          66.3538095652174,
          49.412414782608685,
          59.75733507246377,
          74.4786347826087,
          78.3075947826087,
          936.6577927536232,
          61.959542318840576,
          122.6463515942029,
          42.53346466666667,
          106.27629739130434,
          53.920360289855076,
          88.78710318840581,
          98.3127515942029,
          216.72269130434785,
          138.67865333333333,
          57.55316811594203,
          62.1737115942029,
          71.32352956521738,
          62.77839623188407,
          132.4716455072464,
          53.88842173913043,
          44.870415362318845,
          3453.094316323188,
          308.45242173913044,
          63.93305217391304,
          730.834411594203,
          57.46633478260869,
          765.6620530434783,
          70.0452528405797,
          49.84422811594203,
          231.49714753623186,
          50.277967536231884,
          66.64167666666668,
          179.9901002898551,
          9803.22176964058,
          66.79820463768117,
          54.09876231884058,
          67.87294753623188,
          76.7831220289855,
          54.261228115942025,
          47.57460115942029,
          74.21733623188405,
          85.08896144927535,
          48.35078260869567,
          59.669999420289855,
          71.39778579710145,
          90.654715942029,
          1121.2359724057972,
          88.38795014492754,
          53.381004347826085,
          63.64859710144927,
          3271.2586530434783,
          72.18100463768114,
          99.317011884058,
          37.16570927536233,
          58.862577391304356,
          93.27009623188405,
          79.79866898550725,
          104.57196347826087,
          49.99791623188406,
          62.58344927536232,
          68.41865623188407,
          163381.44479812903,
          77.0062507246377,
          100.00568956521738,
          83.90772028985508,
          44.86142550724638,
          83.30013478260868,
          49.72740579710144,
          63.711442028985516,
          82.99877942028985,
          165.56853130434783,
          38.99034869565218,
          60.83286550724638,
          64.59314927536232,
          54.26665681159421,
          123.27817826086957,
          72.06884782608697,
          78.06941072463769,
          94.99361681159421,
          49.383687826086955,
          111.06245072463769,
          72.34218608695653,
          51.43059536231885,
          56.2751356521739,
          648.586622062319,
          46.323293913043486,
          38.85332260869566,
          232.0729003768116,
          55.60491565217391,
          47.171256231884065,
          69.99001942028987,
          1049.830363768116,
          76.53167130434782,
          -10.579224347826104,
          3524.421534202899,
          94.338195942029,
          124.69513101449276,
          78.27390463768116,
          52.54821536231885,
          142.13922811594205,
          54.50164115942029,
          176.07013275362323,
          108.4827547826087,
          44.89652956521739,
          48.86400307246376,
          61.326169855072465,
          61.97902173913044,
          51.73911826086955,
          72.13891623188407,
          76.37185449275361,
          1036.3716765217391,
          282.9675211594203,
          55.236062608695654,
          106.9638,
          84.9073796521739,
          56.47239855072464,
          58.81922898550724,
          580.0802620289854,
          67.03921507246376,
          92.16553130434782,
          976.2752272463769,
          68.15693420289855,
          47.77798231884057,
          38.51494231884058,
          73.41996260869567,
          52.95281362318842,
          33.44898637681159,
          88.05058898550725,
          44.365503768115936,
          127.33438927536231,
          48.208895072463775,
          51.98791362318841,
          67.11284028985509,
          118.57390550724638,
          56.24164811594202,
          78.29396927536231,
          238.36311362318844,
          71.02101391304349,
          68.31596492753624,
          48.810363478260875,
          44.14502550724639,
          177.55254086956523,
          267.4256139130435,
          57.49722,
          46.09181565217391,
          77.52235623188406,
          102.01553623188404,
          95.6363895652174,
          39.26764086956521,
          34.84844840579711,
          69.50849536231885,
          561.4638918840578,
          52.76054173913043,
          130.2830031884058,
          124.53339536231884,
          63.404128985507235,
          71.68987217391306,
          69.98736840579711,
          55.18011652173913,
          50.1212031884058,
          143.85316086956522,
          67.66596144927537,
          54.202486376811606,
          81.90575594202899,
          59.269704347826085,
          130.97911489855073,
          497.90129614492747,
          80.58750289855072,
          38.563651594202895,
          96.00684260869566,
          71.23052260869568,
          95.59064956521738,
          40.58854086956522,
          49.3976147826087,
          729.4641147826087,
          1087.1516402898553,
          120.32183217391305
         ],
         "xaxis": "x",
         "y": [
          49.97188893623024,
          78.71975518927866,
          53.661092786738664,
          61.69596702191666,
          41.706962094043774,
          63.376597808534825,
          71.41007605553477,
          70.6721018460612,
          76.39284094366121,
          68.63621478930872,
          58.66772048936491,
          87.78223561997493,
          84.43997250169559,
          828.0679130863236,
          61.47236909658022,
          74.8244274328199,
          47.05100728558864,
          75.71918805926907,
          61.775478793600996,
          41.37266701439148,
          63.779098148692356,
          45.34856578669496,
          63.447938723108564,
          73.89874618895828,
          88.35028209308439,
          60.658856558385196,
          81.1211026405208,
          40.931900330987446,
          461.1259628279058,
          104.79930247195716,
          66.84505804727178,
          53.977371530061646,
          79.69075284105838,
          914.5984941665974,
          62.677259008919464,
          74.51288076164747,
          98.14003737651728,
          51.409052255009556,
          93.42611333019158,
          599.3471429950205,
          65.00541420561603,
          49.74862745690916,
          84.68832348907381,
          56.85854391161956,
          1066.1489354571686,
          42.95194198088666,
          90.63165076170662,
          99.08013782438502,
          77.36132271694805,
          62.70537897372287,
          49.22706849186761,
          96.99835718383474,
          401.06432897239847,
          78.24638179770591,
          44.72029467588254,
          97.07889792251171,
          89.7540412065955,
          47.06528136190809,
          93.41414047073795,
          98.28178331530216,
          55.23158277766288,
          45.63820958668566,
          79.2326778477518,
          46.56055582672707,
          51.59441443953074,
          3386.3960703586026,
          314.8115354870815,
          135.10209337550532,
          7574.574555187796,
          52.513805063714244,
          54.97926077917509,
          59.925326932107055,
          99.52342677617435,
          58.56776818614344,
          158.2508940880034,
          126.61931242466926,
          89.84120649987835,
          45.25974372558994,
          47.24359969291072,
          52.06174799510518,
          31789.51435346819,
          90.49185082209715,
          48.46689125077319,
          57.79363545255546,
          58.39110659941616,
          54.655457277630376,
          45.49306765882466,
          71.55584682504286,
          82.64461439688239,
          51.27553452203301,
          56.704943524776354,
          49.88671981678726,
          41.18115485713315,
          4826.098183047269,
          82.50634979896404,
          93.71917363431749,
          41.88460867196682,
          43.29723458790522,
          54.35272798042115,
          89.45261380320699,
          196.25336101829453,
          47.61613541480165,
          75.29209533197809,
          93.8728334910893,
          57.22441857941703,
          46.39665020715256,
          80.39310129831756,
          361875.96253956784,
          2531.036385956433,
          37.999015230646364,
          121.73867739328762,
          222.01793363260458,
          41.783025727239874,
          245.26766464674438,
          399.9483938885005,
          54.58651155816733,
          110.92726449004931,
          148.06965487761408,
          2573.49123573609,
          316.5040789757395,
          89.0729511650461,
          53.00399273249241,
          90.69501936804045,
          70.76315149902439,
          62.97209713228676,
          251.8038187961829,
          204.32423576030305,
          28.855388031054645,
          117.67294497598687,
          57.182775503213634,
          38.80504790001942,
          50.375192771391085,
          623.8050344291678,
          379.0248939980829,
          36.672757636789356,
          78.20465336561574,
          47.61072389405581,
          72.3724557746782,
          83.90900257208887,
          45.48435859357596,
          79.51205546998335,
          79.01332670936881,
          69.07376579242464,
          58.82427241764708,
          62.781273520219656,
          473.6428564516136,
          627.257669157073,
          53.797722475723276,
          461.48802983015594,
          109.54997288399136,
          93.52154124578101,
          59.18637448754362,
          82.30023989253459,
          78.59461134090452,
          87.91620217122454,
          198.46060130450132,
          43.23594175042854,
          67.51967816526212,
          54.04763382038436,
          480.63006836598197,
          59.48624832838959,
          100.68149807917598,
          50.803793134445186,
          68.94621969094806,
          76.47078216278078,
          45.60189419948347,
          66.44612183773097,
          65.54957012083742,
          269.87924306656987,
          65.66585554100402,
          356.8599392119677,
          56.49344317542091,
          49.99123835302635,
          48.82079105890625,
          342.2970497385122,
          57.81755331742079,
          81.74026709165446,
          82.01506492928092,
          66.1187999337426,
          66.4664886627952,
          450.71551244237526,
          67.98591342792224,
          384.41901890475856,
          57.254249541169884,
          209.9940529920941,
          87.89847028450276,
          1163.0752837554192,
          35.780816418945506,
          109.6258284926962,
          46.20358585906524,
          78.2578419938136,
          53.107142809088145,
          45.01114658935785,
          81.75577087077181,
          79.31975073764897,
          35.64270647631838,
          55.554838606592966,
          55.10382904810194,
          64.10683216363668,
          79.5270339065546,
          83.86818014660912,
          56.04689808437706,
          38.54930269308625,
          80.1786132799507,
          65.72793763950722,
          46.59675458595029,
          60.123741261513715,
          76.06455329405253,
          80.41259010307749,
          2531.1940712472933,
          64.29545967277045,
          126.50035391605252,
          40.5677232267135,
          101.8102087631014,
          56.537698442397414,
          89.9246327637884,
          101.58537336900281,
          133.01639264704863,
          105.0731736883663,
          56.76386828165869,
          60.861208373115915,
          72.2415219353461,
          58.90881580891346,
          127.01350059580727,
          55.20439010169321,
          45.21705577781995,
          3453.6706812750226,
          247.4555580581291,
          65.08121749103611,
          442.6192338016144,
          59.98984773890788,
          570.2500850335737,
          71.64266722413868,
          53.22231743537486,
          231.02139370250734,
          53.44955981896874,
          66.97456880216941,
          183.47859985704054,
          9820.415827236018,
          72.3935523458531,
          56.29181523832085,
          55.99063295273936,
          78.87111527588058,
          54.9117832083266,
          46.41435274304877,
          76.37059090634102,
          87.63872688368883,
          46.95216863382211,
          61.023433088991624,
          65.7583525597247,
          89.34108671069134,
          788.5655064450411,
          90.27925119925567,
          53.53289846890493,
          62.623589756030015,
          2182.3720948961627,
          72.74388844244186,
          83.33739769383828,
          37.34705065500657,
          58.04641824738883,
          68.19421219370815,
          78.54000174115026,
          101.06728096129518,
          51.3978798021717,
          48.547402757532836,
          58.57034155192014,
          163380.96388586867,
          80.70745980828087,
          102.21314436619832,
          87.2987022071975,
          46.29781731099774,
          82.78027120380466,
          49.420171159902566,
          56.518722957972386,
          87.06921158770638,
          189.30758435598818,
          40.295480755612516,
          60.19705376467118,
          63.27654941192213,
          53.94462520171419,
          125.29624820401568,
          70.69777425703887,
          82.15680118670662,
          96.95024258559897,
          48.47588595747584,
          81.79601009437374,
          73.90440005979235,
          47.401458136436304,
          57.49597889255074,
          659.5885484135806,
          45.56796541241056,
          40.270500960426034,
          284.4725881418508,
          58.36143831851132,
          45.6880301328456,
          66.48938622187234,
          639.4198735331283,
          74.01078447012242,
          -8.108701552012462,
          2002.952864955645,
          96.55358162198081,
          130.02105987929372,
          83.03801296601614,
          50.088179782918814,
          147.64216529882196,
          57.32884091754204,
          173.17017290696367,
          111.13461760294012,
          43.167370263262455,
          45.22365923739744,
          61.46024999256497,
          55.26536226362623,
          51.535128336812704,
          54.33777133822059,
          79.19910781462568,
          669.4139090436383,
          219.94176304799203,
          52.73898913928133,
          88.35854954174647,
          59.213781880513125,
          56.94129260880527,
          59.604410130044926,
          460.11006342189285,
          60.1394689590843,
          92.36211658481352,
          936.4823247978356,
          60.98076198180206,
          50.28497098632488,
          40.57898674261196,
          60.79110727652278,
          51.26476859005925,
          38.04791756187569,
          87.70757459818924,
          43.45720213023378,
          131.62124200934522,
          48.18985388442343,
          44.462772450974626,
          67.12058223666281,
          121.01544754410588,
          52.88595452318896,
          84.27917740251269,
          217.17822103919843,
          71.12005381454674,
          60.893187380707786,
          46.78611307674146,
          45.225742229531534,
          130.97878654723445,
          205.1328088337259,
          54.13677727517006,
          47.56335120390759,
          79.50225882541145,
          102.73008872200899,
          97.81605204453535,
          37.419087128035244,
          36.179713858853574,
          60.70528913592898,
          591.3450699100958,
          55.84204194237191,
          82.85445577064274,
          131.87647159520566,
          63.21969231181265,
          70.50380259057147,
          71.20458867663183,
          53.836748741637166,
          48.20838901476509,
          150.55714644194904,
          57.90222094388173,
          58.70710966764909,
          82.88060850206693,
          63.472043904535894,
          112.58390943112954,
          544.0181903886951,
          82.1074575538023,
          40.713338925068456,
          98.22324412270063,
          69.75325722783691,
          97.78727509990676,
          39.83513467978082,
          48.77500748685543,
          541.4845138469454,
          578.8894060641978,
          95.31644068936566
         ],
         "yaxis": "y",
         "type": "scatter"
        }
       ],
       "layout": {
        "template": {
         "data": {
          "histogram2dcontour": [
           {
            "type": "histogram2dcontour",
            "colorbar": {
             "outlinewidth": 0,
             "ticks": ""
            },
            "colorscale": [
             [
              0.0,
              "#0d0887"
             ],
             [
              0.1111111111111111,
              "#46039f"
             ],
             [
              0.2222222222222222,
              "#7201a8"
             ],
             [
              0.3333333333333333,
              "#9c179e"
             ],
             [
              0.4444444444444444,
              "#bd3786"
             ],
             [
              0.5555555555555556,
              "#d8576b"
             ],
             [
              0.6666666666666666,
              "#ed7953"
             ],
             [
              0.7777777777777778,
              "#fb9f3a"
             ],
             [
              0.8888888888888888,
              "#fdca26"
             ],
             [
              1.0,
              "#f0f921"
             ]
            ]
           }
          ],
          "choropleth": [
           {
            "type": "choropleth",
            "colorbar": {
             "outlinewidth": 0,
             "ticks": ""
            }
           }
          ],
          "histogram2d": [
           {
            "type": "histogram2d",
            "colorbar": {
             "outlinewidth": 0,
             "ticks": ""
            },
            "colorscale": [
             [
              0.0,
              "#0d0887"
             ],
             [
              0.1111111111111111,
              "#46039f"
             ],
             [
              0.2222222222222222,
              "#7201a8"
             ],
             [
              0.3333333333333333,
              "#9c179e"
             ],
             [
              0.4444444444444444,
              "#bd3786"
             ],
             [
              0.5555555555555556,
              "#d8576b"
             ],
             [
              0.6666666666666666,
              "#ed7953"
             ],
             [
              0.7777777777777778,
              "#fb9f3a"
             ],
             [
              0.8888888888888888,
              "#fdca26"
             ],
             [
              1.0,
              "#f0f921"
             ]
            ]
           }
          ],
          "heatmap": [
           {
            "type": "heatmap",
            "colorbar": {
             "outlinewidth": 0,
             "ticks": ""
            },
            "colorscale": [
             [
              0.0,
              "#0d0887"
             ],
             [
              0.1111111111111111,
              "#46039f"
             ],
             [
              0.2222222222222222,
              "#7201a8"
             ],
             [
              0.3333333333333333,
              "#9c179e"
             ],
             [
              0.4444444444444444,
              "#bd3786"
             ],
             [
              0.5555555555555556,
              "#d8576b"
             ],
             [
              0.6666666666666666,
              "#ed7953"
             ],
             [
              0.7777777777777778,
              "#fb9f3a"
             ],
             [
              0.8888888888888888,
              "#fdca26"
             ],
             [
              1.0,
              "#f0f921"
             ]
            ]
           }
          ],
          "heatmapgl": [
           {
            "type": "heatmapgl",
            "colorbar": {
             "outlinewidth": 0,
             "ticks": ""
            },
            "colorscale": [
             [
              0.0,
              "#0d0887"
             ],
             [
              0.1111111111111111,
              "#46039f"
             ],
             [
              0.2222222222222222,
              "#7201a8"
             ],
             [
              0.3333333333333333,
              "#9c179e"
             ],
             [
              0.4444444444444444,
              "#bd3786"
             ],
             [
              0.5555555555555556,
              "#d8576b"
             ],
             [
              0.6666666666666666,
              "#ed7953"
             ],
             [
              0.7777777777777778,
              "#fb9f3a"
             ],
             [
              0.8888888888888888,
              "#fdca26"
             ],
             [
              1.0,
              "#f0f921"
             ]
            ]
           }
          ],
          "contourcarpet": [
           {
            "type": "contourcarpet",
            "colorbar": {
             "outlinewidth": 0,
             "ticks": ""
            }
           }
          ],
          "contour": [
           {
            "type": "contour",
            "colorbar": {
             "outlinewidth": 0,
             "ticks": ""
            },
            "colorscale": [
             [
              0.0,
              "#0d0887"
             ],
             [
              0.1111111111111111,
              "#46039f"
             ],
             [
              0.2222222222222222,
              "#7201a8"
             ],
             [
              0.3333333333333333,
              "#9c179e"
             ],
             [
              0.4444444444444444,
              "#bd3786"
             ],
             [
              0.5555555555555556,
              "#d8576b"
             ],
             [
              0.6666666666666666,
              "#ed7953"
             ],
             [
              0.7777777777777778,
              "#fb9f3a"
             ],
             [
              0.8888888888888888,
              "#fdca26"
             ],
             [
              1.0,
              "#f0f921"
             ]
            ]
           }
          ],
          "surface": [
           {
            "type": "surface",
            "colorbar": {
             "outlinewidth": 0,
             "ticks": ""
            },
            "colorscale": [
             [
              0.0,
              "#0d0887"
             ],
             [
              0.1111111111111111,
              "#46039f"
             ],
             [
              0.2222222222222222,
              "#7201a8"
             ],
             [
              0.3333333333333333,
              "#9c179e"
             ],
             [
              0.4444444444444444,
              "#bd3786"
             ],
             [
              0.5555555555555556,
              "#d8576b"
             ],
             [
              0.6666666666666666,
              "#ed7953"
             ],
             [
              0.7777777777777778,
              "#fb9f3a"
             ],
             [
              0.8888888888888888,
              "#fdca26"
             ],
             [
              1.0,
              "#f0f921"
             ]
            ]
           }
          ],
          "mesh3d": [
           {
            "type": "mesh3d",
            "colorbar": {
             "outlinewidth": 0,
             "ticks": ""
            }
           }
          ],
          "scatter": [
           {
            "marker": {
             "line": {
              "color": "#283442"
             }
            },
            "type": "scatter"
           }
          ],
          "parcoords": [
           {
            "type": "parcoords",
            "line": {
             "colorbar": {
              "outlinewidth": 0,
              "ticks": ""
             }
            }
           }
          ],
          "scatterpolargl": [
           {
            "type": "scatterpolargl",
            "marker": {
             "colorbar": {
              "outlinewidth": 0,
              "ticks": ""
             }
            }
           }
          ],
          "bar": [
           {
            "error_x": {
             "color": "#f2f5fa"
            },
            "error_y": {
             "color": "#f2f5fa"
            },
            "marker": {
             "line": {
              "color": "rgb(17,17,17)",
              "width": 0.5
             },
             "pattern": {
              "fillmode": "overlay",
              "size": 10,
              "solidity": 0.2
             }
            },
            "type": "bar"
           }
          ],
          "scattergeo": [
           {
            "type": "scattergeo",
            "marker": {
             "colorbar": {
              "outlinewidth": 0,
              "ticks": ""
             }
            }
           }
          ],
          "scatterpolar": [
           {
            "type": "scatterpolar",
            "marker": {
             "colorbar": {
              "outlinewidth": 0,
              "ticks": ""
             }
            }
           }
          ],
          "histogram": [
           {
            "marker": {
             "pattern": {
              "fillmode": "overlay",
              "size": 10,
              "solidity": 0.2
             }
            },
            "type": "histogram"
           }
          ],
          "scattergl": [
           {
            "marker": {
             "line": {
              "color": "#283442"
             }
            },
            "type": "scattergl"
           }
          ],
          "scatter3d": [
           {
            "type": "scatter3d",
            "line": {
             "colorbar": {
              "outlinewidth": 0,
              "ticks": ""
             }
            },
            "marker": {
             "colorbar": {
              "outlinewidth": 0,
              "ticks": ""
             }
            }
           }
          ],
          "scattermapbox": [
           {
            "type": "scattermapbox",
            "marker": {
             "colorbar": {
              "outlinewidth": 0,
              "ticks": ""
             }
            }
           }
          ],
          "scatterternary": [
           {
            "type": "scatterternary",
            "marker": {
             "colorbar": {
              "outlinewidth": 0,
              "ticks": ""
             }
            }
           }
          ],
          "scattercarpet": [
           {
            "type": "scattercarpet",
            "marker": {
             "colorbar": {
              "outlinewidth": 0,
              "ticks": ""
             }
            }
           }
          ],
          "carpet": [
           {
            "aaxis": {
             "endlinecolor": "#A2B1C6",
             "gridcolor": "#506784",
             "linecolor": "#506784",
             "minorgridcolor": "#506784",
             "startlinecolor": "#A2B1C6"
            },
            "baxis": {
             "endlinecolor": "#A2B1C6",
             "gridcolor": "#506784",
             "linecolor": "#506784",
             "minorgridcolor": "#506784",
             "startlinecolor": "#A2B1C6"
            },
            "type": "carpet"
           }
          ],
          "table": [
           {
            "cells": {
             "fill": {
              "color": "#506784"
             },
             "line": {
              "color": "rgb(17,17,17)"
             }
            },
            "header": {
             "fill": {
              "color": "#2a3f5f"
             },
             "line": {
              "color": "rgb(17,17,17)"
             }
            },
            "type": "table"
           }
          ],
          "barpolar": [
           {
            "marker": {
             "line": {
              "color": "rgb(17,17,17)",
              "width": 0.5
             },
             "pattern": {
              "fillmode": "overlay",
              "size": 10,
              "solidity": 0.2
             }
            },
            "type": "barpolar"
           }
          ],
          "pie": [
           {
            "automargin": true,
            "type": "pie"
           }
          ]
         },
         "layout": {
          "autotypenumbers": "strict",
          "colorway": [
           "#636efa",
           "#EF553B",
           "#00cc96",
           "#ab63fa",
           "#FFA15A",
           "#19d3f3",
           "#FF6692",
           "#B6E880",
           "#FF97FF",
           "#FECB52"
          ],
          "font": {
           "color": "#f2f5fa"
          },
          "hovermode": "closest",
          "hoverlabel": {
           "align": "left"
          },
          "paper_bgcolor": "rgb(17,17,17)",
          "plot_bgcolor": "rgb(17,17,17)",
          "polar": {
           "bgcolor": "rgb(17,17,17)",
           "angularaxis": {
            "gridcolor": "#506784",
            "linecolor": "#506784",
            "ticks": ""
           },
           "radialaxis": {
            "gridcolor": "#506784",
            "linecolor": "#506784",
            "ticks": ""
           }
          },
          "ternary": {
           "bgcolor": "rgb(17,17,17)",
           "aaxis": {
            "gridcolor": "#506784",
            "linecolor": "#506784",
            "ticks": ""
           },
           "baxis": {
            "gridcolor": "#506784",
            "linecolor": "#506784",
            "ticks": ""
           },
           "caxis": {
            "gridcolor": "#506784",
            "linecolor": "#506784",
            "ticks": ""
           }
          },
          "coloraxis": {
           "colorbar": {
            "outlinewidth": 0,
            "ticks": ""
           }
          },
          "colorscale": {
           "sequential": [
            [
             0.0,
             "#0d0887"
            ],
            [
             0.1111111111111111,
             "#46039f"
            ],
            [
             0.2222222222222222,
             "#7201a8"
            ],
            [
             0.3333333333333333,
             "#9c179e"
            ],
            [
             0.4444444444444444,
             "#bd3786"
            ],
            [
             0.5555555555555556,
             "#d8576b"
            ],
            [
             0.6666666666666666,
             "#ed7953"
            ],
            [
             0.7777777777777778,
             "#fb9f3a"
            ],
            [
             0.8888888888888888,
             "#fdca26"
            ],
            [
             1.0,
             "#f0f921"
            ]
           ],
           "sequentialminus": [
            [
             0.0,
             "#0d0887"
            ],
            [
             0.1111111111111111,
             "#46039f"
            ],
            [
             0.2222222222222222,
             "#7201a8"
            ],
            [
             0.3333333333333333,
             "#9c179e"
            ],
            [
             0.4444444444444444,
             "#bd3786"
            ],
            [
             0.5555555555555556,
             "#d8576b"
            ],
            [
             0.6666666666666666,
             "#ed7953"
            ],
            [
             0.7777777777777778,
             "#fb9f3a"
            ],
            [
             0.8888888888888888,
             "#fdca26"
            ],
            [
             1.0,
             "#f0f921"
            ]
           ],
           "diverging": [
            [
             0,
             "#8e0152"
            ],
            [
             0.1,
             "#c51b7d"
            ],
            [
             0.2,
             "#de77ae"
            ],
            [
             0.3,
             "#f1b6da"
            ],
            [
             0.4,
             "#fde0ef"
            ],
            [
             0.5,
             "#f7f7f7"
            ],
            [
             0.6,
             "#e6f5d0"
            ],
            [
             0.7,
             "#b8e186"
            ],
            [
             0.8,
             "#7fbc41"
            ],
            [
             0.9,
             "#4d9221"
            ],
            [
             1,
             "#276419"
            ]
           ]
          },
          "xaxis": {
           "gridcolor": "#283442",
           "linecolor": "#506784",
           "ticks": "",
           "title": {
            "standoff": 15
           },
           "zerolinecolor": "#283442",
           "automargin": true,
           "zerolinewidth": 2
          },
          "yaxis": {
           "gridcolor": "#283442",
           "linecolor": "#506784",
           "ticks": "",
           "title": {
            "standoff": 15
           },
           "zerolinecolor": "#283442",
           "automargin": true,
           "zerolinewidth": 2
          },
          "scene": {
           "xaxis": {
            "backgroundcolor": "rgb(17,17,17)",
            "gridcolor": "#506784",
            "linecolor": "#506784",
            "showbackground": true,
            "ticks": "",
            "zerolinecolor": "#C8D4E3",
            "gridwidth": 2
           },
           "yaxis": {
            "backgroundcolor": "rgb(17,17,17)",
            "gridcolor": "#506784",
            "linecolor": "#506784",
            "showbackground": true,
            "ticks": "",
            "zerolinecolor": "#C8D4E3",
            "gridwidth": 2
           },
           "zaxis": {
            "backgroundcolor": "rgb(17,17,17)",
            "gridcolor": "#506784",
            "linecolor": "#506784",
            "showbackground": true,
            "ticks": "",
            "zerolinecolor": "#C8D4E3",
            "gridwidth": 2
           }
          },
          "shapedefaults": {
           "line": {
            "color": "#f2f5fa"
           }
          },
          "annotationdefaults": {
           "arrowcolor": "#f2f5fa",
           "arrowhead": 0,
           "arrowwidth": 1
          },
          "geo": {
           "bgcolor": "rgb(17,17,17)",
           "landcolor": "rgb(17,17,17)",
           "subunitcolor": "#506784",
           "showland": true,
           "showlakes": true,
           "lakecolor": "rgb(17,17,17)"
          },
          "title": {
           "x": 0.05
          },
          "updatemenudefaults": {
           "bgcolor": "#506784",
           "borderwidth": 0
          },
          "sliderdefaults": {
           "bgcolor": "#C8D4E3",
           "borderwidth": 1,
           "bordercolor": "rgb(17,17,17)",
           "tickwidth": 0
          },
          "mapbox": {
           "style": "dark"
          }
         }
        },
        "xaxis": {
         "anchor": "y",
         "domain": [
          0.0,
          1.0
         ],
         "title": {
          "text": "x"
         }
        },
        "yaxis": {
         "anchor": "x",
         "domain": [
          0.0,
          1.0
         ],
         "title": {
          "text": "y"
         }
        },
        "legend": {
         "tracegroupgap": 0
        },
        "margin": {
         "t": 60
        }
       },
       "config": {
        "plotlyServerURL": "https://plot.ly"
       }
      },
      "text/html": "<div>                            <div id=\"1b6c9a23-58c3-4102-b805-300dc7b89ad3\" class=\"plotly-graph-div\" style=\"height:525px; width:100%;\"></div>            <script type=\"text/javascript\">                require([\"plotly\"], function(Plotly) {                    window.PLOTLYENV=window.PLOTLYENV || {};                                    if (document.getElementById(\"1b6c9a23-58c3-4102-b805-300dc7b89ad3\")) {                    Plotly.newPlot(                        \"1b6c9a23-58c3-4102-b805-300dc7b89ad3\",                        [{\"hovertemplate\":\"x=%{x}<br>y=%{y}<extra></extra>\",\"legendgroup\":\"\",\"marker\":{\"color\":\"#636efa\",\"symbol\":\"circle\"},\"mode\":\"markers\",\"name\":\"\",\"orientation\":\"v\",\"showlegend\":false,\"x\":[69.42762028985507,74.33846405797102,52.08583159420291,91.10600173913043,39.62026405797102,63.12268782608696,69.7044811594203,67.93054347826086,75.55725333333334,68.24400492753622,65.02811072463768,86.14519101449275,77.56368202898553,1280.384456231884,61.04238869565218,93.34534463768115,51.561228695652176,80.27458753623186,60.63514289855073,41.63238579710145,70.20793739130437,46.86914289855073,62.61407681159421,69.71280492753621,86.66058811594203,58.611207826086954,79.3816556521739,41.30154840579711,704.4017547826087,101.25560086956523,65.3300156521739,53.263715072463775,74.55789565217393,1451.6513701449276,59.12959594202899,73.80395014492754,102.84941710144926,52.47759301449273,118.13797570144929,574.9848449275362,64.36129710144928,49.632982318840575,123.57109130434782,70.22579420289856,1633.209812173913,44.090495942028994,84.247015942029,129.27251072463767,105.61001768115943,64.67378144927537,48.9433947826087,146.294144057971,390.61851710144924,82.11893072463768,60.11196289855073,132.98319304347825,112.45260666666667,46.95664347826087,91.130355942029,96.15404318840581,53.297023478260876,44.72168260869566,78.2631556521739,46.01563976811593,53.50741536231886,3371.175595115942,273.6195791304348,139.9212597101449,7571.590880000001,54.695799478260874,54.37011594202899,68.8194295652174,151.35822376811592,63.574935362318854,155.60316550724636,184.12521391304347,88.31734289855073,46.066362318840575,51.70804434782608,51.58104086956522,31782.355567985513,89.43923362318841,44.95528579710145,58.29963246376811,55.365555362318844,61.98602927536233,45.91524202898552,68.62050028985507,81.3172431884058,51.08061333333333,70.35719710144927,49.87190028985507,40.822689507246366,4823.112556733335,81.77944173913046,97.35946579710145,42.89808057971015,43.91295565217391,54.861776231884065,85.22888376811594,172.51328260869565,47.969590144927544,77.57324898550725,89.16405623188408,54.11594057971015,46.38650260869566,94.76717623188408,361878.4358584826,2529.680288315942,38.540846956521726,117.91989594202899,214.50240376811595,42.75602724637682,238.3980347826087,315.0919084057971,63.28350434782608,131.17581678260868,138.49574115942028,2570.371526936233,729.6492747826088,87.207035942029,55.33654840579711,88.11006405797104,88.24050811594205,59.681428405797114,350.6203968115942,343.80462260869564,26.143216811594197,175.36350579710148,65.13140289855072,41.22134086956522,51.438746666666674,884.2552446376812,473.1322692753623,37.48879200000001,77.99746898550725,55.359455652173914,69.82928695652174,84.98434376811595,45.58160753623188,79.2714356521739,85.85275130434782,65.36891826086958,56.693297681159414,62.14983333333333,623.3850495652175,957.1251141449276,53.93346521739131,635.4293324637681,106.38671855072465,91.31592318840579,56.30134724637681,80.41544260869566,79.55330666666667,126.1358307246377,329.4021739130435,44.46998202898551,75.07809652173913,51.512632753623194,979.6386182608697,57.74445768115943,130.13650144927533,50.24874347826088,69.85128550724637,74.11090956521738,43.88769623188406,62.37996115942028,65.73508028985508,398.95801855072466,68.47754811594203,344.3488585507247,58.57519420289856,55.190581449275356,45.77106028985508,306.96540028985515,57.48581507246377,80.40133536231885,95.97918753623189,64.1601072463768,72.22996405797102,383.63586666666663,66.6445231884058,443.34420579710144,55.514556811594204,295.6777692753623,86.85992956521739,1474.637223768116,35.48032231884058,177.14228492753622,46.75176811594203,73.0471055072464,54.5217431884058,48.18584289855074,79.73137043478259,79.42059420289856,33.806982318840575,51.88566782608696,57.219415942028995,63.44778115942028,78.45736231884057,85.72032,55.50684231884058,36.724422608695654,89.09232608695653,66.3538095652174,49.412414782608685,59.75733507246377,74.4786347826087,78.3075947826087,936.6577927536232,61.959542318840576,122.6463515942029,42.53346466666667,106.27629739130434,53.920360289855076,88.78710318840581,98.3127515942029,216.72269130434785,138.67865333333333,57.55316811594203,62.1737115942029,71.32352956521738,62.77839623188407,132.4716455072464,53.88842173913043,44.870415362318845,3453.094316323188,308.45242173913044,63.93305217391304,730.834411594203,57.46633478260869,765.6620530434783,70.0452528405797,49.84422811594203,231.49714753623186,50.277967536231884,66.64167666666668,179.9901002898551,9803.22176964058,66.79820463768117,54.09876231884058,67.87294753623188,76.7831220289855,54.261228115942025,47.57460115942029,74.21733623188405,85.08896144927535,48.35078260869567,59.669999420289855,71.39778579710145,90.654715942029,1121.2359724057972,88.38795014492754,53.381004347826085,63.64859710144927,3271.2586530434783,72.18100463768114,99.317011884058,37.16570927536233,58.862577391304356,93.27009623188405,79.79866898550725,104.57196347826087,49.99791623188406,62.58344927536232,68.41865623188407,163381.44479812903,77.0062507246377,100.00568956521738,83.90772028985508,44.86142550724638,83.30013478260868,49.72740579710144,63.711442028985516,82.99877942028985,165.56853130434783,38.99034869565218,60.83286550724638,64.59314927536232,54.26665681159421,123.27817826086957,72.06884782608697,78.06941072463769,94.99361681159421,49.383687826086955,111.06245072463769,72.34218608695653,51.43059536231885,56.2751356521739,648.586622062319,46.323293913043486,38.85332260869566,232.0729003768116,55.60491565217391,47.171256231884065,69.99001942028987,1049.830363768116,76.53167130434782,-10.579224347826104,3524.421534202899,94.338195942029,124.69513101449276,78.27390463768116,52.54821536231885,142.13922811594205,54.50164115942029,176.07013275362323,108.4827547826087,44.89652956521739,48.86400307246376,61.326169855072465,61.97902173913044,51.73911826086955,72.13891623188407,76.37185449275361,1036.3716765217391,282.9675211594203,55.236062608695654,106.9638,84.9073796521739,56.47239855072464,58.81922898550724,580.0802620289854,67.03921507246376,92.16553130434782,976.2752272463769,68.15693420289855,47.77798231884057,38.51494231884058,73.41996260869567,52.95281362318842,33.44898637681159,88.05058898550725,44.365503768115936,127.33438927536231,48.208895072463775,51.98791362318841,67.11284028985509,118.57390550724638,56.24164811594202,78.29396927536231,238.36311362318844,71.02101391304349,68.31596492753624,48.810363478260875,44.14502550724639,177.55254086956523,267.4256139130435,57.49722,46.09181565217391,77.52235623188406,102.01553623188404,95.6363895652174,39.26764086956521,34.84844840579711,69.50849536231885,561.4638918840578,52.76054173913043,130.2830031884058,124.53339536231884,63.404128985507235,71.68987217391306,69.98736840579711,55.18011652173913,50.1212031884058,143.85316086956522,67.66596144927537,54.202486376811606,81.90575594202899,59.269704347826085,130.97911489855073,497.90129614492747,80.58750289855072,38.563651594202895,96.00684260869566,71.23052260869568,95.59064956521738,40.58854086956522,49.3976147826087,729.4641147826087,1087.1516402898553,120.32183217391305],\"xaxis\":\"x\",\"y\":[49.97188893623024,78.71975518927866,53.661092786738664,61.69596702191666,41.706962094043774,63.376597808534825,71.41007605553477,70.6721018460612,76.39284094366121,68.63621478930872,58.66772048936491,87.78223561997493,84.43997250169559,828.0679130863236,61.47236909658022,74.8244274328199,47.05100728558864,75.71918805926907,61.775478793600996,41.37266701439148,63.779098148692356,45.34856578669496,63.447938723108564,73.89874618895828,88.35028209308439,60.658856558385196,81.1211026405208,40.931900330987446,461.1259628279058,104.79930247195716,66.84505804727178,53.977371530061646,79.69075284105838,914.5984941665974,62.677259008919464,74.51288076164747,98.14003737651728,51.409052255009556,93.42611333019158,599.3471429950205,65.00541420561603,49.74862745690916,84.68832348907381,56.85854391161956,1066.1489354571686,42.95194198088666,90.63165076170662,99.08013782438502,77.36132271694805,62.70537897372287,49.22706849186761,96.99835718383474,401.06432897239847,78.24638179770591,44.72029467588254,97.07889792251171,89.7540412065955,47.06528136190809,93.41414047073795,98.28178331530216,55.23158277766288,45.63820958668566,79.2326778477518,46.56055582672707,51.59441443953074,3386.3960703586026,314.8115354870815,135.10209337550532,7574.574555187796,52.513805063714244,54.97926077917509,59.925326932107055,99.52342677617435,58.56776818614344,158.2508940880034,126.61931242466926,89.84120649987835,45.25974372558994,47.24359969291072,52.06174799510518,31789.51435346819,90.49185082209715,48.46689125077319,57.79363545255546,58.39110659941616,54.655457277630376,45.49306765882466,71.55584682504286,82.64461439688239,51.27553452203301,56.704943524776354,49.88671981678726,41.18115485713315,4826.098183047269,82.50634979896404,93.71917363431749,41.88460867196682,43.29723458790522,54.35272798042115,89.45261380320699,196.25336101829453,47.61613541480165,75.29209533197809,93.8728334910893,57.22441857941703,46.39665020715256,80.39310129831756,361875.96253956784,2531.036385956433,37.999015230646364,121.73867739328762,222.01793363260458,41.783025727239874,245.26766464674438,399.9483938885005,54.58651155816733,110.92726449004931,148.06965487761408,2573.49123573609,316.5040789757395,89.0729511650461,53.00399273249241,90.69501936804045,70.76315149902439,62.97209713228676,251.8038187961829,204.32423576030305,28.855388031054645,117.67294497598687,57.182775503213634,38.80504790001942,50.375192771391085,623.8050344291678,379.0248939980829,36.672757636789356,78.20465336561574,47.61072389405581,72.3724557746782,83.90900257208887,45.48435859357596,79.51205546998335,79.01332670936881,69.07376579242464,58.82427241764708,62.781273520219656,473.6428564516136,627.257669157073,53.797722475723276,461.48802983015594,109.54997288399136,93.52154124578101,59.18637448754362,82.30023989253459,78.59461134090452,87.91620217122454,198.46060130450132,43.23594175042854,67.51967816526212,54.04763382038436,480.63006836598197,59.48624832838959,100.68149807917598,50.803793134445186,68.94621969094806,76.47078216278078,45.60189419948347,66.44612183773097,65.54957012083742,269.87924306656987,65.66585554100402,356.8599392119677,56.49344317542091,49.99123835302635,48.82079105890625,342.2970497385122,57.81755331742079,81.74026709165446,82.01506492928092,66.1187999337426,66.4664886627952,450.71551244237526,67.98591342792224,384.41901890475856,57.254249541169884,209.9940529920941,87.89847028450276,1163.0752837554192,35.780816418945506,109.6258284926962,46.20358585906524,78.2578419938136,53.107142809088145,45.01114658935785,81.75577087077181,79.31975073764897,35.64270647631838,55.554838606592966,55.10382904810194,64.10683216363668,79.5270339065546,83.86818014660912,56.04689808437706,38.54930269308625,80.1786132799507,65.72793763950722,46.59675458595029,60.123741261513715,76.06455329405253,80.41259010307749,2531.1940712472933,64.29545967277045,126.50035391605252,40.5677232267135,101.8102087631014,56.537698442397414,89.9246327637884,101.58537336900281,133.01639264704863,105.0731736883663,56.76386828165869,60.861208373115915,72.2415219353461,58.90881580891346,127.01350059580727,55.20439010169321,45.21705577781995,3453.6706812750226,247.4555580581291,65.08121749103611,442.6192338016144,59.98984773890788,570.2500850335737,71.64266722413868,53.22231743537486,231.02139370250734,53.44955981896874,66.97456880216941,183.47859985704054,9820.415827236018,72.3935523458531,56.29181523832085,55.99063295273936,78.87111527588058,54.9117832083266,46.41435274304877,76.37059090634102,87.63872688368883,46.95216863382211,61.023433088991624,65.7583525597247,89.34108671069134,788.5655064450411,90.27925119925567,53.53289846890493,62.623589756030015,2182.3720948961627,72.74388844244186,83.33739769383828,37.34705065500657,58.04641824738883,68.19421219370815,78.54000174115026,101.06728096129518,51.3978798021717,48.547402757532836,58.57034155192014,163380.96388586867,80.70745980828087,102.21314436619832,87.2987022071975,46.29781731099774,82.78027120380466,49.420171159902566,56.518722957972386,87.06921158770638,189.30758435598818,40.295480755612516,60.19705376467118,63.27654941192213,53.94462520171419,125.29624820401568,70.69777425703887,82.15680118670662,96.95024258559897,48.47588595747584,81.79601009437374,73.90440005979235,47.401458136436304,57.49597889255074,659.5885484135806,45.56796541241056,40.270500960426034,284.4725881418508,58.36143831851132,45.6880301328456,66.48938622187234,639.4198735331283,74.01078447012242,-8.108701552012462,2002.952864955645,96.55358162198081,130.02105987929372,83.03801296601614,50.088179782918814,147.64216529882196,57.32884091754204,173.17017290696367,111.13461760294012,43.167370263262455,45.22365923739744,61.46024999256497,55.26536226362623,51.535128336812704,54.33777133822059,79.19910781462568,669.4139090436383,219.94176304799203,52.73898913928133,88.35854954174647,59.213781880513125,56.94129260880527,59.604410130044926,460.11006342189285,60.1394689590843,92.36211658481352,936.4823247978356,60.98076198180206,50.28497098632488,40.57898674261196,60.79110727652278,51.26476859005925,38.04791756187569,87.70757459818924,43.45720213023378,131.62124200934522,48.18985388442343,44.462772450974626,67.12058223666281,121.01544754410588,52.88595452318896,84.27917740251269,217.17822103919843,71.12005381454674,60.893187380707786,46.78611307674146,45.225742229531534,130.97878654723445,205.1328088337259,54.13677727517006,47.56335120390759,79.50225882541145,102.73008872200899,97.81605204453535,37.419087128035244,36.179713858853574,60.70528913592898,591.3450699100958,55.84204194237191,82.85445577064274,131.87647159520566,63.21969231181265,70.50380259057147,71.20458867663183,53.836748741637166,48.20838901476509,150.55714644194904,57.90222094388173,58.70710966764909,82.88060850206693,63.472043904535894,112.58390943112954,544.0181903886951,82.1074575538023,40.713338925068456,98.22324412270063,69.75325722783691,97.78727509990676,39.83513467978082,48.77500748685543,541.4845138469454,578.8894060641978,95.31644068936566],\"yaxis\":\"y\",\"type\":\"scatter\"}],                        {\"template\":{\"data\":{\"histogram2dcontour\":[{\"type\":\"histogram2dcontour\",\"colorbar\":{\"outlinewidth\":0,\"ticks\":\"\"},\"colorscale\":[[0.0,\"#0d0887\"],[0.1111111111111111,\"#46039f\"],[0.2222222222222222,\"#7201a8\"],[0.3333333333333333,\"#9c179e\"],[0.4444444444444444,\"#bd3786\"],[0.5555555555555556,\"#d8576b\"],[0.6666666666666666,\"#ed7953\"],[0.7777777777777778,\"#fb9f3a\"],[0.8888888888888888,\"#fdca26\"],[1.0,\"#f0f921\"]]}],\"choropleth\":[{\"type\":\"choropleth\",\"colorbar\":{\"outlinewidth\":0,\"ticks\":\"\"}}],\"histogram2d\":[{\"type\":\"histogram2d\",\"colorbar\":{\"outlinewidth\":0,\"ticks\":\"\"},\"colorscale\":[[0.0,\"#0d0887\"],[0.1111111111111111,\"#46039f\"],[0.2222222222222222,\"#7201a8\"],[0.3333333333333333,\"#9c179e\"],[0.4444444444444444,\"#bd3786\"],[0.5555555555555556,\"#d8576b\"],[0.6666666666666666,\"#ed7953\"],[0.7777777777777778,\"#fb9f3a\"],[0.8888888888888888,\"#fdca26\"],[1.0,\"#f0f921\"]]}],\"heatmap\":[{\"type\":\"heatmap\",\"colorbar\":{\"outlinewidth\":0,\"ticks\":\"\"},\"colorscale\":[[0.0,\"#0d0887\"],[0.1111111111111111,\"#46039f\"],[0.2222222222222222,\"#7201a8\"],[0.3333333333333333,\"#9c179e\"],[0.4444444444444444,\"#bd3786\"],[0.5555555555555556,\"#d8576b\"],[0.6666666666666666,\"#ed7953\"],[0.7777777777777778,\"#fb9f3a\"],[0.8888888888888888,\"#fdca26\"],[1.0,\"#f0f921\"]]}],\"heatmapgl\":[{\"type\":\"heatmapgl\",\"colorbar\":{\"outlinewidth\":0,\"ticks\":\"\"},\"colorscale\":[[0.0,\"#0d0887\"],[0.1111111111111111,\"#46039f\"],[0.2222222222222222,\"#7201a8\"],[0.3333333333333333,\"#9c179e\"],[0.4444444444444444,\"#bd3786\"],[0.5555555555555556,\"#d8576b\"],[0.6666666666666666,\"#ed7953\"],[0.7777777777777778,\"#fb9f3a\"],[0.8888888888888888,\"#fdca26\"],[1.0,\"#f0f921\"]]}],\"contourcarpet\":[{\"type\":\"contourcarpet\",\"colorbar\":{\"outlinewidth\":0,\"ticks\":\"\"}}],\"contour\":[{\"type\":\"contour\",\"colorbar\":{\"outlinewidth\":0,\"ticks\":\"\"},\"colorscale\":[[0.0,\"#0d0887\"],[0.1111111111111111,\"#46039f\"],[0.2222222222222222,\"#7201a8\"],[0.3333333333333333,\"#9c179e\"],[0.4444444444444444,\"#bd3786\"],[0.5555555555555556,\"#d8576b\"],[0.6666666666666666,\"#ed7953\"],[0.7777777777777778,\"#fb9f3a\"],[0.8888888888888888,\"#fdca26\"],[1.0,\"#f0f921\"]]}],\"surface\":[{\"type\":\"surface\",\"colorbar\":{\"outlinewidth\":0,\"ticks\":\"\"},\"colorscale\":[[0.0,\"#0d0887\"],[0.1111111111111111,\"#46039f\"],[0.2222222222222222,\"#7201a8\"],[0.3333333333333333,\"#9c179e\"],[0.4444444444444444,\"#bd3786\"],[0.5555555555555556,\"#d8576b\"],[0.6666666666666666,\"#ed7953\"],[0.7777777777777778,\"#fb9f3a\"],[0.8888888888888888,\"#fdca26\"],[1.0,\"#f0f921\"]]}],\"mesh3d\":[{\"type\":\"mesh3d\",\"colorbar\":{\"outlinewidth\":0,\"ticks\":\"\"}}],\"scatter\":[{\"marker\":{\"line\":{\"color\":\"#283442\"}},\"type\":\"scatter\"}],\"parcoords\":[{\"type\":\"parcoords\",\"line\":{\"colorbar\":{\"outlinewidth\":0,\"ticks\":\"\"}}}],\"scatterpolargl\":[{\"type\":\"scatterpolargl\",\"marker\":{\"colorbar\":{\"outlinewidth\":0,\"ticks\":\"\"}}}],\"bar\":[{\"error_x\":{\"color\":\"#f2f5fa\"},\"error_y\":{\"color\":\"#f2f5fa\"},\"marker\":{\"line\":{\"color\":\"rgb(17,17,17)\",\"width\":0.5},\"pattern\":{\"fillmode\":\"overlay\",\"size\":10,\"solidity\":0.2}},\"type\":\"bar\"}],\"scattergeo\":[{\"type\":\"scattergeo\",\"marker\":{\"colorbar\":{\"outlinewidth\":0,\"ticks\":\"\"}}}],\"scatterpolar\":[{\"type\":\"scatterpolar\",\"marker\":{\"colorbar\":{\"outlinewidth\":0,\"ticks\":\"\"}}}],\"histogram\":[{\"marker\":{\"pattern\":{\"fillmode\":\"overlay\",\"size\":10,\"solidity\":0.2}},\"type\":\"histogram\"}],\"scattergl\":[{\"marker\":{\"line\":{\"color\":\"#283442\"}},\"type\":\"scattergl\"}],\"scatter3d\":[{\"type\":\"scatter3d\",\"line\":{\"colorbar\":{\"outlinewidth\":0,\"ticks\":\"\"}},\"marker\":{\"colorbar\":{\"outlinewidth\":0,\"ticks\":\"\"}}}],\"scattermapbox\":[{\"type\":\"scattermapbox\",\"marker\":{\"colorbar\":{\"outlinewidth\":0,\"ticks\":\"\"}}}],\"scatterternary\":[{\"type\":\"scatterternary\",\"marker\":{\"colorbar\":{\"outlinewidth\":0,\"ticks\":\"\"}}}],\"scattercarpet\":[{\"type\":\"scattercarpet\",\"marker\":{\"colorbar\":{\"outlinewidth\":0,\"ticks\":\"\"}}}],\"carpet\":[{\"aaxis\":{\"endlinecolor\":\"#A2B1C6\",\"gridcolor\":\"#506784\",\"linecolor\":\"#506784\",\"minorgridcolor\":\"#506784\",\"startlinecolor\":\"#A2B1C6\"},\"baxis\":{\"endlinecolor\":\"#A2B1C6\",\"gridcolor\":\"#506784\",\"linecolor\":\"#506784\",\"minorgridcolor\":\"#506784\",\"startlinecolor\":\"#A2B1C6\"},\"type\":\"carpet\"}],\"table\":[{\"cells\":{\"fill\":{\"color\":\"#506784\"},\"line\":{\"color\":\"rgb(17,17,17)\"}},\"header\":{\"fill\":{\"color\":\"#2a3f5f\"},\"line\":{\"color\":\"rgb(17,17,17)\"}},\"type\":\"table\"}],\"barpolar\":[{\"marker\":{\"line\":{\"color\":\"rgb(17,17,17)\",\"width\":0.5},\"pattern\":{\"fillmode\":\"overlay\",\"size\":10,\"solidity\":0.2}},\"type\":\"barpolar\"}],\"pie\":[{\"automargin\":true,\"type\":\"pie\"}]},\"layout\":{\"autotypenumbers\":\"strict\",\"colorway\":[\"#636efa\",\"#EF553B\",\"#00cc96\",\"#ab63fa\",\"#FFA15A\",\"#19d3f3\",\"#FF6692\",\"#B6E880\",\"#FF97FF\",\"#FECB52\"],\"font\":{\"color\":\"#f2f5fa\"},\"hovermode\":\"closest\",\"hoverlabel\":{\"align\":\"left\"},\"paper_bgcolor\":\"rgb(17,17,17)\",\"plot_bgcolor\":\"rgb(17,17,17)\",\"polar\":{\"bgcolor\":\"rgb(17,17,17)\",\"angularaxis\":{\"gridcolor\":\"#506784\",\"linecolor\":\"#506784\",\"ticks\":\"\"},\"radialaxis\":{\"gridcolor\":\"#506784\",\"linecolor\":\"#506784\",\"ticks\":\"\"}},\"ternary\":{\"bgcolor\":\"rgb(17,17,17)\",\"aaxis\":{\"gridcolor\":\"#506784\",\"linecolor\":\"#506784\",\"ticks\":\"\"},\"baxis\":{\"gridcolor\":\"#506784\",\"linecolor\":\"#506784\",\"ticks\":\"\"},\"caxis\":{\"gridcolor\":\"#506784\",\"linecolor\":\"#506784\",\"ticks\":\"\"}},\"coloraxis\":{\"colorbar\":{\"outlinewidth\":0,\"ticks\":\"\"}},\"colorscale\":{\"sequential\":[[0.0,\"#0d0887\"],[0.1111111111111111,\"#46039f\"],[0.2222222222222222,\"#7201a8\"],[0.3333333333333333,\"#9c179e\"],[0.4444444444444444,\"#bd3786\"],[0.5555555555555556,\"#d8576b\"],[0.6666666666666666,\"#ed7953\"],[0.7777777777777778,\"#fb9f3a\"],[0.8888888888888888,\"#fdca26\"],[1.0,\"#f0f921\"]],\"sequentialminus\":[[0.0,\"#0d0887\"],[0.1111111111111111,\"#46039f\"],[0.2222222222222222,\"#7201a8\"],[0.3333333333333333,\"#9c179e\"],[0.4444444444444444,\"#bd3786\"],[0.5555555555555556,\"#d8576b\"],[0.6666666666666666,\"#ed7953\"],[0.7777777777777778,\"#fb9f3a\"],[0.8888888888888888,\"#fdca26\"],[1.0,\"#f0f921\"]],\"diverging\":[[0,\"#8e0152\"],[0.1,\"#c51b7d\"],[0.2,\"#de77ae\"],[0.3,\"#f1b6da\"],[0.4,\"#fde0ef\"],[0.5,\"#f7f7f7\"],[0.6,\"#e6f5d0\"],[0.7,\"#b8e186\"],[0.8,\"#7fbc41\"],[0.9,\"#4d9221\"],[1,\"#276419\"]]},\"xaxis\":{\"gridcolor\":\"#283442\",\"linecolor\":\"#506784\",\"ticks\":\"\",\"title\":{\"standoff\":15},\"zerolinecolor\":\"#283442\",\"automargin\":true,\"zerolinewidth\":2},\"yaxis\":{\"gridcolor\":\"#283442\",\"linecolor\":\"#506784\",\"ticks\":\"\",\"title\":{\"standoff\":15},\"zerolinecolor\":\"#283442\",\"automargin\":true,\"zerolinewidth\":2},\"scene\":{\"xaxis\":{\"backgroundcolor\":\"rgb(17,17,17)\",\"gridcolor\":\"#506784\",\"linecolor\":\"#506784\",\"showbackground\":true,\"ticks\":\"\",\"zerolinecolor\":\"#C8D4E3\",\"gridwidth\":2},\"yaxis\":{\"backgroundcolor\":\"rgb(17,17,17)\",\"gridcolor\":\"#506784\",\"linecolor\":\"#506784\",\"showbackground\":true,\"ticks\":\"\",\"zerolinecolor\":\"#C8D4E3\",\"gridwidth\":2},\"zaxis\":{\"backgroundcolor\":\"rgb(17,17,17)\",\"gridcolor\":\"#506784\",\"linecolor\":\"#506784\",\"showbackground\":true,\"ticks\":\"\",\"zerolinecolor\":\"#C8D4E3\",\"gridwidth\":2}},\"shapedefaults\":{\"line\":{\"color\":\"#f2f5fa\"}},\"annotationdefaults\":{\"arrowcolor\":\"#f2f5fa\",\"arrowhead\":0,\"arrowwidth\":1},\"geo\":{\"bgcolor\":\"rgb(17,17,17)\",\"landcolor\":\"rgb(17,17,17)\",\"subunitcolor\":\"#506784\",\"showland\":true,\"showlakes\":true,\"lakecolor\":\"rgb(17,17,17)\"},\"title\":{\"x\":0.05},\"updatemenudefaults\":{\"bgcolor\":\"#506784\",\"borderwidth\":0},\"sliderdefaults\":{\"bgcolor\":\"#C8D4E3\",\"borderwidth\":1,\"bordercolor\":\"rgb(17,17,17)\",\"tickwidth\":0},\"mapbox\":{\"style\":\"dark\"}}},\"xaxis\":{\"anchor\":\"y\",\"domain\":[0.0,1.0],\"title\":{\"text\":\"x\"}},\"yaxis\":{\"anchor\":\"x\",\"domain\":[0.0,1.0],\"title\":{\"text\":\"y\"}},\"legend\":{\"tracegroupgap\":0},\"margin\":{\"t\":60}},                        {\"responsive\": true}                    ).then(function(){\n                            \nvar gd = document.getElementById('1b6c9a23-58c3-4102-b805-300dc7b89ad3');\nvar x = new MutationObserver(function (mutations, observer) {{\n        var display = window.getComputedStyle(gd).display;\n        if (!display || display === 'none') {{\n            console.log([gd, 'removed!']);\n            Plotly.purge(gd);\n            observer.disconnect();\n        }}\n}});\n\n// Listen for the removal of the full notebook cells\nvar notebookContainer = gd.closest('#notebook-container');\nif (notebookContainer) {{\n    x.observe(notebookContainer, {childList: true});\n}}\n\n// Listen for the clearing of the current output cell\nvar outputEl = gd.closest('.output');\nif (outputEl) {{\n    x.observe(outputEl, {childList: true});\n}}\n\n                        })                };                });            </script>        </div>"
     },
     "metadata": {},
     "output_type": "display_data"
    }
   ],
   "source": [
    "fig = px.scatter(x=y_test,y=y_pred\n",
    ")\n",
    "fig.show()"
   ],
   "metadata": {
    "collapsed": false,
    "pycharm": {
     "name": "#%%\n"
    }
   }
  },
  {
   "cell_type": "markdown",
   "source": [
    "# WQC determination"
   ],
   "metadata": {
    "collapsed": false,
    "pycharm": {
     "name": "#%% md\n"
    }
   }
  },
  {
   "cell_type": "markdown",
   "source": [
    "Excellent = 5\n",
    "Good = 4\n",
    "Poor = 3\n",
    "Very Poor = 2\n",
    "Unsuitable for drinking = 1"
   ],
   "metadata": {
    "collapsed": false,
    "pycharm": {
     "name": "#%% md\n"
    }
   }
  },
  {
   "cell_type": "code",
   "execution_count": 83,
   "outputs": [],
   "source": [
    "def calc_wqc(wqi):\n",
    "    WQI = wqi\n",
    "    if WQI<=25:\n",
    "        WQC=5\n",
    "    elif WQI>25 and WQI<=50:\n",
    "        WQC=4\n",
    "    elif WQI>50 and WQI<=75:\n",
    "        WQC=3\n",
    "    elif WQI>75 and WQI<=100:\n",
    "        WQC=2\n",
    "    elif WQI>100:\n",
    "        WQC=1\n",
    "    return WQC"
   ],
   "metadata": {
    "collapsed": false,
    "pycharm": {
     "name": "#%%\n"
    }
   }
  },
  {
   "cell_type": "code",
   "execution_count": 84,
   "outputs": [],
   "source": [
    "wqc = []\n",
    "for i in df4.wqi:\n",
    "    wqc.append(calc_wqc(i))"
   ],
   "metadata": {
    "collapsed": false,
    "pycharm": {
     "name": "#%%\n"
    }
   }
  },
  {
   "cell_type": "code",
   "execution_count": 85,
   "outputs": [
    {
     "name": "stderr",
     "output_type": "stream",
     "text": [
      "C:\\Users\\kople\\AppData\\Local\\Temp\\ipykernel_31892\\1716196689.py:1: SettingWithCopyWarning:\n",
      "\n",
      "\n",
      "A value is trying to be set on a copy of a slice from a DataFrame.\n",
      "Try using .loc[row_indexer,col_indexer] = value instead\n",
      "\n",
      "See the caveats in the documentation: https://pandas.pydata.org/pandas-docs/stable/user_guide/indexing.html#returning-a-view-versus-a-copy\n",
      "\n"
     ]
    }
   ],
   "source": [
    "df4['wqc']=wqc"
   ],
   "metadata": {
    "collapsed": false,
    "pycharm": {
     "name": "#%%\n"
    }
   }
  },
  {
   "cell_type": "code",
   "execution_count": 86,
   "outputs": [
    {
     "data": {
      "text/plain": "      station                                           location state  Temp  \\\n1      1399.0  ZUARI AT D/S OF PT. WHERE KUMBARJRIA CANAL JOI...   GOA  29.8   \n2      1475.0                                ZUARI AT PANCHAWADI   GOA  29.5   \n3      3181.0                        RIVER ZUARI AT BORIM BRIDGE   GOA  29.7   \n4      3182.0                       RIVER ZUARI AT MARCAIM JETTY   GOA  29.5   \n5      1400.0             MANDOVI AT NEGHBOURHOOD OF PANAJI, GOA   GOA  30.0   \n...       ...                                                ...   ...   ...   \n1981   1160.0  TAMBIRAPARANI AT CHERANMADEVI,CAUSE WAY,TAMILNADU   NAN  31.0   \n1982   1161.0  TAMBIRAPARANI AT TIRUNELVELI,COLLECTORATE,    ...   NAN  29.0   \n1984   1328.0             TAMBIRAPARANI AT PAPPANKULAM,TAMILNADU   NAN  28.0   \n1985   1329.0  TAMBIRAPARANI AT RAIL BDG. NR. AMBASAMUDAM, TA...   NAN  28.0   \n1987   1450.0  PALAR AT VANIYAMBADI WATER SUPPLY HEAD WORK, T...   NAN  29.0   \n\n       do     ph  conductivity  BOD     nn  fecal_coliform  \\\n1     5.7    7.2         189.0  2.0  0.200        4953.000   \n2     6.3    6.9         179.0  1.7  0.100        3243.000   \n3     5.8    6.9          64.0  3.8  0.500        5382.000   \n4     5.8    7.3          83.0  1.9  0.400        3428.000   \n5     5.5    7.4          81.0  1.5  0.100        2853.000   \n...   ...    ...           ...  ...    ...             ...   \n1981  7.3  178.0           6.7  1.5  0.138           0.138   \n1982  7.1  214.0           6.8  2.3  0.585           0.585   \n1984  6.9  146.0           7.1  2.0  0.506           0.506   \n1985  7.0  136.0           7.5  1.4  0.609           0.609   \n1987  7.5  585.0           6.3  2.6  0.155           0.155   \n\n      total_coliform_mean  year           wqi  wqc  \n1                  8391.0  2014    175.363506    1  \n2                  5330.0  2014    126.135831    1  \n3                  8443.0  2014    195.105659    1  \n4                  5500.0  2014    141.393246    1  \n5                  4049.0  2014    127.971746    1  \n...                   ...   ...           ...  ...  \n1981                190.0  2003   3017.018760    1  \n1982                350.0  2003   3650.116506    1  \n1984                 38.0  2003   2467.864123    1  \n1985                205.0  2003   2288.522202    1  \n1987                315.0  2003  10091.343432    1  \n\n[1528 rows x 14 columns]",
      "text/html": "<div>\n<style scoped>\n    .dataframe tbody tr th:only-of-type {\n        vertical-align: middle;\n    }\n\n    .dataframe tbody tr th {\n        vertical-align: top;\n    }\n\n    .dataframe thead th {\n        text-align: right;\n    }\n</style>\n<table border=\"1\" class=\"dataframe\">\n  <thead>\n    <tr style=\"text-align: right;\">\n      <th></th>\n      <th>station</th>\n      <th>location</th>\n      <th>state</th>\n      <th>Temp</th>\n      <th>do</th>\n      <th>ph</th>\n      <th>conductivity</th>\n      <th>BOD</th>\n      <th>nn</th>\n      <th>fecal_coliform</th>\n      <th>total_coliform_mean</th>\n      <th>year</th>\n      <th>wqi</th>\n      <th>wqc</th>\n    </tr>\n  </thead>\n  <tbody>\n    <tr>\n      <th>1</th>\n      <td>1399.0</td>\n      <td>ZUARI AT D/S OF PT. WHERE KUMBARJRIA CANAL JOI...</td>\n      <td>GOA</td>\n      <td>29.8</td>\n      <td>5.7</td>\n      <td>7.2</td>\n      <td>189.0</td>\n      <td>2.0</td>\n      <td>0.200</td>\n      <td>4953.000</td>\n      <td>8391.0</td>\n      <td>2014</td>\n      <td>175.363506</td>\n      <td>1</td>\n    </tr>\n    <tr>\n      <th>2</th>\n      <td>1475.0</td>\n      <td>ZUARI AT PANCHAWADI</td>\n      <td>GOA</td>\n      <td>29.5</td>\n      <td>6.3</td>\n      <td>6.9</td>\n      <td>179.0</td>\n      <td>1.7</td>\n      <td>0.100</td>\n      <td>3243.000</td>\n      <td>5330.0</td>\n      <td>2014</td>\n      <td>126.135831</td>\n      <td>1</td>\n    </tr>\n    <tr>\n      <th>3</th>\n      <td>3181.0</td>\n      <td>RIVER ZUARI AT BORIM BRIDGE</td>\n      <td>GOA</td>\n      <td>29.7</td>\n      <td>5.8</td>\n      <td>6.9</td>\n      <td>64.0</td>\n      <td>3.8</td>\n      <td>0.500</td>\n      <td>5382.000</td>\n      <td>8443.0</td>\n      <td>2014</td>\n      <td>195.105659</td>\n      <td>1</td>\n    </tr>\n    <tr>\n      <th>4</th>\n      <td>3182.0</td>\n      <td>RIVER ZUARI AT MARCAIM JETTY</td>\n      <td>GOA</td>\n      <td>29.5</td>\n      <td>5.8</td>\n      <td>7.3</td>\n      <td>83.0</td>\n      <td>1.9</td>\n      <td>0.400</td>\n      <td>3428.000</td>\n      <td>5500.0</td>\n      <td>2014</td>\n      <td>141.393246</td>\n      <td>1</td>\n    </tr>\n    <tr>\n      <th>5</th>\n      <td>1400.0</td>\n      <td>MANDOVI AT NEGHBOURHOOD OF PANAJI, GOA</td>\n      <td>GOA</td>\n      <td>30.0</td>\n      <td>5.5</td>\n      <td>7.4</td>\n      <td>81.0</td>\n      <td>1.5</td>\n      <td>0.100</td>\n      <td>2853.000</td>\n      <td>4049.0</td>\n      <td>2014</td>\n      <td>127.971746</td>\n      <td>1</td>\n    </tr>\n    <tr>\n      <th>...</th>\n      <td>...</td>\n      <td>...</td>\n      <td>...</td>\n      <td>...</td>\n      <td>...</td>\n      <td>...</td>\n      <td>...</td>\n      <td>...</td>\n      <td>...</td>\n      <td>...</td>\n      <td>...</td>\n      <td>...</td>\n      <td>...</td>\n      <td>...</td>\n    </tr>\n    <tr>\n      <th>1981</th>\n      <td>1160.0</td>\n      <td>TAMBIRAPARANI AT CHERANMADEVI,CAUSE WAY,TAMILNADU</td>\n      <td>NAN</td>\n      <td>31.0</td>\n      <td>7.3</td>\n      <td>178.0</td>\n      <td>6.7</td>\n      <td>1.5</td>\n      <td>0.138</td>\n      <td>0.138</td>\n      <td>190.0</td>\n      <td>2003</td>\n      <td>3017.018760</td>\n      <td>1</td>\n    </tr>\n    <tr>\n      <th>1982</th>\n      <td>1161.0</td>\n      <td>TAMBIRAPARANI AT TIRUNELVELI,COLLECTORATE,    ...</td>\n      <td>NAN</td>\n      <td>29.0</td>\n      <td>7.1</td>\n      <td>214.0</td>\n      <td>6.8</td>\n      <td>2.3</td>\n      <td>0.585</td>\n      <td>0.585</td>\n      <td>350.0</td>\n      <td>2003</td>\n      <td>3650.116506</td>\n      <td>1</td>\n    </tr>\n    <tr>\n      <th>1984</th>\n      <td>1328.0</td>\n      <td>TAMBIRAPARANI AT PAPPANKULAM,TAMILNADU</td>\n      <td>NAN</td>\n      <td>28.0</td>\n      <td>6.9</td>\n      <td>146.0</td>\n      <td>7.1</td>\n      <td>2.0</td>\n      <td>0.506</td>\n      <td>0.506</td>\n      <td>38.0</td>\n      <td>2003</td>\n      <td>2467.864123</td>\n      <td>1</td>\n    </tr>\n    <tr>\n      <th>1985</th>\n      <td>1329.0</td>\n      <td>TAMBIRAPARANI AT RAIL BDG. NR. AMBASAMUDAM, TA...</td>\n      <td>NAN</td>\n      <td>28.0</td>\n      <td>7.0</td>\n      <td>136.0</td>\n      <td>7.5</td>\n      <td>1.4</td>\n      <td>0.609</td>\n      <td>0.609</td>\n      <td>205.0</td>\n      <td>2003</td>\n      <td>2288.522202</td>\n      <td>1</td>\n    </tr>\n    <tr>\n      <th>1987</th>\n      <td>1450.0</td>\n      <td>PALAR AT VANIYAMBADI WATER SUPPLY HEAD WORK, T...</td>\n      <td>NAN</td>\n      <td>29.0</td>\n      <td>7.5</td>\n      <td>585.0</td>\n      <td>6.3</td>\n      <td>2.6</td>\n      <td>0.155</td>\n      <td>0.155</td>\n      <td>315.0</td>\n      <td>2003</td>\n      <td>10091.343432</td>\n      <td>1</td>\n    </tr>\n  </tbody>\n</table>\n<p>1528 rows × 14 columns</p>\n</div>"
     },
     "execution_count": 86,
     "metadata": {},
     "output_type": "execute_result"
    }
   ],
   "source": [
    "df4"
   ],
   "metadata": {
    "collapsed": false,
    "pycharm": {
     "name": "#%%\n"
    }
   }
  },
  {
   "cell_type": "code",
   "execution_count": 87,
   "outputs": [
    {
     "data": {
      "text/plain": "           station         Temp           do            ph  conductivity  \\\ncount  1528.000000  1528.000000  1528.000000   1528.000000   1528.000000   \nmean   1946.056937    26.284840     6.332807     70.785863   1798.718606   \nstd     777.965463     3.272678     1.290948   1128.956395   5279.702522   \nmin      17.000000    10.000000     0.000000      2.600000      3.700000   \n25%    1442.000000    25.000000     5.900000      6.900000     73.000000   \n50%    1705.000000    27.000000     6.700000      7.200000    165.000000   \n75%    2338.000000    28.325000     7.100000      7.600000    612.750000   \nmax    3473.000000    35.000000    10.000000  28598.000000  47156.000000   \n\n               BOD           nn  fecal_coliform  total_coliform_mean  \\\ncount  1528.000000  1528.000000    1.528000e+03         1.528000e+03   \nmean      4.906314     1.410666    3.964382e+05         6.445488e+05   \nstd      17.519698     2.838844    9.176190e+06         1.569837e+07   \nmin       0.100000     0.000000    0.000000e+00         4.000000e+00   \n25%       1.100000     0.250000    3.000000e+01         1.407500e+02   \n50%       1.700000     0.508000    2.280000e+02         5.910000e+02   \n75%       3.400000     1.437500    9.642500e+02         2.259500e+03   \nmax     534.500000    58.100000    2.725216e+08         5.110909e+08   \n\n              year           wqi          wqc  \ncount  1528.000000  1.528000e+03  1528.000000  \nmean   2010.580497  1.009416e+04     2.437173  \nstd       2.754065  2.071335e+05     1.069910  \nmin    2003.000000 -1.057922e+01     1.000000  \n25%    2009.000000  5.423292e+01     1.000000  \n50%    2011.000000  7.202600e+01     3.000000  \n75%    2013.000000  1.068747e+02     3.000000  \nmax    2014.000000  6.136170e+06     5.000000  ",
      "text/html": "<div>\n<style scoped>\n    .dataframe tbody tr th:only-of-type {\n        vertical-align: middle;\n    }\n\n    .dataframe tbody tr th {\n        vertical-align: top;\n    }\n\n    .dataframe thead th {\n        text-align: right;\n    }\n</style>\n<table border=\"1\" class=\"dataframe\">\n  <thead>\n    <tr style=\"text-align: right;\">\n      <th></th>\n      <th>station</th>\n      <th>Temp</th>\n      <th>do</th>\n      <th>ph</th>\n      <th>conductivity</th>\n      <th>BOD</th>\n      <th>nn</th>\n      <th>fecal_coliform</th>\n      <th>total_coliform_mean</th>\n      <th>year</th>\n      <th>wqi</th>\n      <th>wqc</th>\n    </tr>\n  </thead>\n  <tbody>\n    <tr>\n      <th>count</th>\n      <td>1528.000000</td>\n      <td>1528.000000</td>\n      <td>1528.000000</td>\n      <td>1528.000000</td>\n      <td>1528.000000</td>\n      <td>1528.000000</td>\n      <td>1528.000000</td>\n      <td>1.528000e+03</td>\n      <td>1.528000e+03</td>\n      <td>1528.000000</td>\n      <td>1.528000e+03</td>\n      <td>1528.000000</td>\n    </tr>\n    <tr>\n      <th>mean</th>\n      <td>1946.056937</td>\n      <td>26.284840</td>\n      <td>6.332807</td>\n      <td>70.785863</td>\n      <td>1798.718606</td>\n      <td>4.906314</td>\n      <td>1.410666</td>\n      <td>3.964382e+05</td>\n      <td>6.445488e+05</td>\n      <td>2010.580497</td>\n      <td>1.009416e+04</td>\n      <td>2.437173</td>\n    </tr>\n    <tr>\n      <th>std</th>\n      <td>777.965463</td>\n      <td>3.272678</td>\n      <td>1.290948</td>\n      <td>1128.956395</td>\n      <td>5279.702522</td>\n      <td>17.519698</td>\n      <td>2.838844</td>\n      <td>9.176190e+06</td>\n      <td>1.569837e+07</td>\n      <td>2.754065</td>\n      <td>2.071335e+05</td>\n      <td>1.069910</td>\n    </tr>\n    <tr>\n      <th>min</th>\n      <td>17.000000</td>\n      <td>10.000000</td>\n      <td>0.000000</td>\n      <td>2.600000</td>\n      <td>3.700000</td>\n      <td>0.100000</td>\n      <td>0.000000</td>\n      <td>0.000000e+00</td>\n      <td>4.000000e+00</td>\n      <td>2003.000000</td>\n      <td>-1.057922e+01</td>\n      <td>1.000000</td>\n    </tr>\n    <tr>\n      <th>25%</th>\n      <td>1442.000000</td>\n      <td>25.000000</td>\n      <td>5.900000</td>\n      <td>6.900000</td>\n      <td>73.000000</td>\n      <td>1.100000</td>\n      <td>0.250000</td>\n      <td>3.000000e+01</td>\n      <td>1.407500e+02</td>\n      <td>2009.000000</td>\n      <td>5.423292e+01</td>\n      <td>1.000000</td>\n    </tr>\n    <tr>\n      <th>50%</th>\n      <td>1705.000000</td>\n      <td>27.000000</td>\n      <td>6.700000</td>\n      <td>7.200000</td>\n      <td>165.000000</td>\n      <td>1.700000</td>\n      <td>0.508000</td>\n      <td>2.280000e+02</td>\n      <td>5.910000e+02</td>\n      <td>2011.000000</td>\n      <td>7.202600e+01</td>\n      <td>3.000000</td>\n    </tr>\n    <tr>\n      <th>75%</th>\n      <td>2338.000000</td>\n      <td>28.325000</td>\n      <td>7.100000</td>\n      <td>7.600000</td>\n      <td>612.750000</td>\n      <td>3.400000</td>\n      <td>1.437500</td>\n      <td>9.642500e+02</td>\n      <td>2.259500e+03</td>\n      <td>2013.000000</td>\n      <td>1.068747e+02</td>\n      <td>3.000000</td>\n    </tr>\n    <tr>\n      <th>max</th>\n      <td>3473.000000</td>\n      <td>35.000000</td>\n      <td>10.000000</td>\n      <td>28598.000000</td>\n      <td>47156.000000</td>\n      <td>534.500000</td>\n      <td>58.100000</td>\n      <td>2.725216e+08</td>\n      <td>5.110909e+08</td>\n      <td>2014.000000</td>\n      <td>6.136170e+06</td>\n      <td>5.000000</td>\n    </tr>\n  </tbody>\n</table>\n</div>"
     },
     "execution_count": 87,
     "metadata": {},
     "output_type": "execute_result"
    }
   ],
   "source": [
    "df4.describe()"
   ],
   "metadata": {
    "collapsed": false,
    "pycharm": {
     "name": "#%%\n"
    }
   }
  }
 ],
 "metadata": {
  "kernelspec": {
   "name": "base",
   "language": "python",
   "display_name": "Python (base)"
  },
  "language_info": {
   "codemirror_mode": {
    "name": "ipython",
    "version": 2
   },
   "file_extension": ".py",
   "mimetype": "text/x-python",
   "name": "python",
   "nbconvert_exporter": "python",
   "pygments_lexer": "ipython2",
   "version": "2.7.6"
  }
 },
 "nbformat": 4,
 "nbformat_minor": 0
}