{
 "cells": [
  {
   "cell_type": "code",
   "execution_count": 1,
   "metadata": {
    "collapsed": true,
    "pycharm": {
     "name": "#%%\n"
    }
   },
   "outputs": [],
   "source": [
    "import pandas as pd\n",
    "import os\n",
    "import sys\n",
    "import missingno as msno"
   ]
  },
  {
   "cell_type": "markdown",
   "source": [
    "# Importing the data"
   ],
   "metadata": {
    "collapsed": false,
    "pycharm": {
     "name": "#%% md\n"
    }
   }
  },
  {
   "cell_type": "code",
   "execution_count": 2,
   "outputs": [
    {
     "data": {
      "text/plain": "'C:\\\\Users\\\\kople\\\\Documents\\\\Personal Git repos\\\\Water-Quality-Prediction\\\\notebooks'"
     },
     "execution_count": 2,
     "metadata": {},
     "output_type": "execute_result"
    }
   ],
   "source": [
    "os.getcwd()"
   ],
   "metadata": {
    "collapsed": false,
    "pycharm": {
     "name": "#%%\n"
    }
   }
  },
  {
   "cell_type": "code",
   "execution_count": 3,
   "outputs": [],
   "source": [
    "df = pd.read_csv('C:/Users/kople/Documents/Personal Git repos/Water-Quality-Prediction/data/raw/water_dataX.csv',encoding='ISO-8859-1')"
   ],
   "metadata": {
    "collapsed": false,
    "pycharm": {
     "name": "#%%\n"
    }
   }
  },
  {
   "cell_type": "code",
   "execution_count": 4,
   "outputs": [
    {
     "data": {
      "text/plain": "     STATION CODE                                          LOCATIONS  \\\n0            1393               DAMANGANGA AT D/S OF MADHUBAN, DAMAN   \n1            1399  ZUARI AT D/S OF PT. WHERE KUMBARJRIA CANAL JOI...   \n2            1475                                ZUARI AT PANCHAWADI   \n3            3181                        RIVER ZUARI AT BORIM BRIDGE   \n4            3182                       RIVER ZUARI AT MARCAIM JETTY   \n...           ...                                                ...   \n1986         1330            TAMBIRAPARANI AT ARUMUGANERI, TAMILNADU   \n1987         1450  PALAR AT VANIYAMBADI WATER SUPPLY HEAD WORK, T...   \n1988         1403                 GUMTI AT U/S SOUTH TRIPURA,TRIPURA   \n1989         1404                GUMTI AT D/S SOUTH TRIPURA, TRIPURA   \n1990         1726   CHANDRAPUR, AGARTALA D/S OF HAORA RIVER, TRIPURA   \n\n            STATE  Temp D.O. (mg/l)   PH CONDUCTIVITY (µmhos/cm)  \\\n0     DAMAN & DIU  30.6         6.7  7.5                     203   \n1             GOA  29.8         5.7  7.2                     189   \n2             GOA  29.5         6.3  6.9                     179   \n3             GOA  29.7         5.8  6.9                      64   \n4             GOA  29.5         5.8  7.3                      83   \n...           ...   ...         ...  ...                     ...   \n1986          NAN   NAN         7.9  738                     7.2   \n1987          NAN    29         7.5  585                     6.3   \n1988          NAN    28         7.6   98                     6.2   \n1989          NAN    28         7.7   91                     6.5   \n1990          NAN    29         7.6  110                     5.7   \n\n     B.O.D. (mg/l) NITRATENAN N+ NITRITENANN (mg/l)  \\\n0              NAN                              0.1   \n1                2                              0.2   \n2              1.7                              0.1   \n3              3.8                              0.5   \n4              1.9                              0.4   \n...            ...                              ...   \n1986           2.7                            0.518   \n1987           2.6                            0.155   \n1988           1.2                              NAN   \n1989           1.3                              NAN   \n1990           1.1                              NAN   \n\n     FECAL COLIFORM (MPN/100ml) TOTAL COLIFORM (MPN/100ml)Mean  year  \n0                            11                             27  2014  \n1                          4953                           8391  2014  \n2                          3243                           5330  2014  \n3                          5382                           8443  2014  \n4                          3428                           5500  2014  \n...                         ...                            ...   ...  \n1986                      0.518                            202  2003  \n1987                      0.155                            315  2003  \n1988                        NAN                            570  2003  \n1989                        NAN                            562  2003  \n1990                        NAN                            546  2003  \n\n[1991 rows x 12 columns]",
      "text/html": "<div>\n<style scoped>\n    .dataframe tbody tr th:only-of-type {\n        vertical-align: middle;\n    }\n\n    .dataframe tbody tr th {\n        vertical-align: top;\n    }\n\n    .dataframe thead th {\n        text-align: right;\n    }\n</style>\n<table border=\"1\" class=\"dataframe\">\n  <thead>\n    <tr style=\"text-align: right;\">\n      <th></th>\n      <th>STATION CODE</th>\n      <th>LOCATIONS</th>\n      <th>STATE</th>\n      <th>Temp</th>\n      <th>D.O. (mg/l)</th>\n      <th>PH</th>\n      <th>CONDUCTIVITY (µmhos/cm)</th>\n      <th>B.O.D. (mg/l)</th>\n      <th>NITRATENAN N+ NITRITENANN (mg/l)</th>\n      <th>FECAL COLIFORM (MPN/100ml)</th>\n      <th>TOTAL COLIFORM (MPN/100ml)Mean</th>\n      <th>year</th>\n    </tr>\n  </thead>\n  <tbody>\n    <tr>\n      <th>0</th>\n      <td>1393</td>\n      <td>DAMANGANGA AT D/S OF MADHUBAN, DAMAN</td>\n      <td>DAMAN &amp; DIU</td>\n      <td>30.6</td>\n      <td>6.7</td>\n      <td>7.5</td>\n      <td>203</td>\n      <td>NAN</td>\n      <td>0.1</td>\n      <td>11</td>\n      <td>27</td>\n      <td>2014</td>\n    </tr>\n    <tr>\n      <th>1</th>\n      <td>1399</td>\n      <td>ZUARI AT D/S OF PT. WHERE KUMBARJRIA CANAL JOI...</td>\n      <td>GOA</td>\n      <td>29.8</td>\n      <td>5.7</td>\n      <td>7.2</td>\n      <td>189</td>\n      <td>2</td>\n      <td>0.2</td>\n      <td>4953</td>\n      <td>8391</td>\n      <td>2014</td>\n    </tr>\n    <tr>\n      <th>2</th>\n      <td>1475</td>\n      <td>ZUARI AT PANCHAWADI</td>\n      <td>GOA</td>\n      <td>29.5</td>\n      <td>6.3</td>\n      <td>6.9</td>\n      <td>179</td>\n      <td>1.7</td>\n      <td>0.1</td>\n      <td>3243</td>\n      <td>5330</td>\n      <td>2014</td>\n    </tr>\n    <tr>\n      <th>3</th>\n      <td>3181</td>\n      <td>RIVER ZUARI AT BORIM BRIDGE</td>\n      <td>GOA</td>\n      <td>29.7</td>\n      <td>5.8</td>\n      <td>6.9</td>\n      <td>64</td>\n      <td>3.8</td>\n      <td>0.5</td>\n      <td>5382</td>\n      <td>8443</td>\n      <td>2014</td>\n    </tr>\n    <tr>\n      <th>4</th>\n      <td>3182</td>\n      <td>RIVER ZUARI AT MARCAIM JETTY</td>\n      <td>GOA</td>\n      <td>29.5</td>\n      <td>5.8</td>\n      <td>7.3</td>\n      <td>83</td>\n      <td>1.9</td>\n      <td>0.4</td>\n      <td>3428</td>\n      <td>5500</td>\n      <td>2014</td>\n    </tr>\n    <tr>\n      <th>...</th>\n      <td>...</td>\n      <td>...</td>\n      <td>...</td>\n      <td>...</td>\n      <td>...</td>\n      <td>...</td>\n      <td>...</td>\n      <td>...</td>\n      <td>...</td>\n      <td>...</td>\n      <td>...</td>\n      <td>...</td>\n    </tr>\n    <tr>\n      <th>1986</th>\n      <td>1330</td>\n      <td>TAMBIRAPARANI AT ARUMUGANERI, TAMILNADU</td>\n      <td>NAN</td>\n      <td>NAN</td>\n      <td>7.9</td>\n      <td>738</td>\n      <td>7.2</td>\n      <td>2.7</td>\n      <td>0.518</td>\n      <td>0.518</td>\n      <td>202</td>\n      <td>2003</td>\n    </tr>\n    <tr>\n      <th>1987</th>\n      <td>1450</td>\n      <td>PALAR AT VANIYAMBADI WATER SUPPLY HEAD WORK, T...</td>\n      <td>NAN</td>\n      <td>29</td>\n      <td>7.5</td>\n      <td>585</td>\n      <td>6.3</td>\n      <td>2.6</td>\n      <td>0.155</td>\n      <td>0.155</td>\n      <td>315</td>\n      <td>2003</td>\n    </tr>\n    <tr>\n      <th>1988</th>\n      <td>1403</td>\n      <td>GUMTI AT U/S SOUTH TRIPURA,TRIPURA</td>\n      <td>NAN</td>\n      <td>28</td>\n      <td>7.6</td>\n      <td>98</td>\n      <td>6.2</td>\n      <td>1.2</td>\n      <td>NAN</td>\n      <td>NAN</td>\n      <td>570</td>\n      <td>2003</td>\n    </tr>\n    <tr>\n      <th>1989</th>\n      <td>1404</td>\n      <td>GUMTI AT D/S SOUTH TRIPURA, TRIPURA</td>\n      <td>NAN</td>\n      <td>28</td>\n      <td>7.7</td>\n      <td>91</td>\n      <td>6.5</td>\n      <td>1.3</td>\n      <td>NAN</td>\n      <td>NAN</td>\n      <td>562</td>\n      <td>2003</td>\n    </tr>\n    <tr>\n      <th>1990</th>\n      <td>1726</td>\n      <td>CHANDRAPUR, AGARTALA D/S OF HAORA RIVER, TRIPURA</td>\n      <td>NAN</td>\n      <td>29</td>\n      <td>7.6</td>\n      <td>110</td>\n      <td>5.7</td>\n      <td>1.1</td>\n      <td>NAN</td>\n      <td>NAN</td>\n      <td>546</td>\n      <td>2003</td>\n    </tr>\n  </tbody>\n</table>\n<p>1991 rows × 12 columns</p>\n</div>"
     },
     "execution_count": 4,
     "metadata": {},
     "output_type": "execute_result"
    }
   ],
   "source": [
    "df"
   ],
   "metadata": {
    "collapsed": false,
    "pycharm": {
     "name": "#%%\n"
    }
   }
  },
  {
   "cell_type": "code",
   "execution_count": 5,
   "outputs": [
    {
     "name": "stdout",
     "output_type": "stream",
     "text": [
      "<class 'pandas.core.frame.DataFrame'>\n",
      "RangeIndex: 1991 entries, 0 to 1990\n",
      "Data columns (total 12 columns):\n",
      " #   Column                            Non-Null Count  Dtype \n",
      "---  ------                            --------------  ----- \n",
      " 0   STATION CODE                      1991 non-null   object\n",
      " 1   LOCATIONS                         1991 non-null   object\n",
      " 2   STATE                             1991 non-null   object\n",
      " 3   Temp                              1991 non-null   object\n",
      " 4   D.O. (mg/l)                       1991 non-null   object\n",
      " 5   PH                                1991 non-null   object\n",
      " 6   CONDUCTIVITY (µmhos/cm)           1991 non-null   object\n",
      " 7   B.O.D. (mg/l)                     1991 non-null   object\n",
      " 8   NITRATENAN N+ NITRITENANN (mg/l)  1991 non-null   object\n",
      " 9   FECAL COLIFORM (MPN/100ml)        1991 non-null   object\n",
      " 10  TOTAL COLIFORM (MPN/100ml)Mean    1991 non-null   object\n",
      " 11  year                              1991 non-null   int64 \n",
      "dtypes: int64(1), object(11)\n",
      "memory usage: 186.8+ KB\n"
     ]
    }
   ],
   "source": [
    "df.info()"
   ],
   "metadata": {
    "collapsed": false,
    "pycharm": {
     "name": "#%%\n"
    }
   }
  },
  {
   "cell_type": "markdown",
   "source": [
    "# EDA on Indian dataset"
   ],
   "metadata": {
    "collapsed": false,
    "pycharm": {
     "name": "#%% md\n"
    }
   }
  },
  {
   "cell_type": "code",
   "execution_count": 6,
   "outputs": [
    {
     "data": {
      "text/plain": "STATION CODE                        object\nLOCATIONS                           object\nSTATE                               object\nTemp                                object\nD.O. (mg/l)                         object\nPH                                  object\nCONDUCTIVITY (µmhos/cm)             object\nB.O.D. (mg/l)                       object\nNITRATENAN N+ NITRITENANN (mg/l)    object\nFECAL COLIFORM (MPN/100ml)          object\nTOTAL COLIFORM (MPN/100ml)Mean      object\nyear                                 int64\ndtype: object"
     },
     "execution_count": 6,
     "metadata": {},
     "output_type": "execute_result"
    }
   ],
   "source": [
    "df.dtypes"
   ],
   "metadata": {
    "collapsed": false,
    "pycharm": {
     "name": "#%%\n"
    }
   }
  },
  {
   "cell_type": "markdown",
   "source": [
    "Converting the columns to numeric type"
   ],
   "metadata": {
    "collapsed": false,
    "pycharm": {
     "name": "#%% md\n"
    }
   }
  },
  {
   "cell_type": "code",
   "execution_count": 7,
   "outputs": [],
   "source": [
    "df['STATION CODE']= pd.to_numeric(df['STATION CODE'],errors='coerce')"
   ],
   "metadata": {
    "collapsed": false,
    "pycharm": {
     "name": "#%%\n"
    }
   }
  },
  {
   "cell_type": "code",
   "execution_count": 8,
   "outputs": [
    {
     "data": {
      "text/plain": "      STATION CODE                                          LOCATIONS STATE  \\\n260            NaN                                                NAN   NAN   \n431            NaN                                                NAN   NAN   \n1782           NaN            NAGAVALLI AT THOTAPALLI REGULATOR, A.P.   NAN   \n1783           NaN               DAMANGANGA AT D/S OF MADHUBAN, DAMAN   NAN   \n1784           NaN   DAMANGANGA  AFTER CONFL. OF PIPARIA DRAIN, DAMAN   NAN   \n...            ...                                                ...   ...   \n1897           NaN  PALAR AT VANIYAMBADI WATER SUPPLY HEAD WORK, T...   NAN   \n1898           NaN                 GUMTI AT U/S SOUTH TRIPURA,TRIPURA   NAN   \n1899           NaN                GUMTI AT D/S SOUTH TRIPURA, TRIPURA   NAN   \n1900           NaN   CHANDRAPUR, AGARTALA D/S OF HAORA RIVER, TRIPURA   NAN   \n1912           NaN                                                NAN   NAN   \n\n     Temp D.O. (mg/l)    PH CONDUCTIVITY (µmhos/cm) B.O.D. (mg/l)  \\\n260   NAN         NAN   NAN                     NAN           NAN   \n431   NAN         NAN   NAN                     NAN           NAN   \n1782   28         5.6  7.65                   375.2         1.758   \n1783  NAN         NAN  7.76                   233.3        10.825   \n1784  NAN         NAN   NAN                     NAN             1   \n...   ...         ...   ...                     ...           ...   \n1897   28         6.6  7.49                   571.5         2.091   \n1898   28         5.4  7.16                    75.8         2.092   \n1899   30         5.4  7.37                   104.8         1.802   \n1900   29         5.3  7.37                   102.2         2.552   \n1912  NAN         NAN   NAN                     NAN           NAN   \n\n     NITRATENAN N+ NITRITENANN (mg/l) FECAL COLIFORM (MPN/100ml)  \\\n260                               NAN                        NAN   \n431                               NAN                        NAN   \n1782                            1.995                       2636   \n1783                            5.657                        NAN   \n1784                             1.01                       1200   \n...                               ...                        ...   \n1897                            0.256                        151   \n1898                              NAN                        404   \n1899                            0.215                        456   \n1900                            0.202                        526   \n1912                              NAN                        NAN   \n\n     TOTAL COLIFORM (MPN/100ml)Mean  year  \n260                             NAN  2013  \n431                             NAN  2013  \n1782                          18417  2005  \n1783                            NAN  2005  \n1784                          37000  2005  \n...                             ...   ...  \n1897                            273  2005  \n1898                            513  2005  \n1899                            557  2005  \n1900                            583  2005  \n1912                            NAN  2003  \n\n[122 rows x 12 columns]",
      "text/html": "<div>\n<style scoped>\n    .dataframe tbody tr th:only-of-type {\n        vertical-align: middle;\n    }\n\n    .dataframe tbody tr th {\n        vertical-align: top;\n    }\n\n    .dataframe thead th {\n        text-align: right;\n    }\n</style>\n<table border=\"1\" class=\"dataframe\">\n  <thead>\n    <tr style=\"text-align: right;\">\n      <th></th>\n      <th>STATION CODE</th>\n      <th>LOCATIONS</th>\n      <th>STATE</th>\n      <th>Temp</th>\n      <th>D.O. (mg/l)</th>\n      <th>PH</th>\n      <th>CONDUCTIVITY (µmhos/cm)</th>\n      <th>B.O.D. (mg/l)</th>\n      <th>NITRATENAN N+ NITRITENANN (mg/l)</th>\n      <th>FECAL COLIFORM (MPN/100ml)</th>\n      <th>TOTAL COLIFORM (MPN/100ml)Mean</th>\n      <th>year</th>\n    </tr>\n  </thead>\n  <tbody>\n    <tr>\n      <th>260</th>\n      <td>NaN</td>\n      <td>NAN</td>\n      <td>NAN</td>\n      <td>NAN</td>\n      <td>NAN</td>\n      <td>NAN</td>\n      <td>NAN</td>\n      <td>NAN</td>\n      <td>NAN</td>\n      <td>NAN</td>\n      <td>NAN</td>\n      <td>2013</td>\n    </tr>\n    <tr>\n      <th>431</th>\n      <td>NaN</td>\n      <td>NAN</td>\n      <td>NAN</td>\n      <td>NAN</td>\n      <td>NAN</td>\n      <td>NAN</td>\n      <td>NAN</td>\n      <td>NAN</td>\n      <td>NAN</td>\n      <td>NAN</td>\n      <td>NAN</td>\n      <td>2013</td>\n    </tr>\n    <tr>\n      <th>1782</th>\n      <td>NaN</td>\n      <td>NAGAVALLI AT THOTAPALLI REGULATOR, A.P.</td>\n      <td>NAN</td>\n      <td>28</td>\n      <td>5.6</td>\n      <td>7.65</td>\n      <td>375.2</td>\n      <td>1.758</td>\n      <td>1.995</td>\n      <td>2636</td>\n      <td>18417</td>\n      <td>2005</td>\n    </tr>\n    <tr>\n      <th>1783</th>\n      <td>NaN</td>\n      <td>DAMANGANGA AT D/S OF MADHUBAN, DAMAN</td>\n      <td>NAN</td>\n      <td>NAN</td>\n      <td>NAN</td>\n      <td>7.76</td>\n      <td>233.3</td>\n      <td>10.825</td>\n      <td>5.657</td>\n      <td>NAN</td>\n      <td>NAN</td>\n      <td>2005</td>\n    </tr>\n    <tr>\n      <th>1784</th>\n      <td>NaN</td>\n      <td>DAMANGANGA  AFTER CONFL. OF PIPARIA DRAIN, DAMAN</td>\n      <td>NAN</td>\n      <td>NAN</td>\n      <td>NAN</td>\n      <td>NAN</td>\n      <td>NAN</td>\n      <td>1</td>\n      <td>1.01</td>\n      <td>1200</td>\n      <td>37000</td>\n      <td>2005</td>\n    </tr>\n    <tr>\n      <th>...</th>\n      <td>...</td>\n      <td>...</td>\n      <td>...</td>\n      <td>...</td>\n      <td>...</td>\n      <td>...</td>\n      <td>...</td>\n      <td>...</td>\n      <td>...</td>\n      <td>...</td>\n      <td>...</td>\n      <td>...</td>\n    </tr>\n    <tr>\n      <th>1897</th>\n      <td>NaN</td>\n      <td>PALAR AT VANIYAMBADI WATER SUPPLY HEAD WORK, T...</td>\n      <td>NAN</td>\n      <td>28</td>\n      <td>6.6</td>\n      <td>7.49</td>\n      <td>571.5</td>\n      <td>2.091</td>\n      <td>0.256</td>\n      <td>151</td>\n      <td>273</td>\n      <td>2005</td>\n    </tr>\n    <tr>\n      <th>1898</th>\n      <td>NaN</td>\n      <td>GUMTI AT U/S SOUTH TRIPURA,TRIPURA</td>\n      <td>NAN</td>\n      <td>28</td>\n      <td>5.4</td>\n      <td>7.16</td>\n      <td>75.8</td>\n      <td>2.092</td>\n      <td>NAN</td>\n      <td>404</td>\n      <td>513</td>\n      <td>2005</td>\n    </tr>\n    <tr>\n      <th>1899</th>\n      <td>NaN</td>\n      <td>GUMTI AT D/S SOUTH TRIPURA, TRIPURA</td>\n      <td>NAN</td>\n      <td>30</td>\n      <td>5.4</td>\n      <td>7.37</td>\n      <td>104.8</td>\n      <td>1.802</td>\n      <td>0.215</td>\n      <td>456</td>\n      <td>557</td>\n      <td>2005</td>\n    </tr>\n    <tr>\n      <th>1900</th>\n      <td>NaN</td>\n      <td>CHANDRAPUR, AGARTALA D/S OF HAORA RIVER, TRIPURA</td>\n      <td>NAN</td>\n      <td>29</td>\n      <td>5.3</td>\n      <td>7.37</td>\n      <td>102.2</td>\n      <td>2.552</td>\n      <td>0.202</td>\n      <td>526</td>\n      <td>583</td>\n      <td>2005</td>\n    </tr>\n    <tr>\n      <th>1912</th>\n      <td>NaN</td>\n      <td>NAN</td>\n      <td>NAN</td>\n      <td>NAN</td>\n      <td>NAN</td>\n      <td>NAN</td>\n      <td>NAN</td>\n      <td>NAN</td>\n      <td>NAN</td>\n      <td>NAN</td>\n      <td>NAN</td>\n      <td>2003</td>\n    </tr>\n  </tbody>\n</table>\n<p>122 rows × 12 columns</p>\n</div>"
     },
     "execution_count": 8,
     "metadata": {},
     "output_type": "execute_result"
    }
   ],
   "source": [
    "df[df['STATION CODE'].isnull()]"
   ],
   "metadata": {
    "collapsed": false,
    "pycharm": {
     "name": "#%%\n"
    }
   }
  },
  {
   "cell_type": "code",
   "execution_count": 9,
   "outputs": [],
   "source": [
    "df['Temp']= pd.to_numeric(df['Temp'],errors='coerce')"
   ],
   "metadata": {
    "collapsed": false,
    "pycharm": {
     "name": "#%%\n"
    }
   }
  },
  {
   "cell_type": "code",
   "execution_count": 10,
   "outputs": [],
   "source": [
    "df['D.O. (mg/l)']= pd.to_numeric(df['D.O. (mg/l)'],errors='coerce')"
   ],
   "metadata": {
    "collapsed": false,
    "pycharm": {
     "name": "#%%\n"
    }
   }
  },
  {
   "cell_type": "code",
   "execution_count": 11,
   "outputs": [],
   "source": [
    "df['PH']= pd.to_numeric(df['PH'],errors='coerce')"
   ],
   "metadata": {
    "collapsed": false,
    "pycharm": {
     "name": "#%%\n"
    }
   }
  },
  {
   "cell_type": "code",
   "execution_count": 12,
   "outputs": [],
   "source": [
    "df['CONDUCTIVITY (µmhos/cm)']= pd.to_numeric(df['CONDUCTIVITY (µmhos/cm)'],errors='coerce')"
   ],
   "metadata": {
    "collapsed": false,
    "pycharm": {
     "name": "#%%\n"
    }
   }
  },
  {
   "cell_type": "code",
   "execution_count": 13,
   "outputs": [],
   "source": [
    "df['B.O.D. (mg/l)']= pd.to_numeric(df['B.O.D. (mg/l)'],errors='coerce')"
   ],
   "metadata": {
    "collapsed": false,
    "pycharm": {
     "name": "#%%\n"
    }
   }
  },
  {
   "cell_type": "code",
   "execution_count": 14,
   "outputs": [],
   "source": [
    "df['NITRATENAN N+ NITRITENANN (mg/l)']= pd.to_numeric(df['NITRATENAN N+ NITRITENANN (mg/l)'],errors='coerce')"
   ],
   "metadata": {
    "collapsed": false,
    "pycharm": {
     "name": "#%%\n"
    }
   }
  },
  {
   "cell_type": "code",
   "execution_count": 15,
   "outputs": [],
   "source": [
    "df['FECAL COLIFORM (MPN/100ml)']= pd.to_numeric(df['FECAL COLIFORM (MPN/100ml)'],errors='coerce')"
   ],
   "metadata": {
    "collapsed": false,
    "pycharm": {
     "name": "#%%\n"
    }
   }
  },
  {
   "cell_type": "code",
   "execution_count": 16,
   "outputs": [],
   "source": [
    "df['TOTAL COLIFORM (MPN/100ml)Mean']= pd.to_numeric(df['TOTAL COLIFORM (MPN/100ml)Mean'],errors='coerce')"
   ],
   "metadata": {
    "collapsed": false,
    "pycharm": {
     "name": "#%%\n"
    }
   }
  },
  {
   "cell_type": "code",
   "execution_count": 17,
   "outputs": [
    {
     "data": {
      "text/plain": "STATION CODE                        float64\nLOCATIONS                            object\nSTATE                                object\nTemp                                float64\nD.O. (mg/l)                         float64\nPH                                  float64\nCONDUCTIVITY (µmhos/cm)             float64\nB.O.D. (mg/l)                       float64\nNITRATENAN N+ NITRITENANN (mg/l)    float64\nFECAL COLIFORM (MPN/100ml)          float64\nTOTAL COLIFORM (MPN/100ml)Mean      float64\nyear                                  int64\ndtype: object"
     },
     "execution_count": 17,
     "metadata": {},
     "output_type": "execute_result"
    }
   ],
   "source": [
    "df.dtypes"
   ],
   "metadata": {
    "collapsed": false,
    "pycharm": {
     "name": "#%%\n"
    }
   }
  },
  {
   "cell_type": "code",
   "execution_count": 18,
   "outputs": [
    {
     "data": {
      "text/plain": "      STATION CODE                                          LOCATIONS  \\\n0           1393.0               DAMANGANGA AT D/S OF MADHUBAN, DAMAN   \n1           1399.0  ZUARI AT D/S OF PT. WHERE KUMBARJRIA CANAL JOI...   \n2           1475.0                                ZUARI AT PANCHAWADI   \n3           3181.0                        RIVER ZUARI AT BORIM BRIDGE   \n4           3182.0                       RIVER ZUARI AT MARCAIM JETTY   \n...            ...                                                ...   \n1986        1330.0            TAMBIRAPARANI AT ARUMUGANERI, TAMILNADU   \n1987        1450.0  PALAR AT VANIYAMBADI WATER SUPPLY HEAD WORK, T...   \n1988        1403.0                 GUMTI AT U/S SOUTH TRIPURA,TRIPURA   \n1989        1404.0                GUMTI AT D/S SOUTH TRIPURA, TRIPURA   \n1990        1726.0   CHANDRAPUR, AGARTALA D/S OF HAORA RIVER, TRIPURA   \n\n            STATE  Temp  D.O. (mg/l)     PH  CONDUCTIVITY (µmhos/cm)  \\\n0     DAMAN & DIU  30.6          6.7    7.5                    203.0   \n1             GOA  29.8          5.7    7.2                    189.0   \n2             GOA  29.5          6.3    6.9                    179.0   \n3             GOA  29.7          5.8    6.9                     64.0   \n4             GOA  29.5          5.8    7.3                     83.0   \n...           ...   ...          ...    ...                      ...   \n1986          NAN   NaN          7.9  738.0                      7.2   \n1987          NAN  29.0          7.5  585.0                      6.3   \n1988          NAN  28.0          7.6   98.0                      6.2   \n1989          NAN  28.0          7.7   91.0                      6.5   \n1990          NAN  29.0          7.6  110.0                      5.7   \n\n      B.O.D. (mg/l)  NITRATENAN N+ NITRITENANN (mg/l)  \\\n0               NaN                             0.100   \n1               2.0                             0.200   \n2               1.7                             0.100   \n3               3.8                             0.500   \n4               1.9                             0.400   \n...             ...                               ...   \n1986            2.7                             0.518   \n1987            2.6                             0.155   \n1988            1.2                               NaN   \n1989            1.3                               NaN   \n1990            1.1                               NaN   \n\n      FECAL COLIFORM (MPN/100ml)  TOTAL COLIFORM (MPN/100ml)Mean  year  \n0                         11.000                            27.0  2014  \n1                       4953.000                          8391.0  2014  \n2                       3243.000                          5330.0  2014  \n3                       5382.000                          8443.0  2014  \n4                       3428.000                          5500.0  2014  \n...                          ...                             ...   ...  \n1986                       0.518                           202.0  2003  \n1987                       0.155                           315.0  2003  \n1988                         NaN                           570.0  2003  \n1989                         NaN                           562.0  2003  \n1990                         NaN                           546.0  2003  \n\n[1991 rows x 12 columns]",
      "text/html": "<div>\n<style scoped>\n    .dataframe tbody tr th:only-of-type {\n        vertical-align: middle;\n    }\n\n    .dataframe tbody tr th {\n        vertical-align: top;\n    }\n\n    .dataframe thead th {\n        text-align: right;\n    }\n</style>\n<table border=\"1\" class=\"dataframe\">\n  <thead>\n    <tr style=\"text-align: right;\">\n      <th></th>\n      <th>STATION CODE</th>\n      <th>LOCATIONS</th>\n      <th>STATE</th>\n      <th>Temp</th>\n      <th>D.O. (mg/l)</th>\n      <th>PH</th>\n      <th>CONDUCTIVITY (µmhos/cm)</th>\n      <th>B.O.D. (mg/l)</th>\n      <th>NITRATENAN N+ NITRITENANN (mg/l)</th>\n      <th>FECAL COLIFORM (MPN/100ml)</th>\n      <th>TOTAL COLIFORM (MPN/100ml)Mean</th>\n      <th>year</th>\n    </tr>\n  </thead>\n  <tbody>\n    <tr>\n      <th>0</th>\n      <td>1393.0</td>\n      <td>DAMANGANGA AT D/S OF MADHUBAN, DAMAN</td>\n      <td>DAMAN &amp; DIU</td>\n      <td>30.6</td>\n      <td>6.7</td>\n      <td>7.5</td>\n      <td>203.0</td>\n      <td>NaN</td>\n      <td>0.100</td>\n      <td>11.000</td>\n      <td>27.0</td>\n      <td>2014</td>\n    </tr>\n    <tr>\n      <th>1</th>\n      <td>1399.0</td>\n      <td>ZUARI AT D/S OF PT. WHERE KUMBARJRIA CANAL JOI...</td>\n      <td>GOA</td>\n      <td>29.8</td>\n      <td>5.7</td>\n      <td>7.2</td>\n      <td>189.0</td>\n      <td>2.0</td>\n      <td>0.200</td>\n      <td>4953.000</td>\n      <td>8391.0</td>\n      <td>2014</td>\n    </tr>\n    <tr>\n      <th>2</th>\n      <td>1475.0</td>\n      <td>ZUARI AT PANCHAWADI</td>\n      <td>GOA</td>\n      <td>29.5</td>\n      <td>6.3</td>\n      <td>6.9</td>\n      <td>179.0</td>\n      <td>1.7</td>\n      <td>0.100</td>\n      <td>3243.000</td>\n      <td>5330.0</td>\n      <td>2014</td>\n    </tr>\n    <tr>\n      <th>3</th>\n      <td>3181.0</td>\n      <td>RIVER ZUARI AT BORIM BRIDGE</td>\n      <td>GOA</td>\n      <td>29.7</td>\n      <td>5.8</td>\n      <td>6.9</td>\n      <td>64.0</td>\n      <td>3.8</td>\n      <td>0.500</td>\n      <td>5382.000</td>\n      <td>8443.0</td>\n      <td>2014</td>\n    </tr>\n    <tr>\n      <th>4</th>\n      <td>3182.0</td>\n      <td>RIVER ZUARI AT MARCAIM JETTY</td>\n      <td>GOA</td>\n      <td>29.5</td>\n      <td>5.8</td>\n      <td>7.3</td>\n      <td>83.0</td>\n      <td>1.9</td>\n      <td>0.400</td>\n      <td>3428.000</td>\n      <td>5500.0</td>\n      <td>2014</td>\n    </tr>\n    <tr>\n      <th>...</th>\n      <td>...</td>\n      <td>...</td>\n      <td>...</td>\n      <td>...</td>\n      <td>...</td>\n      <td>...</td>\n      <td>...</td>\n      <td>...</td>\n      <td>...</td>\n      <td>...</td>\n      <td>...</td>\n      <td>...</td>\n    </tr>\n    <tr>\n      <th>1986</th>\n      <td>1330.0</td>\n      <td>TAMBIRAPARANI AT ARUMUGANERI, TAMILNADU</td>\n      <td>NAN</td>\n      <td>NaN</td>\n      <td>7.9</td>\n      <td>738.0</td>\n      <td>7.2</td>\n      <td>2.7</td>\n      <td>0.518</td>\n      <td>0.518</td>\n      <td>202.0</td>\n      <td>2003</td>\n    </tr>\n    <tr>\n      <th>1987</th>\n      <td>1450.0</td>\n      <td>PALAR AT VANIYAMBADI WATER SUPPLY HEAD WORK, T...</td>\n      <td>NAN</td>\n      <td>29.0</td>\n      <td>7.5</td>\n      <td>585.0</td>\n      <td>6.3</td>\n      <td>2.6</td>\n      <td>0.155</td>\n      <td>0.155</td>\n      <td>315.0</td>\n      <td>2003</td>\n    </tr>\n    <tr>\n      <th>1988</th>\n      <td>1403.0</td>\n      <td>GUMTI AT U/S SOUTH TRIPURA,TRIPURA</td>\n      <td>NAN</td>\n      <td>28.0</td>\n      <td>7.6</td>\n      <td>98.0</td>\n      <td>6.2</td>\n      <td>1.2</td>\n      <td>NaN</td>\n      <td>NaN</td>\n      <td>570.0</td>\n      <td>2003</td>\n    </tr>\n    <tr>\n      <th>1989</th>\n      <td>1404.0</td>\n      <td>GUMTI AT D/S SOUTH TRIPURA, TRIPURA</td>\n      <td>NAN</td>\n      <td>28.0</td>\n      <td>7.7</td>\n      <td>91.0</td>\n      <td>6.5</td>\n      <td>1.3</td>\n      <td>NaN</td>\n      <td>NaN</td>\n      <td>562.0</td>\n      <td>2003</td>\n    </tr>\n    <tr>\n      <th>1990</th>\n      <td>1726.0</td>\n      <td>CHANDRAPUR, AGARTALA D/S OF HAORA RIVER, TRIPURA</td>\n      <td>NAN</td>\n      <td>29.0</td>\n      <td>7.6</td>\n      <td>110.0</td>\n      <td>5.7</td>\n      <td>1.1</td>\n      <td>NaN</td>\n      <td>NaN</td>\n      <td>546.0</td>\n      <td>2003</td>\n    </tr>\n  </tbody>\n</table>\n<p>1991 rows × 12 columns</p>\n</div>"
     },
     "execution_count": 18,
     "metadata": {},
     "output_type": "execute_result"
    }
   ],
   "source": [
    "df"
   ],
   "metadata": {
    "collapsed": false,
    "pycharm": {
     "name": "#%%\n"
    }
   }
  },
  {
   "cell_type": "markdown",
   "source": [
    "# Renaming columns"
   ],
   "metadata": {
    "collapsed": false,
    "pycharm": {
     "name": "#%% md\n"
    }
   }
  },
  {
   "cell_type": "code",
   "execution_count": 19,
   "outputs": [],
   "source": [
    "df.rename(columns={\"STATION CODE\":\"station\",\"LOCATIONS\":\"location\",\"STATE\":\"state\",\"D.O. (mg/l)\":\"do\",\"PH\":\"ph\",\"CONDUCTIVITY (µmhos/cm)\":\"conductivity\",\"B.O.D. (mg/l)\":\"BOD\",\"NITRATENAN N+ NITRITENANN (mg/l)\":\"nn\",\"FECAL COLIFORM (MPN/100ml)\":\"fecal_coliform\",\"TOTAL COLIFORM (MPN/100ml)Mean\":\"total_coliform_mean\"}, inplace=True)"
   ],
   "metadata": {
    "collapsed": false,
    "pycharm": {
     "name": "#%%\n"
    }
   }
  },
  {
   "cell_type": "code",
   "execution_count": 20,
   "outputs": [
    {
     "data": {
      "text/plain": "      station                                           location        state  \\\n0      1393.0               DAMANGANGA AT D/S OF MADHUBAN, DAMAN  DAMAN & DIU   \n1      1399.0  ZUARI AT D/S OF PT. WHERE KUMBARJRIA CANAL JOI...          GOA   \n2      1475.0                                ZUARI AT PANCHAWADI          GOA   \n3      3181.0                        RIVER ZUARI AT BORIM BRIDGE          GOA   \n4      3182.0                       RIVER ZUARI AT MARCAIM JETTY          GOA   \n...       ...                                                ...          ...   \n1986   1330.0            TAMBIRAPARANI AT ARUMUGANERI, TAMILNADU          NAN   \n1987   1450.0  PALAR AT VANIYAMBADI WATER SUPPLY HEAD WORK, T...          NAN   \n1988   1403.0                 GUMTI AT U/S SOUTH TRIPURA,TRIPURA          NAN   \n1989   1404.0                GUMTI AT D/S SOUTH TRIPURA, TRIPURA          NAN   \n1990   1726.0   CHANDRAPUR, AGARTALA D/S OF HAORA RIVER, TRIPURA          NAN   \n\n      Temp   do     ph  conductivity  BOD     nn  fecal_coliform  \\\n0     30.6  6.7    7.5         203.0  NaN  0.100          11.000   \n1     29.8  5.7    7.2         189.0  2.0  0.200        4953.000   \n2     29.5  6.3    6.9         179.0  1.7  0.100        3243.000   \n3     29.7  5.8    6.9          64.0  3.8  0.500        5382.000   \n4     29.5  5.8    7.3          83.0  1.9  0.400        3428.000   \n...    ...  ...    ...           ...  ...    ...             ...   \n1986   NaN  7.9  738.0           7.2  2.7  0.518           0.518   \n1987  29.0  7.5  585.0           6.3  2.6  0.155           0.155   \n1988  28.0  7.6   98.0           6.2  1.2    NaN             NaN   \n1989  28.0  7.7   91.0           6.5  1.3    NaN             NaN   \n1990  29.0  7.6  110.0           5.7  1.1    NaN             NaN   \n\n      total_coliform_mean  year  \n0                    27.0  2014  \n1                  8391.0  2014  \n2                  5330.0  2014  \n3                  8443.0  2014  \n4                  5500.0  2014  \n...                   ...   ...  \n1986                202.0  2003  \n1987                315.0  2003  \n1988                570.0  2003  \n1989                562.0  2003  \n1990                546.0  2003  \n\n[1991 rows x 12 columns]",
      "text/html": "<div>\n<style scoped>\n    .dataframe tbody tr th:only-of-type {\n        vertical-align: middle;\n    }\n\n    .dataframe tbody tr th {\n        vertical-align: top;\n    }\n\n    .dataframe thead th {\n        text-align: right;\n    }\n</style>\n<table border=\"1\" class=\"dataframe\">\n  <thead>\n    <tr style=\"text-align: right;\">\n      <th></th>\n      <th>station</th>\n      <th>location</th>\n      <th>state</th>\n      <th>Temp</th>\n      <th>do</th>\n      <th>ph</th>\n      <th>conductivity</th>\n      <th>BOD</th>\n      <th>nn</th>\n      <th>fecal_coliform</th>\n      <th>total_coliform_mean</th>\n      <th>year</th>\n    </tr>\n  </thead>\n  <tbody>\n    <tr>\n      <th>0</th>\n      <td>1393.0</td>\n      <td>DAMANGANGA AT D/S OF MADHUBAN, DAMAN</td>\n      <td>DAMAN &amp; DIU</td>\n      <td>30.6</td>\n      <td>6.7</td>\n      <td>7.5</td>\n      <td>203.0</td>\n      <td>NaN</td>\n      <td>0.100</td>\n      <td>11.000</td>\n      <td>27.0</td>\n      <td>2014</td>\n    </tr>\n    <tr>\n      <th>1</th>\n      <td>1399.0</td>\n      <td>ZUARI AT D/S OF PT. WHERE KUMBARJRIA CANAL JOI...</td>\n      <td>GOA</td>\n      <td>29.8</td>\n      <td>5.7</td>\n      <td>7.2</td>\n      <td>189.0</td>\n      <td>2.0</td>\n      <td>0.200</td>\n      <td>4953.000</td>\n      <td>8391.0</td>\n      <td>2014</td>\n    </tr>\n    <tr>\n      <th>2</th>\n      <td>1475.0</td>\n      <td>ZUARI AT PANCHAWADI</td>\n      <td>GOA</td>\n      <td>29.5</td>\n      <td>6.3</td>\n      <td>6.9</td>\n      <td>179.0</td>\n      <td>1.7</td>\n      <td>0.100</td>\n      <td>3243.000</td>\n      <td>5330.0</td>\n      <td>2014</td>\n    </tr>\n    <tr>\n      <th>3</th>\n      <td>3181.0</td>\n      <td>RIVER ZUARI AT BORIM BRIDGE</td>\n      <td>GOA</td>\n      <td>29.7</td>\n      <td>5.8</td>\n      <td>6.9</td>\n      <td>64.0</td>\n      <td>3.8</td>\n      <td>0.500</td>\n      <td>5382.000</td>\n      <td>8443.0</td>\n      <td>2014</td>\n    </tr>\n    <tr>\n      <th>4</th>\n      <td>3182.0</td>\n      <td>RIVER ZUARI AT MARCAIM JETTY</td>\n      <td>GOA</td>\n      <td>29.5</td>\n      <td>5.8</td>\n      <td>7.3</td>\n      <td>83.0</td>\n      <td>1.9</td>\n      <td>0.400</td>\n      <td>3428.000</td>\n      <td>5500.0</td>\n      <td>2014</td>\n    </tr>\n    <tr>\n      <th>...</th>\n      <td>...</td>\n      <td>...</td>\n      <td>...</td>\n      <td>...</td>\n      <td>...</td>\n      <td>...</td>\n      <td>...</td>\n      <td>...</td>\n      <td>...</td>\n      <td>...</td>\n      <td>...</td>\n      <td>...</td>\n    </tr>\n    <tr>\n      <th>1986</th>\n      <td>1330.0</td>\n      <td>TAMBIRAPARANI AT ARUMUGANERI, TAMILNADU</td>\n      <td>NAN</td>\n      <td>NaN</td>\n      <td>7.9</td>\n      <td>738.0</td>\n      <td>7.2</td>\n      <td>2.7</td>\n      <td>0.518</td>\n      <td>0.518</td>\n      <td>202.0</td>\n      <td>2003</td>\n    </tr>\n    <tr>\n      <th>1987</th>\n      <td>1450.0</td>\n      <td>PALAR AT VANIYAMBADI WATER SUPPLY HEAD WORK, T...</td>\n      <td>NAN</td>\n      <td>29.0</td>\n      <td>7.5</td>\n      <td>585.0</td>\n      <td>6.3</td>\n      <td>2.6</td>\n      <td>0.155</td>\n      <td>0.155</td>\n      <td>315.0</td>\n      <td>2003</td>\n    </tr>\n    <tr>\n      <th>1988</th>\n      <td>1403.0</td>\n      <td>GUMTI AT U/S SOUTH TRIPURA,TRIPURA</td>\n      <td>NAN</td>\n      <td>28.0</td>\n      <td>7.6</td>\n      <td>98.0</td>\n      <td>6.2</td>\n      <td>1.2</td>\n      <td>NaN</td>\n      <td>NaN</td>\n      <td>570.0</td>\n      <td>2003</td>\n    </tr>\n    <tr>\n      <th>1989</th>\n      <td>1404.0</td>\n      <td>GUMTI AT D/S SOUTH TRIPURA, TRIPURA</td>\n      <td>NAN</td>\n      <td>28.0</td>\n      <td>7.7</td>\n      <td>91.0</td>\n      <td>6.5</td>\n      <td>1.3</td>\n      <td>NaN</td>\n      <td>NaN</td>\n      <td>562.0</td>\n      <td>2003</td>\n    </tr>\n    <tr>\n      <th>1990</th>\n      <td>1726.0</td>\n      <td>CHANDRAPUR, AGARTALA D/S OF HAORA RIVER, TRIPURA</td>\n      <td>NAN</td>\n      <td>29.0</td>\n      <td>7.6</td>\n      <td>110.0</td>\n      <td>5.7</td>\n      <td>1.1</td>\n      <td>NaN</td>\n      <td>NaN</td>\n      <td>546.0</td>\n      <td>2003</td>\n    </tr>\n  </tbody>\n</table>\n<p>1991 rows × 12 columns</p>\n</div>"
     },
     "execution_count": 20,
     "metadata": {},
     "output_type": "execute_result"
    }
   ],
   "source": [
    "df"
   ],
   "metadata": {
    "collapsed": false,
    "pycharm": {
     "name": "#%%\n"
    }
   }
  },
  {
   "cell_type": "markdown",
   "source": [
    "Checking missing values"
   ],
   "metadata": {
    "collapsed": false,
    "pycharm": {
     "name": "#%% md\n"
    }
   }
  },
  {
   "cell_type": "code",
   "execution_count": 21,
   "outputs": [
    {
     "data": {
      "text/plain": "<AxesSubplot:>"
     },
     "execution_count": 21,
     "metadata": {},
     "output_type": "execute_result"
    },
    {
     "data": {
      "text/plain": "<Figure size 1800x720 with 2 Axes>",
      "image/png": "[encoded data removed]"
     },
     "metadata": {},
     "output_type": "display_data"
    }
   ],
   "source": [
    "msno.matrix(df)"
   ],
   "metadata": {
    "collapsed": false,
    "pycharm": {
     "name": "#%%\n"
    }
   }
  },
  {
   "cell_type": "code",
   "execution_count": 22,
   "outputs": [
    {
     "data": {
      "text/plain": "      station                                           location        state  \\\n0      1393.0               DAMANGANGA AT D/S OF MADHUBAN, DAMAN  DAMAN & DIU   \n1      1399.0  ZUARI AT D/S OF PT. WHERE KUMBARJRIA CANAL JOI...          GOA   \n2      1475.0                                ZUARI AT PANCHAWADI          GOA   \n3      3181.0                        RIVER ZUARI AT BORIM BRIDGE          GOA   \n4      3182.0                       RIVER ZUARI AT MARCAIM JETTY          GOA   \n...       ...                                                ...          ...   \n1986   1330.0            TAMBIRAPARANI AT ARUMUGANERI, TAMILNADU          NAN   \n1987   1450.0  PALAR AT VANIYAMBADI WATER SUPPLY HEAD WORK, T...          NAN   \n1988   1403.0                 GUMTI AT U/S SOUTH TRIPURA,TRIPURA          NAN   \n1989   1404.0                GUMTI AT D/S SOUTH TRIPURA, TRIPURA          NAN   \n1990   1726.0   CHANDRAPUR, AGARTALA D/S OF HAORA RIVER, TRIPURA          NAN   \n\n      Temp   do     ph  conductivity  BOD     nn  fecal_coliform  \\\n0     30.6  6.7    7.5         203.0  NaN  0.100          11.000   \n1     29.8  5.7    7.2         189.0  2.0  0.200        4953.000   \n2     29.5  6.3    6.9         179.0  1.7  0.100        3243.000   \n3     29.7  5.8    6.9          64.0  3.8  0.500        5382.000   \n4     29.5  5.8    7.3          83.0  1.9  0.400        3428.000   \n...    ...  ...    ...           ...  ...    ...             ...   \n1986   NaN  7.9  738.0           7.2  2.7  0.518           0.518   \n1987  29.0  7.5  585.0           6.3  2.6  0.155           0.155   \n1988  28.0  7.6   98.0           6.2  1.2    NaN             NaN   \n1989  28.0  7.7   91.0           6.5  1.3    NaN             NaN   \n1990  29.0  7.6  110.0           5.7  1.1    NaN             NaN   \n\n      total_coliform_mean  year  \n0                    27.0  2014  \n1                  8391.0  2014  \n2                  5330.0  2014  \n3                  8443.0  2014  \n4                  5500.0  2014  \n...                   ...   ...  \n1986                202.0  2003  \n1987                315.0  2003  \n1988                570.0  2003  \n1989                562.0  2003  \n1990                546.0  2003  \n\n[1991 rows x 12 columns]",
      "text/html": "<div>\n<style scoped>\n    .dataframe tbody tr th:only-of-type {\n        vertical-align: middle;\n    }\n\n    .dataframe tbody tr th {\n        vertical-align: top;\n    }\n\n    .dataframe thead th {\n        text-align: right;\n    }\n</style>\n<table border=\"1\" class=\"dataframe\">\n  <thead>\n    <tr style=\"text-align: right;\">\n      <th></th>\n      <th>station</th>\n      <th>location</th>\n      <th>state</th>\n      <th>Temp</th>\n      <th>do</th>\n      <th>ph</th>\n      <th>conductivity</th>\n      <th>BOD</th>\n      <th>nn</th>\n      <th>fecal_coliform</th>\n      <th>total_coliform_mean</th>\n      <th>year</th>\n    </tr>\n  </thead>\n  <tbody>\n    <tr>\n      <th>0</th>\n      <td>1393.0</td>\n      <td>DAMANGANGA AT D/S OF MADHUBAN, DAMAN</td>\n      <td>DAMAN &amp; DIU</td>\n      <td>30.6</td>\n      <td>6.7</td>\n      <td>7.5</td>\n      <td>203.0</td>\n      <td>NaN</td>\n      <td>0.100</td>\n      <td>11.000</td>\n      <td>27.0</td>\n      <td>2014</td>\n    </tr>\n    <tr>\n      <th>1</th>\n      <td>1399.0</td>\n      <td>ZUARI AT D/S OF PT. WHERE KUMBARJRIA CANAL JOI...</td>\n      <td>GOA</td>\n      <td>29.8</td>\n      <td>5.7</td>\n      <td>7.2</td>\n      <td>189.0</td>\n      <td>2.0</td>\n      <td>0.200</td>\n      <td>4953.000</td>\n      <td>8391.0</td>\n      <td>2014</td>\n    </tr>\n    <tr>\n      <th>2</th>\n      <td>1475.0</td>\n      <td>ZUARI AT PANCHAWADI</td>\n      <td>GOA</td>\n      <td>29.5</td>\n      <td>6.3</td>\n      <td>6.9</td>\n      <td>179.0</td>\n      <td>1.7</td>\n      <td>0.100</td>\n      <td>3243.000</td>\n      <td>5330.0</td>\n      <td>2014</td>\n    </tr>\n    <tr>\n      <th>3</th>\n      <td>3181.0</td>\n      <td>RIVER ZUARI AT BORIM BRIDGE</td>\n      <td>GOA</td>\n      <td>29.7</td>\n      <td>5.8</td>\n      <td>6.9</td>\n      <td>64.0</td>\n      <td>3.8</td>\n      <td>0.500</td>\n      <td>5382.000</td>\n      <td>8443.0</td>\n      <td>2014</td>\n    </tr>\n    <tr>\n      <th>4</th>\n      <td>3182.0</td>\n      <td>RIVER ZUARI AT MARCAIM JETTY</td>\n      <td>GOA</td>\n      <td>29.5</td>\n      <td>5.8</td>\n      <td>7.3</td>\n      <td>83.0</td>\n      <td>1.9</td>\n      <td>0.400</td>\n      <td>3428.000</td>\n      <td>5500.0</td>\n      <td>2014</td>\n    </tr>\n    <tr>\n      <th>...</th>\n      <td>...</td>\n      <td>...</td>\n      <td>...</td>\n      <td>...</td>\n      <td>...</td>\n      <td>...</td>\n      <td>...</td>\n      <td>...</td>\n      <td>...</td>\n      <td>...</td>\n      <td>...</td>\n      <td>...</td>\n    </tr>\n    <tr>\n      <th>1986</th>\n      <td>1330.0</td>\n      <td>TAMBIRAPARANI AT ARUMUGANERI, TAMILNADU</td>\n      <td>NAN</td>\n      <td>NaN</td>\n      <td>7.9</td>\n      <td>738.0</td>\n      <td>7.2</td>\n      <td>2.7</td>\n      <td>0.518</td>\n      <td>0.518</td>\n      <td>202.0</td>\n      <td>2003</td>\n    </tr>\n    <tr>\n      <th>1987</th>\n      <td>1450.0</td>\n      <td>PALAR AT VANIYAMBADI WATER SUPPLY HEAD WORK, T...</td>\n      <td>NAN</td>\n      <td>29.0</td>\n      <td>7.5</td>\n      <td>585.0</td>\n      <td>6.3</td>\n      <td>2.6</td>\n      <td>0.155</td>\n      <td>0.155</td>\n      <td>315.0</td>\n      <td>2003</td>\n    </tr>\n    <tr>\n      <th>1988</th>\n      <td>1403.0</td>\n      <td>GUMTI AT U/S SOUTH TRIPURA,TRIPURA</td>\n      <td>NAN</td>\n      <td>28.0</td>\n      <td>7.6</td>\n      <td>98.0</td>\n      <td>6.2</td>\n      <td>1.2</td>\n      <td>NaN</td>\n      <td>NaN</td>\n      <td>570.0</td>\n      <td>2003</td>\n    </tr>\n    <tr>\n      <th>1989</th>\n      <td>1404.0</td>\n      <td>GUMTI AT D/S SOUTH TRIPURA, TRIPURA</td>\n      <td>NAN</td>\n      <td>28.0</td>\n      <td>7.7</td>\n      <td>91.0</td>\n      <td>6.5</td>\n      <td>1.3</td>\n      <td>NaN</td>\n      <td>NaN</td>\n      <td>562.0</td>\n      <td>2003</td>\n    </tr>\n    <tr>\n      <th>1990</th>\n      <td>1726.0</td>\n      <td>CHANDRAPUR, AGARTALA D/S OF HAORA RIVER, TRIPURA</td>\n      <td>NAN</td>\n      <td>29.0</td>\n      <td>7.6</td>\n      <td>110.0</td>\n      <td>5.7</td>\n      <td>1.1</td>\n      <td>NaN</td>\n      <td>NaN</td>\n      <td>546.0</td>\n      <td>2003</td>\n    </tr>\n  </tbody>\n</table>\n<p>1991 rows × 12 columns</p>\n</div>"
     },
     "execution_count": 22,
     "metadata": {},
     "output_type": "execute_result"
    }
   ],
   "source": [
    "df"
   ],
   "metadata": {
    "collapsed": false,
    "pycharm": {
     "name": "#%%\n"
    }
   }
  },
  {
   "cell_type": "code",
   "execution_count": 23,
   "outputs": [
    {
     "name": "stdout",
     "output_type": "stream",
     "text": [
      "320\n",
      "203\n"
     ]
    }
   ],
   "source": [
    "print(df.station.nunique())\n",
    "print(df.state.nunique())"
   ],
   "metadata": {
    "collapsed": false,
    "pycharm": {
     "name": "#%%\n"
    }
   }
  },
  {
   "cell_type": "markdown",
   "source": [
    "# WQI calculation"
   ],
   "metadata": {
    "collapsed": false,
    "pycharm": {
     "name": "#%% md\n"
    }
   }
  },
  {
   "cell_type": "markdown",
   "source": [
    "## Rating calculation"
   ],
   "metadata": {
    "collapsed": false,
    "pycharm": {
     "name": "#%% md\n"
    }
   }
  },
  {
   "cell_type": "markdown",
   "source": [
    "The recommended values (Si) of all the parameters"
   ],
   "metadata": {
    "collapsed": false,
    "pycharm": {
     "name": "#%% md\n"
    }
   }
  },
  {
   "cell_type": "code",
   "execution_count": 24,
   "outputs": [],
   "source": [
    "do_s = 10\n",
    "ph_s = 8.5\n",
    "conductivity_s = 1000\n",
    "bod_s = 5\n",
    "nitrate_s = 45\n",
    "fecal_coliform_s = 100\n",
    "total_coliform_s = 1000"
   ],
   "metadata": {
    "collapsed": false,
    "pycharm": {
     "name": "#%%\n"
    }
   }
  },
  {
   "cell_type": "code",
   "execution_count": 25,
   "outputs": [],
   "source": [
    "df_qi = pd.DataFrame()"
   ],
   "metadata": {
    "collapsed": false,
    "pycharm": {
     "name": "#%%\n"
    }
   }
  },
  {
   "cell_type": "code",
   "execution_count": 26,
   "outputs": [],
   "source": [
    "df_qi['qi_conductivity']=100*df['conductivity']/(conductivity_s)\n",
    "df_qi['qi_do']=100*(df['do']-14.6)/(do_s-14.6)\n",
    "df_qi['qi_ph']=100*(df['ph']-7)/(ph_s-7)\n",
    "df_qi['qi_bod']=100*(df['BOD'])/(bod_s)\n",
    "df_qi['qi_nn']=100*(df['nn'])/(nitrate_s)\n",
    "df_qi['qi_fecal_coliform']=100*(df['fecal_coliform'])/(fecal_coliform_s)\n",
    "df_qi['qi_total_coliform_mean']=100*(df['total_coliform_mean'])/(total_coliform_s)"
   ],
   "metadata": {
    "collapsed": false,
    "pycharm": {
     "name": "#%%\n"
    }
   }
  },
  {
   "cell_type": "code",
   "execution_count": 27,
   "outputs": [
    {
     "data": {
      "text/plain": "      qi_conductivity       qi_do         qi_ph  qi_bod     qi_nn  \\\n0               20.30  171.739130     33.333333     NaN  0.222222   \n1               18.90  193.478261     13.333333    40.0  0.444444   \n2               17.90  180.434783     -6.666667    34.0  0.222222   \n3                6.40  191.304348     -6.666667    76.0  1.111111   \n4                8.30  191.304348     20.000000    38.0  0.888889   \n...               ...         ...           ...     ...       ...   \n1986             0.72  145.652174  48733.333333    54.0  1.151111   \n1987             0.63  154.347826  38533.333333    52.0  0.344444   \n1988             0.62  152.173913   6066.666667    24.0       NaN   \n1989             0.65  150.000000   5600.000000    26.0       NaN   \n1990             0.57  152.173913   6866.666667    22.0       NaN   \n\n      qi_fecal_coliform  qi_total_coliform_mean  \n0                11.000                     2.7  \n1              4953.000                   839.1  \n2              3243.000                   533.0  \n3              5382.000                   844.3  \n4              3428.000                   550.0  \n...                 ...                     ...  \n1986              0.518                    20.2  \n1987              0.155                    31.5  \n1988                NaN                    57.0  \n1989                NaN                    56.2  \n1990                NaN                    54.6  \n\n[1991 rows x 7 columns]",
      "text/html": "<div>\n<style scoped>\n    .dataframe tbody tr th:only-of-type {\n        vertical-align: middle;\n    }\n\n    .dataframe tbody tr th {\n        vertical-align: top;\n    }\n\n    .dataframe thead th {\n        text-align: right;\n    }\n</style>\n<table border=\"1\" class=\"dataframe\">\n  <thead>\n    <tr style=\"text-align: right;\">\n      <th></th>\n      <th>qi_conductivity</th>\n      <th>qi_do</th>\n      <th>qi_ph</th>\n      <th>qi_bod</th>\n      <th>qi_nn</th>\n      <th>qi_fecal_coliform</th>\n      <th>qi_total_coliform_mean</th>\n    </tr>\n  </thead>\n  <tbody>\n    <tr>\n      <th>0</th>\n      <td>20.30</td>\n      <td>171.739130</td>\n      <td>33.333333</td>\n      <td>NaN</td>\n      <td>0.222222</td>\n      <td>11.000</td>\n      <td>2.7</td>\n    </tr>\n    <tr>\n      <th>1</th>\n      <td>18.90</td>\n      <td>193.478261</td>\n      <td>13.333333</td>\n      <td>40.0</td>\n      <td>0.444444</td>\n      <td>4953.000</td>\n      <td>839.1</td>\n    </tr>\n    <tr>\n      <th>2</th>\n      <td>17.90</td>\n      <td>180.434783</td>\n      <td>-6.666667</td>\n      <td>34.0</td>\n      <td>0.222222</td>\n      <td>3243.000</td>\n      <td>533.0</td>\n    </tr>\n    <tr>\n      <th>3</th>\n      <td>6.40</td>\n      <td>191.304348</td>\n      <td>-6.666667</td>\n      <td>76.0</td>\n      <td>1.111111</td>\n      <td>5382.000</td>\n      <td>844.3</td>\n    </tr>\n    <tr>\n      <th>4</th>\n      <td>8.30</td>\n      <td>191.304348</td>\n      <td>20.000000</td>\n      <td>38.0</td>\n      <td>0.888889</td>\n      <td>3428.000</td>\n      <td>550.0</td>\n    </tr>\n    <tr>\n      <th>...</th>\n      <td>...</td>\n      <td>...</td>\n      <td>...</td>\n      <td>...</td>\n      <td>...</td>\n      <td>...</td>\n      <td>...</td>\n    </tr>\n    <tr>\n      <th>1986</th>\n      <td>0.72</td>\n      <td>145.652174</td>\n      <td>48733.333333</td>\n      <td>54.0</td>\n      <td>1.151111</td>\n      <td>0.518</td>\n      <td>20.2</td>\n    </tr>\n    <tr>\n      <th>1987</th>\n      <td>0.63</td>\n      <td>154.347826</td>\n      <td>38533.333333</td>\n      <td>52.0</td>\n      <td>0.344444</td>\n      <td>0.155</td>\n      <td>31.5</td>\n    </tr>\n    <tr>\n      <th>1988</th>\n      <td>0.62</td>\n      <td>152.173913</td>\n      <td>6066.666667</td>\n      <td>24.0</td>\n      <td>NaN</td>\n      <td>NaN</td>\n      <td>57.0</td>\n    </tr>\n    <tr>\n      <th>1989</th>\n      <td>0.65</td>\n      <td>150.000000</td>\n      <td>5600.000000</td>\n      <td>26.0</td>\n      <td>NaN</td>\n      <td>NaN</td>\n      <td>56.2</td>\n    </tr>\n    <tr>\n      <th>1990</th>\n      <td>0.57</td>\n      <td>152.173913</td>\n      <td>6866.666667</td>\n      <td>22.0</td>\n      <td>NaN</td>\n      <td>NaN</td>\n      <td>54.6</td>\n    </tr>\n  </tbody>\n</table>\n<p>1991 rows × 7 columns</p>\n</div>"
     },
     "execution_count": 27,
     "metadata": {},
     "output_type": "execute_result"
    }
   ],
   "source": [
    "df_qi"
   ],
   "metadata": {
    "collapsed": false,
    "pycharm": {
     "name": "#%%\n"
    }
   }
  },
  {
   "cell_type": "code",
   "execution_count": 28,
   "outputs": [
    {
     "data": {
      "text/plain": "      station                                           location        state  \\\n0      1393.0               DAMANGANGA AT D/S OF MADHUBAN, DAMAN  DAMAN & DIU   \n1      1399.0  ZUARI AT D/S OF PT. WHERE KUMBARJRIA CANAL JOI...          GOA   \n2      1475.0                                ZUARI AT PANCHAWADI          GOA   \n3      3181.0                        RIVER ZUARI AT BORIM BRIDGE          GOA   \n4      3182.0                       RIVER ZUARI AT MARCAIM JETTY          GOA   \n...       ...                                                ...          ...   \n1986   1330.0            TAMBIRAPARANI AT ARUMUGANERI, TAMILNADU          NAN   \n1987   1450.0  PALAR AT VANIYAMBADI WATER SUPPLY HEAD WORK, T...          NAN   \n1988   1403.0                 GUMTI AT U/S SOUTH TRIPURA,TRIPURA          NAN   \n1989   1404.0                GUMTI AT D/S SOUTH TRIPURA, TRIPURA          NAN   \n1990   1726.0   CHANDRAPUR, AGARTALA D/S OF HAORA RIVER, TRIPURA          NAN   \n\n      Temp   do     ph  conductivity  BOD     nn  fecal_coliform  \\\n0     30.6  6.7    7.5         203.0  NaN  0.100          11.000   \n1     29.8  5.7    7.2         189.0  2.0  0.200        4953.000   \n2     29.5  6.3    6.9         179.0  1.7  0.100        3243.000   \n3     29.7  5.8    6.9          64.0  3.8  0.500        5382.000   \n4     29.5  5.8    7.3          83.0  1.9  0.400        3428.000   \n...    ...  ...    ...           ...  ...    ...             ...   \n1986   NaN  7.9  738.0           7.2  2.7  0.518           0.518   \n1987  29.0  7.5  585.0           6.3  2.6  0.155           0.155   \n1988  28.0  7.6   98.0           6.2  1.2    NaN             NaN   \n1989  28.0  7.7   91.0           6.5  1.3    NaN             NaN   \n1990  29.0  7.6  110.0           5.7  1.1    NaN             NaN   \n\n      total_coliform_mean  year  \n0                    27.0  2014  \n1                  8391.0  2014  \n2                  5330.0  2014  \n3                  8443.0  2014  \n4                  5500.0  2014  \n...                   ...   ...  \n1986                202.0  2003  \n1987                315.0  2003  \n1988                570.0  2003  \n1989                562.0  2003  \n1990                546.0  2003  \n\n[1991 rows x 12 columns]",
      "text/html": "<div>\n<style scoped>\n    .dataframe tbody tr th:only-of-type {\n        vertical-align: middle;\n    }\n\n    .dataframe tbody tr th {\n        vertical-align: top;\n    }\n\n    .dataframe thead th {\n        text-align: right;\n    }\n</style>\n<table border=\"1\" class=\"dataframe\">\n  <thead>\n    <tr style=\"text-align: right;\">\n      <th></th>\n      <th>station</th>\n      <th>location</th>\n      <th>state</th>\n      <th>Temp</th>\n      <th>do</th>\n      <th>ph</th>\n      <th>conductivity</th>\n      <th>BOD</th>\n      <th>nn</th>\n      <th>fecal_coliform</th>\n      <th>total_coliform_mean</th>\n      <th>year</th>\n    </tr>\n  </thead>\n  <tbody>\n    <tr>\n      <th>0</th>\n      <td>1393.0</td>\n      <td>DAMANGANGA AT D/S OF MADHUBAN, DAMAN</td>\n      <td>DAMAN &amp; DIU</td>\n      <td>30.6</td>\n      <td>6.7</td>\n      <td>7.5</td>\n      <td>203.0</td>\n      <td>NaN</td>\n      <td>0.100</td>\n      <td>11.000</td>\n      <td>27.0</td>\n      <td>2014</td>\n    </tr>\n    <tr>\n      <th>1</th>\n      <td>1399.0</td>\n      <td>ZUARI AT D/S OF PT. WHERE KUMBARJRIA CANAL JOI...</td>\n      <td>GOA</td>\n      <td>29.8</td>\n      <td>5.7</td>\n      <td>7.2</td>\n      <td>189.0</td>\n      <td>2.0</td>\n      <td>0.200</td>\n      <td>4953.000</td>\n      <td>8391.0</td>\n      <td>2014</td>\n    </tr>\n    <tr>\n      <th>2</th>\n      <td>1475.0</td>\n      <td>ZUARI AT PANCHAWADI</td>\n      <td>GOA</td>\n      <td>29.5</td>\n      <td>6.3</td>\n      <td>6.9</td>\n      <td>179.0</td>\n      <td>1.7</td>\n      <td>0.100</td>\n      <td>3243.000</td>\n      <td>5330.0</td>\n      <td>2014</td>\n    </tr>\n    <tr>\n      <th>3</th>\n      <td>3181.0</td>\n      <td>RIVER ZUARI AT BORIM BRIDGE</td>\n      <td>GOA</td>\n      <td>29.7</td>\n      <td>5.8</td>\n      <td>6.9</td>\n      <td>64.0</td>\n      <td>3.8</td>\n      <td>0.500</td>\n      <td>5382.000</td>\n      <td>8443.0</td>\n      <td>2014</td>\n    </tr>\n    <tr>\n      <th>4</th>\n      <td>3182.0</td>\n      <td>RIVER ZUARI AT MARCAIM JETTY</td>\n      <td>GOA</td>\n      <td>29.5</td>\n      <td>5.8</td>\n      <td>7.3</td>\n      <td>83.0</td>\n      <td>1.9</td>\n      <td>0.400</td>\n      <td>3428.000</td>\n      <td>5500.0</td>\n      <td>2014</td>\n    </tr>\n    <tr>\n      <th>...</th>\n      <td>...</td>\n      <td>...</td>\n      <td>...</td>\n      <td>...</td>\n      <td>...</td>\n      <td>...</td>\n      <td>...</td>\n      <td>...</td>\n      <td>...</td>\n      <td>...</td>\n      <td>...</td>\n      <td>...</td>\n    </tr>\n    <tr>\n      <th>1986</th>\n      <td>1330.0</td>\n      <td>TAMBIRAPARANI AT ARUMUGANERI, TAMILNADU</td>\n      <td>NAN</td>\n      <td>NaN</td>\n      <td>7.9</td>\n      <td>738.0</td>\n      <td>7.2</td>\n      <td>2.7</td>\n      <td>0.518</td>\n      <td>0.518</td>\n      <td>202.0</td>\n      <td>2003</td>\n    </tr>\n    <tr>\n      <th>1987</th>\n      <td>1450.0</td>\n      <td>PALAR AT VANIYAMBADI WATER SUPPLY HEAD WORK, T...</td>\n      <td>NAN</td>\n      <td>29.0</td>\n      <td>7.5</td>\n      <td>585.0</td>\n      <td>6.3</td>\n      <td>2.6</td>\n      <td>0.155</td>\n      <td>0.155</td>\n      <td>315.0</td>\n      <td>2003</td>\n    </tr>\n    <tr>\n      <th>1988</th>\n      <td>1403.0</td>\n      <td>GUMTI AT U/S SOUTH TRIPURA,TRIPURA</td>\n      <td>NAN</td>\n      <td>28.0</td>\n      <td>7.6</td>\n      <td>98.0</td>\n      <td>6.2</td>\n      <td>1.2</td>\n      <td>NaN</td>\n      <td>NaN</td>\n      <td>570.0</td>\n      <td>2003</td>\n    </tr>\n    <tr>\n      <th>1989</th>\n      <td>1404.0</td>\n      <td>GUMTI AT D/S SOUTH TRIPURA, TRIPURA</td>\n      <td>NAN</td>\n      <td>28.0</td>\n      <td>7.7</td>\n      <td>91.0</td>\n      <td>6.5</td>\n      <td>1.3</td>\n      <td>NaN</td>\n      <td>NaN</td>\n      <td>562.0</td>\n      <td>2003</td>\n    </tr>\n    <tr>\n      <th>1990</th>\n      <td>1726.0</td>\n      <td>CHANDRAPUR, AGARTALA D/S OF HAORA RIVER, TRIPURA</td>\n      <td>NAN</td>\n      <td>29.0</td>\n      <td>7.6</td>\n      <td>110.0</td>\n      <td>5.7</td>\n      <td>1.1</td>\n      <td>NaN</td>\n      <td>NaN</td>\n      <td>546.0</td>\n      <td>2003</td>\n    </tr>\n  </tbody>\n</table>\n<p>1991 rows × 12 columns</p>\n</div>"
     },
     "execution_count": 28,
     "metadata": {},
     "output_type": "execute_result"
    }
   ],
   "source": [
    "df"
   ],
   "metadata": {
    "collapsed": false,
    "pycharm": {
     "name": "#%%\n"
    }
   }
  },
  {
   "cell_type": "markdown",
   "source": [
    "Parameter weights"
   ],
   "metadata": {
    "collapsed": false,
    "pycharm": {
     "name": "#%% md\n"
    }
   }
  },
  {
   "cell_type": "code",
   "execution_count": 29,
   "outputs": [],
   "source": [
    "do_w = 0.2213\n",
    "ph_w = 0.2604\n",
    "conductivity_w = 0.0022\n",
    "bod_w = 0.4426\n",
    "n_w = 0.0492\n",
    "fecal_coliform_w = 0.0221\n",
    "total_coliform_w = 0.0022\n",
    "w_total =  1"
   ],
   "metadata": {
    "collapsed": false,
    "pycharm": {
     "name": "#%%\n"
    }
   }
  },
  {
   "cell_type": "code",
   "execution_count": 30,
   "outputs": [],
   "source": [
    "df2 = pd.concat([df,df_qi],axis=1)"
   ],
   "metadata": {
    "collapsed": false,
    "pycharm": {
     "name": "#%%\n"
    }
   }
  },
  {
   "cell_type": "code",
   "execution_count": 31,
   "outputs": [
    {
     "data": {
      "text/plain": "      station                                           location        state  \\\n0      1393.0               DAMANGANGA AT D/S OF MADHUBAN, DAMAN  DAMAN & DIU   \n1      1399.0  ZUARI AT D/S OF PT. WHERE KUMBARJRIA CANAL JOI...          GOA   \n2      1475.0                                ZUARI AT PANCHAWADI          GOA   \n3      3181.0                        RIVER ZUARI AT BORIM BRIDGE          GOA   \n4      3182.0                       RIVER ZUARI AT MARCAIM JETTY          GOA   \n...       ...                                                ...          ...   \n1986   1330.0            TAMBIRAPARANI AT ARUMUGANERI, TAMILNADU          NAN   \n1987   1450.0  PALAR AT VANIYAMBADI WATER SUPPLY HEAD WORK, T...          NAN   \n1988   1403.0                 GUMTI AT U/S SOUTH TRIPURA,TRIPURA          NAN   \n1989   1404.0                GUMTI AT D/S SOUTH TRIPURA, TRIPURA          NAN   \n1990   1726.0   CHANDRAPUR, AGARTALA D/S OF HAORA RIVER, TRIPURA          NAN   \n\n      Temp   do     ph  conductivity  BOD     nn  fecal_coliform  \\\n0     30.6  6.7    7.5         203.0  NaN  0.100          11.000   \n1     29.8  5.7    7.2         189.0  2.0  0.200        4953.000   \n2     29.5  6.3    6.9         179.0  1.7  0.100        3243.000   \n3     29.7  5.8    6.9          64.0  3.8  0.500        5382.000   \n4     29.5  5.8    7.3          83.0  1.9  0.400        3428.000   \n...    ...  ...    ...           ...  ...    ...             ...   \n1986   NaN  7.9  738.0           7.2  2.7  0.518           0.518   \n1987  29.0  7.5  585.0           6.3  2.6  0.155           0.155   \n1988  28.0  7.6   98.0           6.2  1.2    NaN             NaN   \n1989  28.0  7.7   91.0           6.5  1.3    NaN             NaN   \n1990  29.0  7.6  110.0           5.7  1.1    NaN             NaN   \n\n      total_coliform_mean  year  qi_conductivity       qi_do         qi_ph  \\\n0                    27.0  2014            20.30  171.739130     33.333333   \n1                  8391.0  2014            18.90  193.478261     13.333333   \n2                  5330.0  2014            17.90  180.434783     -6.666667   \n3                  8443.0  2014             6.40  191.304348     -6.666667   \n4                  5500.0  2014             8.30  191.304348     20.000000   \n...                   ...   ...              ...         ...           ...   \n1986                202.0  2003             0.72  145.652174  48733.333333   \n1987                315.0  2003             0.63  154.347826  38533.333333   \n1988                570.0  2003             0.62  152.173913   6066.666667   \n1989                562.0  2003             0.65  150.000000   5600.000000   \n1990                546.0  2003             0.57  152.173913   6866.666667   \n\n      qi_bod     qi_nn  qi_fecal_coliform  qi_total_coliform_mean  \n0        NaN  0.222222             11.000                     2.7  \n1       40.0  0.444444           4953.000                   839.1  \n2       34.0  0.222222           3243.000                   533.0  \n3       76.0  1.111111           5382.000                   844.3  \n4       38.0  0.888889           3428.000                   550.0  \n...      ...       ...                ...                     ...  \n1986    54.0  1.151111              0.518                    20.2  \n1987    52.0  0.344444              0.155                    31.5  \n1988    24.0       NaN                NaN                    57.0  \n1989    26.0       NaN                NaN                    56.2  \n1990    22.0       NaN                NaN                    54.6  \n\n[1991 rows x 19 columns]",
      "text/html": "<div>\n<style scoped>\n    .dataframe tbody tr th:only-of-type {\n        vertical-align: middle;\n    }\n\n    .dataframe tbody tr th {\n        vertical-align: top;\n    }\n\n    .dataframe thead th {\n        text-align: right;\n    }\n</style>\n<table border=\"1\" class=\"dataframe\">\n  <thead>\n    <tr style=\"text-align: right;\">\n      <th></th>\n      <th>station</th>\n      <th>location</th>\n      <th>state</th>\n      <th>Temp</th>\n      <th>do</th>\n      <th>ph</th>\n      <th>conductivity</th>\n      <th>BOD</th>\n      <th>nn</th>\n      <th>fecal_coliform</th>\n      <th>total_coliform_mean</th>\n      <th>year</th>\n      <th>qi_conductivity</th>\n      <th>qi_do</th>\n      <th>qi_ph</th>\n      <th>qi_bod</th>\n      <th>qi_nn</th>\n      <th>qi_fecal_coliform</th>\n      <th>qi_total_coliform_mean</th>\n    </tr>\n  </thead>\n  <tbody>\n    <tr>\n      <th>0</th>\n      <td>1393.0</td>\n      <td>DAMANGANGA AT D/S OF MADHUBAN, DAMAN</td>\n      <td>DAMAN &amp; DIU</td>\n      <td>30.6</td>\n      <td>6.7</td>\n      <td>7.5</td>\n      <td>203.0</td>\n      <td>NaN</td>\n      <td>0.100</td>\n      <td>11.000</td>\n      <td>27.0</td>\n      <td>2014</td>\n      <td>20.30</td>\n      <td>171.739130</td>\n      <td>33.333333</td>\n      <td>NaN</td>\n      <td>0.222222</td>\n      <td>11.000</td>\n      <td>2.7</td>\n    </tr>\n    <tr>\n      <th>1</th>\n      <td>1399.0</td>\n      <td>ZUARI AT D/S OF PT. WHERE KUMBARJRIA CANAL JOI...</td>\n      <td>GOA</td>\n      <td>29.8</td>\n      <td>5.7</td>\n      <td>7.2</td>\n      <td>189.0</td>\n      <td>2.0</td>\n      <td>0.200</td>\n      <td>4953.000</td>\n      <td>8391.0</td>\n      <td>2014</td>\n      <td>18.90</td>\n      <td>193.478261</td>\n      <td>13.333333</td>\n      <td>40.0</td>\n      <td>0.444444</td>\n      <td>4953.000</td>\n      <td>839.1</td>\n    </tr>\n    <tr>\n      <th>2</th>\n      <td>1475.0</td>\n      <td>ZUARI AT PANCHAWADI</td>\n      <td>GOA</td>\n      <td>29.5</td>\n      <td>6.3</td>\n      <td>6.9</td>\n      <td>179.0</td>\n      <td>1.7</td>\n      <td>0.100</td>\n      <td>3243.000</td>\n      <td>5330.0</td>\n      <td>2014</td>\n      <td>17.90</td>\n      <td>180.434783</td>\n      <td>-6.666667</td>\n      <td>34.0</td>\n      <td>0.222222</td>\n      <td>3243.000</td>\n      <td>533.0</td>\n    </tr>\n    <tr>\n      <th>3</th>\n      <td>3181.0</td>\n      <td>RIVER ZUARI AT BORIM BRIDGE</td>\n      <td>GOA</td>\n      <td>29.7</td>\n      <td>5.8</td>\n      <td>6.9</td>\n      <td>64.0</td>\n      <td>3.8</td>\n      <td>0.500</td>\n      <td>5382.000</td>\n      <td>8443.0</td>\n      <td>2014</td>\n      <td>6.40</td>\n      <td>191.304348</td>\n      <td>-6.666667</td>\n      <td>76.0</td>\n      <td>1.111111</td>\n      <td>5382.000</td>\n      <td>844.3</td>\n    </tr>\n    <tr>\n      <th>4</th>\n      <td>3182.0</td>\n      <td>RIVER ZUARI AT MARCAIM JETTY</td>\n      <td>GOA</td>\n      <td>29.5</td>\n      <td>5.8</td>\n      <td>7.3</td>\n      <td>83.0</td>\n      <td>1.9</td>\n      <td>0.400</td>\n      <td>3428.000</td>\n      <td>5500.0</td>\n      <td>2014</td>\n      <td>8.30</td>\n      <td>191.304348</td>\n      <td>20.000000</td>\n      <td>38.0</td>\n      <td>0.888889</td>\n      <td>3428.000</td>\n      <td>550.0</td>\n    </tr>\n    <tr>\n      <th>...</th>\n      <td>...</td>\n      <td>...</td>\n      <td>...</td>\n      <td>...</td>\n      <td>...</td>\n      <td>...</td>\n      <td>...</td>\n      <td>...</td>\n      <td>...</td>\n      <td>...</td>\n      <td>...</td>\n      <td>...</td>\n      <td>...</td>\n      <td>...</td>\n      <td>...</td>\n      <td>...</td>\n      <td>...</td>\n      <td>...</td>\n      <td>...</td>\n    </tr>\n    <tr>\n      <th>1986</th>\n      <td>1330.0</td>\n      <td>TAMBIRAPARANI AT ARUMUGANERI, TAMILNADU</td>\n      <td>NAN</td>\n      <td>NaN</td>\n      <td>7.9</td>\n      <td>738.0</td>\n      <td>7.2</td>\n      <td>2.7</td>\n      <td>0.518</td>\n      <td>0.518</td>\n      <td>202.0</td>\n      <td>2003</td>\n      <td>0.72</td>\n      <td>145.652174</td>\n      <td>48733.333333</td>\n      <td>54.0</td>\n      <td>1.151111</td>\n      <td>0.518</td>\n      <td>20.2</td>\n    </tr>\n    <tr>\n      <th>1987</th>\n      <td>1450.0</td>\n      <td>PALAR AT VANIYAMBADI WATER SUPPLY HEAD WORK, T...</td>\n      <td>NAN</td>\n      <td>29.0</td>\n      <td>7.5</td>\n      <td>585.0</td>\n      <td>6.3</td>\n      <td>2.6</td>\n      <td>0.155</td>\n      <td>0.155</td>\n      <td>315.0</td>\n      <td>2003</td>\n      <td>0.63</td>\n      <td>154.347826</td>\n      <td>38533.333333</td>\n      <td>52.0</td>\n      <td>0.344444</td>\n      <td>0.155</td>\n      <td>31.5</td>\n    </tr>\n    <tr>\n      <th>1988</th>\n      <td>1403.0</td>\n      <td>GUMTI AT U/S SOUTH TRIPURA,TRIPURA</td>\n      <td>NAN</td>\n      <td>28.0</td>\n      <td>7.6</td>\n      <td>98.0</td>\n      <td>6.2</td>\n      <td>1.2</td>\n      <td>NaN</td>\n      <td>NaN</td>\n      <td>570.0</td>\n      <td>2003</td>\n      <td>0.62</td>\n      <td>152.173913</td>\n      <td>6066.666667</td>\n      <td>24.0</td>\n      <td>NaN</td>\n      <td>NaN</td>\n      <td>57.0</td>\n    </tr>\n    <tr>\n      <th>1989</th>\n      <td>1404.0</td>\n      <td>GUMTI AT D/S SOUTH TRIPURA, TRIPURA</td>\n      <td>NAN</td>\n      <td>28.0</td>\n      <td>7.7</td>\n      <td>91.0</td>\n      <td>6.5</td>\n      <td>1.3</td>\n      <td>NaN</td>\n      <td>NaN</td>\n      <td>562.0</td>\n      <td>2003</td>\n      <td>0.65</td>\n      <td>150.000000</td>\n      <td>5600.000000</td>\n      <td>26.0</td>\n      <td>NaN</td>\n      <td>NaN</td>\n      <td>56.2</td>\n    </tr>\n    <tr>\n      <th>1990</th>\n      <td>1726.0</td>\n      <td>CHANDRAPUR, AGARTALA D/S OF HAORA RIVER, TRIPURA</td>\n      <td>NAN</td>\n      <td>29.0</td>\n      <td>7.6</td>\n      <td>110.0</td>\n      <td>5.7</td>\n      <td>1.1</td>\n      <td>NaN</td>\n      <td>NaN</td>\n      <td>546.0</td>\n      <td>2003</td>\n      <td>0.57</td>\n      <td>152.173913</td>\n      <td>6866.666667</td>\n      <td>22.0</td>\n      <td>NaN</td>\n      <td>NaN</td>\n      <td>54.6</td>\n    </tr>\n  </tbody>\n</table>\n<p>1991 rows × 19 columns</p>\n</div>"
     },
     "execution_count": 31,
     "metadata": {},
     "output_type": "execute_result"
    }
   ],
   "source": [
    "df2"
   ],
   "metadata": {
    "collapsed": false,
    "pycharm": {
     "name": "#%%\n"
    }
   }
  },
  {
   "cell_type": "code",
   "execution_count": 32,
   "outputs": [],
   "source": [
    "df2['wqi']=df2['qi_conductivity']*conductivity_w+\\\n",
    "           df2['qi_do']*do_w+\\\n",
    "           df2['qi_ph']*ph_w+\\\n",
    "           df2['qi_bod']*bod_w+\\\n",
    "           df2['qi_nn']*n_w+\\\n",
    "           df2['qi_fecal_coliform']*fecal_coliform_w+\\\n",
    "           df2['qi_total_coliform_mean']*total_coliform_w"
   ],
   "metadata": {
    "collapsed": false,
    "pycharm": {
     "name": "#%%\n"
    }
   }
  },
  {
   "cell_type": "code",
   "execution_count": 33,
   "outputs": [
    {
     "data": {
      "text/plain": "      station                                           location        state  \\\n0      1393.0               DAMANGANGA AT D/S OF MADHUBAN, DAMAN  DAMAN & DIU   \n1      1399.0  ZUARI AT D/S OF PT. WHERE KUMBARJRIA CANAL JOI...          GOA   \n2      1475.0                                ZUARI AT PANCHAWADI          GOA   \n3      3181.0                        RIVER ZUARI AT BORIM BRIDGE          GOA   \n4      3182.0                       RIVER ZUARI AT MARCAIM JETTY          GOA   \n...       ...                                                ...          ...   \n1986   1330.0            TAMBIRAPARANI AT ARUMUGANERI, TAMILNADU          NAN   \n1987   1450.0  PALAR AT VANIYAMBADI WATER SUPPLY HEAD WORK, T...          NAN   \n1988   1403.0                 GUMTI AT U/S SOUTH TRIPURA,TRIPURA          NAN   \n1989   1404.0                GUMTI AT D/S SOUTH TRIPURA, TRIPURA          NAN   \n1990   1726.0   CHANDRAPUR, AGARTALA D/S OF HAORA RIVER, TRIPURA          NAN   \n\n      Temp   do     ph  conductivity  BOD     nn  fecal_coliform  \\\n0     30.6  6.7    7.5         203.0  NaN  0.100          11.000   \n1     29.8  5.7    7.2         189.0  2.0  0.200        4953.000   \n2     29.5  6.3    6.9         179.0  1.7  0.100        3243.000   \n3     29.7  5.8    6.9          64.0  3.8  0.500        5382.000   \n4     29.5  5.8    7.3          83.0  1.9  0.400        3428.000   \n...    ...  ...    ...           ...  ...    ...             ...   \n1986   NaN  7.9  738.0           7.2  2.7  0.518           0.518   \n1987  29.0  7.5  585.0           6.3  2.6  0.155           0.155   \n1988  28.0  7.6   98.0           6.2  1.2    NaN             NaN   \n1989  28.0  7.7   91.0           6.5  1.3    NaN             NaN   \n1990  29.0  7.6  110.0           5.7  1.1    NaN             NaN   \n\n      total_coliform_mean  year  qi_conductivity       qi_do         qi_ph  \\\n0                    27.0  2014            20.30  171.739130     33.333333   \n1                  8391.0  2014            18.90  193.478261     13.333333   \n2                  5330.0  2014            17.90  180.434783     -6.666667   \n3                  8443.0  2014             6.40  191.304348     -6.666667   \n4                  5500.0  2014             8.30  191.304348     20.000000   \n...                   ...   ...              ...         ...           ...   \n1986                202.0  2003             0.72  145.652174  48733.333333   \n1987                315.0  2003             0.63  154.347826  38533.333333   \n1988                570.0  2003             0.62  152.173913   6066.666667   \n1989                562.0  2003             0.65  150.000000   5600.000000   \n1990                546.0  2003             0.57  152.173913   6866.666667   \n\n      qi_bod     qi_nn  qi_fecal_coliform  qi_total_coliform_mean  \\\n0        NaN  0.222222             11.000                     2.7   \n1       40.0  0.444444           4953.000                   839.1   \n2       34.0  0.222222           3243.000                   533.0   \n3       76.0  1.111111           5382.000                   844.3   \n4       38.0  0.888889           3428.000                   550.0   \n...      ...       ...                ...                     ...   \n1986    54.0  1.151111              0.518                    20.2   \n1987    52.0  0.344444              0.155                    31.5   \n1988    24.0       NaN                NaN                    57.0   \n1989    26.0       NaN                NaN                    56.2   \n1990    22.0       NaN                NaN                    54.6   \n\n               wqi  \n0              NaN  \n1       175.363506  \n2       126.135831  \n3       195.105659  \n4       141.393246  \n...            ...  \n1986  12746.407333  \n1987  10091.343432  \n1988           NaN  \n1989           NaN  \n1990           NaN  \n\n[1991 rows x 20 columns]",
      "text/html": "<div>\n<style scoped>\n    .dataframe tbody tr th:only-of-type {\n        vertical-align: middle;\n    }\n\n    .dataframe tbody tr th {\n        vertical-align: top;\n    }\n\n    .dataframe thead th {\n        text-align: right;\n    }\n</style>\n<table border=\"1\" class=\"dataframe\">\n  <thead>\n    <tr style=\"text-align: right;\">\n      <th></th>\n      <th>station</th>\n      <th>location</th>\n      <th>state</th>\n      <th>Temp</th>\n      <th>do</th>\n      <th>ph</th>\n      <th>conductivity</th>\n      <th>BOD</th>\n      <th>nn</th>\n      <th>fecal_coliform</th>\n      <th>total_coliform_mean</th>\n      <th>year</th>\n      <th>qi_conductivity</th>\n      <th>qi_do</th>\n      <th>qi_ph</th>\n      <th>qi_bod</th>\n      <th>qi_nn</th>\n      <th>qi_fecal_coliform</th>\n      <th>qi_total_coliform_mean</th>\n      <th>wqi</th>\n    </tr>\n  </thead>\n  <tbody>\n    <tr>\n      <th>0</th>\n      <td>1393.0</td>\n      <td>DAMANGANGA AT D/S OF MADHUBAN, DAMAN</td>\n      <td>DAMAN &amp; DIU</td>\n      <td>30.6</td>\n      <td>6.7</td>\n      <td>7.5</td>\n      <td>203.0</td>\n      <td>NaN</td>\n      <td>0.100</td>\n      <td>11.000</td>\n      <td>27.0</td>\n      <td>2014</td>\n      <td>20.30</td>\n      <td>171.739130</td>\n      <td>33.333333</td>\n      <td>NaN</td>\n      <td>0.222222</td>\n      <td>11.000</td>\n      <td>2.7</td>\n      <td>NaN</td>\n    </tr>\n    <tr>\n      <th>1</th>\n      <td>1399.0</td>\n      <td>ZUARI AT D/S OF PT. WHERE KUMBARJRIA CANAL JOI...</td>\n      <td>GOA</td>\n      <td>29.8</td>\n      <td>5.7</td>\n      <td>7.2</td>\n      <td>189.0</td>\n      <td>2.0</td>\n      <td>0.200</td>\n      <td>4953.000</td>\n      <td>8391.0</td>\n      <td>2014</td>\n      <td>18.90</td>\n      <td>193.478261</td>\n      <td>13.333333</td>\n      <td>40.0</td>\n      <td>0.444444</td>\n      <td>4953.000</td>\n      <td>839.1</td>\n      <td>175.363506</td>\n    </tr>\n    <tr>\n      <th>2</th>\n      <td>1475.0</td>\n      <td>ZUARI AT PANCHAWADI</td>\n      <td>GOA</td>\n      <td>29.5</td>\n      <td>6.3</td>\n      <td>6.9</td>\n      <td>179.0</td>\n      <td>1.7</td>\n      <td>0.100</td>\n      <td>3243.000</td>\n      <td>5330.0</td>\n      <td>2014</td>\n      <td>17.90</td>\n      <td>180.434783</td>\n      <td>-6.666667</td>\n      <td>34.0</td>\n      <td>0.222222</td>\n      <td>3243.000</td>\n      <td>533.0</td>\n      <td>126.135831</td>\n    </tr>\n    <tr>\n      <th>3</th>\n      <td>3181.0</td>\n      <td>RIVER ZUARI AT BORIM BRIDGE</td>\n      <td>GOA</td>\n      <td>29.7</td>\n      <td>5.8</td>\n      <td>6.9</td>\n      <td>64.0</td>\n      <td>3.8</td>\n      <td>0.500</td>\n      <td>5382.000</td>\n      <td>8443.0</td>\n      <td>2014</td>\n      <td>6.40</td>\n      <td>191.304348</td>\n      <td>-6.666667</td>\n      <td>76.0</td>\n      <td>1.111111</td>\n      <td>5382.000</td>\n      <td>844.3</td>\n      <td>195.105659</td>\n    </tr>\n    <tr>\n      <th>4</th>\n      <td>3182.0</td>\n      <td>RIVER ZUARI AT MARCAIM JETTY</td>\n      <td>GOA</td>\n      <td>29.5</td>\n      <td>5.8</td>\n      <td>7.3</td>\n      <td>83.0</td>\n      <td>1.9</td>\n      <td>0.400</td>\n      <td>3428.000</td>\n      <td>5500.0</td>\n      <td>2014</td>\n      <td>8.30</td>\n      <td>191.304348</td>\n      <td>20.000000</td>\n      <td>38.0</td>\n      <td>0.888889</td>\n      <td>3428.000</td>\n      <td>550.0</td>\n      <td>141.393246</td>\n    </tr>\n    <tr>\n      <th>...</th>\n      <td>...</td>\n      <td>...</td>\n      <td>...</td>\n      <td>...</td>\n      <td>...</td>\n      <td>...</td>\n      <td>...</td>\n      <td>...</td>\n      <td>...</td>\n      <td>...</td>\n      <td>...</td>\n      <td>...</td>\n      <td>...</td>\n      <td>...</td>\n      <td>...</td>\n      <td>...</td>\n      <td>...</td>\n      <td>...</td>\n      <td>...</td>\n      <td>...</td>\n    </tr>\n    <tr>\n      <th>1986</th>\n      <td>1330.0</td>\n      <td>TAMBIRAPARANI AT ARUMUGANERI, TAMILNADU</td>\n      <td>NAN</td>\n      <td>NaN</td>\n      <td>7.9</td>\n      <td>738.0</td>\n      <td>7.2</td>\n      <td>2.7</td>\n      <td>0.518</td>\n      <td>0.518</td>\n      <td>202.0</td>\n      <td>2003</td>\n      <td>0.72</td>\n      <td>145.652174</td>\n      <td>48733.333333</td>\n      <td>54.0</td>\n      <td>1.151111</td>\n      <td>0.518</td>\n      <td>20.2</td>\n      <td>12746.407333</td>\n    </tr>\n    <tr>\n      <th>1987</th>\n      <td>1450.0</td>\n      <td>PALAR AT VANIYAMBADI WATER SUPPLY HEAD WORK, T...</td>\n      <td>NAN</td>\n      <td>29.0</td>\n      <td>7.5</td>\n      <td>585.0</td>\n      <td>6.3</td>\n      <td>2.6</td>\n      <td>0.155</td>\n      <td>0.155</td>\n      <td>315.0</td>\n      <td>2003</td>\n      <td>0.63</td>\n      <td>154.347826</td>\n      <td>38533.333333</td>\n      <td>52.0</td>\n      <td>0.344444</td>\n      <td>0.155</td>\n      <td>31.5</td>\n      <td>10091.343432</td>\n    </tr>\n    <tr>\n      <th>1988</th>\n      <td>1403.0</td>\n      <td>GUMTI AT U/S SOUTH TRIPURA,TRIPURA</td>\n      <td>NAN</td>\n      <td>28.0</td>\n      <td>7.6</td>\n      <td>98.0</td>\n      <td>6.2</td>\n      <td>1.2</td>\n      <td>NaN</td>\n      <td>NaN</td>\n      <td>570.0</td>\n      <td>2003</td>\n      <td>0.62</td>\n      <td>152.173913</td>\n      <td>6066.666667</td>\n      <td>24.0</td>\n      <td>NaN</td>\n      <td>NaN</td>\n      <td>57.0</td>\n      <td>NaN</td>\n    </tr>\n    <tr>\n      <th>1989</th>\n      <td>1404.0</td>\n      <td>GUMTI AT D/S SOUTH TRIPURA, TRIPURA</td>\n      <td>NAN</td>\n      <td>28.0</td>\n      <td>7.7</td>\n      <td>91.0</td>\n      <td>6.5</td>\n      <td>1.3</td>\n      <td>NaN</td>\n      <td>NaN</td>\n      <td>562.0</td>\n      <td>2003</td>\n      <td>0.65</td>\n      <td>150.000000</td>\n      <td>5600.000000</td>\n      <td>26.0</td>\n      <td>NaN</td>\n      <td>NaN</td>\n      <td>56.2</td>\n      <td>NaN</td>\n    </tr>\n    <tr>\n      <th>1990</th>\n      <td>1726.0</td>\n      <td>CHANDRAPUR, AGARTALA D/S OF HAORA RIVER, TRIPURA</td>\n      <td>NAN</td>\n      <td>29.0</td>\n      <td>7.6</td>\n      <td>110.0</td>\n      <td>5.7</td>\n      <td>1.1</td>\n      <td>NaN</td>\n      <td>NaN</td>\n      <td>546.0</td>\n      <td>2003</td>\n      <td>0.57</td>\n      <td>152.173913</td>\n      <td>6866.666667</td>\n      <td>22.0</td>\n      <td>NaN</td>\n      <td>NaN</td>\n      <td>54.6</td>\n      <td>NaN</td>\n    </tr>\n  </tbody>\n</table>\n<p>1991 rows × 20 columns</p>\n</div>"
     },
     "execution_count": 33,
     "metadata": {},
     "output_type": "execute_result"
    }
   ],
   "source": [
    "df2"
   ],
   "metadata": {
    "collapsed": false,
    "pycharm": {
     "name": "#%%\n"
    }
   }
  },
  {
   "cell_type": "code",
   "execution_count": 34,
   "outputs": [
    {
     "data": {
      "text/plain": "          station         Temp           do            ph  conductivity  \\\ncount  1869.00000  1899.000000  1960.000000   1983.000000   1966.000000   \nmean   1953.64473    26.209814     6.392637    112.090674   1786.466394   \nstd     744.95769     3.366388     1.332938   1878.930716   5552.276223   \nmin       2.00000    10.000000     0.000000      0.000000      0.400000   \n25%    1448.00000    24.750000     5.900000      6.900000     78.000000   \n50%    1861.00000    27.000000     6.700000      7.300000    183.000000   \n75%    2423.00000    28.400000     7.200000      7.700000    592.750000   \nmax    3473.00000    35.000000    11.400000  67115.000000  65700.000000   \n\n               BOD           nn  fecal_coliform  total_coliform_mean  \\\ncount  1948.000000  1766.000000    1.675000e+03         1.859000e+03   \nmean      6.940049     1.623079    3.625294e+05         5.336872e+05   \nstd      29.400026     4.090481    8.764767e+06         1.423428e+07   \nmin       0.100000     0.000000    0.000000e+00         0.000000e+00   \n25%       1.200000     0.240000    2.600000e+01         1.060000e+02   \n50%       1.896500     0.516000    2.210000e+02         4.680000e+02   \n75%       3.600000     1.500000    9.965000e+02         1.919000e+03   \nmax     534.500000   108.700000    2.725216e+08         5.110909e+08   \n\n              year  qi_conductivity        qi_do         qi_ph        qi_bod  \\\ncount  1991.000000      1966.000000  1960.000000  1.983000e+03   1948.000000   \nmean   2010.038172       178.646639   178.420941  7.006045e+03    138.800975   \nstd       3.057333       555.227622    28.976906  1.252620e+05    588.000524   \nmin    2003.000000         0.040000    69.565217 -4.666667e+02      2.000000   \n25%    2008.000000         7.800000   160.869565 -6.666667e+00     24.000000   \n50%    2011.000000        18.300000   171.739130  2.000000e+01     37.930000   \n75%    2013.000000        59.275000   189.130435  4.666667e+01     72.000000   \nmax    2014.000000      6570.000000   317.391304  4.473867e+06  10690.000000   \n\n             qi_nn  qi_fecal_coliform  qi_total_coliform_mean           wqi  \ncount  1766.000000       1.675000e+03            1.859000e+03  1.625000e+03  \nmean      3.606842       3.625294e+05            5.336872e+04  9.512031e+03  \nstd       9.089957       8.764767e+06            1.423428e+06  2.008659e+05  \nmin       0.000000       0.000000e+00            0.000000e+00 -1.057922e+01  \n25%       0.533333       2.600000e+01            1.060000e+01  5.424306e+01  \n50%       1.146667       2.210000e+02            4.680000e+01  7.234219e+01  \n75%       3.333333       9.965000e+02            1.919000e+02  1.077640e+02  \nmax     241.555556       2.725216e+08            5.110909e+07  6.136170e+06  ",
      "text/html": "<div>\n<style scoped>\n    .dataframe tbody tr th:only-of-type {\n        vertical-align: middle;\n    }\n\n    .dataframe tbody tr th {\n        vertical-align: top;\n    }\n\n    .dataframe thead th {\n        text-align: right;\n    }\n</style>\n<table border=\"1\" class=\"dataframe\">\n  <thead>\n    <tr style=\"text-align: right;\">\n      <th></th>\n      <th>station</th>\n      <th>Temp</th>\n      <th>do</th>\n      <th>ph</th>\n      <th>conductivity</th>\n      <th>BOD</th>\n      <th>nn</th>\n      <th>fecal_coliform</th>\n      <th>total_coliform_mean</th>\n      <th>year</th>\n      <th>qi_conductivity</th>\n      <th>qi_do</th>\n      <th>qi_ph</th>\n      <th>qi_bod</th>\n      <th>qi_nn</th>\n      <th>qi_fecal_coliform</th>\n      <th>qi_total_coliform_mean</th>\n      <th>wqi</th>\n    </tr>\n  </thead>\n  <tbody>\n    <tr>\n      <th>count</th>\n      <td>1869.00000</td>\n      <td>1899.000000</td>\n      <td>1960.000000</td>\n      <td>1983.000000</td>\n      <td>1966.000000</td>\n      <td>1948.000000</td>\n      <td>1766.000000</td>\n      <td>1.675000e+03</td>\n      <td>1.859000e+03</td>\n      <td>1991.000000</td>\n      <td>1966.000000</td>\n      <td>1960.000000</td>\n      <td>1.983000e+03</td>\n      <td>1948.000000</td>\n      <td>1766.000000</td>\n      <td>1.675000e+03</td>\n      <td>1.859000e+03</td>\n      <td>1.625000e+03</td>\n    </tr>\n    <tr>\n      <th>mean</th>\n      <td>1953.64473</td>\n      <td>26.209814</td>\n      <td>6.392637</td>\n      <td>112.090674</td>\n      <td>1786.466394</td>\n      <td>6.940049</td>\n      <td>1.623079</td>\n      <td>3.625294e+05</td>\n      <td>5.336872e+05</td>\n      <td>2010.038172</td>\n      <td>178.646639</td>\n      <td>178.420941</td>\n      <td>7.006045e+03</td>\n      <td>138.800975</td>\n      <td>3.606842</td>\n      <td>3.625294e+05</td>\n      <td>5.336872e+04</td>\n      <td>9.512031e+03</td>\n    </tr>\n    <tr>\n      <th>std</th>\n      <td>744.95769</td>\n      <td>3.366388</td>\n      <td>1.332938</td>\n      <td>1878.930716</td>\n      <td>5552.276223</td>\n      <td>29.400026</td>\n      <td>4.090481</td>\n      <td>8.764767e+06</td>\n      <td>1.423428e+07</td>\n      <td>3.057333</td>\n      <td>555.227622</td>\n      <td>28.976906</td>\n      <td>1.252620e+05</td>\n      <td>588.000524</td>\n      <td>9.089957</td>\n      <td>8.764767e+06</td>\n      <td>1.423428e+06</td>\n      <td>2.008659e+05</td>\n    </tr>\n    <tr>\n      <th>min</th>\n      <td>2.00000</td>\n      <td>10.000000</td>\n      <td>0.000000</td>\n      <td>0.000000</td>\n      <td>0.400000</td>\n      <td>0.100000</td>\n      <td>0.000000</td>\n      <td>0.000000e+00</td>\n      <td>0.000000e+00</td>\n      <td>2003.000000</td>\n      <td>0.040000</td>\n      <td>69.565217</td>\n      <td>-4.666667e+02</td>\n      <td>2.000000</td>\n      <td>0.000000</td>\n      <td>0.000000e+00</td>\n      <td>0.000000e+00</td>\n      <td>-1.057922e+01</td>\n    </tr>\n    <tr>\n      <th>25%</th>\n      <td>1448.00000</td>\n      <td>24.750000</td>\n      <td>5.900000</td>\n      <td>6.900000</td>\n      <td>78.000000</td>\n      <td>1.200000</td>\n      <td>0.240000</td>\n      <td>2.600000e+01</td>\n      <td>1.060000e+02</td>\n      <td>2008.000000</td>\n      <td>7.800000</td>\n      <td>160.869565</td>\n      <td>-6.666667e+00</td>\n      <td>24.000000</td>\n      <td>0.533333</td>\n      <td>2.600000e+01</td>\n      <td>1.060000e+01</td>\n      <td>5.424306e+01</td>\n    </tr>\n    <tr>\n      <th>50%</th>\n      <td>1861.00000</td>\n      <td>27.000000</td>\n      <td>6.700000</td>\n      <td>7.300000</td>\n      <td>183.000000</td>\n      <td>1.896500</td>\n      <td>0.516000</td>\n      <td>2.210000e+02</td>\n      <td>4.680000e+02</td>\n      <td>2011.000000</td>\n      <td>18.300000</td>\n      <td>171.739130</td>\n      <td>2.000000e+01</td>\n      <td>37.930000</td>\n      <td>1.146667</td>\n      <td>2.210000e+02</td>\n      <td>4.680000e+01</td>\n      <td>7.234219e+01</td>\n    </tr>\n    <tr>\n      <th>75%</th>\n      <td>2423.00000</td>\n      <td>28.400000</td>\n      <td>7.200000</td>\n      <td>7.700000</td>\n      <td>592.750000</td>\n      <td>3.600000</td>\n      <td>1.500000</td>\n      <td>9.965000e+02</td>\n      <td>1.919000e+03</td>\n      <td>2013.000000</td>\n      <td>59.275000</td>\n      <td>189.130435</td>\n      <td>4.666667e+01</td>\n      <td>72.000000</td>\n      <td>3.333333</td>\n      <td>9.965000e+02</td>\n      <td>1.919000e+02</td>\n      <td>1.077640e+02</td>\n    </tr>\n    <tr>\n      <th>max</th>\n      <td>3473.00000</td>\n      <td>35.000000</td>\n      <td>11.400000</td>\n      <td>67115.000000</td>\n      <td>65700.000000</td>\n      <td>534.500000</td>\n      <td>108.700000</td>\n      <td>2.725216e+08</td>\n      <td>5.110909e+08</td>\n      <td>2014.000000</td>\n      <td>6570.000000</td>\n      <td>317.391304</td>\n      <td>4.473867e+06</td>\n      <td>10690.000000</td>\n      <td>241.555556</td>\n      <td>2.725216e+08</td>\n      <td>5.110909e+07</td>\n      <td>6.136170e+06</td>\n    </tr>\n  </tbody>\n</table>\n</div>"
     },
     "execution_count": 34,
     "metadata": {},
     "output_type": "execute_result"
    }
   ],
   "source": [
    "df2.describe()"
   ],
   "metadata": {
    "collapsed": false,
    "pycharm": {
     "name": "#%%\n"
    }
   }
  },
  {
   "cell_type": "markdown",
   "source": [
    "# adding the WQI to the original dataframe"
   ],
   "metadata": {
    "collapsed": false,
    "pycharm": {
     "name": "#%% md\n"
    }
   }
  },
  {
   "cell_type": "code",
   "execution_count": 35,
   "outputs": [],
   "source": [
    "df3 = pd.concat([df,df2.wqi],axis=1)"
   ],
   "metadata": {
    "collapsed": false,
    "pycharm": {
     "name": "#%%\n"
    }
   }
  },
  {
   "cell_type": "code",
   "execution_count": 36,
   "outputs": [
    {
     "data": {
      "text/plain": "      station                                           location        state  \\\n0      1393.0               DAMANGANGA AT D/S OF MADHUBAN, DAMAN  DAMAN & DIU   \n1      1399.0  ZUARI AT D/S OF PT. WHERE KUMBARJRIA CANAL JOI...          GOA   \n2      1475.0                                ZUARI AT PANCHAWADI          GOA   \n3      3181.0                        RIVER ZUARI AT BORIM BRIDGE          GOA   \n4      3182.0                       RIVER ZUARI AT MARCAIM JETTY          GOA   \n...       ...                                                ...          ...   \n1986   1330.0            TAMBIRAPARANI AT ARUMUGANERI, TAMILNADU          NAN   \n1987   1450.0  PALAR AT VANIYAMBADI WATER SUPPLY HEAD WORK, T...          NAN   \n1988   1403.0                 GUMTI AT U/S SOUTH TRIPURA,TRIPURA          NAN   \n1989   1404.0                GUMTI AT D/S SOUTH TRIPURA, TRIPURA          NAN   \n1990   1726.0   CHANDRAPUR, AGARTALA D/S OF HAORA RIVER, TRIPURA          NAN   \n\n      Temp   do     ph  conductivity  BOD     nn  fecal_coliform  \\\n0     30.6  6.7    7.5         203.0  NaN  0.100          11.000   \n1     29.8  5.7    7.2         189.0  2.0  0.200        4953.000   \n2     29.5  6.3    6.9         179.0  1.7  0.100        3243.000   \n3     29.7  5.8    6.9          64.0  3.8  0.500        5382.000   \n4     29.5  5.8    7.3          83.0  1.9  0.400        3428.000   \n...    ...  ...    ...           ...  ...    ...             ...   \n1986   NaN  7.9  738.0           7.2  2.7  0.518           0.518   \n1987  29.0  7.5  585.0           6.3  2.6  0.155           0.155   \n1988  28.0  7.6   98.0           6.2  1.2    NaN             NaN   \n1989  28.0  7.7   91.0           6.5  1.3    NaN             NaN   \n1990  29.0  7.6  110.0           5.7  1.1    NaN             NaN   \n\n      total_coliform_mean  year           wqi  \n0                    27.0  2014           NaN  \n1                  8391.0  2014    175.363506  \n2                  5330.0  2014    126.135831  \n3                  8443.0  2014    195.105659  \n4                  5500.0  2014    141.393246  \n...                   ...   ...           ...  \n1986                202.0  2003  12746.407333  \n1987                315.0  2003  10091.343432  \n1988                570.0  2003           NaN  \n1989                562.0  2003           NaN  \n1990                546.0  2003           NaN  \n\n[1991 rows x 13 columns]",
      "text/html": "<div>\n<style scoped>\n    .dataframe tbody tr th:only-of-type {\n        vertical-align: middle;\n    }\n\n    .dataframe tbody tr th {\n        vertical-align: top;\n    }\n\n    .dataframe thead th {\n        text-align: right;\n    }\n</style>\n<table border=\"1\" class=\"dataframe\">\n  <thead>\n    <tr style=\"text-align: right;\">\n      <th></th>\n      <th>station</th>\n      <th>location</th>\n      <th>state</th>\n      <th>Temp</th>\n      <th>do</th>\n      <th>ph</th>\n      <th>conductivity</th>\n      <th>BOD</th>\n      <th>nn</th>\n      <th>fecal_coliform</th>\n      <th>total_coliform_mean</th>\n      <th>year</th>\n      <th>wqi</th>\n    </tr>\n  </thead>\n  <tbody>\n    <tr>\n      <th>0</th>\n      <td>1393.0</td>\n      <td>DAMANGANGA AT D/S OF MADHUBAN, DAMAN</td>\n      <td>DAMAN &amp; DIU</td>\n      <td>30.6</td>\n      <td>6.7</td>\n      <td>7.5</td>\n      <td>203.0</td>\n      <td>NaN</td>\n      <td>0.100</td>\n      <td>11.000</td>\n      <td>27.0</td>\n      <td>2014</td>\n      <td>NaN</td>\n    </tr>\n    <tr>\n      <th>1</th>\n      <td>1399.0</td>\n      <td>ZUARI AT D/S OF PT. WHERE KUMBARJRIA CANAL JOI...</td>\n      <td>GOA</td>\n      <td>29.8</td>\n      <td>5.7</td>\n      <td>7.2</td>\n      <td>189.0</td>\n      <td>2.0</td>\n      <td>0.200</td>\n      <td>4953.000</td>\n      <td>8391.0</td>\n      <td>2014</td>\n      <td>175.363506</td>\n    </tr>\n    <tr>\n      <th>2</th>\n      <td>1475.0</td>\n      <td>ZUARI AT PANCHAWADI</td>\n      <td>GOA</td>\n      <td>29.5</td>\n      <td>6.3</td>\n      <td>6.9</td>\n      <td>179.0</td>\n      <td>1.7</td>\n      <td>0.100</td>\n      <td>3243.000</td>\n      <td>5330.0</td>\n      <td>2014</td>\n      <td>126.135831</td>\n    </tr>\n    <tr>\n      <th>3</th>\n      <td>3181.0</td>\n      <td>RIVER ZUARI AT BORIM BRIDGE</td>\n      <td>GOA</td>\n      <td>29.7</td>\n      <td>5.8</td>\n      <td>6.9</td>\n      <td>64.0</td>\n      <td>3.8</td>\n      <td>0.500</td>\n      <td>5382.000</td>\n      <td>8443.0</td>\n      <td>2014</td>\n      <td>195.105659</td>\n    </tr>\n    <tr>\n      <th>4</th>\n      <td>3182.0</td>\n      <td>RIVER ZUARI AT MARCAIM JETTY</td>\n      <td>GOA</td>\n      <td>29.5</td>\n      <td>5.8</td>\n      <td>7.3</td>\n      <td>83.0</td>\n      <td>1.9</td>\n      <td>0.400</td>\n      <td>3428.000</td>\n      <td>5500.0</td>\n      <td>2014</td>\n      <td>141.393246</td>\n    </tr>\n    <tr>\n      <th>...</th>\n      <td>...</td>\n      <td>...</td>\n      <td>...</td>\n      <td>...</td>\n      <td>...</td>\n      <td>...</td>\n      <td>...</td>\n      <td>...</td>\n      <td>...</td>\n      <td>...</td>\n      <td>...</td>\n      <td>...</td>\n      <td>...</td>\n    </tr>\n    <tr>\n      <th>1986</th>\n      <td>1330.0</td>\n      <td>TAMBIRAPARANI AT ARUMUGANERI, TAMILNADU</td>\n      <td>NAN</td>\n      <td>NaN</td>\n      <td>7.9</td>\n      <td>738.0</td>\n      <td>7.2</td>\n      <td>2.7</td>\n      <td>0.518</td>\n      <td>0.518</td>\n      <td>202.0</td>\n      <td>2003</td>\n      <td>12746.407333</td>\n    </tr>\n    <tr>\n      <th>1987</th>\n      <td>1450.0</td>\n      <td>PALAR AT VANIYAMBADI WATER SUPPLY HEAD WORK, T...</td>\n      <td>NAN</td>\n      <td>29.0</td>\n      <td>7.5</td>\n      <td>585.0</td>\n      <td>6.3</td>\n      <td>2.6</td>\n      <td>0.155</td>\n      <td>0.155</td>\n      <td>315.0</td>\n      <td>2003</td>\n      <td>10091.343432</td>\n    </tr>\n    <tr>\n      <th>1988</th>\n      <td>1403.0</td>\n      <td>GUMTI AT U/S SOUTH TRIPURA,TRIPURA</td>\n      <td>NAN</td>\n      <td>28.0</td>\n      <td>7.6</td>\n      <td>98.0</td>\n      <td>6.2</td>\n      <td>1.2</td>\n      <td>NaN</td>\n      <td>NaN</td>\n      <td>570.0</td>\n      <td>2003</td>\n      <td>NaN</td>\n    </tr>\n    <tr>\n      <th>1989</th>\n      <td>1404.0</td>\n      <td>GUMTI AT D/S SOUTH TRIPURA, TRIPURA</td>\n      <td>NAN</td>\n      <td>28.0</td>\n      <td>7.7</td>\n      <td>91.0</td>\n      <td>6.5</td>\n      <td>1.3</td>\n      <td>NaN</td>\n      <td>NaN</td>\n      <td>562.0</td>\n      <td>2003</td>\n      <td>NaN</td>\n    </tr>\n    <tr>\n      <th>1990</th>\n      <td>1726.0</td>\n      <td>CHANDRAPUR, AGARTALA D/S OF HAORA RIVER, TRIPURA</td>\n      <td>NAN</td>\n      <td>29.0</td>\n      <td>7.6</td>\n      <td>110.0</td>\n      <td>5.7</td>\n      <td>1.1</td>\n      <td>NaN</td>\n      <td>NaN</td>\n      <td>546.0</td>\n      <td>2003</td>\n      <td>NaN</td>\n    </tr>\n  </tbody>\n</table>\n<p>1991 rows × 13 columns</p>\n</div>"
     },
     "execution_count": 36,
     "metadata": {},
     "output_type": "execute_result"
    }
   ],
   "source": [
    "df3"
   ],
   "metadata": {
    "collapsed": false,
    "pycharm": {
     "name": "#%%\n"
    }
   }
  },
  {
   "cell_type": "code",
   "execution_count": 37,
   "outputs": [
    {
     "data": {
      "text/plain": "          station         Temp           do            ph  conductivity  \\\ncount  1869.00000  1899.000000  1960.000000   1983.000000   1966.000000   \nmean   1953.64473    26.209814     6.392637    112.090674   1786.466394   \nstd     744.95769     3.366388     1.332938   1878.930716   5552.276223   \nmin       2.00000    10.000000     0.000000      0.000000      0.400000   \n25%    1448.00000    24.750000     5.900000      6.900000     78.000000   \n50%    1861.00000    27.000000     6.700000      7.300000    183.000000   \n75%    2423.00000    28.400000     7.200000      7.700000    592.750000   \nmax    3473.00000    35.000000    11.400000  67115.000000  65700.000000   \n\n               BOD           nn  fecal_coliform  total_coliform_mean  \\\ncount  1948.000000  1766.000000    1.675000e+03         1.859000e+03   \nmean      6.940049     1.623079    3.625294e+05         5.336872e+05   \nstd      29.400026     4.090481    8.764767e+06         1.423428e+07   \nmin       0.100000     0.000000    0.000000e+00         0.000000e+00   \n25%       1.200000     0.240000    2.600000e+01         1.060000e+02   \n50%       1.896500     0.516000    2.210000e+02         4.680000e+02   \n75%       3.600000     1.500000    9.965000e+02         1.919000e+03   \nmax     534.500000   108.700000    2.725216e+08         5.110909e+08   \n\n              year           wqi  \ncount  1991.000000  1.625000e+03  \nmean   2010.038172  9.512031e+03  \nstd       3.057333  2.008659e+05  \nmin    2003.000000 -1.057922e+01  \n25%    2008.000000  5.424306e+01  \n50%    2011.000000  7.234219e+01  \n75%    2013.000000  1.077640e+02  \nmax    2014.000000  6.136170e+06  ",
      "text/html": "<div>\n<style scoped>\n    .dataframe tbody tr th:only-of-type {\n        vertical-align: middle;\n    }\n\n    .dataframe tbody tr th {\n        vertical-align: top;\n    }\n\n    .dataframe thead th {\n        text-align: right;\n    }\n</style>\n<table border=\"1\" class=\"dataframe\">\n  <thead>\n    <tr style=\"text-align: right;\">\n      <th></th>\n      <th>station</th>\n      <th>Temp</th>\n      <th>do</th>\n      <th>ph</th>\n      <th>conductivity</th>\n      <th>BOD</th>\n      <th>nn</th>\n      <th>fecal_coliform</th>\n      <th>total_coliform_mean</th>\n      <th>year</th>\n      <th>wqi</th>\n    </tr>\n  </thead>\n  <tbody>\n    <tr>\n      <th>count</th>\n      <td>1869.00000</td>\n      <td>1899.000000</td>\n      <td>1960.000000</td>\n      <td>1983.000000</td>\n      <td>1966.000000</td>\n      <td>1948.000000</td>\n      <td>1766.000000</td>\n      <td>1.675000e+03</td>\n      <td>1.859000e+03</td>\n      <td>1991.000000</td>\n      <td>1.625000e+03</td>\n    </tr>\n    <tr>\n      <th>mean</th>\n      <td>1953.64473</td>\n      <td>26.209814</td>\n      <td>6.392637</td>\n      <td>112.090674</td>\n      <td>1786.466394</td>\n      <td>6.940049</td>\n      <td>1.623079</td>\n      <td>3.625294e+05</td>\n      <td>5.336872e+05</td>\n      <td>2010.038172</td>\n      <td>9.512031e+03</td>\n    </tr>\n    <tr>\n      <th>std</th>\n      <td>744.95769</td>\n      <td>3.366388</td>\n      <td>1.332938</td>\n      <td>1878.930716</td>\n      <td>5552.276223</td>\n      <td>29.400026</td>\n      <td>4.090481</td>\n      <td>8.764767e+06</td>\n      <td>1.423428e+07</td>\n      <td>3.057333</td>\n      <td>2.008659e+05</td>\n    </tr>\n    <tr>\n      <th>min</th>\n      <td>2.00000</td>\n      <td>10.000000</td>\n      <td>0.000000</td>\n      <td>0.000000</td>\n      <td>0.400000</td>\n      <td>0.100000</td>\n      <td>0.000000</td>\n      <td>0.000000e+00</td>\n      <td>0.000000e+00</td>\n      <td>2003.000000</td>\n      <td>-1.057922e+01</td>\n    </tr>\n    <tr>\n      <th>25%</th>\n      <td>1448.00000</td>\n      <td>24.750000</td>\n      <td>5.900000</td>\n      <td>6.900000</td>\n      <td>78.000000</td>\n      <td>1.200000</td>\n      <td>0.240000</td>\n      <td>2.600000e+01</td>\n      <td>1.060000e+02</td>\n      <td>2008.000000</td>\n      <td>5.424306e+01</td>\n    </tr>\n    <tr>\n      <th>50%</th>\n      <td>1861.00000</td>\n      <td>27.000000</td>\n      <td>6.700000</td>\n      <td>7.300000</td>\n      <td>183.000000</td>\n      <td>1.896500</td>\n      <td>0.516000</td>\n      <td>2.210000e+02</td>\n      <td>4.680000e+02</td>\n      <td>2011.000000</td>\n      <td>7.234219e+01</td>\n    </tr>\n    <tr>\n      <th>75%</th>\n      <td>2423.00000</td>\n      <td>28.400000</td>\n      <td>7.200000</td>\n      <td>7.700000</td>\n      <td>592.750000</td>\n      <td>3.600000</td>\n      <td>1.500000</td>\n      <td>9.965000e+02</td>\n      <td>1.919000e+03</td>\n      <td>2013.000000</td>\n      <td>1.077640e+02</td>\n    </tr>\n    <tr>\n      <th>max</th>\n      <td>3473.00000</td>\n      <td>35.000000</td>\n      <td>11.400000</td>\n      <td>67115.000000</td>\n      <td>65700.000000</td>\n      <td>534.500000</td>\n      <td>108.700000</td>\n      <td>2.725216e+08</td>\n      <td>5.110909e+08</td>\n      <td>2014.000000</td>\n      <td>6.136170e+06</td>\n    </tr>\n  </tbody>\n</table>\n</div>"
     },
     "execution_count": 37,
     "metadata": {},
     "output_type": "execute_result"
    }
   ],
   "source": [
    "df3.describe()"
   ],
   "metadata": {
    "collapsed": false,
    "pycharm": {
     "name": "#%%\n"
    }
   }
  },
  {
   "cell_type": "markdown",
   "source": [
    "# Handling missing values"
   ],
   "metadata": {
    "collapsed": false,
    "pycharm": {
     "name": "#%% md\n"
    }
   }
  },
  {
   "cell_type": "markdown",
   "source": [
    "We'll just remove them"
   ],
   "metadata": {
    "collapsed": false,
    "pycharm": {
     "name": "#%% md\n"
    }
   }
  },
  {
   "cell_type": "code",
   "execution_count": 38,
   "outputs": [
    {
     "data": {
      "text/plain": "<AxesSubplot:>"
     },
     "execution_count": 38,
     "metadata": {},
     "output_type": "execute_result"
    },
    {
     "data": {
      "text/plain": "<Figure size 1800x720 with 2 Axes>",
      "image/png": "[encoded data removed]"
     },
     "metadata": {},
     "output_type": "display_data"
    }
   ],
   "source": [
    "msno.matrix(df3)"
   ],
   "metadata": {
    "collapsed": false,
    "pycharm": {
     "name": "#%%\n"
    }
   }
  },
  {
   "cell_type": "code",
   "execution_count": 39,
   "outputs": [
    {
     "data": {
      "text/plain": "station                122\nlocation                 0\nstate                    0\nTemp                    92\ndo                      31\nph                       8\nconductivity            25\nBOD                     43\nnn                     225\nfecal_coliform         316\ntotal_coliform_mean    132\nyear                     0\nwqi                    366\ndtype: int64"
     },
     "execution_count": 39,
     "metadata": {},
     "output_type": "execute_result"
    }
   ],
   "source": [
    "df3.isnull().sum()"
   ],
   "metadata": {
    "collapsed": false,
    "pycharm": {
     "name": "#%%\n"
    }
   }
  },
  {
   "cell_type": "code",
   "execution_count": 40,
   "outputs": [],
   "source": [
    "df4= df3.dropna()"
   ],
   "metadata": {
    "collapsed": false,
    "pycharm": {
     "name": "#%%\n"
    }
   }
  },
  {
   "cell_type": "code",
   "execution_count": 41,
   "outputs": [
    {
     "data": {
      "text/plain": "      station                                           location state  Temp  \\\n1      1399.0  ZUARI AT D/S OF PT. WHERE KUMBARJRIA CANAL JOI...   GOA  29.8   \n2      1475.0                                ZUARI AT PANCHAWADI   GOA  29.5   \n3      3181.0                        RIVER ZUARI AT BORIM BRIDGE   GOA  29.7   \n4      3182.0                       RIVER ZUARI AT MARCAIM JETTY   GOA  29.5   \n5      1400.0             MANDOVI AT NEGHBOURHOOD OF PANAJI, GOA   GOA  30.0   \n...       ...                                                ...   ...   ...   \n1981   1160.0  TAMBIRAPARANI AT CHERANMADEVI,CAUSE WAY,TAMILNADU   NAN  31.0   \n1982   1161.0  TAMBIRAPARANI AT TIRUNELVELI,COLLECTORATE,    ...   NAN  29.0   \n1984   1328.0             TAMBIRAPARANI AT PAPPANKULAM,TAMILNADU   NAN  28.0   \n1985   1329.0  TAMBIRAPARANI AT RAIL BDG. NR. AMBASAMUDAM, TA...   NAN  28.0   \n1987   1450.0  PALAR AT VANIYAMBADI WATER SUPPLY HEAD WORK, T...   NAN  29.0   \n\n       do     ph  conductivity  BOD     nn  fecal_coliform  \\\n1     5.7    7.2         189.0  2.0  0.200        4953.000   \n2     6.3    6.9         179.0  1.7  0.100        3243.000   \n3     5.8    6.9          64.0  3.8  0.500        5382.000   \n4     5.8    7.3          83.0  1.9  0.400        3428.000   \n5     5.5    7.4          81.0  1.5  0.100        2853.000   \n...   ...    ...           ...  ...    ...             ...   \n1981  7.3  178.0           6.7  1.5  0.138           0.138   \n1982  7.1  214.0           6.8  2.3  0.585           0.585   \n1984  6.9  146.0           7.1  2.0  0.506           0.506   \n1985  7.0  136.0           7.5  1.4  0.609           0.609   \n1987  7.5  585.0           6.3  2.6  0.155           0.155   \n\n      total_coliform_mean  year           wqi  \n1                  8391.0  2014    175.363506  \n2                  5330.0  2014    126.135831  \n3                  8443.0  2014    195.105659  \n4                  5500.0  2014    141.393246  \n5                  4049.0  2014    127.971746  \n...                   ...   ...           ...  \n1981                190.0  2003   3017.018760  \n1982                350.0  2003   3650.116506  \n1984                 38.0  2003   2467.864123  \n1985                205.0  2003   2288.522202  \n1987                315.0  2003  10091.343432  \n\n[1528 rows x 13 columns]",
      "text/html": "<div>\n<style scoped>\n    .dataframe tbody tr th:only-of-type {\n        vertical-align: middle;\n    }\n\n    .dataframe tbody tr th {\n        vertical-align: top;\n    }\n\n    .dataframe thead th {\n        text-align: right;\n    }\n</style>\n<table border=\"1\" class=\"dataframe\">\n  <thead>\n    <tr style=\"text-align: right;\">\n      <th></th>\n      <th>station</th>\n      <th>location</th>\n      <th>state</th>\n      <th>Temp</th>\n      <th>do</th>\n      <th>ph</th>\n      <th>conductivity</th>\n      <th>BOD</th>\n      <th>nn</th>\n      <th>fecal_coliform</th>\n      <th>total_coliform_mean</th>\n      <th>year</th>\n      <th>wqi</th>\n    </tr>\n  </thead>\n  <tbody>\n    <tr>\n      <th>1</th>\n      <td>1399.0</td>\n      <td>ZUARI AT D/S OF PT. WHERE KUMBARJRIA CANAL JOI...</td>\n      <td>GOA</td>\n      <td>29.8</td>\n      <td>5.7</td>\n      <td>7.2</td>\n      <td>189.0</td>\n      <td>2.0</td>\n      <td>0.200</td>\n      <td>4953.000</td>\n      <td>8391.0</td>\n      <td>2014</td>\n      <td>175.363506</td>\n    </tr>\n    <tr>\n      <th>2</th>\n      <td>1475.0</td>\n      <td>ZUARI AT PANCHAWADI</td>\n      <td>GOA</td>\n      <td>29.5</td>\n      <td>6.3</td>\n      <td>6.9</td>\n      <td>179.0</td>\n      <td>1.7</td>\n      <td>0.100</td>\n      <td>3243.000</td>\n      <td>5330.0</td>\n      <td>2014</td>\n      <td>126.135831</td>\n    </tr>\n    <tr>\n      <th>3</th>\n      <td>3181.0</td>\n      <td>RIVER ZUARI AT BORIM BRIDGE</td>\n      <td>GOA</td>\n      <td>29.7</td>\n      <td>5.8</td>\n      <td>6.9</td>\n      <td>64.0</td>\n      <td>3.8</td>\n      <td>0.500</td>\n      <td>5382.000</td>\n      <td>8443.0</td>\n      <td>2014</td>\n      <td>195.105659</td>\n    </tr>\n    <tr>\n      <th>4</th>\n      <td>3182.0</td>\n      <td>RIVER ZUARI AT MARCAIM JETTY</td>\n      <td>GOA</td>\n      <td>29.5</td>\n      <td>5.8</td>\n      <td>7.3</td>\n      <td>83.0</td>\n      <td>1.9</td>\n      <td>0.400</td>\n      <td>3428.000</td>\n      <td>5500.0</td>\n      <td>2014</td>\n      <td>141.393246</td>\n    </tr>\n    <tr>\n      <th>5</th>\n      <td>1400.0</td>\n      <td>MANDOVI AT NEGHBOURHOOD OF PANAJI, GOA</td>\n      <td>GOA</td>\n      <td>30.0</td>\n      <td>5.5</td>\n      <td>7.4</td>\n      <td>81.0</td>\n      <td>1.5</td>\n      <td>0.100</td>\n      <td>2853.000</td>\n      <td>4049.0</td>\n      <td>2014</td>\n      <td>127.971746</td>\n    </tr>\n    <tr>\n      <th>...</th>\n      <td>...</td>\n      <td>...</td>\n      <td>...</td>\n      <td>...</td>\n      <td>...</td>\n      <td>...</td>\n      <td>...</td>\n      <td>...</td>\n      <td>...</td>\n      <td>...</td>\n      <td>...</td>\n      <td>...</td>\n      <td>...</td>\n    </tr>\n    <tr>\n      <th>1981</th>\n      <td>1160.0</td>\n      <td>TAMBIRAPARANI AT CHERANMADEVI,CAUSE WAY,TAMILNADU</td>\n      <td>NAN</td>\n      <td>31.0</td>\n      <td>7.3</td>\n      <td>178.0</td>\n      <td>6.7</td>\n      <td>1.5</td>\n      <td>0.138</td>\n      <td>0.138</td>\n      <td>190.0</td>\n      <td>2003</td>\n      <td>3017.018760</td>\n    </tr>\n    <tr>\n      <th>1982</th>\n      <td>1161.0</td>\n      <td>TAMBIRAPARANI AT TIRUNELVELI,COLLECTORATE,    ...</td>\n      <td>NAN</td>\n      <td>29.0</td>\n      <td>7.1</td>\n      <td>214.0</td>\n      <td>6.8</td>\n      <td>2.3</td>\n      <td>0.585</td>\n      <td>0.585</td>\n      <td>350.0</td>\n      <td>2003</td>\n      <td>3650.116506</td>\n    </tr>\n    <tr>\n      <th>1984</th>\n      <td>1328.0</td>\n      <td>TAMBIRAPARANI AT PAPPANKULAM,TAMILNADU</td>\n      <td>NAN</td>\n      <td>28.0</td>\n      <td>6.9</td>\n      <td>146.0</td>\n      <td>7.1</td>\n      <td>2.0</td>\n      <td>0.506</td>\n      <td>0.506</td>\n      <td>38.0</td>\n      <td>2003</td>\n      <td>2467.864123</td>\n    </tr>\n    <tr>\n      <th>1985</th>\n      <td>1329.0</td>\n      <td>TAMBIRAPARANI AT RAIL BDG. NR. AMBASAMUDAM, TA...</td>\n      <td>NAN</td>\n      <td>28.0</td>\n      <td>7.0</td>\n      <td>136.0</td>\n      <td>7.5</td>\n      <td>1.4</td>\n      <td>0.609</td>\n      <td>0.609</td>\n      <td>205.0</td>\n      <td>2003</td>\n      <td>2288.522202</td>\n    </tr>\n    <tr>\n      <th>1987</th>\n      <td>1450.0</td>\n      <td>PALAR AT VANIYAMBADI WATER SUPPLY HEAD WORK, T...</td>\n      <td>NAN</td>\n      <td>29.0</td>\n      <td>7.5</td>\n      <td>585.0</td>\n      <td>6.3</td>\n      <td>2.6</td>\n      <td>0.155</td>\n      <td>0.155</td>\n      <td>315.0</td>\n      <td>2003</td>\n      <td>10091.343432</td>\n    </tr>\n  </tbody>\n</table>\n<p>1528 rows × 13 columns</p>\n</div>"
     },
     "execution_count": 41,
     "metadata": {},
     "output_type": "execute_result"
    }
   ],
   "source": [
    "df4"
   ],
   "metadata": {
    "collapsed": false,
    "pycharm": {
     "name": "#%%\n"
    }
   }
  },
  {
   "cell_type": "markdown",
   "source": [
    "# Feature selection"
   ],
   "metadata": {
    "collapsed": false,
    "pycharm": {
     "name": "#%% md\n"
    }
   }
  },
  {
   "cell_type": "code",
   "execution_count": 42,
   "outputs": [],
   "source": [
    "x = df4[['do','ph','conductivity','BOD','nn','fecal_coliform','total_coliform_mean']]"
   ],
   "metadata": {
    "collapsed": false,
    "pycharm": {
     "name": "#%%\n"
    }
   }
  },
  {
   "cell_type": "code",
   "execution_count": 43,
   "outputs": [],
   "source": [
    "y = df4.wqi"
   ],
   "metadata": {
    "collapsed": false,
    "pycharm": {
     "name": "#%%\n"
    }
   }
  },
  {
   "cell_type": "code",
   "execution_count": 44,
   "outputs": [
    {
     "data": {
      "text/plain": "1         175.363506\n2         126.135831\n3         195.105659\n4         141.393246\n5         127.971746\n            ...     \n1981     3017.018760\n1982     3650.116506\n1984     2467.864123\n1985     2288.522202\n1987    10091.343432\nName: wqi, Length: 1528, dtype: float64"
     },
     "execution_count": 44,
     "metadata": {},
     "output_type": "execute_result"
    }
   ],
   "source": [
    "y"
   ],
   "metadata": {
    "collapsed": false,
    "pycharm": {
     "name": "#%%\n"
    }
   }
  },
  {
   "cell_type": "markdown",
   "source": [
    "# Splitting into training and testing data"
   ],
   "metadata": {
    "collapsed": false,
    "pycharm": {
     "name": "#%% md\n"
    }
   }
  },
  {
   "cell_type": "code",
   "execution_count": 45,
   "outputs": [],
   "source": [
    "from sklearn.model_selection import train_test_split"
   ],
   "metadata": {
    "collapsed": false,
    "pycharm": {
     "name": "#%%\n"
    }
   }
  },
  {
   "cell_type": "code",
   "execution_count": 46,
   "outputs": [],
   "source": [
    "x_train, x_test, y_train, y_test =train_test_split(x,y,test_size=0.25)"
   ],
   "metadata": {
    "collapsed": false,
    "pycharm": {
     "name": "#%%\n"
    }
   }
  },
  {
   "cell_type": "code",
   "execution_count": 47,
   "outputs": [
    {
     "data": {
      "text/plain": "       do   ph  conductivity   BOD     nn  fecal_coliform  total_coliform_mean\n579   6.2  7.3          66.0   0.8   0.55           303.0                609.0\n1282  7.4  6.6          64.0   0.7   0.29           288.0               1425.0\n885   6.1  7.0         248.0   0.8   0.66           500.0               1150.0\n692   4.8  7.4         904.0  26.0   8.60         31750.0              55000.0\n963   3.2  7.6        1197.0  27.3  19.20         20250.0              40250.0\n...   ...  ...           ...   ...    ...             ...                  ...\n1439  0.7  7.3       12697.0  45.6   1.32           642.0               1259.0\n437   4.9  7.5         977.0  16.5   5.00         12375.0              30500.0\n94    6.4  7.2          63.0   1.3   0.40           121.0                535.0\n1367  4.5  7.2         885.0  10.5   3.30          1100.0              12000.0\n170   6.5  6.6         159.0   2.4   0.20            11.0                 41.0\n\n[1146 rows x 7 columns]",
      "text/html": "<div>\n<style scoped>\n    .dataframe tbody tr th:only-of-type {\n        vertical-align: middle;\n    }\n\n    .dataframe tbody tr th {\n        vertical-align: top;\n    }\n\n    .dataframe thead th {\n        text-align: right;\n    }\n</style>\n<table border=\"1\" class=\"dataframe\">\n  <thead>\n    <tr style=\"text-align: right;\">\n      <th></th>\n      <th>do</th>\n      <th>ph</th>\n      <th>conductivity</th>\n      <th>BOD</th>\n      <th>nn</th>\n      <th>fecal_coliform</th>\n      <th>total_coliform_mean</th>\n    </tr>\n  </thead>\n  <tbody>\n    <tr>\n      <th>579</th>\n      <td>6.2</td>\n      <td>7.3</td>\n      <td>66.0</td>\n      <td>0.8</td>\n      <td>0.55</td>\n      <td>303.0</td>\n      <td>609.0</td>\n    </tr>\n    <tr>\n      <th>1282</th>\n      <td>7.4</td>\n      <td>6.6</td>\n      <td>64.0</td>\n      <td>0.7</td>\n      <td>0.29</td>\n      <td>288.0</td>\n      <td>1425.0</td>\n    </tr>\n    <tr>\n      <th>885</th>\n      <td>6.1</td>\n      <td>7.0</td>\n      <td>248.0</td>\n      <td>0.8</td>\n      <td>0.66</td>\n      <td>500.0</td>\n      <td>1150.0</td>\n    </tr>\n    <tr>\n      <th>692</th>\n      <td>4.8</td>\n      <td>7.4</td>\n      <td>904.0</td>\n      <td>26.0</td>\n      <td>8.60</td>\n      <td>31750.0</td>\n      <td>55000.0</td>\n    </tr>\n    <tr>\n      <th>963</th>\n      <td>3.2</td>\n      <td>7.6</td>\n      <td>1197.0</td>\n      <td>27.3</td>\n      <td>19.20</td>\n      <td>20250.0</td>\n      <td>40250.0</td>\n    </tr>\n    <tr>\n      <th>...</th>\n      <td>...</td>\n      <td>...</td>\n      <td>...</td>\n      <td>...</td>\n      <td>...</td>\n      <td>...</td>\n      <td>...</td>\n    </tr>\n    <tr>\n      <th>1439</th>\n      <td>0.7</td>\n      <td>7.3</td>\n      <td>12697.0</td>\n      <td>45.6</td>\n      <td>1.32</td>\n      <td>642.0</td>\n      <td>1259.0</td>\n    </tr>\n    <tr>\n      <th>437</th>\n      <td>4.9</td>\n      <td>7.5</td>\n      <td>977.0</td>\n      <td>16.5</td>\n      <td>5.00</td>\n      <td>12375.0</td>\n      <td>30500.0</td>\n    </tr>\n    <tr>\n      <th>94</th>\n      <td>6.4</td>\n      <td>7.2</td>\n      <td>63.0</td>\n      <td>1.3</td>\n      <td>0.40</td>\n      <td>121.0</td>\n      <td>535.0</td>\n    </tr>\n    <tr>\n      <th>1367</th>\n      <td>4.5</td>\n      <td>7.2</td>\n      <td>885.0</td>\n      <td>10.5</td>\n      <td>3.30</td>\n      <td>1100.0</td>\n      <td>12000.0</td>\n    </tr>\n    <tr>\n      <th>170</th>\n      <td>6.5</td>\n      <td>6.6</td>\n      <td>159.0</td>\n      <td>2.4</td>\n      <td>0.20</td>\n      <td>11.0</td>\n      <td>41.0</td>\n    </tr>\n  </tbody>\n</table>\n<p>1146 rows × 7 columns</p>\n</div>"
     },
     "execution_count": 47,
     "metadata": {},
     "output_type": "execute_result"
    }
   ],
   "source": [
    "x_train"
   ],
   "metadata": {
    "collapsed": false,
    "pycharm": {
     "name": "#%%\n"
    }
   }
  },
  {
   "cell_type": "code",
   "execution_count": 48,
   "outputs": [
    {
     "data": {
      "text/plain": "579      59.605838\n1282     40.614748\n885      59.403711\n692     999.156668\n963     765.662053\n           ...    \n1439    493.133127\n437     482.362541\n94       57.278124\n1367    172.513283\n170      53.577810\nName: wqi, Length: 1146, dtype: float64"
     },
     "execution_count": 48,
     "metadata": {},
     "output_type": "execute_result"
    }
   ],
   "source": [
    "y_train"
   ],
   "metadata": {
    "collapsed": false,
    "pycharm": {
     "name": "#%%\n"
    }
   }
  },
  {
   "cell_type": "markdown",
   "source": [
    "# SVR Cross Validation"
   ],
   "metadata": {
    "collapsed": false,
    "pycharm": {
     "name": "#%% md\n"
    }
   }
  },
  {
   "cell_type": "code",
   "execution_count": 49,
   "outputs": [],
   "source": [
    "# from sklearn.model_selection import cross_val_score\n",
    "# from sklearn.svm import SVR"
   ],
   "metadata": {
    "collapsed": false,
    "pycharm": {
     "name": "#%%\n"
    }
   }
  },
  {
   "cell_type": "code",
   "execution_count": 50,
   "outputs": [],
   "source": [
    "# clf = SVR(kernel='linear', C=1, gamma='scale')\n",
    "# scores = cross_val_score(clf, x, y, cv=5)"
   ],
   "metadata": {
    "collapsed": false,
    "pycharm": {
     "name": "#%%\n"
    }
   }
  },
  {
   "cell_type": "markdown",
   "source": [
    "# SVR Pipeline: Predicting WQI"
   ],
   "metadata": {
    "collapsed": false,
    "pycharm": {
     "name": "#%% md\n"
    }
   }
  },
  {
   "cell_type": "code",
   "execution_count": 51,
   "outputs": [],
   "source": [
    "from sklearn.pipeline import Pipeline\n",
    "from sklearn.svm import SVR\n",
    "from sklearn.preprocessing import StandardScaler"
   ],
   "metadata": {
    "collapsed": false,
    "pycharm": {
     "name": "#%%\n"
    }
   }
  },
  {
   "cell_type": "code",
   "execution_count": 192,
   "outputs": [],
   "source": [
    "pipeline = Pipeline([\n",
    "    (\"Std scaling\", StandardScaler()),\n",
    "    (\"SVR\",SVR(kernel=\"linear\",C=3000,gamma=\"scale\",degree=3,epsilon=1,coef0=1,verbose=True))\n",
    "     ])"
   ],
   "metadata": {
    "collapsed": false,
    "pycharm": {
     "name": "#%%\n"
    }
   }
  },
  {
   "cell_type": "code",
   "execution_count": 193,
   "outputs": [
    {
     "name": "stdout",
     "output_type": "stream",
     "text": [
      "[LibSVM]"
     ]
    },
    {
     "data": {
      "text/plain": "Pipeline(steps=[('Std scaling', StandardScaler()),\n                ('SVR',\n                 SVR(C=3000, coef0=1, epsilon=1, kernel='linear',\n                     verbose=True))])"
     },
     "execution_count": 193,
     "metadata": {},
     "output_type": "execute_result"
    }
   ],
   "source": [
    "pipeline.fit(x_train,y_train)"
   ],
   "metadata": {
    "collapsed": false,
    "pycharm": {
     "name": "#%%\n"
    }
   }
  },
  {
   "cell_type": "code",
   "execution_count": 194,
   "outputs": [],
   "source": [
    "y_pred = pipeline.predict(x_test)"
   ],
   "metadata": {
    "collapsed": false,
    "pycharm": {
     "name": "#%%\n"
    }
   }
  },
  {
   "cell_type": "markdown",
   "source": [
    "# SVR performance"
   ],
   "metadata": {
    "collapsed": false,
    "pycharm": {
     "name": "#%% md\n"
    }
   }
  },
  {
   "cell_type": "code",
   "execution_count": 195,
   "outputs": [],
   "source": [
    "from sklearn.metrics import mean_absolute_error,r2_score,explained_variance_score, mean_squared_error"
   ],
   "metadata": {
    "collapsed": false,
    "pycharm": {
     "name": "#%%\n"
    }
   }
  },
  {
   "cell_type": "code",
   "execution_count": 196,
   "outputs": [
    {
     "data": {
      "text/plain": "0.958234694177732"
     },
     "execution_count": 196,
     "metadata": {},
     "output_type": "execute_result"
    }
   ],
   "source": [
    "r2_score(y_test,y_pred)"
   ],
   "metadata": {
    "collapsed": false,
    "pycharm": {
     "name": "#%%\n"
    }
   }
  },
  {
   "cell_type": "code",
   "execution_count": 197,
   "outputs": [
    {
     "data": {
      "text/plain": "1821.942660130547"
     },
     "execution_count": 197,
     "metadata": {},
     "output_type": "execute_result"
    }
   ],
   "source": [
    "mean_absolute_error(y_test,y_pred)"
   ],
   "metadata": {
    "collapsed": false,
    "pycharm": {
     "name": "#%%\n"
    }
   }
  },
  {
   "cell_type": "code",
   "execution_count": 198,
   "outputs": [
    {
     "data": {
      "text/plain": "1232205285.078161"
     },
     "execution_count": 198,
     "metadata": {},
     "output_type": "execute_result"
    }
   ],
   "source": [
    "mean_squared_error(y_test,y_pred)"
   ],
   "metadata": {
    "collapsed": false,
    "pycharm": {
     "name": "#%%\n"
    }
   }
  },
  {
   "cell_type": "code",
   "execution_count": 199,
   "outputs": [
    {
     "data": {
      "text/plain": "0.9583416255584805"
     },
     "execution_count": 199,
     "metadata": {},
     "output_type": "execute_result"
    }
   ],
   "source": [
    "explained_variance_score(y_test,y_pred)"
   ],
   "metadata": {
    "collapsed": false,
    "pycharm": {
     "name": "#%%\n"
    }
   }
  },
  {
   "cell_type": "markdown",
   "source": [
    "## Visualize performance"
   ],
   "metadata": {
    "collapsed": false,
    "pycharm": {
     "name": "#%% md\n"
    }
   }
  },
  {
   "cell_type": "code",
   "execution_count": 200,
   "outputs": [
    {
     "data": {
      "text/plain": "array([ 7.66774367e+01,  1.17068694e+02,  6.68390551e+01,  1.46300421e+02,\n        5.09767983e+01,  7.48512795e+01,  6.16532153e+01,  6.82891630e+01,\n        1.62564983e+03,  1.19646007e+02,  6.70706430e+01,  5.93986816e+01,\n        1.98610886e+02,  5.99936643e+01,  3.23992529e+01,  4.52171257e+02,\n        4.49357903e+01,  5.19321489e+01,  4.61212539e+02,  2.85170991e+02,\n        6.36975408e+01,  4.70454612e+01,  4.19744387e+01,  5.03415495e+01,\n        1.47937194e+02,  2.63980808e+06,  6.24594358e+02,  1.00435930e+02,\n        1.37592299e+02,  1.24900355e+02,  8.32390906e+01,  6.63147699e+03,\n        7.35661587e+02,  6.24887965e+01,  4.14360485e+02,  5.86392551e+01,\n        4.81269543e+01,  6.27694743e+01,  5.27099249e+01,  7.07819597e+01,\n        6.72242796e+01,  8.94709790e+02,  6.10906953e+01,  3.92193871e+01,\n        5.42014796e+01,  8.59153239e+01,  4.74371671e+01,  5.09356176e+01,\n        5.45479358e+01,  3.47074938e+01,  4.15216749e+02,  2.53183264e+01,\n        7.06065535e+01,  5.06257528e+01,  4.71962564e+01,  6.41512113e+01,\n        8.49968929e+02,  4.94681472e+01,  3.06591039e+02,  6.49802603e+01,\n        5.32798382e+01,  1.41263883e+02,  2.53063830e+03,  4.57591047e+01,\n        4.90456396e+01,  8.58525766e+01,  6.46518585e+01,  6.23522959e+01,\n        4.52276887e+01,  6.29339010e+01,  4.01644858e+02,  6.52705802e+01,\n        5.14410264e+01,  6.38286526e+01,  4.93680965e+01,  7.63768334e+02,\n        7.29315576e+01,  4.76478650e+01,  5.08152804e+01,  5.65455935e+01,\n        4.76615548e+01,  1.53050526e+02,  1.47295199e+02,  4.37130057e+01,\n        3.88104728e+02,  1.07178827e+02,  5.22072445e+01,  8.31573068e+01,\n        8.06857500e+01,  8.07778682e+01,  5.37479684e+01,  6.37309677e+01,\n        6.97642456e+01,  8.34834228e+01,  5.37106230e+01,  6.35211453e+01,\n        6.90874452e+01,  9.29866819e+01,  7.59228086e+01,  5.33433075e+01,\n        7.14602364e+01,  7.71464886e+01,  1.39389082e+02,  9.00072243e+01,\n        7.33052437e+01,  6.35246138e+01,  5.02548375e+01,  8.24472244e+01,\n        4.39239319e+01,  6.62760770e+01,  3.18225395e+03,  5.38020508e+01,\n        7.27033240e+01,  5.15117329e+01,  5.23432598e+02,  1.33517440e+02,\n        4.64482205e+01,  1.21207797e+03,  8.02071932e+01,  1.07515678e+02,\n        4.23950950e+02,  9.98200338e+01,  1.44682071e+02,  4.57857928e+01,\n        2.21519085e+02,  7.92111254e+01,  4.57832712e+01,  5.19748238e+01,\n        4.98568041e+01,  1.00114738e+03,  9.86491897e+02,  8.24307973e+01,\n        5.14094142e+01,  7.68827892e+01,  7.98764485e+01,  7.92074315e+01,\n        7.29800402e+01,  1.61985101e+02,  5.82345723e+01,  9.59640143e+01,\n        9.05303272e+01,  4.36419209e+01,  5.57717256e+01,  7.77073909e+01,\n        5.53127744e+01,  1.02372191e+02,  4.97045544e+01,  8.02733095e+01,\n        6.59680923e+01,  2.78956493e+02,  6.02900041e+01,  3.76688297e+01,\n        2.78253784e+01,  4.92424183e+01,  5.32306005e+01,  7.79072495e+01,\n        1.27815608e+02,  6.69640491e+02,  1.00167535e+03,  5.66487600e+02,\n        5.46009106e+01,  6.76931960e+01,  4.19269799e+02,  5.92993867e+01,\n        5.14602046e+01,  3.64224638e+01,  6.13586558e+01,  5.76947260e+01,\n        1.09973335e+02,  1.11976126e+02,  8.00445405e+01,  4.49059355e+01,\n        6.80380535e+01,  6.49821948e+01,  7.61246327e+01,  3.66972528e+01,\n        8.17067906e+01,  4.47516422e+01,  7.71816612e+01,  6.28036896e+01,\n        9.06426538e+01,  7.78651264e+01,  5.96202581e+02,  5.11337649e+01,\n        5.44961146e+01,  1.07059381e+03,  5.01874776e+01,  5.48450235e+01,\n        8.72148242e+02,  1.14273539e+02,  1.45993102e+02,  9.47636408e+02,\n        4.29577250e+01,  6.76051030e+01,  2.06939739e+02,  1.28958813e+02,\n        6.06344878e+02,  7.29020864e+01,  9.21534443e+01,  5.64565239e+01,\n        8.20292731e+01,  5.78399127e+01,  3.29924009e+02,  5.25940016e+01,\n        9.47365946e+01,  5.33565114e+01,  7.92482113e+01,  9.01860978e+02,\n        1.43769924e+02,  3.40706655e+02,  5.44871637e+01,  8.80022501e+01,\n        1.20934882e+02,  3.70961200e+01,  4.96882218e+01,  9.38764881e+01,\n        2.17613423e+03,  4.50588832e+01,  3.23882841e+01,  4.35709378e+01,\n        4.06616348e+01,  3.91557257e+01,  6.43287832e+02,  4.99981057e+01,\n        5.16477414e+01,  1.13730199e+02,  6.57596344e+02,  7.85141235e+01,\n        8.23109229e+02,  4.56101727e+01,  6.17374081e+02,  9.43105854e+02,\n        5.56566520e+01,  5.35025679e+01,  4.99278711e+01,  7.68077589e+01,\n        3.46663550e+02,  9.44074888e+01,  8.91202061e+02,  5.09744147e+01,\n        8.39921355e+01,  8.90138595e+01,  6.59523988e+01,  5.14575266e+01,\n        5.37180274e+01,  5.86824308e+04,  8.55511741e+01,  1.10633745e+02,\n        8.97110786e+01,  5.13821379e+01,  8.53213908e+01,  7.90961722e+01,\n        8.82785714e+01,  4.58160952e+02,  5.93276913e+01,  5.95339321e+01,\n        7.69370095e+01,  5.76610794e+02,  3.30999668e+01,  7.68233672e+01,\n        8.21355300e+02,  1.01004044e+03,  5.97076995e+01,  5.05392697e+01,\n        6.34942611e+01,  8.11834681e+02,  8.40503664e+01,  4.82360351e+01,\n        2.66514881e+02,  6.78669240e+01,  6.86949879e+01,  3.79406829e+02,\n        7.56558268e+02,  7.12920409e+01,  3.58174400e+01,  2.23082683e+02,\n        5.18148529e+01,  4.58187426e+01,  8.02378460e+02,  5.67683919e+01,\n        5.32045068e+01,  4.95186690e+01,  5.91769989e+01,  8.33153778e+01,\n        5.06001098e+01, -9.03210318e+00,  6.33240933e+01,  6.82989685e+01,\n        5.24359715e+01,  6.54407965e+01,  1.92615439e+02,  5.72235373e+01,\n        5.90470604e+01,  7.07676847e+01,  1.28697871e+02,  1.22602915e+02,\n        3.37184623e+01,  1.38558660e+03,  8.68757419e+01,  6.57592757e+01,\n        1.05991229e+02,  4.97186200e+01,  5.63372697e+01,  1.39979473e+02,\n        4.62037107e+01,  4.62824607e+01,  5.33010629e+01,  5.75990139e+01,\n        9.12578228e+01,  5.63319418e+01,  7.81194696e+01,  6.95609954e+01,\n        7.43073767e+02,  4.56531061e+02,  4.96397324e+05,  1.54777331e+03,\n        9.07610180e+01,  6.69078205e+01,  9.08134623e+01,  7.18337734e+02,\n        5.16375430e+01,  6.51817761e+01,  7.86852844e+01,  8.61968326e+01,\n        7.78761092e+01,  5.23046654e+01,  1.27065557e+02,  6.88442846e+01,\n        5.76293958e+01,  5.08324408e+01,  2.56158544e+02,  8.34587681e+01,\n        5.68815857e+02,  7.51707737e+01,  1.81564221e+03,  5.78854928e+02,\n        8.13241216e+01,  4.00196653e+01,  5.64136943e+01,  3.42732599e+02,\n        7.76190989e+01,  7.70361715e+01,  5.33073113e+01,  3.33246854e+02,\n        6.24109848e+01,  9.69086025e+01,  6.54252055e+01,  5.18995615e+01,\n        5.45826316e+01,  8.46128214e+02,  5.85958701e+01,  8.77142344e+01,\n        1.42040414e+02,  4.83183058e+01,  4.91129446e+01,  4.57338799e+01,\n        6.58059215e+01,  9.83723237e+03,  7.72465385e+01,  6.98767218e+01,\n        4.33847712e+01,  4.45394173e+01,  6.34157804e+01,  1.01828632e+02,\n        8.05920508e+01,  7.53414409e+01,  5.14369420e+01,  7.04535693e+01,\n        8.62701964e+01,  3.28210633e+01,  6.12466655e+01,  8.74470080e+01,\n        5.82512694e+01,  1.21322771e+02,  7.66269450e+01,  3.28447383e+01,\n        4.41495910e+01,  5.16178728e+01,  6.98256279e+01,  8.29748694e+02,\n        1.00921163e+04,  5.19262817e+01])"
     },
     "execution_count": 200,
     "metadata": {},
     "output_type": "execute_result"
    }
   ],
   "source": [
    "y_pred"
   ],
   "metadata": {
    "collapsed": false,
    "pycharm": {
     "name": "#%%\n"
    }
   }
  },
  {
   "cell_type": "code",
   "execution_count": 201,
   "outputs": [
    {
     "data": {
      "text/plain": "1670       82.825892\n427       117.919896\n615        69.416136\n1404      147.670919\n469        51.515660\n            ...     \n1484       51.708044\n1264       69.669764\n1181      688.141181\n1987    10091.343432\n1107       52.954634\nName: wqi, Length: 382, dtype: float64"
     },
     "execution_count": 201,
     "metadata": {},
     "output_type": "execute_result"
    }
   ],
   "source": [
    "y_test"
   ],
   "metadata": {
    "collapsed": false,
    "pycharm": {
     "name": "#%%\n"
    }
   }
  },
  {
   "cell_type": "code",
   "execution_count": 202,
   "outputs": [
    {
     "name": "stdout",
     "output_type": "stream",
     "text": [
      "max\n",
      "2639808.080422451\n",
      "3325867.186019131\n",
      "mean\n",
      "8623.80935795476\n",
      "10399.986546128843\n",
      "std\n",
      "137196.44014307976\n",
      "171989.88032611972\n"
     ]
    }
   ],
   "source": [
    "print('max')\n",
    "print(y_pred.max())\n",
    "print(y_test.max())\n",
    "print('mean')\n",
    "print(y_pred.mean())\n",
    "print(y_test.mean())\n",
    "print('std')\n",
    "print(y_pred.std())\n",
    "print(y_test.std())"
   ],
   "metadata": {
    "collapsed": false,
    "pycharm": {
     "name": "#%%\n"
    }
   }
  },
  {
   "cell_type": "code",
   "execution_count": 203,
   "outputs": [],
   "source": [
    "import plotly.express as px\n",
    "import seaborn as sns\n",
    "import matplotlib.pyplot as plt"
   ],
   "metadata": {
    "collapsed": false,
    "pycharm": {
     "name": "#%%\n"
    }
   }
  },
  {
   "cell_type": "code",
   "execution_count": 204,
   "outputs": [
    {
     "data": {
      "application/vnd.plotly.v1+json": {
       "data": [
        {
         "hovertemplate": "x=%{x}<br>y=%{y}<extra></extra>",
         "legendgroup": "",
         "marker": {
          "color": "#636efa",
          "symbol": "circle"
         },
         "mode": "markers",
         "name": "",
         "orientation": "v",
         "showlegend": false,
         "x": [
          82.82589246376811,
          117.91989594202899,
          69.416135942029,
          147.67091913043478,
          51.51566,
          76.72106173913043,
          45.00332762318842,
          69.33099304347826,
          1671.4147927536233,
          120.68518173913044,
          69.81525507246378,
          58.52361101449275,
          176.07013275362323,
          61.02015971014493,
          33.44898637681159,
          415.4177063768117,
          44.461310434782604,
          52.760775362318846,
          454.83494579710145,
          307.3618142028986,
          64.5873284057971,
          45.817540579710126,
          42.53346466666667,
          50.91185652173913,
          149.27911739130437,
          3325867.186019131,
          566.9132660869565,
          101.83592666666668,
          139.9212597101449,
          129.27251072463767,
          83.96286202898551,
          1696.4852252173914,
          801.1034226086957,
          63.574935362318854,
          392.59566,
          58.862577391304356,
          48.034364057971025,
          62.86160289855073,
          53.410619999999994,
          72.1066495652174,
          67.52377188405796,
          979.6386182608697,
          61.50002695652175,
          39.89487507246377,
          46.28240811594203,
          86.66058811594203,
          45.9984568115942,
          49.20144724637682,
          55.50684231884058,
          34.84844840579711,
          419.05193217391303,
          24.583323478260873,
          71.5351272463768,
          51.32010695652174,
          41.99850695652174,
          67.11936173913044,
          847.2231157724638,
          50.20124202898551,
          275.5845608695652,
          62.77839623188407,
          53.50741536231886,
          142.13922811594205,
          2529.680288315942,
          46.511295072463774,
          49.71564,
          85.27326223188408,
          62.07047536231883,
          62.783588115942024,
          46.066362318840575,
          55.20390550724639,
          183.3367635362319,
          67.66596144927537,
          54.995368405797095,
          64.63008637681159,
          49.58295507246377,
          672.6858353623188,
          73.27551449275363,
          48.500827826086955,
          51.58104086956522,
          55.85644434782608,
          48.208895072463775,
          153.46720695652175,
          147.79253101449277,
          43.88769623188406,
          389.39839507246376,
          116.06640115942031,
          52.94642434782609,
          81.07546289855071,
          81.91095942028986,
          77.57324898550725,
          54.50164115942029,
          64.67138028985507,
          69.43154173913044,
          84.98434376811595,
          54.243062028985506,
          58.455935652173906,
          72.7715704347826,
          93.84852869565219,
          73.11480115942028,
          52.721626086956526,
          72.30828956521738,
          79.23180434782607,
          132.4716455072464,
          90.90144985507246,
          74.26570695652174,
          55.94716289855074,
          51.004653043478264,
          86.90906956521741,
          41.49629652173912,
          67.32890927536232,
          3181.893242646377,
          55.3835284057971,
          73.0471055072464,
          51.92601826086957,
          566.4111104347826,
          139.93293942028987,
          46.888795942028985,
          1280.384456231884,
          80.35880985507248,
          108.1782811594203,
          501.0988489855073,
          104.27727913043479,
          101.25560086956523,
          44.93108376811593,
          187.9854736231884,
          79.94062840579711,
          46.535387826086954,
          52.76054173913043,
          49.3976147826087,
          1061.2794008695653,
          1087.1516402898553,
          83.1950631884058,
          51.726490724637685,
          77.0062507246377,
          82.03664231884059,
          81.47884869565219,
          72.82198724637682,
          146.76069884057972,
          59.669999420289855,
          96.83639478260869,
          93.78352550724638,
          42.388973913043486,
          56.52444202898552,
          81.08651449275364,
          56.24164811594202,
          103.82966,
          50.46462231884057,
          80.66383536231885,
          63.22904869565218,
          267.6216284057971,
          61.04238869565218,
          37.6966368115942,
          28.456948985507236,
          48.86079507246378,
          54.50045072463769,
          78.63312202898551,
          130.74214898550724,
          648.586622062319,
          1049.830363768116,
          548.649095652174,
          55.37568782608696,
          68.65579768115941,
          242.47136086956522,
          60.83286550724638,
          52.30910376811593,
          37.653815072463765,
          59.269704347826085,
          54.064495942029,
          107.58115565217392,
          111.8115527536232,
          80.58750289855072,
          45.09951507246377,
          68.47754811594203,
          65.42373739130434,
          77.58610260869565,
          37.35257478260869,
          82.2911420289855,
          45.72857420289855,
          78.3075947826087,
          61.97902173913044,
          91.46050840579713,
          78.45736231884057,
          301.23553333333336,
          52.08583159420291,
          55.18011652173913,
          957.1251141449276,
          51.026509275362315,
          55.585160869565215,
          878.5197875362319,
          110.31309826086958,
          151.2726150724638,
          981.1923663768117,
          43.89853971014494,
          68.80936260869566,
          177.55254086956523,
          133.11592869565217,
          623.2625402898551,
          73.36374086956522,
          95.49333101449275,
          56.47239855072464,
          82.2008504347826,
          58.2889431884058,
          324.45980202898556,
          53.828029565217385,
          95.6363895652174,
          53.34955101449274,
          79.3327168115942,
          828.1471936231885,
          130.97911489855073,
          343.4060052173913,
          53.22569652173913,
          90.702435942029,
          121.64162289855074,
          37.314862608695655,
          50.5413631884058,
          94.89874521739131,
          1474.637223768116,
          45.77106028985508,
          32.59176753623188,
          44.26678086956522,
          41.028343072463755,
          37.554187536231886,
          651.3466937101448,
          48.17336376811594,
          53.07118347826087,
          92.16553130434782,
          560.8819968115941,
          79.35910173913042,
          933.877407246377,
          45.58160753623188,
          580.0802620289854,
          926.5058238594202,
          56.53666173913044,
          55.359455652173914,
          50.23191014492754,
          76.53167130434782,
          267.4256139130435,
          94.38019739130436,
          846.6567895652174,
          51.73911826086955,
          84.86338289855074,
          94.40412231884058,
          66.35491304347826,
          52.20760811594203,
          54.49242115942029,
          58680.748612511605,
          66.94464057971012,
          111.78457159420289,
          93.27009623188405,
          51.54345652173914,
          87.55671217391306,
          76.06801913043478,
          89.43923362318841,
          458.1675507188406,
          58.4938472463768,
          61.523955942029,
          77.12187826086956,
          566.9739339130435,
          33.806982318840575,
          77.38312260869564,
          805.5075126956523,
          1005.8297193753625,
          55.09233043478261,
          51.438746666666674,
          64.1601072463768,
          757.0261089855073,
          83.92488405797103,
          48.93401449275361,
          247.75948057971016,
          68.90749275362319,
          69.42229536231885,
          232.0729003768116,
          729.4641147826087,
          74.5443507246377,
          37.869415942028986,
          211.31047304347828,
          52.576107246376814,
          46.75176811594203,
          784.0938292753623,
          57.609654492753634,
          54.64714840579711,
          49.09042463768117,
          59.95316985507246,
          80.82781478260868,
          50.261360347826084,
          -8.214970724637684,
          64.62633942028987,
          56.3334484057971,
          52.126372173913055,
          66.35923710144925,
          184.0459397101449,
          57.71037826086956,
          56.286143188405795,
          71.4064852173913,
          138.28760376811596,
          123.57171304347825,
          31.56262550724638,
          1312.801651982609,
          88.42164898550723,
          66.64167666666668,
          102.6614295652174,
          49.4096484057971,
          59.95412144927537,
          138.67865333333333,
          47.224099420289875,
          46.913503478260864,
          54.30514289855073,
          58.65416057971014,
          92.15105536231887,
          54.30429652173913,
          81.1371463768116,
          70.34723942028985,
          718.9796428985508,
          453.3268211594203,
          496388.83553286677,
          1616.225016231884,
          90.91850289855073,
          57.35672869565219,
          92.89908318840578,
          383.63586666666663,
          46.78160898550725,
          66.3538095652174,
          77.89455971014496,
          88.44062028985508,
          76.57392869565217,
          51.62477043478261,
          113.5955231884058,
          68.36357768115943,
          58.63439014492754,
          51.561228695652176,
          231.49714753623186,
          84.88703681159419,
          475.8181466666667,
          75.75688840579708,
          1815.3233892666672,
          617.2048231884058,
          82.17264898550725,
          40.822689507246366,
          57.23532,
          250.51663246376813,
          76.83795594202898,
          77.88800811594204,
          51.435567536231886,
          310.43019536231884,
          62.61407681159421,
          99.95155710144927,
          66.69095652173914,
          52.47759301449273,
          55.25816666666668,
          795.2605368115943,
          59.681428405797114,
          88.31734289855073,
          124.89076724637681,
          48.96819999999999,
          47.70230000000001,
          46.689206956521744,
          64.36129710144928,
          9803.22176964058,
          74.80752695652176,
          71.98315652173913,
          44.161133333333325,
          42.143980869565205,
          64.14308492753624,
          99.68434724637682,
          81.16032260869565,
          63.659283768115934,
          52.45796202898552,
          72.77923449275363,
          82.84175391304348,
          32.98158231884058,
          52.935867826086955,
          88.38795014492754,
          58.81922898550724,
          120.32183217391305,
          76.92142231884058,
          29.269514492753625,
          44.44467304347826,
          51.70804434782608,
          69.66976434782607,
          688.1411805797101,
          10091.34343207971,
          52.95463449275364
         ],
         "xaxis": "x",
         "y": [
          76.67743667581453,
          117.06869417547023,
          66.83905506381961,
          146.30042102881634,
          50.976798328851146,
          74.85127951532559,
          61.653215255279065,
          68.28916301345998,
          1625.6498259882283,
          119.64600674797657,
          67.07064301381615,
          59.398681583359576,
          198.61088579374155,
          59.99366434483454,
          32.39925292961561,
          452.1712565432481,
          44.93579029672037,
          51.93214893736331,
          461.21253876162336,
          285.1709909183737,
          63.69754078408732,
          47.04546119144834,
          41.974438705688954,
          50.34154950925222,
          147.93719402326496,
          2639808.080422451,
          624.5943575998135,
          100.43592992953018,
          137.59229882333238,
          124.90035493371943,
          83.23909058430763,
          6631.476985348321,
          735.6615871694412,
          62.48879651711832,
          414.36048515559014,
          58.63925506339183,
          48.12695426041864,
          62.769474339072985,
          52.709924915612646,
          70.78195967751708,
          67.22427963848168,
          894.7097901220804,
          61.09069525695122,
          39.219387100582026,
          54.20147959100359,
          85.91532388956512,
          47.43716714689435,
          50.93561763890284,
          54.54793577067721,
          34.707493786241685,
          415.2167491486507,
          25.318326448450534,
          70.60655350476372,
          50.625752774929424,
          47.19625643548716,
          64.1512113164772,
          849.968929293902,
          49.468147212219264,
          306.59103876682093,
          64.98026026967455,
          53.279838229751476,
          141.26388321253216,
          2530.63830047426,
          45.75910468057191,
          49.0456395720139,
          85.8525765571867,
          64.65185845324777,
          62.352295861244784,
          45.227688650864366,
          62.93390097669908,
          401.6448576830335,
          65.27058022747951,
          51.44102639376797,
          63.82865255287652,
          49.36809646582333,
          763.7683344838952,
          72.93155758290413,
          47.64786503268988,
          50.815280379887554,
          56.54559354760386,
          47.66155478437577,
          153.05052566578343,
          147.29519908215298,
          43.71300574648558,
          388.10472757843127,
          107.17882677168382,
          52.2072444565747,
          83.15730677735155,
          80.6857499700127,
          80.77786817735978,
          53.74796844967568,
          63.7309677425219,
          69.764245594366,
          83.48342281625264,
          53.71062300396261,
          63.52114533162239,
          69.08744523723726,
          92.98668189439559,
          75.92280859660968,
          53.34330751613561,
          71.46023643488479,
          77.14648857786051,
          139.38908222445752,
          90.00722425354252,
          73.30524367024736,
          63.52461384421258,
          50.254837530836085,
          82.44722438416647,
          43.92393189479117,
          66.27607704272668,
          3182.253946784599,
          53.8020508431764,
          72.7033239508346,
          51.51173288580685,
          523.4325979340119,
          133.51743964655543,
          46.448220494932684,
          1212.077965782053,
          80.20719316167197,
          107.51567782645725,
          423.9509503231202,
          99.82003376712782,
          144.68207104485555,
          45.785792840741124,
          221.51908460653976,
          79.21112538965463,
          45.78327121499933,
          51.97482375762411,
          49.85680410875284,
          1001.1473829768438,
          986.491896581585,
          82.43079725193093,
          51.409414154013575,
          76.8827891660003,
          79.87644850489232,
          79.20743145273991,
          72.98004022842724,
          161.98510061518937,
          58.23457226545361,
          95.964014252786,
          90.53032721857926,
          43.64192089259086,
          55.77172558960228,
          77.70739089365634,
          55.31277438932557,
          102.3721912694873,
          49.704554434143574,
          80.27330953864657,
          65.96809228647544,
          278.9564925219129,
          60.290004099450016,
          37.668829682426804,
          27.825378426441603,
          49.242418280282436,
          53.230600538090584,
          77.90724946171213,
          127.81560767463088,
          669.6404906948301,
          1001.6753548951529,
          566.4876003493882,
          54.60091061598905,
          67.6931960370639,
          419.2697994770897,
          59.299386705586585,
          51.46020456156111,
          36.42246382840676,
          61.35865576833385,
          57.69472603308532,
          109.97333488542972,
          111.97612615056278,
          80.04454050231288,
          44.90593547149183,
          68.03805346425906,
          64.98219481451815,
          76.12463270683656,
          36.69725277869111,
          81.70679062092677,
          44.75164220219449,
          77.1816611618724,
          62.803689646958446,
          90.64265380999132,
          77.86512640816545,
          596.2025806411893,
          51.13376492516545,
          54.49611456981802,
          1070.593814895543,
          50.18747762751809,
          54.84502350022376,
          872.1482419065796,
          114.27353861616575,
          145.9931016473911,
          947.6364075833662,
          42.95772501288229,
          67.60510299739872,
          206.93973894983355,
          128.95881310063487,
          606.344877869029,
          72.90208635642739,
          92.15344430376535,
          56.45652385505127,
          82.02927309348343,
          57.83991274831169,
          329.92400894317143,
          52.594001593384746,
          94.73659461377247,
          53.35651135300941,
          79.24821129460179,
          901.8609781949126,
          143.7699243920615,
          340.7066552191882,
          54.48716366506778,
          88.00225014228636,
          120.93488248423455,
          37.096119973955865,
          49.6882218475439,
          93.87648805725985,
          2176.1342256637035,
          45.0588831542409,
          32.388284111959365,
          43.570937750366284,
          40.661634758474975,
          39.155725690045074,
          643.2878316821425,
          49.998105717757426,
          51.6477413843113,
          113.73019893313358,
          657.5963440879277,
          78.51412353086926,
          823.1092293404799,
          45.61017271556557,
          617.3740814850589,
          943.1058537249501,
          55.656652025041694,
          53.502567864730736,
          49.92787114627208,
          76.80775890069526,
          346.6635501402707,
          94.40748877276201,
          891.2020606624283,
          50.974414746582625,
          83.99213545100065,
          89.01385946871778,
          65.95239877824133,
          51.45752657418052,
          53.71802743799344,
          58682.43078066695,
          85.55117409198101,
          110.6337447290316,
          89.71107861303062,
          51.38213790653572,
          85.3213907927402,
          79.09617222600355,
          88.27857142714674,
          458.1609515186483,
          59.327691286795016,
          59.53393214290372,
          76.9370094694641,
          576.6107940196125,
          33.09996679041069,
          76.82336720081366,
          821.3552997043225,
          1010.0404389346404,
          59.70769954838397,
          50.53926974027672,
          63.49426106925239,
          811.8346812926156,
          84.05036637192643,
          48.236035117364736,
          266.51488110914215,
          67.86692396743092,
          68.69498790378566,
          379.40682915154684,
          756.5582683250723,
          71.29204090462554,
          35.81744000584331,
          223.08268317905095,
          51.81485291644276,
          45.818742648509215,
          802.3784602033829,
          56.768391909577986,
          53.20450682233786,
          49.51866904666713,
          59.17699889723008,
          83.315377752313,
          50.60010984019755,
          -9.03210318327001,
          63.32409328540416,
          68.29896853620266,
          52.435971452599915,
          65.44079647851686,
          192.61543868166882,
          57.2235373146832,
          59.0470604424263,
          70.76768467396687,
          128.69787122425623,
          122.60291532827068,
          33.71846225175614,
          1385.5865993398638,
          86.87574187167047,
          65.75927566477549,
          105.99122906985758,
          49.71861995339714,
          56.3372697056202,
          139.97947328883674,
          46.203710737854635,
          46.28246068864064,
          53.30106292012715,
          57.599013931219815,
          91.25782282184082,
          56.33194178575468,
          78.11946956364773,
          69.5609954235988,
          743.0737673262138,
          456.5310606249204,
          496397.32446019765,
          1547.7733100413461,
          90.76101799770913,
          66.90782047616267,
          90.81346228024631,
          718.3377344066157,
          51.63754301888548,
          65.18177608526821,
          78.68528436795532,
          86.1968326193728,
          77.87610921628038,
          52.30466538301698,
          127.06555672530158,
          68.84428460631898,
          57.62939583261323,
          50.83244081896919,
          256.15854383743863,
          83.4587681338835,
          568.8158573803576,
          75.17077372985841,
          1815.642213912418,
          578.8549282614185,
          81.32412163634399,
          40.019665327639814,
          56.413694273094734,
          342.7325990938152,
          77.619098872623,
          77.03617145208591,
          53.30731126214232,
          333.2468537745026,
          62.41098483432688,
          96.90860246542434,
          65.42520549084657,
          51.89956152398008,
          54.58263163205629,
          846.1282142271593,
          58.595870144637956,
          87.71423441790103,
          142.0404143062733,
          48.31830583604278,
          49.112944617732865,
          45.733879911709664,
          65.80592147967582,
          9837.23237153248,
          77.24653854616554,
          69.87672175759508,
          43.38477118328956,
          44.53941729693361,
          63.41578041319917,
          101.82863197144616,
          80.59205075658429,
          75.34144085811931,
          51.436941988473336,
          70.45356933729636,
          86.27019639262289,
          32.821063274230255,
          61.24666552007511,
          87.44700797668702,
          58.251269436290386,
          121.32277120222352,
          76.62694496890435,
          32.84473829804483,
          44.14959100789929,
          51.617872830916895,
          69.82562792062708,
          829.7486935113138,
          10092.116255358564,
          51.92628166578652
         ],
         "yaxis": "y",
         "type": "scatter"
        }
       ],
       "layout": {
        "template": {
         "data": {
          "histogram2dcontour": [
           {
            "type": "histogram2dcontour",
            "colorbar": {
             "outlinewidth": 0,
             "ticks": ""
            },
            "colorscale": [
             [
              0.0,
              "#0d0887"
             ],
             [
              0.1111111111111111,
              "#46039f"
             ],
             [
              0.2222222222222222,
              "#7201a8"
             ],
             [
              0.3333333333333333,
              "#9c179e"
             ],
             [
              0.4444444444444444,
              "#bd3786"
             ],
             [
              0.5555555555555556,
              "#d8576b"
             ],
             [
              0.6666666666666666,
              "#ed7953"
             ],
             [
              0.7777777777777778,
              "#fb9f3a"
             ],
             [
              0.8888888888888888,
              "#fdca26"
             ],
             [
              1.0,
              "#f0f921"
             ]
            ]
           }
          ],
          "choropleth": [
           {
            "type": "choropleth",
            "colorbar": {
             "outlinewidth": 0,
             "ticks": ""
            }
           }
          ],
          "histogram2d": [
           {
            "type": "histogram2d",
            "colorbar": {
             "outlinewidth": 0,
             "ticks": ""
            },
            "colorscale": [
             [
              0.0,
              "#0d0887"
             ],
             [
              0.1111111111111111,
              "#46039f"
             ],
             [
              0.2222222222222222,
              "#7201a8"
             ],
             [
              0.3333333333333333,
              "#9c179e"
             ],
             [
              0.4444444444444444,
              "#bd3786"
             ],
             [
              0.5555555555555556,
              "#d8576b"
             ],
             [
              0.6666666666666666,
              "#ed7953"
             ],
             [
              0.7777777777777778,
              "#fb9f3a"
             ],
             [
              0.8888888888888888,
              "#fdca26"
             ],
             [
              1.0,
              "#f0f921"
             ]
            ]
           }
          ],
          "heatmap": [
           {
            "type": "heatmap",
            "colorbar": {
             "outlinewidth": 0,
             "ticks": ""
            },
            "colorscale": [
             [
              0.0,
              "#0d0887"
             ],
             [
              0.1111111111111111,
              "#46039f"
             ],
             [
              0.2222222222222222,
              "#7201a8"
             ],
             [
              0.3333333333333333,
              "#9c179e"
             ],
             [
              0.4444444444444444,
              "#bd3786"
             ],
             [
              0.5555555555555556,
              "#d8576b"
             ],
             [
              0.6666666666666666,
              "#ed7953"
             ],
             [
              0.7777777777777778,
              "#fb9f3a"
             ],
             [
              0.8888888888888888,
              "#fdca26"
             ],
             [
              1.0,
              "#f0f921"
             ]
            ]
           }
          ],
          "heatmapgl": [
           {
            "type": "heatmapgl",
            "colorbar": {
             "outlinewidth": 0,
             "ticks": ""
            },
            "colorscale": [
             [
              0.0,
              "#0d0887"
             ],
             [
              0.1111111111111111,
              "#46039f"
             ],
             [
              0.2222222222222222,
              "#7201a8"
             ],
             [
              0.3333333333333333,
              "#9c179e"
             ],
             [
              0.4444444444444444,
              "#bd3786"
             ],
             [
              0.5555555555555556,
              "#d8576b"
             ],
             [
              0.6666666666666666,
              "#ed7953"
             ],
             [
              0.7777777777777778,
              "#fb9f3a"
             ],
             [
              0.8888888888888888,
              "#fdca26"
             ],
             [
              1.0,
              "#f0f921"
             ]
            ]
           }
          ],
          "contourcarpet": [
           {
            "type": "contourcarpet",
            "colorbar": {
             "outlinewidth": 0,
             "ticks": ""
            }
           }
          ],
          "contour": [
           {
            "type": "contour",
            "colorbar": {
             "outlinewidth": 0,
             "ticks": ""
            },
            "colorscale": [
             [
              0.0,
              "#0d0887"
             ],
             [
              0.1111111111111111,
              "#46039f"
             ],
             [
              0.2222222222222222,
              "#7201a8"
             ],
             [
              0.3333333333333333,
              "#9c179e"
             ],
             [
              0.4444444444444444,
              "#bd3786"
             ],
             [
              0.5555555555555556,
              "#d8576b"
             ],
             [
              0.6666666666666666,
              "#ed7953"
             ],
             [
              0.7777777777777778,
              "#fb9f3a"
             ],
             [
              0.8888888888888888,
              "#fdca26"
             ],
             [
              1.0,
              "#f0f921"
             ]
            ]
           }
          ],
          "surface": [
           {
            "type": "surface",
            "colorbar": {
             "outlinewidth": 0,
             "ticks": ""
            },
            "colorscale": [
             [
              0.0,
              "#0d0887"
             ],
             [
              0.1111111111111111,
              "#46039f"
             ],
             [
              0.2222222222222222,
              "#7201a8"
             ],
             [
              0.3333333333333333,
              "#9c179e"
             ],
             [
              0.4444444444444444,
              "#bd3786"
             ],
             [
              0.5555555555555556,
              "#d8576b"
             ],
             [
              0.6666666666666666,
              "#ed7953"
             ],
             [
              0.7777777777777778,
              "#fb9f3a"
             ],
             [
              0.8888888888888888,
              "#fdca26"
             ],
             [
              1.0,
              "#f0f921"
             ]
            ]
           }
          ],
          "mesh3d": [
           {
            "type": "mesh3d",
            "colorbar": {
             "outlinewidth": 0,
             "ticks": ""
            }
           }
          ],
          "scatter": [
           {
            "marker": {
             "line": {
              "color": "#283442"
             }
            },
            "type": "scatter"
           }
          ],
          "parcoords": [
           {
            "type": "parcoords",
            "line": {
             "colorbar": {
              "outlinewidth": 0,
              "ticks": ""
             }
            }
           }
          ],
          "scatterpolargl": [
           {
            "type": "scatterpolargl",
            "marker": {
             "colorbar": {
              "outlinewidth": 0,
              "ticks": ""
             }
            }
           }
          ],
          "bar": [
           {
            "error_x": {
             "color": "#f2f5fa"
            },
            "error_y": {
             "color": "#f2f5fa"
            },
            "marker": {
             "line": {
              "color": "rgb(17,17,17)",
              "width": 0.5
             },
             "pattern": {
              "fillmode": "overlay",
              "size": 10,
              "solidity": 0.2
             }
            },
            "type": "bar"
           }
          ],
          "scattergeo": [
           {
            "type": "scattergeo",
            "marker": {
             "colorbar": {
              "outlinewidth": 0,
              "ticks": ""
             }
            }
           }
          ],
          "scatterpolar": [
           {
            "type": "scatterpolar",
            "marker": {
             "colorbar": {
              "outlinewidth": 0,
              "ticks": ""
             }
            }
           }
          ],
          "histogram": [
           {
            "marker": {
             "pattern": {
              "fillmode": "overlay",
              "size": 10,
              "solidity": 0.2
             }
            },
            "type": "histogram"
           }
          ],
          "scattergl": [
           {
            "marker": {
             "line": {
              "color": "#283442"
             }
            },
            "type": "scattergl"
           }
          ],
          "scatter3d": [
           {
            "type": "scatter3d",
            "line": {
             "colorbar": {
              "outlinewidth": 0,
              "ticks": ""
             }
            },
            "marker": {
             "colorbar": {
              "outlinewidth": 0,
              "ticks": ""
             }
            }
           }
          ],
          "scattermapbox": [
           {
            "type": "scattermapbox",
            "marker": {
             "colorbar": {
              "outlinewidth": 0,
              "ticks": ""
             }
            }
           }
          ],
          "scatterternary": [
           {
            "type": "scatterternary",
            "marker": {
             "colorbar": {
              "outlinewidth": 0,
              "ticks": ""
             }
            }
           }
          ],
          "scattercarpet": [
           {
            "type": "scattercarpet",
            "marker": {
             "colorbar": {
              "outlinewidth": 0,
              "ticks": ""
             }
            }
           }
          ],
          "carpet": [
           {
            "aaxis": {
             "endlinecolor": "#A2B1C6",
             "gridcolor": "#506784",
             "linecolor": "#506784",
             "minorgridcolor": "#506784",
             "startlinecolor": "#A2B1C6"
            },
            "baxis": {
             "endlinecolor": "#A2B1C6",
             "gridcolor": "#506784",
             "linecolor": "#506784",
             "minorgridcolor": "#506784",
             "startlinecolor": "#A2B1C6"
            },
            "type": "carpet"
           }
          ],
          "table": [
           {
            "cells": {
             "fill": {
              "color": "#506784"
             },
             "line": {
              "color": "rgb(17,17,17)"
             }
            },
            "header": {
             "fill": {
              "color": "#2a3f5f"
             },
             "line": {
              "color": "rgb(17,17,17)"
             }
            },
            "type": "table"
           }
          ],
          "barpolar": [
           {
            "marker": {
             "line": {
              "color": "rgb(17,17,17)",
              "width": 0.5
             },
             "pattern": {
              "fillmode": "overlay",
              "size": 10,
              "solidity": 0.2
             }
            },
            "type": "barpolar"
           }
          ],
          "pie": [
           {
            "automargin": true,
            "type": "pie"
           }
          ]
         },
         "layout": {
          "autotypenumbers": "strict",
          "colorway": [
           "#636efa",
           "#EF553B",
           "#00cc96",
           "#ab63fa",
           "#FFA15A",
           "#19d3f3",
           "#FF6692",
           "#B6E880",
           "#FF97FF",
           "#FECB52"
          ],
          "font": {
           "color": "#f2f5fa"
          },
          "hovermode": "closest",
          "hoverlabel": {
           "align": "left"
          },
          "paper_bgcolor": "rgb(17,17,17)",
          "plot_bgcolor": "rgb(17,17,17)",
          "polar": {
           "bgcolor": "rgb(17,17,17)",
           "angularaxis": {
            "gridcolor": "#506784",
            "linecolor": "#506784",
            "ticks": ""
           },
           "radialaxis": {
            "gridcolor": "#506784",
            "linecolor": "#506784",
            "ticks": ""
           }
          },
          "ternary": {
           "bgcolor": "rgb(17,17,17)",
           "aaxis": {
            "gridcolor": "#506784",
            "linecolor": "#506784",
            "ticks": ""
           },
           "baxis": {
            "gridcolor": "#506784",
            "linecolor": "#506784",
            "ticks": ""
           },
           "caxis": {
            "gridcolor": "#506784",
            "linecolor": "#506784",
            "ticks": ""
           }
          },
          "coloraxis": {
           "colorbar": {
            "outlinewidth": 0,
            "ticks": ""
           }
          },
          "colorscale": {
           "sequential": [
            [
             0.0,
             "#0d0887"
            ],
            [
             0.1111111111111111,
             "#46039f"
            ],
            [
             0.2222222222222222,
             "#7201a8"
            ],
            [
             0.3333333333333333,
             "#9c179e"
            ],
            [
             0.4444444444444444,
             "#bd3786"
            ],
            [
             0.5555555555555556,
             "#d8576b"
            ],
            [
             0.6666666666666666,
             "#ed7953"
            ],
            [
             0.7777777777777778,
             "#fb9f3a"
            ],
            [
             0.8888888888888888,
             "#fdca26"
            ],
            [
             1.0,
             "#f0f921"
            ]
           ],
           "sequentialminus": [
            [
             0.0,
             "#0d0887"
            ],
            [
             0.1111111111111111,
             "#46039f"
            ],
            [
             0.2222222222222222,
             "#7201a8"
            ],
            [
             0.3333333333333333,
             "#9c179e"
            ],
            [
             0.4444444444444444,
             "#bd3786"
            ],
            [
             0.5555555555555556,
             "#d8576b"
            ],
            [
             0.6666666666666666,
             "#ed7953"
            ],
            [
             0.7777777777777778,
             "#fb9f3a"
            ],
            [
             0.8888888888888888,
             "#fdca26"
            ],
            [
             1.0,
             "#f0f921"
            ]
           ],
           "diverging": [
            [
             0,
             "#8e0152"
            ],
            [
             0.1,
             "#c51b7d"
            ],
            [
             0.2,
             "#de77ae"
            ],
            [
             0.3,
             "#f1b6da"
            ],
            [
             0.4,
             "#fde0ef"
            ],
            [
             0.5,
             "#f7f7f7"
            ],
            [
             0.6,
             "#e6f5d0"
            ],
            [
             0.7,
             "#b8e186"
            ],
            [
             0.8,
             "#7fbc41"
            ],
            [
             0.9,
             "#4d9221"
            ],
            [
             1,
             "#276419"
            ]
           ]
          },
          "xaxis": {
           "gridcolor": "#283442",
           "linecolor": "#506784",
           "ticks": "",
           "title": {
            "standoff": 15
           },
           "zerolinecolor": "#283442",
           "automargin": true,
           "zerolinewidth": 2
          },
          "yaxis": {
           "gridcolor": "#283442",
           "linecolor": "#506784",
           "ticks": "",
           "title": {
            "standoff": 15
           },
           "zerolinecolor": "#283442",
           "automargin": true,
           "zerolinewidth": 2
          },
          "scene": {
           "xaxis": {
            "backgroundcolor": "rgb(17,17,17)",
            "gridcolor": "#506784",
            "linecolor": "#506784",
            "showbackground": true,
            "ticks": "",
            "zerolinecolor": "#C8D4E3",
            "gridwidth": 2
           },
           "yaxis": {
            "backgroundcolor": "rgb(17,17,17)",
            "gridcolor": "#506784",
            "linecolor": "#506784",
            "showbackground": true,
            "ticks": "",
            "zerolinecolor": "#C8D4E3",
            "gridwidth": 2
           },
           "zaxis": {
            "backgroundcolor": "rgb(17,17,17)",
            "gridcolor": "#506784",
            "linecolor": "#506784",
            "showbackground": true,
            "ticks": "",
            "zerolinecolor": "#C8D4E3",
            "gridwidth": 2
           }
          },
          "shapedefaults": {
           "line": {
            "color": "#f2f5fa"
           }
          },
          "annotationdefaults": {
           "arrowcolor": "#f2f5fa",
           "arrowhead": 0,
           "arrowwidth": 1
          },
          "geo": {
           "bgcolor": "rgb(17,17,17)",
           "landcolor": "rgb(17,17,17)",
           "subunitcolor": "#506784",
           "showland": true,
           "showlakes": true,
           "lakecolor": "rgb(17,17,17)"
          },
          "title": {
           "x": 0.05
          },
          "updatemenudefaults": {
           "bgcolor": "#506784",
           "borderwidth": 0
          },
          "sliderdefaults": {
           "bgcolor": "#C8D4E3",
           "borderwidth": 1,
           "bordercolor": "rgb(17,17,17)",
           "tickwidth": 0
          },
          "mapbox": {
           "style": "dark"
          }
         }
        },
        "xaxis": {
         "anchor": "y",
         "domain": [
          0.0,
          1.0
         ],
         "title": {
          "text": "x"
         }
        },
        "yaxis": {
         "anchor": "x",
         "domain": [
          0.0,
          1.0
         ],
         "title": {
          "text": "y"
         }
        },
        "legend": {
         "tracegroupgap": 0
        },
        "margin": {
         "t": 60
        }
       },
       "config": {
        "plotlyServerURL": "https://plot.ly"
       }
      },
      "text/html": "<div>                            <div id=\"b38aa75a-dbc6-4685-a255-8ad7cab33386\" class=\"plotly-graph-div\" style=\"height:525px; width:100%;\"></div>            <script type=\"text/javascript\">                require([\"plotly\"], function(Plotly) {                    window.PLOTLYENV=window.PLOTLYENV || {};                                    if (document.getElementById(\"b38aa75a-dbc6-4685-a255-8ad7cab33386\")) {                    Plotly.newPlot(                        \"b38aa75a-dbc6-4685-a255-8ad7cab33386\",                        [{\"hovertemplate\":\"x=%{x}<br>y=%{y}<extra></extra>\",\"legendgroup\":\"\",\"marker\":{\"color\":\"#636efa\",\"symbol\":\"circle\"},\"mode\":\"markers\",\"name\":\"\",\"orientation\":\"v\",\"showlegend\":false,\"x\":[82.82589246376811,117.91989594202899,69.416135942029,147.67091913043478,51.51566,76.72106173913043,45.00332762318842,69.33099304347826,1671.4147927536233,120.68518173913044,69.81525507246378,58.52361101449275,176.07013275362323,61.02015971014493,33.44898637681159,415.4177063768117,44.461310434782604,52.760775362318846,454.83494579710145,307.3618142028986,64.5873284057971,45.817540579710126,42.53346466666667,50.91185652173913,149.27911739130437,3325867.186019131,566.9132660869565,101.83592666666668,139.9212597101449,129.27251072463767,83.96286202898551,1696.4852252173914,801.1034226086957,63.574935362318854,392.59566,58.862577391304356,48.034364057971025,62.86160289855073,53.410619999999994,72.1066495652174,67.52377188405796,979.6386182608697,61.50002695652175,39.89487507246377,46.28240811594203,86.66058811594203,45.9984568115942,49.20144724637682,55.50684231884058,34.84844840579711,419.05193217391303,24.583323478260873,71.5351272463768,51.32010695652174,41.99850695652174,67.11936173913044,847.2231157724638,50.20124202898551,275.5845608695652,62.77839623188407,53.50741536231886,142.13922811594205,2529.680288315942,46.511295072463774,49.71564,85.27326223188408,62.07047536231883,62.783588115942024,46.066362318840575,55.20390550724639,183.3367635362319,67.66596144927537,54.995368405797095,64.63008637681159,49.58295507246377,672.6858353623188,73.27551449275363,48.500827826086955,51.58104086956522,55.85644434782608,48.208895072463775,153.46720695652175,147.79253101449277,43.88769623188406,389.39839507246376,116.06640115942031,52.94642434782609,81.07546289855071,81.91095942028986,77.57324898550725,54.50164115942029,64.67138028985507,69.43154173913044,84.98434376811595,54.243062028985506,58.455935652173906,72.7715704347826,93.84852869565219,73.11480115942028,52.721626086956526,72.30828956521738,79.23180434782607,132.4716455072464,90.90144985507246,74.26570695652174,55.94716289855074,51.004653043478264,86.90906956521741,41.49629652173912,67.32890927536232,3181.893242646377,55.3835284057971,73.0471055072464,51.92601826086957,566.4111104347826,139.93293942028987,46.888795942028985,1280.384456231884,80.35880985507248,108.1782811594203,501.0988489855073,104.27727913043479,101.25560086956523,44.93108376811593,187.9854736231884,79.94062840579711,46.535387826086954,52.76054173913043,49.3976147826087,1061.2794008695653,1087.1516402898553,83.1950631884058,51.726490724637685,77.0062507246377,82.03664231884059,81.47884869565219,72.82198724637682,146.76069884057972,59.669999420289855,96.83639478260869,93.78352550724638,42.388973913043486,56.52444202898552,81.08651449275364,56.24164811594202,103.82966,50.46462231884057,80.66383536231885,63.22904869565218,267.6216284057971,61.04238869565218,37.6966368115942,28.456948985507236,48.86079507246378,54.50045072463769,78.63312202898551,130.74214898550724,648.586622062319,1049.830363768116,548.649095652174,55.37568782608696,68.65579768115941,242.47136086956522,60.83286550724638,52.30910376811593,37.653815072463765,59.269704347826085,54.064495942029,107.58115565217392,111.8115527536232,80.58750289855072,45.09951507246377,68.47754811594203,65.42373739130434,77.58610260869565,37.35257478260869,82.2911420289855,45.72857420289855,78.3075947826087,61.97902173913044,91.46050840579713,78.45736231884057,301.23553333333336,52.08583159420291,55.18011652173913,957.1251141449276,51.026509275362315,55.585160869565215,878.5197875362319,110.31309826086958,151.2726150724638,981.1923663768117,43.89853971014494,68.80936260869566,177.55254086956523,133.11592869565217,623.2625402898551,73.36374086956522,95.49333101449275,56.47239855072464,82.2008504347826,58.2889431884058,324.45980202898556,53.828029565217385,95.6363895652174,53.34955101449274,79.3327168115942,828.1471936231885,130.97911489855073,343.4060052173913,53.22569652173913,90.702435942029,121.64162289855074,37.314862608695655,50.5413631884058,94.89874521739131,1474.637223768116,45.77106028985508,32.59176753623188,44.26678086956522,41.028343072463755,37.554187536231886,651.3466937101448,48.17336376811594,53.07118347826087,92.16553130434782,560.8819968115941,79.35910173913042,933.877407246377,45.58160753623188,580.0802620289854,926.5058238594202,56.53666173913044,55.359455652173914,50.23191014492754,76.53167130434782,267.4256139130435,94.38019739130436,846.6567895652174,51.73911826086955,84.86338289855074,94.40412231884058,66.35491304347826,52.20760811594203,54.49242115942029,58680.748612511605,66.94464057971012,111.78457159420289,93.27009623188405,51.54345652173914,87.55671217391306,76.06801913043478,89.43923362318841,458.1675507188406,58.4938472463768,61.523955942029,77.12187826086956,566.9739339130435,33.806982318840575,77.38312260869564,805.5075126956523,1005.8297193753625,55.09233043478261,51.438746666666674,64.1601072463768,757.0261089855073,83.92488405797103,48.93401449275361,247.75948057971016,68.90749275362319,69.42229536231885,232.0729003768116,729.4641147826087,74.5443507246377,37.869415942028986,211.31047304347828,52.576107246376814,46.75176811594203,784.0938292753623,57.609654492753634,54.64714840579711,49.09042463768117,59.95316985507246,80.82781478260868,50.261360347826084,-8.214970724637684,64.62633942028987,56.3334484057971,52.126372173913055,66.35923710144925,184.0459397101449,57.71037826086956,56.286143188405795,71.4064852173913,138.28760376811596,123.57171304347825,31.56262550724638,1312.801651982609,88.42164898550723,66.64167666666668,102.6614295652174,49.4096484057971,59.95412144927537,138.67865333333333,47.224099420289875,46.913503478260864,54.30514289855073,58.65416057971014,92.15105536231887,54.30429652173913,81.1371463768116,70.34723942028985,718.9796428985508,453.3268211594203,496388.83553286677,1616.225016231884,90.91850289855073,57.35672869565219,92.89908318840578,383.63586666666663,46.78160898550725,66.3538095652174,77.89455971014496,88.44062028985508,76.57392869565217,51.62477043478261,113.5955231884058,68.36357768115943,58.63439014492754,51.561228695652176,231.49714753623186,84.88703681159419,475.8181466666667,75.75688840579708,1815.3233892666672,617.2048231884058,82.17264898550725,40.822689507246366,57.23532,250.51663246376813,76.83795594202898,77.88800811594204,51.435567536231886,310.43019536231884,62.61407681159421,99.95155710144927,66.69095652173914,52.47759301449273,55.25816666666668,795.2605368115943,59.681428405797114,88.31734289855073,124.89076724637681,48.96819999999999,47.70230000000001,46.689206956521744,64.36129710144928,9803.22176964058,74.80752695652176,71.98315652173913,44.161133333333325,42.143980869565205,64.14308492753624,99.68434724637682,81.16032260869565,63.659283768115934,52.45796202898552,72.77923449275363,82.84175391304348,32.98158231884058,52.935867826086955,88.38795014492754,58.81922898550724,120.32183217391305,76.92142231884058,29.269514492753625,44.44467304347826,51.70804434782608,69.66976434782607,688.1411805797101,10091.34343207971,52.95463449275364],\"xaxis\":\"x\",\"y\":[76.67743667581453,117.06869417547023,66.83905506381961,146.30042102881634,50.976798328851146,74.85127951532559,61.653215255279065,68.28916301345998,1625.6498259882283,119.64600674797657,67.07064301381615,59.398681583359576,198.61088579374155,59.99366434483454,32.39925292961561,452.1712565432481,44.93579029672037,51.93214893736331,461.21253876162336,285.1709909183737,63.69754078408732,47.04546119144834,41.974438705688954,50.34154950925222,147.93719402326496,2639808.080422451,624.5943575998135,100.43592992953018,137.59229882333238,124.90035493371943,83.23909058430763,6631.476985348321,735.6615871694412,62.48879651711832,414.36048515559014,58.63925506339183,48.12695426041864,62.769474339072985,52.709924915612646,70.78195967751708,67.22427963848168,894.7097901220804,61.09069525695122,39.219387100582026,54.20147959100359,85.91532388956512,47.43716714689435,50.93561763890284,54.54793577067721,34.707493786241685,415.2167491486507,25.318326448450534,70.60655350476372,50.625752774929424,47.19625643548716,64.1512113164772,849.968929293902,49.468147212219264,306.59103876682093,64.98026026967455,53.279838229751476,141.26388321253216,2530.63830047426,45.75910468057191,49.0456395720139,85.8525765571867,64.65185845324777,62.352295861244784,45.227688650864366,62.93390097669908,401.6448576830335,65.27058022747951,51.44102639376797,63.82865255287652,49.36809646582333,763.7683344838952,72.93155758290413,47.64786503268988,50.815280379887554,56.54559354760386,47.66155478437577,153.05052566578343,147.29519908215298,43.71300574648558,388.10472757843127,107.17882677168382,52.2072444565747,83.15730677735155,80.6857499700127,80.77786817735978,53.74796844967568,63.7309677425219,69.764245594366,83.48342281625264,53.71062300396261,63.52114533162239,69.08744523723726,92.98668189439559,75.92280859660968,53.34330751613561,71.46023643488479,77.14648857786051,139.38908222445752,90.00722425354252,73.30524367024736,63.52461384421258,50.254837530836085,82.44722438416647,43.92393189479117,66.27607704272668,3182.253946784599,53.8020508431764,72.7033239508346,51.51173288580685,523.4325979340119,133.51743964655543,46.448220494932684,1212.077965782053,80.20719316167197,107.51567782645725,423.9509503231202,99.82003376712782,144.68207104485555,45.785792840741124,221.51908460653976,79.21112538965463,45.78327121499933,51.97482375762411,49.85680410875284,1001.1473829768438,986.491896581585,82.43079725193093,51.409414154013575,76.8827891660003,79.87644850489232,79.20743145273991,72.98004022842724,161.98510061518937,58.23457226545361,95.964014252786,90.53032721857926,43.64192089259086,55.77172558960228,77.70739089365634,55.31277438932557,102.3721912694873,49.704554434143574,80.27330953864657,65.96809228647544,278.9564925219129,60.290004099450016,37.668829682426804,27.825378426441603,49.242418280282436,53.230600538090584,77.90724946171213,127.81560767463088,669.6404906948301,1001.6753548951529,566.4876003493882,54.60091061598905,67.6931960370639,419.2697994770897,59.299386705586585,51.46020456156111,36.42246382840676,61.35865576833385,57.69472603308532,109.97333488542972,111.97612615056278,80.04454050231288,44.90593547149183,68.03805346425906,64.98219481451815,76.12463270683656,36.69725277869111,81.70679062092677,44.75164220219449,77.1816611618724,62.803689646958446,90.64265380999132,77.86512640816545,596.2025806411893,51.13376492516545,54.49611456981802,1070.593814895543,50.18747762751809,54.84502350022376,872.1482419065796,114.27353861616575,145.9931016473911,947.6364075833662,42.95772501288229,67.60510299739872,206.93973894983355,128.95881310063487,606.344877869029,72.90208635642739,92.15344430376535,56.45652385505127,82.02927309348343,57.83991274831169,329.92400894317143,52.594001593384746,94.73659461377247,53.35651135300941,79.24821129460179,901.8609781949126,143.7699243920615,340.7066552191882,54.48716366506778,88.00225014228636,120.93488248423455,37.096119973955865,49.6882218475439,93.87648805725985,2176.1342256637035,45.0588831542409,32.388284111959365,43.570937750366284,40.661634758474975,39.155725690045074,643.2878316821425,49.998105717757426,51.6477413843113,113.73019893313358,657.5963440879277,78.51412353086926,823.1092293404799,45.61017271556557,617.3740814850589,943.1058537249501,55.656652025041694,53.502567864730736,49.92787114627208,76.80775890069526,346.6635501402707,94.40748877276201,891.2020606624283,50.974414746582625,83.99213545100065,89.01385946871778,65.95239877824133,51.45752657418052,53.71802743799344,58682.43078066695,85.55117409198101,110.6337447290316,89.71107861303062,51.38213790653572,85.3213907927402,79.09617222600355,88.27857142714674,458.1609515186483,59.327691286795016,59.53393214290372,76.9370094694641,576.6107940196125,33.09996679041069,76.82336720081366,821.3552997043225,1010.0404389346404,59.70769954838397,50.53926974027672,63.49426106925239,811.8346812926156,84.05036637192643,48.236035117364736,266.51488110914215,67.86692396743092,68.69498790378566,379.40682915154684,756.5582683250723,71.29204090462554,35.81744000584331,223.08268317905095,51.81485291644276,45.818742648509215,802.3784602033829,56.768391909577986,53.20450682233786,49.51866904666713,59.17699889723008,83.315377752313,50.60010984019755,-9.03210318327001,63.32409328540416,68.29896853620266,52.435971452599915,65.44079647851686,192.61543868166882,57.2235373146832,59.0470604424263,70.76768467396687,128.69787122425623,122.60291532827068,33.71846225175614,1385.5865993398638,86.87574187167047,65.75927566477549,105.99122906985758,49.71861995339714,56.3372697056202,139.97947328883674,46.203710737854635,46.28246068864064,53.30106292012715,57.599013931219815,91.25782282184082,56.33194178575468,78.11946956364773,69.5609954235988,743.0737673262138,456.5310606249204,496397.32446019765,1547.7733100413461,90.76101799770913,66.90782047616267,90.81346228024631,718.3377344066157,51.63754301888548,65.18177608526821,78.68528436795532,86.1968326193728,77.87610921628038,52.30466538301698,127.06555672530158,68.84428460631898,57.62939583261323,50.83244081896919,256.15854383743863,83.4587681338835,568.8158573803576,75.17077372985841,1815.642213912418,578.8549282614185,81.32412163634399,40.019665327639814,56.413694273094734,342.7325990938152,77.619098872623,77.03617145208591,53.30731126214232,333.2468537745026,62.41098483432688,96.90860246542434,65.42520549084657,51.89956152398008,54.58263163205629,846.1282142271593,58.595870144637956,87.71423441790103,142.0404143062733,48.31830583604278,49.112944617732865,45.733879911709664,65.80592147967582,9837.23237153248,77.24653854616554,69.87672175759508,43.38477118328956,44.53941729693361,63.41578041319917,101.82863197144616,80.59205075658429,75.34144085811931,51.436941988473336,70.45356933729636,86.27019639262289,32.821063274230255,61.24666552007511,87.44700797668702,58.251269436290386,121.32277120222352,76.62694496890435,32.84473829804483,44.14959100789929,51.617872830916895,69.82562792062708,829.7486935113138,10092.116255358564,51.92628166578652],\"yaxis\":\"y\",\"type\":\"scatter\"}],                        {\"template\":{\"data\":{\"histogram2dcontour\":[{\"type\":\"histogram2dcontour\",\"colorbar\":{\"outlinewidth\":0,\"ticks\":\"\"},\"colorscale\":[[0.0,\"#0d0887\"],[0.1111111111111111,\"#46039f\"],[0.2222222222222222,\"#7201a8\"],[0.3333333333333333,\"#9c179e\"],[0.4444444444444444,\"#bd3786\"],[0.5555555555555556,\"#d8576b\"],[0.6666666666666666,\"#ed7953\"],[0.7777777777777778,\"#fb9f3a\"],[0.8888888888888888,\"#fdca26\"],[1.0,\"#f0f921\"]]}],\"choropleth\":[{\"type\":\"choropleth\",\"colorbar\":{\"outlinewidth\":0,\"ticks\":\"\"}}],\"histogram2d\":[{\"type\":\"histogram2d\",\"colorbar\":{\"outlinewidth\":0,\"ticks\":\"\"},\"colorscale\":[[0.0,\"#0d0887\"],[0.1111111111111111,\"#46039f\"],[0.2222222222222222,\"#7201a8\"],[0.3333333333333333,\"#9c179e\"],[0.4444444444444444,\"#bd3786\"],[0.5555555555555556,\"#d8576b\"],[0.6666666666666666,\"#ed7953\"],[0.7777777777777778,\"#fb9f3a\"],[0.8888888888888888,\"#fdca26\"],[1.0,\"#f0f921\"]]}],\"heatmap\":[{\"type\":\"heatmap\",\"colorbar\":{\"outlinewidth\":0,\"ticks\":\"\"},\"colorscale\":[[0.0,\"#0d0887\"],[0.1111111111111111,\"#46039f\"],[0.2222222222222222,\"#7201a8\"],[0.3333333333333333,\"#9c179e\"],[0.4444444444444444,\"#bd3786\"],[0.5555555555555556,\"#d8576b\"],[0.6666666666666666,\"#ed7953\"],[0.7777777777777778,\"#fb9f3a\"],[0.8888888888888888,\"#fdca26\"],[1.0,\"#f0f921\"]]}],\"heatmapgl\":[{\"type\":\"heatmapgl\",\"colorbar\":{\"outlinewidth\":0,\"ticks\":\"\"},\"colorscale\":[[0.0,\"#0d0887\"],[0.1111111111111111,\"#46039f\"],[0.2222222222222222,\"#7201a8\"],[0.3333333333333333,\"#9c179e\"],[0.4444444444444444,\"#bd3786\"],[0.5555555555555556,\"#d8576b\"],[0.6666666666666666,\"#ed7953\"],[0.7777777777777778,\"#fb9f3a\"],[0.8888888888888888,\"#fdca26\"],[1.0,\"#f0f921\"]]}],\"contourcarpet\":[{\"type\":\"contourcarpet\",\"colorbar\":{\"outlinewidth\":0,\"ticks\":\"\"}}],\"contour\":[{\"type\":\"contour\",\"colorbar\":{\"outlinewidth\":0,\"ticks\":\"\"},\"colorscale\":[[0.0,\"#0d0887\"],[0.1111111111111111,\"#46039f\"],[0.2222222222222222,\"#7201a8\"],[0.3333333333333333,\"#9c179e\"],[0.4444444444444444,\"#bd3786\"],[0.5555555555555556,\"#d8576b\"],[0.6666666666666666,\"#ed7953\"],[0.7777777777777778,\"#fb9f3a\"],[0.8888888888888888,\"#fdca26\"],[1.0,\"#f0f921\"]]}],\"surface\":[{\"type\":\"surface\",\"colorbar\":{\"outlinewidth\":0,\"ticks\":\"\"},\"colorscale\":[[0.0,\"#0d0887\"],[0.1111111111111111,\"#46039f\"],[0.2222222222222222,\"#7201a8\"],[0.3333333333333333,\"#9c179e\"],[0.4444444444444444,\"#bd3786\"],[0.5555555555555556,\"#d8576b\"],[0.6666666666666666,\"#ed7953\"],[0.7777777777777778,\"#fb9f3a\"],[0.8888888888888888,\"#fdca26\"],[1.0,\"#f0f921\"]]}],\"mesh3d\":[{\"type\":\"mesh3d\",\"colorbar\":{\"outlinewidth\":0,\"ticks\":\"\"}}],\"scatter\":[{\"marker\":{\"line\":{\"color\":\"#283442\"}},\"type\":\"scatter\"}],\"parcoords\":[{\"type\":\"parcoords\",\"line\":{\"colorbar\":{\"outlinewidth\":0,\"ticks\":\"\"}}}],\"scatterpolargl\":[{\"type\":\"scatterpolargl\",\"marker\":{\"colorbar\":{\"outlinewidth\":0,\"ticks\":\"\"}}}],\"bar\":[{\"error_x\":{\"color\":\"#f2f5fa\"},\"error_y\":{\"color\":\"#f2f5fa\"},\"marker\":{\"line\":{\"color\":\"rgb(17,17,17)\",\"width\":0.5},\"pattern\":{\"fillmode\":\"overlay\",\"size\":10,\"solidity\":0.2}},\"type\":\"bar\"}],\"scattergeo\":[{\"type\":\"scattergeo\",\"marker\":{\"colorbar\":{\"outlinewidth\":0,\"ticks\":\"\"}}}],\"scatterpolar\":[{\"type\":\"scatterpolar\",\"marker\":{\"colorbar\":{\"outlinewidth\":0,\"ticks\":\"\"}}}],\"histogram\":[{\"marker\":{\"pattern\":{\"fillmode\":\"overlay\",\"size\":10,\"solidity\":0.2}},\"type\":\"histogram\"}],\"scattergl\":[{\"marker\":{\"line\":{\"color\":\"#283442\"}},\"type\":\"scattergl\"}],\"scatter3d\":[{\"type\":\"scatter3d\",\"line\":{\"colorbar\":{\"outlinewidth\":0,\"ticks\":\"\"}},\"marker\":{\"colorbar\":{\"outlinewidth\":0,\"ticks\":\"\"}}}],\"scattermapbox\":[{\"type\":\"scattermapbox\",\"marker\":{\"colorbar\":{\"outlinewidth\":0,\"ticks\":\"\"}}}],\"scatterternary\":[{\"type\":\"scatterternary\",\"marker\":{\"colorbar\":{\"outlinewidth\":0,\"ticks\":\"\"}}}],\"scattercarpet\":[{\"type\":\"scattercarpet\",\"marker\":{\"colorbar\":{\"outlinewidth\":0,\"ticks\":\"\"}}}],\"carpet\":[{\"aaxis\":{\"endlinecolor\":\"#A2B1C6\",\"gridcolor\":\"#506784\",\"linecolor\":\"#506784\",\"minorgridcolor\":\"#506784\",\"startlinecolor\":\"#A2B1C6\"},\"baxis\":{\"endlinecolor\":\"#A2B1C6\",\"gridcolor\":\"#506784\",\"linecolor\":\"#506784\",\"minorgridcolor\":\"#506784\",\"startlinecolor\":\"#A2B1C6\"},\"type\":\"carpet\"}],\"table\":[{\"cells\":{\"fill\":{\"color\":\"#506784\"},\"line\":{\"color\":\"rgb(17,17,17)\"}},\"header\":{\"fill\":{\"color\":\"#2a3f5f\"},\"line\":{\"color\":\"rgb(17,17,17)\"}},\"type\":\"table\"}],\"barpolar\":[{\"marker\":{\"line\":{\"color\":\"rgb(17,17,17)\",\"width\":0.5},\"pattern\":{\"fillmode\":\"overlay\",\"size\":10,\"solidity\":0.2}},\"type\":\"barpolar\"}],\"pie\":[{\"automargin\":true,\"type\":\"pie\"}]},\"layout\":{\"autotypenumbers\":\"strict\",\"colorway\":[\"#636efa\",\"#EF553B\",\"#00cc96\",\"#ab63fa\",\"#FFA15A\",\"#19d3f3\",\"#FF6692\",\"#B6E880\",\"#FF97FF\",\"#FECB52\"],\"font\":{\"color\":\"#f2f5fa\"},\"hovermode\":\"closest\",\"hoverlabel\":{\"align\":\"left\"},\"paper_bgcolor\":\"rgb(17,17,17)\",\"plot_bgcolor\":\"rgb(17,17,17)\",\"polar\":{\"bgcolor\":\"rgb(17,17,17)\",\"angularaxis\":{\"gridcolor\":\"#506784\",\"linecolor\":\"#506784\",\"ticks\":\"\"},\"radialaxis\":{\"gridcolor\":\"#506784\",\"linecolor\":\"#506784\",\"ticks\":\"\"}},\"ternary\":{\"bgcolor\":\"rgb(17,17,17)\",\"aaxis\":{\"gridcolor\":\"#506784\",\"linecolor\":\"#506784\",\"ticks\":\"\"},\"baxis\":{\"gridcolor\":\"#506784\",\"linecolor\":\"#506784\",\"ticks\":\"\"},\"caxis\":{\"gridcolor\":\"#506784\",\"linecolor\":\"#506784\",\"ticks\":\"\"}},\"coloraxis\":{\"colorbar\":{\"outlinewidth\":0,\"ticks\":\"\"}},\"colorscale\":{\"sequential\":[[0.0,\"#0d0887\"],[0.1111111111111111,\"#46039f\"],[0.2222222222222222,\"#7201a8\"],[0.3333333333333333,\"#9c179e\"],[0.4444444444444444,\"#bd3786\"],[0.5555555555555556,\"#d8576b\"],[0.6666666666666666,\"#ed7953\"],[0.7777777777777778,\"#fb9f3a\"],[0.8888888888888888,\"#fdca26\"],[1.0,\"#f0f921\"]],\"sequentialminus\":[[0.0,\"#0d0887\"],[0.1111111111111111,\"#46039f\"],[0.2222222222222222,\"#7201a8\"],[0.3333333333333333,\"#9c179e\"],[0.4444444444444444,\"#bd3786\"],[0.5555555555555556,\"#d8576b\"],[0.6666666666666666,\"#ed7953\"],[0.7777777777777778,\"#fb9f3a\"],[0.8888888888888888,\"#fdca26\"],[1.0,\"#f0f921\"]],\"diverging\":[[0,\"#8e0152\"],[0.1,\"#c51b7d\"],[0.2,\"#de77ae\"],[0.3,\"#f1b6da\"],[0.4,\"#fde0ef\"],[0.5,\"#f7f7f7\"],[0.6,\"#e6f5d0\"],[0.7,\"#b8e186\"],[0.8,\"#7fbc41\"],[0.9,\"#4d9221\"],[1,\"#276419\"]]},\"xaxis\":{\"gridcolor\":\"#283442\",\"linecolor\":\"#506784\",\"ticks\":\"\",\"title\":{\"standoff\":15},\"zerolinecolor\":\"#283442\",\"automargin\":true,\"zerolinewidth\":2},\"yaxis\":{\"gridcolor\":\"#283442\",\"linecolor\":\"#506784\",\"ticks\":\"\",\"title\":{\"standoff\":15},\"zerolinecolor\":\"#283442\",\"automargin\":true,\"zerolinewidth\":2},\"scene\":{\"xaxis\":{\"backgroundcolor\":\"rgb(17,17,17)\",\"gridcolor\":\"#506784\",\"linecolor\":\"#506784\",\"showbackground\":true,\"ticks\":\"\",\"zerolinecolor\":\"#C8D4E3\",\"gridwidth\":2},\"yaxis\":{\"backgroundcolor\":\"rgb(17,17,17)\",\"gridcolor\":\"#506784\",\"linecolor\":\"#506784\",\"showbackground\":true,\"ticks\":\"\",\"zerolinecolor\":\"#C8D4E3\",\"gridwidth\":2},\"zaxis\":{\"backgroundcolor\":\"rgb(17,17,17)\",\"gridcolor\":\"#506784\",\"linecolor\":\"#506784\",\"showbackground\":true,\"ticks\":\"\",\"zerolinecolor\":\"#C8D4E3\",\"gridwidth\":2}},\"shapedefaults\":{\"line\":{\"color\":\"#f2f5fa\"}},\"annotationdefaults\":{\"arrowcolor\":\"#f2f5fa\",\"arrowhead\":0,\"arrowwidth\":1},\"geo\":{\"bgcolor\":\"rgb(17,17,17)\",\"landcolor\":\"rgb(17,17,17)\",\"subunitcolor\":\"#506784\",\"showland\":true,\"showlakes\":true,\"lakecolor\":\"rgb(17,17,17)\"},\"title\":{\"x\":0.05},\"updatemenudefaults\":{\"bgcolor\":\"#506784\",\"borderwidth\":0},\"sliderdefaults\":{\"bgcolor\":\"#C8D4E3\",\"borderwidth\":1,\"bordercolor\":\"rgb(17,17,17)\",\"tickwidth\":0},\"mapbox\":{\"style\":\"dark\"}}},\"xaxis\":{\"anchor\":\"y\",\"domain\":[0.0,1.0],\"title\":{\"text\":\"x\"}},\"yaxis\":{\"anchor\":\"x\",\"domain\":[0.0,1.0],\"title\":{\"text\":\"y\"}},\"legend\":{\"tracegroupgap\":0},\"margin\":{\"t\":60}},                        {\"responsive\": true}                    ).then(function(){\n                            \nvar gd = document.getElementById('b38aa75a-dbc6-4685-a255-8ad7cab33386');\nvar x = new MutationObserver(function (mutations, observer) {{\n        var display = window.getComputedStyle(gd).display;\n        if (!display || display === 'none') {{\n            console.log([gd, 'removed!']);\n            Plotly.purge(gd);\n            observer.disconnect();\n        }}\n}});\n\n// Listen for the removal of the full notebook cells\nvar notebookContainer = gd.closest('#notebook-container');\nif (notebookContainer) {{\n    x.observe(notebookContainer, {childList: true});\n}}\n\n// Listen for the clearing of the current output cell\nvar outputEl = gd.closest('.output');\nif (outputEl) {{\n    x.observe(outputEl, {childList: true});\n}}\n\n                        })                };                });            </script>        </div>"
     },
     "metadata": {},
     "output_type": "display_data"
    }
   ],
   "source": [
    "fig = px.scatter(x=y_test,y=y_pred\n",
    ")\n",
    "fig.show()"
   ],
   "metadata": {
    "collapsed": false,
    "pycharm": {
     "name": "#%%\n"
    }
   }
  },
  {
   "cell_type": "markdown",
   "source": [
    "# WQC Classification"
   ],
   "metadata": {
    "collapsed": false,
    "pycharm": {
     "name": "#%% md\n"
    }
   }
  },
  {
   "cell_type": "markdown",
   "source": [
    "Excellent = 5\n",
    "Good = 4\n",
    "Poor = 3\n",
    "Very Poor = 2\n",
    "Unsuitable for drinking = 1"
   ],
   "metadata": {
    "collapsed": false,
    "pycharm": {
     "name": "#%% md\n"
    }
   }
  },
  {
   "cell_type": "code",
   "execution_count": 205,
   "outputs": [],
   "source": [
    "def calc_wqc(wqi):\n",
    "    WQI = wqi\n",
    "    if WQI<=25:\n",
    "        WQC=5\n",
    "    elif WQI>25 and WQI<=50:\n",
    "        WQC=4\n",
    "    elif WQI>50 and WQI<=75:\n",
    "        WQC=3\n",
    "    elif WQI>75 and WQI<=100:\n",
    "        WQC=2\n",
    "    elif WQI>100:\n",
    "        WQC=1\n",
    "    return WQC"
   ],
   "metadata": {
    "collapsed": false,
    "pycharm": {
     "name": "#%%\n"
    }
   }
  },
  {
   "cell_type": "code",
   "execution_count": 206,
   "outputs": [],
   "source": [
    "wqc = []\n",
    "for i in df4.wqi:\n",
    "    wqc.append(calc_wqc(i))"
   ],
   "metadata": {
    "collapsed": false,
    "pycharm": {
     "name": "#%%\n"
    }
   }
  },
  {
   "cell_type": "code",
   "execution_count": 207,
   "outputs": [],
   "source": [
    "df5 = df4"
   ],
   "metadata": {
    "collapsed": false,
    "pycharm": {
     "name": "#%%\n"
    }
   }
  },
  {
   "cell_type": "code",
   "execution_count": 208,
   "outputs": [
    {
     "name": "stderr",
     "output_type": "stream",
     "text": [
      "C:\\Users\\kople\\AppData\\Local\\Temp\\ipykernel_12388\\3023407178.py:1: SettingWithCopyWarning:\n",
      "\n",
      "\n",
      "A value is trying to be set on a copy of a slice from a DataFrame.\n",
      "Try using .loc[row_indexer,col_indexer] = value instead\n",
      "\n",
      "See the caveats in the documentation: https://pandas.pydata.org/pandas-docs/stable/user_guide/indexing.html#returning-a-view-versus-a-copy\n",
      "\n"
     ]
    }
   ],
   "source": [
    "df5['wqc']=wqc"
   ],
   "metadata": {
    "collapsed": false,
    "pycharm": {
     "name": "#%%\n"
    }
   }
  },
  {
   "cell_type": "code",
   "execution_count": 209,
   "outputs": [
    {
     "data": {
      "text/plain": "      station                                           location state  Temp  \\\n1      1399.0  ZUARI AT D/S OF PT. WHERE KUMBARJRIA CANAL JOI...   GOA  29.8   \n2      1475.0                                ZUARI AT PANCHAWADI   GOA  29.5   \n3      3181.0                        RIVER ZUARI AT BORIM BRIDGE   GOA  29.7   \n4      3182.0                       RIVER ZUARI AT MARCAIM JETTY   GOA  29.5   \n5      1400.0             MANDOVI AT NEGHBOURHOOD OF PANAJI, GOA   GOA  30.0   \n...       ...                                                ...   ...   ...   \n1981   1160.0  TAMBIRAPARANI AT CHERANMADEVI,CAUSE WAY,TAMILNADU   NAN  31.0   \n1982   1161.0  TAMBIRAPARANI AT TIRUNELVELI,COLLECTORATE,    ...   NAN  29.0   \n1984   1328.0             TAMBIRAPARANI AT PAPPANKULAM,TAMILNADU   NAN  28.0   \n1985   1329.0  TAMBIRAPARANI AT RAIL BDG. NR. AMBASAMUDAM, TA...   NAN  28.0   \n1987   1450.0  PALAR AT VANIYAMBADI WATER SUPPLY HEAD WORK, T...   NAN  29.0   \n\n       do     ph  conductivity  BOD     nn  fecal_coliform  \\\n1     5.7    7.2         189.0  2.0  0.200        4953.000   \n2     6.3    6.9         179.0  1.7  0.100        3243.000   \n3     5.8    6.9          64.0  3.8  0.500        5382.000   \n4     5.8    7.3          83.0  1.9  0.400        3428.000   \n5     5.5    7.4          81.0  1.5  0.100        2853.000   \n...   ...    ...           ...  ...    ...             ...   \n1981  7.3  178.0           6.7  1.5  0.138           0.138   \n1982  7.1  214.0           6.8  2.3  0.585           0.585   \n1984  6.9  146.0           7.1  2.0  0.506           0.506   \n1985  7.0  136.0           7.5  1.4  0.609           0.609   \n1987  7.5  585.0           6.3  2.6  0.155           0.155   \n\n      total_coliform_mean  year           wqi  wqc  \n1                  8391.0  2014    175.363506    1  \n2                  5330.0  2014    126.135831    1  \n3                  8443.0  2014    195.105659    1  \n4                  5500.0  2014    141.393246    1  \n5                  4049.0  2014    127.971746    1  \n...                   ...   ...           ...  ...  \n1981                190.0  2003   3017.018760    1  \n1982                350.0  2003   3650.116506    1  \n1984                 38.0  2003   2467.864123    1  \n1985                205.0  2003   2288.522202    1  \n1987                315.0  2003  10091.343432    1  \n\n[1528 rows x 14 columns]",
      "text/html": "<div>\n<style scoped>\n    .dataframe tbody tr th:only-of-type {\n        vertical-align: middle;\n    }\n\n    .dataframe tbody tr th {\n        vertical-align: top;\n    }\n\n    .dataframe thead th {\n        text-align: right;\n    }\n</style>\n<table border=\"1\" class=\"dataframe\">\n  <thead>\n    <tr style=\"text-align: right;\">\n      <th></th>\n      <th>station</th>\n      <th>location</th>\n      <th>state</th>\n      <th>Temp</th>\n      <th>do</th>\n      <th>ph</th>\n      <th>conductivity</th>\n      <th>BOD</th>\n      <th>nn</th>\n      <th>fecal_coliform</th>\n      <th>total_coliform_mean</th>\n      <th>year</th>\n      <th>wqi</th>\n      <th>wqc</th>\n    </tr>\n  </thead>\n  <tbody>\n    <tr>\n      <th>1</th>\n      <td>1399.0</td>\n      <td>ZUARI AT D/S OF PT. WHERE KUMBARJRIA CANAL JOI...</td>\n      <td>GOA</td>\n      <td>29.8</td>\n      <td>5.7</td>\n      <td>7.2</td>\n      <td>189.0</td>\n      <td>2.0</td>\n      <td>0.200</td>\n      <td>4953.000</td>\n      <td>8391.0</td>\n      <td>2014</td>\n      <td>175.363506</td>\n      <td>1</td>\n    </tr>\n    <tr>\n      <th>2</th>\n      <td>1475.0</td>\n      <td>ZUARI AT PANCHAWADI</td>\n      <td>GOA</td>\n      <td>29.5</td>\n      <td>6.3</td>\n      <td>6.9</td>\n      <td>179.0</td>\n      <td>1.7</td>\n      <td>0.100</td>\n      <td>3243.000</td>\n      <td>5330.0</td>\n      <td>2014</td>\n      <td>126.135831</td>\n      <td>1</td>\n    </tr>\n    <tr>\n      <th>3</th>\n      <td>3181.0</td>\n      <td>RIVER ZUARI AT BORIM BRIDGE</td>\n      <td>GOA</td>\n      <td>29.7</td>\n      <td>5.8</td>\n      <td>6.9</td>\n      <td>64.0</td>\n      <td>3.8</td>\n      <td>0.500</td>\n      <td>5382.000</td>\n      <td>8443.0</td>\n      <td>2014</td>\n      <td>195.105659</td>\n      <td>1</td>\n    </tr>\n    <tr>\n      <th>4</th>\n      <td>3182.0</td>\n      <td>RIVER ZUARI AT MARCAIM JETTY</td>\n      <td>GOA</td>\n      <td>29.5</td>\n      <td>5.8</td>\n      <td>7.3</td>\n      <td>83.0</td>\n      <td>1.9</td>\n      <td>0.400</td>\n      <td>3428.000</td>\n      <td>5500.0</td>\n      <td>2014</td>\n      <td>141.393246</td>\n      <td>1</td>\n    </tr>\n    <tr>\n      <th>5</th>\n      <td>1400.0</td>\n      <td>MANDOVI AT NEGHBOURHOOD OF PANAJI, GOA</td>\n      <td>GOA</td>\n      <td>30.0</td>\n      <td>5.5</td>\n      <td>7.4</td>\n      <td>81.0</td>\n      <td>1.5</td>\n      <td>0.100</td>\n      <td>2853.000</td>\n      <td>4049.0</td>\n      <td>2014</td>\n      <td>127.971746</td>\n      <td>1</td>\n    </tr>\n    <tr>\n      <th>...</th>\n      <td>...</td>\n      <td>...</td>\n      <td>...</td>\n      <td>...</td>\n      <td>...</td>\n      <td>...</td>\n      <td>...</td>\n      <td>...</td>\n      <td>...</td>\n      <td>...</td>\n      <td>...</td>\n      <td>...</td>\n      <td>...</td>\n      <td>...</td>\n    </tr>\n    <tr>\n      <th>1981</th>\n      <td>1160.0</td>\n      <td>TAMBIRAPARANI AT CHERANMADEVI,CAUSE WAY,TAMILNADU</td>\n      <td>NAN</td>\n      <td>31.0</td>\n      <td>7.3</td>\n      <td>178.0</td>\n      <td>6.7</td>\n      <td>1.5</td>\n      <td>0.138</td>\n      <td>0.138</td>\n      <td>190.0</td>\n      <td>2003</td>\n      <td>3017.018760</td>\n      <td>1</td>\n    </tr>\n    <tr>\n      <th>1982</th>\n      <td>1161.0</td>\n      <td>TAMBIRAPARANI AT TIRUNELVELI,COLLECTORATE,    ...</td>\n      <td>NAN</td>\n      <td>29.0</td>\n      <td>7.1</td>\n      <td>214.0</td>\n      <td>6.8</td>\n      <td>2.3</td>\n      <td>0.585</td>\n      <td>0.585</td>\n      <td>350.0</td>\n      <td>2003</td>\n      <td>3650.116506</td>\n      <td>1</td>\n    </tr>\n    <tr>\n      <th>1984</th>\n      <td>1328.0</td>\n      <td>TAMBIRAPARANI AT PAPPANKULAM,TAMILNADU</td>\n      <td>NAN</td>\n      <td>28.0</td>\n      <td>6.9</td>\n      <td>146.0</td>\n      <td>7.1</td>\n      <td>2.0</td>\n      <td>0.506</td>\n      <td>0.506</td>\n      <td>38.0</td>\n      <td>2003</td>\n      <td>2467.864123</td>\n      <td>1</td>\n    </tr>\n    <tr>\n      <th>1985</th>\n      <td>1329.0</td>\n      <td>TAMBIRAPARANI AT RAIL BDG. NR. AMBASAMUDAM, TA...</td>\n      <td>NAN</td>\n      <td>28.0</td>\n      <td>7.0</td>\n      <td>136.0</td>\n      <td>7.5</td>\n      <td>1.4</td>\n      <td>0.609</td>\n      <td>0.609</td>\n      <td>205.0</td>\n      <td>2003</td>\n      <td>2288.522202</td>\n      <td>1</td>\n    </tr>\n    <tr>\n      <th>1987</th>\n      <td>1450.0</td>\n      <td>PALAR AT VANIYAMBADI WATER SUPPLY HEAD WORK, T...</td>\n      <td>NAN</td>\n      <td>29.0</td>\n      <td>7.5</td>\n      <td>585.0</td>\n      <td>6.3</td>\n      <td>2.6</td>\n      <td>0.155</td>\n      <td>0.155</td>\n      <td>315.0</td>\n      <td>2003</td>\n      <td>10091.343432</td>\n      <td>1</td>\n    </tr>\n  </tbody>\n</table>\n<p>1528 rows × 14 columns</p>\n</div>"
     },
     "execution_count": 209,
     "metadata": {},
     "output_type": "execute_result"
    }
   ],
   "source": [
    "df5"
   ],
   "metadata": {
    "collapsed": false,
    "pycharm": {
     "name": "#%%\n"
    }
   }
  },
  {
   "cell_type": "code",
   "execution_count": 210,
   "outputs": [
    {
     "data": {
      "text/plain": "           station         Temp           do            ph  conductivity  \\\ncount  1528.000000  1528.000000  1528.000000   1528.000000   1528.000000   \nmean   1946.056937    26.284840     6.332807     70.785863   1798.718606   \nstd     777.965463     3.272678     1.290948   1128.956395   5279.702522   \nmin      17.000000    10.000000     0.000000      2.600000      3.700000   \n25%    1442.000000    25.000000     5.900000      6.900000     73.000000   \n50%    1705.000000    27.000000     6.700000      7.200000    165.000000   \n75%    2338.000000    28.325000     7.100000      7.600000    612.750000   \nmax    3473.000000    35.000000    10.000000  28598.000000  47156.000000   \n\n               BOD           nn  fecal_coliform  total_coliform_mean  \\\ncount  1528.000000  1528.000000    1.528000e+03         1.528000e+03   \nmean      4.906314     1.410666    3.964382e+05         6.445488e+05   \nstd      17.519698     2.838844    9.176190e+06         1.569837e+07   \nmin       0.100000     0.000000    0.000000e+00         4.000000e+00   \n25%       1.100000     0.250000    3.000000e+01         1.407500e+02   \n50%       1.700000     0.508000    2.280000e+02         5.910000e+02   \n75%       3.400000     1.437500    9.642500e+02         2.259500e+03   \nmax     534.500000    58.100000    2.725216e+08         5.110909e+08   \n\n              year           wqi          wqc  \ncount  1528.000000  1.528000e+03  1528.000000  \nmean   2010.580497  1.009416e+04     2.437173  \nstd       2.754065  2.071335e+05     1.069910  \nmin    2003.000000 -1.057922e+01     1.000000  \n25%    2009.000000  5.423292e+01     1.000000  \n50%    2011.000000  7.202600e+01     3.000000  \n75%    2013.000000  1.068747e+02     3.000000  \nmax    2014.000000  6.136170e+06     5.000000  ",
      "text/html": "<div>\n<style scoped>\n    .dataframe tbody tr th:only-of-type {\n        vertical-align: middle;\n    }\n\n    .dataframe tbody tr th {\n        vertical-align: top;\n    }\n\n    .dataframe thead th {\n        text-align: right;\n    }\n</style>\n<table border=\"1\" class=\"dataframe\">\n  <thead>\n    <tr style=\"text-align: right;\">\n      <th></th>\n      <th>station</th>\n      <th>Temp</th>\n      <th>do</th>\n      <th>ph</th>\n      <th>conductivity</th>\n      <th>BOD</th>\n      <th>nn</th>\n      <th>fecal_coliform</th>\n      <th>total_coliform_mean</th>\n      <th>year</th>\n      <th>wqi</th>\n      <th>wqc</th>\n    </tr>\n  </thead>\n  <tbody>\n    <tr>\n      <th>count</th>\n      <td>1528.000000</td>\n      <td>1528.000000</td>\n      <td>1528.000000</td>\n      <td>1528.000000</td>\n      <td>1528.000000</td>\n      <td>1528.000000</td>\n      <td>1528.000000</td>\n      <td>1.528000e+03</td>\n      <td>1.528000e+03</td>\n      <td>1528.000000</td>\n      <td>1.528000e+03</td>\n      <td>1528.000000</td>\n    </tr>\n    <tr>\n      <th>mean</th>\n      <td>1946.056937</td>\n      <td>26.284840</td>\n      <td>6.332807</td>\n      <td>70.785863</td>\n      <td>1798.718606</td>\n      <td>4.906314</td>\n      <td>1.410666</td>\n      <td>3.964382e+05</td>\n      <td>6.445488e+05</td>\n      <td>2010.580497</td>\n      <td>1.009416e+04</td>\n      <td>2.437173</td>\n    </tr>\n    <tr>\n      <th>std</th>\n      <td>777.965463</td>\n      <td>3.272678</td>\n      <td>1.290948</td>\n      <td>1128.956395</td>\n      <td>5279.702522</td>\n      <td>17.519698</td>\n      <td>2.838844</td>\n      <td>9.176190e+06</td>\n      <td>1.569837e+07</td>\n      <td>2.754065</td>\n      <td>2.071335e+05</td>\n      <td>1.069910</td>\n    </tr>\n    <tr>\n      <th>min</th>\n      <td>17.000000</td>\n      <td>10.000000</td>\n      <td>0.000000</td>\n      <td>2.600000</td>\n      <td>3.700000</td>\n      <td>0.100000</td>\n      <td>0.000000</td>\n      <td>0.000000e+00</td>\n      <td>4.000000e+00</td>\n      <td>2003.000000</td>\n      <td>-1.057922e+01</td>\n      <td>1.000000</td>\n    </tr>\n    <tr>\n      <th>25%</th>\n      <td>1442.000000</td>\n      <td>25.000000</td>\n      <td>5.900000</td>\n      <td>6.900000</td>\n      <td>73.000000</td>\n      <td>1.100000</td>\n      <td>0.250000</td>\n      <td>3.000000e+01</td>\n      <td>1.407500e+02</td>\n      <td>2009.000000</td>\n      <td>5.423292e+01</td>\n      <td>1.000000</td>\n    </tr>\n    <tr>\n      <th>50%</th>\n      <td>1705.000000</td>\n      <td>27.000000</td>\n      <td>6.700000</td>\n      <td>7.200000</td>\n      <td>165.000000</td>\n      <td>1.700000</td>\n      <td>0.508000</td>\n      <td>2.280000e+02</td>\n      <td>5.910000e+02</td>\n      <td>2011.000000</td>\n      <td>7.202600e+01</td>\n      <td>3.000000</td>\n    </tr>\n    <tr>\n      <th>75%</th>\n      <td>2338.000000</td>\n      <td>28.325000</td>\n      <td>7.100000</td>\n      <td>7.600000</td>\n      <td>612.750000</td>\n      <td>3.400000</td>\n      <td>1.437500</td>\n      <td>9.642500e+02</td>\n      <td>2.259500e+03</td>\n      <td>2013.000000</td>\n      <td>1.068747e+02</td>\n      <td>3.000000</td>\n    </tr>\n    <tr>\n      <th>max</th>\n      <td>3473.000000</td>\n      <td>35.000000</td>\n      <td>10.000000</td>\n      <td>28598.000000</td>\n      <td>47156.000000</td>\n      <td>534.500000</td>\n      <td>58.100000</td>\n      <td>2.725216e+08</td>\n      <td>5.110909e+08</td>\n      <td>2014.000000</td>\n      <td>6.136170e+06</td>\n      <td>5.000000</td>\n    </tr>\n  </tbody>\n</table>\n</div>"
     },
     "execution_count": 210,
     "metadata": {},
     "output_type": "execute_result"
    }
   ],
   "source": [
    "df5.describe()"
   ],
   "metadata": {
    "collapsed": false,
    "pycharm": {
     "name": "#%%\n"
    }
   }
  }
 ],
 "metadata": {
  "kernelspec": {
   "name": "base",
   "language": "python",
   "display_name": "Python (base)"
  },
  "language_info": {
   "codemirror_mode": {
    "name": "ipython",
    "version": 2
   },
   "file_extension": ".py",
   "mimetype": "text/x-python",
   "name": "python",
   "nbconvert_exporter": "python",
   "pygments_lexer": "ipython2",
   "version": "2.7.6"
  }
 },
 "nbformat": 4,
 "nbformat_minor": 0
}