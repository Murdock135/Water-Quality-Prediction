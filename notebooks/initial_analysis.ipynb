{
 "cells": [
  {
   "cell_type": "code",
   "execution_count": 111,
   "metadata": {
    "collapsed": true,
    "pycharm": {
     "name": "#%%\n"
    }
   },
   "outputs": [],
   "source": [
    "import pandas as pd\n",
    "import os\n",
    "import sys\n",
    "import missingno as msno"
   ]
  },
  {
   "cell_type": "markdown",
   "source": [
    "# Importing the data"
   ],
   "metadata": {
    "collapsed": false,
    "pycharm": {
     "name": "#%% md\n"
    }
   }
  },
  {
   "cell_type": "code",
   "execution_count": 112,
   "outputs": [
    {
     "data": {
      "text/plain": "'C:\\\\Users\\\\kople\\\\Documents\\\\Personal Git repos\\\\Water-Quality-Prediction\\\\notebooks'"
     },
     "execution_count": 112,
     "metadata": {},
     "output_type": "execute_result"
    }
   ],
   "source": [
    "os.getcwd()"
   ],
   "metadata": {
    "collapsed": false,
    "pycharm": {
     "name": "#%%\n"
    }
   }
  },
  {
   "cell_type": "code",
   "execution_count": 113,
   "outputs": [],
   "source": [
    "df = pd.read_csv('C:/Users/kople/Documents/Personal Git repos/Water-Quality-Prediction/data/raw/water_dataX.csv',encoding='ISO-8859-1')"
   ],
   "metadata": {
    "collapsed": false,
    "pycharm": {
     "name": "#%%\n"
    }
   }
  },
  {
   "cell_type": "code",
   "execution_count": 114,
   "outputs": [
    {
     "data": {
      "text/plain": "     STATION CODE                                          LOCATIONS  \\\n0            1393               DAMANGANGA AT D/S OF MADHUBAN, DAMAN   \n1            1399  ZUARI AT D/S OF PT. WHERE KUMBARJRIA CANAL JOI...   \n2            1475                                ZUARI AT PANCHAWADI   \n3            3181                        RIVER ZUARI AT BORIM BRIDGE   \n4            3182                       RIVER ZUARI AT MARCAIM JETTY   \n...           ...                                                ...   \n1986         1330            TAMBIRAPARANI AT ARUMUGANERI, TAMILNADU   \n1987         1450  PALAR AT VANIYAMBADI WATER SUPPLY HEAD WORK, T...   \n1988         1403                 GUMTI AT U/S SOUTH TRIPURA,TRIPURA   \n1989         1404                GUMTI AT D/S SOUTH TRIPURA, TRIPURA   \n1990         1726   CHANDRAPUR, AGARTALA D/S OF HAORA RIVER, TRIPURA   \n\n            STATE  Temp D.O. (mg/l)   PH CONDUCTIVITY (µmhos/cm)  \\\n0     DAMAN & DIU  30.6         6.7  7.5                     203   \n1             GOA  29.8         5.7  7.2                     189   \n2             GOA  29.5         6.3  6.9                     179   \n3             GOA  29.7         5.8  6.9                      64   \n4             GOA  29.5         5.8  7.3                      83   \n...           ...   ...         ...  ...                     ...   \n1986          NAN   NAN         7.9  738                     7.2   \n1987          NAN    29         7.5  585                     6.3   \n1988          NAN    28         7.6   98                     6.2   \n1989          NAN    28         7.7   91                     6.5   \n1990          NAN    29         7.6  110                     5.7   \n\n     B.O.D. (mg/l) NITRATENAN N+ NITRITENANN (mg/l)  \\\n0              NAN                              0.1   \n1                2                              0.2   \n2              1.7                              0.1   \n3              3.8                              0.5   \n4              1.9                              0.4   \n...            ...                              ...   \n1986           2.7                            0.518   \n1987           2.6                            0.155   \n1988           1.2                              NAN   \n1989           1.3                              NAN   \n1990           1.1                              NAN   \n\n     FECAL COLIFORM (MPN/100ml) TOTAL COLIFORM (MPN/100ml)Mean  year  \n0                            11                             27  2014  \n1                          4953                           8391  2014  \n2                          3243                           5330  2014  \n3                          5382                           8443  2014  \n4                          3428                           5500  2014  \n...                         ...                            ...   ...  \n1986                      0.518                            202  2003  \n1987                      0.155                            315  2003  \n1988                        NAN                            570  2003  \n1989                        NAN                            562  2003  \n1990                        NAN                            546  2003  \n\n[1991 rows x 12 columns]",
      "text/html": "<div>\n<style scoped>\n    .dataframe tbody tr th:only-of-type {\n        vertical-align: middle;\n    }\n\n    .dataframe tbody tr th {\n        vertical-align: top;\n    }\n\n    .dataframe thead th {\n        text-align: right;\n    }\n</style>\n<table border=\"1\" class=\"dataframe\">\n  <thead>\n    <tr style=\"text-align: right;\">\n      <th></th>\n      <th>STATION CODE</th>\n      <th>LOCATIONS</th>\n      <th>STATE</th>\n      <th>Temp</th>\n      <th>D.O. (mg/l)</th>\n      <th>PH</th>\n      <th>CONDUCTIVITY (µmhos/cm)</th>\n      <th>B.O.D. (mg/l)</th>\n      <th>NITRATENAN N+ NITRITENANN (mg/l)</th>\n      <th>FECAL COLIFORM (MPN/100ml)</th>\n      <th>TOTAL COLIFORM (MPN/100ml)Mean</th>\n      <th>year</th>\n    </tr>\n  </thead>\n  <tbody>\n    <tr>\n      <th>0</th>\n      <td>1393</td>\n      <td>DAMANGANGA AT D/S OF MADHUBAN, DAMAN</td>\n      <td>DAMAN &amp; DIU</td>\n      <td>30.6</td>\n      <td>6.7</td>\n      <td>7.5</td>\n      <td>203</td>\n      <td>NAN</td>\n      <td>0.1</td>\n      <td>11</td>\n      <td>27</td>\n      <td>2014</td>\n    </tr>\n    <tr>\n      <th>1</th>\n      <td>1399</td>\n      <td>ZUARI AT D/S OF PT. WHERE KUMBARJRIA CANAL JOI...</td>\n      <td>GOA</td>\n      <td>29.8</td>\n      <td>5.7</td>\n      <td>7.2</td>\n      <td>189</td>\n      <td>2</td>\n      <td>0.2</td>\n      <td>4953</td>\n      <td>8391</td>\n      <td>2014</td>\n    </tr>\n    <tr>\n      <th>2</th>\n      <td>1475</td>\n      <td>ZUARI AT PANCHAWADI</td>\n      <td>GOA</td>\n      <td>29.5</td>\n      <td>6.3</td>\n      <td>6.9</td>\n      <td>179</td>\n      <td>1.7</td>\n      <td>0.1</td>\n      <td>3243</td>\n      <td>5330</td>\n      <td>2014</td>\n    </tr>\n    <tr>\n      <th>3</th>\n      <td>3181</td>\n      <td>RIVER ZUARI AT BORIM BRIDGE</td>\n      <td>GOA</td>\n      <td>29.7</td>\n      <td>5.8</td>\n      <td>6.9</td>\n      <td>64</td>\n      <td>3.8</td>\n      <td>0.5</td>\n      <td>5382</td>\n      <td>8443</td>\n      <td>2014</td>\n    </tr>\n    <tr>\n      <th>4</th>\n      <td>3182</td>\n      <td>RIVER ZUARI AT MARCAIM JETTY</td>\n      <td>GOA</td>\n      <td>29.5</td>\n      <td>5.8</td>\n      <td>7.3</td>\n      <td>83</td>\n      <td>1.9</td>\n      <td>0.4</td>\n      <td>3428</td>\n      <td>5500</td>\n      <td>2014</td>\n    </tr>\n    <tr>\n      <th>...</th>\n      <td>...</td>\n      <td>...</td>\n      <td>...</td>\n      <td>...</td>\n      <td>...</td>\n      <td>...</td>\n      <td>...</td>\n      <td>...</td>\n      <td>...</td>\n      <td>...</td>\n      <td>...</td>\n      <td>...</td>\n    </tr>\n    <tr>\n      <th>1986</th>\n      <td>1330</td>\n      <td>TAMBIRAPARANI AT ARUMUGANERI, TAMILNADU</td>\n      <td>NAN</td>\n      <td>NAN</td>\n      <td>7.9</td>\n      <td>738</td>\n      <td>7.2</td>\n      <td>2.7</td>\n      <td>0.518</td>\n      <td>0.518</td>\n      <td>202</td>\n      <td>2003</td>\n    </tr>\n    <tr>\n      <th>1987</th>\n      <td>1450</td>\n      <td>PALAR AT VANIYAMBADI WATER SUPPLY HEAD WORK, T...</td>\n      <td>NAN</td>\n      <td>29</td>\n      <td>7.5</td>\n      <td>585</td>\n      <td>6.3</td>\n      <td>2.6</td>\n      <td>0.155</td>\n      <td>0.155</td>\n      <td>315</td>\n      <td>2003</td>\n    </tr>\n    <tr>\n      <th>1988</th>\n      <td>1403</td>\n      <td>GUMTI AT U/S SOUTH TRIPURA,TRIPURA</td>\n      <td>NAN</td>\n      <td>28</td>\n      <td>7.6</td>\n      <td>98</td>\n      <td>6.2</td>\n      <td>1.2</td>\n      <td>NAN</td>\n      <td>NAN</td>\n      <td>570</td>\n      <td>2003</td>\n    </tr>\n    <tr>\n      <th>1989</th>\n      <td>1404</td>\n      <td>GUMTI AT D/S SOUTH TRIPURA, TRIPURA</td>\n      <td>NAN</td>\n      <td>28</td>\n      <td>7.7</td>\n      <td>91</td>\n      <td>6.5</td>\n      <td>1.3</td>\n      <td>NAN</td>\n      <td>NAN</td>\n      <td>562</td>\n      <td>2003</td>\n    </tr>\n    <tr>\n      <th>1990</th>\n      <td>1726</td>\n      <td>CHANDRAPUR, AGARTALA D/S OF HAORA RIVER, TRIPURA</td>\n      <td>NAN</td>\n      <td>29</td>\n      <td>7.6</td>\n      <td>110</td>\n      <td>5.7</td>\n      <td>1.1</td>\n      <td>NAN</td>\n      <td>NAN</td>\n      <td>546</td>\n      <td>2003</td>\n    </tr>\n  </tbody>\n</table>\n<p>1991 rows × 12 columns</p>\n</div>"
     },
     "execution_count": 114,
     "metadata": {},
     "output_type": "execute_result"
    }
   ],
   "source": [
    "df"
   ],
   "metadata": {
    "collapsed": false,
    "pycharm": {
     "name": "#%%\n"
    }
   }
  },
  {
   "cell_type": "code",
   "execution_count": 115,
   "outputs": [
    {
     "name": "stdout",
     "output_type": "stream",
     "text": [
      "<class 'pandas.core.frame.DataFrame'>\n",
      "RangeIndex: 1991 entries, 0 to 1990\n",
      "Data columns (total 12 columns):\n",
      " #   Column                            Non-Null Count  Dtype \n",
      "---  ------                            --------------  ----- \n",
      " 0   STATION CODE                      1991 non-null   object\n",
      " 1   LOCATIONS                         1991 non-null   object\n",
      " 2   STATE                             1991 non-null   object\n",
      " 3   Temp                              1991 non-null   object\n",
      " 4   D.O. (mg/l)                       1991 non-null   object\n",
      " 5   PH                                1991 non-null   object\n",
      " 6   CONDUCTIVITY (µmhos/cm)           1991 non-null   object\n",
      " 7   B.O.D. (mg/l)                     1991 non-null   object\n",
      " 8   NITRATENAN N+ NITRITENANN (mg/l)  1991 non-null   object\n",
      " 9   FECAL COLIFORM (MPN/100ml)        1991 non-null   object\n",
      " 10  TOTAL COLIFORM (MPN/100ml)Mean    1991 non-null   object\n",
      " 11  year                              1991 non-null   int64 \n",
      "dtypes: int64(1), object(11)\n",
      "memory usage: 186.8+ KB\n"
     ]
    }
   ],
   "source": [
    "df.info()"
   ],
   "metadata": {
    "collapsed": false,
    "pycharm": {
     "name": "#%%\n"
    }
   }
  },
  {
   "cell_type": "markdown",
   "source": [
    "# EDA on Indian dataset"
   ],
   "metadata": {
    "collapsed": false,
    "pycharm": {
     "name": "#%% md\n"
    }
   }
  },
  {
   "cell_type": "code",
   "execution_count": 116,
   "outputs": [
    {
     "data": {
      "text/plain": "STATION CODE                        object\nLOCATIONS                           object\nSTATE                               object\nTemp                                object\nD.O. (mg/l)                         object\nPH                                  object\nCONDUCTIVITY (µmhos/cm)             object\nB.O.D. (mg/l)                       object\nNITRATENAN N+ NITRITENANN (mg/l)    object\nFECAL COLIFORM (MPN/100ml)          object\nTOTAL COLIFORM (MPN/100ml)Mean      object\nyear                                 int64\ndtype: object"
     },
     "execution_count": 116,
     "metadata": {},
     "output_type": "execute_result"
    }
   ],
   "source": [
    "df.dtypes"
   ],
   "metadata": {
    "collapsed": false,
    "pycharm": {
     "name": "#%%\n"
    }
   }
  },
  {
   "cell_type": "markdown",
   "source": [
    "Converting the columns to numeric type"
   ],
   "metadata": {
    "collapsed": false,
    "pycharm": {
     "name": "#%% md\n"
    }
   }
  },
  {
   "cell_type": "code",
   "execution_count": 117,
   "outputs": [],
   "source": [
    "df['STATION CODE']= pd.to_numeric(df['STATION CODE'],errors='coerce')"
   ],
   "metadata": {
    "collapsed": false,
    "pycharm": {
     "name": "#%%\n"
    }
   }
  },
  {
   "cell_type": "code",
   "execution_count": 118,
   "outputs": [
    {
     "data": {
      "text/plain": "      STATION CODE                                          LOCATIONS STATE  \\\n260            NaN                                                NAN   NAN   \n431            NaN                                                NAN   NAN   \n1782           NaN            NAGAVALLI AT THOTAPALLI REGULATOR, A.P.   NAN   \n1783           NaN               DAMANGANGA AT D/S OF MADHUBAN, DAMAN   NAN   \n1784           NaN   DAMANGANGA  AFTER CONFL. OF PIPARIA DRAIN, DAMAN   NAN   \n...            ...                                                ...   ...   \n1897           NaN  PALAR AT VANIYAMBADI WATER SUPPLY HEAD WORK, T...   NAN   \n1898           NaN                 GUMTI AT U/S SOUTH TRIPURA,TRIPURA   NAN   \n1899           NaN                GUMTI AT D/S SOUTH TRIPURA, TRIPURA   NAN   \n1900           NaN   CHANDRAPUR, AGARTALA D/S OF HAORA RIVER, TRIPURA   NAN   \n1912           NaN                                                NAN   NAN   \n\n     Temp D.O. (mg/l)    PH CONDUCTIVITY (µmhos/cm) B.O.D. (mg/l)  \\\n260   NAN         NAN   NAN                     NAN           NAN   \n431   NAN         NAN   NAN                     NAN           NAN   \n1782   28         5.6  7.65                   375.2         1.758   \n1783  NAN         NAN  7.76                   233.3        10.825   \n1784  NAN         NAN   NAN                     NAN             1   \n...   ...         ...   ...                     ...           ...   \n1897   28         6.6  7.49                   571.5         2.091   \n1898   28         5.4  7.16                    75.8         2.092   \n1899   30         5.4  7.37                   104.8         1.802   \n1900   29         5.3  7.37                   102.2         2.552   \n1912  NAN         NAN   NAN                     NAN           NAN   \n\n     NITRATENAN N+ NITRITENANN (mg/l) FECAL COLIFORM (MPN/100ml)  \\\n260                               NAN                        NAN   \n431                               NAN                        NAN   \n1782                            1.995                       2636   \n1783                            5.657                        NAN   \n1784                             1.01                       1200   \n...                               ...                        ...   \n1897                            0.256                        151   \n1898                              NAN                        404   \n1899                            0.215                        456   \n1900                            0.202                        526   \n1912                              NAN                        NAN   \n\n     TOTAL COLIFORM (MPN/100ml)Mean  year  \n260                             NAN  2013  \n431                             NAN  2013  \n1782                          18417  2005  \n1783                            NAN  2005  \n1784                          37000  2005  \n...                             ...   ...  \n1897                            273  2005  \n1898                            513  2005  \n1899                            557  2005  \n1900                            583  2005  \n1912                            NAN  2003  \n\n[122 rows x 12 columns]",
      "text/html": "<div>\n<style scoped>\n    .dataframe tbody tr th:only-of-type {\n        vertical-align: middle;\n    }\n\n    .dataframe tbody tr th {\n        vertical-align: top;\n    }\n\n    .dataframe thead th {\n        text-align: right;\n    }\n</style>\n<table border=\"1\" class=\"dataframe\">\n  <thead>\n    <tr style=\"text-align: right;\">\n      <th></th>\n      <th>STATION CODE</th>\n      <th>LOCATIONS</th>\n      <th>STATE</th>\n      <th>Temp</th>\n      <th>D.O. (mg/l)</th>\n      <th>PH</th>\n      <th>CONDUCTIVITY (µmhos/cm)</th>\n      <th>B.O.D. (mg/l)</th>\n      <th>NITRATENAN N+ NITRITENANN (mg/l)</th>\n      <th>FECAL COLIFORM (MPN/100ml)</th>\n      <th>TOTAL COLIFORM (MPN/100ml)Mean</th>\n      <th>year</th>\n    </tr>\n  </thead>\n  <tbody>\n    <tr>\n      <th>260</th>\n      <td>NaN</td>\n      <td>NAN</td>\n      <td>NAN</td>\n      <td>NAN</td>\n      <td>NAN</td>\n      <td>NAN</td>\n      <td>NAN</td>\n      <td>NAN</td>\n      <td>NAN</td>\n      <td>NAN</td>\n      <td>NAN</td>\n      <td>2013</td>\n    </tr>\n    <tr>\n      <th>431</th>\n      <td>NaN</td>\n      <td>NAN</td>\n      <td>NAN</td>\n      <td>NAN</td>\n      <td>NAN</td>\n      <td>NAN</td>\n      <td>NAN</td>\n      <td>NAN</td>\n      <td>NAN</td>\n      <td>NAN</td>\n      <td>NAN</td>\n      <td>2013</td>\n    </tr>\n    <tr>\n      <th>1782</th>\n      <td>NaN</td>\n      <td>NAGAVALLI AT THOTAPALLI REGULATOR, A.P.</td>\n      <td>NAN</td>\n      <td>28</td>\n      <td>5.6</td>\n      <td>7.65</td>\n      <td>375.2</td>\n      <td>1.758</td>\n      <td>1.995</td>\n      <td>2636</td>\n      <td>18417</td>\n      <td>2005</td>\n    </tr>\n    <tr>\n      <th>1783</th>\n      <td>NaN</td>\n      <td>DAMANGANGA AT D/S OF MADHUBAN, DAMAN</td>\n      <td>NAN</td>\n      <td>NAN</td>\n      <td>NAN</td>\n      <td>7.76</td>\n      <td>233.3</td>\n      <td>10.825</td>\n      <td>5.657</td>\n      <td>NAN</td>\n      <td>NAN</td>\n      <td>2005</td>\n    </tr>\n    <tr>\n      <th>1784</th>\n      <td>NaN</td>\n      <td>DAMANGANGA  AFTER CONFL. OF PIPARIA DRAIN, DAMAN</td>\n      <td>NAN</td>\n      <td>NAN</td>\n      <td>NAN</td>\n      <td>NAN</td>\n      <td>NAN</td>\n      <td>1</td>\n      <td>1.01</td>\n      <td>1200</td>\n      <td>37000</td>\n      <td>2005</td>\n    </tr>\n    <tr>\n      <th>...</th>\n      <td>...</td>\n      <td>...</td>\n      <td>...</td>\n      <td>...</td>\n      <td>...</td>\n      <td>...</td>\n      <td>...</td>\n      <td>...</td>\n      <td>...</td>\n      <td>...</td>\n      <td>...</td>\n      <td>...</td>\n    </tr>\n    <tr>\n      <th>1897</th>\n      <td>NaN</td>\n      <td>PALAR AT VANIYAMBADI WATER SUPPLY HEAD WORK, T...</td>\n      <td>NAN</td>\n      <td>28</td>\n      <td>6.6</td>\n      <td>7.49</td>\n      <td>571.5</td>\n      <td>2.091</td>\n      <td>0.256</td>\n      <td>151</td>\n      <td>273</td>\n      <td>2005</td>\n    </tr>\n    <tr>\n      <th>1898</th>\n      <td>NaN</td>\n      <td>GUMTI AT U/S SOUTH TRIPURA,TRIPURA</td>\n      <td>NAN</td>\n      <td>28</td>\n      <td>5.4</td>\n      <td>7.16</td>\n      <td>75.8</td>\n      <td>2.092</td>\n      <td>NAN</td>\n      <td>404</td>\n      <td>513</td>\n      <td>2005</td>\n    </tr>\n    <tr>\n      <th>1899</th>\n      <td>NaN</td>\n      <td>GUMTI AT D/S SOUTH TRIPURA, TRIPURA</td>\n      <td>NAN</td>\n      <td>30</td>\n      <td>5.4</td>\n      <td>7.37</td>\n      <td>104.8</td>\n      <td>1.802</td>\n      <td>0.215</td>\n      <td>456</td>\n      <td>557</td>\n      <td>2005</td>\n    </tr>\n    <tr>\n      <th>1900</th>\n      <td>NaN</td>\n      <td>CHANDRAPUR, AGARTALA D/S OF HAORA RIVER, TRIPURA</td>\n      <td>NAN</td>\n      <td>29</td>\n      <td>5.3</td>\n      <td>7.37</td>\n      <td>102.2</td>\n      <td>2.552</td>\n      <td>0.202</td>\n      <td>526</td>\n      <td>583</td>\n      <td>2005</td>\n    </tr>\n    <tr>\n      <th>1912</th>\n      <td>NaN</td>\n      <td>NAN</td>\n      <td>NAN</td>\n      <td>NAN</td>\n      <td>NAN</td>\n      <td>NAN</td>\n      <td>NAN</td>\n      <td>NAN</td>\n      <td>NAN</td>\n      <td>NAN</td>\n      <td>NAN</td>\n      <td>2003</td>\n    </tr>\n  </tbody>\n</table>\n<p>122 rows × 12 columns</p>\n</div>"
     },
     "execution_count": 118,
     "metadata": {},
     "output_type": "execute_result"
    }
   ],
   "source": [
    "df[df['STATION CODE'].isnull()]"
   ],
   "metadata": {
    "collapsed": false,
    "pycharm": {
     "name": "#%%\n"
    }
   }
  },
  {
   "cell_type": "code",
   "execution_count": 119,
   "outputs": [],
   "source": [
    "df['Temp']= pd.to_numeric(df['Temp'],errors='coerce')"
   ],
   "metadata": {
    "collapsed": false,
    "pycharm": {
     "name": "#%%\n"
    }
   }
  },
  {
   "cell_type": "code",
   "execution_count": 120,
   "outputs": [],
   "source": [
    "df['D.O. (mg/l)']= pd.to_numeric(df['D.O. (mg/l)'],errors='coerce')"
   ],
   "metadata": {
    "collapsed": false,
    "pycharm": {
     "name": "#%%\n"
    }
   }
  },
  {
   "cell_type": "code",
   "execution_count": 121,
   "outputs": [],
   "source": [
    "df['PH']= pd.to_numeric(df['PH'],errors='coerce')"
   ],
   "metadata": {
    "collapsed": false,
    "pycharm": {
     "name": "#%%\n"
    }
   }
  },
  {
   "cell_type": "code",
   "execution_count": 122,
   "outputs": [],
   "source": [
    "df['CONDUCTIVITY (µmhos/cm)']= pd.to_numeric(df['CONDUCTIVITY (µmhos/cm)'],errors='coerce')"
   ],
   "metadata": {
    "collapsed": false,
    "pycharm": {
     "name": "#%%\n"
    }
   }
  },
  {
   "cell_type": "code",
   "execution_count": 123,
   "outputs": [],
   "source": [
    "df['B.O.D. (mg/l)']= pd.to_numeric(df['B.O.D. (mg/l)'],errors='coerce')"
   ],
   "metadata": {
    "collapsed": false,
    "pycharm": {
     "name": "#%%\n"
    }
   }
  },
  {
   "cell_type": "code",
   "execution_count": 124,
   "outputs": [],
   "source": [
    "df['NITRATENAN N+ NITRITENANN (mg/l)']= pd.to_numeric(df['NITRATENAN N+ NITRITENANN (mg/l)'],errors='coerce')"
   ],
   "metadata": {
    "collapsed": false,
    "pycharm": {
     "name": "#%%\n"
    }
   }
  },
  {
   "cell_type": "code",
   "execution_count": 125,
   "outputs": [],
   "source": [
    "df['FECAL COLIFORM (MPN/100ml)']= pd.to_numeric(df['FECAL COLIFORM (MPN/100ml)'],errors='coerce')"
   ],
   "metadata": {
    "collapsed": false,
    "pycharm": {
     "name": "#%%\n"
    }
   }
  },
  {
   "cell_type": "code",
   "execution_count": 126,
   "outputs": [],
   "source": [
    "df['TOTAL COLIFORM (MPN/100ml)Mean']= pd.to_numeric(df['TOTAL COLIFORM (MPN/100ml)Mean'],errors='coerce')"
   ],
   "metadata": {
    "collapsed": false,
    "pycharm": {
     "name": "#%%\n"
    }
   }
  },
  {
   "cell_type": "code",
   "execution_count": 127,
   "outputs": [
    {
     "data": {
      "text/plain": "STATION CODE                        float64\nLOCATIONS                            object\nSTATE                                object\nTemp                                float64\nD.O. (mg/l)                         float64\nPH                                  float64\nCONDUCTIVITY (µmhos/cm)             float64\nB.O.D. (mg/l)                       float64\nNITRATENAN N+ NITRITENANN (mg/l)    float64\nFECAL COLIFORM (MPN/100ml)          float64\nTOTAL COLIFORM (MPN/100ml)Mean      float64\nyear                                  int64\ndtype: object"
     },
     "execution_count": 127,
     "metadata": {},
     "output_type": "execute_result"
    }
   ],
   "source": [
    "df.dtypes"
   ],
   "metadata": {
    "collapsed": false,
    "pycharm": {
     "name": "#%%\n"
    }
   }
  },
  {
   "cell_type": "code",
   "execution_count": 128,
   "outputs": [
    {
     "data": {
      "text/plain": "      STATION CODE                                          LOCATIONS  \\\n0           1393.0               DAMANGANGA AT D/S OF MADHUBAN, DAMAN   \n1           1399.0  ZUARI AT D/S OF PT. WHERE KUMBARJRIA CANAL JOI...   \n2           1475.0                                ZUARI AT PANCHAWADI   \n3           3181.0                        RIVER ZUARI AT BORIM BRIDGE   \n4           3182.0                       RIVER ZUARI AT MARCAIM JETTY   \n...            ...                                                ...   \n1986        1330.0            TAMBIRAPARANI AT ARUMUGANERI, TAMILNADU   \n1987        1450.0  PALAR AT VANIYAMBADI WATER SUPPLY HEAD WORK, T...   \n1988        1403.0                 GUMTI AT U/S SOUTH TRIPURA,TRIPURA   \n1989        1404.0                GUMTI AT D/S SOUTH TRIPURA, TRIPURA   \n1990        1726.0   CHANDRAPUR, AGARTALA D/S OF HAORA RIVER, TRIPURA   \n\n            STATE  Temp  D.O. (mg/l)     PH  CONDUCTIVITY (µmhos/cm)  \\\n0     DAMAN & DIU  30.6          6.7    7.5                    203.0   \n1             GOA  29.8          5.7    7.2                    189.0   \n2             GOA  29.5          6.3    6.9                    179.0   \n3             GOA  29.7          5.8    6.9                     64.0   \n4             GOA  29.5          5.8    7.3                     83.0   \n...           ...   ...          ...    ...                      ...   \n1986          NAN   NaN          7.9  738.0                      7.2   \n1987          NAN  29.0          7.5  585.0                      6.3   \n1988          NAN  28.0          7.6   98.0                      6.2   \n1989          NAN  28.0          7.7   91.0                      6.5   \n1990          NAN  29.0          7.6  110.0                      5.7   \n\n      B.O.D. (mg/l)  NITRATENAN N+ NITRITENANN (mg/l)  \\\n0               NaN                             0.100   \n1               2.0                             0.200   \n2               1.7                             0.100   \n3               3.8                             0.500   \n4               1.9                             0.400   \n...             ...                               ...   \n1986            2.7                             0.518   \n1987            2.6                             0.155   \n1988            1.2                               NaN   \n1989            1.3                               NaN   \n1990            1.1                               NaN   \n\n      FECAL COLIFORM (MPN/100ml)  TOTAL COLIFORM (MPN/100ml)Mean  year  \n0                         11.000                            27.0  2014  \n1                       4953.000                          8391.0  2014  \n2                       3243.000                          5330.0  2014  \n3                       5382.000                          8443.0  2014  \n4                       3428.000                          5500.0  2014  \n...                          ...                             ...   ...  \n1986                       0.518                           202.0  2003  \n1987                       0.155                           315.0  2003  \n1988                         NaN                           570.0  2003  \n1989                         NaN                           562.0  2003  \n1990                         NaN                           546.0  2003  \n\n[1991 rows x 12 columns]",
      "text/html": "<div>\n<style scoped>\n    .dataframe tbody tr th:only-of-type {\n        vertical-align: middle;\n    }\n\n    .dataframe tbody tr th {\n        vertical-align: top;\n    }\n\n    .dataframe thead th {\n        text-align: right;\n    }\n</style>\n<table border=\"1\" class=\"dataframe\">\n  <thead>\n    <tr style=\"text-align: right;\">\n      <th></th>\n      <th>STATION CODE</th>\n      <th>LOCATIONS</th>\n      <th>STATE</th>\n      <th>Temp</th>\n      <th>D.O. (mg/l)</th>\n      <th>PH</th>\n      <th>CONDUCTIVITY (µmhos/cm)</th>\n      <th>B.O.D. (mg/l)</th>\n      <th>NITRATENAN N+ NITRITENANN (mg/l)</th>\n      <th>FECAL COLIFORM (MPN/100ml)</th>\n      <th>TOTAL COLIFORM (MPN/100ml)Mean</th>\n      <th>year</th>\n    </tr>\n  </thead>\n  <tbody>\n    <tr>\n      <th>0</th>\n      <td>1393.0</td>\n      <td>DAMANGANGA AT D/S OF MADHUBAN, DAMAN</td>\n      <td>DAMAN &amp; DIU</td>\n      <td>30.6</td>\n      <td>6.7</td>\n      <td>7.5</td>\n      <td>203.0</td>\n      <td>NaN</td>\n      <td>0.100</td>\n      <td>11.000</td>\n      <td>27.0</td>\n      <td>2014</td>\n    </tr>\n    <tr>\n      <th>1</th>\n      <td>1399.0</td>\n      <td>ZUARI AT D/S OF PT. WHERE KUMBARJRIA CANAL JOI...</td>\n      <td>GOA</td>\n      <td>29.8</td>\n      <td>5.7</td>\n      <td>7.2</td>\n      <td>189.0</td>\n      <td>2.0</td>\n      <td>0.200</td>\n      <td>4953.000</td>\n      <td>8391.0</td>\n      <td>2014</td>\n    </tr>\n    <tr>\n      <th>2</th>\n      <td>1475.0</td>\n      <td>ZUARI AT PANCHAWADI</td>\n      <td>GOA</td>\n      <td>29.5</td>\n      <td>6.3</td>\n      <td>6.9</td>\n      <td>179.0</td>\n      <td>1.7</td>\n      <td>0.100</td>\n      <td>3243.000</td>\n      <td>5330.0</td>\n      <td>2014</td>\n    </tr>\n    <tr>\n      <th>3</th>\n      <td>3181.0</td>\n      <td>RIVER ZUARI AT BORIM BRIDGE</td>\n      <td>GOA</td>\n      <td>29.7</td>\n      <td>5.8</td>\n      <td>6.9</td>\n      <td>64.0</td>\n      <td>3.8</td>\n      <td>0.500</td>\n      <td>5382.000</td>\n      <td>8443.0</td>\n      <td>2014</td>\n    </tr>\n    <tr>\n      <th>4</th>\n      <td>3182.0</td>\n      <td>RIVER ZUARI AT MARCAIM JETTY</td>\n      <td>GOA</td>\n      <td>29.5</td>\n      <td>5.8</td>\n      <td>7.3</td>\n      <td>83.0</td>\n      <td>1.9</td>\n      <td>0.400</td>\n      <td>3428.000</td>\n      <td>5500.0</td>\n      <td>2014</td>\n    </tr>\n    <tr>\n      <th>...</th>\n      <td>...</td>\n      <td>...</td>\n      <td>...</td>\n      <td>...</td>\n      <td>...</td>\n      <td>...</td>\n      <td>...</td>\n      <td>...</td>\n      <td>...</td>\n      <td>...</td>\n      <td>...</td>\n      <td>...</td>\n    </tr>\n    <tr>\n      <th>1986</th>\n      <td>1330.0</td>\n      <td>TAMBIRAPARANI AT ARUMUGANERI, TAMILNADU</td>\n      <td>NAN</td>\n      <td>NaN</td>\n      <td>7.9</td>\n      <td>738.0</td>\n      <td>7.2</td>\n      <td>2.7</td>\n      <td>0.518</td>\n      <td>0.518</td>\n      <td>202.0</td>\n      <td>2003</td>\n    </tr>\n    <tr>\n      <th>1987</th>\n      <td>1450.0</td>\n      <td>PALAR AT VANIYAMBADI WATER SUPPLY HEAD WORK, T...</td>\n      <td>NAN</td>\n      <td>29.0</td>\n      <td>7.5</td>\n      <td>585.0</td>\n      <td>6.3</td>\n      <td>2.6</td>\n      <td>0.155</td>\n      <td>0.155</td>\n      <td>315.0</td>\n      <td>2003</td>\n    </tr>\n    <tr>\n      <th>1988</th>\n      <td>1403.0</td>\n      <td>GUMTI AT U/S SOUTH TRIPURA,TRIPURA</td>\n      <td>NAN</td>\n      <td>28.0</td>\n      <td>7.6</td>\n      <td>98.0</td>\n      <td>6.2</td>\n      <td>1.2</td>\n      <td>NaN</td>\n      <td>NaN</td>\n      <td>570.0</td>\n      <td>2003</td>\n    </tr>\n    <tr>\n      <th>1989</th>\n      <td>1404.0</td>\n      <td>GUMTI AT D/S SOUTH TRIPURA, TRIPURA</td>\n      <td>NAN</td>\n      <td>28.0</td>\n      <td>7.7</td>\n      <td>91.0</td>\n      <td>6.5</td>\n      <td>1.3</td>\n      <td>NaN</td>\n      <td>NaN</td>\n      <td>562.0</td>\n      <td>2003</td>\n    </tr>\n    <tr>\n      <th>1990</th>\n      <td>1726.0</td>\n      <td>CHANDRAPUR, AGARTALA D/S OF HAORA RIVER, TRIPURA</td>\n      <td>NAN</td>\n      <td>29.0</td>\n      <td>7.6</td>\n      <td>110.0</td>\n      <td>5.7</td>\n      <td>1.1</td>\n      <td>NaN</td>\n      <td>NaN</td>\n      <td>546.0</td>\n      <td>2003</td>\n    </tr>\n  </tbody>\n</table>\n<p>1991 rows × 12 columns</p>\n</div>"
     },
     "execution_count": 128,
     "metadata": {},
     "output_type": "execute_result"
    }
   ],
   "source": [
    "df"
   ],
   "metadata": {
    "collapsed": false,
    "pycharm": {
     "name": "#%%\n"
    }
   }
  },
  {
   "cell_type": "markdown",
   "source": [
    "# Renaming columns"
   ],
   "metadata": {
    "collapsed": false,
    "pycharm": {
     "name": "#%% md\n"
    }
   }
  },
  {
   "cell_type": "code",
   "execution_count": 129,
   "outputs": [],
   "source": [
    "df.rename(columns={\"STATION CODE\":\"station\",\"LOCATIONS\":\"location\",\"STATE\":\"state\",\"D.O. (mg/l)\":\"do\",\"PH\":\"ph\",\"CONDUCTIVITY (µmhos/cm)\":\"conductivity\",\"B.O.D. (mg/l)\":\"BOD\",\"NITRATENAN N+ NITRITENANN (mg/l)\":\"nn\",\"FECAL COLIFORM (MPN/100ml)\":\"fecal_coliform\",\"TOTAL COLIFORM (MPN/100ml)Mean\":\"total_coliform_mean\"}, inplace=True)"
   ],
   "metadata": {
    "collapsed": false,
    "pycharm": {
     "name": "#%%\n"
    }
   }
  },
  {
   "cell_type": "code",
   "execution_count": 130,
   "outputs": [
    {
     "data": {
      "text/plain": "      station                                           location        state  \\\n0      1393.0               DAMANGANGA AT D/S OF MADHUBAN, DAMAN  DAMAN & DIU   \n1      1399.0  ZUARI AT D/S OF PT. WHERE KUMBARJRIA CANAL JOI...          GOA   \n2      1475.0                                ZUARI AT PANCHAWADI          GOA   \n3      3181.0                        RIVER ZUARI AT BORIM BRIDGE          GOA   \n4      3182.0                       RIVER ZUARI AT MARCAIM JETTY          GOA   \n...       ...                                                ...          ...   \n1986   1330.0            TAMBIRAPARANI AT ARUMUGANERI, TAMILNADU          NAN   \n1987   1450.0  PALAR AT VANIYAMBADI WATER SUPPLY HEAD WORK, T...          NAN   \n1988   1403.0                 GUMTI AT U/S SOUTH TRIPURA,TRIPURA          NAN   \n1989   1404.0                GUMTI AT D/S SOUTH TRIPURA, TRIPURA          NAN   \n1990   1726.0   CHANDRAPUR, AGARTALA D/S OF HAORA RIVER, TRIPURA          NAN   \n\n      Temp   do     ph  conductivity  BOD     nn  fecal_coliform  \\\n0     30.6  6.7    7.5         203.0  NaN  0.100          11.000   \n1     29.8  5.7    7.2         189.0  2.0  0.200        4953.000   \n2     29.5  6.3    6.9         179.0  1.7  0.100        3243.000   \n3     29.7  5.8    6.9          64.0  3.8  0.500        5382.000   \n4     29.5  5.8    7.3          83.0  1.9  0.400        3428.000   \n...    ...  ...    ...           ...  ...    ...             ...   \n1986   NaN  7.9  738.0           7.2  2.7  0.518           0.518   \n1987  29.0  7.5  585.0           6.3  2.6  0.155           0.155   \n1988  28.0  7.6   98.0           6.2  1.2    NaN             NaN   \n1989  28.0  7.7   91.0           6.5  1.3    NaN             NaN   \n1990  29.0  7.6  110.0           5.7  1.1    NaN             NaN   \n\n      total_coliform_mean  year  \n0                    27.0  2014  \n1                  8391.0  2014  \n2                  5330.0  2014  \n3                  8443.0  2014  \n4                  5500.0  2014  \n...                   ...   ...  \n1986                202.0  2003  \n1987                315.0  2003  \n1988                570.0  2003  \n1989                562.0  2003  \n1990                546.0  2003  \n\n[1991 rows x 12 columns]",
      "text/html": "<div>\n<style scoped>\n    .dataframe tbody tr th:only-of-type {\n        vertical-align: middle;\n    }\n\n    .dataframe tbody tr th {\n        vertical-align: top;\n    }\n\n    .dataframe thead th {\n        text-align: right;\n    }\n</style>\n<table border=\"1\" class=\"dataframe\">\n  <thead>\n    <tr style=\"text-align: right;\">\n      <th></th>\n      <th>station</th>\n      <th>location</th>\n      <th>state</th>\n      <th>Temp</th>\n      <th>do</th>\n      <th>ph</th>\n      <th>conductivity</th>\n      <th>BOD</th>\n      <th>nn</th>\n      <th>fecal_coliform</th>\n      <th>total_coliform_mean</th>\n      <th>year</th>\n    </tr>\n  </thead>\n  <tbody>\n    <tr>\n      <th>0</th>\n      <td>1393.0</td>\n      <td>DAMANGANGA AT D/S OF MADHUBAN, DAMAN</td>\n      <td>DAMAN &amp; DIU</td>\n      <td>30.6</td>\n      <td>6.7</td>\n      <td>7.5</td>\n      <td>203.0</td>\n      <td>NaN</td>\n      <td>0.100</td>\n      <td>11.000</td>\n      <td>27.0</td>\n      <td>2014</td>\n    </tr>\n    <tr>\n      <th>1</th>\n      <td>1399.0</td>\n      <td>ZUARI AT D/S OF PT. WHERE KUMBARJRIA CANAL JOI...</td>\n      <td>GOA</td>\n      <td>29.8</td>\n      <td>5.7</td>\n      <td>7.2</td>\n      <td>189.0</td>\n      <td>2.0</td>\n      <td>0.200</td>\n      <td>4953.000</td>\n      <td>8391.0</td>\n      <td>2014</td>\n    </tr>\n    <tr>\n      <th>2</th>\n      <td>1475.0</td>\n      <td>ZUARI AT PANCHAWADI</td>\n      <td>GOA</td>\n      <td>29.5</td>\n      <td>6.3</td>\n      <td>6.9</td>\n      <td>179.0</td>\n      <td>1.7</td>\n      <td>0.100</td>\n      <td>3243.000</td>\n      <td>5330.0</td>\n      <td>2014</td>\n    </tr>\n    <tr>\n      <th>3</th>\n      <td>3181.0</td>\n      <td>RIVER ZUARI AT BORIM BRIDGE</td>\n      <td>GOA</td>\n      <td>29.7</td>\n      <td>5.8</td>\n      <td>6.9</td>\n      <td>64.0</td>\n      <td>3.8</td>\n      <td>0.500</td>\n      <td>5382.000</td>\n      <td>8443.0</td>\n      <td>2014</td>\n    </tr>\n    <tr>\n      <th>4</th>\n      <td>3182.0</td>\n      <td>RIVER ZUARI AT MARCAIM JETTY</td>\n      <td>GOA</td>\n      <td>29.5</td>\n      <td>5.8</td>\n      <td>7.3</td>\n      <td>83.0</td>\n      <td>1.9</td>\n      <td>0.400</td>\n      <td>3428.000</td>\n      <td>5500.0</td>\n      <td>2014</td>\n    </tr>\n    <tr>\n      <th>...</th>\n      <td>...</td>\n      <td>...</td>\n      <td>...</td>\n      <td>...</td>\n      <td>...</td>\n      <td>...</td>\n      <td>...</td>\n      <td>...</td>\n      <td>...</td>\n      <td>...</td>\n      <td>...</td>\n      <td>...</td>\n    </tr>\n    <tr>\n      <th>1986</th>\n      <td>1330.0</td>\n      <td>TAMBIRAPARANI AT ARUMUGANERI, TAMILNADU</td>\n      <td>NAN</td>\n      <td>NaN</td>\n      <td>7.9</td>\n      <td>738.0</td>\n      <td>7.2</td>\n      <td>2.7</td>\n      <td>0.518</td>\n      <td>0.518</td>\n      <td>202.0</td>\n      <td>2003</td>\n    </tr>\n    <tr>\n      <th>1987</th>\n      <td>1450.0</td>\n      <td>PALAR AT VANIYAMBADI WATER SUPPLY HEAD WORK, T...</td>\n      <td>NAN</td>\n      <td>29.0</td>\n      <td>7.5</td>\n      <td>585.0</td>\n      <td>6.3</td>\n      <td>2.6</td>\n      <td>0.155</td>\n      <td>0.155</td>\n      <td>315.0</td>\n      <td>2003</td>\n    </tr>\n    <tr>\n      <th>1988</th>\n      <td>1403.0</td>\n      <td>GUMTI AT U/S SOUTH TRIPURA,TRIPURA</td>\n      <td>NAN</td>\n      <td>28.0</td>\n      <td>7.6</td>\n      <td>98.0</td>\n      <td>6.2</td>\n      <td>1.2</td>\n      <td>NaN</td>\n      <td>NaN</td>\n      <td>570.0</td>\n      <td>2003</td>\n    </tr>\n    <tr>\n      <th>1989</th>\n      <td>1404.0</td>\n      <td>GUMTI AT D/S SOUTH TRIPURA, TRIPURA</td>\n      <td>NAN</td>\n      <td>28.0</td>\n      <td>7.7</td>\n      <td>91.0</td>\n      <td>6.5</td>\n      <td>1.3</td>\n      <td>NaN</td>\n      <td>NaN</td>\n      <td>562.0</td>\n      <td>2003</td>\n    </tr>\n    <tr>\n      <th>1990</th>\n      <td>1726.0</td>\n      <td>CHANDRAPUR, AGARTALA D/S OF HAORA RIVER, TRIPURA</td>\n      <td>NAN</td>\n      <td>29.0</td>\n      <td>7.6</td>\n      <td>110.0</td>\n      <td>5.7</td>\n      <td>1.1</td>\n      <td>NaN</td>\n      <td>NaN</td>\n      <td>546.0</td>\n      <td>2003</td>\n    </tr>\n  </tbody>\n</table>\n<p>1991 rows × 12 columns</p>\n</div>"
     },
     "execution_count": 130,
     "metadata": {},
     "output_type": "execute_result"
    }
   ],
   "source": [
    "df"
   ],
   "metadata": {
    "collapsed": false,
    "pycharm": {
     "name": "#%%\n"
    }
   }
  },
  {
   "cell_type": "markdown",
   "source": [
    "Checking missing values"
   ],
   "metadata": {
    "collapsed": false,
    "pycharm": {
     "name": "#%% md\n"
    }
   }
  },
  {
   "cell_type": "code",
   "execution_count": 131,
   "outputs": [
    {
     "data": {
      "text/plain": "<AxesSubplot:>"
     },
     "execution_count": 131,
     "metadata": {},
     "output_type": "execute_result"
    },
    {
     "data": {
      "text/plain": "<Figure size 1800x720 with 2 Axes>",
      "image/png": "[encoded data removed]"
     },
     "metadata": {
      "needs_background": "light"
     },
     "output_type": "display_data"
    }
   ],
   "source": [
    "msno.matrix(df)"
   ],
   "metadata": {
    "collapsed": false,
    "pycharm": {
     "name": "#%%\n"
    }
   }
  },
  {
   "cell_type": "code",
   "execution_count": 132,
   "outputs": [
    {
     "data": {
      "text/plain": "      station                                           location        state  \\\n0      1393.0               DAMANGANGA AT D/S OF MADHUBAN, DAMAN  DAMAN & DIU   \n1      1399.0  ZUARI AT D/S OF PT. WHERE KUMBARJRIA CANAL JOI...          GOA   \n2      1475.0                                ZUARI AT PANCHAWADI          GOA   \n3      3181.0                        RIVER ZUARI AT BORIM BRIDGE          GOA   \n4      3182.0                       RIVER ZUARI AT MARCAIM JETTY          GOA   \n...       ...                                                ...          ...   \n1986   1330.0            TAMBIRAPARANI AT ARUMUGANERI, TAMILNADU          NAN   \n1987   1450.0  PALAR AT VANIYAMBADI WATER SUPPLY HEAD WORK, T...          NAN   \n1988   1403.0                 GUMTI AT U/S SOUTH TRIPURA,TRIPURA          NAN   \n1989   1404.0                GUMTI AT D/S SOUTH TRIPURA, TRIPURA          NAN   \n1990   1726.0   CHANDRAPUR, AGARTALA D/S OF HAORA RIVER, TRIPURA          NAN   \n\n      Temp   do     ph  conductivity  BOD     nn  fecal_coliform  \\\n0     30.6  6.7    7.5         203.0  NaN  0.100          11.000   \n1     29.8  5.7    7.2         189.0  2.0  0.200        4953.000   \n2     29.5  6.3    6.9         179.0  1.7  0.100        3243.000   \n3     29.7  5.8    6.9          64.0  3.8  0.500        5382.000   \n4     29.5  5.8    7.3          83.0  1.9  0.400        3428.000   \n...    ...  ...    ...           ...  ...    ...             ...   \n1986   NaN  7.9  738.0           7.2  2.7  0.518           0.518   \n1987  29.0  7.5  585.0           6.3  2.6  0.155           0.155   \n1988  28.0  7.6   98.0           6.2  1.2    NaN             NaN   \n1989  28.0  7.7   91.0           6.5  1.3    NaN             NaN   \n1990  29.0  7.6  110.0           5.7  1.1    NaN             NaN   \n\n      total_coliform_mean  year  \n0                    27.0  2014  \n1                  8391.0  2014  \n2                  5330.0  2014  \n3                  8443.0  2014  \n4                  5500.0  2014  \n...                   ...   ...  \n1986                202.0  2003  \n1987                315.0  2003  \n1988                570.0  2003  \n1989                562.0  2003  \n1990                546.0  2003  \n\n[1991 rows x 12 columns]",
      "text/html": "<div>\n<style scoped>\n    .dataframe tbody tr th:only-of-type {\n        vertical-align: middle;\n    }\n\n    .dataframe tbody tr th {\n        vertical-align: top;\n    }\n\n    .dataframe thead th {\n        text-align: right;\n    }\n</style>\n<table border=\"1\" class=\"dataframe\">\n  <thead>\n    <tr style=\"text-align: right;\">\n      <th></th>\n      <th>station</th>\n      <th>location</th>\n      <th>state</th>\n      <th>Temp</th>\n      <th>do</th>\n      <th>ph</th>\n      <th>conductivity</th>\n      <th>BOD</th>\n      <th>nn</th>\n      <th>fecal_coliform</th>\n      <th>total_coliform_mean</th>\n      <th>year</th>\n    </tr>\n  </thead>\n  <tbody>\n    <tr>\n      <th>0</th>\n      <td>1393.0</td>\n      <td>DAMANGANGA AT D/S OF MADHUBAN, DAMAN</td>\n      <td>DAMAN &amp; DIU</td>\n      <td>30.6</td>\n      <td>6.7</td>\n      <td>7.5</td>\n      <td>203.0</td>\n      <td>NaN</td>\n      <td>0.100</td>\n      <td>11.000</td>\n      <td>27.0</td>\n      <td>2014</td>\n    </tr>\n    <tr>\n      <th>1</th>\n      <td>1399.0</td>\n      <td>ZUARI AT D/S OF PT. WHERE KUMBARJRIA CANAL JOI...</td>\n      <td>GOA</td>\n      <td>29.8</td>\n      <td>5.7</td>\n      <td>7.2</td>\n      <td>189.0</td>\n      <td>2.0</td>\n      <td>0.200</td>\n      <td>4953.000</td>\n      <td>8391.0</td>\n      <td>2014</td>\n    </tr>\n    <tr>\n      <th>2</th>\n      <td>1475.0</td>\n      <td>ZUARI AT PANCHAWADI</td>\n      <td>GOA</td>\n      <td>29.5</td>\n      <td>6.3</td>\n      <td>6.9</td>\n      <td>179.0</td>\n      <td>1.7</td>\n      <td>0.100</td>\n      <td>3243.000</td>\n      <td>5330.0</td>\n      <td>2014</td>\n    </tr>\n    <tr>\n      <th>3</th>\n      <td>3181.0</td>\n      <td>RIVER ZUARI AT BORIM BRIDGE</td>\n      <td>GOA</td>\n      <td>29.7</td>\n      <td>5.8</td>\n      <td>6.9</td>\n      <td>64.0</td>\n      <td>3.8</td>\n      <td>0.500</td>\n      <td>5382.000</td>\n      <td>8443.0</td>\n      <td>2014</td>\n    </tr>\n    <tr>\n      <th>4</th>\n      <td>3182.0</td>\n      <td>RIVER ZUARI AT MARCAIM JETTY</td>\n      <td>GOA</td>\n      <td>29.5</td>\n      <td>5.8</td>\n      <td>7.3</td>\n      <td>83.0</td>\n      <td>1.9</td>\n      <td>0.400</td>\n      <td>3428.000</td>\n      <td>5500.0</td>\n      <td>2014</td>\n    </tr>\n    <tr>\n      <th>...</th>\n      <td>...</td>\n      <td>...</td>\n      <td>...</td>\n      <td>...</td>\n      <td>...</td>\n      <td>...</td>\n      <td>...</td>\n      <td>...</td>\n      <td>...</td>\n      <td>...</td>\n      <td>...</td>\n      <td>...</td>\n    </tr>\n    <tr>\n      <th>1986</th>\n      <td>1330.0</td>\n      <td>TAMBIRAPARANI AT ARUMUGANERI, TAMILNADU</td>\n      <td>NAN</td>\n      <td>NaN</td>\n      <td>7.9</td>\n      <td>738.0</td>\n      <td>7.2</td>\n      <td>2.7</td>\n      <td>0.518</td>\n      <td>0.518</td>\n      <td>202.0</td>\n      <td>2003</td>\n    </tr>\n    <tr>\n      <th>1987</th>\n      <td>1450.0</td>\n      <td>PALAR AT VANIYAMBADI WATER SUPPLY HEAD WORK, T...</td>\n      <td>NAN</td>\n      <td>29.0</td>\n      <td>7.5</td>\n      <td>585.0</td>\n      <td>6.3</td>\n      <td>2.6</td>\n      <td>0.155</td>\n      <td>0.155</td>\n      <td>315.0</td>\n      <td>2003</td>\n    </tr>\n    <tr>\n      <th>1988</th>\n      <td>1403.0</td>\n      <td>GUMTI AT U/S SOUTH TRIPURA,TRIPURA</td>\n      <td>NAN</td>\n      <td>28.0</td>\n      <td>7.6</td>\n      <td>98.0</td>\n      <td>6.2</td>\n      <td>1.2</td>\n      <td>NaN</td>\n      <td>NaN</td>\n      <td>570.0</td>\n      <td>2003</td>\n    </tr>\n    <tr>\n      <th>1989</th>\n      <td>1404.0</td>\n      <td>GUMTI AT D/S SOUTH TRIPURA, TRIPURA</td>\n      <td>NAN</td>\n      <td>28.0</td>\n      <td>7.7</td>\n      <td>91.0</td>\n      <td>6.5</td>\n      <td>1.3</td>\n      <td>NaN</td>\n      <td>NaN</td>\n      <td>562.0</td>\n      <td>2003</td>\n    </tr>\n    <tr>\n      <th>1990</th>\n      <td>1726.0</td>\n      <td>CHANDRAPUR, AGARTALA D/S OF HAORA RIVER, TRIPURA</td>\n      <td>NAN</td>\n      <td>29.0</td>\n      <td>7.6</td>\n      <td>110.0</td>\n      <td>5.7</td>\n      <td>1.1</td>\n      <td>NaN</td>\n      <td>NaN</td>\n      <td>546.0</td>\n      <td>2003</td>\n    </tr>\n  </tbody>\n</table>\n<p>1991 rows × 12 columns</p>\n</div>"
     },
     "execution_count": 132,
     "metadata": {},
     "output_type": "execute_result"
    }
   ],
   "source": [
    "df"
   ],
   "metadata": {
    "collapsed": false,
    "pycharm": {
     "name": "#%%\n"
    }
   }
  },
  {
   "cell_type": "code",
   "execution_count": 133,
   "outputs": [
    {
     "name": "stdout",
     "output_type": "stream",
     "text": [
      "320\n",
      "203\n"
     ]
    }
   ],
   "source": [
    "print(df.station.nunique())\n",
    "print(df.state.nunique())"
   ],
   "metadata": {
    "collapsed": false,
    "pycharm": {
     "name": "#%%\n"
    }
   }
  },
  {
   "cell_type": "markdown",
   "source": [
    "# WQI calculation"
   ],
   "metadata": {
    "collapsed": false,
    "pycharm": {
     "name": "#%% md\n"
    }
   }
  },
  {
   "cell_type": "markdown",
   "source": [
    "## Rating calculation"
   ],
   "metadata": {
    "collapsed": false,
    "pycharm": {
     "name": "#%% md\n"
    }
   }
  },
  {
   "cell_type": "markdown",
   "source": [
    "The recommended values (Si) of all the parameters"
   ],
   "metadata": {
    "collapsed": false,
    "pycharm": {
     "name": "#%% md\n"
    }
   }
  },
  {
   "cell_type": "code",
   "execution_count": 134,
   "outputs": [],
   "source": [
    "do_s = 10\n",
    "ph_s = 8.5\n",
    "conductivity_s = 1000\n",
    "bod_s = 5\n",
    "nitrate_s = 45\n",
    "fecal_coliform_s = 100\n",
    "total_coliform_s = 1000"
   ],
   "metadata": {
    "collapsed": false,
    "pycharm": {
     "name": "#%%\n"
    }
   }
  },
  {
   "cell_type": "code",
   "execution_count": 135,
   "outputs": [],
   "source": [
    "features = ['conductivity','BOD','nn','fecal_coliform','total_coliform_mean']"
   ],
   "metadata": {
    "collapsed": false,
    "pycharm": {
     "name": "#%%\n"
    }
   }
  },
  {
   "cell_type": "code",
   "execution_count": 136,
   "outputs": [],
   "source": [
    "df_qi = pd.DataFrame()"
   ],
   "metadata": {
    "collapsed": false,
    "pycharm": {
     "name": "#%%\n"
    }
   }
  },
  {
   "cell_type": "code",
   "execution_count": 137,
   "outputs": [],
   "source": [
    "df_qi['qi_conductivity']=100*df['conductivity']/(conductivity_s)\n",
    "df_qi['qi_do']=100*(df['do']-14.6)/(do_s-14.6)\n",
    "df_qi['qi_ph']=100*(df['ph']-7)/(ph_s-7)\n",
    "df_qi['qi_bod']=100*(df['BOD'])/(bod_s)\n",
    "df_qi['qi_nn']=100*(df['nn'])/(nitrate_s)\n",
    "df_qi['qi_fecal_coliform']=100*(df['fecal_coliform'])/(fecal_coliform_s)\n",
    "df_qi['qi_total_coliform_mean']=100*(df['total_coliform_mean'])/(total_coliform_s)"
   ],
   "metadata": {
    "collapsed": false,
    "pycharm": {
     "name": "#%%\n"
    }
   }
  },
  {
   "cell_type": "code",
   "execution_count": 138,
   "outputs": [
    {
     "data": {
      "text/plain": "      qi_conductivity       qi_do         qi_ph  qi_bod     qi_nn  \\\n0               20.30  171.739130     33.333333     NaN  0.222222   \n1               18.90  193.478261     13.333333    40.0  0.444444   \n2               17.90  180.434783     -6.666667    34.0  0.222222   \n3                6.40  191.304348     -6.666667    76.0  1.111111   \n4                8.30  191.304348     20.000000    38.0  0.888889   \n...               ...         ...           ...     ...       ...   \n1986             0.72  145.652174  48733.333333    54.0  1.151111   \n1987             0.63  154.347826  38533.333333    52.0  0.344444   \n1988             0.62  152.173913   6066.666667    24.0       NaN   \n1989             0.65  150.000000   5600.000000    26.0       NaN   \n1990             0.57  152.173913   6866.666667    22.0       NaN   \n\n      qi_fecal_coliform  qi_total_coliform_mean  \n0                11.000                     2.7  \n1              4953.000                   839.1  \n2              3243.000                   533.0  \n3              5382.000                   844.3  \n4              3428.000                   550.0  \n...                 ...                     ...  \n1986              0.518                    20.2  \n1987              0.155                    31.5  \n1988                NaN                    57.0  \n1989                NaN                    56.2  \n1990                NaN                    54.6  \n\n[1991 rows x 7 columns]",
      "text/html": "<div>\n<style scoped>\n    .dataframe tbody tr th:only-of-type {\n        vertical-align: middle;\n    }\n\n    .dataframe tbody tr th {\n        vertical-align: top;\n    }\n\n    .dataframe thead th {\n        text-align: right;\n    }\n</style>\n<table border=\"1\" class=\"dataframe\">\n  <thead>\n    <tr style=\"text-align: right;\">\n      <th></th>\n      <th>qi_conductivity</th>\n      <th>qi_do</th>\n      <th>qi_ph</th>\n      <th>qi_bod</th>\n      <th>qi_nn</th>\n      <th>qi_fecal_coliform</th>\n      <th>qi_total_coliform_mean</th>\n    </tr>\n  </thead>\n  <tbody>\n    <tr>\n      <th>0</th>\n      <td>20.30</td>\n      <td>171.739130</td>\n      <td>33.333333</td>\n      <td>NaN</td>\n      <td>0.222222</td>\n      <td>11.000</td>\n      <td>2.7</td>\n    </tr>\n    <tr>\n      <th>1</th>\n      <td>18.90</td>\n      <td>193.478261</td>\n      <td>13.333333</td>\n      <td>40.0</td>\n      <td>0.444444</td>\n      <td>4953.000</td>\n      <td>839.1</td>\n    </tr>\n    <tr>\n      <th>2</th>\n      <td>17.90</td>\n      <td>180.434783</td>\n      <td>-6.666667</td>\n      <td>34.0</td>\n      <td>0.222222</td>\n      <td>3243.000</td>\n      <td>533.0</td>\n    </tr>\n    <tr>\n      <th>3</th>\n      <td>6.40</td>\n      <td>191.304348</td>\n      <td>-6.666667</td>\n      <td>76.0</td>\n      <td>1.111111</td>\n      <td>5382.000</td>\n      <td>844.3</td>\n    </tr>\n    <tr>\n      <th>4</th>\n      <td>8.30</td>\n      <td>191.304348</td>\n      <td>20.000000</td>\n      <td>38.0</td>\n      <td>0.888889</td>\n      <td>3428.000</td>\n      <td>550.0</td>\n    </tr>\n    <tr>\n      <th>...</th>\n      <td>...</td>\n      <td>...</td>\n      <td>...</td>\n      <td>...</td>\n      <td>...</td>\n      <td>...</td>\n      <td>...</td>\n    </tr>\n    <tr>\n      <th>1986</th>\n      <td>0.72</td>\n      <td>145.652174</td>\n      <td>48733.333333</td>\n      <td>54.0</td>\n      <td>1.151111</td>\n      <td>0.518</td>\n      <td>20.2</td>\n    </tr>\n    <tr>\n      <th>1987</th>\n      <td>0.63</td>\n      <td>154.347826</td>\n      <td>38533.333333</td>\n      <td>52.0</td>\n      <td>0.344444</td>\n      <td>0.155</td>\n      <td>31.5</td>\n    </tr>\n    <tr>\n      <th>1988</th>\n      <td>0.62</td>\n      <td>152.173913</td>\n      <td>6066.666667</td>\n      <td>24.0</td>\n      <td>NaN</td>\n      <td>NaN</td>\n      <td>57.0</td>\n    </tr>\n    <tr>\n      <th>1989</th>\n      <td>0.65</td>\n      <td>150.000000</td>\n      <td>5600.000000</td>\n      <td>26.0</td>\n      <td>NaN</td>\n      <td>NaN</td>\n      <td>56.2</td>\n    </tr>\n    <tr>\n      <th>1990</th>\n      <td>0.57</td>\n      <td>152.173913</td>\n      <td>6866.666667</td>\n      <td>22.0</td>\n      <td>NaN</td>\n      <td>NaN</td>\n      <td>54.6</td>\n    </tr>\n  </tbody>\n</table>\n<p>1991 rows × 7 columns</p>\n</div>"
     },
     "execution_count": 138,
     "metadata": {},
     "output_type": "execute_result"
    }
   ],
   "source": [
    "df_qi"
   ],
   "metadata": {
    "collapsed": false,
    "pycharm": {
     "name": "#%%\n"
    }
   }
  },
  {
   "cell_type": "code",
   "execution_count": 139,
   "outputs": [
    {
     "data": {
      "text/plain": "      station                                           location        state  \\\n0      1393.0               DAMANGANGA AT D/S OF MADHUBAN, DAMAN  DAMAN & DIU   \n1      1399.0  ZUARI AT D/S OF PT. WHERE KUMBARJRIA CANAL JOI...          GOA   \n2      1475.0                                ZUARI AT PANCHAWADI          GOA   \n3      3181.0                        RIVER ZUARI AT BORIM BRIDGE          GOA   \n4      3182.0                       RIVER ZUARI AT MARCAIM JETTY          GOA   \n...       ...                                                ...          ...   \n1986   1330.0            TAMBIRAPARANI AT ARUMUGANERI, TAMILNADU          NAN   \n1987   1450.0  PALAR AT VANIYAMBADI WATER SUPPLY HEAD WORK, T...          NAN   \n1988   1403.0                 GUMTI AT U/S SOUTH TRIPURA,TRIPURA          NAN   \n1989   1404.0                GUMTI AT D/S SOUTH TRIPURA, TRIPURA          NAN   \n1990   1726.0   CHANDRAPUR, AGARTALA D/S OF HAORA RIVER, TRIPURA          NAN   \n\n      Temp   do     ph  conductivity  BOD     nn  fecal_coliform  \\\n0     30.6  6.7    7.5         203.0  NaN  0.100          11.000   \n1     29.8  5.7    7.2         189.0  2.0  0.200        4953.000   \n2     29.5  6.3    6.9         179.0  1.7  0.100        3243.000   \n3     29.7  5.8    6.9          64.0  3.8  0.500        5382.000   \n4     29.5  5.8    7.3          83.0  1.9  0.400        3428.000   \n...    ...  ...    ...           ...  ...    ...             ...   \n1986   NaN  7.9  738.0           7.2  2.7  0.518           0.518   \n1987  29.0  7.5  585.0           6.3  2.6  0.155           0.155   \n1988  28.0  7.6   98.0           6.2  1.2    NaN             NaN   \n1989  28.0  7.7   91.0           6.5  1.3    NaN             NaN   \n1990  29.0  7.6  110.0           5.7  1.1    NaN             NaN   \n\n      total_coliform_mean  year  \n0                    27.0  2014  \n1                  8391.0  2014  \n2                  5330.0  2014  \n3                  8443.0  2014  \n4                  5500.0  2014  \n...                   ...   ...  \n1986                202.0  2003  \n1987                315.0  2003  \n1988                570.0  2003  \n1989                562.0  2003  \n1990                546.0  2003  \n\n[1991 rows x 12 columns]",
      "text/html": "<div>\n<style scoped>\n    .dataframe tbody tr th:only-of-type {\n        vertical-align: middle;\n    }\n\n    .dataframe tbody tr th {\n        vertical-align: top;\n    }\n\n    .dataframe thead th {\n        text-align: right;\n    }\n</style>\n<table border=\"1\" class=\"dataframe\">\n  <thead>\n    <tr style=\"text-align: right;\">\n      <th></th>\n      <th>station</th>\n      <th>location</th>\n      <th>state</th>\n      <th>Temp</th>\n      <th>do</th>\n      <th>ph</th>\n      <th>conductivity</th>\n      <th>BOD</th>\n      <th>nn</th>\n      <th>fecal_coliform</th>\n      <th>total_coliform_mean</th>\n      <th>year</th>\n    </tr>\n  </thead>\n  <tbody>\n    <tr>\n      <th>0</th>\n      <td>1393.0</td>\n      <td>DAMANGANGA AT D/S OF MADHUBAN, DAMAN</td>\n      <td>DAMAN &amp; DIU</td>\n      <td>30.6</td>\n      <td>6.7</td>\n      <td>7.5</td>\n      <td>203.0</td>\n      <td>NaN</td>\n      <td>0.100</td>\n      <td>11.000</td>\n      <td>27.0</td>\n      <td>2014</td>\n    </tr>\n    <tr>\n      <th>1</th>\n      <td>1399.0</td>\n      <td>ZUARI AT D/S OF PT. WHERE KUMBARJRIA CANAL JOI...</td>\n      <td>GOA</td>\n      <td>29.8</td>\n      <td>5.7</td>\n      <td>7.2</td>\n      <td>189.0</td>\n      <td>2.0</td>\n      <td>0.200</td>\n      <td>4953.000</td>\n      <td>8391.0</td>\n      <td>2014</td>\n    </tr>\n    <tr>\n      <th>2</th>\n      <td>1475.0</td>\n      <td>ZUARI AT PANCHAWADI</td>\n      <td>GOA</td>\n      <td>29.5</td>\n      <td>6.3</td>\n      <td>6.9</td>\n      <td>179.0</td>\n      <td>1.7</td>\n      <td>0.100</td>\n      <td>3243.000</td>\n      <td>5330.0</td>\n      <td>2014</td>\n    </tr>\n    <tr>\n      <th>3</th>\n      <td>3181.0</td>\n      <td>RIVER ZUARI AT BORIM BRIDGE</td>\n      <td>GOA</td>\n      <td>29.7</td>\n      <td>5.8</td>\n      <td>6.9</td>\n      <td>64.0</td>\n      <td>3.8</td>\n      <td>0.500</td>\n      <td>5382.000</td>\n      <td>8443.0</td>\n      <td>2014</td>\n    </tr>\n    <tr>\n      <th>4</th>\n      <td>3182.0</td>\n      <td>RIVER ZUARI AT MARCAIM JETTY</td>\n      <td>GOA</td>\n      <td>29.5</td>\n      <td>5.8</td>\n      <td>7.3</td>\n      <td>83.0</td>\n      <td>1.9</td>\n      <td>0.400</td>\n      <td>3428.000</td>\n      <td>5500.0</td>\n      <td>2014</td>\n    </tr>\n    <tr>\n      <th>...</th>\n      <td>...</td>\n      <td>...</td>\n      <td>...</td>\n      <td>...</td>\n      <td>...</td>\n      <td>...</td>\n      <td>...</td>\n      <td>...</td>\n      <td>...</td>\n      <td>...</td>\n      <td>...</td>\n      <td>...</td>\n    </tr>\n    <tr>\n      <th>1986</th>\n      <td>1330.0</td>\n      <td>TAMBIRAPARANI AT ARUMUGANERI, TAMILNADU</td>\n      <td>NAN</td>\n      <td>NaN</td>\n      <td>7.9</td>\n      <td>738.0</td>\n      <td>7.2</td>\n      <td>2.7</td>\n      <td>0.518</td>\n      <td>0.518</td>\n      <td>202.0</td>\n      <td>2003</td>\n    </tr>\n    <tr>\n      <th>1987</th>\n      <td>1450.0</td>\n      <td>PALAR AT VANIYAMBADI WATER SUPPLY HEAD WORK, T...</td>\n      <td>NAN</td>\n      <td>29.0</td>\n      <td>7.5</td>\n      <td>585.0</td>\n      <td>6.3</td>\n      <td>2.6</td>\n      <td>0.155</td>\n      <td>0.155</td>\n      <td>315.0</td>\n      <td>2003</td>\n    </tr>\n    <tr>\n      <th>1988</th>\n      <td>1403.0</td>\n      <td>GUMTI AT U/S SOUTH TRIPURA,TRIPURA</td>\n      <td>NAN</td>\n      <td>28.0</td>\n      <td>7.6</td>\n      <td>98.0</td>\n      <td>6.2</td>\n      <td>1.2</td>\n      <td>NaN</td>\n      <td>NaN</td>\n      <td>570.0</td>\n      <td>2003</td>\n    </tr>\n    <tr>\n      <th>1989</th>\n      <td>1404.0</td>\n      <td>GUMTI AT D/S SOUTH TRIPURA, TRIPURA</td>\n      <td>NAN</td>\n      <td>28.0</td>\n      <td>7.7</td>\n      <td>91.0</td>\n      <td>6.5</td>\n      <td>1.3</td>\n      <td>NaN</td>\n      <td>NaN</td>\n      <td>562.0</td>\n      <td>2003</td>\n    </tr>\n    <tr>\n      <th>1990</th>\n      <td>1726.0</td>\n      <td>CHANDRAPUR, AGARTALA D/S OF HAORA RIVER, TRIPURA</td>\n      <td>NAN</td>\n      <td>29.0</td>\n      <td>7.6</td>\n      <td>110.0</td>\n      <td>5.7</td>\n      <td>1.1</td>\n      <td>NaN</td>\n      <td>NaN</td>\n      <td>546.0</td>\n      <td>2003</td>\n    </tr>\n  </tbody>\n</table>\n<p>1991 rows × 12 columns</p>\n</div>"
     },
     "execution_count": 139,
     "metadata": {},
     "output_type": "execute_result"
    }
   ],
   "source": [
    "df"
   ],
   "metadata": {
    "collapsed": false,
    "pycharm": {
     "name": "#%%\n"
    }
   }
  },
  {
   "cell_type": "markdown",
   "source": [
    "Parameter weights"
   ],
   "metadata": {
    "collapsed": false,
    "pycharm": {
     "name": "#%% md\n"
    }
   }
  },
  {
   "cell_type": "code",
   "execution_count": 140,
   "outputs": [],
   "source": [
    "do_w = 0.2213\n",
    "ph_w = 0.2604\n",
    "conductivity_w = 0.0022\n",
    "bod_w = 0.4426\n",
    "n_w = 0.0492\n",
    "fecal_coliform_w = 0.0221\n",
    "total_coliform_w = 0.0022\n",
    "w_total =  1"
   ],
   "metadata": {
    "collapsed": false,
    "pycharm": {
     "name": "#%%\n"
    }
   }
  },
  {
   "cell_type": "code",
   "execution_count": 143,
   "outputs": [],
   "source": [
    "df2 = pd.concat([df,df_qi],axis=1)"
   ],
   "metadata": {
    "collapsed": false,
    "pycharm": {
     "name": "#%%\n"
    }
   }
  },
  {
   "cell_type": "code",
   "execution_count": 144,
   "outputs": [
    {
     "data": {
      "text/plain": "      station                                           location        state  \\\n0      1393.0               DAMANGANGA AT D/S OF MADHUBAN, DAMAN  DAMAN & DIU   \n1      1399.0  ZUARI AT D/S OF PT. WHERE KUMBARJRIA CANAL JOI...          GOA   \n2      1475.0                                ZUARI AT PANCHAWADI          GOA   \n3      3181.0                        RIVER ZUARI AT BORIM BRIDGE          GOA   \n4      3182.0                       RIVER ZUARI AT MARCAIM JETTY          GOA   \n...       ...                                                ...          ...   \n1986   1330.0            TAMBIRAPARANI AT ARUMUGANERI, TAMILNADU          NAN   \n1987   1450.0  PALAR AT VANIYAMBADI WATER SUPPLY HEAD WORK, T...          NAN   \n1988   1403.0                 GUMTI AT U/S SOUTH TRIPURA,TRIPURA          NAN   \n1989   1404.0                GUMTI AT D/S SOUTH TRIPURA, TRIPURA          NAN   \n1990   1726.0   CHANDRAPUR, AGARTALA D/S OF HAORA RIVER, TRIPURA          NAN   \n\n      Temp   do     ph  conductivity  BOD     nn  fecal_coliform  \\\n0     30.6  6.7    7.5         203.0  NaN  0.100          11.000   \n1     29.8  5.7    7.2         189.0  2.0  0.200        4953.000   \n2     29.5  6.3    6.9         179.0  1.7  0.100        3243.000   \n3     29.7  5.8    6.9          64.0  3.8  0.500        5382.000   \n4     29.5  5.8    7.3          83.0  1.9  0.400        3428.000   \n...    ...  ...    ...           ...  ...    ...             ...   \n1986   NaN  7.9  738.0           7.2  2.7  0.518           0.518   \n1987  29.0  7.5  585.0           6.3  2.6  0.155           0.155   \n1988  28.0  7.6   98.0           6.2  1.2    NaN             NaN   \n1989  28.0  7.7   91.0           6.5  1.3    NaN             NaN   \n1990  29.0  7.6  110.0           5.7  1.1    NaN             NaN   \n\n      total_coliform_mean  year  qi_conductivity       qi_do         qi_ph  \\\n0                    27.0  2014            20.30  171.739130     33.333333   \n1                  8391.0  2014            18.90  193.478261     13.333333   \n2                  5330.0  2014            17.90  180.434783     -6.666667   \n3                  8443.0  2014             6.40  191.304348     -6.666667   \n4                  5500.0  2014             8.30  191.304348     20.000000   \n...                   ...   ...              ...         ...           ...   \n1986                202.0  2003             0.72  145.652174  48733.333333   \n1987                315.0  2003             0.63  154.347826  38533.333333   \n1988                570.0  2003             0.62  152.173913   6066.666667   \n1989                562.0  2003             0.65  150.000000   5600.000000   \n1990                546.0  2003             0.57  152.173913   6866.666667   \n\n      qi_bod     qi_nn  qi_fecal_coliform  qi_total_coliform_mean  \n0        NaN  0.222222             11.000                     2.7  \n1       40.0  0.444444           4953.000                   839.1  \n2       34.0  0.222222           3243.000                   533.0  \n3       76.0  1.111111           5382.000                   844.3  \n4       38.0  0.888889           3428.000                   550.0  \n...      ...       ...                ...                     ...  \n1986    54.0  1.151111              0.518                    20.2  \n1987    52.0  0.344444              0.155                    31.5  \n1988    24.0       NaN                NaN                    57.0  \n1989    26.0       NaN                NaN                    56.2  \n1990    22.0       NaN                NaN                    54.6  \n\n[1991 rows x 19 columns]",
      "text/html": "<div>\n<style scoped>\n    .dataframe tbody tr th:only-of-type {\n        vertical-align: middle;\n    }\n\n    .dataframe tbody tr th {\n        vertical-align: top;\n    }\n\n    .dataframe thead th {\n        text-align: right;\n    }\n</style>\n<table border=\"1\" class=\"dataframe\">\n  <thead>\n    <tr style=\"text-align: right;\">\n      <th></th>\n      <th>station</th>\n      <th>location</th>\n      <th>state</th>\n      <th>Temp</th>\n      <th>do</th>\n      <th>ph</th>\n      <th>conductivity</th>\n      <th>BOD</th>\n      <th>nn</th>\n      <th>fecal_coliform</th>\n      <th>total_coliform_mean</th>\n      <th>year</th>\n      <th>qi_conductivity</th>\n      <th>qi_do</th>\n      <th>qi_ph</th>\n      <th>qi_bod</th>\n      <th>qi_nn</th>\n      <th>qi_fecal_coliform</th>\n      <th>qi_total_coliform_mean</th>\n    </tr>\n  </thead>\n  <tbody>\n    <tr>\n      <th>0</th>\n      <td>1393.0</td>\n      <td>DAMANGANGA AT D/S OF MADHUBAN, DAMAN</td>\n      <td>DAMAN &amp; DIU</td>\n      <td>30.6</td>\n      <td>6.7</td>\n      <td>7.5</td>\n      <td>203.0</td>\n      <td>NaN</td>\n      <td>0.100</td>\n      <td>11.000</td>\n      <td>27.0</td>\n      <td>2014</td>\n      <td>20.30</td>\n      <td>171.739130</td>\n      <td>33.333333</td>\n      <td>NaN</td>\n      <td>0.222222</td>\n      <td>11.000</td>\n      <td>2.7</td>\n    </tr>\n    <tr>\n      <th>1</th>\n      <td>1399.0</td>\n      <td>ZUARI AT D/S OF PT. WHERE KUMBARJRIA CANAL JOI...</td>\n      <td>GOA</td>\n      <td>29.8</td>\n      <td>5.7</td>\n      <td>7.2</td>\n      <td>189.0</td>\n      <td>2.0</td>\n      <td>0.200</td>\n      <td>4953.000</td>\n      <td>8391.0</td>\n      <td>2014</td>\n      <td>18.90</td>\n      <td>193.478261</td>\n      <td>13.333333</td>\n      <td>40.0</td>\n      <td>0.444444</td>\n      <td>4953.000</td>\n      <td>839.1</td>\n    </tr>\n    <tr>\n      <th>2</th>\n      <td>1475.0</td>\n      <td>ZUARI AT PANCHAWADI</td>\n      <td>GOA</td>\n      <td>29.5</td>\n      <td>6.3</td>\n      <td>6.9</td>\n      <td>179.0</td>\n      <td>1.7</td>\n      <td>0.100</td>\n      <td>3243.000</td>\n      <td>5330.0</td>\n      <td>2014</td>\n      <td>17.90</td>\n      <td>180.434783</td>\n      <td>-6.666667</td>\n      <td>34.0</td>\n      <td>0.222222</td>\n      <td>3243.000</td>\n      <td>533.0</td>\n    </tr>\n    <tr>\n      <th>3</th>\n      <td>3181.0</td>\n      <td>RIVER ZUARI AT BORIM BRIDGE</td>\n      <td>GOA</td>\n      <td>29.7</td>\n      <td>5.8</td>\n      <td>6.9</td>\n      <td>64.0</td>\n      <td>3.8</td>\n      <td>0.500</td>\n      <td>5382.000</td>\n      <td>8443.0</td>\n      <td>2014</td>\n      <td>6.40</td>\n      <td>191.304348</td>\n      <td>-6.666667</td>\n      <td>76.0</td>\n      <td>1.111111</td>\n      <td>5382.000</td>\n      <td>844.3</td>\n    </tr>\n    <tr>\n      <th>4</th>\n      <td>3182.0</td>\n      <td>RIVER ZUARI AT MARCAIM JETTY</td>\n      <td>GOA</td>\n      <td>29.5</td>\n      <td>5.8</td>\n      <td>7.3</td>\n      <td>83.0</td>\n      <td>1.9</td>\n      <td>0.400</td>\n      <td>3428.000</td>\n      <td>5500.0</td>\n      <td>2014</td>\n      <td>8.30</td>\n      <td>191.304348</td>\n      <td>20.000000</td>\n      <td>38.0</td>\n      <td>0.888889</td>\n      <td>3428.000</td>\n      <td>550.0</td>\n    </tr>\n    <tr>\n      <th>...</th>\n      <td>...</td>\n      <td>...</td>\n      <td>...</td>\n      <td>...</td>\n      <td>...</td>\n      <td>...</td>\n      <td>...</td>\n      <td>...</td>\n      <td>...</td>\n      <td>...</td>\n      <td>...</td>\n      <td>...</td>\n      <td>...</td>\n      <td>...</td>\n      <td>...</td>\n      <td>...</td>\n      <td>...</td>\n      <td>...</td>\n      <td>...</td>\n    </tr>\n    <tr>\n      <th>1986</th>\n      <td>1330.0</td>\n      <td>TAMBIRAPARANI AT ARUMUGANERI, TAMILNADU</td>\n      <td>NAN</td>\n      <td>NaN</td>\n      <td>7.9</td>\n      <td>738.0</td>\n      <td>7.2</td>\n      <td>2.7</td>\n      <td>0.518</td>\n      <td>0.518</td>\n      <td>202.0</td>\n      <td>2003</td>\n      <td>0.72</td>\n      <td>145.652174</td>\n      <td>48733.333333</td>\n      <td>54.0</td>\n      <td>1.151111</td>\n      <td>0.518</td>\n      <td>20.2</td>\n    </tr>\n    <tr>\n      <th>1987</th>\n      <td>1450.0</td>\n      <td>PALAR AT VANIYAMBADI WATER SUPPLY HEAD WORK, T...</td>\n      <td>NAN</td>\n      <td>29.0</td>\n      <td>7.5</td>\n      <td>585.0</td>\n      <td>6.3</td>\n      <td>2.6</td>\n      <td>0.155</td>\n      <td>0.155</td>\n      <td>315.0</td>\n      <td>2003</td>\n      <td>0.63</td>\n      <td>154.347826</td>\n      <td>38533.333333</td>\n      <td>52.0</td>\n      <td>0.344444</td>\n      <td>0.155</td>\n      <td>31.5</td>\n    </tr>\n    <tr>\n      <th>1988</th>\n      <td>1403.0</td>\n      <td>GUMTI AT U/S SOUTH TRIPURA,TRIPURA</td>\n      <td>NAN</td>\n      <td>28.0</td>\n      <td>7.6</td>\n      <td>98.0</td>\n      <td>6.2</td>\n      <td>1.2</td>\n      <td>NaN</td>\n      <td>NaN</td>\n      <td>570.0</td>\n      <td>2003</td>\n      <td>0.62</td>\n      <td>152.173913</td>\n      <td>6066.666667</td>\n      <td>24.0</td>\n      <td>NaN</td>\n      <td>NaN</td>\n      <td>57.0</td>\n    </tr>\n    <tr>\n      <th>1989</th>\n      <td>1404.0</td>\n      <td>GUMTI AT D/S SOUTH TRIPURA, TRIPURA</td>\n      <td>NAN</td>\n      <td>28.0</td>\n      <td>7.7</td>\n      <td>91.0</td>\n      <td>6.5</td>\n      <td>1.3</td>\n      <td>NaN</td>\n      <td>NaN</td>\n      <td>562.0</td>\n      <td>2003</td>\n      <td>0.65</td>\n      <td>150.000000</td>\n      <td>5600.000000</td>\n      <td>26.0</td>\n      <td>NaN</td>\n      <td>NaN</td>\n      <td>56.2</td>\n    </tr>\n    <tr>\n      <th>1990</th>\n      <td>1726.0</td>\n      <td>CHANDRAPUR, AGARTALA D/S OF HAORA RIVER, TRIPURA</td>\n      <td>NAN</td>\n      <td>29.0</td>\n      <td>7.6</td>\n      <td>110.0</td>\n      <td>5.7</td>\n      <td>1.1</td>\n      <td>NaN</td>\n      <td>NaN</td>\n      <td>546.0</td>\n      <td>2003</td>\n      <td>0.57</td>\n      <td>152.173913</td>\n      <td>6866.666667</td>\n      <td>22.0</td>\n      <td>NaN</td>\n      <td>NaN</td>\n      <td>54.6</td>\n    </tr>\n  </tbody>\n</table>\n<p>1991 rows × 19 columns</p>\n</div>"
     },
     "execution_count": 144,
     "metadata": {},
     "output_type": "execute_result"
    }
   ],
   "source": [
    "df2"
   ],
   "metadata": {
    "collapsed": false,
    "pycharm": {
     "name": "#%%\n"
    }
   }
  },
  {
   "cell_type": "code",
   "execution_count": 147,
   "outputs": [],
   "source": [
    "df2['wqi']=df2['qi_conductivity']*conductivity_w+\\\n",
    "           df2['qi_do']*do_w+\\\n",
    "           df2['qi_ph']*ph_w+\\\n",
    "           df2['qi_bod']*bod_w+\\\n",
    "           df2['qi_nn']*n_w+\\\n",
    "           df2['qi_fecal_coliform']*fecal_coliform_w+\\\n",
    "           df2['qi_total_coliform_mean']*total_coliform_w"
   ],
   "metadata": {
    "collapsed": false,
    "pycharm": {
     "name": "#%%\n"
    }
   }
  },
  {
   "cell_type": "code",
   "execution_count": 148,
   "outputs": [
    {
     "data": {
      "text/plain": "      station                                           location        state  \\\n0      1393.0               DAMANGANGA AT D/S OF MADHUBAN, DAMAN  DAMAN & DIU   \n1      1399.0  ZUARI AT D/S OF PT. WHERE KUMBARJRIA CANAL JOI...          GOA   \n2      1475.0                                ZUARI AT PANCHAWADI          GOA   \n3      3181.0                        RIVER ZUARI AT BORIM BRIDGE          GOA   \n4      3182.0                       RIVER ZUARI AT MARCAIM JETTY          GOA   \n...       ...                                                ...          ...   \n1986   1330.0            TAMBIRAPARANI AT ARUMUGANERI, TAMILNADU          NAN   \n1987   1450.0  PALAR AT VANIYAMBADI WATER SUPPLY HEAD WORK, T...          NAN   \n1988   1403.0                 GUMTI AT U/S SOUTH TRIPURA,TRIPURA          NAN   \n1989   1404.0                GUMTI AT D/S SOUTH TRIPURA, TRIPURA          NAN   \n1990   1726.0   CHANDRAPUR, AGARTALA D/S OF HAORA RIVER, TRIPURA          NAN   \n\n      Temp   do     ph  conductivity  BOD     nn  fecal_coliform  \\\n0     30.6  6.7    7.5         203.0  NaN  0.100          11.000   \n1     29.8  5.7    7.2         189.0  2.0  0.200        4953.000   \n2     29.5  6.3    6.9         179.0  1.7  0.100        3243.000   \n3     29.7  5.8    6.9          64.0  3.8  0.500        5382.000   \n4     29.5  5.8    7.3          83.0  1.9  0.400        3428.000   \n...    ...  ...    ...           ...  ...    ...             ...   \n1986   NaN  7.9  738.0           7.2  2.7  0.518           0.518   \n1987  29.0  7.5  585.0           6.3  2.6  0.155           0.155   \n1988  28.0  7.6   98.0           6.2  1.2    NaN             NaN   \n1989  28.0  7.7   91.0           6.5  1.3    NaN             NaN   \n1990  29.0  7.6  110.0           5.7  1.1    NaN             NaN   \n\n      total_coliform_mean  year  qi_conductivity       qi_do         qi_ph  \\\n0                    27.0  2014            20.30  171.739130     33.333333   \n1                  8391.0  2014            18.90  193.478261     13.333333   \n2                  5330.0  2014            17.90  180.434783     -6.666667   \n3                  8443.0  2014             6.40  191.304348     -6.666667   \n4                  5500.0  2014             8.30  191.304348     20.000000   \n...                   ...   ...              ...         ...           ...   \n1986                202.0  2003             0.72  145.652174  48733.333333   \n1987                315.0  2003             0.63  154.347826  38533.333333   \n1988                570.0  2003             0.62  152.173913   6066.666667   \n1989                562.0  2003             0.65  150.000000   5600.000000   \n1990                546.0  2003             0.57  152.173913   6866.666667   \n\n      qi_bod     qi_nn  qi_fecal_coliform  qi_total_coliform_mean  \\\n0        NaN  0.222222             11.000                     2.7   \n1       40.0  0.444444           4953.000                   839.1   \n2       34.0  0.222222           3243.000                   533.0   \n3       76.0  1.111111           5382.000                   844.3   \n4       38.0  0.888889           3428.000                   550.0   \n...      ...       ...                ...                     ...   \n1986    54.0  1.151111              0.518                    20.2   \n1987    52.0  0.344444              0.155                    31.5   \n1988    24.0       NaN                NaN                    57.0   \n1989    26.0       NaN                NaN                    56.2   \n1990    22.0       NaN                NaN                    54.6   \n\n               wqi  \n0              NaN  \n1       175.363506  \n2       126.135831  \n3       195.105659  \n4       141.393246  \n...            ...  \n1986  12746.407333  \n1987  10091.343432  \n1988           NaN  \n1989           NaN  \n1990           NaN  \n\n[1991 rows x 20 columns]",
      "text/html": "<div>\n<style scoped>\n    .dataframe tbody tr th:only-of-type {\n        vertical-align: middle;\n    }\n\n    .dataframe tbody tr th {\n        vertical-align: top;\n    }\n\n    .dataframe thead th {\n        text-align: right;\n    }\n</style>\n<table border=\"1\" class=\"dataframe\">\n  <thead>\n    <tr style=\"text-align: right;\">\n      <th></th>\n      <th>station</th>\n      <th>location</th>\n      <th>state</th>\n      <th>Temp</th>\n      <th>do</th>\n      <th>ph</th>\n      <th>conductivity</th>\n      <th>BOD</th>\n      <th>nn</th>\n      <th>fecal_coliform</th>\n      <th>total_coliform_mean</th>\n      <th>year</th>\n      <th>qi_conductivity</th>\n      <th>qi_do</th>\n      <th>qi_ph</th>\n      <th>qi_bod</th>\n      <th>qi_nn</th>\n      <th>qi_fecal_coliform</th>\n      <th>qi_total_coliform_mean</th>\n      <th>wqi</th>\n    </tr>\n  </thead>\n  <tbody>\n    <tr>\n      <th>0</th>\n      <td>1393.0</td>\n      <td>DAMANGANGA AT D/S OF MADHUBAN, DAMAN</td>\n      <td>DAMAN &amp; DIU</td>\n      <td>30.6</td>\n      <td>6.7</td>\n      <td>7.5</td>\n      <td>203.0</td>\n      <td>NaN</td>\n      <td>0.100</td>\n      <td>11.000</td>\n      <td>27.0</td>\n      <td>2014</td>\n      <td>20.30</td>\n      <td>171.739130</td>\n      <td>33.333333</td>\n      <td>NaN</td>\n      <td>0.222222</td>\n      <td>11.000</td>\n      <td>2.7</td>\n      <td>NaN</td>\n    </tr>\n    <tr>\n      <th>1</th>\n      <td>1399.0</td>\n      <td>ZUARI AT D/S OF PT. WHERE KUMBARJRIA CANAL JOI...</td>\n      <td>GOA</td>\n      <td>29.8</td>\n      <td>5.7</td>\n      <td>7.2</td>\n      <td>189.0</td>\n      <td>2.0</td>\n      <td>0.200</td>\n      <td>4953.000</td>\n      <td>8391.0</td>\n      <td>2014</td>\n      <td>18.90</td>\n      <td>193.478261</td>\n      <td>13.333333</td>\n      <td>40.0</td>\n      <td>0.444444</td>\n      <td>4953.000</td>\n      <td>839.1</td>\n      <td>175.363506</td>\n    </tr>\n    <tr>\n      <th>2</th>\n      <td>1475.0</td>\n      <td>ZUARI AT PANCHAWADI</td>\n      <td>GOA</td>\n      <td>29.5</td>\n      <td>6.3</td>\n      <td>6.9</td>\n      <td>179.0</td>\n      <td>1.7</td>\n      <td>0.100</td>\n      <td>3243.000</td>\n      <td>5330.0</td>\n      <td>2014</td>\n      <td>17.90</td>\n      <td>180.434783</td>\n      <td>-6.666667</td>\n      <td>34.0</td>\n      <td>0.222222</td>\n      <td>3243.000</td>\n      <td>533.0</td>\n      <td>126.135831</td>\n    </tr>\n    <tr>\n      <th>3</th>\n      <td>3181.0</td>\n      <td>RIVER ZUARI AT BORIM BRIDGE</td>\n      <td>GOA</td>\n      <td>29.7</td>\n      <td>5.8</td>\n      <td>6.9</td>\n      <td>64.0</td>\n      <td>3.8</td>\n      <td>0.500</td>\n      <td>5382.000</td>\n      <td>8443.0</td>\n      <td>2014</td>\n      <td>6.40</td>\n      <td>191.304348</td>\n      <td>-6.666667</td>\n      <td>76.0</td>\n      <td>1.111111</td>\n      <td>5382.000</td>\n      <td>844.3</td>\n      <td>195.105659</td>\n    </tr>\n    <tr>\n      <th>4</th>\n      <td>3182.0</td>\n      <td>RIVER ZUARI AT MARCAIM JETTY</td>\n      <td>GOA</td>\n      <td>29.5</td>\n      <td>5.8</td>\n      <td>7.3</td>\n      <td>83.0</td>\n      <td>1.9</td>\n      <td>0.400</td>\n      <td>3428.000</td>\n      <td>5500.0</td>\n      <td>2014</td>\n      <td>8.30</td>\n      <td>191.304348</td>\n      <td>20.000000</td>\n      <td>38.0</td>\n      <td>0.888889</td>\n      <td>3428.000</td>\n      <td>550.0</td>\n      <td>141.393246</td>\n    </tr>\n    <tr>\n      <th>...</th>\n      <td>...</td>\n      <td>...</td>\n      <td>...</td>\n      <td>...</td>\n      <td>...</td>\n      <td>...</td>\n      <td>...</td>\n      <td>...</td>\n      <td>...</td>\n      <td>...</td>\n      <td>...</td>\n      <td>...</td>\n      <td>...</td>\n      <td>...</td>\n      <td>...</td>\n      <td>...</td>\n      <td>...</td>\n      <td>...</td>\n      <td>...</td>\n      <td>...</td>\n    </tr>\n    <tr>\n      <th>1986</th>\n      <td>1330.0</td>\n      <td>TAMBIRAPARANI AT ARUMUGANERI, TAMILNADU</td>\n      <td>NAN</td>\n      <td>NaN</td>\n      <td>7.9</td>\n      <td>738.0</td>\n      <td>7.2</td>\n      <td>2.7</td>\n      <td>0.518</td>\n      <td>0.518</td>\n      <td>202.0</td>\n      <td>2003</td>\n      <td>0.72</td>\n      <td>145.652174</td>\n      <td>48733.333333</td>\n      <td>54.0</td>\n      <td>1.151111</td>\n      <td>0.518</td>\n      <td>20.2</td>\n      <td>12746.407333</td>\n    </tr>\n    <tr>\n      <th>1987</th>\n      <td>1450.0</td>\n      <td>PALAR AT VANIYAMBADI WATER SUPPLY HEAD WORK, T...</td>\n      <td>NAN</td>\n      <td>29.0</td>\n      <td>7.5</td>\n      <td>585.0</td>\n      <td>6.3</td>\n      <td>2.6</td>\n      <td>0.155</td>\n      <td>0.155</td>\n      <td>315.0</td>\n      <td>2003</td>\n      <td>0.63</td>\n      <td>154.347826</td>\n      <td>38533.333333</td>\n      <td>52.0</td>\n      <td>0.344444</td>\n      <td>0.155</td>\n      <td>31.5</td>\n      <td>10091.343432</td>\n    </tr>\n    <tr>\n      <th>1988</th>\n      <td>1403.0</td>\n      <td>GUMTI AT U/S SOUTH TRIPURA,TRIPURA</td>\n      <td>NAN</td>\n      <td>28.0</td>\n      <td>7.6</td>\n      <td>98.0</td>\n      <td>6.2</td>\n      <td>1.2</td>\n      <td>NaN</td>\n      <td>NaN</td>\n      <td>570.0</td>\n      <td>2003</td>\n      <td>0.62</td>\n      <td>152.173913</td>\n      <td>6066.666667</td>\n      <td>24.0</td>\n      <td>NaN</td>\n      <td>NaN</td>\n      <td>57.0</td>\n      <td>NaN</td>\n    </tr>\n    <tr>\n      <th>1989</th>\n      <td>1404.0</td>\n      <td>GUMTI AT D/S SOUTH TRIPURA, TRIPURA</td>\n      <td>NAN</td>\n      <td>28.0</td>\n      <td>7.7</td>\n      <td>91.0</td>\n      <td>6.5</td>\n      <td>1.3</td>\n      <td>NaN</td>\n      <td>NaN</td>\n      <td>562.0</td>\n      <td>2003</td>\n      <td>0.65</td>\n      <td>150.000000</td>\n      <td>5600.000000</td>\n      <td>26.0</td>\n      <td>NaN</td>\n      <td>NaN</td>\n      <td>56.2</td>\n      <td>NaN</td>\n    </tr>\n    <tr>\n      <th>1990</th>\n      <td>1726.0</td>\n      <td>CHANDRAPUR, AGARTALA D/S OF HAORA RIVER, TRIPURA</td>\n      <td>NAN</td>\n      <td>29.0</td>\n      <td>7.6</td>\n      <td>110.0</td>\n      <td>5.7</td>\n      <td>1.1</td>\n      <td>NaN</td>\n      <td>NaN</td>\n      <td>546.0</td>\n      <td>2003</td>\n      <td>0.57</td>\n      <td>152.173913</td>\n      <td>6866.666667</td>\n      <td>22.0</td>\n      <td>NaN</td>\n      <td>NaN</td>\n      <td>54.6</td>\n      <td>NaN</td>\n    </tr>\n  </tbody>\n</table>\n<p>1991 rows × 20 columns</p>\n</div>"
     },
     "execution_count": 148,
     "metadata": {},
     "output_type": "execute_result"
    }
   ],
   "source": [
    "df2"
   ],
   "metadata": {
    "collapsed": false,
    "pycharm": {
     "name": "#%%\n"
    }
   }
  },
  {
   "cell_type": "markdown",
   "source": [
    "# adding the WQI to the original dataframe"
   ],
   "metadata": {
    "collapsed": false,
    "pycharm": {
     "name": "#%% md\n"
    }
   }
  },
  {
   "cell_type": "code",
   "execution_count": 165,
   "outputs": [],
   "source": [
    "df3 = pd.concat([df,df2.wqi],axis=1)"
   ],
   "metadata": {
    "collapsed": false,
    "pycharm": {
     "name": "#%%\n"
    }
   }
  },
  {
   "cell_type": "code",
   "execution_count": 167,
   "outputs": [
    {
     "data": {
      "text/plain": "      station                                           location        state  \\\n0      1393.0               DAMANGANGA AT D/S OF MADHUBAN, DAMAN  DAMAN & DIU   \n1      1399.0  ZUARI AT D/S OF PT. WHERE KUMBARJRIA CANAL JOI...          GOA   \n2      1475.0                                ZUARI AT PANCHAWADI          GOA   \n3      3181.0                        RIVER ZUARI AT BORIM BRIDGE          GOA   \n4      3182.0                       RIVER ZUARI AT MARCAIM JETTY          GOA   \n...       ...                                                ...          ...   \n1986   1330.0            TAMBIRAPARANI AT ARUMUGANERI, TAMILNADU          NAN   \n1987   1450.0  PALAR AT VANIYAMBADI WATER SUPPLY HEAD WORK, T...          NAN   \n1988   1403.0                 GUMTI AT U/S SOUTH TRIPURA,TRIPURA          NAN   \n1989   1404.0                GUMTI AT D/S SOUTH TRIPURA, TRIPURA          NAN   \n1990   1726.0   CHANDRAPUR, AGARTALA D/S OF HAORA RIVER, TRIPURA          NAN   \n\n      Temp   do     ph  conductivity  BOD     nn  fecal_coliform  \\\n0     30.6  6.7    7.5         203.0  NaN  0.100          11.000   \n1     29.8  5.7    7.2         189.0  2.0  0.200        4953.000   \n2     29.5  6.3    6.9         179.0  1.7  0.100        3243.000   \n3     29.7  5.8    6.9          64.0  3.8  0.500        5382.000   \n4     29.5  5.8    7.3          83.0  1.9  0.400        3428.000   \n...    ...  ...    ...           ...  ...    ...             ...   \n1986   NaN  7.9  738.0           7.2  2.7  0.518           0.518   \n1987  29.0  7.5  585.0           6.3  2.6  0.155           0.155   \n1988  28.0  7.6   98.0           6.2  1.2    NaN             NaN   \n1989  28.0  7.7   91.0           6.5  1.3    NaN             NaN   \n1990  29.0  7.6  110.0           5.7  1.1    NaN             NaN   \n\n      total_coliform_mean  year           wqi  \n0                    27.0  2014           NaN  \n1                  8391.0  2014    175.363506  \n2                  5330.0  2014    126.135831  \n3                  8443.0  2014    195.105659  \n4                  5500.0  2014    141.393246  \n...                   ...   ...           ...  \n1986                202.0  2003  12746.407333  \n1987                315.0  2003  10091.343432  \n1988                570.0  2003           NaN  \n1989                562.0  2003           NaN  \n1990                546.0  2003           NaN  \n\n[1991 rows x 13 columns]",
      "text/html": "<div>\n<style scoped>\n    .dataframe tbody tr th:only-of-type {\n        vertical-align: middle;\n    }\n\n    .dataframe tbody tr th {\n        vertical-align: top;\n    }\n\n    .dataframe thead th {\n        text-align: right;\n    }\n</style>\n<table border=\"1\" class=\"dataframe\">\n  <thead>\n    <tr style=\"text-align: right;\">\n      <th></th>\n      <th>station</th>\n      <th>location</th>\n      <th>state</th>\n      <th>Temp</th>\n      <th>do</th>\n      <th>ph</th>\n      <th>conductivity</th>\n      <th>BOD</th>\n      <th>nn</th>\n      <th>fecal_coliform</th>\n      <th>total_coliform_mean</th>\n      <th>year</th>\n      <th>wqi</th>\n    </tr>\n  </thead>\n  <tbody>\n    <tr>\n      <th>0</th>\n      <td>1393.0</td>\n      <td>DAMANGANGA AT D/S OF MADHUBAN, DAMAN</td>\n      <td>DAMAN &amp; DIU</td>\n      <td>30.6</td>\n      <td>6.7</td>\n      <td>7.5</td>\n      <td>203.0</td>\n      <td>NaN</td>\n      <td>0.100</td>\n      <td>11.000</td>\n      <td>27.0</td>\n      <td>2014</td>\n      <td>NaN</td>\n    </tr>\n    <tr>\n      <th>1</th>\n      <td>1399.0</td>\n      <td>ZUARI AT D/S OF PT. WHERE KUMBARJRIA CANAL JOI...</td>\n      <td>GOA</td>\n      <td>29.8</td>\n      <td>5.7</td>\n      <td>7.2</td>\n      <td>189.0</td>\n      <td>2.0</td>\n      <td>0.200</td>\n      <td>4953.000</td>\n      <td>8391.0</td>\n      <td>2014</td>\n      <td>175.363506</td>\n    </tr>\n    <tr>\n      <th>2</th>\n      <td>1475.0</td>\n      <td>ZUARI AT PANCHAWADI</td>\n      <td>GOA</td>\n      <td>29.5</td>\n      <td>6.3</td>\n      <td>6.9</td>\n      <td>179.0</td>\n      <td>1.7</td>\n      <td>0.100</td>\n      <td>3243.000</td>\n      <td>5330.0</td>\n      <td>2014</td>\n      <td>126.135831</td>\n    </tr>\n    <tr>\n      <th>3</th>\n      <td>3181.0</td>\n      <td>RIVER ZUARI AT BORIM BRIDGE</td>\n      <td>GOA</td>\n      <td>29.7</td>\n      <td>5.8</td>\n      <td>6.9</td>\n      <td>64.0</td>\n      <td>3.8</td>\n      <td>0.500</td>\n      <td>5382.000</td>\n      <td>8443.0</td>\n      <td>2014</td>\n      <td>195.105659</td>\n    </tr>\n    <tr>\n      <th>4</th>\n      <td>3182.0</td>\n      <td>RIVER ZUARI AT MARCAIM JETTY</td>\n      <td>GOA</td>\n      <td>29.5</td>\n      <td>5.8</td>\n      <td>7.3</td>\n      <td>83.0</td>\n      <td>1.9</td>\n      <td>0.400</td>\n      <td>3428.000</td>\n      <td>5500.0</td>\n      <td>2014</td>\n      <td>141.393246</td>\n    </tr>\n    <tr>\n      <th>...</th>\n      <td>...</td>\n      <td>...</td>\n      <td>...</td>\n      <td>...</td>\n      <td>...</td>\n      <td>...</td>\n      <td>...</td>\n      <td>...</td>\n      <td>...</td>\n      <td>...</td>\n      <td>...</td>\n      <td>...</td>\n      <td>...</td>\n    </tr>\n    <tr>\n      <th>1986</th>\n      <td>1330.0</td>\n      <td>TAMBIRAPARANI AT ARUMUGANERI, TAMILNADU</td>\n      <td>NAN</td>\n      <td>NaN</td>\n      <td>7.9</td>\n      <td>738.0</td>\n      <td>7.2</td>\n      <td>2.7</td>\n      <td>0.518</td>\n      <td>0.518</td>\n      <td>202.0</td>\n      <td>2003</td>\n      <td>12746.407333</td>\n    </tr>\n    <tr>\n      <th>1987</th>\n      <td>1450.0</td>\n      <td>PALAR AT VANIYAMBADI WATER SUPPLY HEAD WORK, T...</td>\n      <td>NAN</td>\n      <td>29.0</td>\n      <td>7.5</td>\n      <td>585.0</td>\n      <td>6.3</td>\n      <td>2.6</td>\n      <td>0.155</td>\n      <td>0.155</td>\n      <td>315.0</td>\n      <td>2003</td>\n      <td>10091.343432</td>\n    </tr>\n    <tr>\n      <th>1988</th>\n      <td>1403.0</td>\n      <td>GUMTI AT U/S SOUTH TRIPURA,TRIPURA</td>\n      <td>NAN</td>\n      <td>28.0</td>\n      <td>7.6</td>\n      <td>98.0</td>\n      <td>6.2</td>\n      <td>1.2</td>\n      <td>NaN</td>\n      <td>NaN</td>\n      <td>570.0</td>\n      <td>2003</td>\n      <td>NaN</td>\n    </tr>\n    <tr>\n      <th>1989</th>\n      <td>1404.0</td>\n      <td>GUMTI AT D/S SOUTH TRIPURA, TRIPURA</td>\n      <td>NAN</td>\n      <td>28.0</td>\n      <td>7.7</td>\n      <td>91.0</td>\n      <td>6.5</td>\n      <td>1.3</td>\n      <td>NaN</td>\n      <td>NaN</td>\n      <td>562.0</td>\n      <td>2003</td>\n      <td>NaN</td>\n    </tr>\n    <tr>\n      <th>1990</th>\n      <td>1726.0</td>\n      <td>CHANDRAPUR, AGARTALA D/S OF HAORA RIVER, TRIPURA</td>\n      <td>NAN</td>\n      <td>29.0</td>\n      <td>7.6</td>\n      <td>110.0</td>\n      <td>5.7</td>\n      <td>1.1</td>\n      <td>NaN</td>\n      <td>NaN</td>\n      <td>546.0</td>\n      <td>2003</td>\n      <td>NaN</td>\n    </tr>\n  </tbody>\n</table>\n<p>1991 rows × 13 columns</p>\n</div>"
     },
     "execution_count": 167,
     "metadata": {},
     "output_type": "execute_result"
    }
   ],
   "source": [
    "df3"
   ],
   "metadata": {
    "collapsed": false,
    "pycharm": {
     "name": "#%%\n"
    }
   }
  },
  {
   "cell_type": "markdown",
   "source": [
    "# Handling missing values"
   ],
   "metadata": {
    "collapsed": false,
    "pycharm": {
     "name": "#%% md\n"
    }
   }
  },
  {
   "cell_type": "markdown",
   "source": [
    "We'll just remove them"
   ],
   "metadata": {
    "collapsed": false,
    "pycharm": {
     "name": "#%% md\n"
    }
   }
  },
  {
   "cell_type": "code",
   "execution_count": 184,
   "outputs": [
    {
     "data": {
      "text/plain": "<AxesSubplot:>"
     },
     "execution_count": 184,
     "metadata": {},
     "output_type": "execute_result"
    },
    {
     "data": {
      "text/plain": "<Figure size 1800x720 with 2 Axes>",
      "image/png": "[encoded data removed]"
     },
     "metadata": {
      "needs_background": "light"
     },
     "output_type": "display_data"
    }
   ],
   "source": [
    "msno.matrix(df3)"
   ],
   "metadata": {
    "collapsed": false,
    "pycharm": {
     "name": "#%%\n"
    }
   }
  },
  {
   "cell_type": "code",
   "execution_count": null,
   "outputs": [],
   "source": [],
   "metadata": {
    "collapsed": false,
    "pycharm": {
     "name": "#%%\n"
    }
   }
  },
  {
   "cell_type": "markdown",
   "source": [
    "# Feature selection"
   ],
   "metadata": {
    "collapsed": false,
    "pycharm": {
     "name": "#%% md\n"
    }
   }
  },
  {
   "cell_type": "code",
   "execution_count": 168,
   "outputs": [],
   "source": [
    "x = df3[['Temp','do','ph','conductivity','BOD','nn','fecal_coliform','total_coliform_mean']]"
   ],
   "metadata": {
    "collapsed": false,
    "pycharm": {
     "name": "#%%\n"
    }
   }
  },
  {
   "cell_type": "code",
   "execution_count": 169,
   "outputs": [],
   "source": [
    "y = df3.wqi"
   ],
   "metadata": {
    "collapsed": false,
    "pycharm": {
     "name": "#%%\n"
    }
   }
  },
  {
   "cell_type": "code",
   "execution_count": 176,
   "outputs": [
    {
     "data": {
      "text/plain": "0                NaN\n1         175.363506\n2         126.135831\n3         195.105659\n4         141.393246\n            ...     \n1986    12746.407333\n1987    10091.343432\n1988             NaN\n1989             NaN\n1990             NaN\nName: wqi, Length: 1991, dtype: float64"
     },
     "execution_count": 176,
     "metadata": {},
     "output_type": "execute_result"
    }
   ],
   "source": [
    "y"
   ],
   "metadata": {
    "collapsed": false,
    "pycharm": {
     "name": "#%%\n"
    }
   }
  },
  {
   "cell_type": "markdown",
   "source": [
    "# Splitting into training and testing data"
   ],
   "metadata": {
    "collapsed": false,
    "pycharm": {
     "name": "#%% md\n"
    }
   }
  },
  {
   "cell_type": "code",
   "execution_count": 172,
   "outputs": [],
   "source": [
    "from sklearn.model_selection import train_test_split"
   ],
   "metadata": {
    "collapsed": false,
    "pycharm": {
     "name": "#%%\n"
    }
   }
  },
  {
   "cell_type": "code",
   "execution_count": 173,
   "outputs": [],
   "source": [
    "x_train, x_test, y_train, y_test =train_test_split(x,y,test_size=0.3)"
   ],
   "metadata": {
    "collapsed": false,
    "pycharm": {
     "name": "#%%\n"
    }
   }
  },
  {
   "cell_type": "code",
   "execution_count": 174,
   "outputs": [
    {
     "data": {
      "text/plain": "      Temp    do     ph  conductivity   BOD      nn  fecal_coliform  \\\n1166  26.8  7.00  6.900          73.0   1.7   0.400            87.0   \n790   20.0  7.70  7.100          49.0   1.9   3.890            11.0   \n3     29.7  5.80  6.900          64.0   3.8   0.500          5382.0   \n27    30.1  6.50  7.500         415.0   2.0   0.100           864.0   \n391   30.8  6.30  7.000       18931.0   1.4   1.000            34.0   \n...    ...   ...    ...           ...   ...     ...             ...   \n912   27.3  7.60  7.200          59.0   0.6   0.650           463.0   \n100   25.8  7.20  7.200          41.0   0.7   0.200           441.0   \n1764  19.0  4.05  7.850         773.5  16.0  19.350             NaN   \n1681  25.5  7.05  7.995         535.0   4.7   1.195         13400.0   \n1259  26.0  6.90  7.300         229.0   3.8   0.680           108.0   \n\n      total_coliform_mean  \n1166                144.0  \n790                  26.0  \n3                  8443.0  \n27                 1538.0  \n391                 201.0  \n...                   ...  \n912                1163.0  \n100                 658.0  \n1764                  NaN  \n1681              33500.0  \n1259                257.0  \n\n[1393 rows x 8 columns]",
      "text/html": "<div>\n<style scoped>\n    .dataframe tbody tr th:only-of-type {\n        vertical-align: middle;\n    }\n\n    .dataframe tbody tr th {\n        vertical-align: top;\n    }\n\n    .dataframe thead th {\n        text-align: right;\n    }\n</style>\n<table border=\"1\" class=\"dataframe\">\n  <thead>\n    <tr style=\"text-align: right;\">\n      <th></th>\n      <th>Temp</th>\n      <th>do</th>\n      <th>ph</th>\n      <th>conductivity</th>\n      <th>BOD</th>\n      <th>nn</th>\n      <th>fecal_coliform</th>\n      <th>total_coliform_mean</th>\n    </tr>\n  </thead>\n  <tbody>\n    <tr>\n      <th>1166</th>\n      <td>26.8</td>\n      <td>7.00</td>\n      <td>6.900</td>\n      <td>73.0</td>\n      <td>1.7</td>\n      <td>0.400</td>\n      <td>87.0</td>\n      <td>144.0</td>\n    </tr>\n    <tr>\n      <th>790</th>\n      <td>20.0</td>\n      <td>7.70</td>\n      <td>7.100</td>\n      <td>49.0</td>\n      <td>1.9</td>\n      <td>3.890</td>\n      <td>11.0</td>\n      <td>26.0</td>\n    </tr>\n    <tr>\n      <th>3</th>\n      <td>29.7</td>\n      <td>5.80</td>\n      <td>6.900</td>\n      <td>64.0</td>\n      <td>3.8</td>\n      <td>0.500</td>\n      <td>5382.0</td>\n      <td>8443.0</td>\n    </tr>\n    <tr>\n      <th>27</th>\n      <td>30.1</td>\n      <td>6.50</td>\n      <td>7.500</td>\n      <td>415.0</td>\n      <td>2.0</td>\n      <td>0.100</td>\n      <td>864.0</td>\n      <td>1538.0</td>\n    </tr>\n    <tr>\n      <th>391</th>\n      <td>30.8</td>\n      <td>6.30</td>\n      <td>7.000</td>\n      <td>18931.0</td>\n      <td>1.4</td>\n      <td>1.000</td>\n      <td>34.0</td>\n      <td>201.0</td>\n    </tr>\n    <tr>\n      <th>...</th>\n      <td>...</td>\n      <td>...</td>\n      <td>...</td>\n      <td>...</td>\n      <td>...</td>\n      <td>...</td>\n      <td>...</td>\n      <td>...</td>\n    </tr>\n    <tr>\n      <th>912</th>\n      <td>27.3</td>\n      <td>7.60</td>\n      <td>7.200</td>\n      <td>59.0</td>\n      <td>0.6</td>\n      <td>0.650</td>\n      <td>463.0</td>\n      <td>1163.0</td>\n    </tr>\n    <tr>\n      <th>100</th>\n      <td>25.8</td>\n      <td>7.20</td>\n      <td>7.200</td>\n      <td>41.0</td>\n      <td>0.7</td>\n      <td>0.200</td>\n      <td>441.0</td>\n      <td>658.0</td>\n    </tr>\n    <tr>\n      <th>1764</th>\n      <td>19.0</td>\n      <td>4.05</td>\n      <td>7.850</td>\n      <td>773.5</td>\n      <td>16.0</td>\n      <td>19.350</td>\n      <td>NaN</td>\n      <td>NaN</td>\n    </tr>\n    <tr>\n      <th>1681</th>\n      <td>25.5</td>\n      <td>7.05</td>\n      <td>7.995</td>\n      <td>535.0</td>\n      <td>4.7</td>\n      <td>1.195</td>\n      <td>13400.0</td>\n      <td>33500.0</td>\n    </tr>\n    <tr>\n      <th>1259</th>\n      <td>26.0</td>\n      <td>6.90</td>\n      <td>7.300</td>\n      <td>229.0</td>\n      <td>3.8</td>\n      <td>0.680</td>\n      <td>108.0</td>\n      <td>257.0</td>\n    </tr>\n  </tbody>\n</table>\n<p>1393 rows × 8 columns</p>\n</div>"
     },
     "execution_count": 174,
     "metadata": {},
     "output_type": "execute_result"
    }
   ],
   "source": [
    "x_train"
   ],
   "metadata": {
    "collapsed": false,
    "pycharm": {
     "name": "#%%\n"
    }
   }
  },
  {
   "cell_type": "code",
   "execution_count": 177,
   "outputs": [
    {
     "data": {
      "text/plain": "1166     51.889182\n790      52.434707\n3       195.105659\n27       84.887037\n391      57.392791\n           ...    \n912      53.031494\n100      55.190581\n1764           NaN\n1681    398.958019\n1259     78.457362\nName: wqi, Length: 1393, dtype: float64"
     },
     "execution_count": 177,
     "metadata": {},
     "output_type": "execute_result"
    }
   ],
   "source": [
    "y_train"
   ],
   "metadata": {
    "collapsed": false,
    "pycharm": {
     "name": "#%%\n"
    }
   }
  },
  {
   "cell_type": "markdown",
   "source": [
    "# Scaling the data"
   ],
   "metadata": {
    "collapsed": false,
    "pycharm": {
     "name": "#%% md\n"
    }
   }
  },
  {
   "cell_type": "code",
   "execution_count": 160,
   "outputs": [],
   "source": [
    "from sklearn import preprocessing"
   ],
   "metadata": {
    "collapsed": false,
    "pycharm": {
     "name": "#%%\n"
    }
   }
  },
  {
   "cell_type": "code",
   "execution_count": 180,
   "outputs": [],
   "source": [
    "scaler = preprocessing.StandardScaler().fit(x_train)"
   ],
   "metadata": {
    "collapsed": false,
    "pycharm": {
     "name": "#%%\n"
    }
   }
  },
  {
   "cell_type": "code",
   "execution_count": 181,
   "outputs": [],
   "source": [
    "x_scaled = scaler.transform(x_train)"
   ],
   "metadata": {
    "collapsed": false,
    "pycharm": {
     "name": "#%%\n"
    }
   }
  },
  {
   "cell_type": "code",
   "execution_count": 182,
   "outputs": [
    {
     "data": {
      "text/plain": "array([[ 0.1853428 ,  0.43997849, -0.05977281, ..., -0.3516505 ,\n        -0.04015283, -0.03547399],\n       [-1.85023089,  0.96369869, -0.05968064, ...,  0.69933879,\n        -0.04016119, -0.03548195],\n       [ 1.05345511, -0.45782757, -0.05977281, ..., -0.32153619,\n        -0.03956982, -0.03491422],\n       ...,\n       [-2.14957996, -1.76712807, -0.05933502, ...,  5.35501052,\n                nan,         nan],\n       [-0.20381099,  0.47738707, -0.0592682 , ..., -0.11224177,\n        -0.03868701, -0.03322413],\n       [-0.05413646,  0.36516132, -0.05958848, ..., -0.26733044,\n        -0.04015051, -0.03546637]])"
     },
     "execution_count": 182,
     "metadata": {},
     "output_type": "execute_result"
    }
   ],
   "source": [
    "x_scaled"
   ],
   "metadata": {
    "collapsed": false,
    "pycharm": {
     "name": "#%%\n"
    }
   }
  },
  {
   "cell_type": "code",
   "execution_count": 183,
   "outputs": [
    {
     "data": {
      "text/plain": "array([nan, nan, nan, nan, nan, nan, nan, nan])"
     },
     "execution_count": 183,
     "metadata": {},
     "output_type": "execute_result"
    }
   ],
   "source": [
    "x_scaled.mean(axis=0)"
   ],
   "metadata": {
    "collapsed": false,
    "pycharm": {
     "name": "#%%\n"
    }
   }
  },
  {
   "cell_type": "markdown",
   "source": [
    "# WQC determination"
   ],
   "metadata": {
    "collapsed": false,
    "pycharm": {
     "name": "#%% md\n"
    }
   }
  },
  {
   "cell_type": "markdown",
   "source": [
    "Excellent = 5\n",
    "Good = 4\n",
    "Poor = 3\n",
    "Very Poor = 2\n",
    "Unsuitable for drinking = 1"
   ],
   "metadata": {
    "collapsed": false,
    "pycharm": {
     "name": "#%% md\n"
    }
   }
  },
  {
   "cell_type": "code",
   "execution_count": 149,
   "outputs": [],
   "source": [
    "def wqc(df):\n",
    "    WQI = df.wqi\n",
    "    if WQI<=25:\n",
    "        WQC=5\n",
    "    elif WQI>25 and WQI<=50:\n",
    "        WQC=4\n",
    "    elif WQI>50 and WQI<=75:\n",
    "        WQC=3\n",
    "    elif WQI>75 and WQI<=100:\n",
    "        WQC=2\n",
    "    elif WQI>100:\n",
    "        WQC=1\n",
    "    return WQC"
   ],
   "metadata": {
    "collapsed": false,
    "pycharm": {
     "name": "#%%\n"
    }
   }
  },
  {
   "cell_type": "code",
   "execution_count": null,
   "outputs": [],
   "source": [],
   "metadata": {
    "collapsed": false,
    "pycharm": {
     "name": "#%%\n"
    }
   }
  }
 ],
 "metadata": {
  "kernelspec": {
   "name": "base",
   "language": "python",
   "display_name": "Python (base)"
  },
  "language_info": {
   "codemirror_mode": {
    "name": "ipython",
    "version": 2
   },
   "file_extension": ".py",
   "mimetype": "text/x-python",
   "name": "python",
   "nbconvert_exporter": "python",
   "pygments_lexer": "ipython2",
   "version": "2.7.6"
  }
 },
 "nbformat": 4,
 "nbformat_minor": 0
}