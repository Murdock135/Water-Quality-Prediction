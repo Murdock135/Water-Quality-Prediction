{
 "cells": [
  {
   "cell_type": "code",
   "execution_count": 25,
   "metadata": {
    "collapsed": true,
    "pycharm": {
     "name": "#%%\n"
    }
   },
   "outputs": [],
   "source": [
    "import joblib\n",
    "from sklearn.model_selection import train_test_split\n",
    "from sklearn import metrics\n",
    "from sklearn.metrics import confusion_matrix\n",
    "import pandas as pd"
   ]
  },
  {
   "cell_type": "code",
   "execution_count": 26,
   "outputs": [],
   "source": [
    "knn = joblib.load('optimized_kneighbors.sav')\n",
    "tree = joblib.load('optimized_tree.sav')\n",
    "nn = joblib.load('unoptimized_nn.sav')"
   ],
   "metadata": {
    "collapsed": false,
    "pycharm": {
     "name": "#%%\n"
    }
   }
  },
  {
   "cell_type": "code",
   "execution_count": 27,
   "outputs": [
    {
     "data": {
      "text/plain": "      year  wqc  ACHENKOIL AT CHENNITHULA, KERALA  \\\n0     2010    3                                 0   \n1     2011    5                                 0   \n2     2012    3                                 0   \n3     2003    0                                 1   \n4     2006    1                                 1   \n...    ...  ...                               ...   \n1363  2010    5                                 0   \n1364  2011    5                                 0   \n1365  2012    1                                 0   \n1366  2013    1                                 0   \n1367  2014    0                                 0   \n\n      ACHENKOIL AT KALLARAKADAVU, PATHANAMTHITTA  \\\n0                                              0   \n1                                              0   \n2                                              0   \n3                                              0   \n4                                              0   \n...                                          ...   \n1363                                           0   \n1364                                           0   \n1365                                           0   \n1366                                           0   \n1367                                           0   \n\n      ACHENKOIL AT PANDALAM (NEAR AYYAPPA TEMPLE), PATHANAMTHITTA  \\\n0                                                     0             \n1                                                     0             \n2                                                     0             \n3                                                     0             \n4                                                     0             \n...                                                 ...             \n1363                                                  0             \n1364                                                  0             \n1365                                                  0             \n1366                                                  0             \n1367                                                  0             \n\n      ACHENKOIL AT PANDALAM (NEAR AYYAPPA TEMPLE),PATHANAMTHITTA  \\\n0                                                     0            \n1                                                     0            \n2                                                     0            \n3                                                     0            \n4                                                     0            \n...                                                 ...            \n1363                                                  0            \n1364                                                  0            \n1365                                                  0            \n1366                                                  0            \n1367                                                  0            \n\n      ACHENKOIL AT THUMPAMON  ACHENKOIL AT THUMPAMON, KERALA  AMARAVILA  \\\n0                          0                               0          0   \n1                          0                               0          0   \n2                          0                               0          0   \n3                          0                               0          0   \n4                          0                               0          0   \n...                      ...                             ...        ...   \n1363                       0                               0          0   \n1364                       0                               0          0   \n1365                       0                               0          0   \n1366                       0                               0          0   \n1367                       0                               0          0   \n\n      AMARAVILA, KERALA  ...  \\\n0                     0  ...   \n1                     0  ...   \n2                     0  ...   \n3                     0  ...   \n4                     0  ...   \n...                 ...  ...   \n1363                  0  ...   \n1364                  0  ...   \n1365                  0  ...   \n1366                  0  ...   \n1367                  0  ...   \n\n      VASHISTI AT U/S OF THREE M PAPER MILLS NEAR M/S MULTIFILMS PLASTIC PVT. LTD. AT KHERDI.  \\\n0                                                     0                                         \n1                                                     0                                         \n2                                                     0                                         \n3                                                     0                                         \n4                                                     0                                         \n...                                                 ...                                         \n1363                                                  0                                         \n1364                                                  0                                         \n1365                                                  0                                         \n1366                                                  0                                         \n1367                                                  0                                         \n\n      VASHISTI RIVER AT U/S OF THREE M PAPER MILLS NEAR M/S MULTIFILMS PLASTIC PVT. LTD. AT KHERDI.  \\\n0                                                     0                                               \n1                                                     0                                               \n2                                                     0                                               \n3                                                     0                                               \n4                                                     0                                               \n...                                                 ...                                               \n1363                                                  0                                               \n1364                                                  0                                               \n1365                                                  0                                               \n1366                                                  0                                               \n1367                                                  0                                               \n\n      VASISTA AT SALEM, D/S OF SAGO INDUSRIES EFFLUENT  \\\n0                                                    0   \n1                                                    0   \n2                                                    0   \n3                                                    0   \n4                                                    0   \n...                                                ...   \n1363                                                 0   \n1364                                                 0   \n1365                                                 0   \n1366                                                 0   \n1367                                                 0   \n\n      VASISTA AT SALEM, D/S OF SAGO INDUSRIES EFFLUENT, TAMILNADU  WAH BLEI  \\\n0                                                     0                   0   \n1                                                     0                   0   \n2                                                     0                   0   \n3                                                     0                   0   \n4                                                     0                   0   \n...                                                 ...                 ...   \n1363                                                  0                   0   \n1364                                                  0                   0   \n1365                                                  0                   0   \n1366                                                  0                   0   \n1367                                                  0                   0   \n\n      WAH BLEI AT RIANGDO, WEST KHASI HILLS  \\\n0                                         0   \n1                                         0   \n2                                         0   \n3                                         0   \n4                                         0   \n...                                     ...   \n1363                                      0   \n1364                                      0   \n1365                                      0   \n1366                                      0   \n1367                                      0   \n\n      WAH BLEI AT SHDADDKHAR, WEST KHASI HILLS  \\\n0                                            0   \n1                                            0   \n2                                            0   \n3                                            0   \n4                                            0   \n...                                        ...   \n1363                                         0   \n1364                                         0   \n1365                                         0   \n1366                                         0   \n1367                                         0   \n\n      ZUARI AT D/S OF PT. WHERE KUMBARJRIA CANAL JOINS  \\\n0                                                    0   \n1                                                    0   \n2                                                    0   \n3                                                    0   \n4                                                    0   \n...                                                ...   \n1363                                                 0   \n1364                                                 0   \n1365                                                 0   \n1366                                                 0   \n1367                                                 0   \n\n      ZUARI AT D/S OF PT. WHERE KUMBARJRIA CANAL JOINS, GOA  \\\n0                                                     0       \n1                                                     0       \n2                                                     0       \n3                                                     0       \n4                                                     0       \n...                                                 ...       \n1363                                                  0       \n1364                                                  0       \n1365                                                  0       \n1366                                                  0       \n1367                                                  0       \n\n      ZUARI AT PANCHAWADI  \n0                       0  \n1                       0  \n2                       0  \n3                       0  \n4                       0  \n...                   ...  \n1363                    1  \n1364                    1  \n1365                    1  \n1366                    1  \n1367                    1  \n\n[1368 rows x 533 columns]",
      "text/html": "<div>\n<style scoped>\n    .dataframe tbody tr th:only-of-type {\n        vertical-align: middle;\n    }\n\n    .dataframe tbody tr th {\n        vertical-align: top;\n    }\n\n    .dataframe thead th {\n        text-align: right;\n    }\n</style>\n<table border=\"1\" class=\"dataframe\">\n  <thead>\n    <tr style=\"text-align: right;\">\n      <th></th>\n      <th>year</th>\n      <th>wqc</th>\n      <th>ACHENKOIL AT CHENNITHULA, KERALA</th>\n      <th>ACHENKOIL AT KALLARAKADAVU, PATHANAMTHITTA</th>\n      <th>ACHENKOIL AT PANDALAM (NEAR AYYAPPA TEMPLE), PATHANAMTHITTA</th>\n      <th>ACHENKOIL AT PANDALAM (NEAR AYYAPPA TEMPLE),PATHANAMTHITTA</th>\n      <th>ACHENKOIL AT THUMPAMON</th>\n      <th>ACHENKOIL AT THUMPAMON, KERALA</th>\n      <th>AMARAVILA</th>\n      <th>AMARAVILA, KERALA</th>\n      <th>...</th>\n      <th>VASHISTI AT U/S OF THREE M PAPER MILLS NEAR M/S MULTIFILMS PLASTIC PVT. LTD. AT KHERDI.</th>\n      <th>VASHISTI RIVER AT U/S OF THREE M PAPER MILLS NEAR M/S MULTIFILMS PLASTIC PVT. LTD. AT KHERDI.</th>\n      <th>VASISTA AT SALEM, D/S OF SAGO INDUSRIES EFFLUENT</th>\n      <th>VASISTA AT SALEM, D/S OF SAGO INDUSRIES EFFLUENT, TAMILNADU</th>\n      <th>WAH BLEI</th>\n      <th>WAH BLEI AT RIANGDO, WEST KHASI HILLS</th>\n      <th>WAH BLEI AT SHDADDKHAR, WEST KHASI HILLS</th>\n      <th>ZUARI AT D/S OF PT. WHERE KUMBARJRIA CANAL JOINS</th>\n      <th>ZUARI AT D/S OF PT. WHERE KUMBARJRIA CANAL JOINS, GOA</th>\n      <th>ZUARI AT PANCHAWADI</th>\n    </tr>\n  </thead>\n  <tbody>\n    <tr>\n      <th>0</th>\n      <td>2010</td>\n      <td>3</td>\n      <td>0</td>\n      <td>0</td>\n      <td>0</td>\n      <td>0</td>\n      <td>0</td>\n      <td>0</td>\n      <td>0</td>\n      <td>0</td>\n      <td>...</td>\n      <td>0</td>\n      <td>0</td>\n      <td>0</td>\n      <td>0</td>\n      <td>0</td>\n      <td>0</td>\n      <td>0</td>\n      <td>0</td>\n      <td>0</td>\n      <td>0</td>\n    </tr>\n    <tr>\n      <th>1</th>\n      <td>2011</td>\n      <td>5</td>\n      <td>0</td>\n      <td>0</td>\n      <td>0</td>\n      <td>0</td>\n      <td>0</td>\n      <td>0</td>\n      <td>0</td>\n      <td>0</td>\n      <td>...</td>\n      <td>0</td>\n      <td>0</td>\n      <td>0</td>\n      <td>0</td>\n      <td>0</td>\n      <td>0</td>\n      <td>0</td>\n      <td>0</td>\n      <td>0</td>\n      <td>0</td>\n    </tr>\n    <tr>\n      <th>2</th>\n      <td>2012</td>\n      <td>3</td>\n      <td>0</td>\n      <td>0</td>\n      <td>0</td>\n      <td>0</td>\n      <td>0</td>\n      <td>0</td>\n      <td>0</td>\n      <td>0</td>\n      <td>...</td>\n      <td>0</td>\n      <td>0</td>\n      <td>0</td>\n      <td>0</td>\n      <td>0</td>\n      <td>0</td>\n      <td>0</td>\n      <td>0</td>\n      <td>0</td>\n      <td>0</td>\n    </tr>\n    <tr>\n      <th>3</th>\n      <td>2003</td>\n      <td>0</td>\n      <td>1</td>\n      <td>0</td>\n      <td>0</td>\n      <td>0</td>\n      <td>0</td>\n      <td>0</td>\n      <td>0</td>\n      <td>0</td>\n      <td>...</td>\n      <td>0</td>\n      <td>0</td>\n      <td>0</td>\n      <td>0</td>\n      <td>0</td>\n      <td>0</td>\n      <td>0</td>\n      <td>0</td>\n      <td>0</td>\n      <td>0</td>\n    </tr>\n    <tr>\n      <th>4</th>\n      <td>2006</td>\n      <td>1</td>\n      <td>1</td>\n      <td>0</td>\n      <td>0</td>\n      <td>0</td>\n      <td>0</td>\n      <td>0</td>\n      <td>0</td>\n      <td>0</td>\n      <td>...</td>\n      <td>0</td>\n      <td>0</td>\n      <td>0</td>\n      <td>0</td>\n      <td>0</td>\n      <td>0</td>\n      <td>0</td>\n      <td>0</td>\n      <td>0</td>\n      <td>0</td>\n    </tr>\n    <tr>\n      <th>...</th>\n      <td>...</td>\n      <td>...</td>\n      <td>...</td>\n      <td>...</td>\n      <td>...</td>\n      <td>...</td>\n      <td>...</td>\n      <td>...</td>\n      <td>...</td>\n      <td>...</td>\n      <td>...</td>\n      <td>...</td>\n      <td>...</td>\n      <td>...</td>\n      <td>...</td>\n      <td>...</td>\n      <td>...</td>\n      <td>...</td>\n      <td>...</td>\n      <td>...</td>\n      <td>...</td>\n    </tr>\n    <tr>\n      <th>1363</th>\n      <td>2010</td>\n      <td>5</td>\n      <td>0</td>\n      <td>0</td>\n      <td>0</td>\n      <td>0</td>\n      <td>0</td>\n      <td>0</td>\n      <td>0</td>\n      <td>0</td>\n      <td>...</td>\n      <td>0</td>\n      <td>0</td>\n      <td>0</td>\n      <td>0</td>\n      <td>0</td>\n      <td>0</td>\n      <td>0</td>\n      <td>0</td>\n      <td>0</td>\n      <td>1</td>\n    </tr>\n    <tr>\n      <th>1364</th>\n      <td>2011</td>\n      <td>5</td>\n      <td>0</td>\n      <td>0</td>\n      <td>0</td>\n      <td>0</td>\n      <td>0</td>\n      <td>0</td>\n      <td>0</td>\n      <td>0</td>\n      <td>...</td>\n      <td>0</td>\n      <td>0</td>\n      <td>0</td>\n      <td>0</td>\n      <td>0</td>\n      <td>0</td>\n      <td>0</td>\n      <td>0</td>\n      <td>0</td>\n      <td>1</td>\n    </tr>\n    <tr>\n      <th>1365</th>\n      <td>2012</td>\n      <td>1</td>\n      <td>0</td>\n      <td>0</td>\n      <td>0</td>\n      <td>0</td>\n      <td>0</td>\n      <td>0</td>\n      <td>0</td>\n      <td>0</td>\n      <td>...</td>\n      <td>0</td>\n      <td>0</td>\n      <td>0</td>\n      <td>0</td>\n      <td>0</td>\n      <td>0</td>\n      <td>0</td>\n      <td>0</td>\n      <td>0</td>\n      <td>1</td>\n    </tr>\n    <tr>\n      <th>1366</th>\n      <td>2013</td>\n      <td>1</td>\n      <td>0</td>\n      <td>0</td>\n      <td>0</td>\n      <td>0</td>\n      <td>0</td>\n      <td>0</td>\n      <td>0</td>\n      <td>0</td>\n      <td>...</td>\n      <td>0</td>\n      <td>0</td>\n      <td>0</td>\n      <td>0</td>\n      <td>0</td>\n      <td>0</td>\n      <td>0</td>\n      <td>0</td>\n      <td>0</td>\n      <td>1</td>\n    </tr>\n    <tr>\n      <th>1367</th>\n      <td>2014</td>\n      <td>0</td>\n      <td>0</td>\n      <td>0</td>\n      <td>0</td>\n      <td>0</td>\n      <td>0</td>\n      <td>0</td>\n      <td>0</td>\n      <td>0</td>\n      <td>...</td>\n      <td>0</td>\n      <td>0</td>\n      <td>0</td>\n      <td>0</td>\n      <td>0</td>\n      <td>0</td>\n      <td>0</td>\n      <td>0</td>\n      <td>0</td>\n      <td>1</td>\n    </tr>\n  </tbody>\n</table>\n<p>1368 rows × 533 columns</p>\n</div>"
     },
     "execution_count": 27,
     "metadata": {},
     "output_type": "execute_result"
    }
   ],
   "source": [
    "df = pd.read_csv('C:/Users/kople/Documents/Personal Git repos/Water-Quality-Prediction/data/processed/data_numerical.csv')\n",
    "df.drop(columns='Unnamed: 0',inplace=True)\n",
    "df"
   ],
   "metadata": {
    "collapsed": false,
    "pycharm": {
     "name": "#%%\n"
    }
   }
  },
  {
   "cell_type": "code",
   "execution_count": 38,
   "outputs": [
    {
     "name": "stdout",
     "output_type": "stream",
     "text": [
      "------------------------------\n",
      "precision\n",
      "          0         1         2         3    4\n",
      "0  0.833333  0.716216  0.748201  0.575758  0.0\n",
      "1  0.988235  0.964286  0.729412  1.000000  0.0\n",
      "2  0.930693  0.900000  0.828571  0.853659  0.0\n",
      "------------------------------\n",
      "recall\n",
      "          0         1         2         3    4\n",
      "0  0.784314  0.726027  0.838710  0.452381  0.0\n",
      "1  0.823529  0.739726  1.000000  0.738095  0.0\n",
      "2  0.921569  0.739726  0.935484  0.833333  0.0\n",
      "------------------------------\n",
      "accuracy\n",
      "          0\n",
      "0  0.748538\n",
      "1  0.856725\n",
      "2  0.874269\n"
     ]
    },
    {
     "name": "stderr",
     "output_type": "stream",
     "text": [
      "C:\\Users\\kople\\anaconda3\\lib\\site-packages\\sklearn\\metrics\\_classification.py:1318: UndefinedMetricWarning: Precision is ill-defined and being set to 0.0 in labels with no predicted samples. Use `zero_division` parameter to control this behavior.\n",
      "  _warn_prf(average, modifier, msg_start, len(result))\n",
      "C:\\Users\\kople\\anaconda3\\lib\\site-packages\\sklearn\\metrics\\_classification.py:1318: UndefinedMetricWarning: Precision is ill-defined and being set to 0.0 in labels with no predicted samples. Use `zero_division` parameter to control this behavior.\n",
      "  _warn_prf(average, modifier, msg_start, len(result))\n",
      "C:\\Users\\kople\\anaconda3\\lib\\site-packages\\sklearn\\metrics\\_classification.py:1318: UndefinedMetricWarning: Precision is ill-defined and being set to 0.0 in labels with no predicted samples. Use `zero_division` parameter to control this behavior.\n",
      "  _warn_prf(average, modifier, msg_start, len(result))\n"
     ]
    }
   ],
   "source": [
    "x = df.drop(columns='wqc')\n",
    "y = df.wqc\n",
    "x_train,x_test,y_train, y_test = train_test_split(x,y,test_size=0.25)\n",
    "\n",
    "# making predictions\n",
    "knn_predictions = knn.predict(x_test)\n",
    "tree_predictions = tree.predict(x_test)\n",
    "nn_predictions = nn.predict(x_test)\n",
    "\n",
    "# displaying performance\n",
    "precision = []\n",
    "recall = []\n",
    "accuracy = []\n",
    "\n",
    "print('-'*30)\n",
    "print('precision')\n",
    "precision.append(metrics.precision_score(y_test,knn_predictions,average=None))\n",
    "precision.append(metrics.precision_score(y_test,tree_predictions,average=None))\n",
    "precision.append(metrics.precision_score(y_test,nn_predictions,average=None))\n",
    "precision = pd.DataFrame(precision)\n",
    "print(precision)\n",
    "\n",
    "print('-'*30)\n",
    "print('recall')\n",
    "recall.append(metrics.recall_score(y_test,knn_predictions,average=None))\n",
    "recall.append(metrics.recall_score(y_test,tree_predictions,average=None))\n",
    "recall.append(metrics.recall_score(y_test,nn_predictions,average=None))\n",
    "recall = pd.DataFrame(recall)\n",
    "print(recall)\n",
    "\n",
    "print('-'*30)\n",
    "print('accuracy')\n",
    "accuracy.append(metrics.accuracy_score(y_test,knn_predictions))\n",
    "accuracy.append(metrics.accuracy_score(y_test,tree_predictions))\n",
    "accuracy.append(metrics.accuracy_score(y_test,nn_predictions))\n",
    "accuracy = pd.DataFrame(accuracy)\n",
    "print(accuracy)"
   ],
   "metadata": {
    "collapsed": false,
    "pycharm": {
     "name": "#%%\n"
    }
   }
  },
  {
   "cell_type": "code",
   "execution_count": 39,
   "outputs": [],
   "source": [
    "precision.to_csv('C:/Users/kople/Documents/Personal Git repos/Water-Quality-Prediction/data/performance/precision.csv')\n",
    "recall.to_csv('C:/Users/kople/Documents/Personal Git repos/Water-Quality-Prediction/data/performance/recall.csv')\n",
    "accuracy.to_csv('C:/Users/kople/Documents/Personal Git repos/Water-Quality-Prediction/data/performance/accuracy.csv')"
   ],
   "metadata": {
    "collapsed": false,
    "pycharm": {
     "name": "#%%\n"
    }
   }
  },
  {
   "cell_type": "code",
   "execution_count": null,
   "outputs": [],
   "source": [
    "knn_cm = confusion_matrix(y_test,knn_predictions)\n",
    "tree_cm = confusion_matrix(y_test,tree_predictions)\n",
    "nn_cm = confusion_matrix(y_test,nn_predictions)"
   ],
   "metadata": {
    "collapsed": false,
    "pycharm": {
     "name": "#%%\n"
    }
   }
  }
 ],
 "metadata": {
  "kernelspec": {
   "name": "base",
   "language": "python",
   "display_name": "Python (base)"
  },
  "language_info": {
   "codemirror_mode": {
    "name": "ipython",
    "version": 2
   },
   "file_extension": ".py",
   "mimetype": "text/x-python",
   "name": "python",
   "nbconvert_exporter": "python",
   "pygments_lexer": "ipython2",
   "version": "2.7.6"
  }
 },
 "nbformat": 4,
 "nbformat_minor": 0
}